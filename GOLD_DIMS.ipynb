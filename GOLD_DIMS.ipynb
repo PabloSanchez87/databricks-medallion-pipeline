{
 "cells": [
  {
   "cell_type": "code",
   "execution_count": 0,
   "metadata": {
    "application/vnd.databricks.v1+cell": {
     "cellMetadata": {
      "byteLimit": 2048000,
      "rowLimit": 10000
     },
     "inputWidgets": {},
     "nuid": "0e03b3a3-f7b3-4992-af7a-1d344a308412",
     "showTitle": false,
     "tableResultSettingsMap": {},
     "title": ""
    }
   },
   "outputs": [],
   "source": [
    "from pyspark.sql.functions import *\n",
    "from pyspark.sql.types import *\n",
    "from delta.tables import DeltaTable"
   ]
  },
  {
   "cell_type": "code",
   "execution_count": 0,
   "metadata": {
    "application/vnd.databricks.v1+cell": {
     "cellMetadata": {
      "byteLimit": 2048000,
      "implicitDf": true,
      "rowLimit": 10000
     },
     "collapsed": true,
     "inputWidgets": {},
     "nuid": "fed3a8cc-9dfe-4771-916c-bc829c94b4a8",
     "showTitle": false,
     "tableResultSettingsMap": {},
     "title": ""
    }
   },
   "outputs": [
    {
     "output_type": "display_data",
     "data": {
      "text/html": [
       "<style scoped>\n",
       "  .table-result-container {\n",
       "    max-height: 300px;\n",
       "    overflow: auto;\n",
       "  }\n",
       "  table, th, td {\n",
       "    border: 1px solid black;\n",
       "    border-collapse: collapse;\n",
       "  }\n",
       "  th, td {\n",
       "    padding: 5px;\n",
       "  }\n",
       "  th {\n",
       "    text-align: left;\n",
       "  }\n",
       "</style><div class='table-result-container'><table class='table-result'><thead style='background-color: white'><tr><th>flight_id</th><th>airline</th><th>origin</th><th>destination</th><th>flight_date</th><th>modifiedDate</th></tr></thead><tbody><tr><td>F0013</td><td>Air Canada</td><td>East Brian</td><td>Wayneton</td><td>2025-05-21</td><td>2025-07-15T16:41:08.917Z</td></tr><tr><td>F0014</td><td>Air Canada</td><td>Toddland</td><td>Gonzalezport</td><td>2025-05-28</td><td>2025-07-15T16:41:08.917Z</td></tr><tr><td>F0033</td><td>Air Canada</td><td>Sandersshire</td><td>Lake Joseside</td><td>2025-06-21</td><td>2025-07-15T16:41:08.917Z</td></tr><tr><td>F0052</td><td>Qatar Airways</td><td>Lake Richard</td><td>Brookston</td><td>2025-05-28</td><td>2025-07-15T16:41:08.917Z</td></tr><tr><td>F0069</td><td>Qatar Airways</td><td>Johnsonburgh</td><td>Woodmouth</td><td>2025-06-14</td><td>2025-07-15T16:41:08.917Z</td></tr><tr><td>F0083</td><td>Lufthansa</td><td>Jasonborough</td><td>Port Audreyville</td><td>2025-05-30</td><td>2025-07-15T16:41:08.917Z</td></tr><tr><td>F0005</td><td>Qatar Airways</td><td>Bennettside</td><td>New Mistyhaven</td><td>2025-06-13</td><td>2025-07-15T16:41:08.917Z</td></tr><tr><td>F0007</td><td>Delta</td><td>Berryport</td><td>Miguelburgh</td><td>2025-05-24</td><td>2025-07-15T16:41:08.917Z</td></tr><tr><td>F0015</td><td>Delta</td><td>West Ginaton</td><td>Youngmouth</td><td>2025-05-21</td><td>2025-07-15T16:41:08.917Z</td></tr><tr><td>F0017</td><td>Delta</td><td>Wallermouth</td><td>New Rogerberg</td><td>2025-05-04</td><td>2025-07-15T16:41:08.917Z</td></tr><tr><td>F0035</td><td>Lufthansa</td><td>Karenshire</td><td>North Anthonymouth</td><td>2025-05-21</td><td>2025-07-15T16:41:08.917Z</td></tr><tr><td>F0058</td><td>Delta</td><td>North Brittanyborough</td><td>West Kellystad</td><td>2025-06-10</td><td>2025-07-15T16:41:08.917Z</td></tr><tr><td>F0003</td><td>Lufthansa</td><td>East Patrickborough</td><td>North Mary</td><td>2025-05-11</td><td>2025-07-15T16:41:08.917Z</td></tr><tr><td>F0022</td><td>Air Canada</td><td>Reedchester</td><td>Cruzton</td><td>2025-04-27</td><td>2025-07-15T16:41:08.917Z</td></tr><tr><td>F0044</td><td>Qatar Airways</td><td>East Kaylaburgh</td><td>Lake Carolynchester</td><td>2025-06-01</td><td>2025-07-15T16:41:08.917Z</td></tr><tr><td>F0045</td><td>Emirates</td><td>North Michaelville</td><td>Russellton</td><td>2025-05-04</td><td>2025-07-15T16:41:08.917Z</td></tr><tr><td>F0081</td><td>Air Canada</td><td>North Barry</td><td>Josephborough</td><td>2025-04-24</td><td>2025-07-15T16:41:08.917Z</td></tr><tr><td>F0087</td><td>Emirates</td><td>Kellyland</td><td>New Jonathanmouth</td><td>2025-04-23</td><td>2025-07-15T16:41:08.917Z</td></tr><tr><td>F0004</td><td>Delta</td><td>Maddenshire</td><td>Johnchester</td><td>2025-05-16</td><td>2025-07-15T16:41:08.917Z</td></tr><tr><td>F0006</td><td>Air Canada</td><td>New Richardside</td><td>South Jamesborough</td><td>2025-05-16</td><td>2025-07-15T16:41:08.917Z</td></tr><tr><td>F0019</td><td>Lufthansa</td><td>Lake Scott</td><td>Christineborough</td><td>2025-05-18</td><td>2025-07-15T16:41:08.917Z</td></tr><tr><td>F0029</td><td>Qatar Airways</td><td>Shortberg</td><td>Julieburgh</td><td>2025-05-11</td><td>2025-07-15T16:41:08.917Z</td></tr><tr><td>F0031</td><td>Emirates</td><td>Billview</td><td>Jonathonborough</td><td>2025-06-14</td><td>2025-07-15T16:41:08.917Z</td></tr><tr><td>F0036</td><td>Lufthansa</td><td>Armstrongbury</td><td>North Natashamouth</td><td>2025-05-05</td><td>2025-07-15T16:41:08.917Z</td></tr><tr><td>F0043</td><td>Lufthansa</td><td>Kimberlyborough</td><td>New Annfort</td><td>2025-05-15</td><td>2025-07-15T16:41:08.917Z</td></tr><tr><td>F0055</td><td>Air Canada</td><td>Spencerborough</td><td>Randyville</td><td>2025-06-09</td><td>2025-07-15T16:41:08.917Z</td></tr><tr><td>F0061</td><td>Lufthansa</td><td>Dawnshire</td><td>Stevenmouth</td><td>2025-04-24</td><td>2025-07-15T16:41:08.917Z</td></tr><tr><td>F0091</td><td>Lufthansa</td><td>Lake Scott</td><td>Williamshire</td><td>2025-06-04</td><td>2025-07-15T16:41:08.917Z</td></tr><tr><td>F0093</td><td>Air Canada</td><td>Frenchside</td><td>West Christopher</td><td>2025-05-28</td><td>2025-07-15T16:41:08.917Z</td></tr><tr><td>F0016</td><td>Qatar Airways</td><td>Smithborough</td><td>Randallview</td><td>2025-05-02</td><td>2025-07-15T16:41:08.917Z</td></tr><tr><td>F0040</td><td>Delta</td><td>Ianport</td><td>Lake Reginaldside</td><td>2025-04-23</td><td>2025-07-15T16:41:08.917Z</td></tr><tr><td>F0071</td><td>Delta</td><td>Jefferyberg</td><td>Wendyshire</td><td>2025-06-17</td><td>2025-07-15T16:41:08.917Z</td></tr><tr><td>F0096</td><td>Lufthansa</td><td>Coreyfort</td><td>West Joseph</td><td>2025-06-06</td><td>2025-07-15T16:41:08.917Z</td></tr><tr><td>F0010</td><td>Emirates</td><td>Kruegerchester</td><td>Martintown</td><td>2025-05-20</td><td>2025-07-15T16:41:08.917Z</td></tr><tr><td>F0037</td><td>Air Canada</td><td>Yangville</td><td>Jacksonview</td><td>2025-04-29</td><td>2025-07-15T16:41:08.917Z</td></tr><tr><td>F0073</td><td>Lufthansa</td><td>South Jasonville</td><td>Clarkeshire</td><td>2025-06-09</td><td>2025-07-15T16:41:08.917Z</td></tr><tr><td>F0097</td><td>Emirates</td><td>Billyport</td><td>Brentton</td><td>2025-05-18</td><td>2025-07-15T16:41:08.917Z</td></tr><tr><td>F0023</td><td>Lufthansa</td><td>Port Jeremyfurt</td><td>Lake Walterside</td><td>2025-05-11</td><td>2025-07-15T16:41:08.917Z</td></tr><tr><td>F0024</td><td>Lufthansa</td><td>Leestad</td><td>Port Debra</td><td>2025-05-09</td><td>2025-07-15T16:41:08.917Z</td></tr><tr><td>F0032</td><td>Emirates</td><td>Bushhaven</td><td>Patriciamouth</td><td>2025-05-22</td><td>2025-07-15T16:41:08.917Z</td></tr><tr><td>F0053</td><td>Qatar Airways</td><td>West Dylanbury</td><td>North Wendy</td><td>2025-05-24</td><td>2025-07-15T16:41:08.917Z</td></tr><tr><td>F0057</td><td>Air Canada</td><td>Samanthashire</td><td>Fisherstad</td><td>2025-06-09</td><td>2025-07-15T16:41:08.917Z</td></tr><tr><td>F0094</td><td>Emirates</td><td>South Amyfurt</td><td>Jimenezview</td><td>2025-06-14</td><td>2025-07-15T16:41:08.917Z</td></tr><tr><td>F0012</td><td>Air Canada</td><td>New Hunter</td><td>East Maria</td><td>2025-04-23</td><td>2025-07-15T16:41:08.917Z</td></tr><tr><td>F0038</td><td>Delta</td><td>Port Nicole</td><td>South Corey</td><td>2025-05-22</td><td>2025-07-15T16:41:08.917Z</td></tr><tr><td>F0067</td><td>Delta</td><td>Campbellborough</td><td>South Jason</td><td>2025-05-13</td><td>2025-07-15T16:41:08.917Z</td></tr><tr><td>F0068</td><td>Qatar Airways</td><td>Lake Seanport</td><td>Fieldsstad</td><td>2025-06-17</td><td>2025-07-15T16:41:08.917Z</td></tr><tr><td>F0075</td><td>Qatar Airways</td><td>New Danielhaven</td><td>Cunninghamfurt</td><td>2025-04-27</td><td>2025-07-15T16:41:08.917Z</td></tr><tr><td>F0084</td><td>Delta</td><td>Franklinmouth</td><td>Lake Joseph</td><td>2025-05-30</td><td>2025-07-15T16:41:08.917Z</td></tr><tr><td>F0046</td><td>Qatar Airways</td><td>West David</td><td>North Becky</td><td>2025-04-30</td><td>2025-07-15T16:41:08.917Z</td></tr><tr><td>F0077</td><td>Qatar Airways</td><td>Samuelfort</td><td>Port Ashley</td><td>2025-06-12</td><td>2025-07-15T16:41:08.917Z</td></tr><tr><td>F0021</td><td>Emirates</td><td>South Sara</td><td>North Annaport</td><td>2025-05-29</td><td>2025-07-15T16:41:08.917Z</td></tr><tr><td>F0030</td><td>Delta</td><td>Angelamouth</td><td>Sosaside</td><td>2025-06-16</td><td>2025-07-15T16:41:08.917Z</td></tr><tr><td>F0039</td><td>Air Canada</td><td>Paultown</td><td>Kellyton</td><td>2025-05-19</td><td>2025-07-15T16:41:08.917Z</td></tr><tr><td>F0047</td><td>Lufthansa</td><td>New Cory</td><td>Lorettashire</td><td>2025-05-05</td><td>2025-07-15T16:41:08.917Z</td></tr><tr><td>F0090</td><td>Delta</td><td>East Rachelport</td><td>Davisport</td><td>2025-05-23</td><td>2025-07-15T16:41:08.917Z</td></tr><tr><td>F0026</td><td>Air Canada</td><td>New Deborahfort</td><td>New Sabrina</td><td>2025-05-10</td><td>2025-07-15T16:41:08.917Z</td></tr><tr><td>F0059</td><td>Lufthansa</td><td>South Jeffrey</td><td>Jamesland</td><td>2025-05-10</td><td>2025-07-15T16:41:08.917Z</td></tr><tr><td>F0089</td><td>Qatar Airways</td><td>Robinsonberg</td><td>Adrianchester</td><td>2025-05-21</td><td>2025-07-15T16:41:08.917Z</td></tr><tr><td>F0092</td><td>Lufthansa</td><td>Austinborough</td><td>Bautistafort</td><td>2025-05-29</td><td>2025-07-15T16:41:08.917Z</td></tr><tr><td>F0001</td><td>Delta</td><td>Kellyfort</td><td>South Kathleen</td><td>2025-05-04</td><td>2025-07-15T16:41:08.917Z</td></tr><tr><td>F0018</td><td>Air Canada</td><td>Schultzborough</td><td>Danielton</td><td>2025-06-01</td><td>2025-07-15T16:41:08.917Z</td></tr><tr><td>F0042</td><td>Air Canada</td><td>Port William</td><td>Darrenmouth</td><td>2025-05-11</td><td>2025-07-15T16:41:08.917Z</td></tr><tr><td>F0049</td><td>Emirates</td><td>New Elizabethmouth</td><td>Lake Heathermouth</td><td>2025-05-06</td><td>2025-07-15T16:41:08.917Z</td></tr><tr><td>F0050</td><td>Air Canada</td><td>East Gailtown</td><td>Stevenville</td><td>2025-04-28</td><td>2025-07-15T16:41:08.917Z</td></tr><tr><td>F0051</td><td>Qatar Airways</td><td>Lisafurt</td><td>New Robert</td><td>2025-05-07</td><td>2025-07-15T16:41:08.917Z</td></tr><tr><td>F0060</td><td>Air Canada</td><td>Port Angelicaborough</td><td>East Daniel</td><td>2025-05-21</td><td>2025-07-15T16:41:08.917Z</td></tr><tr><td>F0062</td><td>Lufthansa</td><td>East Samanthafurt</td><td>Lake Troy</td><td>2025-05-12</td><td>2025-07-15T16:41:08.917Z</td></tr><tr><td>F0064</td><td>Delta</td><td>East Joshuastad</td><td>North Austinland</td><td>2025-05-25</td><td>2025-07-15T16:41:08.917Z</td></tr><tr><td>F0066</td><td>Qatar Airways</td><td>Stephenberg</td><td>Marcborough</td><td>2025-06-04</td><td>2025-07-15T16:41:08.917Z</td></tr><tr><td>F0070</td><td>Air Canada</td><td>Glennhaven</td><td>Port Darrenchester</td><td>2025-05-04</td><td>2025-07-15T16:41:08.917Z</td></tr><tr><td>F0100</td><td>Qatar Airways</td><td>Port Anthony</td><td>Thompsonfort</td><td>2025-05-31</td><td>2025-07-15T16:41:08.917Z</td></tr><tr><td>F0020</td><td>Lufthansa</td><td>North Jack</td><td>Loweville</td><td>2025-06-02</td><td>2025-07-15T16:41:08.917Z</td></tr><tr><td>F0048</td><td>Lufthansa</td><td>Cooperview</td><td>Michelleburgh</td><td>2025-05-24</td><td>2025-07-15T16:41:08.917Z</td></tr><tr><td>F0078</td><td>Qatar Airways</td><td>Howardbury</td><td>Burchburgh</td><td>2025-05-09</td><td>2025-07-15T16:41:08.917Z</td></tr><tr><td>F0082</td><td>Qatar Airways</td><td>North Erikamouth</td><td>Danielfort</td><td>2025-05-19</td><td>2025-07-15T16:41:08.917Z</td></tr><tr><td>F0099</td><td>Air Canada</td><td>Lake Connor</td><td>Matthewberg</td><td>2025-04-28</td><td>2025-07-15T16:41:08.917Z</td></tr><tr><td>F0034</td><td>Emirates</td><td>Johnsonville</td><td>Cooperland</td><td>2025-05-18</td><td>2025-07-15T16:41:08.917Z</td></tr><tr><td>F0063</td><td>Lufthansa</td><td>Floresshire</td><td>New Anita</td><td>2025-06-03</td><td>2025-07-15T16:41:08.917Z</td></tr><tr><td>F0076</td><td>Lufthansa</td><td>Johnsonchester</td><td>New Michael</td><td>2025-05-14</td><td>2025-07-15T16:41:08.917Z</td></tr><tr><td>F0079</td><td>Delta</td><td>Jonesburgh</td><td>Andradeville</td><td>2025-06-17</td><td>2025-07-15T16:41:08.917Z</td></tr><tr><td>F0080</td><td>Emirates</td><td>Sonyaberg</td><td>East Sarah</td><td>2025-06-13</td><td>2025-07-15T16:41:08.917Z</td></tr><tr><td>F0085</td><td>Lufthansa</td><td>Hillton</td><td>Castroborough</td><td>2025-05-19</td><td>2025-07-15T16:41:08.917Z</td></tr><tr><td>F0095</td><td>Qatar Airways</td><td>North Dawnberg</td><td>East Sarahmouth</td><td>2025-05-26</td><td>2025-07-15T16:41:08.917Z</td></tr><tr><td>F0002</td><td>Qatar Airways</td><td>Lake Stephen</td><td>New Vincent</td><td>2025-04-29</td><td>2025-07-15T16:41:08.917Z</td></tr><tr><td>F0027</td><td>Delta</td><td>Acevedoville</td><td>Ericchester</td><td>2025-05-14</td><td>2025-07-15T16:41:08.917Z</td></tr><tr><td>F0028</td><td>Delta</td><td>South Michaelberg</td><td>South Markbury</td><td>2025-05-30</td><td>2025-07-15T16:41:08.917Z</td></tr><tr><td>F0056</td><td>Lufthansa</td><td>South Natalie</td><td>Schaefertown</td><td>2025-05-03</td><td>2025-07-15T16:41:08.917Z</td></tr><tr><td>F0086</td><td>Delta</td><td>Port Chelsea</td><td>Robertchester</td><td>2025-05-08</td><td>2025-07-15T16:41:08.917Z</td></tr><tr><td>F0098</td><td>Air Canada</td><td>Wallerburgh</td><td>Lake Karen</td><td>2025-05-01</td><td>2025-07-15T16:41:08.917Z</td></tr><tr><td>F0008</td><td>Lufthansa</td><td>Briannachester</td><td>Cervantesland</td><td>2025-05-26</td><td>2025-07-15T16:41:08.917Z</td></tr><tr><td>F0009</td><td>Delta</td><td>Alexandraborough</td><td>North Alexishaven</td><td>2025-06-10</td><td>2025-07-15T16:41:08.917Z</td></tr><tr><td>F0011</td><td>Lufthansa</td><td>Port Joannahaven</td><td>North Jasonton</td><td>2025-05-30</td><td>2025-07-15T16:41:08.917Z</td></tr><tr><td>F0025</td><td>Qatar Airways</td><td>Chelseaberg</td><td>North Michaelshire</td><td>2025-06-01</td><td>2025-07-15T16:41:08.917Z</td></tr><tr><td>F0041</td><td>Air Canada</td><td>Lake Stanleyside</td><td>Port Scott</td><td>2025-06-14</td><td>2025-07-15T16:41:08.917Z</td></tr><tr><td>F0054</td><td>Air Canada</td><td>Seanmouth</td><td>North Kathyton</td><td>2025-05-09</td><td>2025-07-15T16:41:08.917Z</td></tr><tr><td>F0065</td><td>Emirates</td><td>East Paulland</td><td>Barnesberg</td><td>2025-04-29</td><td>2025-07-15T16:41:08.917Z</td></tr><tr><td>F0072</td><td>Emirates</td><td>Heiditown</td><td>Port Sabrinaburgh</td><td>2025-05-22</td><td>2025-07-15T16:41:08.917Z</td></tr><tr><td>F0074</td><td>Air Canada</td><td>Duffyville</td><td>Port Vanessa</td><td>2025-05-28</td><td>2025-07-15T16:41:08.917Z</td></tr><tr><td>F0088</td><td>Qatar Airways</td><td>North Miguel</td><td>Lake Allisonfurt</td><td>2025-05-28</td><td>2025-07-15T16:41:08.917Z</td></tr><tr><td>F0107</td><td>Air Canada</td><td>Mitchelltown</td><td>Johnsonbury</td><td>2025-07-01</td><td>2025-07-15T16:41:08.917Z</td></tr><tr><td>F0103</td><td>Qatar Airways</td><td>Jameschester</td><td>Ashleyberg</td><td>2025-07-15</td><td>2025-07-15T16:41:08.917Z</td></tr><tr><td>F0102</td><td>Delta</td><td>Schroederbury</td><td>Sethfort</td><td>2025-06-25</td><td>2025-07-15T16:41:08.917Z</td></tr><tr><td>F0109</td><td>Air Canada</td><td>Williamsland</td><td>South Carolberg</td><td>2025-06-14</td><td>2025-07-15T16:41:08.917Z</td></tr><tr><td>F0108</td><td>Lufthansa</td><td>New Jennifer</td><td>Lake Tracie</td><td>2025-06-28</td><td>2025-07-15T16:41:08.917Z</td></tr><tr><td>F0101</td><td>Qatar Airways</td><td>Lake Joshuamouth</td><td>Johnshire</td><td>2025-07-14</td><td>2025-07-15T16:41:08.917Z</td></tr><tr><td>F0104</td><td>Qatar Airways</td><td>Huangstad</td><td>Catherinehaven</td><td>2025-06-29</td><td>2025-07-15T16:41:08.917Z</td></tr><tr><td>F0105</td><td>Air Canada</td><td>Aprilton</td><td>Victorville</td><td>2025-07-05</td><td>2025-07-15T16:41:08.917Z</td></tr><tr><td>F0106</td><td>Lufthansa</td><td>East Austinmouth</td><td>New Toddburgh</td><td>2025-06-22</td><td>2025-07-15T16:41:08.917Z</td></tr><tr><td>F0110</td><td>Emirates</td><td>Churchport</td><td>Wrightton</td><td>2025-07-15</td><td>2025-07-15T16:41:08.917Z</td></tr></tbody></table></div>"
      ]
     },
     "metadata": {
      "application/vnd.databricks.v1+output": {
       "addedWidgets": {},
       "aggData": [],
       "aggError": "",
       "aggOverflow": false,
       "aggSchema": [],
       "aggSeriesLimitReached": false,
       "aggType": "",
       "arguments": {},
       "columnCustomDisplayInfos": {},
       "data": [
        [
         "F0013",
         "Air Canada",
         "East Brian",
         "Wayneton",
         "2025-05-21",
         "2025-07-15T16:41:08.917Z"
        ],
        [
         "F0014",
         "Air Canada",
         "Toddland",
         "Gonzalezport",
         "2025-05-28",
         "2025-07-15T16:41:08.917Z"
        ],
        [
         "F0033",
         "Air Canada",
         "Sandersshire",
         "Lake Joseside",
         "2025-06-21",
         "2025-07-15T16:41:08.917Z"
        ],
        [
         "F0052",
         "Qatar Airways",
         "Lake Richard",
         "Brookston",
         "2025-05-28",
         "2025-07-15T16:41:08.917Z"
        ],
        [
         "F0069",
         "Qatar Airways",
         "Johnsonburgh",
         "Woodmouth",
         "2025-06-14",
         "2025-07-15T16:41:08.917Z"
        ],
        [
         "F0083",
         "Lufthansa",
         "Jasonborough",
         "Port Audreyville",
         "2025-05-30",
         "2025-07-15T16:41:08.917Z"
        ],
        [
         "F0005",
         "Qatar Airways",
         "Bennettside",
         "New Mistyhaven",
         "2025-06-13",
         "2025-07-15T16:41:08.917Z"
        ],
        [
         "F0007",
         "Delta",
         "Berryport",
         "Miguelburgh",
         "2025-05-24",
         "2025-07-15T16:41:08.917Z"
        ],
        [
         "F0015",
         "Delta",
         "West Ginaton",
         "Youngmouth",
         "2025-05-21",
         "2025-07-15T16:41:08.917Z"
        ],
        [
         "F0017",
         "Delta",
         "Wallermouth",
         "New Rogerberg",
         "2025-05-04",
         "2025-07-15T16:41:08.917Z"
        ],
        [
         "F0035",
         "Lufthansa",
         "Karenshire",
         "North Anthonymouth",
         "2025-05-21",
         "2025-07-15T16:41:08.917Z"
        ],
        [
         "F0058",
         "Delta",
         "North Brittanyborough",
         "West Kellystad",
         "2025-06-10",
         "2025-07-15T16:41:08.917Z"
        ],
        [
         "F0003",
         "Lufthansa",
         "East Patrickborough",
         "North Mary",
         "2025-05-11",
         "2025-07-15T16:41:08.917Z"
        ],
        [
         "F0022",
         "Air Canada",
         "Reedchester",
         "Cruzton",
         "2025-04-27",
         "2025-07-15T16:41:08.917Z"
        ],
        [
         "F0044",
         "Qatar Airways",
         "East Kaylaburgh",
         "Lake Carolynchester",
         "2025-06-01",
         "2025-07-15T16:41:08.917Z"
        ],
        [
         "F0045",
         "Emirates",
         "North Michaelville",
         "Russellton",
         "2025-05-04",
         "2025-07-15T16:41:08.917Z"
        ],
        [
         "F0081",
         "Air Canada",
         "North Barry",
         "Josephborough",
         "2025-04-24",
         "2025-07-15T16:41:08.917Z"
        ],
        [
         "F0087",
         "Emirates",
         "Kellyland",
         "New Jonathanmouth",
         "2025-04-23",
         "2025-07-15T16:41:08.917Z"
        ],
        [
         "F0004",
         "Delta",
         "Maddenshire",
         "Johnchester",
         "2025-05-16",
         "2025-07-15T16:41:08.917Z"
        ],
        [
         "F0006",
         "Air Canada",
         "New Richardside",
         "South Jamesborough",
         "2025-05-16",
         "2025-07-15T16:41:08.917Z"
        ],
        [
         "F0019",
         "Lufthansa",
         "Lake Scott",
         "Christineborough",
         "2025-05-18",
         "2025-07-15T16:41:08.917Z"
        ],
        [
         "F0029",
         "Qatar Airways",
         "Shortberg",
         "Julieburgh",
         "2025-05-11",
         "2025-07-15T16:41:08.917Z"
        ],
        [
         "F0031",
         "Emirates",
         "Billview",
         "Jonathonborough",
         "2025-06-14",
         "2025-07-15T16:41:08.917Z"
        ],
        [
         "F0036",
         "Lufthansa",
         "Armstrongbury",
         "North Natashamouth",
         "2025-05-05",
         "2025-07-15T16:41:08.917Z"
        ],
        [
         "F0043",
         "Lufthansa",
         "Kimberlyborough",
         "New Annfort",
         "2025-05-15",
         "2025-07-15T16:41:08.917Z"
        ],
        [
         "F0055",
         "Air Canada",
         "Spencerborough",
         "Randyville",
         "2025-06-09",
         "2025-07-15T16:41:08.917Z"
        ],
        [
         "F0061",
         "Lufthansa",
         "Dawnshire",
         "Stevenmouth",
         "2025-04-24",
         "2025-07-15T16:41:08.917Z"
        ],
        [
         "F0091",
         "Lufthansa",
         "Lake Scott",
         "Williamshire",
         "2025-06-04",
         "2025-07-15T16:41:08.917Z"
        ],
        [
         "F0093",
         "Air Canada",
         "Frenchside",
         "West Christopher",
         "2025-05-28",
         "2025-07-15T16:41:08.917Z"
        ],
        [
         "F0016",
         "Qatar Airways",
         "Smithborough",
         "Randallview",
         "2025-05-02",
         "2025-07-15T16:41:08.917Z"
        ],
        [
         "F0040",
         "Delta",
         "Ianport",
         "Lake Reginaldside",
         "2025-04-23",
         "2025-07-15T16:41:08.917Z"
        ],
        [
         "F0071",
         "Delta",
         "Jefferyberg",
         "Wendyshire",
         "2025-06-17",
         "2025-07-15T16:41:08.917Z"
        ],
        [
         "F0096",
         "Lufthansa",
         "Coreyfort",
         "West Joseph",
         "2025-06-06",
         "2025-07-15T16:41:08.917Z"
        ],
        [
         "F0010",
         "Emirates",
         "Kruegerchester",
         "Martintown",
         "2025-05-20",
         "2025-07-15T16:41:08.917Z"
        ],
        [
         "F0037",
         "Air Canada",
         "Yangville",
         "Jacksonview",
         "2025-04-29",
         "2025-07-15T16:41:08.917Z"
        ],
        [
         "F0073",
         "Lufthansa",
         "South Jasonville",
         "Clarkeshire",
         "2025-06-09",
         "2025-07-15T16:41:08.917Z"
        ],
        [
         "F0097",
         "Emirates",
         "Billyport",
         "Brentton",
         "2025-05-18",
         "2025-07-15T16:41:08.917Z"
        ],
        [
         "F0023",
         "Lufthansa",
         "Port Jeremyfurt",
         "Lake Walterside",
         "2025-05-11",
         "2025-07-15T16:41:08.917Z"
        ],
        [
         "F0024",
         "Lufthansa",
         "Leestad",
         "Port Debra",
         "2025-05-09",
         "2025-07-15T16:41:08.917Z"
        ],
        [
         "F0032",
         "Emirates",
         "Bushhaven",
         "Patriciamouth",
         "2025-05-22",
         "2025-07-15T16:41:08.917Z"
        ],
        [
         "F0053",
         "Qatar Airways",
         "West Dylanbury",
         "North Wendy",
         "2025-05-24",
         "2025-07-15T16:41:08.917Z"
        ],
        [
         "F0057",
         "Air Canada",
         "Samanthashire",
         "Fisherstad",
         "2025-06-09",
         "2025-07-15T16:41:08.917Z"
        ],
        [
         "F0094",
         "Emirates",
         "South Amyfurt",
         "Jimenezview",
         "2025-06-14",
         "2025-07-15T16:41:08.917Z"
        ],
        [
         "F0012",
         "Air Canada",
         "New Hunter",
         "East Maria",
         "2025-04-23",
         "2025-07-15T16:41:08.917Z"
        ],
        [
         "F0038",
         "Delta",
         "Port Nicole",
         "South Corey",
         "2025-05-22",
         "2025-07-15T16:41:08.917Z"
        ],
        [
         "F0067",
         "Delta",
         "Campbellborough",
         "South Jason",
         "2025-05-13",
         "2025-07-15T16:41:08.917Z"
        ],
        [
         "F0068",
         "Qatar Airways",
         "Lake Seanport",
         "Fieldsstad",
         "2025-06-17",
         "2025-07-15T16:41:08.917Z"
        ],
        [
         "F0075",
         "Qatar Airways",
         "New Danielhaven",
         "Cunninghamfurt",
         "2025-04-27",
         "2025-07-15T16:41:08.917Z"
        ],
        [
         "F0084",
         "Delta",
         "Franklinmouth",
         "Lake Joseph",
         "2025-05-30",
         "2025-07-15T16:41:08.917Z"
        ],
        [
         "F0046",
         "Qatar Airways",
         "West David",
         "North Becky",
         "2025-04-30",
         "2025-07-15T16:41:08.917Z"
        ],
        [
         "F0077",
         "Qatar Airways",
         "Samuelfort",
         "Port Ashley",
         "2025-06-12",
         "2025-07-15T16:41:08.917Z"
        ],
        [
         "F0021",
         "Emirates",
         "South Sara",
         "North Annaport",
         "2025-05-29",
         "2025-07-15T16:41:08.917Z"
        ],
        [
         "F0030",
         "Delta",
         "Angelamouth",
         "Sosaside",
         "2025-06-16",
         "2025-07-15T16:41:08.917Z"
        ],
        [
         "F0039",
         "Air Canada",
         "Paultown",
         "Kellyton",
         "2025-05-19",
         "2025-07-15T16:41:08.917Z"
        ],
        [
         "F0047",
         "Lufthansa",
         "New Cory",
         "Lorettashire",
         "2025-05-05",
         "2025-07-15T16:41:08.917Z"
        ],
        [
         "F0090",
         "Delta",
         "East Rachelport",
         "Davisport",
         "2025-05-23",
         "2025-07-15T16:41:08.917Z"
        ],
        [
         "F0026",
         "Air Canada",
         "New Deborahfort",
         "New Sabrina",
         "2025-05-10",
         "2025-07-15T16:41:08.917Z"
        ],
        [
         "F0059",
         "Lufthansa",
         "South Jeffrey",
         "Jamesland",
         "2025-05-10",
         "2025-07-15T16:41:08.917Z"
        ],
        [
         "F0089",
         "Qatar Airways",
         "Robinsonberg",
         "Adrianchester",
         "2025-05-21",
         "2025-07-15T16:41:08.917Z"
        ],
        [
         "F0092",
         "Lufthansa",
         "Austinborough",
         "Bautistafort",
         "2025-05-29",
         "2025-07-15T16:41:08.917Z"
        ],
        [
         "F0001",
         "Delta",
         "Kellyfort",
         "South Kathleen",
         "2025-05-04",
         "2025-07-15T16:41:08.917Z"
        ],
        [
         "F0018",
         "Air Canada",
         "Schultzborough",
         "Danielton",
         "2025-06-01",
         "2025-07-15T16:41:08.917Z"
        ],
        [
         "F0042",
         "Air Canada",
         "Port William",
         "Darrenmouth",
         "2025-05-11",
         "2025-07-15T16:41:08.917Z"
        ],
        [
         "F0049",
         "Emirates",
         "New Elizabethmouth",
         "Lake Heathermouth",
         "2025-05-06",
         "2025-07-15T16:41:08.917Z"
        ],
        [
         "F0050",
         "Air Canada",
         "East Gailtown",
         "Stevenville",
         "2025-04-28",
         "2025-07-15T16:41:08.917Z"
        ],
        [
         "F0051",
         "Qatar Airways",
         "Lisafurt",
         "New Robert",
         "2025-05-07",
         "2025-07-15T16:41:08.917Z"
        ],
        [
         "F0060",
         "Air Canada",
         "Port Angelicaborough",
         "East Daniel",
         "2025-05-21",
         "2025-07-15T16:41:08.917Z"
        ],
        [
         "F0062",
         "Lufthansa",
         "East Samanthafurt",
         "Lake Troy",
         "2025-05-12",
         "2025-07-15T16:41:08.917Z"
        ],
        [
         "F0064",
         "Delta",
         "East Joshuastad",
         "North Austinland",
         "2025-05-25",
         "2025-07-15T16:41:08.917Z"
        ],
        [
         "F0066",
         "Qatar Airways",
         "Stephenberg",
         "Marcborough",
         "2025-06-04",
         "2025-07-15T16:41:08.917Z"
        ],
        [
         "F0070",
         "Air Canada",
         "Glennhaven",
         "Port Darrenchester",
         "2025-05-04",
         "2025-07-15T16:41:08.917Z"
        ],
        [
         "F0100",
         "Qatar Airways",
         "Port Anthony",
         "Thompsonfort",
         "2025-05-31",
         "2025-07-15T16:41:08.917Z"
        ],
        [
         "F0020",
         "Lufthansa",
         "North Jack",
         "Loweville",
         "2025-06-02",
         "2025-07-15T16:41:08.917Z"
        ],
        [
         "F0048",
         "Lufthansa",
         "Cooperview",
         "Michelleburgh",
         "2025-05-24",
         "2025-07-15T16:41:08.917Z"
        ],
        [
         "F0078",
         "Qatar Airways",
         "Howardbury",
         "Burchburgh",
         "2025-05-09",
         "2025-07-15T16:41:08.917Z"
        ],
        [
         "F0082",
         "Qatar Airways",
         "North Erikamouth",
         "Danielfort",
         "2025-05-19",
         "2025-07-15T16:41:08.917Z"
        ],
        [
         "F0099",
         "Air Canada",
         "Lake Connor",
         "Matthewberg",
         "2025-04-28",
         "2025-07-15T16:41:08.917Z"
        ],
        [
         "F0034",
         "Emirates",
         "Johnsonville",
         "Cooperland",
         "2025-05-18",
         "2025-07-15T16:41:08.917Z"
        ],
        [
         "F0063",
         "Lufthansa",
         "Floresshire",
         "New Anita",
         "2025-06-03",
         "2025-07-15T16:41:08.917Z"
        ],
        [
         "F0076",
         "Lufthansa",
         "Johnsonchester",
         "New Michael",
         "2025-05-14",
         "2025-07-15T16:41:08.917Z"
        ],
        [
         "F0079",
         "Delta",
         "Jonesburgh",
         "Andradeville",
         "2025-06-17",
         "2025-07-15T16:41:08.917Z"
        ],
        [
         "F0080",
         "Emirates",
         "Sonyaberg",
         "East Sarah",
         "2025-06-13",
         "2025-07-15T16:41:08.917Z"
        ],
        [
         "F0085",
         "Lufthansa",
         "Hillton",
         "Castroborough",
         "2025-05-19",
         "2025-07-15T16:41:08.917Z"
        ],
        [
         "F0095",
         "Qatar Airways",
         "North Dawnberg",
         "East Sarahmouth",
         "2025-05-26",
         "2025-07-15T16:41:08.917Z"
        ],
        [
         "F0002",
         "Qatar Airways",
         "Lake Stephen",
         "New Vincent",
         "2025-04-29",
         "2025-07-15T16:41:08.917Z"
        ],
        [
         "F0027",
         "Delta",
         "Acevedoville",
         "Ericchester",
         "2025-05-14",
         "2025-07-15T16:41:08.917Z"
        ],
        [
         "F0028",
         "Delta",
         "South Michaelberg",
         "South Markbury",
         "2025-05-30",
         "2025-07-15T16:41:08.917Z"
        ],
        [
         "F0056",
         "Lufthansa",
         "South Natalie",
         "Schaefertown",
         "2025-05-03",
         "2025-07-15T16:41:08.917Z"
        ],
        [
         "F0086",
         "Delta",
         "Port Chelsea",
         "Robertchester",
         "2025-05-08",
         "2025-07-15T16:41:08.917Z"
        ],
        [
         "F0098",
         "Air Canada",
         "Wallerburgh",
         "Lake Karen",
         "2025-05-01",
         "2025-07-15T16:41:08.917Z"
        ],
        [
         "F0008",
         "Lufthansa",
         "Briannachester",
         "Cervantesland",
         "2025-05-26",
         "2025-07-15T16:41:08.917Z"
        ],
        [
         "F0009",
         "Delta",
         "Alexandraborough",
         "North Alexishaven",
         "2025-06-10",
         "2025-07-15T16:41:08.917Z"
        ],
        [
         "F0011",
         "Lufthansa",
         "Port Joannahaven",
         "North Jasonton",
         "2025-05-30",
         "2025-07-15T16:41:08.917Z"
        ],
        [
         "F0025",
         "Qatar Airways",
         "Chelseaberg",
         "North Michaelshire",
         "2025-06-01",
         "2025-07-15T16:41:08.917Z"
        ],
        [
         "F0041",
         "Air Canada",
         "Lake Stanleyside",
         "Port Scott",
         "2025-06-14",
         "2025-07-15T16:41:08.917Z"
        ],
        [
         "F0054",
         "Air Canada",
         "Seanmouth",
         "North Kathyton",
         "2025-05-09",
         "2025-07-15T16:41:08.917Z"
        ],
        [
         "F0065",
         "Emirates",
         "East Paulland",
         "Barnesberg",
         "2025-04-29",
         "2025-07-15T16:41:08.917Z"
        ],
        [
         "F0072",
         "Emirates",
         "Heiditown",
         "Port Sabrinaburgh",
         "2025-05-22",
         "2025-07-15T16:41:08.917Z"
        ],
        [
         "F0074",
         "Air Canada",
         "Duffyville",
         "Port Vanessa",
         "2025-05-28",
         "2025-07-15T16:41:08.917Z"
        ],
        [
         "F0088",
         "Qatar Airways",
         "North Miguel",
         "Lake Allisonfurt",
         "2025-05-28",
         "2025-07-15T16:41:08.917Z"
        ],
        [
         "F0107",
         "Air Canada",
         "Mitchelltown",
         "Johnsonbury",
         "2025-07-01",
         "2025-07-15T16:41:08.917Z"
        ],
        [
         "F0103",
         "Qatar Airways",
         "Jameschester",
         "Ashleyberg",
         "2025-07-15",
         "2025-07-15T16:41:08.917Z"
        ],
        [
         "F0102",
         "Delta",
         "Schroederbury",
         "Sethfort",
         "2025-06-25",
         "2025-07-15T16:41:08.917Z"
        ],
        [
         "F0109",
         "Air Canada",
         "Williamsland",
         "South Carolberg",
         "2025-06-14",
         "2025-07-15T16:41:08.917Z"
        ],
        [
         "F0108",
         "Lufthansa",
         "New Jennifer",
         "Lake Tracie",
         "2025-06-28",
         "2025-07-15T16:41:08.917Z"
        ],
        [
         "F0101",
         "Qatar Airways",
         "Lake Joshuamouth",
         "Johnshire",
         "2025-07-14",
         "2025-07-15T16:41:08.917Z"
        ],
        [
         "F0104",
         "Qatar Airways",
         "Huangstad",
         "Catherinehaven",
         "2025-06-29",
         "2025-07-15T16:41:08.917Z"
        ],
        [
         "F0105",
         "Air Canada",
         "Aprilton",
         "Victorville",
         "2025-07-05",
         "2025-07-15T16:41:08.917Z"
        ],
        [
         "F0106",
         "Lufthansa",
         "East Austinmouth",
         "New Toddburgh",
         "2025-06-22",
         "2025-07-15T16:41:08.917Z"
        ],
        [
         "F0110",
         "Emirates",
         "Churchport",
         "Wrightton",
         "2025-07-15",
         "2025-07-15T16:41:08.917Z"
        ]
       ],
       "datasetInfos": [
        {
         "name": "_sqldf",
         "schema": {
          "fields": [
           {
            "metadata": {},
            "name": "flight_id",
            "nullable": true,
            "type": "string"
           },
           {
            "metadata": {},
            "name": "airline",
            "nullable": true,
            "type": "string"
           },
           {
            "metadata": {},
            "name": "origin",
            "nullable": true,
            "type": "string"
           },
           {
            "metadata": {},
            "name": "destination",
            "nullable": true,
            "type": "string"
           },
           {
            "metadata": {},
            "name": "flight_date",
            "nullable": true,
            "type": "date"
           },
           {
            "metadata": {},
            "name": "modifiedDate",
            "nullable": true,
            "type": "timestamp"
           }
          ],
          "type": "struct"
         },
         "tableIdentifier": null,
         "typeStr": "pyspark.sql.connect.dataframe.DataFrame"
        }
       ],
       "dbfsResultPath": null,
       "isJsonSchema": true,
       "metadata": {
        "createTempViewForImplicitDf": true,
        "dataframeName": "_sqldf",
        "executionCount": 37
       },
       "overflow": false,
       "plotOptions": {
        "customPlotOptions": {},
        "displayType": "table",
        "pivotAggregation": null,
        "pivotColumns": null,
        "xColumns": null,
        "yColumns": null
       },
       "removedWidgets": [],
       "schema": [
        {
         "metadata": "{}",
         "name": "flight_id",
         "type": "\"string\""
        },
        {
         "metadata": "{}",
         "name": "airline",
         "type": "\"string\""
        },
        {
         "metadata": "{}",
         "name": "origin",
         "type": "\"string\""
        },
        {
         "metadata": "{}",
         "name": "destination",
         "type": "\"string\""
        },
        {
         "metadata": "{}",
         "name": "flight_date",
         "type": "\"date\""
        },
        {
         "metadata": "{}",
         "name": "modifiedDate",
         "type": "\"timestamp\""
        }
       ],
       "type": "table"
      }
     },
     "output_type": "display_data"
    }
   ],
   "source": [
    "%sql\n",
    "SELECT * FROM workspace.silver.silver_flights"
   ]
  },
  {
   "cell_type": "markdown",
   "metadata": {
    "application/vnd.databricks.v1+cell": {
     "cellMetadata": {
      "byteLimit": 2048000,
      "rowLimit": 10000
     },
     "inputWidgets": {},
     "nuid": "a5996fd1-2cae-4f2e-9fd7-28ddb63bda1a",
     "showTitle": false,
     "tableResultSettingsMap": {},
     "title": ""
    }
   },
   "source": [
    "### Parameters"
   ]
  },
  {
   "cell_type": "code",
   "execution_count": 0,
   "metadata": {
    "application/vnd.databricks.v1+cell": {
     "cellMetadata": {
      "byteLimit": 2048000,
      "rowLimit": 10000
     },
     "collapsed": true,
     "inputWidgets": {},
     "nuid": "1db6b0a3-89d2-4614-9d43-efd92dd78a75",
     "showTitle": false,
     "tableResultSettingsMap": {},
     "title": ""
    }
   },
   "outputs": [],
   "source": [
    "# ### Parameters to Flights\n",
    "\n",
    "# # Catalog name\n",
    "# catalog = \"workspace\"\n",
    "\n",
    "# # Key Cols List\n",
    "# key_cols = '[\"flight_id\"]'\n",
    "# key_cols_list = eval(key_cols)\n",
    "\n",
    "# # CDC Column\n",
    "# cdc_col = \"modifiedDate\"\n",
    "\n",
    "# # Back-Dated Refresh\n",
    "# backdated_refresh = \"\"\n",
    "\n",
    "# # Source Object\n",
    "# source_object = \"silver_flights\"\n",
    "\n",
    "# # Source Schema\n",
    "# source_schema = \"silver\"\n",
    "\n",
    "# # Target Schema\n",
    "# target_schema = \"gold\"\n",
    "\n",
    "# # Target Object\n",
    "# target_object = \"DimFlights\"\n",
    "\n",
    "# # Surrogate Key Column\n",
    "# surrogate_key_col = \"DimFlightsKey\"\n"
   ]
  },
  {
   "cell_type": "code",
   "execution_count": 0,
   "metadata": {
    "application/vnd.databricks.v1+cell": {
     "cellMetadata": {
      "byteLimit": 2048000,
      "rowLimit": 10000
     },
     "collapsed": true,
     "inputWidgets": {},
     "nuid": "f80f96c7-b708-48a8-b48f-159ef46099cc",
     "showTitle": false,
     "tableResultSettingsMap": {},
     "title": ""
    }
   },
   "outputs": [],
   "source": [
    "# # Parameters to Airpots\n",
    "# catalog = \"workspace\"\n",
    "\n",
    "# # Key Cols List\n",
    "# key_cols = '[\"airport_id\"]'\n",
    "# key_cols_list = eval(key_cols)\n",
    "\n",
    "# # CDC Column\n",
    "# cdc_col = \"modifiedDate\"\n",
    "\n",
    "# # Back-Dated Refresh\n",
    "# backdated_refresh = \"\"\n",
    "\n",
    "# # Source Object\n",
    "# source_object = \"silver_airports\"\n",
    "\n",
    "# # Source Schema\n",
    "# source_schema = \"silver\"\n",
    "\n",
    "# # Target Schema\n",
    "# target_schema = \"gold\"\n",
    "\n",
    "# # Target Object\n",
    "# target_object = \"DimAirports\"\n",
    "\n",
    "# # Surrogate Key Column\n",
    "# surrogate_key_col = \"DimAirportsKey\"\n"
   ]
  },
  {
   "cell_type": "code",
   "execution_count": 0,
   "metadata": {
    "application/vnd.databricks.v1+cell": {
     "cellMetadata": {
      "byteLimit": 2048000,
      "rowLimit": 10000
     },
     "inputWidgets": {},
     "nuid": "9ba0308d-95e1-4a7c-a093-10edd48de26e",
     "showTitle": false,
     "tableResultSettingsMap": {},
     "title": ""
    }
   },
   "outputs": [],
   "source": [
    "# # Parameters to Customers/Passengers\n",
    "\n",
    "catalog = \"workspace\"\n",
    "\n",
    "# # Key Cols List\n",
    "key_cols = '[\"passenger_id\"]'\n",
    "key_cols_list = eval(key_cols)\n",
    "\n",
    "# # CDC Column\n",
    "cdc_col = \"modifiedDate\"\n",
    "\n",
    "# # Back-Dated Refresh\n",
    "backdated_refresh = \"\"\n",
    "\n",
    "# # Source Object\n",
    "source_object = \"silver_passengers\"\n",
    "\n",
    "# # Source Schema\n",
    "source_schema = \"silver\"\n",
    "\n",
    "# # Target Schema\n",
    "target_schema = \"gold\"\n",
    "\n",
    "# # Target Object\n",
    "target_object = \"DimPassengers\"\n",
    "\n",
    "# # Surrogate Key Column\n",
    "surrogate_key_col = \"DimPassengersKey\"\n"
   ]
  },
  {
   "cell_type": "code",
   "execution_count": 0,
   "metadata": {
    "application/vnd.databricks.v1+cell": {
     "cellMetadata": {
      "byteLimit": 2048000,
      "rowLimit": 10000
     },
     "inputWidgets": {},
     "nuid": "ab7a0e2f-5f2d-42c5-985b-ef00b7ec12f0",
     "showTitle": false,
     "tableResultSettingsMap": {},
     "title": ""
    }
   },
   "outputs": [],
   "source": [
    "# # Parameters to bookings\n",
    "\n",
    "# catalog = \"workspace\"\n",
    "\n",
    "# # # Key Cols List\n",
    "# key_cols = '[\"booking_id\"]'\n",
    "# key_cols_list = eval(key_cols)\n",
    "\n",
    "# # CDC Column\n",
    "# cdc_col = \"modifiedDate\"\n",
    "\n",
    "# # Back-Dated Refresh\n",
    "# backdated_refresh = \"\"\n",
    "\n",
    "# # Source Object\n",
    "# source_object = \"silver_bookings\"\n",
    "\n",
    "# # Source Schema\n",
    "# source_schema = \"silver\"\n",
    "\n",
    "# # Target Schema\n",
    "# target_schema = \"gold\"\n",
    "\n",
    "# # Target Object\n",
    "# target_object = \"DimBookings\"\n",
    "\n",
    "# # Surrogate Key Column\n",
    "# surrogate_key_col = \"DimBookingsKey\"\n"
   ]
  },
  {
   "cell_type": "markdown",
   "metadata": {
    "application/vnd.databricks.v1+cell": {
     "cellMetadata": {
      "byteLimit": 2048000,
      "rowLimit": 10000
     },
     "inputWidgets": {},
     "nuid": "addf3fc7-f4de-4caa-a8cc-321a4f5bd84f",
     "showTitle": false,
     "tableResultSettingsMap": {},
     "title": ""
    }
   },
   "source": [
    "### **INCREMENTAL DATA INGESTION**"
   ]
  },
  {
   "cell_type": "markdown",
   "metadata": {
    "application/vnd.databricks.v1+cell": {
     "cellMetadata": {
      "byteLimit": 2048000,
      "rowLimit": 10000
     },
     "inputWidgets": {},
     "nuid": "79c7256e-93fe-451b-a778-26f4914274e1",
     "showTitle": false,
     "tableResultSettingsMap": {},
     "title": ""
    }
   },
   "source": [
    "#### Last Load Date"
   ]
  },
  {
   "cell_type": "code",
   "execution_count": 0,
   "metadata": {
    "application/vnd.databricks.v1+cell": {
     "cellMetadata": {
      "byteLimit": 2048000,
      "rowLimit": 10000
     },
     "inputWidgets": {},
     "nuid": "7b425cb3-7936-43a9-9ced-8ac73fba6bd8",
     "showTitle": false,
     "tableResultSettingsMap": {},
     "title": ""
    }
   },
   "outputs": [
    {
     "output_type": "execute_result",
     "data": {
      "text/plain": [
       "datetime.datetime(2025, 7, 15, 16, 41, 7, 773000)"
      ]
     },
     "execution_count": 42,
     "metadata": {},
     "output_type": "execute_result"
    }
   ],
   "source": [
    "# No back dated refresh\n",
    "if len(backdated_refresh) == 0:\n",
    "    # If table existas in the destination\n",
    "    if spark.catalog.tableExists(f\"{catalog}.{target_schema}.{target_object}\"):\n",
    "        last_load = spark.sql(f\"SELECT max({cdc_col}) FROM {catalog}.{target_schema}.{target_object}\").collect()[0][0]\n",
    "        \n",
    "    else:\n",
    "        last_load = \"1900-01-01 00:00:00\"\n",
    "\n",
    "# Yes back dated refresh\n",
    "else:\n",
    "    last_load = backdated_refresh\n",
    "\n",
    "# Last load test\n",
    "last_load"
   ]
  },
  {
   "cell_type": "code",
   "execution_count": 0,
   "metadata": {
    "application/vnd.databricks.v1+cell": {
     "cellMetadata": {
      "byteLimit": 2048000,
      "implicitDf": true,
      "rowLimit": 10000
     },
     "inputWidgets": {},
     "nuid": "4a687f24-0603-4de9-afcb-c92181917543",
     "showTitle": false,
     "tableResultSettingsMap": {},
     "title": ""
    }
   },
   "outputs": [],
   "source": [
    "# df_src = spark.sql(f\"SELECT * FROM {source_schema}.{source_object} WHERE {cdc_col} >= '{last_load}'\")\n",
    "df_src = spark.sql(f\"SELECT * FROM {source_schema}.{source_object} WHERE {cdc_col} > '{last_load}'\")\n",
    "\n"
   ]
  },
  {
   "cell_type": "code",
   "execution_count": 0,
   "metadata": {
    "application/vnd.databricks.v1+cell": {
     "cellMetadata": {
      "byteLimit": 2048000,
      "rowLimit": 10000
     },
     "collapsed": true,
     "inputWidgets": {},
     "nuid": "163d52da-17c7-4a9f-b940-bde976a59c81",
     "showTitle": false,
     "tableResultSettingsMap": {},
     "title": ""
    }
   },
   "outputs": [
    {
     "output_type": "display_data",
     "data": {
      "text/html": [
       "<style scoped>\n",
       "  .table-result-container {\n",
       "    max-height: 300px;\n",
       "    overflow: auto;\n",
       "  }\n",
       "  table, th, td {\n",
       "    border: 1px solid black;\n",
       "    border-collapse: collapse;\n",
       "  }\n",
       "  th, td {\n",
       "    padding: 5px;\n",
       "  }\n",
       "  th {\n",
       "    text-align: left;\n",
       "  }\n",
       "</style><div class='table-result-container'><table class='table-result'><thead style='background-color: white'><tr><th>passenger_id</th><th>name</th><th>gender</th><th>nationality</th><th>modifiedDate</th></tr></thead><tbody><tr><td>P0223</td><td>Nicholas Gomez</td><td>Female</td><td>Cook Islands</td><td>2025-07-16T08:26:59.574Z</td></tr><tr><td>P0224</td><td>Jason Jensen</td><td>Female</td><td>Rwanda</td><td>2025-07-16T08:26:59.574Z</td></tr><tr><td>P0222</td><td>Maria Taylor</td><td>Male</td><td>Lao People's Democratic Republic</td><td>2025-07-16T08:26:59.574Z</td></tr><tr><td>P0225</td><td>William Lopez</td><td>Male</td><td>Heard Island and McDonald Islands</td><td>2025-07-16T08:26:59.574Z</td></tr><tr><td>P0221</td><td>Amy Welch</td><td>Male</td><td>Croatia</td><td>2025-07-16T08:26:59.574Z</td></tr><tr><td>P0032</td><td>Daniel Douglas</td><td>Male</td><td>Singapore</td><td>2025-07-16T08:26:59.574Z</td></tr><tr><td>P0106</td><td>Joshua Shepherd Jr.</td><td>Female</td><td>Netherlands</td><td>2025-07-16T08:26:59.574Z</td></tr><tr><td>P0108</td><td>Brian Anderson</td><td>Female</td><td>Eritrea</td><td>2025-07-16T08:26:59.574Z</td></tr><tr><td>P0154</td><td>Angel Thompson</td><td>Female</td><td>Gambia</td><td>2025-07-16T08:26:59.574Z</td></tr><tr><td>P0149</td><td>Katherine Bowen DVM</td><td>Male</td><td>Mexico</td><td>2025-07-16T08:26:59.574Z</td></tr><tr><td>P0155</td><td>Robert Singleton</td><td>Female</td><td>Northern Mariana Islands</td><td>2025-07-16T08:26:59.574Z</td></tr><tr><td>P0158</td><td>Jamie Mcneil</td><td>Male</td><td>Burundi</td><td>2025-07-16T08:26:59.574Z</td></tr><tr><td>P0196</td><td>Monica Dillon</td><td>Female</td><td>Belarus</td><td>2025-07-16T08:26:59.574Z</td></tr><tr><td>P0049</td><td>Justin Thomas</td><td>Female</td><td>Tokelau</td><td>2025-07-16T08:26:59.574Z</td></tr><tr><td>P0113</td><td>Brian Richardson</td><td>Male</td><td>Dominican Republic</td><td>2025-07-16T08:26:59.574Z</td></tr></tbody></table></div>"
      ]
     },
     "metadata": {
      "application/vnd.databricks.v1+output": {
       "addedWidgets": {},
       "aggData": [],
       "aggError": "",
       "aggOverflow": false,
       "aggSchema": [],
       "aggSeriesLimitReached": false,
       "aggType": "",
       "arguments": {},
       "columnCustomDisplayInfos": {},
       "data": [
        [
         "P0223",
         "Nicholas Gomez",
         "Female",
         "Cook Islands",
         "2025-07-16T08:26:59.574Z"
        ],
        [
         "P0224",
         "Jason Jensen",
         "Female",
         "Rwanda",
         "2025-07-16T08:26:59.574Z"
        ],
        [
         "P0222",
         "Maria Taylor",
         "Male",
         "Lao People's Democratic Republic",
         "2025-07-16T08:26:59.574Z"
        ],
        [
         "P0225",
         "William Lopez",
         "Male",
         "Heard Island and McDonald Islands",
         "2025-07-16T08:26:59.574Z"
        ],
        [
         "P0221",
         "Amy Welch",
         "Male",
         "Croatia",
         "2025-07-16T08:26:59.574Z"
        ],
        [
         "P0032",
         "Daniel Douglas",
         "Male",
         "Singapore",
         "2025-07-16T08:26:59.574Z"
        ],
        [
         "P0106",
         "Joshua Shepherd Jr.",
         "Female",
         "Netherlands",
         "2025-07-16T08:26:59.574Z"
        ],
        [
         "P0108",
         "Brian Anderson",
         "Female",
         "Eritrea",
         "2025-07-16T08:26:59.574Z"
        ],
        [
         "P0154",
         "Angel Thompson",
         "Female",
         "Gambia",
         "2025-07-16T08:26:59.574Z"
        ],
        [
         "P0149",
         "Katherine Bowen DVM",
         "Male",
         "Mexico",
         "2025-07-16T08:26:59.574Z"
        ],
        [
         "P0155",
         "Robert Singleton",
         "Female",
         "Northern Mariana Islands",
         "2025-07-16T08:26:59.574Z"
        ],
        [
         "P0158",
         "Jamie Mcneil",
         "Male",
         "Burundi",
         "2025-07-16T08:26:59.574Z"
        ],
        [
         "P0196",
         "Monica Dillon",
         "Female",
         "Belarus",
         "2025-07-16T08:26:59.574Z"
        ],
        [
         "P0049",
         "Justin Thomas",
         "Female",
         "Tokelau",
         "2025-07-16T08:26:59.574Z"
        ],
        [
         "P0113",
         "Brian Richardson",
         "Male",
         "Dominican Republic",
         "2025-07-16T08:26:59.574Z"
        ]
       ],
       "datasetInfos": [],
       "dbfsResultPath": null,
       "isJsonSchema": true,
       "metadata": {},
       "overflow": false,
       "plotOptions": {
        "customPlotOptions": {},
        "displayType": "table",
        "pivotAggregation": null,
        "pivotColumns": null,
        "xColumns": null,
        "yColumns": null
       },
       "removedWidgets": [],
       "schema": [
        {
         "metadata": "{}",
         "name": "passenger_id",
         "type": "\"string\""
        },
        {
         "metadata": "{}",
         "name": "name",
         "type": "\"string\""
        },
        {
         "metadata": "{}",
         "name": "gender",
         "type": "\"string\""
        },
        {
         "metadata": "{}",
         "name": "nationality",
         "type": "\"string\""
        },
        {
         "metadata": "{}",
         "name": "modifiedDate",
         "type": "\"timestamp\""
        }
       ],
       "type": "table"
      }
     },
     "output_type": "display_data"
    }
   ],
   "source": [
    "df_src.display()"
   ]
  },
  {
   "cell_type": "markdown",
   "metadata": {
    "application/vnd.databricks.v1+cell": {
     "cellMetadata": {
      "byteLimit": 2048000,
      "rowLimit": 10000
     },
     "inputWidgets": {},
     "nuid": "472fc4eb-fdff-4da0-919b-85a04b2ea708",
     "showTitle": false,
     "tableResultSettingsMap": {},
     "title": ""
    }
   },
   "source": [
    "### OLD vs NEW RECORDS"
   ]
  },
  {
   "cell_type": "code",
   "execution_count": 0,
   "metadata": {
    "application/vnd.databricks.v1+cell": {
     "cellMetadata": {
      "byteLimit": 2048000,
      "rowLimit": 10000
     },
     "inputWidgets": {},
     "nuid": "11df1745-b3a0-457d-9699-c5ed2ef05752",
     "showTitle": false,
     "tableResultSettingsMap": {},
     "title": ""
    }
   },
   "outputs": [],
   "source": [
    "if spark.catalog.tableExists(f\"{catalog}.{target_schema}.{target_object}\"):\n",
    "    # Key Columns String For Incremental\n",
    "    key_cols_string_incremental = \", \".join(key_cols_list)\n",
    "    \n",
    "    df_trg = spark.sql(f\"\"\"\n",
    "                       SELECT {key_cols_string_incremental}, \n",
    "                       {surrogate_key_col}, \n",
    "                       create_date, \n",
    "                       update_date \n",
    "                       FROM {catalog}.{target_schema}.{target_object}\n",
    "                       \"\"\")\n",
    "\n",
    "else:\n",
    "    # Key Columns String For Initial\n",
    "    key_cols_string_init = [f\"'' AS {i}\" for i in key_cols_list]\n",
    "    key_cols_string_init = \", \".join(key_cols_string_init)\n",
    "\n",
    "    df_trg = spark.sql(f\"\"\"\n",
    "                       SELECT {key_cols_string_init}, \n",
    "                       CAST('0' AS  INT) AS {surrogate_key_col}, \n",
    "                       CAST('1900-01-01 00:00:00' AS timestamp) AS create_date, \n",
    "                       CAST('1900-01-01 00:00:00' AS timestamp) AS update_date WHERE 1=0\n",
    "                       \"\"\")\n"
   ]
  },
  {
   "cell_type": "code",
   "execution_count": 0,
   "metadata": {
    "application/vnd.databricks.v1+cell": {
     "cellMetadata": {
      "byteLimit": 2048000,
      "rowLimit": 10000
     },
     "inputWidgets": {},
     "nuid": "1a32d015-6631-4213-af31-5b6e04313e86",
     "showTitle": false,
     "tableResultSettingsMap": {
      "0": {
       "dataGridStateBlob": "{\"version\":1,\"tableState\":{\"columnPinning\":{\"left\":[\"#row_number#\"],\"right\":[]},\"columnSizing\":{},\"columnVisibility\":{}},\"settings\":{\"columns\":{}},\"syncTimestamp\":1752646570941}",
       "filterBlob": null,
       "queryPlanFiltersBlob": null,
       "tableResultIndex": 0
      }
     },
     "title": ""
    }
   },
   "outputs": [
    {
     "output_type": "display_data",
     "data": {
      "text/html": [
       "<style scoped>\n",
       "  .table-result-container {\n",
       "    max-height: 300px;\n",
       "    overflow: auto;\n",
       "  }\n",
       "  table, th, td {\n",
       "    border: 1px solid black;\n",
       "    border-collapse: collapse;\n",
       "  }\n",
       "  th, td {\n",
       "    padding: 5px;\n",
       "  }\n",
       "  th {\n",
       "    text-align: left;\n",
       "  }\n",
       "</style><div class='table-result-container'><table class='table-result'><thead style='background-color: white'><tr><th>passenger_id</th><th>DimPassengersKey</th><th>create_date</th><th>update_date</th></tr></thead><tbody><tr><td>P0002</td><td>1</td><td>2025-07-16T08:07:11.208Z</td><td>2025-07-16T08:07:11.208Z</td></tr><tr><td>P0004</td><td>2</td><td>2025-07-16T08:07:11.208Z</td><td>2025-07-16T08:07:11.208Z</td></tr><tr><td>P0007</td><td>3</td><td>2025-07-16T08:07:11.208Z</td><td>2025-07-16T08:07:11.208Z</td></tr><tr><td>P0014</td><td>4</td><td>2025-07-16T08:07:11.208Z</td><td>2025-07-16T08:07:11.208Z</td></tr><tr><td>P0023</td><td>5</td><td>2025-07-16T08:07:11.208Z</td><td>2025-07-16T08:07:11.208Z</td></tr><tr><td>P0033</td><td>6</td><td>2025-07-16T08:07:11.208Z</td><td>2025-07-16T08:07:11.208Z</td></tr><tr><td>P0049</td><td>7</td><td>2025-07-16T08:07:11.208Z</td><td>2025-07-16T08:07:11.208Z</td></tr><tr><td>P0080</td><td>8</td><td>2025-07-16T08:07:11.208Z</td><td>2025-07-16T08:07:11.208Z</td></tr><tr><td>P0120</td><td>9</td><td>2025-07-16T08:07:11.208Z</td><td>2025-07-16T08:07:11.208Z</td></tr><tr><td>P0134</td><td>10</td><td>2025-07-16T08:07:11.208Z</td><td>2025-07-16T08:07:11.208Z</td></tr><tr><td>P0151</td><td>11</td><td>2025-07-16T08:07:11.208Z</td><td>2025-07-16T08:07:11.208Z</td></tr><tr><td>P0186</td><td>12</td><td>2025-07-16T08:07:11.208Z</td><td>2025-07-16T08:07:11.208Z</td></tr><tr><td>P0192</td><td>13</td><td>2025-07-16T08:07:11.208Z</td><td>2025-07-16T08:07:11.208Z</td></tr><tr><td>P0022</td><td>14</td><td>2025-07-16T08:07:11.208Z</td><td>2025-07-16T08:07:11.208Z</td></tr><tr><td>P0041</td><td>15</td><td>2025-07-16T08:07:11.208Z</td><td>2025-07-16T08:07:11.208Z</td></tr><tr><td>P0051</td><td>16</td><td>2025-07-16T08:07:11.208Z</td><td>2025-07-16T08:07:11.208Z</td></tr><tr><td>P0057</td><td>17</td><td>2025-07-16T08:07:11.208Z</td><td>2025-07-16T08:07:11.208Z</td></tr><tr><td>P0097</td><td>18</td><td>2025-07-16T08:07:11.208Z</td><td>2025-07-16T08:07:11.208Z</td></tr><tr><td>P0114</td><td>19</td><td>2025-07-16T08:07:11.208Z</td><td>2025-07-16T08:07:11.208Z</td></tr><tr><td>P0123</td><td>20</td><td>2025-07-16T08:07:11.208Z</td><td>2025-07-16T08:07:11.208Z</td></tr><tr><td>P0130</td><td>21</td><td>2025-07-16T08:07:11.208Z</td><td>2025-07-16T08:07:11.208Z</td></tr><tr><td>P0135</td><td>22</td><td>2025-07-16T08:07:11.208Z</td><td>2025-07-16T08:07:11.208Z</td></tr><tr><td>P0138</td><td>23</td><td>2025-07-16T08:07:11.208Z</td><td>2025-07-16T08:07:11.208Z</td></tr><tr><td>P0142</td><td>24</td><td>2025-07-16T08:07:11.208Z</td><td>2025-07-16T08:07:11.208Z</td></tr><tr><td>P0146</td><td>25</td><td>2025-07-16T08:07:11.208Z</td><td>2025-07-16T08:07:11.208Z</td></tr><tr><td>P0148</td><td>26</td><td>2025-07-16T08:07:11.208Z</td><td>2025-07-16T08:07:11.208Z</td></tr><tr><td>P0159</td><td>27</td><td>2025-07-16T08:07:11.208Z</td><td>2025-07-16T08:07:11.208Z</td></tr><tr><td>P0171</td><td>28</td><td>2025-07-16T08:07:11.208Z</td><td>2025-07-16T08:07:11.208Z</td></tr><tr><td>P0195</td><td>29</td><td>2025-07-16T08:07:11.208Z</td><td>2025-07-16T08:07:11.208Z</td></tr><tr><td>P0005</td><td>30</td><td>2025-07-16T08:07:11.208Z</td><td>2025-07-16T08:07:11.208Z</td></tr><tr><td>P0040</td><td>31</td><td>2025-07-16T08:07:11.208Z</td><td>2025-07-16T08:07:11.208Z</td></tr><tr><td>P0077</td><td>32</td><td>2025-07-16T08:07:11.208Z</td><td>2025-07-16T08:07:11.208Z</td></tr><tr><td>P0083</td><td>33</td><td>2025-07-16T08:07:11.208Z</td><td>2025-07-16T08:07:11.208Z</td></tr><tr><td>P0090</td><td>34</td><td>2025-07-16T08:07:11.208Z</td><td>2025-07-16T08:07:11.208Z</td></tr><tr><td>P0091</td><td>35</td><td>2025-07-16T08:07:11.208Z</td><td>2025-07-16T08:07:11.208Z</td></tr><tr><td>P0108</td><td>36</td><td>2025-07-16T08:07:11.208Z</td><td>2025-07-16T08:07:11.208Z</td></tr><tr><td>P0115</td><td>37</td><td>2025-07-16T08:07:11.208Z</td><td>2025-07-16T08:07:11.208Z</td></tr><tr><td>P0122</td><td>38</td><td>2025-07-16T08:07:11.208Z</td><td>2025-07-16T08:07:11.208Z</td></tr><tr><td>P0133</td><td>39</td><td>2025-07-16T08:07:11.208Z</td><td>2025-07-16T08:07:11.208Z</td></tr><tr><td>P0160</td><td>40</td><td>2025-07-16T08:07:11.208Z</td><td>2025-07-16T08:07:11.208Z</td></tr><tr><td>P0167</td><td>41</td><td>2025-07-16T08:07:11.208Z</td><td>2025-07-16T08:07:11.208Z</td></tr><tr><td>P0177</td><td>42</td><td>2025-07-16T08:07:11.208Z</td><td>2025-07-16T08:07:11.208Z</td></tr><tr><td>P0189</td><td>43</td><td>2025-07-16T08:07:11.208Z</td><td>2025-07-16T08:07:11.208Z</td></tr><tr><td>P0011</td><td>44</td><td>2025-07-16T08:07:11.208Z</td><td>2025-07-16T08:07:11.208Z</td></tr><tr><td>P0020</td><td>45</td><td>2025-07-16T08:07:11.208Z</td><td>2025-07-16T08:07:11.208Z</td></tr><tr><td>P0032</td><td>46</td><td>2025-07-16T08:07:11.208Z</td><td>2025-07-16T08:07:11.208Z</td></tr><tr><td>P0045</td><td>47</td><td>2025-07-16T08:07:11.208Z</td><td>2025-07-16T08:07:11.208Z</td></tr><tr><td>P0088</td><td>48</td><td>2025-07-16T08:07:11.208Z</td><td>2025-07-16T08:07:11.208Z</td></tr><tr><td>P0110</td><td>49</td><td>2025-07-16T08:07:11.208Z</td><td>2025-07-16T08:07:11.208Z</td></tr><tr><td>P0113</td><td>50</td><td>2025-07-16T08:07:11.208Z</td><td>2025-07-16T08:07:11.208Z</td></tr><tr><td>P0125</td><td>51</td><td>2025-07-16T08:07:11.208Z</td><td>2025-07-16T08:07:11.208Z</td></tr><tr><td>P0136</td><td>52</td><td>2025-07-16T08:07:11.208Z</td><td>2025-07-16T08:07:11.208Z</td></tr><tr><td>P0149</td><td>53</td><td>2025-07-16T08:07:11.208Z</td><td>2025-07-16T08:07:11.208Z</td></tr><tr><td>P0152</td><td>54</td><td>2025-07-16T08:07:11.208Z</td><td>2025-07-16T08:07:11.208Z</td></tr><tr><td>P0169</td><td>55</td><td>2025-07-16T08:07:11.208Z</td><td>2025-07-16T08:07:11.208Z</td></tr><tr><td>P0034</td><td>56</td><td>2025-07-16T08:07:11.208Z</td><td>2025-07-16T08:07:11.208Z</td></tr><tr><td>P0036</td><td>57</td><td>2025-07-16T08:07:11.208Z</td><td>2025-07-16T08:07:11.208Z</td></tr><tr><td>P0082</td><td>58</td><td>2025-07-16T08:07:11.208Z</td><td>2025-07-16T08:07:11.208Z</td></tr><tr><td>P0084</td><td>59</td><td>2025-07-16T08:07:11.208Z</td><td>2025-07-16T08:07:11.208Z</td></tr><tr><td>P0087</td><td>60</td><td>2025-07-16T08:07:11.208Z</td><td>2025-07-16T08:07:11.208Z</td></tr><tr><td>P0094</td><td>61</td><td>2025-07-16T08:07:11.208Z</td><td>2025-07-16T08:07:11.208Z</td></tr><tr><td>P0100</td><td>62</td><td>2025-07-16T08:07:11.208Z</td><td>2025-07-16T08:07:11.208Z</td></tr><tr><td>P0141</td><td>63</td><td>2025-07-16T08:07:11.208Z</td><td>2025-07-16T08:07:11.208Z</td></tr><tr><td>P0150</td><td>64</td><td>2025-07-16T08:07:11.208Z</td><td>2025-07-16T08:07:11.208Z</td></tr><tr><td>P0163</td><td>65</td><td>2025-07-16T08:07:11.208Z</td><td>2025-07-16T08:07:11.208Z</td></tr><tr><td>P0164</td><td>66</td><td>2025-07-16T08:07:11.208Z</td><td>2025-07-16T08:07:11.208Z</td></tr><tr><td>P0013</td><td>67</td><td>2025-07-16T08:07:11.208Z</td><td>2025-07-16T08:07:11.208Z</td></tr><tr><td>P0038</td><td>68</td><td>2025-07-16T08:07:11.208Z</td><td>2025-07-16T08:07:11.208Z</td></tr><tr><td>P0060</td><td>69</td><td>2025-07-16T08:07:11.208Z</td><td>2025-07-16T08:07:11.208Z</td></tr><tr><td>P0061</td><td>70</td><td>2025-07-16T08:07:11.208Z</td><td>2025-07-16T08:07:11.208Z</td></tr><tr><td>P0107</td><td>71</td><td>2025-07-16T08:07:11.208Z</td><td>2025-07-16T08:07:11.208Z</td></tr><tr><td>P0111</td><td>72</td><td>2025-07-16T08:07:11.208Z</td><td>2025-07-16T08:07:11.208Z</td></tr><tr><td>P0128</td><td>73</td><td>2025-07-16T08:07:11.208Z</td><td>2025-07-16T08:07:11.208Z</td></tr><tr><td>P0131</td><td>74</td><td>2025-07-16T08:07:11.208Z</td><td>2025-07-16T08:07:11.208Z</td></tr><tr><td>P0139</td><td>75</td><td>2025-07-16T08:07:11.208Z</td><td>2025-07-16T08:07:11.208Z</td></tr><tr><td>P0158</td><td>76</td><td>2025-07-16T08:07:11.208Z</td><td>2025-07-16T08:07:11.208Z</td></tr><tr><td>P0188</td><td>77</td><td>2025-07-16T08:07:11.208Z</td><td>2025-07-16T08:07:11.208Z</td></tr><tr><td>P0001</td><td>78</td><td>2025-07-16T08:07:11.208Z</td><td>2025-07-16T08:07:11.208Z</td></tr><tr><td>P0026</td><td>79</td><td>2025-07-16T08:07:11.208Z</td><td>2025-07-16T08:07:11.208Z</td></tr><tr><td>P0145</td><td>80</td><td>2025-07-16T08:07:11.208Z</td><td>2025-07-16T08:07:11.208Z</td></tr><tr><td>P0153</td><td>81</td><td>2025-07-16T08:07:11.208Z</td><td>2025-07-16T08:07:11.208Z</td></tr><tr><td>P0155</td><td>82</td><td>2025-07-16T08:07:11.208Z</td><td>2025-07-16T08:07:11.208Z</td></tr><tr><td>P0170</td><td>83</td><td>2025-07-16T08:07:11.208Z</td><td>2025-07-16T08:07:11.208Z</td></tr><tr><td>P0173</td><td>84</td><td>2025-07-16T08:07:11.208Z</td><td>2025-07-16T08:07:11.208Z</td></tr><tr><td>P0176</td><td>85</td><td>2025-07-16T08:07:11.208Z</td><td>2025-07-16T08:07:11.208Z</td></tr><tr><td>P0196</td><td>86</td><td>2025-07-16T08:07:11.208Z</td><td>2025-07-16T08:07:11.208Z</td></tr><tr><td>P0199</td><td>87</td><td>2025-07-16T08:07:11.208Z</td><td>2025-07-16T08:07:11.208Z</td></tr><tr><td>P0044</td><td>88</td><td>2025-07-16T08:07:11.208Z</td><td>2025-07-16T08:07:11.208Z</td></tr><tr><td>P0046</td><td>89</td><td>2025-07-16T08:07:11.208Z</td><td>2025-07-16T08:07:11.208Z</td></tr><tr><td>P0064</td><td>90</td><td>2025-07-16T08:07:11.208Z</td><td>2025-07-16T08:07:11.208Z</td></tr><tr><td>P0074</td><td>91</td><td>2025-07-16T08:07:11.208Z</td><td>2025-07-16T08:07:11.208Z</td></tr><tr><td>P0096</td><td>92</td><td>2025-07-16T08:07:11.208Z</td><td>2025-07-16T08:07:11.208Z</td></tr><tr><td>P0099</td><td>93</td><td>2025-07-16T08:07:11.208Z</td><td>2025-07-16T08:07:11.208Z</td></tr><tr><td>P0116</td><td>94</td><td>2025-07-16T08:07:11.208Z</td><td>2025-07-16T08:07:11.208Z</td></tr><tr><td>P0129</td><td>95</td><td>2025-07-16T08:07:11.208Z</td><td>2025-07-16T08:07:11.208Z</td></tr><tr><td>P0161</td><td>96</td><td>2025-07-16T08:07:11.208Z</td><td>2025-07-16T08:07:11.208Z</td></tr><tr><td>P0180</td><td>97</td><td>2025-07-16T08:07:11.208Z</td><td>2025-07-16T08:07:11.208Z</td></tr><tr><td>P0181</td><td>98</td><td>2025-07-16T08:07:11.208Z</td><td>2025-07-16T08:07:11.208Z</td></tr><tr><td>P0006</td><td>99</td><td>2025-07-16T08:07:11.208Z</td><td>2025-07-16T08:07:11.208Z</td></tr><tr><td>P0015</td><td>100</td><td>2025-07-16T08:07:11.208Z</td><td>2025-07-16T08:07:11.208Z</td></tr><tr><td>P0019</td><td>101</td><td>2025-07-16T08:07:11.208Z</td><td>2025-07-16T08:07:11.208Z</td></tr><tr><td>P0054</td><td>102</td><td>2025-07-16T08:07:11.208Z</td><td>2025-07-16T08:07:11.208Z</td></tr><tr><td>P0069</td><td>103</td><td>2025-07-16T08:07:11.208Z</td><td>2025-07-16T08:07:11.208Z</td></tr><tr><td>P0075</td><td>104</td><td>2025-07-16T08:07:11.208Z</td><td>2025-07-16T08:07:11.208Z</td></tr><tr><td>P0079</td><td>105</td><td>2025-07-16T08:07:11.208Z</td><td>2025-07-16T08:07:11.208Z</td></tr><tr><td>P0089</td><td>106</td><td>2025-07-16T08:07:11.208Z</td><td>2025-07-16T08:07:11.208Z</td></tr><tr><td>P0092</td><td>107</td><td>2025-07-16T08:07:11.208Z</td><td>2025-07-16T08:07:11.208Z</td></tr><tr><td>P0101</td><td>108</td><td>2025-07-16T08:07:11.208Z</td><td>2025-07-16T08:07:11.208Z</td></tr><tr><td>P0140</td><td>109</td><td>2025-07-16T08:07:11.208Z</td><td>2025-07-16T08:07:11.208Z</td></tr><tr><td>P0154</td><td>110</td><td>2025-07-16T08:07:11.208Z</td><td>2025-07-16T08:07:11.208Z</td></tr><tr><td>P0009</td><td>111</td><td>2025-07-16T08:07:11.208Z</td><td>2025-07-16T08:07:11.208Z</td></tr><tr><td>P0010</td><td>112</td><td>2025-07-16T08:07:11.208Z</td><td>2025-07-16T08:07:11.208Z</td></tr><tr><td>P0028</td><td>113</td><td>2025-07-16T08:07:11.208Z</td><td>2025-07-16T08:07:11.208Z</td></tr><tr><td>P0030</td><td>114</td><td>2025-07-16T08:07:11.208Z</td><td>2025-07-16T08:07:11.208Z</td></tr><tr><td>P0042</td><td>115</td><td>2025-07-16T08:07:11.208Z</td><td>2025-07-16T08:07:11.208Z</td></tr><tr><td>P0052</td><td>116</td><td>2025-07-16T08:07:11.208Z</td><td>2025-07-16T08:07:11.208Z</td></tr><tr><td>P0093</td><td>117</td><td>2025-07-16T08:07:11.208Z</td><td>2025-07-16T08:07:11.208Z</td></tr><tr><td>P0112</td><td>118</td><td>2025-07-16T08:07:11.208Z</td><td>2025-07-16T08:07:11.208Z</td></tr><tr><td>P0118</td><td>119</td><td>2025-07-16T08:07:11.208Z</td><td>2025-07-16T08:07:11.208Z</td></tr><tr><td>P0132</td><td>120</td><td>2025-07-16T08:07:11.208Z</td><td>2025-07-16T08:07:11.208Z</td></tr><tr><td>P0147</td><td>121</td><td>2025-07-16T08:07:11.208Z</td><td>2025-07-16T08:07:11.208Z</td></tr><tr><td>P0183</td><td>122</td><td>2025-07-16T08:07:11.208Z</td><td>2025-07-16T08:07:11.208Z</td></tr><tr><td>P0185</td><td>123</td><td>2025-07-16T08:07:11.208Z</td><td>2025-07-16T08:07:11.208Z</td></tr><tr><td>P0190</td><td>124</td><td>2025-07-16T08:07:11.208Z</td><td>2025-07-16T08:07:11.208Z</td></tr><tr><td>P0008</td><td>125</td><td>2025-07-16T08:07:11.208Z</td><td>2025-07-16T08:07:11.208Z</td></tr><tr><td>P0027</td><td>126</td><td>2025-07-16T08:07:11.208Z</td><td>2025-07-16T08:07:11.208Z</td></tr><tr><td>P0031</td><td>127</td><td>2025-07-16T08:07:11.208Z</td><td>2025-07-16T08:07:11.208Z</td></tr><tr><td>P0048</td><td>128</td><td>2025-07-16T08:07:11.208Z</td><td>2025-07-16T08:07:11.208Z</td></tr><tr><td>P0056</td><td>129</td><td>2025-07-16T08:07:11.208Z</td><td>2025-07-16T08:07:11.208Z</td></tr><tr><td>P0062</td><td>130</td><td>2025-07-16T08:07:11.208Z</td><td>2025-07-16T08:07:11.208Z</td></tr><tr><td>P0063</td><td>131</td><td>2025-07-16T08:07:11.208Z</td><td>2025-07-16T08:07:11.208Z</td></tr><tr><td>P0065</td><td>132</td><td>2025-07-16T08:07:11.208Z</td><td>2025-07-16T08:07:11.208Z</td></tr><tr><td>P0078</td><td>133</td><td>2025-07-16T08:07:11.208Z</td><td>2025-07-16T08:07:11.208Z</td></tr><tr><td>P0095</td><td>134</td><td>2025-07-16T08:07:11.208Z</td><td>2025-07-16T08:07:11.208Z</td></tr><tr><td>P0126</td><td>135</td><td>2025-07-16T08:07:11.208Z</td><td>2025-07-16T08:07:11.208Z</td></tr><tr><td>P0162</td><td>136</td><td>2025-07-16T08:07:11.208Z</td><td>2025-07-16T08:07:11.208Z</td></tr><tr><td>P0017</td><td>137</td><td>2025-07-16T08:07:11.208Z</td><td>2025-07-16T08:07:11.208Z</td></tr><tr><td>P0029</td><td>138</td><td>2025-07-16T08:07:11.208Z</td><td>2025-07-16T08:07:11.208Z</td></tr><tr><td>P0039</td><td>139</td><td>2025-07-16T08:07:11.208Z</td><td>2025-07-16T08:07:11.208Z</td></tr><tr><td>P0059</td><td>140</td><td>2025-07-16T08:07:11.208Z</td><td>2025-07-16T08:07:11.208Z</td></tr><tr><td>P0068</td><td>141</td><td>2025-07-16T08:07:11.208Z</td><td>2025-07-16T08:07:11.208Z</td></tr><tr><td>P0086</td><td>142</td><td>2025-07-16T08:07:11.208Z</td><td>2025-07-16T08:07:11.208Z</td></tr><tr><td>P0144</td><td>143</td><td>2025-07-16T08:07:11.208Z</td><td>2025-07-16T08:07:11.208Z</td></tr><tr><td>P0165</td><td>144</td><td>2025-07-16T08:07:11.208Z</td><td>2025-07-16T08:07:11.208Z</td></tr><tr><td>P0168</td><td>145</td><td>2025-07-16T08:07:11.208Z</td><td>2025-07-16T08:07:11.208Z</td></tr><tr><td>P0197</td><td>146</td><td>2025-07-16T08:07:11.208Z</td><td>2025-07-16T08:07:11.208Z</td></tr><tr><td>P0025</td><td>147</td><td>2025-07-16T08:07:11.208Z</td><td>2025-07-16T08:07:11.208Z</td></tr><tr><td>P0050</td><td>148</td><td>2025-07-16T08:07:11.208Z</td><td>2025-07-16T08:07:11.208Z</td></tr><tr><td>P0055</td><td>149</td><td>2025-07-16T08:07:11.208Z</td><td>2025-07-16T08:07:11.208Z</td></tr><tr><td>P0067</td><td>150</td><td>2025-07-16T08:07:11.208Z</td><td>2025-07-16T08:07:11.208Z</td></tr><tr><td>P0070</td><td>151</td><td>2025-07-16T08:07:11.208Z</td><td>2025-07-16T08:07:11.208Z</td></tr><tr><td>P0098</td><td>152</td><td>2025-07-16T08:07:11.208Z</td><td>2025-07-16T08:07:11.208Z</td></tr><tr><td>P0109</td><td>153</td><td>2025-07-16T08:07:11.208Z</td><td>2025-07-16T08:07:11.208Z</td></tr><tr><td>P0127</td><td>154</td><td>2025-07-16T08:07:11.208Z</td><td>2025-07-16T08:07:11.208Z</td></tr><tr><td>P0143</td><td>155</td><td>2025-07-16T08:07:11.208Z</td><td>2025-07-16T08:07:11.208Z</td></tr><tr><td>P0175</td><td>156</td><td>2025-07-16T08:07:11.208Z</td><td>2025-07-16T08:07:11.208Z</td></tr><tr><td>P0184</td><td>157</td><td>2025-07-16T08:07:11.208Z</td><td>2025-07-16T08:07:11.208Z</td></tr><tr><td>P0187</td><td>158</td><td>2025-07-16T08:07:11.208Z</td><td>2025-07-16T08:07:11.208Z</td></tr><tr><td>P0037</td><td>159</td><td>2025-07-16T08:07:11.208Z</td><td>2025-07-16T08:07:11.208Z</td></tr><tr><td>P0043</td><td>160</td><td>2025-07-16T08:07:11.208Z</td><td>2025-07-16T08:07:11.208Z</td></tr><tr><td>P0102</td><td>161</td><td>2025-07-16T08:07:11.208Z</td><td>2025-07-16T08:07:11.208Z</td></tr><tr><td>P0105</td><td>162</td><td>2025-07-16T08:07:11.208Z</td><td>2025-07-16T08:07:11.208Z</td></tr><tr><td>P0117</td><td>163</td><td>2025-07-16T08:07:11.208Z</td><td>2025-07-16T08:07:11.208Z</td></tr><tr><td>P0121</td><td>164</td><td>2025-07-16T08:07:11.208Z</td><td>2025-07-16T08:07:11.208Z</td></tr><tr><td>P0124</td><td>165</td><td>2025-07-16T08:07:11.208Z</td><td>2025-07-16T08:07:11.208Z</td></tr><tr><td>P0137</td><td>166</td><td>2025-07-16T08:07:11.208Z</td><td>2025-07-16T08:07:11.208Z</td></tr><tr><td>P0156</td><td>167</td><td>2025-07-16T08:07:11.208Z</td><td>2025-07-16T08:07:11.208Z</td></tr><tr><td>P0157</td><td>168</td><td>2025-07-16T08:07:11.208Z</td><td>2025-07-16T08:07:11.208Z</td></tr><tr><td>P0179</td><td>169</td><td>2025-07-16T08:07:11.208Z</td><td>2025-07-16T08:07:11.208Z</td></tr><tr><td>P0182</td><td>170</td><td>2025-07-16T08:07:11.208Z</td><td>2025-07-16T08:07:11.208Z</td></tr><tr><td>P0193</td><td>171</td><td>2025-07-16T08:07:11.208Z</td><td>2025-07-16T08:07:11.208Z</td></tr><tr><td>P0200</td><td>172</td><td>2025-07-16T08:07:11.208Z</td><td>2025-07-16T08:07:11.208Z</td></tr><tr><td>P0016</td><td>173</td><td>2025-07-16T08:07:11.208Z</td><td>2025-07-16T08:07:11.208Z</td></tr><tr><td>P0024</td><td>174</td><td>2025-07-16T08:07:11.208Z</td><td>2025-07-16T08:07:11.208Z</td></tr><tr><td>P0047</td><td>175</td><td>2025-07-16T08:07:11.208Z</td><td>2025-07-16T08:07:11.208Z</td></tr><tr><td>P0053</td><td>176</td><td>2025-07-16T08:07:11.208Z</td><td>2025-07-16T08:07:11.208Z</td></tr><tr><td>P0076</td><td>177</td><td>2025-07-16T08:07:11.208Z</td><td>2025-07-16T08:07:11.208Z</td></tr><tr><td>P0172</td><td>178</td><td>2025-07-16T08:07:11.208Z</td><td>2025-07-16T08:07:11.208Z</td></tr><tr><td>P0174</td><td>179</td><td>2025-07-16T08:07:11.208Z</td><td>2025-07-16T08:07:11.208Z</td></tr><tr><td>P0178</td><td>180</td><td>2025-07-16T08:07:11.208Z</td><td>2025-07-16T08:07:11.208Z</td></tr><tr><td>P0194</td><td>181</td><td>2025-07-16T08:07:11.208Z</td><td>2025-07-16T08:07:11.208Z</td></tr><tr><td>P0198</td><td>182</td><td>2025-07-16T08:07:11.208Z</td><td>2025-07-16T08:07:11.208Z</td></tr><tr><td>P0003</td><td>183</td><td>2025-07-16T08:07:11.208Z</td><td>2025-07-16T08:07:11.208Z</td></tr><tr><td>P0012</td><td>184</td><td>2025-07-16T08:07:11.208Z</td><td>2025-07-16T08:07:11.208Z</td></tr><tr><td>P0018</td><td>185</td><td>2025-07-16T08:07:11.208Z</td><td>2025-07-16T08:07:11.208Z</td></tr><tr><td>P0021</td><td>186</td><td>2025-07-16T08:07:11.208Z</td><td>2025-07-16T08:07:11.208Z</td></tr><tr><td>P0035</td><td>187</td><td>2025-07-16T08:07:11.208Z</td><td>2025-07-16T08:07:11.208Z</td></tr><tr><td>P0058</td><td>188</td><td>2025-07-16T08:07:11.208Z</td><td>2025-07-16T08:07:11.208Z</td></tr><tr><td>P0066</td><td>189</td><td>2025-07-16T08:07:11.208Z</td><td>2025-07-16T08:07:11.208Z</td></tr><tr><td>P0071</td><td>190</td><td>2025-07-16T08:07:11.208Z</td><td>2025-07-16T08:07:11.208Z</td></tr><tr><td>P0072</td><td>191</td><td>2025-07-16T08:07:11.208Z</td><td>2025-07-16T08:07:11.208Z</td></tr><tr><td>P0073</td><td>192</td><td>2025-07-16T08:07:11.208Z</td><td>2025-07-16T08:07:11.208Z</td></tr><tr><td>P0081</td><td>193</td><td>2025-07-16T08:07:11.208Z</td><td>2025-07-16T08:07:11.208Z</td></tr><tr><td>P0085</td><td>194</td><td>2025-07-16T08:07:11.208Z</td><td>2025-07-16T08:07:11.208Z</td></tr><tr><td>P0103</td><td>195</td><td>2025-07-16T08:07:11.208Z</td><td>2025-07-16T08:07:11.208Z</td></tr><tr><td>P0104</td><td>196</td><td>2025-07-16T08:07:11.208Z</td><td>2025-07-16T08:07:11.208Z</td></tr><tr><td>P0106</td><td>197</td><td>2025-07-16T08:07:11.208Z</td><td>2025-07-16T08:07:11.208Z</td></tr><tr><td>P0119</td><td>198</td><td>2025-07-16T08:07:11.208Z</td><td>2025-07-16T08:07:11.208Z</td></tr><tr><td>P0166</td><td>199</td><td>2025-07-16T08:07:11.208Z</td><td>2025-07-16T08:07:11.208Z</td></tr><tr><td>P0191</td><td>200</td><td>2025-07-16T08:07:11.208Z</td><td>2025-07-16T08:07:11.208Z</td></tr><tr><td>P0206</td><td>201</td><td>2025-07-16T08:07:11.208Z</td><td>2025-07-16T08:07:11.208Z</td></tr><tr><td>P0211</td><td>202</td><td>2025-07-16T08:07:11.208Z</td><td>2025-07-16T08:07:11.208Z</td></tr><tr><td>P0212</td><td>203</td><td>2025-07-16T08:07:11.208Z</td><td>2025-07-16T08:07:11.208Z</td></tr><tr><td>P0216</td><td>204</td><td>2025-07-16T08:07:11.208Z</td><td>2025-07-16T08:07:11.208Z</td></tr><tr><td>P0209</td><td>205</td><td>2025-07-16T08:07:11.208Z</td><td>2025-07-16T08:07:11.208Z</td></tr><tr><td>P0220</td><td>206</td><td>2025-07-16T08:07:11.208Z</td><td>2025-07-16T08:07:11.208Z</td></tr><tr><td>P0215</td><td>207</td><td>2025-07-16T08:07:11.208Z</td><td>2025-07-16T08:07:11.208Z</td></tr><tr><td>P0219</td><td>208</td><td>2025-07-16T08:07:11.208Z</td><td>2025-07-16T08:07:11.208Z</td></tr><tr><td>P0201</td><td>209</td><td>2025-07-16T08:07:11.208Z</td><td>2025-07-16T08:07:11.208Z</td></tr><tr><td>P0207</td><td>210</td><td>2025-07-16T08:07:11.208Z</td><td>2025-07-16T08:07:11.208Z</td></tr><tr><td>P0214</td><td>211</td><td>2025-07-16T08:07:11.208Z</td><td>2025-07-16T08:07:11.208Z</td></tr><tr><td>P0218</td><td>212</td><td>2025-07-16T08:07:11.208Z</td><td>2025-07-16T08:07:11.208Z</td></tr><tr><td>P0202</td><td>213</td><td>2025-07-16T08:07:11.208Z</td><td>2025-07-16T08:07:11.208Z</td></tr><tr><td>P0205</td><td>214</td><td>2025-07-16T08:07:11.208Z</td><td>2025-07-16T08:07:11.208Z</td></tr><tr><td>P0210</td><td>215</td><td>2025-07-16T08:07:11.208Z</td><td>2025-07-16T08:07:11.208Z</td></tr><tr><td>P0203</td><td>216</td><td>2025-07-16T08:07:11.208Z</td><td>2025-07-16T08:07:11.208Z</td></tr><tr><td>P0213</td><td>217</td><td>2025-07-16T08:07:11.208Z</td><td>2025-07-16T08:07:11.208Z</td></tr><tr><td>P0217</td><td>218</td><td>2025-07-16T08:07:11.208Z</td><td>2025-07-16T08:07:11.208Z</td></tr><tr><td>P0208</td><td>219</td><td>2025-07-16T08:07:11.208Z</td><td>2025-07-16T08:07:11.208Z</td></tr><tr><td>P0204</td><td>220</td><td>2025-07-16T08:07:11.208Z</td><td>2025-07-16T08:07:11.208Z</td></tr></tbody></table></div>"
      ]
     },
     "metadata": {
      "application/vnd.databricks.v1+output": {
       "addedWidgets": {},
       "aggData": [],
       "aggError": "",
       "aggOverflow": false,
       "aggSchema": [],
       "aggSeriesLimitReached": false,
       "aggType": "",
       "arguments": {},
       "columnCustomDisplayInfos": {},
       "data": [
        [
         "P0002",
         1,
         "2025-07-16T08:07:11.208Z",
         "2025-07-16T08:07:11.208Z"
        ],
        [
         "P0004",
         2,
         "2025-07-16T08:07:11.208Z",
         "2025-07-16T08:07:11.208Z"
        ],
        [
         "P0007",
         3,
         "2025-07-16T08:07:11.208Z",
         "2025-07-16T08:07:11.208Z"
        ],
        [
         "P0014",
         4,
         "2025-07-16T08:07:11.208Z",
         "2025-07-16T08:07:11.208Z"
        ],
        [
         "P0023",
         5,
         "2025-07-16T08:07:11.208Z",
         "2025-07-16T08:07:11.208Z"
        ],
        [
         "P0033",
         6,
         "2025-07-16T08:07:11.208Z",
         "2025-07-16T08:07:11.208Z"
        ],
        [
         "P0049",
         7,
         "2025-07-16T08:07:11.208Z",
         "2025-07-16T08:07:11.208Z"
        ],
        [
         "P0080",
         8,
         "2025-07-16T08:07:11.208Z",
         "2025-07-16T08:07:11.208Z"
        ],
        [
         "P0120",
         9,
         "2025-07-16T08:07:11.208Z",
         "2025-07-16T08:07:11.208Z"
        ],
        [
         "P0134",
         10,
         "2025-07-16T08:07:11.208Z",
         "2025-07-16T08:07:11.208Z"
        ],
        [
         "P0151",
         11,
         "2025-07-16T08:07:11.208Z",
         "2025-07-16T08:07:11.208Z"
        ],
        [
         "P0186",
         12,
         "2025-07-16T08:07:11.208Z",
         "2025-07-16T08:07:11.208Z"
        ],
        [
         "P0192",
         13,
         "2025-07-16T08:07:11.208Z",
         "2025-07-16T08:07:11.208Z"
        ],
        [
         "P0022",
         14,
         "2025-07-16T08:07:11.208Z",
         "2025-07-16T08:07:11.208Z"
        ],
        [
         "P0041",
         15,
         "2025-07-16T08:07:11.208Z",
         "2025-07-16T08:07:11.208Z"
        ],
        [
         "P0051",
         16,
         "2025-07-16T08:07:11.208Z",
         "2025-07-16T08:07:11.208Z"
        ],
        [
         "P0057",
         17,
         "2025-07-16T08:07:11.208Z",
         "2025-07-16T08:07:11.208Z"
        ],
        [
         "P0097",
         18,
         "2025-07-16T08:07:11.208Z",
         "2025-07-16T08:07:11.208Z"
        ],
        [
         "P0114",
         19,
         "2025-07-16T08:07:11.208Z",
         "2025-07-16T08:07:11.208Z"
        ],
        [
         "P0123",
         20,
         "2025-07-16T08:07:11.208Z",
         "2025-07-16T08:07:11.208Z"
        ],
        [
         "P0130",
         21,
         "2025-07-16T08:07:11.208Z",
         "2025-07-16T08:07:11.208Z"
        ],
        [
         "P0135",
         22,
         "2025-07-16T08:07:11.208Z",
         "2025-07-16T08:07:11.208Z"
        ],
        [
         "P0138",
         23,
         "2025-07-16T08:07:11.208Z",
         "2025-07-16T08:07:11.208Z"
        ],
        [
         "P0142",
         24,
         "2025-07-16T08:07:11.208Z",
         "2025-07-16T08:07:11.208Z"
        ],
        [
         "P0146",
         25,
         "2025-07-16T08:07:11.208Z",
         "2025-07-16T08:07:11.208Z"
        ],
        [
         "P0148",
         26,
         "2025-07-16T08:07:11.208Z",
         "2025-07-16T08:07:11.208Z"
        ],
        [
         "P0159",
         27,
         "2025-07-16T08:07:11.208Z",
         "2025-07-16T08:07:11.208Z"
        ],
        [
         "P0171",
         28,
         "2025-07-16T08:07:11.208Z",
         "2025-07-16T08:07:11.208Z"
        ],
        [
         "P0195",
         29,
         "2025-07-16T08:07:11.208Z",
         "2025-07-16T08:07:11.208Z"
        ],
        [
         "P0005",
         30,
         "2025-07-16T08:07:11.208Z",
         "2025-07-16T08:07:11.208Z"
        ],
        [
         "P0040",
         31,
         "2025-07-16T08:07:11.208Z",
         "2025-07-16T08:07:11.208Z"
        ],
        [
         "P0077",
         32,
         "2025-07-16T08:07:11.208Z",
         "2025-07-16T08:07:11.208Z"
        ],
        [
         "P0083",
         33,
         "2025-07-16T08:07:11.208Z",
         "2025-07-16T08:07:11.208Z"
        ],
        [
         "P0090",
         34,
         "2025-07-16T08:07:11.208Z",
         "2025-07-16T08:07:11.208Z"
        ],
        [
         "P0091",
         35,
         "2025-07-16T08:07:11.208Z",
         "2025-07-16T08:07:11.208Z"
        ],
        [
         "P0108",
         36,
         "2025-07-16T08:07:11.208Z",
         "2025-07-16T08:07:11.208Z"
        ],
        [
         "P0115",
         37,
         "2025-07-16T08:07:11.208Z",
         "2025-07-16T08:07:11.208Z"
        ],
        [
         "P0122",
         38,
         "2025-07-16T08:07:11.208Z",
         "2025-07-16T08:07:11.208Z"
        ],
        [
         "P0133",
         39,
         "2025-07-16T08:07:11.208Z",
         "2025-07-16T08:07:11.208Z"
        ],
        [
         "P0160",
         40,
         "2025-07-16T08:07:11.208Z",
         "2025-07-16T08:07:11.208Z"
        ],
        [
         "P0167",
         41,
         "2025-07-16T08:07:11.208Z",
         "2025-07-16T08:07:11.208Z"
        ],
        [
         "P0177",
         42,
         "2025-07-16T08:07:11.208Z",
         "2025-07-16T08:07:11.208Z"
        ],
        [
         "P0189",
         43,
         "2025-07-16T08:07:11.208Z",
         "2025-07-16T08:07:11.208Z"
        ],
        [
         "P0011",
         44,
         "2025-07-16T08:07:11.208Z",
         "2025-07-16T08:07:11.208Z"
        ],
        [
         "P0020",
         45,
         "2025-07-16T08:07:11.208Z",
         "2025-07-16T08:07:11.208Z"
        ],
        [
         "P0032",
         46,
         "2025-07-16T08:07:11.208Z",
         "2025-07-16T08:07:11.208Z"
        ],
        [
         "P0045",
         47,
         "2025-07-16T08:07:11.208Z",
         "2025-07-16T08:07:11.208Z"
        ],
        [
         "P0088",
         48,
         "2025-07-16T08:07:11.208Z",
         "2025-07-16T08:07:11.208Z"
        ],
        [
         "P0110",
         49,
         "2025-07-16T08:07:11.208Z",
         "2025-07-16T08:07:11.208Z"
        ],
        [
         "P0113",
         50,
         "2025-07-16T08:07:11.208Z",
         "2025-07-16T08:07:11.208Z"
        ],
        [
         "P0125",
         51,
         "2025-07-16T08:07:11.208Z",
         "2025-07-16T08:07:11.208Z"
        ],
        [
         "P0136",
         52,
         "2025-07-16T08:07:11.208Z",
         "2025-07-16T08:07:11.208Z"
        ],
        [
         "P0149",
         53,
         "2025-07-16T08:07:11.208Z",
         "2025-07-16T08:07:11.208Z"
        ],
        [
         "P0152",
         54,
         "2025-07-16T08:07:11.208Z",
         "2025-07-16T08:07:11.208Z"
        ],
        [
         "P0169",
         55,
         "2025-07-16T08:07:11.208Z",
         "2025-07-16T08:07:11.208Z"
        ],
        [
         "P0034",
         56,
         "2025-07-16T08:07:11.208Z",
         "2025-07-16T08:07:11.208Z"
        ],
        [
         "P0036",
         57,
         "2025-07-16T08:07:11.208Z",
         "2025-07-16T08:07:11.208Z"
        ],
        [
         "P0082",
         58,
         "2025-07-16T08:07:11.208Z",
         "2025-07-16T08:07:11.208Z"
        ],
        [
         "P0084",
         59,
         "2025-07-16T08:07:11.208Z",
         "2025-07-16T08:07:11.208Z"
        ],
        [
         "P0087",
         60,
         "2025-07-16T08:07:11.208Z",
         "2025-07-16T08:07:11.208Z"
        ],
        [
         "P0094",
         61,
         "2025-07-16T08:07:11.208Z",
         "2025-07-16T08:07:11.208Z"
        ],
        [
         "P0100",
         62,
         "2025-07-16T08:07:11.208Z",
         "2025-07-16T08:07:11.208Z"
        ],
        [
         "P0141",
         63,
         "2025-07-16T08:07:11.208Z",
         "2025-07-16T08:07:11.208Z"
        ],
        [
         "P0150",
         64,
         "2025-07-16T08:07:11.208Z",
         "2025-07-16T08:07:11.208Z"
        ],
        [
         "P0163",
         65,
         "2025-07-16T08:07:11.208Z",
         "2025-07-16T08:07:11.208Z"
        ],
        [
         "P0164",
         66,
         "2025-07-16T08:07:11.208Z",
         "2025-07-16T08:07:11.208Z"
        ],
        [
         "P0013",
         67,
         "2025-07-16T08:07:11.208Z",
         "2025-07-16T08:07:11.208Z"
        ],
        [
         "P0038",
         68,
         "2025-07-16T08:07:11.208Z",
         "2025-07-16T08:07:11.208Z"
        ],
        [
         "P0060",
         69,
         "2025-07-16T08:07:11.208Z",
         "2025-07-16T08:07:11.208Z"
        ],
        [
         "P0061",
         70,
         "2025-07-16T08:07:11.208Z",
         "2025-07-16T08:07:11.208Z"
        ],
        [
         "P0107",
         71,
         "2025-07-16T08:07:11.208Z",
         "2025-07-16T08:07:11.208Z"
        ],
        [
         "P0111",
         72,
         "2025-07-16T08:07:11.208Z",
         "2025-07-16T08:07:11.208Z"
        ],
        [
         "P0128",
         73,
         "2025-07-16T08:07:11.208Z",
         "2025-07-16T08:07:11.208Z"
        ],
        [
         "P0131",
         74,
         "2025-07-16T08:07:11.208Z",
         "2025-07-16T08:07:11.208Z"
        ],
        [
         "P0139",
         75,
         "2025-07-16T08:07:11.208Z",
         "2025-07-16T08:07:11.208Z"
        ],
        [
         "P0158",
         76,
         "2025-07-16T08:07:11.208Z",
         "2025-07-16T08:07:11.208Z"
        ],
        [
         "P0188",
         77,
         "2025-07-16T08:07:11.208Z",
         "2025-07-16T08:07:11.208Z"
        ],
        [
         "P0001",
         78,
         "2025-07-16T08:07:11.208Z",
         "2025-07-16T08:07:11.208Z"
        ],
        [
         "P0026",
         79,
         "2025-07-16T08:07:11.208Z",
         "2025-07-16T08:07:11.208Z"
        ],
        [
         "P0145",
         80,
         "2025-07-16T08:07:11.208Z",
         "2025-07-16T08:07:11.208Z"
        ],
        [
         "P0153",
         81,
         "2025-07-16T08:07:11.208Z",
         "2025-07-16T08:07:11.208Z"
        ],
        [
         "P0155",
         82,
         "2025-07-16T08:07:11.208Z",
         "2025-07-16T08:07:11.208Z"
        ],
        [
         "P0170",
         83,
         "2025-07-16T08:07:11.208Z",
         "2025-07-16T08:07:11.208Z"
        ],
        [
         "P0173",
         84,
         "2025-07-16T08:07:11.208Z",
         "2025-07-16T08:07:11.208Z"
        ],
        [
         "P0176",
         85,
         "2025-07-16T08:07:11.208Z",
         "2025-07-16T08:07:11.208Z"
        ],
        [
         "P0196",
         86,
         "2025-07-16T08:07:11.208Z",
         "2025-07-16T08:07:11.208Z"
        ],
        [
         "P0199",
         87,
         "2025-07-16T08:07:11.208Z",
         "2025-07-16T08:07:11.208Z"
        ],
        [
         "P0044",
         88,
         "2025-07-16T08:07:11.208Z",
         "2025-07-16T08:07:11.208Z"
        ],
        [
         "P0046",
         89,
         "2025-07-16T08:07:11.208Z",
         "2025-07-16T08:07:11.208Z"
        ],
        [
         "P0064",
         90,
         "2025-07-16T08:07:11.208Z",
         "2025-07-16T08:07:11.208Z"
        ],
        [
         "P0074",
         91,
         "2025-07-16T08:07:11.208Z",
         "2025-07-16T08:07:11.208Z"
        ],
        [
         "P0096",
         92,
         "2025-07-16T08:07:11.208Z",
         "2025-07-16T08:07:11.208Z"
        ],
        [
         "P0099",
         93,
         "2025-07-16T08:07:11.208Z",
         "2025-07-16T08:07:11.208Z"
        ],
        [
         "P0116",
         94,
         "2025-07-16T08:07:11.208Z",
         "2025-07-16T08:07:11.208Z"
        ],
        [
         "P0129",
         95,
         "2025-07-16T08:07:11.208Z",
         "2025-07-16T08:07:11.208Z"
        ],
        [
         "P0161",
         96,
         "2025-07-16T08:07:11.208Z",
         "2025-07-16T08:07:11.208Z"
        ],
        [
         "P0180",
         97,
         "2025-07-16T08:07:11.208Z",
         "2025-07-16T08:07:11.208Z"
        ],
        [
         "P0181",
         98,
         "2025-07-16T08:07:11.208Z",
         "2025-07-16T08:07:11.208Z"
        ],
        [
         "P0006",
         99,
         "2025-07-16T08:07:11.208Z",
         "2025-07-16T08:07:11.208Z"
        ],
        [
         "P0015",
         100,
         "2025-07-16T08:07:11.208Z",
         "2025-07-16T08:07:11.208Z"
        ],
        [
         "P0019",
         101,
         "2025-07-16T08:07:11.208Z",
         "2025-07-16T08:07:11.208Z"
        ],
        [
         "P0054",
         102,
         "2025-07-16T08:07:11.208Z",
         "2025-07-16T08:07:11.208Z"
        ],
        [
         "P0069",
         103,
         "2025-07-16T08:07:11.208Z",
         "2025-07-16T08:07:11.208Z"
        ],
        [
         "P0075",
         104,
         "2025-07-16T08:07:11.208Z",
         "2025-07-16T08:07:11.208Z"
        ],
        [
         "P0079",
         105,
         "2025-07-16T08:07:11.208Z",
         "2025-07-16T08:07:11.208Z"
        ],
        [
         "P0089",
         106,
         "2025-07-16T08:07:11.208Z",
         "2025-07-16T08:07:11.208Z"
        ],
        [
         "P0092",
         107,
         "2025-07-16T08:07:11.208Z",
         "2025-07-16T08:07:11.208Z"
        ],
        [
         "P0101",
         108,
         "2025-07-16T08:07:11.208Z",
         "2025-07-16T08:07:11.208Z"
        ],
        [
         "P0140",
         109,
         "2025-07-16T08:07:11.208Z",
         "2025-07-16T08:07:11.208Z"
        ],
        [
         "P0154",
         110,
         "2025-07-16T08:07:11.208Z",
         "2025-07-16T08:07:11.208Z"
        ],
        [
         "P0009",
         111,
         "2025-07-16T08:07:11.208Z",
         "2025-07-16T08:07:11.208Z"
        ],
        [
         "P0010",
         112,
         "2025-07-16T08:07:11.208Z",
         "2025-07-16T08:07:11.208Z"
        ],
        [
         "P0028",
         113,
         "2025-07-16T08:07:11.208Z",
         "2025-07-16T08:07:11.208Z"
        ],
        [
         "P0030",
         114,
         "2025-07-16T08:07:11.208Z",
         "2025-07-16T08:07:11.208Z"
        ],
        [
         "P0042",
         115,
         "2025-07-16T08:07:11.208Z",
         "2025-07-16T08:07:11.208Z"
        ],
        [
         "P0052",
         116,
         "2025-07-16T08:07:11.208Z",
         "2025-07-16T08:07:11.208Z"
        ],
        [
         "P0093",
         117,
         "2025-07-16T08:07:11.208Z",
         "2025-07-16T08:07:11.208Z"
        ],
        [
         "P0112",
         118,
         "2025-07-16T08:07:11.208Z",
         "2025-07-16T08:07:11.208Z"
        ],
        [
         "P0118",
         119,
         "2025-07-16T08:07:11.208Z",
         "2025-07-16T08:07:11.208Z"
        ],
        [
         "P0132",
         120,
         "2025-07-16T08:07:11.208Z",
         "2025-07-16T08:07:11.208Z"
        ],
        [
         "P0147",
         121,
         "2025-07-16T08:07:11.208Z",
         "2025-07-16T08:07:11.208Z"
        ],
        [
         "P0183",
         122,
         "2025-07-16T08:07:11.208Z",
         "2025-07-16T08:07:11.208Z"
        ],
        [
         "P0185",
         123,
         "2025-07-16T08:07:11.208Z",
         "2025-07-16T08:07:11.208Z"
        ],
        [
         "P0190",
         124,
         "2025-07-16T08:07:11.208Z",
         "2025-07-16T08:07:11.208Z"
        ],
        [
         "P0008",
         125,
         "2025-07-16T08:07:11.208Z",
         "2025-07-16T08:07:11.208Z"
        ],
        [
         "P0027",
         126,
         "2025-07-16T08:07:11.208Z",
         "2025-07-16T08:07:11.208Z"
        ],
        [
         "P0031",
         127,
         "2025-07-16T08:07:11.208Z",
         "2025-07-16T08:07:11.208Z"
        ],
        [
         "P0048",
         128,
         "2025-07-16T08:07:11.208Z",
         "2025-07-16T08:07:11.208Z"
        ],
        [
         "P0056",
         129,
         "2025-07-16T08:07:11.208Z",
         "2025-07-16T08:07:11.208Z"
        ],
        [
         "P0062",
         130,
         "2025-07-16T08:07:11.208Z",
         "2025-07-16T08:07:11.208Z"
        ],
        [
         "P0063",
         131,
         "2025-07-16T08:07:11.208Z",
         "2025-07-16T08:07:11.208Z"
        ],
        [
         "P0065",
         132,
         "2025-07-16T08:07:11.208Z",
         "2025-07-16T08:07:11.208Z"
        ],
        [
         "P0078",
         133,
         "2025-07-16T08:07:11.208Z",
         "2025-07-16T08:07:11.208Z"
        ],
        [
         "P0095",
         134,
         "2025-07-16T08:07:11.208Z",
         "2025-07-16T08:07:11.208Z"
        ],
        [
         "P0126",
         135,
         "2025-07-16T08:07:11.208Z",
         "2025-07-16T08:07:11.208Z"
        ],
        [
         "P0162",
         136,
         "2025-07-16T08:07:11.208Z",
         "2025-07-16T08:07:11.208Z"
        ],
        [
         "P0017",
         137,
         "2025-07-16T08:07:11.208Z",
         "2025-07-16T08:07:11.208Z"
        ],
        [
         "P0029",
         138,
         "2025-07-16T08:07:11.208Z",
         "2025-07-16T08:07:11.208Z"
        ],
        [
         "P0039",
         139,
         "2025-07-16T08:07:11.208Z",
         "2025-07-16T08:07:11.208Z"
        ],
        [
         "P0059",
         140,
         "2025-07-16T08:07:11.208Z",
         "2025-07-16T08:07:11.208Z"
        ],
        [
         "P0068",
         141,
         "2025-07-16T08:07:11.208Z",
         "2025-07-16T08:07:11.208Z"
        ],
        [
         "P0086",
         142,
         "2025-07-16T08:07:11.208Z",
         "2025-07-16T08:07:11.208Z"
        ],
        [
         "P0144",
         143,
         "2025-07-16T08:07:11.208Z",
         "2025-07-16T08:07:11.208Z"
        ],
        [
         "P0165",
         144,
         "2025-07-16T08:07:11.208Z",
         "2025-07-16T08:07:11.208Z"
        ],
        [
         "P0168",
         145,
         "2025-07-16T08:07:11.208Z",
         "2025-07-16T08:07:11.208Z"
        ],
        [
         "P0197",
         146,
         "2025-07-16T08:07:11.208Z",
         "2025-07-16T08:07:11.208Z"
        ],
        [
         "P0025",
         147,
         "2025-07-16T08:07:11.208Z",
         "2025-07-16T08:07:11.208Z"
        ],
        [
         "P0050",
         148,
         "2025-07-16T08:07:11.208Z",
         "2025-07-16T08:07:11.208Z"
        ],
        [
         "P0055",
         149,
         "2025-07-16T08:07:11.208Z",
         "2025-07-16T08:07:11.208Z"
        ],
        [
         "P0067",
         150,
         "2025-07-16T08:07:11.208Z",
         "2025-07-16T08:07:11.208Z"
        ],
        [
         "P0070",
         151,
         "2025-07-16T08:07:11.208Z",
         "2025-07-16T08:07:11.208Z"
        ],
        [
         "P0098",
         152,
         "2025-07-16T08:07:11.208Z",
         "2025-07-16T08:07:11.208Z"
        ],
        [
         "P0109",
         153,
         "2025-07-16T08:07:11.208Z",
         "2025-07-16T08:07:11.208Z"
        ],
        [
         "P0127",
         154,
         "2025-07-16T08:07:11.208Z",
         "2025-07-16T08:07:11.208Z"
        ],
        [
         "P0143",
         155,
         "2025-07-16T08:07:11.208Z",
         "2025-07-16T08:07:11.208Z"
        ],
        [
         "P0175",
         156,
         "2025-07-16T08:07:11.208Z",
         "2025-07-16T08:07:11.208Z"
        ],
        [
         "P0184",
         157,
         "2025-07-16T08:07:11.208Z",
         "2025-07-16T08:07:11.208Z"
        ],
        [
         "P0187",
         158,
         "2025-07-16T08:07:11.208Z",
         "2025-07-16T08:07:11.208Z"
        ],
        [
         "P0037",
         159,
         "2025-07-16T08:07:11.208Z",
         "2025-07-16T08:07:11.208Z"
        ],
        [
         "P0043",
         160,
         "2025-07-16T08:07:11.208Z",
         "2025-07-16T08:07:11.208Z"
        ],
        [
         "P0102",
         161,
         "2025-07-16T08:07:11.208Z",
         "2025-07-16T08:07:11.208Z"
        ],
        [
         "P0105",
         162,
         "2025-07-16T08:07:11.208Z",
         "2025-07-16T08:07:11.208Z"
        ],
        [
         "P0117",
         163,
         "2025-07-16T08:07:11.208Z",
         "2025-07-16T08:07:11.208Z"
        ],
        [
         "P0121",
         164,
         "2025-07-16T08:07:11.208Z",
         "2025-07-16T08:07:11.208Z"
        ],
        [
         "P0124",
         165,
         "2025-07-16T08:07:11.208Z",
         "2025-07-16T08:07:11.208Z"
        ],
        [
         "P0137",
         166,
         "2025-07-16T08:07:11.208Z",
         "2025-07-16T08:07:11.208Z"
        ],
        [
         "P0156",
         167,
         "2025-07-16T08:07:11.208Z",
         "2025-07-16T08:07:11.208Z"
        ],
        [
         "P0157",
         168,
         "2025-07-16T08:07:11.208Z",
         "2025-07-16T08:07:11.208Z"
        ],
        [
         "P0179",
         169,
         "2025-07-16T08:07:11.208Z",
         "2025-07-16T08:07:11.208Z"
        ],
        [
         "P0182",
         170,
         "2025-07-16T08:07:11.208Z",
         "2025-07-16T08:07:11.208Z"
        ],
        [
         "P0193",
         171,
         "2025-07-16T08:07:11.208Z",
         "2025-07-16T08:07:11.208Z"
        ],
        [
         "P0200",
         172,
         "2025-07-16T08:07:11.208Z",
         "2025-07-16T08:07:11.208Z"
        ],
        [
         "P0016",
         173,
         "2025-07-16T08:07:11.208Z",
         "2025-07-16T08:07:11.208Z"
        ],
        [
         "P0024",
         174,
         "2025-07-16T08:07:11.208Z",
         "2025-07-16T08:07:11.208Z"
        ],
        [
         "P0047",
         175,
         "2025-07-16T08:07:11.208Z",
         "2025-07-16T08:07:11.208Z"
        ],
        [
         "P0053",
         176,
         "2025-07-16T08:07:11.208Z",
         "2025-07-16T08:07:11.208Z"
        ],
        [
         "P0076",
         177,
         "2025-07-16T08:07:11.208Z",
         "2025-07-16T08:07:11.208Z"
        ],
        [
         "P0172",
         178,
         "2025-07-16T08:07:11.208Z",
         "2025-07-16T08:07:11.208Z"
        ],
        [
         "P0174",
         179,
         "2025-07-16T08:07:11.208Z",
         "2025-07-16T08:07:11.208Z"
        ],
        [
         "P0178",
         180,
         "2025-07-16T08:07:11.208Z",
         "2025-07-16T08:07:11.208Z"
        ],
        [
         "P0194",
         181,
         "2025-07-16T08:07:11.208Z",
         "2025-07-16T08:07:11.208Z"
        ],
        [
         "P0198",
         182,
         "2025-07-16T08:07:11.208Z",
         "2025-07-16T08:07:11.208Z"
        ],
        [
         "P0003",
         183,
         "2025-07-16T08:07:11.208Z",
         "2025-07-16T08:07:11.208Z"
        ],
        [
         "P0012",
         184,
         "2025-07-16T08:07:11.208Z",
         "2025-07-16T08:07:11.208Z"
        ],
        [
         "P0018",
         185,
         "2025-07-16T08:07:11.208Z",
         "2025-07-16T08:07:11.208Z"
        ],
        [
         "P0021",
         186,
         "2025-07-16T08:07:11.208Z",
         "2025-07-16T08:07:11.208Z"
        ],
        [
         "P0035",
         187,
         "2025-07-16T08:07:11.208Z",
         "2025-07-16T08:07:11.208Z"
        ],
        [
         "P0058",
         188,
         "2025-07-16T08:07:11.208Z",
         "2025-07-16T08:07:11.208Z"
        ],
        [
         "P0066",
         189,
         "2025-07-16T08:07:11.208Z",
         "2025-07-16T08:07:11.208Z"
        ],
        [
         "P0071",
         190,
         "2025-07-16T08:07:11.208Z",
         "2025-07-16T08:07:11.208Z"
        ],
        [
         "P0072",
         191,
         "2025-07-16T08:07:11.208Z",
         "2025-07-16T08:07:11.208Z"
        ],
        [
         "P0073",
         192,
         "2025-07-16T08:07:11.208Z",
         "2025-07-16T08:07:11.208Z"
        ],
        [
         "P0081",
         193,
         "2025-07-16T08:07:11.208Z",
         "2025-07-16T08:07:11.208Z"
        ],
        [
         "P0085",
         194,
         "2025-07-16T08:07:11.208Z",
         "2025-07-16T08:07:11.208Z"
        ],
        [
         "P0103",
         195,
         "2025-07-16T08:07:11.208Z",
         "2025-07-16T08:07:11.208Z"
        ],
        [
         "P0104",
         196,
         "2025-07-16T08:07:11.208Z",
         "2025-07-16T08:07:11.208Z"
        ],
        [
         "P0106",
         197,
         "2025-07-16T08:07:11.208Z",
         "2025-07-16T08:07:11.208Z"
        ],
        [
         "P0119",
         198,
         "2025-07-16T08:07:11.208Z",
         "2025-07-16T08:07:11.208Z"
        ],
        [
         "P0166",
         199,
         "2025-07-16T08:07:11.208Z",
         "2025-07-16T08:07:11.208Z"
        ],
        [
         "P0191",
         200,
         "2025-07-16T08:07:11.208Z",
         "2025-07-16T08:07:11.208Z"
        ],
        [
         "P0206",
         201,
         "2025-07-16T08:07:11.208Z",
         "2025-07-16T08:07:11.208Z"
        ],
        [
         "P0211",
         202,
         "2025-07-16T08:07:11.208Z",
         "2025-07-16T08:07:11.208Z"
        ],
        [
         "P0212",
         203,
         "2025-07-16T08:07:11.208Z",
         "2025-07-16T08:07:11.208Z"
        ],
        [
         "P0216",
         204,
         "2025-07-16T08:07:11.208Z",
         "2025-07-16T08:07:11.208Z"
        ],
        [
         "P0209",
         205,
         "2025-07-16T08:07:11.208Z",
         "2025-07-16T08:07:11.208Z"
        ],
        [
         "P0220",
         206,
         "2025-07-16T08:07:11.208Z",
         "2025-07-16T08:07:11.208Z"
        ],
        [
         "P0215",
         207,
         "2025-07-16T08:07:11.208Z",
         "2025-07-16T08:07:11.208Z"
        ],
        [
         "P0219",
         208,
         "2025-07-16T08:07:11.208Z",
         "2025-07-16T08:07:11.208Z"
        ],
        [
         "P0201",
         209,
         "2025-07-16T08:07:11.208Z",
         "2025-07-16T08:07:11.208Z"
        ],
        [
         "P0207",
         210,
         "2025-07-16T08:07:11.208Z",
         "2025-07-16T08:07:11.208Z"
        ],
        [
         "P0214",
         211,
         "2025-07-16T08:07:11.208Z",
         "2025-07-16T08:07:11.208Z"
        ],
        [
         "P0218",
         212,
         "2025-07-16T08:07:11.208Z",
         "2025-07-16T08:07:11.208Z"
        ],
        [
         "P0202",
         213,
         "2025-07-16T08:07:11.208Z",
         "2025-07-16T08:07:11.208Z"
        ],
        [
         "P0205",
         214,
         "2025-07-16T08:07:11.208Z",
         "2025-07-16T08:07:11.208Z"
        ],
        [
         "P0210",
         215,
         "2025-07-16T08:07:11.208Z",
         "2025-07-16T08:07:11.208Z"
        ],
        [
         "P0203",
         216,
         "2025-07-16T08:07:11.208Z",
         "2025-07-16T08:07:11.208Z"
        ],
        [
         "P0213",
         217,
         "2025-07-16T08:07:11.208Z",
         "2025-07-16T08:07:11.208Z"
        ],
        [
         "P0217",
         218,
         "2025-07-16T08:07:11.208Z",
         "2025-07-16T08:07:11.208Z"
        ],
        [
         "P0208",
         219,
         "2025-07-16T08:07:11.208Z",
         "2025-07-16T08:07:11.208Z"
        ],
        [
         "P0204",
         220,
         "2025-07-16T08:07:11.208Z",
         "2025-07-16T08:07:11.208Z"
        ]
       ],
       "datasetInfos": [],
       "dbfsResultPath": null,
       "isJsonSchema": true,
       "metadata": {},
       "overflow": false,
       "plotOptions": {
        "customPlotOptions": {},
        "displayType": "table",
        "pivotAggregation": null,
        "pivotColumns": null,
        "xColumns": null,
        "yColumns": null
       },
       "removedWidgets": [],
       "schema": [
        {
         "metadata": "{}",
         "name": "passenger_id",
         "type": "\"string\""
        },
        {
         "metadata": "{}",
         "name": "DimPassengersKey",
         "type": "\"long\""
        },
        {
         "metadata": "{}",
         "name": "create_date",
         "type": "\"timestamp\""
        },
        {
         "metadata": "{}",
         "name": "update_date",
         "type": "\"timestamp\""
        }
       ],
       "type": "table"
      }
     },
     "output_type": "display_data"
    }
   ],
   "source": [
    "df_trg.display()"
   ]
  },
  {
   "cell_type": "markdown",
   "metadata": {
    "application/vnd.databricks.v1+cell": {
     "cellMetadata": {
      "byteLimit": 2048000,
      "rowLimit": 10000
     },
     "inputWidgets": {},
     "nuid": "3d7a460c-a0cf-420f-b96c-eedb253db722",
     "showTitle": false,
     "tableResultSettingsMap": {},
     "title": ""
    }
   },
   "source": [
    "**JOIN CONDITION**\n"
   ]
  },
  {
   "cell_type": "code",
   "execution_count": 0,
   "metadata": {
    "application/vnd.databricks.v1+cell": {
     "cellMetadata": {
      "byteLimit": 2048000,
      "rowLimit": 10000
     },
     "inputWidgets": {},
     "nuid": "14e23117-8b27-4831-add1-7019913d24e7",
     "showTitle": false,
     "tableResultSettingsMap": {},
     "title": ""
    }
   },
   "outputs": [],
   "source": [
    "join_condition = ' AND '.join([f\"src.{i} = trg.{i}\" for i in key_cols_list])\n",
    "# join_condition"
   ]
  },
  {
   "cell_type": "code",
   "execution_count": 0,
   "metadata": {
    "application/vnd.databricks.v1+cell": {
     "cellMetadata": {
      "byteLimit": 2048000,
      "rowLimit": 10000
     },
     "inputWidgets": {},
     "nuid": "bc0dfabd-9e9c-42ef-83dd-6284f886fcae",
     "showTitle": false,
     "tableResultSettingsMap": {},
     "title": ""
    }
   },
   "outputs": [],
   "source": [
    "df_src.createOrReplaceTempView(\"src\")\n",
    "df_trg.createOrReplaceTempView(\"trg\")\n",
    "\n",
    "\n",
    "df_join = spark.sql(f\"\"\"\n",
    "                  SELECT src.*,\n",
    "                        trg.{surrogate_key_col},\n",
    "                        trg.create_date,\n",
    "                        trg.update_date\n",
    "                  FROM src\n",
    "                  LEFT JOIN trg\n",
    "                  ON {join_condition}\n",
    "                  \"\"\")"
   ]
  },
  {
   "cell_type": "code",
   "execution_count": 0,
   "metadata": {
    "application/vnd.databricks.v1+cell": {
     "cellMetadata": {
      "byteLimit": 2048000,
      "rowLimit": 10000
     },
     "collapsed": true,
     "inputWidgets": {},
     "nuid": "5f3fbb1d-eebd-4bc7-8b3d-124984aede1c",
     "showTitle": false,
     "tableResultSettingsMap": {},
     "title": ""
    }
   },
   "outputs": [
    {
     "output_type": "display_data",
     "data": {
      "text/html": [
       "<style scoped>\n",
       "  .table-result-container {\n",
       "    max-height: 300px;\n",
       "    overflow: auto;\n",
       "  }\n",
       "  table, th, td {\n",
       "    border: 1px solid black;\n",
       "    border-collapse: collapse;\n",
       "  }\n",
       "  th, td {\n",
       "    padding: 5px;\n",
       "  }\n",
       "  th {\n",
       "    text-align: left;\n",
       "  }\n",
       "</style><div class='table-result-container'><table class='table-result'><thead style='background-color: white'><tr><th>passenger_id</th><th>name</th><th>gender</th><th>nationality</th><th>modifiedDate</th><th>DimPassengersKey</th><th>create_date</th><th>update_date</th></tr></thead><tbody><tr><td>P0155</td><td>Robert Singleton</td><td>Female</td><td>Northern Mariana Islands</td><td>2025-07-16T08:26:59.574Z</td><td>82</td><td>2025-07-16T08:07:11.208Z</td><td>2025-07-16T08:07:11.208Z</td></tr><tr><td>P0106</td><td>Joshua Shepherd Jr.</td><td>Female</td><td>Netherlands</td><td>2025-07-16T08:26:59.574Z</td><td>197</td><td>2025-07-16T08:07:11.208Z</td><td>2025-07-16T08:07:11.208Z</td></tr><tr><td>P0032</td><td>Daniel Douglas</td><td>Male</td><td>Singapore</td><td>2025-07-16T08:26:59.574Z</td><td>46</td><td>2025-07-16T08:07:11.208Z</td><td>2025-07-16T08:07:11.208Z</td></tr><tr><td>P0154</td><td>Angel Thompson</td><td>Female</td><td>Gambia</td><td>2025-07-16T08:26:59.574Z</td><td>110</td><td>2025-07-16T08:07:11.208Z</td><td>2025-07-16T08:07:11.208Z</td></tr><tr><td>P0196</td><td>Monica Dillon</td><td>Female</td><td>Belarus</td><td>2025-07-16T08:26:59.574Z</td><td>86</td><td>2025-07-16T08:07:11.208Z</td><td>2025-07-16T08:07:11.208Z</td></tr><tr><td>P0049</td><td>Justin Thomas</td><td>Female</td><td>Tokelau</td><td>2025-07-16T08:26:59.574Z</td><td>7</td><td>2025-07-16T08:07:11.208Z</td><td>2025-07-16T08:07:11.208Z</td></tr><tr><td>P0108</td><td>Brian Anderson</td><td>Female</td><td>Eritrea</td><td>2025-07-16T08:26:59.574Z</td><td>36</td><td>2025-07-16T08:07:11.208Z</td><td>2025-07-16T08:07:11.208Z</td></tr><tr><td>P0113</td><td>Brian Richardson</td><td>Male</td><td>Dominican Republic</td><td>2025-07-16T08:26:59.574Z</td><td>50</td><td>2025-07-16T08:07:11.208Z</td><td>2025-07-16T08:07:11.208Z</td></tr><tr><td>P0158</td><td>Jamie Mcneil</td><td>Male</td><td>Burundi</td><td>2025-07-16T08:26:59.574Z</td><td>76</td><td>2025-07-16T08:07:11.208Z</td><td>2025-07-16T08:07:11.208Z</td></tr><tr><td>P0149</td><td>Katherine Bowen DVM</td><td>Male</td><td>Mexico</td><td>2025-07-16T08:26:59.574Z</td><td>53</td><td>2025-07-16T08:07:11.208Z</td><td>2025-07-16T08:07:11.208Z</td></tr><tr><td>P0225</td><td>William Lopez</td><td>Male</td><td>Heard Island and McDonald Islands</td><td>2025-07-16T08:26:59.574Z</td><td>null</td><td>null</td><td>null</td></tr><tr><td>P0224</td><td>Jason Jensen</td><td>Female</td><td>Rwanda</td><td>2025-07-16T08:26:59.574Z</td><td>null</td><td>null</td><td>null</td></tr><tr><td>P0223</td><td>Nicholas Gomez</td><td>Female</td><td>Cook Islands</td><td>2025-07-16T08:26:59.574Z</td><td>null</td><td>null</td><td>null</td></tr><tr><td>P0222</td><td>Maria Taylor</td><td>Male</td><td>Lao People's Democratic Republic</td><td>2025-07-16T08:26:59.574Z</td><td>null</td><td>null</td><td>null</td></tr><tr><td>P0221</td><td>Amy Welch</td><td>Male</td><td>Croatia</td><td>2025-07-16T08:26:59.574Z</td><td>null</td><td>null</td><td>null</td></tr></tbody></table></div>"
      ]
     },
     "metadata": {
      "application/vnd.databricks.v1+output": {
       "addedWidgets": {},
       "aggData": [],
       "aggError": "",
       "aggOverflow": false,
       "aggSchema": [],
       "aggSeriesLimitReached": false,
       "aggType": "",
       "arguments": {},
       "columnCustomDisplayInfos": {},
       "data": [
        [
         "P0155",
         "Robert Singleton",
         "Female",
         "Northern Mariana Islands",
         "2025-07-16T08:26:59.574Z",
         82,
         "2025-07-16T08:07:11.208Z",
         "2025-07-16T08:07:11.208Z"
        ],
        [
         "P0106",
         "Joshua Shepherd Jr.",
         "Female",
         "Netherlands",
         "2025-07-16T08:26:59.574Z",
         197,
         "2025-07-16T08:07:11.208Z",
         "2025-07-16T08:07:11.208Z"
        ],
        [
         "P0032",
         "Daniel Douglas",
         "Male",
         "Singapore",
         "2025-07-16T08:26:59.574Z",
         46,
         "2025-07-16T08:07:11.208Z",
         "2025-07-16T08:07:11.208Z"
        ],
        [
         "P0154",
         "Angel Thompson",
         "Female",
         "Gambia",
         "2025-07-16T08:26:59.574Z",
         110,
         "2025-07-16T08:07:11.208Z",
         "2025-07-16T08:07:11.208Z"
        ],
        [
         "P0196",
         "Monica Dillon",
         "Female",
         "Belarus",
         "2025-07-16T08:26:59.574Z",
         86,
         "2025-07-16T08:07:11.208Z",
         "2025-07-16T08:07:11.208Z"
        ],
        [
         "P0049",
         "Justin Thomas",
         "Female",
         "Tokelau",
         "2025-07-16T08:26:59.574Z",
         7,
         "2025-07-16T08:07:11.208Z",
         "2025-07-16T08:07:11.208Z"
        ],
        [
         "P0108",
         "Brian Anderson",
         "Female",
         "Eritrea",
         "2025-07-16T08:26:59.574Z",
         36,
         "2025-07-16T08:07:11.208Z",
         "2025-07-16T08:07:11.208Z"
        ],
        [
         "P0113",
         "Brian Richardson",
         "Male",
         "Dominican Republic",
         "2025-07-16T08:26:59.574Z",
         50,
         "2025-07-16T08:07:11.208Z",
         "2025-07-16T08:07:11.208Z"
        ],
        [
         "P0158",
         "Jamie Mcneil",
         "Male",
         "Burundi",
         "2025-07-16T08:26:59.574Z",
         76,
         "2025-07-16T08:07:11.208Z",
         "2025-07-16T08:07:11.208Z"
        ],
        [
         "P0149",
         "Katherine Bowen DVM",
         "Male",
         "Mexico",
         "2025-07-16T08:26:59.574Z",
         53,
         "2025-07-16T08:07:11.208Z",
         "2025-07-16T08:07:11.208Z"
        ],
        [
         "P0225",
         "William Lopez",
         "Male",
         "Heard Island and McDonald Islands",
         "2025-07-16T08:26:59.574Z",
         null,
         null,
         null
        ],
        [
         "P0224",
         "Jason Jensen",
         "Female",
         "Rwanda",
         "2025-07-16T08:26:59.574Z",
         null,
         null,
         null
        ],
        [
         "P0223",
         "Nicholas Gomez",
         "Female",
         "Cook Islands",
         "2025-07-16T08:26:59.574Z",
         null,
         null,
         null
        ],
        [
         "P0222",
         "Maria Taylor",
         "Male",
         "Lao People's Democratic Republic",
         "2025-07-16T08:26:59.574Z",
         null,
         null,
         null
        ],
        [
         "P0221",
         "Amy Welch",
         "Male",
         "Croatia",
         "2025-07-16T08:26:59.574Z",
         null,
         null,
         null
        ]
       ],
       "datasetInfos": [],
       "dbfsResultPath": null,
       "isJsonSchema": true,
       "metadata": {},
       "overflow": false,
       "plotOptions": {
        "customPlotOptions": {},
        "displayType": "table",
        "pivotAggregation": null,
        "pivotColumns": null,
        "xColumns": null,
        "yColumns": null
       },
       "removedWidgets": [],
       "schema": [
        {
         "metadata": "{}",
         "name": "passenger_id",
         "type": "\"string\""
        },
        {
         "metadata": "{}",
         "name": "name",
         "type": "\"string\""
        },
        {
         "metadata": "{}",
         "name": "gender",
         "type": "\"string\""
        },
        {
         "metadata": "{}",
         "name": "nationality",
         "type": "\"string\""
        },
        {
         "metadata": "{}",
         "name": "modifiedDate",
         "type": "\"timestamp\""
        },
        {
         "metadata": "{}",
         "name": "DimPassengersKey",
         "type": "\"long\""
        },
        {
         "metadata": "{}",
         "name": "create_date",
         "type": "\"timestamp\""
        },
        {
         "metadata": "{}",
         "name": "update_date",
         "type": "\"timestamp\""
        }
       ],
       "type": "table"
      }
     },
     "output_type": "display_data"
    }
   ],
   "source": [
    "df_join.display()\n"
   ]
  },
  {
   "cell_type": "code",
   "execution_count": 0,
   "metadata": {
    "application/vnd.databricks.v1+cell": {
     "cellMetadata": {
      "byteLimit": 2048000,
      "rowLimit": 10000
     },
     "inputWidgets": {},
     "nuid": "f7516bf4-43bf-4d26-8934-f38fd205944b",
     "showTitle": false,
     "tableResultSettingsMap": {},
     "title": ""
    }
   },
   "outputs": [],
   "source": [
    "# OLD RECORDS\n",
    "df_old = df_join.filter(col(f\"{surrogate_key_col}\").isNotNull())\n",
    "\n",
    "# NEW RECORDS\n",
    "df_new = df_join.filter(col(f\"{surrogate_key_col}\").isNull())"
   ]
  },
  {
   "cell_type": "code",
   "execution_count": 0,
   "metadata": {
    "application/vnd.databricks.v1+cell": {
     "cellMetadata": {
      "byteLimit": 2048000,
      "rowLimit": 10000
     },
     "collapsed": true,
     "inputWidgets": {},
     "nuid": "6f7f2bd0-7ba7-4639-98bd-3d047d5879eb",
     "showTitle": false,
     "tableResultSettingsMap": {},
     "title": ""
    }
   },
   "outputs": [
    {
     "output_type": "display_data",
     "data": {
      "text/html": [
       "<style scoped>\n",
       "  .table-result-container {\n",
       "    max-height: 300px;\n",
       "    overflow: auto;\n",
       "  }\n",
       "  table, th, td {\n",
       "    border: 1px solid black;\n",
       "    border-collapse: collapse;\n",
       "  }\n",
       "  th, td {\n",
       "    padding: 5px;\n",
       "  }\n",
       "  th {\n",
       "    text-align: left;\n",
       "  }\n",
       "</style><div class='table-result-container'><table class='table-result'><thead style='background-color: white'><tr><th>passenger_id</th><th>name</th><th>gender</th><th>nationality</th><th>modifiedDate</th><th>DimPassengersKey</th><th>create_date</th><th>update_date</th></tr></thead><tbody><tr><td>P0049</td><td>Justin Thomas</td><td>Female</td><td>Tokelau</td><td>2025-07-16T08:26:59.574Z</td><td>7</td><td>2025-07-16T08:07:11.208Z</td><td>2025-07-16T08:07:11.208Z</td></tr><tr><td>P0108</td><td>Brian Anderson</td><td>Female</td><td>Eritrea</td><td>2025-07-16T08:26:59.574Z</td><td>36</td><td>2025-07-16T08:07:11.208Z</td><td>2025-07-16T08:07:11.208Z</td></tr><tr><td>P0032</td><td>Daniel Douglas</td><td>Male</td><td>Singapore</td><td>2025-07-16T08:26:59.574Z</td><td>46</td><td>2025-07-16T08:07:11.208Z</td><td>2025-07-16T08:07:11.208Z</td></tr><tr><td>P0113</td><td>Brian Richardson</td><td>Male</td><td>Dominican Republic</td><td>2025-07-16T08:26:59.574Z</td><td>50</td><td>2025-07-16T08:07:11.208Z</td><td>2025-07-16T08:07:11.208Z</td></tr><tr><td>P0149</td><td>Katherine Bowen DVM</td><td>Male</td><td>Mexico</td><td>2025-07-16T08:26:59.574Z</td><td>53</td><td>2025-07-16T08:07:11.208Z</td><td>2025-07-16T08:07:11.208Z</td></tr><tr><td>P0158</td><td>Jamie Mcneil</td><td>Male</td><td>Burundi</td><td>2025-07-16T08:26:59.574Z</td><td>76</td><td>2025-07-16T08:07:11.208Z</td><td>2025-07-16T08:07:11.208Z</td></tr><tr><td>P0155</td><td>Robert Singleton</td><td>Female</td><td>Northern Mariana Islands</td><td>2025-07-16T08:26:59.574Z</td><td>82</td><td>2025-07-16T08:07:11.208Z</td><td>2025-07-16T08:07:11.208Z</td></tr><tr><td>P0196</td><td>Monica Dillon</td><td>Female</td><td>Belarus</td><td>2025-07-16T08:26:59.574Z</td><td>86</td><td>2025-07-16T08:07:11.208Z</td><td>2025-07-16T08:07:11.208Z</td></tr><tr><td>P0154</td><td>Angel Thompson</td><td>Female</td><td>Gambia</td><td>2025-07-16T08:26:59.574Z</td><td>110</td><td>2025-07-16T08:07:11.208Z</td><td>2025-07-16T08:07:11.208Z</td></tr><tr><td>P0106</td><td>Joshua Shepherd Jr.</td><td>Female</td><td>Netherlands</td><td>2025-07-16T08:26:59.574Z</td><td>197</td><td>2025-07-16T08:07:11.208Z</td><td>2025-07-16T08:07:11.208Z</td></tr></tbody></table></div>"
      ]
     },
     "metadata": {
      "application/vnd.databricks.v1+output": {
       "addedWidgets": {},
       "aggData": [],
       "aggError": "",
       "aggOverflow": false,
       "aggSchema": [],
       "aggSeriesLimitReached": false,
       "aggType": "",
       "arguments": {},
       "columnCustomDisplayInfos": {},
       "data": [
        [
         "P0049",
         "Justin Thomas",
         "Female",
         "Tokelau",
         "2025-07-16T08:26:59.574Z",
         7,
         "2025-07-16T08:07:11.208Z",
         "2025-07-16T08:07:11.208Z"
        ],
        [
         "P0108",
         "Brian Anderson",
         "Female",
         "Eritrea",
         "2025-07-16T08:26:59.574Z",
         36,
         "2025-07-16T08:07:11.208Z",
         "2025-07-16T08:07:11.208Z"
        ],
        [
         "P0032",
         "Daniel Douglas",
         "Male",
         "Singapore",
         "2025-07-16T08:26:59.574Z",
         46,
         "2025-07-16T08:07:11.208Z",
         "2025-07-16T08:07:11.208Z"
        ],
        [
         "P0113",
         "Brian Richardson",
         "Male",
         "Dominican Republic",
         "2025-07-16T08:26:59.574Z",
         50,
         "2025-07-16T08:07:11.208Z",
         "2025-07-16T08:07:11.208Z"
        ],
        [
         "P0149",
         "Katherine Bowen DVM",
         "Male",
         "Mexico",
         "2025-07-16T08:26:59.574Z",
         53,
         "2025-07-16T08:07:11.208Z",
         "2025-07-16T08:07:11.208Z"
        ],
        [
         "P0158",
         "Jamie Mcneil",
         "Male",
         "Burundi",
         "2025-07-16T08:26:59.574Z",
         76,
         "2025-07-16T08:07:11.208Z",
         "2025-07-16T08:07:11.208Z"
        ],
        [
         "P0155",
         "Robert Singleton",
         "Female",
         "Northern Mariana Islands",
         "2025-07-16T08:26:59.574Z",
         82,
         "2025-07-16T08:07:11.208Z",
         "2025-07-16T08:07:11.208Z"
        ],
        [
         "P0196",
         "Monica Dillon",
         "Female",
         "Belarus",
         "2025-07-16T08:26:59.574Z",
         86,
         "2025-07-16T08:07:11.208Z",
         "2025-07-16T08:07:11.208Z"
        ],
        [
         "P0154",
         "Angel Thompson",
         "Female",
         "Gambia",
         "2025-07-16T08:26:59.574Z",
         110,
         "2025-07-16T08:07:11.208Z",
         "2025-07-16T08:07:11.208Z"
        ],
        [
         "P0106",
         "Joshua Shepherd Jr.",
         "Female",
         "Netherlands",
         "2025-07-16T08:26:59.574Z",
         197,
         "2025-07-16T08:07:11.208Z",
         "2025-07-16T08:07:11.208Z"
        ]
       ],
       "datasetInfos": [],
       "dbfsResultPath": null,
       "isJsonSchema": true,
       "metadata": {},
       "overflow": false,
       "plotOptions": {
        "customPlotOptions": {},
        "displayType": "table",
        "pivotAggregation": null,
        "pivotColumns": null,
        "xColumns": null,
        "yColumns": null
       },
       "removedWidgets": [],
       "schema": [
        {
         "metadata": "{}",
         "name": "passenger_id",
         "type": "\"string\""
        },
        {
         "metadata": "{}",
         "name": "name",
         "type": "\"string\""
        },
        {
         "metadata": "{}",
         "name": "gender",
         "type": "\"string\""
        },
        {
         "metadata": "{}",
         "name": "nationality",
         "type": "\"string\""
        },
        {
         "metadata": "{}",
         "name": "modifiedDate",
         "type": "\"timestamp\""
        },
        {
         "metadata": "{}",
         "name": "DimPassengersKey",
         "type": "\"long\""
        },
        {
         "metadata": "{}",
         "name": "create_date",
         "type": "\"timestamp\""
        },
        {
         "metadata": "{}",
         "name": "update_date",
         "type": "\"timestamp\""
        }
       ],
       "type": "table"
      }
     },
     "output_type": "display_data"
    }
   ],
   "source": [
    "df_old.display()"
   ]
  },
  {
   "cell_type": "markdown",
   "metadata": {
    "application/vnd.databricks.v1+cell": {
     "cellMetadata": {
      "byteLimit": 2048000,
      "rowLimit": 10000
     },
     "inputWidgets": {},
     "nuid": "740eb653-629f-44a5-a1ea-4d40a05ca52c",
     "showTitle": false,
     "tableResultSettingsMap": {},
     "title": ""
    }
   },
   "source": [
    "### **Enriching DFs**"
   ]
  },
  {
   "cell_type": "markdown",
   "metadata": {
    "application/vnd.databricks.v1+cell": {
     "cellMetadata": {
      "byteLimit": 2048000,
      "rowLimit": 10000
     },
     "inputWidgets": {},
     "nuid": "7efd8577-d069-4a5a-ab59-9d2040f2e885",
     "showTitle": false,
     "tableResultSettingsMap": {},
     "title": ""
    }
   },
   "source": [
    "#### **Preparing DF_OLD**"
   ]
  },
  {
   "cell_type": "code",
   "execution_count": 0,
   "metadata": {
    "application/vnd.databricks.v1+cell": {
     "cellMetadata": {
      "byteLimit": 2048000,
      "rowLimit": 10000
     },
     "inputWidgets": {},
     "nuid": "d362176e-f2a5-44ee-9032-78635b38fcf4",
     "showTitle": false,
     "tableResultSettingsMap": {},
     "title": ""
    }
   },
   "outputs": [],
   "source": [
    "df_old_enriched = df_old.withColumn(\"update_date\", current_timestamp())\n"
   ]
  },
  {
   "cell_type": "code",
   "execution_count": 0,
   "metadata": {
    "application/vnd.databricks.v1+cell": {
     "cellMetadata": {
      "byteLimit": 2048000,
      "rowLimit": 10000
     },
     "collapsed": true,
     "inputWidgets": {},
     "nuid": "78427939-3ea3-4217-bfd5-79bfead3d376",
     "showTitle": false,
     "tableResultSettingsMap": {},
     "title": ""
    }
   },
   "outputs": [
    {
     "output_type": "display_data",
     "data": {
      "text/html": [
       "<style scoped>\n",
       "  .table-result-container {\n",
       "    max-height: 300px;\n",
       "    overflow: auto;\n",
       "  }\n",
       "  table, th, td {\n",
       "    border: 1px solid black;\n",
       "    border-collapse: collapse;\n",
       "  }\n",
       "  th, td {\n",
       "    padding: 5px;\n",
       "  }\n",
       "  th {\n",
       "    text-align: left;\n",
       "  }\n",
       "</style><div class='table-result-container'><table class='table-result'><thead style='background-color: white'><tr><th>passenger_id</th><th>name</th><th>gender</th><th>nationality</th><th>modifiedDate</th><th>DimPassengersKey</th><th>create_date</th><th>update_date</th></tr></thead><tbody><tr><td>P0049</td><td>Justin Thomas</td><td>Female</td><td>Tokelau</td><td>2025-07-16T08:26:59.574Z</td><td>7</td><td>2025-07-16T08:07:11.208Z</td><td>2025-07-16T08:33:32.299Z</td></tr><tr><td>P0108</td><td>Brian Anderson</td><td>Female</td><td>Eritrea</td><td>2025-07-16T08:26:59.574Z</td><td>36</td><td>2025-07-16T08:07:11.208Z</td><td>2025-07-16T08:33:32.299Z</td></tr><tr><td>P0032</td><td>Daniel Douglas</td><td>Male</td><td>Singapore</td><td>2025-07-16T08:26:59.574Z</td><td>46</td><td>2025-07-16T08:07:11.208Z</td><td>2025-07-16T08:33:32.299Z</td></tr><tr><td>P0113</td><td>Brian Richardson</td><td>Male</td><td>Dominican Republic</td><td>2025-07-16T08:26:59.574Z</td><td>50</td><td>2025-07-16T08:07:11.208Z</td><td>2025-07-16T08:33:32.299Z</td></tr><tr><td>P0149</td><td>Katherine Bowen DVM</td><td>Male</td><td>Mexico</td><td>2025-07-16T08:26:59.574Z</td><td>53</td><td>2025-07-16T08:07:11.208Z</td><td>2025-07-16T08:33:32.299Z</td></tr><tr><td>P0158</td><td>Jamie Mcneil</td><td>Male</td><td>Burundi</td><td>2025-07-16T08:26:59.574Z</td><td>76</td><td>2025-07-16T08:07:11.208Z</td><td>2025-07-16T08:33:32.299Z</td></tr><tr><td>P0155</td><td>Robert Singleton</td><td>Female</td><td>Northern Mariana Islands</td><td>2025-07-16T08:26:59.574Z</td><td>82</td><td>2025-07-16T08:07:11.208Z</td><td>2025-07-16T08:33:32.299Z</td></tr><tr><td>P0196</td><td>Monica Dillon</td><td>Female</td><td>Belarus</td><td>2025-07-16T08:26:59.574Z</td><td>86</td><td>2025-07-16T08:07:11.208Z</td><td>2025-07-16T08:33:32.299Z</td></tr><tr><td>P0154</td><td>Angel Thompson</td><td>Female</td><td>Gambia</td><td>2025-07-16T08:26:59.574Z</td><td>110</td><td>2025-07-16T08:07:11.208Z</td><td>2025-07-16T08:33:32.299Z</td></tr><tr><td>P0106</td><td>Joshua Shepherd Jr.</td><td>Female</td><td>Netherlands</td><td>2025-07-16T08:26:59.574Z</td><td>197</td><td>2025-07-16T08:07:11.208Z</td><td>2025-07-16T08:33:32.299Z</td></tr></tbody></table></div>"
      ]
     },
     "metadata": {
      "application/vnd.databricks.v1+output": {
       "addedWidgets": {},
       "aggData": [],
       "aggError": "",
       "aggOverflow": false,
       "aggSchema": [],
       "aggSeriesLimitReached": false,
       "aggType": "",
       "arguments": {},
       "columnCustomDisplayInfos": {},
       "data": [
        [
         "P0049",
         "Justin Thomas",
         "Female",
         "Tokelau",
         "2025-07-16T08:26:59.574Z",
         7,
         "2025-07-16T08:07:11.208Z",
         "2025-07-16T08:33:32.299Z"
        ],
        [
         "P0108",
         "Brian Anderson",
         "Female",
         "Eritrea",
         "2025-07-16T08:26:59.574Z",
         36,
         "2025-07-16T08:07:11.208Z",
         "2025-07-16T08:33:32.299Z"
        ],
        [
         "P0032",
         "Daniel Douglas",
         "Male",
         "Singapore",
         "2025-07-16T08:26:59.574Z",
         46,
         "2025-07-16T08:07:11.208Z",
         "2025-07-16T08:33:32.299Z"
        ],
        [
         "P0113",
         "Brian Richardson",
         "Male",
         "Dominican Republic",
         "2025-07-16T08:26:59.574Z",
         50,
         "2025-07-16T08:07:11.208Z",
         "2025-07-16T08:33:32.299Z"
        ],
        [
         "P0149",
         "Katherine Bowen DVM",
         "Male",
         "Mexico",
         "2025-07-16T08:26:59.574Z",
         53,
         "2025-07-16T08:07:11.208Z",
         "2025-07-16T08:33:32.299Z"
        ],
        [
         "P0158",
         "Jamie Mcneil",
         "Male",
         "Burundi",
         "2025-07-16T08:26:59.574Z",
         76,
         "2025-07-16T08:07:11.208Z",
         "2025-07-16T08:33:32.299Z"
        ],
        [
         "P0155",
         "Robert Singleton",
         "Female",
         "Northern Mariana Islands",
         "2025-07-16T08:26:59.574Z",
         82,
         "2025-07-16T08:07:11.208Z",
         "2025-07-16T08:33:32.299Z"
        ],
        [
         "P0196",
         "Monica Dillon",
         "Female",
         "Belarus",
         "2025-07-16T08:26:59.574Z",
         86,
         "2025-07-16T08:07:11.208Z",
         "2025-07-16T08:33:32.299Z"
        ],
        [
         "P0154",
         "Angel Thompson",
         "Female",
         "Gambia",
         "2025-07-16T08:26:59.574Z",
         110,
         "2025-07-16T08:07:11.208Z",
         "2025-07-16T08:33:32.299Z"
        ],
        [
         "P0106",
         "Joshua Shepherd Jr.",
         "Female",
         "Netherlands",
         "2025-07-16T08:26:59.574Z",
         197,
         "2025-07-16T08:07:11.208Z",
         "2025-07-16T08:33:32.299Z"
        ]
       ],
       "datasetInfos": [],
       "dbfsResultPath": null,
       "isJsonSchema": true,
       "metadata": {},
       "overflow": false,
       "plotOptions": {
        "customPlotOptions": {},
        "displayType": "table",
        "pivotAggregation": null,
        "pivotColumns": null,
        "xColumns": null,
        "yColumns": null
       },
       "removedWidgets": [],
       "schema": [
        {
         "metadata": "{}",
         "name": "passenger_id",
         "type": "\"string\""
        },
        {
         "metadata": "{}",
         "name": "name",
         "type": "\"string\""
        },
        {
         "metadata": "{}",
         "name": "gender",
         "type": "\"string\""
        },
        {
         "metadata": "{}",
         "name": "nationality",
         "type": "\"string\""
        },
        {
         "metadata": "{}",
         "name": "modifiedDate",
         "type": "\"timestamp\""
        },
        {
         "metadata": "{}",
         "name": "DimPassengersKey",
         "type": "\"long\""
        },
        {
         "metadata": "{}",
         "name": "create_date",
         "type": "\"timestamp\""
        },
        {
         "metadata": "{}",
         "name": "update_date",
         "type": "\"timestamp\""
        }
       ],
       "type": "table"
      }
     },
     "output_type": "display_data"
    }
   ],
   "source": [
    "df_old_enriched.display()"
   ]
  },
  {
   "cell_type": "markdown",
   "metadata": {
    "application/vnd.databricks.v1+cell": {
     "cellMetadata": {
      "byteLimit": 2048000,
      "rowLimit": 10000
     },
     "inputWidgets": {},
     "nuid": "e3874392-5a1f-49b4-8a36-344edb817da9",
     "showTitle": false,
     "tableResultSettingsMap": {},
     "title": ""
    }
   },
   "source": [
    "#### **Preparing DF_NEW**"
   ]
  },
  {
   "cell_type": "code",
   "execution_count": 0,
   "metadata": {
    "application/vnd.databricks.v1+cell": {
     "cellMetadata": {
      "byteLimit": 2048000,
      "rowLimit": 10000
     },
     "collapsed": true,
     "inputWidgets": {},
     "nuid": "825adb75-639d-40c9-b155-57e217fa1ae4",
     "showTitle": false,
     "tableResultSettingsMap": {},
     "title": ""
    }
   },
   "outputs": [
    {
     "output_type": "display_data",
     "data": {
      "text/html": [
       "<style scoped>\n",
       "  .table-result-container {\n",
       "    max-height: 300px;\n",
       "    overflow: auto;\n",
       "  }\n",
       "  table, th, td {\n",
       "    border: 1px solid black;\n",
       "    border-collapse: collapse;\n",
       "  }\n",
       "  th, td {\n",
       "    padding: 5px;\n",
       "  }\n",
       "  th {\n",
       "    text-align: left;\n",
       "  }\n",
       "</style><div class='table-result-container'><table class='table-result'><thead style='background-color: white'><tr><th>passenger_id</th><th>name</th><th>gender</th><th>nationality</th><th>modifiedDate</th><th>DimPassengersKey</th><th>create_date</th><th>update_date</th></tr></thead><tbody><tr><td>P0225</td><td>William Lopez</td><td>Male</td><td>Heard Island and McDonald Islands</td><td>2025-07-16T08:26:59.574Z</td><td>null</td><td>null</td><td>null</td></tr><tr><td>P0224</td><td>Jason Jensen</td><td>Female</td><td>Rwanda</td><td>2025-07-16T08:26:59.574Z</td><td>null</td><td>null</td><td>null</td></tr><tr><td>P0223</td><td>Nicholas Gomez</td><td>Female</td><td>Cook Islands</td><td>2025-07-16T08:26:59.574Z</td><td>null</td><td>null</td><td>null</td></tr><tr><td>P0222</td><td>Maria Taylor</td><td>Male</td><td>Lao People's Democratic Republic</td><td>2025-07-16T08:26:59.574Z</td><td>null</td><td>null</td><td>null</td></tr><tr><td>P0221</td><td>Amy Welch</td><td>Male</td><td>Croatia</td><td>2025-07-16T08:26:59.574Z</td><td>null</td><td>null</td><td>null</td></tr></tbody></table></div>"
      ]
     },
     "metadata": {
      "application/vnd.databricks.v1+output": {
       "addedWidgets": {},
       "aggData": [],
       "aggError": "",
       "aggOverflow": false,
       "aggSchema": [],
       "aggSeriesLimitReached": false,
       "aggType": "",
       "arguments": {},
       "columnCustomDisplayInfos": {},
       "data": [
        [
         "P0225",
         "William Lopez",
         "Male",
         "Heard Island and McDonald Islands",
         "2025-07-16T08:26:59.574Z",
         null,
         null,
         null
        ],
        [
         "P0224",
         "Jason Jensen",
         "Female",
         "Rwanda",
         "2025-07-16T08:26:59.574Z",
         null,
         null,
         null
        ],
        [
         "P0223",
         "Nicholas Gomez",
         "Female",
         "Cook Islands",
         "2025-07-16T08:26:59.574Z",
         null,
         null,
         null
        ],
        [
         "P0222",
         "Maria Taylor",
         "Male",
         "Lao People's Democratic Republic",
         "2025-07-16T08:26:59.574Z",
         null,
         null,
         null
        ],
        [
         "P0221",
         "Amy Welch",
         "Male",
         "Croatia",
         "2025-07-16T08:26:59.574Z",
         null,
         null,
         null
        ]
       ],
       "datasetInfos": [],
       "dbfsResultPath": null,
       "isJsonSchema": true,
       "metadata": {},
       "overflow": false,
       "plotOptions": {
        "customPlotOptions": {},
        "displayType": "table",
        "pivotAggregation": null,
        "pivotColumns": null,
        "xColumns": null,
        "yColumns": null
       },
       "removedWidgets": [],
       "schema": [
        {
         "metadata": "{}",
         "name": "passenger_id",
         "type": "\"string\""
        },
        {
         "metadata": "{}",
         "name": "name",
         "type": "\"string\""
        },
        {
         "metadata": "{}",
         "name": "gender",
         "type": "\"string\""
        },
        {
         "metadata": "{}",
         "name": "nationality",
         "type": "\"string\""
        },
        {
         "metadata": "{}",
         "name": "modifiedDate",
         "type": "\"timestamp\""
        },
        {
         "metadata": "{}",
         "name": "DimPassengersKey",
         "type": "\"long\""
        },
        {
         "metadata": "{}",
         "name": "create_date",
         "type": "\"timestamp\""
        },
        {
         "metadata": "{}",
         "name": "update_date",
         "type": "\"timestamp\""
        }
       ],
       "type": "table"
      }
     },
     "output_type": "display_data"
    }
   ],
   "source": [
    "df_new.display()"
   ]
  },
  {
   "cell_type": "code",
   "execution_count": 0,
   "metadata": {
    "application/vnd.databricks.v1+cell": {
     "cellMetadata": {
      "byteLimit": 2048000,
      "rowLimit": 10000
     },
     "collapsed": true,
     "inputWidgets": {},
     "nuid": "5e16d561-8cf8-4506-9810-29f18fcbf97f",
     "showTitle": false,
     "tableResultSettingsMap": {},
     "title": ""
    }
   },
   "outputs": [],
   "source": [
    "# spark.sql(f\"\"\"\n",
    "#         SELECT max({surrogate_key_col})\n",
    "#         FROM {catalog}.{target_schema}.{target_object}\n",
    "#         \"\"\").collect()[0][0]\n",
    "\n",
    "# TEST\n",
    "# spark.sql(f\"\"\"\n",
    "#           SELECT max(flight_id)\n",
    "#           FROM workspace.silver.silver_flights\n",
    "#           \"\"\").collect()[0][0]"
   ]
  },
  {
   "cell_type": "code",
   "execution_count": 0,
   "metadata": {
    "application/vnd.databricks.v1+cell": {
     "cellMetadata": {
      "byteLimit": 2048000,
      "rowLimit": 10000
     },
     "inputWidgets": {},
     "nuid": "d614ed7a-c407-440e-935d-5f898b987036",
     "showTitle": false,
     "tableResultSettingsMap": {},
     "title": ""
    }
   },
   "outputs": [],
   "source": [
    "if spark.catalog.tableExists(f\"{catalog}.{target_schema}.{target_object}\"):\n",
    "  max_surrogate_key = spark.sql(f\"\"\"\n",
    "                      SELECT max({surrogate_key_col})\n",
    "                      FROM {catalog}.{target_schema}.{target_object}\n",
    "                      \"\"\").collect()[0][0]\n",
    "  \n",
    "  df_new_enriched = df_new.withColumn(f\"{surrogate_key_col}\", lit(max_surrogate_key) + lit(1) + monotonically_increasing_id())\\\n",
    "                .withColumn(\"create_date\", current_timestamp())\\\n",
    "                .withColumn(\"update_date\", current_timestamp())\n",
    "\n",
    "else:\n",
    "  max_surrogate_key = 0\n",
    "  df_new_enriched = df_new.withColumn(f\"{surrogate_key_col}\", lit(max_surrogate_key) + lit(1) + monotonically_increasing_id())\\\n",
    "                  .withColumn(\"create_date\", current_timestamp())\\\n",
    "                  .withColumn(\"update_date\", current_timestamp())"
   ]
  },
  {
   "cell_type": "code",
   "execution_count": 0,
   "metadata": {
    "application/vnd.databricks.v1+cell": {
     "cellMetadata": {
      "byteLimit": 2048000,
      "rowLimit": 10000
     },
     "inputWidgets": {},
     "nuid": "079a2f33-fa0d-403a-af77-6ef090469aff",
     "showTitle": false,
     "tableResultSettingsMap": {},
     "title": ""
    }
   },
   "outputs": [
    {
     "output_type": "execute_result",
     "data": {
      "text/plain": [
       "220"
      ]
     },
     "execution_count": 57,
     "metadata": {},
     "output_type": "execute_result"
    }
   ],
   "source": [
    "max_surrogate_key"
   ]
  },
  {
   "cell_type": "markdown",
   "metadata": {
    "application/vnd.databricks.v1+cell": {
     "cellMetadata": {
      "byteLimit": 2048000,
      "rowLimit": 10000
     },
     "inputWidgets": {},
     "nuid": "ee3ed478-dac4-4117-a3f8-06902445ed7b",
     "showTitle": false,
     "tableResultSettingsMap": {},
     "title": ""
    }
   },
   "source": [
    "#### Checking dfs enriched"
   ]
  },
  {
   "cell_type": "code",
   "execution_count": 0,
   "metadata": {
    "application/vnd.databricks.v1+cell": {
     "cellMetadata": {
      "byteLimit": 2048000,
      "rowLimit": 10000
     },
     "collapsed": true,
     "inputWidgets": {},
     "nuid": "2863d30b-b11b-4370-85ae-d1b61a1b3356",
     "showTitle": false,
     "tableResultSettingsMap": {},
     "title": ""
    }
   },
   "outputs": [
    {
     "output_type": "display_data",
     "data": {
      "text/html": [
       "<style scoped>\n",
       "  .table-result-container {\n",
       "    max-height: 300px;\n",
       "    overflow: auto;\n",
       "  }\n",
       "  table, th, td {\n",
       "    border: 1px solid black;\n",
       "    border-collapse: collapse;\n",
       "  }\n",
       "  th, td {\n",
       "    padding: 5px;\n",
       "  }\n",
       "  th {\n",
       "    text-align: left;\n",
       "  }\n",
       "</style><div class='table-result-container'><table class='table-result'><thead style='background-color: white'><tr><th>passenger_id</th><th>name</th><th>gender</th><th>nationality</th><th>modifiedDate</th><th>DimPassengersKey</th><th>create_date</th><th>update_date</th></tr></thead><tbody><tr><td>P0225</td><td>William Lopez</td><td>Male</td><td>Heard Island and McDonald Islands</td><td>2025-07-16T08:26:59.574Z</td><td>221</td><td>2025-07-16T08:33:35.853Z</td><td>2025-07-16T08:33:35.853Z</td></tr><tr><td>P0224</td><td>Jason Jensen</td><td>Female</td><td>Rwanda</td><td>2025-07-16T08:26:59.574Z</td><td>222</td><td>2025-07-16T08:33:35.853Z</td><td>2025-07-16T08:33:35.853Z</td></tr><tr><td>P0223</td><td>Nicholas Gomez</td><td>Female</td><td>Cook Islands</td><td>2025-07-16T08:26:59.574Z</td><td>223</td><td>2025-07-16T08:33:35.853Z</td><td>2025-07-16T08:33:35.853Z</td></tr><tr><td>P0222</td><td>Maria Taylor</td><td>Male</td><td>Lao People's Democratic Republic</td><td>2025-07-16T08:26:59.574Z</td><td>224</td><td>2025-07-16T08:33:35.853Z</td><td>2025-07-16T08:33:35.853Z</td></tr><tr><td>P0221</td><td>Amy Welch</td><td>Male</td><td>Croatia</td><td>2025-07-16T08:26:59.574Z</td><td>225</td><td>2025-07-16T08:33:35.853Z</td><td>2025-07-16T08:33:35.853Z</td></tr></tbody></table></div>"
      ]
     },
     "metadata": {
      "application/vnd.databricks.v1+output": {
       "addedWidgets": {},
       "aggData": [],
       "aggError": "",
       "aggOverflow": false,
       "aggSchema": [],
       "aggSeriesLimitReached": false,
       "aggType": "",
       "arguments": {},
       "columnCustomDisplayInfos": {},
       "data": [
        [
         "P0225",
         "William Lopez",
         "Male",
         "Heard Island and McDonald Islands",
         "2025-07-16T08:26:59.574Z",
         221,
         "2025-07-16T08:33:35.853Z",
         "2025-07-16T08:33:35.853Z"
        ],
        [
         "P0224",
         "Jason Jensen",
         "Female",
         "Rwanda",
         "2025-07-16T08:26:59.574Z",
         222,
         "2025-07-16T08:33:35.853Z",
         "2025-07-16T08:33:35.853Z"
        ],
        [
         "P0223",
         "Nicholas Gomez",
         "Female",
         "Cook Islands",
         "2025-07-16T08:26:59.574Z",
         223,
         "2025-07-16T08:33:35.853Z",
         "2025-07-16T08:33:35.853Z"
        ],
        [
         "P0222",
         "Maria Taylor",
         "Male",
         "Lao People's Democratic Republic",
         "2025-07-16T08:26:59.574Z",
         224,
         "2025-07-16T08:33:35.853Z",
         "2025-07-16T08:33:35.853Z"
        ],
        [
         "P0221",
         "Amy Welch",
         "Male",
         "Croatia",
         "2025-07-16T08:26:59.574Z",
         225,
         "2025-07-16T08:33:35.853Z",
         "2025-07-16T08:33:35.853Z"
        ]
       ],
       "datasetInfos": [],
       "dbfsResultPath": null,
       "isJsonSchema": true,
       "metadata": {},
       "overflow": false,
       "plotOptions": {
        "customPlotOptions": {},
        "displayType": "table",
        "pivotAggregation": null,
        "pivotColumns": null,
        "xColumns": null,
        "yColumns": null
       },
       "removedWidgets": [],
       "schema": [
        {
         "metadata": "{}",
         "name": "passenger_id",
         "type": "\"string\""
        },
        {
         "metadata": "{}",
         "name": "name",
         "type": "\"string\""
        },
        {
         "metadata": "{}",
         "name": "gender",
         "type": "\"string\""
        },
        {
         "metadata": "{}",
         "name": "nationality",
         "type": "\"string\""
        },
        {
         "metadata": "{}",
         "name": "modifiedDate",
         "type": "\"timestamp\""
        },
        {
         "metadata": "{}",
         "name": "DimPassengersKey",
         "type": "\"long\""
        },
        {
         "metadata": "{}",
         "name": "create_date",
         "type": "\"timestamp\""
        },
        {
         "metadata": "{}",
         "name": "update_date",
         "type": "\"timestamp\""
        }
       ],
       "type": "table"
      }
     },
     "output_type": "display_data"
    }
   ],
   "source": [
    "df_new_enriched.display()"
   ]
  },
  {
   "cell_type": "code",
   "execution_count": 0,
   "metadata": {
    "application/vnd.databricks.v1+cell": {
     "cellMetadata": {
      "byteLimit": 2048000,
      "rowLimit": 10000
     },
     "collapsed": true,
     "inputWidgets": {},
     "nuid": "4a101ee8-2a87-4220-b22b-ca3198edae55",
     "showTitle": false,
     "tableResultSettingsMap": {},
     "title": ""
    }
   },
   "outputs": [
    {
     "output_type": "display_data",
     "data": {
      "text/html": [
       "<style scoped>\n",
       "  .table-result-container {\n",
       "    max-height: 300px;\n",
       "    overflow: auto;\n",
       "  }\n",
       "  table, th, td {\n",
       "    border: 1px solid black;\n",
       "    border-collapse: collapse;\n",
       "  }\n",
       "  th, td {\n",
       "    padding: 5px;\n",
       "  }\n",
       "  th {\n",
       "    text-align: left;\n",
       "  }\n",
       "</style><div class='table-result-container'><table class='table-result'><thead style='background-color: white'><tr><th>passenger_id</th><th>name</th><th>gender</th><th>nationality</th><th>modifiedDate</th><th>DimPassengersKey</th><th>create_date</th><th>update_date</th></tr></thead><tbody><tr><td>P0049</td><td>Justin Thomas</td><td>Female</td><td>Tokelau</td><td>2025-07-16T08:26:59.574Z</td><td>7</td><td>2025-07-16T08:07:11.208Z</td><td>2025-07-16T08:33:36.886Z</td></tr><tr><td>P0108</td><td>Brian Anderson</td><td>Female</td><td>Eritrea</td><td>2025-07-16T08:26:59.574Z</td><td>36</td><td>2025-07-16T08:07:11.208Z</td><td>2025-07-16T08:33:36.886Z</td></tr><tr><td>P0032</td><td>Daniel Douglas</td><td>Male</td><td>Singapore</td><td>2025-07-16T08:26:59.574Z</td><td>46</td><td>2025-07-16T08:07:11.208Z</td><td>2025-07-16T08:33:36.886Z</td></tr><tr><td>P0113</td><td>Brian Richardson</td><td>Male</td><td>Dominican Republic</td><td>2025-07-16T08:26:59.574Z</td><td>50</td><td>2025-07-16T08:07:11.208Z</td><td>2025-07-16T08:33:36.886Z</td></tr><tr><td>P0149</td><td>Katherine Bowen DVM</td><td>Male</td><td>Mexico</td><td>2025-07-16T08:26:59.574Z</td><td>53</td><td>2025-07-16T08:07:11.208Z</td><td>2025-07-16T08:33:36.886Z</td></tr><tr><td>P0158</td><td>Jamie Mcneil</td><td>Male</td><td>Burundi</td><td>2025-07-16T08:26:59.574Z</td><td>76</td><td>2025-07-16T08:07:11.208Z</td><td>2025-07-16T08:33:36.886Z</td></tr><tr><td>P0155</td><td>Robert Singleton</td><td>Female</td><td>Northern Mariana Islands</td><td>2025-07-16T08:26:59.574Z</td><td>82</td><td>2025-07-16T08:07:11.208Z</td><td>2025-07-16T08:33:36.886Z</td></tr><tr><td>P0196</td><td>Monica Dillon</td><td>Female</td><td>Belarus</td><td>2025-07-16T08:26:59.574Z</td><td>86</td><td>2025-07-16T08:07:11.208Z</td><td>2025-07-16T08:33:36.886Z</td></tr><tr><td>P0154</td><td>Angel Thompson</td><td>Female</td><td>Gambia</td><td>2025-07-16T08:26:59.574Z</td><td>110</td><td>2025-07-16T08:07:11.208Z</td><td>2025-07-16T08:33:36.886Z</td></tr><tr><td>P0106</td><td>Joshua Shepherd Jr.</td><td>Female</td><td>Netherlands</td><td>2025-07-16T08:26:59.574Z</td><td>197</td><td>2025-07-16T08:07:11.208Z</td><td>2025-07-16T08:33:36.886Z</td></tr></tbody></table></div>"
      ]
     },
     "metadata": {
      "application/vnd.databricks.v1+output": {
       "addedWidgets": {},
       "aggData": [],
       "aggError": "",
       "aggOverflow": false,
       "aggSchema": [],
       "aggSeriesLimitReached": false,
       "aggType": "",
       "arguments": {},
       "columnCustomDisplayInfos": {},
       "data": [
        [
         "P0049",
         "Justin Thomas",
         "Female",
         "Tokelau",
         "2025-07-16T08:26:59.574Z",
         7,
         "2025-07-16T08:07:11.208Z",
         "2025-07-16T08:33:36.886Z"
        ],
        [
         "P0108",
         "Brian Anderson",
         "Female",
         "Eritrea",
         "2025-07-16T08:26:59.574Z",
         36,
         "2025-07-16T08:07:11.208Z",
         "2025-07-16T08:33:36.886Z"
        ],
        [
         "P0032",
         "Daniel Douglas",
         "Male",
         "Singapore",
         "2025-07-16T08:26:59.574Z",
         46,
         "2025-07-16T08:07:11.208Z",
         "2025-07-16T08:33:36.886Z"
        ],
        [
         "P0113",
         "Brian Richardson",
         "Male",
         "Dominican Republic",
         "2025-07-16T08:26:59.574Z",
         50,
         "2025-07-16T08:07:11.208Z",
         "2025-07-16T08:33:36.886Z"
        ],
        [
         "P0149",
         "Katherine Bowen DVM",
         "Male",
         "Mexico",
         "2025-07-16T08:26:59.574Z",
         53,
         "2025-07-16T08:07:11.208Z",
         "2025-07-16T08:33:36.886Z"
        ],
        [
         "P0158",
         "Jamie Mcneil",
         "Male",
         "Burundi",
         "2025-07-16T08:26:59.574Z",
         76,
         "2025-07-16T08:07:11.208Z",
         "2025-07-16T08:33:36.886Z"
        ],
        [
         "P0155",
         "Robert Singleton",
         "Female",
         "Northern Mariana Islands",
         "2025-07-16T08:26:59.574Z",
         82,
         "2025-07-16T08:07:11.208Z",
         "2025-07-16T08:33:36.886Z"
        ],
        [
         "P0196",
         "Monica Dillon",
         "Female",
         "Belarus",
         "2025-07-16T08:26:59.574Z",
         86,
         "2025-07-16T08:07:11.208Z",
         "2025-07-16T08:33:36.886Z"
        ],
        [
         "P0154",
         "Angel Thompson",
         "Female",
         "Gambia",
         "2025-07-16T08:26:59.574Z",
         110,
         "2025-07-16T08:07:11.208Z",
         "2025-07-16T08:33:36.886Z"
        ],
        [
         "P0106",
         "Joshua Shepherd Jr.",
         "Female",
         "Netherlands",
         "2025-07-16T08:26:59.574Z",
         197,
         "2025-07-16T08:07:11.208Z",
         "2025-07-16T08:33:36.886Z"
        ]
       ],
       "datasetInfos": [],
       "dbfsResultPath": null,
       "isJsonSchema": true,
       "metadata": {},
       "overflow": false,
       "plotOptions": {
        "customPlotOptions": {},
        "displayType": "table",
        "pivotAggregation": null,
        "pivotColumns": null,
        "xColumns": null,
        "yColumns": null
       },
       "removedWidgets": [],
       "schema": [
        {
         "metadata": "{}",
         "name": "passenger_id",
         "type": "\"string\""
        },
        {
         "metadata": "{}",
         "name": "name",
         "type": "\"string\""
        },
        {
         "metadata": "{}",
         "name": "gender",
         "type": "\"string\""
        },
        {
         "metadata": "{}",
         "name": "nationality",
         "type": "\"string\""
        },
        {
         "metadata": "{}",
         "name": "modifiedDate",
         "type": "\"timestamp\""
        },
        {
         "metadata": "{}",
         "name": "DimPassengersKey",
         "type": "\"long\""
        },
        {
         "metadata": "{}",
         "name": "create_date",
         "type": "\"timestamp\""
        },
        {
         "metadata": "{}",
         "name": "update_date",
         "type": "\"timestamp\""
        }
       ],
       "type": "table"
      }
     },
     "output_type": "display_data"
    }
   ],
   "source": [
    "df_old_enriched.display()\n"
   ]
  },
  {
   "cell_type": "markdown",
   "metadata": {
    "application/vnd.databricks.v1+cell": {
     "cellMetadata": {
      "byteLimit": 2048000,
      "rowLimit": 10000
     },
     "inputWidgets": {},
     "nuid": "21ddbf5c-6872-4f65-9dc0-c3a0118c6f71",
     "showTitle": false,
     "tableResultSettingsMap": {},
     "title": ""
    }
   },
   "source": [
    "#### **UNIONING OLD AND NEW RECORDS**"
   ]
  },
  {
   "cell_type": "code",
   "execution_count": 0,
   "metadata": {
    "application/vnd.databricks.v1+cell": {
     "cellMetadata": {
      "byteLimit": 2048000,
      "rowLimit": 10000
     },
     "inputWidgets": {},
     "nuid": "9340cab4-fab5-4a25-9c75-dd4e19393f80",
     "showTitle": false,
     "tableResultSettingsMap": {
      "0": {
       "dataGridStateBlob": "{\"version\":1,\"tableState\":{\"columnPinning\":{\"left\":[\"#row_number#\"],\"right\":[]},\"columnSizing\":{},\"columnVisibility\":{}},\"settings\":{\"columns\":{}},\"syncTimestamp\":1752652996220}",
       "filterBlob": null,
       "queryPlanFiltersBlob": null,
       "tableResultIndex": 0
      }
     },
     "title": ""
    }
   },
   "outputs": [
    {
     "output_type": "display_data",
     "data": {
      "text/html": [
       "<style scoped>\n",
       "  .table-result-container {\n",
       "    max-height: 300px;\n",
       "    overflow: auto;\n",
       "  }\n",
       "  table, th, td {\n",
       "    border: 1px solid black;\n",
       "    border-collapse: collapse;\n",
       "  }\n",
       "  th, td {\n",
       "    padding: 5px;\n",
       "  }\n",
       "  th {\n",
       "    text-align: left;\n",
       "  }\n",
       "</style><div class='table-result-container'><table class='table-result'><thead style='background-color: white'><tr><th>passenger_id</th><th>name</th><th>gender</th><th>nationality</th><th>modifiedDate</th><th>DimPassengersKey</th><th>create_date</th><th>update_date</th></tr></thead><tbody><tr><td>P0049</td><td>Justin Thomas</td><td>Female</td><td>Tokelau</td><td>2025-07-16T08:26:59.574Z</td><td>7</td><td>2025-07-16T08:07:11.208Z</td><td>2025-07-16T08:33:37.853Z</td></tr><tr><td>P0108</td><td>Brian Anderson</td><td>Female</td><td>Eritrea</td><td>2025-07-16T08:26:59.574Z</td><td>36</td><td>2025-07-16T08:07:11.208Z</td><td>2025-07-16T08:33:37.853Z</td></tr><tr><td>P0032</td><td>Daniel Douglas</td><td>Male</td><td>Singapore</td><td>2025-07-16T08:26:59.574Z</td><td>46</td><td>2025-07-16T08:07:11.208Z</td><td>2025-07-16T08:33:37.853Z</td></tr><tr><td>P0113</td><td>Brian Richardson</td><td>Male</td><td>Dominican Republic</td><td>2025-07-16T08:26:59.574Z</td><td>50</td><td>2025-07-16T08:07:11.208Z</td><td>2025-07-16T08:33:37.853Z</td></tr><tr><td>P0149</td><td>Katherine Bowen DVM</td><td>Male</td><td>Mexico</td><td>2025-07-16T08:26:59.574Z</td><td>53</td><td>2025-07-16T08:07:11.208Z</td><td>2025-07-16T08:33:37.853Z</td></tr><tr><td>P0158</td><td>Jamie Mcneil</td><td>Male</td><td>Burundi</td><td>2025-07-16T08:26:59.574Z</td><td>76</td><td>2025-07-16T08:07:11.208Z</td><td>2025-07-16T08:33:37.853Z</td></tr><tr><td>P0155</td><td>Robert Singleton</td><td>Female</td><td>Northern Mariana Islands</td><td>2025-07-16T08:26:59.574Z</td><td>82</td><td>2025-07-16T08:07:11.208Z</td><td>2025-07-16T08:33:37.853Z</td></tr><tr><td>P0196</td><td>Monica Dillon</td><td>Female</td><td>Belarus</td><td>2025-07-16T08:26:59.574Z</td><td>86</td><td>2025-07-16T08:07:11.208Z</td><td>2025-07-16T08:33:37.853Z</td></tr><tr><td>P0154</td><td>Angel Thompson</td><td>Female</td><td>Gambia</td><td>2025-07-16T08:26:59.574Z</td><td>110</td><td>2025-07-16T08:07:11.208Z</td><td>2025-07-16T08:33:37.853Z</td></tr><tr><td>P0106</td><td>Joshua Shepherd Jr.</td><td>Female</td><td>Netherlands</td><td>2025-07-16T08:26:59.574Z</td><td>197</td><td>2025-07-16T08:07:11.208Z</td><td>2025-07-16T08:33:37.853Z</td></tr><tr><td>P0225</td><td>William Lopez</td><td>Male</td><td>Heard Island and McDonald Islands</td><td>2025-07-16T08:26:59.574Z</td><td>221</td><td>2025-07-16T08:33:37.853Z</td><td>2025-07-16T08:33:37.853Z</td></tr><tr><td>P0224</td><td>Jason Jensen</td><td>Female</td><td>Rwanda</td><td>2025-07-16T08:26:59.574Z</td><td>222</td><td>2025-07-16T08:33:37.853Z</td><td>2025-07-16T08:33:37.853Z</td></tr><tr><td>P0223</td><td>Nicholas Gomez</td><td>Female</td><td>Cook Islands</td><td>2025-07-16T08:26:59.574Z</td><td>223</td><td>2025-07-16T08:33:37.853Z</td><td>2025-07-16T08:33:37.853Z</td></tr><tr><td>P0222</td><td>Maria Taylor</td><td>Male</td><td>Lao People's Democratic Republic</td><td>2025-07-16T08:26:59.574Z</td><td>224</td><td>2025-07-16T08:33:37.853Z</td><td>2025-07-16T08:33:37.853Z</td></tr><tr><td>P0221</td><td>Amy Welch</td><td>Male</td><td>Croatia</td><td>2025-07-16T08:26:59.574Z</td><td>225</td><td>2025-07-16T08:33:37.853Z</td><td>2025-07-16T08:33:37.853Z</td></tr></tbody></table></div>"
      ]
     },
     "metadata": {
      "application/vnd.databricks.v1+output": {
       "addedWidgets": {},
       "aggData": [],
       "aggError": "",
       "aggOverflow": false,
       "aggSchema": [],
       "aggSeriesLimitReached": false,
       "aggType": "",
       "arguments": {},
       "columnCustomDisplayInfos": {},
       "data": [
        [
         "P0049",
         "Justin Thomas",
         "Female",
         "Tokelau",
         "2025-07-16T08:26:59.574Z",
         7,
         "2025-07-16T08:07:11.208Z",
         "2025-07-16T08:33:37.853Z"
        ],
        [
         "P0108",
         "Brian Anderson",
         "Female",
         "Eritrea",
         "2025-07-16T08:26:59.574Z",
         36,
         "2025-07-16T08:07:11.208Z",
         "2025-07-16T08:33:37.853Z"
        ],
        [
         "P0032",
         "Daniel Douglas",
         "Male",
         "Singapore",
         "2025-07-16T08:26:59.574Z",
         46,
         "2025-07-16T08:07:11.208Z",
         "2025-07-16T08:33:37.853Z"
        ],
        [
         "P0113",
         "Brian Richardson",
         "Male",
         "Dominican Republic",
         "2025-07-16T08:26:59.574Z",
         50,
         "2025-07-16T08:07:11.208Z",
         "2025-07-16T08:33:37.853Z"
        ],
        [
         "P0149",
         "Katherine Bowen DVM",
         "Male",
         "Mexico",
         "2025-07-16T08:26:59.574Z",
         53,
         "2025-07-16T08:07:11.208Z",
         "2025-07-16T08:33:37.853Z"
        ],
        [
         "P0158",
         "Jamie Mcneil",
         "Male",
         "Burundi",
         "2025-07-16T08:26:59.574Z",
         76,
         "2025-07-16T08:07:11.208Z",
         "2025-07-16T08:33:37.853Z"
        ],
        [
         "P0155",
         "Robert Singleton",
         "Female",
         "Northern Mariana Islands",
         "2025-07-16T08:26:59.574Z",
         82,
         "2025-07-16T08:07:11.208Z",
         "2025-07-16T08:33:37.853Z"
        ],
        [
         "P0196",
         "Monica Dillon",
         "Female",
         "Belarus",
         "2025-07-16T08:26:59.574Z",
         86,
         "2025-07-16T08:07:11.208Z",
         "2025-07-16T08:33:37.853Z"
        ],
        [
         "P0154",
         "Angel Thompson",
         "Female",
         "Gambia",
         "2025-07-16T08:26:59.574Z",
         110,
         "2025-07-16T08:07:11.208Z",
         "2025-07-16T08:33:37.853Z"
        ],
        [
         "P0106",
         "Joshua Shepherd Jr.",
         "Female",
         "Netherlands",
         "2025-07-16T08:26:59.574Z",
         197,
         "2025-07-16T08:07:11.208Z",
         "2025-07-16T08:33:37.853Z"
        ],
        [
         "P0225",
         "William Lopez",
         "Male",
         "Heard Island and McDonald Islands",
         "2025-07-16T08:26:59.574Z",
         221,
         "2025-07-16T08:33:37.853Z",
         "2025-07-16T08:33:37.853Z"
        ],
        [
         "P0224",
         "Jason Jensen",
         "Female",
         "Rwanda",
         "2025-07-16T08:26:59.574Z",
         222,
         "2025-07-16T08:33:37.853Z",
         "2025-07-16T08:33:37.853Z"
        ],
        [
         "P0223",
         "Nicholas Gomez",
         "Female",
         "Cook Islands",
         "2025-07-16T08:26:59.574Z",
         223,
         "2025-07-16T08:33:37.853Z",
         "2025-07-16T08:33:37.853Z"
        ],
        [
         "P0222",
         "Maria Taylor",
         "Male",
         "Lao People's Democratic Republic",
         "2025-07-16T08:26:59.574Z",
         224,
         "2025-07-16T08:33:37.853Z",
         "2025-07-16T08:33:37.853Z"
        ],
        [
         "P0221",
         "Amy Welch",
         "Male",
         "Croatia",
         "2025-07-16T08:26:59.574Z",
         225,
         "2025-07-16T08:33:37.853Z",
         "2025-07-16T08:33:37.853Z"
        ]
       ],
       "datasetInfos": [],
       "dbfsResultPath": null,
       "isJsonSchema": true,
       "metadata": {},
       "overflow": false,
       "plotOptions": {
        "customPlotOptions": {},
        "displayType": "table",
        "pivotAggregation": null,
        "pivotColumns": null,
        "xColumns": null,
        "yColumns": null
       },
       "removedWidgets": [],
       "schema": [
        {
         "metadata": "{}",
         "name": "passenger_id",
         "type": "\"string\""
        },
        {
         "metadata": "{}",
         "name": "name",
         "type": "\"string\""
        },
        {
         "metadata": "{}",
         "name": "gender",
         "type": "\"string\""
        },
        {
         "metadata": "{}",
         "name": "nationality",
         "type": "\"string\""
        },
        {
         "metadata": "{}",
         "name": "modifiedDate",
         "type": "\"timestamp\""
        },
        {
         "metadata": "{}",
         "name": "DimPassengersKey",
         "type": "\"long\""
        },
        {
         "metadata": "{}",
         "name": "create_date",
         "type": "\"timestamp\""
        },
        {
         "metadata": "{}",
         "name": "update_date",
         "type": "\"timestamp\""
        }
       ],
       "type": "table"
      }
     },
     "output_type": "display_data"
    }
   ],
   "source": [
    "df_union = df_old_enriched.union(df_new_enriched)\n",
    "df_union.display()\n"
   ]
  },
  {
   "cell_type": "markdown",
   "metadata": {
    "application/vnd.databricks.v1+cell": {
     "cellMetadata": {
      "byteLimit": 2048000,
      "rowLimit": 10000
     },
     "inputWidgets": {},
     "nuid": "8d5d42bd-284c-423b-9d86-c37ed554a665",
     "showTitle": false,
     "tableResultSettingsMap": {},
     "title": ""
    }
   },
   "source": [
    "### **UPSERT**"
   ]
  },
  {
   "cell_type": "code",
   "execution_count": 0,
   "metadata": {
    "application/vnd.databricks.v1+cell": {
     "cellMetadata": {
      "byteLimit": 2048000,
      "rowLimit": 10000
     },
     "inputWidgets": {},
     "nuid": "90ffa7cc-9868-4820-9de8-a7b86d26f6ff",
     "showTitle": false,
     "tableResultSettingsMap": {},
     "title": ""
    }
   },
   "outputs": [],
   "source": [
    "if spark.catalog.tableExists(f\"{catalog}.{target_schema}.{target_object}\"):\n",
    "  \n",
    "  dlt_obj = DeltaTable.forName(spark, f\"{catalog}.{target_schema}.{target_object}\")\n",
    "\n",
    "  dlt_obj.alias(\"trg\").merge(df_union.alias(\"src\"), f\"trg.{surrogate_key_col} = src.{surrogate_key_col}\")\\\n",
    "                    .whenMatchedUpdateAll(condition = f\"src.{cdc_col} >= trg.{cdc_col}\")\\\n",
    "                    .whenNotMatchedInsertAll()\\\n",
    "                    .execute()      \n",
    "\n",
    "else:\n",
    "\n",
    "    df_union.write.format(\"delta\")\\\n",
    "            .mode(\"append\")\\\n",
    "            .saveAsTable(f\"{catalog}.{target_schema}.{target_object}\")"
   ]
  },
  {
   "cell_type": "markdown",
   "metadata": {
    "application/vnd.databricks.v1+cell": {
     "cellMetadata": {
      "byteLimit": 2048000,
      "rowLimit": 10000
     },
     "inputWidgets": {},
     "nuid": "8b761049-493b-472d-92fe-3c98d2f72a56",
     "showTitle": false,
     "tableResultSettingsMap": {},
     "title": ""
    }
   },
   "source": [
    "---"
   ]
  },
  {
   "cell_type": "code",
   "execution_count": 0,
   "metadata": {
    "application/vnd.databricks.v1+cell": {
     "cellMetadata": {
      "byteLimit": 2048000,
      "implicitDf": true,
      "rowLimit": 10000
     },
     "inputWidgets": {},
     "nuid": "f7fa479a-0663-4ec2-932a-39f0bf7483c2",
     "showTitle": false,
     "tableResultSettingsMap": {},
     "title": ""
    }
   },
   "outputs": [
    {
     "output_type": "display_data",
     "data": {
      "text/html": [
       "<style scoped>\n",
       "  .table-result-container {\n",
       "    max-height: 300px;\n",
       "    overflow: auto;\n",
       "  }\n",
       "  table, th, td {\n",
       "    border: 1px solid black;\n",
       "    border-collapse: collapse;\n",
       "  }\n",
       "  th, td {\n",
       "    padding: 5px;\n",
       "  }\n",
       "  th {\n",
       "    text-align: left;\n",
       "  }\n",
       "</style><div class='table-result-container'><table class='table-result'><thead style='background-color: white'><tr><th>flight_id</th><th>airline</th><th>origin</th><th>destination</th><th>flight_date</th><th>modifiedDate</th><th>DimFlightsKey</th><th>create_date</th><th>update_date</th></tr></thead><tbody><tr><td>F0013</td><td>Air Canada</td><td>East Brian</td><td>Wayneton</td><td>2025-05-21</td><td>2025-07-15T16:41:08.917Z</td><td>1</td><td>2025-07-16T07:31:50.103Z</td><td>2025-07-16T07:49:54.239Z</td></tr><tr><td>F0014</td><td>Air Canada</td><td>Toddland</td><td>Gonzalezport</td><td>2025-05-28</td><td>2025-07-15T16:41:08.917Z</td><td>2</td><td>2025-07-16T07:31:50.103Z</td><td>2025-07-16T07:49:54.239Z</td></tr><tr><td>F0033</td><td>Air Canada</td><td>Sandersshire</td><td>Lake Joseside</td><td>2025-06-21</td><td>2025-07-15T16:41:08.917Z</td><td>3</td><td>2025-07-16T07:31:50.103Z</td><td>2025-07-16T07:49:54.239Z</td></tr><tr><td>F0052</td><td>Qatar Airways</td><td>Lake Richard</td><td>Brookston</td><td>2025-05-28</td><td>2025-07-15T16:41:08.917Z</td><td>4</td><td>2025-07-16T07:31:50.103Z</td><td>2025-07-16T07:49:54.239Z</td></tr><tr><td>F0069</td><td>Qatar Airways</td><td>Johnsonburgh</td><td>Woodmouth</td><td>2025-06-14</td><td>2025-07-15T16:41:08.917Z</td><td>5</td><td>2025-07-16T07:31:50.103Z</td><td>2025-07-16T07:49:54.239Z</td></tr><tr><td>F0083</td><td>Lufthansa</td><td>Jasonborough</td><td>Port Audreyville</td><td>2025-05-30</td><td>2025-07-15T16:41:08.917Z</td><td>6</td><td>2025-07-16T07:31:50.103Z</td><td>2025-07-16T07:49:54.239Z</td></tr><tr><td>F0005</td><td>Qatar Airways</td><td>Bennettside</td><td>New Mistyhaven</td><td>2025-06-13</td><td>2025-07-15T16:41:08.917Z</td><td>7</td><td>2025-07-16T07:31:50.103Z</td><td>2025-07-16T07:49:54.239Z</td></tr><tr><td>F0007</td><td>Delta</td><td>Berryport</td><td>Miguelburgh</td><td>2025-05-24</td><td>2025-07-15T16:41:08.917Z</td><td>8</td><td>2025-07-16T07:31:50.103Z</td><td>2025-07-16T07:49:54.239Z</td></tr><tr><td>F0015</td><td>Delta</td><td>West Ginaton</td><td>Youngmouth</td><td>2025-05-21</td><td>2025-07-15T16:41:08.917Z</td><td>9</td><td>2025-07-16T07:31:50.103Z</td><td>2025-07-16T07:49:54.239Z</td></tr><tr><td>F0017</td><td>Delta</td><td>Wallermouth</td><td>New Rogerberg</td><td>2025-05-04</td><td>2025-07-15T16:41:08.917Z</td><td>10</td><td>2025-07-16T07:31:50.103Z</td><td>2025-07-16T07:49:54.239Z</td></tr><tr><td>F0035</td><td>Lufthansa</td><td>Karenshire</td><td>North Anthonymouth</td><td>2025-05-21</td><td>2025-07-15T16:41:08.917Z</td><td>11</td><td>2025-07-16T07:31:50.103Z</td><td>2025-07-16T07:49:54.239Z</td></tr><tr><td>F0058</td><td>Delta</td><td>North Brittanyborough</td><td>West Kellystad</td><td>2025-06-10</td><td>2025-07-15T16:41:08.917Z</td><td>12</td><td>2025-07-16T07:31:50.103Z</td><td>2025-07-16T07:49:54.239Z</td></tr><tr><td>F0003</td><td>Lufthansa</td><td>East Patrickborough</td><td>North Mary</td><td>2025-05-11</td><td>2025-07-15T16:41:08.917Z</td><td>13</td><td>2025-07-16T07:31:50.103Z</td><td>2025-07-16T07:49:54.239Z</td></tr><tr><td>F0022</td><td>Air Canada</td><td>Reedchester</td><td>Cruzton</td><td>2025-04-27</td><td>2025-07-15T16:41:08.917Z</td><td>14</td><td>2025-07-16T07:31:50.103Z</td><td>2025-07-16T07:49:54.239Z</td></tr><tr><td>F0044</td><td>Qatar Airways</td><td>East Kaylaburgh</td><td>Lake Carolynchester</td><td>2025-06-01</td><td>2025-07-15T16:41:08.917Z</td><td>15</td><td>2025-07-16T07:31:50.103Z</td><td>2025-07-16T07:49:54.239Z</td></tr><tr><td>F0045</td><td>Emirates</td><td>North Michaelville</td><td>Russellton</td><td>2025-05-04</td><td>2025-07-15T16:41:08.917Z</td><td>16</td><td>2025-07-16T07:31:50.103Z</td><td>2025-07-16T07:49:54.239Z</td></tr><tr><td>F0081</td><td>Air Canada</td><td>North Barry</td><td>Josephborough</td><td>2025-04-24</td><td>2025-07-15T16:41:08.917Z</td><td>17</td><td>2025-07-16T07:31:50.103Z</td><td>2025-07-16T07:49:54.239Z</td></tr><tr><td>F0087</td><td>Emirates</td><td>Kellyland</td><td>New Jonathanmouth</td><td>2025-04-23</td><td>2025-07-15T16:41:08.917Z</td><td>18</td><td>2025-07-16T07:31:50.103Z</td><td>2025-07-16T07:49:54.239Z</td></tr><tr><td>F0004</td><td>Delta</td><td>Maddenshire</td><td>Johnchester</td><td>2025-05-16</td><td>2025-07-15T16:41:08.917Z</td><td>19</td><td>2025-07-16T07:31:50.103Z</td><td>2025-07-16T07:49:54.239Z</td></tr><tr><td>F0006</td><td>Air Canada</td><td>New Richardside</td><td>South Jamesborough</td><td>2025-05-16</td><td>2025-07-15T16:41:08.917Z</td><td>20</td><td>2025-07-16T07:31:50.103Z</td><td>2025-07-16T07:49:54.239Z</td></tr><tr><td>F0019</td><td>Lufthansa</td><td>Lake Scott</td><td>Christineborough</td><td>2025-05-18</td><td>2025-07-15T16:41:08.917Z</td><td>21</td><td>2025-07-16T07:31:50.103Z</td><td>2025-07-16T07:49:54.239Z</td></tr><tr><td>F0029</td><td>Qatar Airways</td><td>Shortberg</td><td>Julieburgh</td><td>2025-05-11</td><td>2025-07-15T16:41:08.917Z</td><td>22</td><td>2025-07-16T07:31:50.103Z</td><td>2025-07-16T07:49:54.239Z</td></tr><tr><td>F0031</td><td>Emirates</td><td>Billview</td><td>Jonathonborough</td><td>2025-06-14</td><td>2025-07-15T16:41:08.917Z</td><td>23</td><td>2025-07-16T07:31:50.103Z</td><td>2025-07-16T07:49:54.239Z</td></tr><tr><td>F0036</td><td>Lufthansa</td><td>Armstrongbury</td><td>North Natashamouth</td><td>2025-05-05</td><td>2025-07-15T16:41:08.917Z</td><td>24</td><td>2025-07-16T07:31:50.103Z</td><td>2025-07-16T07:49:54.239Z</td></tr><tr><td>F0043</td><td>Lufthansa</td><td>Kimberlyborough</td><td>New Annfort</td><td>2025-05-15</td><td>2025-07-15T16:41:08.917Z</td><td>25</td><td>2025-07-16T07:31:50.103Z</td><td>2025-07-16T07:49:54.239Z</td></tr><tr><td>F0055</td><td>Air Canada</td><td>Spencerborough</td><td>Randyville</td><td>2025-06-09</td><td>2025-07-15T16:41:08.917Z</td><td>26</td><td>2025-07-16T07:31:50.103Z</td><td>2025-07-16T07:49:54.239Z</td></tr><tr><td>F0061</td><td>Lufthansa</td><td>Dawnshire</td><td>Stevenmouth</td><td>2025-04-24</td><td>2025-07-15T16:41:08.917Z</td><td>27</td><td>2025-07-16T07:31:50.103Z</td><td>2025-07-16T07:49:54.239Z</td></tr><tr><td>F0091</td><td>Lufthansa</td><td>Lake Scott</td><td>Williamshire</td><td>2025-06-04</td><td>2025-07-15T16:41:08.917Z</td><td>28</td><td>2025-07-16T07:31:50.103Z</td><td>2025-07-16T07:49:54.239Z</td></tr><tr><td>F0093</td><td>Air Canada</td><td>Frenchside</td><td>West Christopher</td><td>2025-05-28</td><td>2025-07-15T16:41:08.917Z</td><td>29</td><td>2025-07-16T07:31:50.103Z</td><td>2025-07-16T07:49:54.239Z</td></tr><tr><td>F0016</td><td>Qatar Airways</td><td>Smithborough</td><td>Randallview</td><td>2025-05-02</td><td>2025-07-15T16:41:08.917Z</td><td>30</td><td>2025-07-16T07:31:50.103Z</td><td>2025-07-16T07:49:54.239Z</td></tr><tr><td>F0040</td><td>Delta</td><td>Ianport</td><td>Lake Reginaldside</td><td>2025-04-23</td><td>2025-07-15T16:41:08.917Z</td><td>31</td><td>2025-07-16T07:31:50.103Z</td><td>2025-07-16T07:49:54.239Z</td></tr><tr><td>F0071</td><td>Delta</td><td>Jefferyberg</td><td>Wendyshire</td><td>2025-06-17</td><td>2025-07-15T16:41:08.917Z</td><td>32</td><td>2025-07-16T07:31:50.103Z</td><td>2025-07-16T07:49:54.239Z</td></tr><tr><td>F0096</td><td>Lufthansa</td><td>Coreyfort</td><td>West Joseph</td><td>2025-06-06</td><td>2025-07-15T16:41:08.917Z</td><td>33</td><td>2025-07-16T07:31:50.103Z</td><td>2025-07-16T07:49:54.239Z</td></tr><tr><td>F0010</td><td>Emirates</td><td>Kruegerchester</td><td>Martintown</td><td>2025-05-20</td><td>2025-07-15T16:41:08.917Z</td><td>34</td><td>2025-07-16T07:31:50.103Z</td><td>2025-07-16T07:49:54.239Z</td></tr><tr><td>F0037</td><td>Air Canada</td><td>Yangville</td><td>Jacksonview</td><td>2025-04-29</td><td>2025-07-15T16:41:08.917Z</td><td>35</td><td>2025-07-16T07:31:50.103Z</td><td>2025-07-16T07:49:54.239Z</td></tr><tr><td>F0073</td><td>Lufthansa</td><td>South Jasonville</td><td>Clarkeshire</td><td>2025-06-09</td><td>2025-07-15T16:41:08.917Z</td><td>36</td><td>2025-07-16T07:31:50.103Z</td><td>2025-07-16T07:49:54.239Z</td></tr><tr><td>F0097</td><td>Emirates</td><td>Billyport</td><td>Brentton</td><td>2025-05-18</td><td>2025-07-15T16:41:08.917Z</td><td>37</td><td>2025-07-16T07:31:50.103Z</td><td>2025-07-16T07:49:54.239Z</td></tr><tr><td>F0023</td><td>Lufthansa</td><td>Port Jeremyfurt</td><td>Lake Walterside</td><td>2025-05-11</td><td>2025-07-15T16:41:08.917Z</td><td>38</td><td>2025-07-16T07:31:50.103Z</td><td>2025-07-16T07:49:54.239Z</td></tr><tr><td>F0024</td><td>Lufthansa</td><td>Leestad</td><td>Port Debra</td><td>2025-05-09</td><td>2025-07-15T16:41:08.917Z</td><td>39</td><td>2025-07-16T07:31:50.103Z</td><td>2025-07-16T07:49:54.239Z</td></tr><tr><td>F0032</td><td>Emirates</td><td>Bushhaven</td><td>Patriciamouth</td><td>2025-05-22</td><td>2025-07-15T16:41:08.917Z</td><td>40</td><td>2025-07-16T07:31:50.103Z</td><td>2025-07-16T07:49:54.239Z</td></tr><tr><td>F0053</td><td>Qatar Airways</td><td>West Dylanbury</td><td>North Wendy</td><td>2025-05-24</td><td>2025-07-15T16:41:08.917Z</td><td>41</td><td>2025-07-16T07:31:50.103Z</td><td>2025-07-16T07:49:54.239Z</td></tr><tr><td>F0057</td><td>Air Canada</td><td>Samanthashire</td><td>Fisherstad</td><td>2025-06-09</td><td>2025-07-15T16:41:08.917Z</td><td>42</td><td>2025-07-16T07:31:50.103Z</td><td>2025-07-16T07:49:54.239Z</td></tr><tr><td>F0094</td><td>Emirates</td><td>South Amyfurt</td><td>Jimenezview</td><td>2025-06-14</td><td>2025-07-15T16:41:08.917Z</td><td>43</td><td>2025-07-16T07:31:50.103Z</td><td>2025-07-16T07:49:54.239Z</td></tr><tr><td>F0012</td><td>Air Canada</td><td>New Hunter</td><td>East Maria</td><td>2025-04-23</td><td>2025-07-15T16:41:08.917Z</td><td>44</td><td>2025-07-16T07:31:50.103Z</td><td>2025-07-16T07:49:54.239Z</td></tr><tr><td>F0038</td><td>Delta</td><td>Port Nicole</td><td>South Corey</td><td>2025-05-22</td><td>2025-07-15T16:41:08.917Z</td><td>45</td><td>2025-07-16T07:31:50.103Z</td><td>2025-07-16T07:49:54.239Z</td></tr><tr><td>F0067</td><td>Delta</td><td>Campbellborough</td><td>South Jason</td><td>2025-05-13</td><td>2025-07-15T16:41:08.917Z</td><td>46</td><td>2025-07-16T07:31:50.103Z</td><td>2025-07-16T07:49:54.239Z</td></tr><tr><td>F0068</td><td>Qatar Airways</td><td>Lake Seanport</td><td>Fieldsstad</td><td>2025-06-17</td><td>2025-07-15T16:41:08.917Z</td><td>47</td><td>2025-07-16T07:31:50.103Z</td><td>2025-07-16T07:49:54.239Z</td></tr><tr><td>F0075</td><td>Qatar Airways</td><td>New Danielhaven</td><td>Cunninghamfurt</td><td>2025-04-27</td><td>2025-07-15T16:41:08.917Z</td><td>48</td><td>2025-07-16T07:31:50.103Z</td><td>2025-07-16T07:49:54.239Z</td></tr><tr><td>F0084</td><td>Delta</td><td>Franklinmouth</td><td>Lake Joseph</td><td>2025-05-30</td><td>2025-07-15T16:41:08.917Z</td><td>49</td><td>2025-07-16T07:31:50.103Z</td><td>2025-07-16T07:49:54.239Z</td></tr><tr><td>F0046</td><td>Qatar Airways</td><td>West David</td><td>North Becky</td><td>2025-04-30</td><td>2025-07-15T16:41:08.917Z</td><td>50</td><td>2025-07-16T07:31:50.103Z</td><td>2025-07-16T07:49:54.239Z</td></tr><tr><td>F0077</td><td>Qatar Airways</td><td>Samuelfort</td><td>Port Ashley</td><td>2025-06-12</td><td>2025-07-15T16:41:08.917Z</td><td>51</td><td>2025-07-16T07:31:50.103Z</td><td>2025-07-16T07:49:54.239Z</td></tr><tr><td>F0021</td><td>Emirates</td><td>South Sara</td><td>North Annaport</td><td>2025-05-29</td><td>2025-07-15T16:41:08.917Z</td><td>52</td><td>2025-07-16T07:31:50.103Z</td><td>2025-07-16T07:49:54.239Z</td></tr><tr><td>F0030</td><td>Delta</td><td>Angelamouth</td><td>Sosaside</td><td>2025-06-16</td><td>2025-07-15T16:41:08.917Z</td><td>53</td><td>2025-07-16T07:31:50.103Z</td><td>2025-07-16T07:49:54.239Z</td></tr><tr><td>F0039</td><td>Air Canada</td><td>Paultown</td><td>Kellyton</td><td>2025-05-19</td><td>2025-07-15T16:41:08.917Z</td><td>54</td><td>2025-07-16T07:31:50.103Z</td><td>2025-07-16T07:49:54.239Z</td></tr><tr><td>F0047</td><td>Lufthansa</td><td>New Cory</td><td>Lorettashire</td><td>2025-05-05</td><td>2025-07-15T16:41:08.917Z</td><td>55</td><td>2025-07-16T07:31:50.103Z</td><td>2025-07-16T07:49:54.239Z</td></tr><tr><td>F0090</td><td>Delta</td><td>East Rachelport</td><td>Davisport</td><td>2025-05-23</td><td>2025-07-15T16:41:08.917Z</td><td>56</td><td>2025-07-16T07:31:50.103Z</td><td>2025-07-16T07:49:54.239Z</td></tr><tr><td>F0026</td><td>Air Canada</td><td>New Deborahfort</td><td>New Sabrina</td><td>2025-05-10</td><td>2025-07-15T16:41:08.917Z</td><td>57</td><td>2025-07-16T07:31:50.103Z</td><td>2025-07-16T07:49:54.239Z</td></tr><tr><td>F0059</td><td>Lufthansa</td><td>South Jeffrey</td><td>Jamesland</td><td>2025-05-10</td><td>2025-07-15T16:41:08.917Z</td><td>58</td><td>2025-07-16T07:31:50.103Z</td><td>2025-07-16T07:49:54.239Z</td></tr><tr><td>F0089</td><td>Qatar Airways</td><td>Robinsonberg</td><td>Adrianchester</td><td>2025-05-21</td><td>2025-07-15T16:41:08.917Z</td><td>59</td><td>2025-07-16T07:31:50.103Z</td><td>2025-07-16T07:49:54.239Z</td></tr><tr><td>F0092</td><td>Lufthansa</td><td>Austinborough</td><td>Bautistafort</td><td>2025-05-29</td><td>2025-07-15T16:41:08.917Z</td><td>60</td><td>2025-07-16T07:31:50.103Z</td><td>2025-07-16T07:49:54.239Z</td></tr><tr><td>F0001</td><td>Delta</td><td>Kellyfort</td><td>South Kathleen</td><td>2025-05-04</td><td>2025-07-15T16:41:08.917Z</td><td>61</td><td>2025-07-16T07:31:50.103Z</td><td>2025-07-16T07:49:54.239Z</td></tr><tr><td>F0018</td><td>Air Canada</td><td>Schultzborough</td><td>Danielton</td><td>2025-06-01</td><td>2025-07-15T16:41:08.917Z</td><td>62</td><td>2025-07-16T07:31:50.103Z</td><td>2025-07-16T07:49:54.239Z</td></tr><tr><td>F0042</td><td>Air Canada</td><td>Port William</td><td>Darrenmouth</td><td>2025-05-11</td><td>2025-07-15T16:41:08.917Z</td><td>63</td><td>2025-07-16T07:31:50.103Z</td><td>2025-07-16T07:49:54.239Z</td></tr><tr><td>F0049</td><td>Emirates</td><td>New Elizabethmouth</td><td>Lake Heathermouth</td><td>2025-05-06</td><td>2025-07-15T16:41:08.917Z</td><td>64</td><td>2025-07-16T07:31:50.103Z</td><td>2025-07-16T07:49:54.239Z</td></tr><tr><td>F0050</td><td>Air Canada</td><td>East Gailtown</td><td>Stevenville</td><td>2025-04-28</td><td>2025-07-15T16:41:08.917Z</td><td>65</td><td>2025-07-16T07:31:50.103Z</td><td>2025-07-16T07:49:54.239Z</td></tr><tr><td>F0051</td><td>Qatar Airways</td><td>Lisafurt</td><td>New Robert</td><td>2025-05-07</td><td>2025-07-15T16:41:08.917Z</td><td>66</td><td>2025-07-16T07:31:50.103Z</td><td>2025-07-16T07:49:54.239Z</td></tr><tr><td>F0060</td><td>Air Canada</td><td>Port Angelicaborough</td><td>East Daniel</td><td>2025-05-21</td><td>2025-07-15T16:41:08.917Z</td><td>67</td><td>2025-07-16T07:31:50.103Z</td><td>2025-07-16T07:49:54.239Z</td></tr><tr><td>F0062</td><td>Lufthansa</td><td>East Samanthafurt</td><td>Lake Troy</td><td>2025-05-12</td><td>2025-07-15T16:41:08.917Z</td><td>68</td><td>2025-07-16T07:31:50.103Z</td><td>2025-07-16T07:49:54.239Z</td></tr><tr><td>F0064</td><td>Delta</td><td>East Joshuastad</td><td>North Austinland</td><td>2025-05-25</td><td>2025-07-15T16:41:08.917Z</td><td>69</td><td>2025-07-16T07:31:50.103Z</td><td>2025-07-16T07:49:54.239Z</td></tr><tr><td>F0066</td><td>Qatar Airways</td><td>Stephenberg</td><td>Marcborough</td><td>2025-06-04</td><td>2025-07-15T16:41:08.917Z</td><td>70</td><td>2025-07-16T07:31:50.103Z</td><td>2025-07-16T07:49:54.239Z</td></tr><tr><td>F0070</td><td>Air Canada</td><td>Glennhaven</td><td>Port Darrenchester</td><td>2025-05-04</td><td>2025-07-15T16:41:08.917Z</td><td>71</td><td>2025-07-16T07:31:50.103Z</td><td>2025-07-16T07:49:54.239Z</td></tr><tr><td>F0100</td><td>Qatar Airways</td><td>Port Anthony</td><td>Thompsonfort</td><td>2025-05-31</td><td>2025-07-15T16:41:08.917Z</td><td>72</td><td>2025-07-16T07:31:50.103Z</td><td>2025-07-16T07:49:54.239Z</td></tr><tr><td>F0020</td><td>Lufthansa</td><td>North Jack</td><td>Loweville</td><td>2025-06-02</td><td>2025-07-15T16:41:08.917Z</td><td>73</td><td>2025-07-16T07:31:50.103Z</td><td>2025-07-16T07:49:54.239Z</td></tr><tr><td>F0048</td><td>Lufthansa</td><td>Cooperview</td><td>Michelleburgh</td><td>2025-05-24</td><td>2025-07-15T16:41:08.917Z</td><td>74</td><td>2025-07-16T07:31:50.103Z</td><td>2025-07-16T07:49:54.239Z</td></tr><tr><td>F0078</td><td>Qatar Airways</td><td>Howardbury</td><td>Burchburgh</td><td>2025-05-09</td><td>2025-07-15T16:41:08.917Z</td><td>75</td><td>2025-07-16T07:31:50.103Z</td><td>2025-07-16T07:49:54.239Z</td></tr><tr><td>F0082</td><td>Qatar Airways</td><td>North Erikamouth</td><td>Danielfort</td><td>2025-05-19</td><td>2025-07-15T16:41:08.917Z</td><td>76</td><td>2025-07-16T07:31:50.103Z</td><td>2025-07-16T07:49:54.239Z</td></tr><tr><td>F0099</td><td>Air Canada</td><td>Lake Connor</td><td>Matthewberg</td><td>2025-04-28</td><td>2025-07-15T16:41:08.917Z</td><td>77</td><td>2025-07-16T07:31:50.103Z</td><td>2025-07-16T07:49:54.239Z</td></tr><tr><td>F0034</td><td>Emirates</td><td>Johnsonville</td><td>Cooperland</td><td>2025-05-18</td><td>2025-07-15T16:41:08.917Z</td><td>78</td><td>2025-07-16T07:31:50.103Z</td><td>2025-07-16T07:49:54.239Z</td></tr><tr><td>F0063</td><td>Lufthansa</td><td>Floresshire</td><td>New Anita</td><td>2025-06-03</td><td>2025-07-15T16:41:08.917Z</td><td>79</td><td>2025-07-16T07:31:50.103Z</td><td>2025-07-16T07:49:54.239Z</td></tr><tr><td>F0076</td><td>Lufthansa</td><td>Johnsonchester</td><td>New Michael</td><td>2025-05-14</td><td>2025-07-15T16:41:08.917Z</td><td>80</td><td>2025-07-16T07:31:50.103Z</td><td>2025-07-16T07:49:54.239Z</td></tr><tr><td>F0079</td><td>Delta</td><td>Jonesburgh</td><td>Andradeville</td><td>2025-06-17</td><td>2025-07-15T16:41:08.917Z</td><td>81</td><td>2025-07-16T07:31:50.103Z</td><td>2025-07-16T07:49:54.239Z</td></tr><tr><td>F0080</td><td>Emirates</td><td>Sonyaberg</td><td>East Sarah</td><td>2025-06-13</td><td>2025-07-15T16:41:08.917Z</td><td>82</td><td>2025-07-16T07:31:50.103Z</td><td>2025-07-16T07:49:54.239Z</td></tr><tr><td>F0085</td><td>Lufthansa</td><td>Hillton</td><td>Castroborough</td><td>2025-05-19</td><td>2025-07-15T16:41:08.917Z</td><td>83</td><td>2025-07-16T07:31:50.103Z</td><td>2025-07-16T07:49:54.239Z</td></tr><tr><td>F0095</td><td>Qatar Airways</td><td>North Dawnberg</td><td>East Sarahmouth</td><td>2025-05-26</td><td>2025-07-15T16:41:08.917Z</td><td>84</td><td>2025-07-16T07:31:50.103Z</td><td>2025-07-16T07:49:54.239Z</td></tr><tr><td>F0002</td><td>Qatar Airways</td><td>Lake Stephen</td><td>New Vincent</td><td>2025-04-29</td><td>2025-07-15T16:41:08.917Z</td><td>85</td><td>2025-07-16T07:31:50.103Z</td><td>2025-07-16T07:49:54.239Z</td></tr><tr><td>F0027</td><td>Delta</td><td>Acevedoville</td><td>Ericchester</td><td>2025-05-14</td><td>2025-07-15T16:41:08.917Z</td><td>86</td><td>2025-07-16T07:31:50.103Z</td><td>2025-07-16T07:49:54.239Z</td></tr><tr><td>F0028</td><td>Delta</td><td>South Michaelberg</td><td>South Markbury</td><td>2025-05-30</td><td>2025-07-15T16:41:08.917Z</td><td>87</td><td>2025-07-16T07:31:50.103Z</td><td>2025-07-16T07:49:54.239Z</td></tr><tr><td>F0056</td><td>Lufthansa</td><td>South Natalie</td><td>Schaefertown</td><td>2025-05-03</td><td>2025-07-15T16:41:08.917Z</td><td>88</td><td>2025-07-16T07:31:50.103Z</td><td>2025-07-16T07:49:54.239Z</td></tr><tr><td>F0086</td><td>Delta</td><td>Port Chelsea</td><td>Robertchester</td><td>2025-05-08</td><td>2025-07-15T16:41:08.917Z</td><td>89</td><td>2025-07-16T07:31:50.103Z</td><td>2025-07-16T07:49:54.239Z</td></tr><tr><td>F0098</td><td>Air Canada</td><td>Wallerburgh</td><td>Lake Karen</td><td>2025-05-01</td><td>2025-07-15T16:41:08.917Z</td><td>90</td><td>2025-07-16T07:31:50.103Z</td><td>2025-07-16T07:49:54.239Z</td></tr><tr><td>F0008</td><td>Lufthansa</td><td>Briannachester</td><td>Cervantesland</td><td>2025-05-26</td><td>2025-07-15T16:41:08.917Z</td><td>91</td><td>2025-07-16T07:31:50.103Z</td><td>2025-07-16T07:49:54.239Z</td></tr><tr><td>F0009</td><td>Delta</td><td>Alexandraborough</td><td>North Alexishaven</td><td>2025-06-10</td><td>2025-07-15T16:41:08.917Z</td><td>92</td><td>2025-07-16T07:31:50.103Z</td><td>2025-07-16T07:49:54.239Z</td></tr><tr><td>F0011</td><td>Lufthansa</td><td>Port Joannahaven</td><td>North Jasonton</td><td>2025-05-30</td><td>2025-07-15T16:41:08.917Z</td><td>93</td><td>2025-07-16T07:31:50.103Z</td><td>2025-07-16T07:49:54.239Z</td></tr><tr><td>F0025</td><td>Qatar Airways</td><td>Chelseaberg</td><td>North Michaelshire</td><td>2025-06-01</td><td>2025-07-15T16:41:08.917Z</td><td>94</td><td>2025-07-16T07:31:50.103Z</td><td>2025-07-16T07:49:54.239Z</td></tr><tr><td>F0041</td><td>Air Canada</td><td>Lake Stanleyside</td><td>Port Scott</td><td>2025-06-14</td><td>2025-07-15T16:41:08.917Z</td><td>95</td><td>2025-07-16T07:31:50.103Z</td><td>2025-07-16T07:49:54.239Z</td></tr><tr><td>F0054</td><td>Air Canada</td><td>Seanmouth</td><td>North Kathyton</td><td>2025-05-09</td><td>2025-07-15T16:41:08.917Z</td><td>96</td><td>2025-07-16T07:31:50.103Z</td><td>2025-07-16T07:49:54.239Z</td></tr><tr><td>F0065</td><td>Emirates</td><td>East Paulland</td><td>Barnesberg</td><td>2025-04-29</td><td>2025-07-15T16:41:08.917Z</td><td>97</td><td>2025-07-16T07:31:50.103Z</td><td>2025-07-16T07:49:54.239Z</td></tr><tr><td>F0072</td><td>Emirates</td><td>Heiditown</td><td>Port Sabrinaburgh</td><td>2025-05-22</td><td>2025-07-15T16:41:08.917Z</td><td>98</td><td>2025-07-16T07:31:50.103Z</td><td>2025-07-16T07:49:54.239Z</td></tr><tr><td>F0074</td><td>Air Canada</td><td>Duffyville</td><td>Port Vanessa</td><td>2025-05-28</td><td>2025-07-15T16:41:08.917Z</td><td>99</td><td>2025-07-16T07:31:50.103Z</td><td>2025-07-16T07:49:54.239Z</td></tr><tr><td>F0088</td><td>Qatar Airways</td><td>North Miguel</td><td>Lake Allisonfurt</td><td>2025-05-28</td><td>2025-07-15T16:41:08.917Z</td><td>100</td><td>2025-07-16T07:31:50.103Z</td><td>2025-07-16T07:49:54.239Z</td></tr><tr><td>F0107</td><td>Air Canada</td><td>Mitchelltown</td><td>Johnsonbury</td><td>2025-07-01</td><td>2025-07-15T16:41:08.917Z</td><td>101</td><td>2025-07-16T07:31:50.103Z</td><td>2025-07-16T07:49:54.239Z</td></tr><tr><td>F0103</td><td>Qatar Airways</td><td>Jameschester</td><td>Ashleyberg</td><td>2025-07-15</td><td>2025-07-15T16:41:08.917Z</td><td>102</td><td>2025-07-16T07:31:50.103Z</td><td>2025-07-16T07:49:54.239Z</td></tr><tr><td>F0102</td><td>Delta</td><td>Schroederbury</td><td>Sethfort</td><td>2025-06-25</td><td>2025-07-15T16:41:08.917Z</td><td>103</td><td>2025-07-16T07:31:50.103Z</td><td>2025-07-16T07:49:54.239Z</td></tr><tr><td>F0109</td><td>Air Canada</td><td>Williamsland</td><td>South Carolberg</td><td>2025-06-14</td><td>2025-07-15T16:41:08.917Z</td><td>104</td><td>2025-07-16T07:31:50.103Z</td><td>2025-07-16T07:49:54.239Z</td></tr><tr><td>F0108</td><td>Lufthansa</td><td>New Jennifer</td><td>Lake Tracie</td><td>2025-06-28</td><td>2025-07-15T16:41:08.917Z</td><td>105</td><td>2025-07-16T07:31:50.103Z</td><td>2025-07-16T07:49:54.239Z</td></tr><tr><td>F0101</td><td>Qatar Airways</td><td>Lake Joshuamouth</td><td>Johnshire</td><td>2025-07-14</td><td>2025-07-15T16:41:08.917Z</td><td>106</td><td>2025-07-16T07:31:50.103Z</td><td>2025-07-16T07:49:54.239Z</td></tr><tr><td>F0104</td><td>Qatar Airways</td><td>Huangstad</td><td>Catherinehaven</td><td>2025-06-29</td><td>2025-07-15T16:41:08.917Z</td><td>107</td><td>2025-07-16T07:31:50.103Z</td><td>2025-07-16T07:49:54.239Z</td></tr><tr><td>F0105</td><td>Air Canada</td><td>Aprilton</td><td>Victorville</td><td>2025-07-05</td><td>2025-07-15T16:41:08.917Z</td><td>108</td><td>2025-07-16T07:31:50.103Z</td><td>2025-07-16T07:49:54.239Z</td></tr><tr><td>F0106</td><td>Lufthansa</td><td>East Austinmouth</td><td>New Toddburgh</td><td>2025-06-22</td><td>2025-07-15T16:41:08.917Z</td><td>109</td><td>2025-07-16T07:31:50.103Z</td><td>2025-07-16T07:49:54.239Z</td></tr><tr><td>F0110</td><td>Emirates</td><td>Churchport</td><td>Wrightton</td><td>2025-07-15</td><td>2025-07-15T16:41:08.917Z</td><td>110</td><td>2025-07-16T07:31:50.103Z</td><td>2025-07-16T07:49:54.239Z</td></tr></tbody></table></div>"
      ]
     },
     "metadata": {
      "application/vnd.databricks.v1+output": {
       "addedWidgets": {},
       "aggData": [],
       "aggError": "",
       "aggOverflow": false,
       "aggSchema": [],
       "aggSeriesLimitReached": false,
       "aggType": "",
       "arguments": {},
       "columnCustomDisplayInfos": {},
       "data": [
        [
         "F0013",
         "Air Canada",
         "East Brian",
         "Wayneton",
         "2025-05-21",
         "2025-07-15T16:41:08.917Z",
         1,
         "2025-07-16T07:31:50.103Z",
         "2025-07-16T07:49:54.239Z"
        ],
        [
         "F0014",
         "Air Canada",
         "Toddland",
         "Gonzalezport",
         "2025-05-28",
         "2025-07-15T16:41:08.917Z",
         2,
         "2025-07-16T07:31:50.103Z",
         "2025-07-16T07:49:54.239Z"
        ],
        [
         "F0033",
         "Air Canada",
         "Sandersshire",
         "Lake Joseside",
         "2025-06-21",
         "2025-07-15T16:41:08.917Z",
         3,
         "2025-07-16T07:31:50.103Z",
         "2025-07-16T07:49:54.239Z"
        ],
        [
         "F0052",
         "Qatar Airways",
         "Lake Richard",
         "Brookston",
         "2025-05-28",
         "2025-07-15T16:41:08.917Z",
         4,
         "2025-07-16T07:31:50.103Z",
         "2025-07-16T07:49:54.239Z"
        ],
        [
         "F0069",
         "Qatar Airways",
         "Johnsonburgh",
         "Woodmouth",
         "2025-06-14",
         "2025-07-15T16:41:08.917Z",
         5,
         "2025-07-16T07:31:50.103Z",
         "2025-07-16T07:49:54.239Z"
        ],
        [
         "F0083",
         "Lufthansa",
         "Jasonborough",
         "Port Audreyville",
         "2025-05-30",
         "2025-07-15T16:41:08.917Z",
         6,
         "2025-07-16T07:31:50.103Z",
         "2025-07-16T07:49:54.239Z"
        ],
        [
         "F0005",
         "Qatar Airways",
         "Bennettside",
         "New Mistyhaven",
         "2025-06-13",
         "2025-07-15T16:41:08.917Z",
         7,
         "2025-07-16T07:31:50.103Z",
         "2025-07-16T07:49:54.239Z"
        ],
        [
         "F0007",
         "Delta",
         "Berryport",
         "Miguelburgh",
         "2025-05-24",
         "2025-07-15T16:41:08.917Z",
         8,
         "2025-07-16T07:31:50.103Z",
         "2025-07-16T07:49:54.239Z"
        ],
        [
         "F0015",
         "Delta",
         "West Ginaton",
         "Youngmouth",
         "2025-05-21",
         "2025-07-15T16:41:08.917Z",
         9,
         "2025-07-16T07:31:50.103Z",
         "2025-07-16T07:49:54.239Z"
        ],
        [
         "F0017",
         "Delta",
         "Wallermouth",
         "New Rogerberg",
         "2025-05-04",
         "2025-07-15T16:41:08.917Z",
         10,
         "2025-07-16T07:31:50.103Z",
         "2025-07-16T07:49:54.239Z"
        ],
        [
         "F0035",
         "Lufthansa",
         "Karenshire",
         "North Anthonymouth",
         "2025-05-21",
         "2025-07-15T16:41:08.917Z",
         11,
         "2025-07-16T07:31:50.103Z",
         "2025-07-16T07:49:54.239Z"
        ],
        [
         "F0058",
         "Delta",
         "North Brittanyborough",
         "West Kellystad",
         "2025-06-10",
         "2025-07-15T16:41:08.917Z",
         12,
         "2025-07-16T07:31:50.103Z",
         "2025-07-16T07:49:54.239Z"
        ],
        [
         "F0003",
         "Lufthansa",
         "East Patrickborough",
         "North Mary",
         "2025-05-11",
         "2025-07-15T16:41:08.917Z",
         13,
         "2025-07-16T07:31:50.103Z",
         "2025-07-16T07:49:54.239Z"
        ],
        [
         "F0022",
         "Air Canada",
         "Reedchester",
         "Cruzton",
         "2025-04-27",
         "2025-07-15T16:41:08.917Z",
         14,
         "2025-07-16T07:31:50.103Z",
         "2025-07-16T07:49:54.239Z"
        ],
        [
         "F0044",
         "Qatar Airways",
         "East Kaylaburgh",
         "Lake Carolynchester",
         "2025-06-01",
         "2025-07-15T16:41:08.917Z",
         15,
         "2025-07-16T07:31:50.103Z",
         "2025-07-16T07:49:54.239Z"
        ],
        [
         "F0045",
         "Emirates",
         "North Michaelville",
         "Russellton",
         "2025-05-04",
         "2025-07-15T16:41:08.917Z",
         16,
         "2025-07-16T07:31:50.103Z",
         "2025-07-16T07:49:54.239Z"
        ],
        [
         "F0081",
         "Air Canada",
         "North Barry",
         "Josephborough",
         "2025-04-24",
         "2025-07-15T16:41:08.917Z",
         17,
         "2025-07-16T07:31:50.103Z",
         "2025-07-16T07:49:54.239Z"
        ],
        [
         "F0087",
         "Emirates",
         "Kellyland",
         "New Jonathanmouth",
         "2025-04-23",
         "2025-07-15T16:41:08.917Z",
         18,
         "2025-07-16T07:31:50.103Z",
         "2025-07-16T07:49:54.239Z"
        ],
        [
         "F0004",
         "Delta",
         "Maddenshire",
         "Johnchester",
         "2025-05-16",
         "2025-07-15T16:41:08.917Z",
         19,
         "2025-07-16T07:31:50.103Z",
         "2025-07-16T07:49:54.239Z"
        ],
        [
         "F0006",
         "Air Canada",
         "New Richardside",
         "South Jamesborough",
         "2025-05-16",
         "2025-07-15T16:41:08.917Z",
         20,
         "2025-07-16T07:31:50.103Z",
         "2025-07-16T07:49:54.239Z"
        ],
        [
         "F0019",
         "Lufthansa",
         "Lake Scott",
         "Christineborough",
         "2025-05-18",
         "2025-07-15T16:41:08.917Z",
         21,
         "2025-07-16T07:31:50.103Z",
         "2025-07-16T07:49:54.239Z"
        ],
        [
         "F0029",
         "Qatar Airways",
         "Shortberg",
         "Julieburgh",
         "2025-05-11",
         "2025-07-15T16:41:08.917Z",
         22,
         "2025-07-16T07:31:50.103Z",
         "2025-07-16T07:49:54.239Z"
        ],
        [
         "F0031",
         "Emirates",
         "Billview",
         "Jonathonborough",
         "2025-06-14",
         "2025-07-15T16:41:08.917Z",
         23,
         "2025-07-16T07:31:50.103Z",
         "2025-07-16T07:49:54.239Z"
        ],
        [
         "F0036",
         "Lufthansa",
         "Armstrongbury",
         "North Natashamouth",
         "2025-05-05",
         "2025-07-15T16:41:08.917Z",
         24,
         "2025-07-16T07:31:50.103Z",
         "2025-07-16T07:49:54.239Z"
        ],
        [
         "F0043",
         "Lufthansa",
         "Kimberlyborough",
         "New Annfort",
         "2025-05-15",
         "2025-07-15T16:41:08.917Z",
         25,
         "2025-07-16T07:31:50.103Z",
         "2025-07-16T07:49:54.239Z"
        ],
        [
         "F0055",
         "Air Canada",
         "Spencerborough",
         "Randyville",
         "2025-06-09",
         "2025-07-15T16:41:08.917Z",
         26,
         "2025-07-16T07:31:50.103Z",
         "2025-07-16T07:49:54.239Z"
        ],
        [
         "F0061",
         "Lufthansa",
         "Dawnshire",
         "Stevenmouth",
         "2025-04-24",
         "2025-07-15T16:41:08.917Z",
         27,
         "2025-07-16T07:31:50.103Z",
         "2025-07-16T07:49:54.239Z"
        ],
        [
         "F0091",
         "Lufthansa",
         "Lake Scott",
         "Williamshire",
         "2025-06-04",
         "2025-07-15T16:41:08.917Z",
         28,
         "2025-07-16T07:31:50.103Z",
         "2025-07-16T07:49:54.239Z"
        ],
        [
         "F0093",
         "Air Canada",
         "Frenchside",
         "West Christopher",
         "2025-05-28",
         "2025-07-15T16:41:08.917Z",
         29,
         "2025-07-16T07:31:50.103Z",
         "2025-07-16T07:49:54.239Z"
        ],
        [
         "F0016",
         "Qatar Airways",
         "Smithborough",
         "Randallview",
         "2025-05-02",
         "2025-07-15T16:41:08.917Z",
         30,
         "2025-07-16T07:31:50.103Z",
         "2025-07-16T07:49:54.239Z"
        ],
        [
         "F0040",
         "Delta",
         "Ianport",
         "Lake Reginaldside",
         "2025-04-23",
         "2025-07-15T16:41:08.917Z",
         31,
         "2025-07-16T07:31:50.103Z",
         "2025-07-16T07:49:54.239Z"
        ],
        [
         "F0071",
         "Delta",
         "Jefferyberg",
         "Wendyshire",
         "2025-06-17",
         "2025-07-15T16:41:08.917Z",
         32,
         "2025-07-16T07:31:50.103Z",
         "2025-07-16T07:49:54.239Z"
        ],
        [
         "F0096",
         "Lufthansa",
         "Coreyfort",
         "West Joseph",
         "2025-06-06",
         "2025-07-15T16:41:08.917Z",
         33,
         "2025-07-16T07:31:50.103Z",
         "2025-07-16T07:49:54.239Z"
        ],
        [
         "F0010",
         "Emirates",
         "Kruegerchester",
         "Martintown",
         "2025-05-20",
         "2025-07-15T16:41:08.917Z",
         34,
         "2025-07-16T07:31:50.103Z",
         "2025-07-16T07:49:54.239Z"
        ],
        [
         "F0037",
         "Air Canada",
         "Yangville",
         "Jacksonview",
         "2025-04-29",
         "2025-07-15T16:41:08.917Z",
         35,
         "2025-07-16T07:31:50.103Z",
         "2025-07-16T07:49:54.239Z"
        ],
        [
         "F0073",
         "Lufthansa",
         "South Jasonville",
         "Clarkeshire",
         "2025-06-09",
         "2025-07-15T16:41:08.917Z",
         36,
         "2025-07-16T07:31:50.103Z",
         "2025-07-16T07:49:54.239Z"
        ],
        [
         "F0097",
         "Emirates",
         "Billyport",
         "Brentton",
         "2025-05-18",
         "2025-07-15T16:41:08.917Z",
         37,
         "2025-07-16T07:31:50.103Z",
         "2025-07-16T07:49:54.239Z"
        ],
        [
         "F0023",
         "Lufthansa",
         "Port Jeremyfurt",
         "Lake Walterside",
         "2025-05-11",
         "2025-07-15T16:41:08.917Z",
         38,
         "2025-07-16T07:31:50.103Z",
         "2025-07-16T07:49:54.239Z"
        ],
        [
         "F0024",
         "Lufthansa",
         "Leestad",
         "Port Debra",
         "2025-05-09",
         "2025-07-15T16:41:08.917Z",
         39,
         "2025-07-16T07:31:50.103Z",
         "2025-07-16T07:49:54.239Z"
        ],
        [
         "F0032",
         "Emirates",
         "Bushhaven",
         "Patriciamouth",
         "2025-05-22",
         "2025-07-15T16:41:08.917Z",
         40,
         "2025-07-16T07:31:50.103Z",
         "2025-07-16T07:49:54.239Z"
        ],
        [
         "F0053",
         "Qatar Airways",
         "West Dylanbury",
         "North Wendy",
         "2025-05-24",
         "2025-07-15T16:41:08.917Z",
         41,
         "2025-07-16T07:31:50.103Z",
         "2025-07-16T07:49:54.239Z"
        ],
        [
         "F0057",
         "Air Canada",
         "Samanthashire",
         "Fisherstad",
         "2025-06-09",
         "2025-07-15T16:41:08.917Z",
         42,
         "2025-07-16T07:31:50.103Z",
         "2025-07-16T07:49:54.239Z"
        ],
        [
         "F0094",
         "Emirates",
         "South Amyfurt",
         "Jimenezview",
         "2025-06-14",
         "2025-07-15T16:41:08.917Z",
         43,
         "2025-07-16T07:31:50.103Z",
         "2025-07-16T07:49:54.239Z"
        ],
        [
         "F0012",
         "Air Canada",
         "New Hunter",
         "East Maria",
         "2025-04-23",
         "2025-07-15T16:41:08.917Z",
         44,
         "2025-07-16T07:31:50.103Z",
         "2025-07-16T07:49:54.239Z"
        ],
        [
         "F0038",
         "Delta",
         "Port Nicole",
         "South Corey",
         "2025-05-22",
         "2025-07-15T16:41:08.917Z",
         45,
         "2025-07-16T07:31:50.103Z",
         "2025-07-16T07:49:54.239Z"
        ],
        [
         "F0067",
         "Delta",
         "Campbellborough",
         "South Jason",
         "2025-05-13",
         "2025-07-15T16:41:08.917Z",
         46,
         "2025-07-16T07:31:50.103Z",
         "2025-07-16T07:49:54.239Z"
        ],
        [
         "F0068",
         "Qatar Airways",
         "Lake Seanport",
         "Fieldsstad",
         "2025-06-17",
         "2025-07-15T16:41:08.917Z",
         47,
         "2025-07-16T07:31:50.103Z",
         "2025-07-16T07:49:54.239Z"
        ],
        [
         "F0075",
         "Qatar Airways",
         "New Danielhaven",
         "Cunninghamfurt",
         "2025-04-27",
         "2025-07-15T16:41:08.917Z",
         48,
         "2025-07-16T07:31:50.103Z",
         "2025-07-16T07:49:54.239Z"
        ],
        [
         "F0084",
         "Delta",
         "Franklinmouth",
         "Lake Joseph",
         "2025-05-30",
         "2025-07-15T16:41:08.917Z",
         49,
         "2025-07-16T07:31:50.103Z",
         "2025-07-16T07:49:54.239Z"
        ],
        [
         "F0046",
         "Qatar Airways",
         "West David",
         "North Becky",
         "2025-04-30",
         "2025-07-15T16:41:08.917Z",
         50,
         "2025-07-16T07:31:50.103Z",
         "2025-07-16T07:49:54.239Z"
        ],
        [
         "F0077",
         "Qatar Airways",
         "Samuelfort",
         "Port Ashley",
         "2025-06-12",
         "2025-07-15T16:41:08.917Z",
         51,
         "2025-07-16T07:31:50.103Z",
         "2025-07-16T07:49:54.239Z"
        ],
        [
         "F0021",
         "Emirates",
         "South Sara",
         "North Annaport",
         "2025-05-29",
         "2025-07-15T16:41:08.917Z",
         52,
         "2025-07-16T07:31:50.103Z",
         "2025-07-16T07:49:54.239Z"
        ],
        [
         "F0030",
         "Delta",
         "Angelamouth",
         "Sosaside",
         "2025-06-16",
         "2025-07-15T16:41:08.917Z",
         53,
         "2025-07-16T07:31:50.103Z",
         "2025-07-16T07:49:54.239Z"
        ],
        [
         "F0039",
         "Air Canada",
         "Paultown",
         "Kellyton",
         "2025-05-19",
         "2025-07-15T16:41:08.917Z",
         54,
         "2025-07-16T07:31:50.103Z",
         "2025-07-16T07:49:54.239Z"
        ],
        [
         "F0047",
         "Lufthansa",
         "New Cory",
         "Lorettashire",
         "2025-05-05",
         "2025-07-15T16:41:08.917Z",
         55,
         "2025-07-16T07:31:50.103Z",
         "2025-07-16T07:49:54.239Z"
        ],
        [
         "F0090",
         "Delta",
         "East Rachelport",
         "Davisport",
         "2025-05-23",
         "2025-07-15T16:41:08.917Z",
         56,
         "2025-07-16T07:31:50.103Z",
         "2025-07-16T07:49:54.239Z"
        ],
        [
         "F0026",
         "Air Canada",
         "New Deborahfort",
         "New Sabrina",
         "2025-05-10",
         "2025-07-15T16:41:08.917Z",
         57,
         "2025-07-16T07:31:50.103Z",
         "2025-07-16T07:49:54.239Z"
        ],
        [
         "F0059",
         "Lufthansa",
         "South Jeffrey",
         "Jamesland",
         "2025-05-10",
         "2025-07-15T16:41:08.917Z",
         58,
         "2025-07-16T07:31:50.103Z",
         "2025-07-16T07:49:54.239Z"
        ],
        [
         "F0089",
         "Qatar Airways",
         "Robinsonberg",
         "Adrianchester",
         "2025-05-21",
         "2025-07-15T16:41:08.917Z",
         59,
         "2025-07-16T07:31:50.103Z",
         "2025-07-16T07:49:54.239Z"
        ],
        [
         "F0092",
         "Lufthansa",
         "Austinborough",
         "Bautistafort",
         "2025-05-29",
         "2025-07-15T16:41:08.917Z",
         60,
         "2025-07-16T07:31:50.103Z",
         "2025-07-16T07:49:54.239Z"
        ],
        [
         "F0001",
         "Delta",
         "Kellyfort",
         "South Kathleen",
         "2025-05-04",
         "2025-07-15T16:41:08.917Z",
         61,
         "2025-07-16T07:31:50.103Z",
         "2025-07-16T07:49:54.239Z"
        ],
        [
         "F0018",
         "Air Canada",
         "Schultzborough",
         "Danielton",
         "2025-06-01",
         "2025-07-15T16:41:08.917Z",
         62,
         "2025-07-16T07:31:50.103Z",
         "2025-07-16T07:49:54.239Z"
        ],
        [
         "F0042",
         "Air Canada",
         "Port William",
         "Darrenmouth",
         "2025-05-11",
         "2025-07-15T16:41:08.917Z",
         63,
         "2025-07-16T07:31:50.103Z",
         "2025-07-16T07:49:54.239Z"
        ],
        [
         "F0049",
         "Emirates",
         "New Elizabethmouth",
         "Lake Heathermouth",
         "2025-05-06",
         "2025-07-15T16:41:08.917Z",
         64,
         "2025-07-16T07:31:50.103Z",
         "2025-07-16T07:49:54.239Z"
        ],
        [
         "F0050",
         "Air Canada",
         "East Gailtown",
         "Stevenville",
         "2025-04-28",
         "2025-07-15T16:41:08.917Z",
         65,
         "2025-07-16T07:31:50.103Z",
         "2025-07-16T07:49:54.239Z"
        ],
        [
         "F0051",
         "Qatar Airways",
         "Lisafurt",
         "New Robert",
         "2025-05-07",
         "2025-07-15T16:41:08.917Z",
         66,
         "2025-07-16T07:31:50.103Z",
         "2025-07-16T07:49:54.239Z"
        ],
        [
         "F0060",
         "Air Canada",
         "Port Angelicaborough",
         "East Daniel",
         "2025-05-21",
         "2025-07-15T16:41:08.917Z",
         67,
         "2025-07-16T07:31:50.103Z",
         "2025-07-16T07:49:54.239Z"
        ],
        [
         "F0062",
         "Lufthansa",
         "East Samanthafurt",
         "Lake Troy",
         "2025-05-12",
         "2025-07-15T16:41:08.917Z",
         68,
         "2025-07-16T07:31:50.103Z",
         "2025-07-16T07:49:54.239Z"
        ],
        [
         "F0064",
         "Delta",
         "East Joshuastad",
         "North Austinland",
         "2025-05-25",
         "2025-07-15T16:41:08.917Z",
         69,
         "2025-07-16T07:31:50.103Z",
         "2025-07-16T07:49:54.239Z"
        ],
        [
         "F0066",
         "Qatar Airways",
         "Stephenberg",
         "Marcborough",
         "2025-06-04",
         "2025-07-15T16:41:08.917Z",
         70,
         "2025-07-16T07:31:50.103Z",
         "2025-07-16T07:49:54.239Z"
        ],
        [
         "F0070",
         "Air Canada",
         "Glennhaven",
         "Port Darrenchester",
         "2025-05-04",
         "2025-07-15T16:41:08.917Z",
         71,
         "2025-07-16T07:31:50.103Z",
         "2025-07-16T07:49:54.239Z"
        ],
        [
         "F0100",
         "Qatar Airways",
         "Port Anthony",
         "Thompsonfort",
         "2025-05-31",
         "2025-07-15T16:41:08.917Z",
         72,
         "2025-07-16T07:31:50.103Z",
         "2025-07-16T07:49:54.239Z"
        ],
        [
         "F0020",
         "Lufthansa",
         "North Jack",
         "Loweville",
         "2025-06-02",
         "2025-07-15T16:41:08.917Z",
         73,
         "2025-07-16T07:31:50.103Z",
         "2025-07-16T07:49:54.239Z"
        ],
        [
         "F0048",
         "Lufthansa",
         "Cooperview",
         "Michelleburgh",
         "2025-05-24",
         "2025-07-15T16:41:08.917Z",
         74,
         "2025-07-16T07:31:50.103Z",
         "2025-07-16T07:49:54.239Z"
        ],
        [
         "F0078",
         "Qatar Airways",
         "Howardbury",
         "Burchburgh",
         "2025-05-09",
         "2025-07-15T16:41:08.917Z",
         75,
         "2025-07-16T07:31:50.103Z",
         "2025-07-16T07:49:54.239Z"
        ],
        [
         "F0082",
         "Qatar Airways",
         "North Erikamouth",
         "Danielfort",
         "2025-05-19",
         "2025-07-15T16:41:08.917Z",
         76,
         "2025-07-16T07:31:50.103Z",
         "2025-07-16T07:49:54.239Z"
        ],
        [
         "F0099",
         "Air Canada",
         "Lake Connor",
         "Matthewberg",
         "2025-04-28",
         "2025-07-15T16:41:08.917Z",
         77,
         "2025-07-16T07:31:50.103Z",
         "2025-07-16T07:49:54.239Z"
        ],
        [
         "F0034",
         "Emirates",
         "Johnsonville",
         "Cooperland",
         "2025-05-18",
         "2025-07-15T16:41:08.917Z",
         78,
         "2025-07-16T07:31:50.103Z",
         "2025-07-16T07:49:54.239Z"
        ],
        [
         "F0063",
         "Lufthansa",
         "Floresshire",
         "New Anita",
         "2025-06-03",
         "2025-07-15T16:41:08.917Z",
         79,
         "2025-07-16T07:31:50.103Z",
         "2025-07-16T07:49:54.239Z"
        ],
        [
         "F0076",
         "Lufthansa",
         "Johnsonchester",
         "New Michael",
         "2025-05-14",
         "2025-07-15T16:41:08.917Z",
         80,
         "2025-07-16T07:31:50.103Z",
         "2025-07-16T07:49:54.239Z"
        ],
        [
         "F0079",
         "Delta",
         "Jonesburgh",
         "Andradeville",
         "2025-06-17",
         "2025-07-15T16:41:08.917Z",
         81,
         "2025-07-16T07:31:50.103Z",
         "2025-07-16T07:49:54.239Z"
        ],
        [
         "F0080",
         "Emirates",
         "Sonyaberg",
         "East Sarah",
         "2025-06-13",
         "2025-07-15T16:41:08.917Z",
         82,
         "2025-07-16T07:31:50.103Z",
         "2025-07-16T07:49:54.239Z"
        ],
        [
         "F0085",
         "Lufthansa",
         "Hillton",
         "Castroborough",
         "2025-05-19",
         "2025-07-15T16:41:08.917Z",
         83,
         "2025-07-16T07:31:50.103Z",
         "2025-07-16T07:49:54.239Z"
        ],
        [
         "F0095",
         "Qatar Airways",
         "North Dawnberg",
         "East Sarahmouth",
         "2025-05-26",
         "2025-07-15T16:41:08.917Z",
         84,
         "2025-07-16T07:31:50.103Z",
         "2025-07-16T07:49:54.239Z"
        ],
        [
         "F0002",
         "Qatar Airways",
         "Lake Stephen",
         "New Vincent",
         "2025-04-29",
         "2025-07-15T16:41:08.917Z",
         85,
         "2025-07-16T07:31:50.103Z",
         "2025-07-16T07:49:54.239Z"
        ],
        [
         "F0027",
         "Delta",
         "Acevedoville",
         "Ericchester",
         "2025-05-14",
         "2025-07-15T16:41:08.917Z",
         86,
         "2025-07-16T07:31:50.103Z",
         "2025-07-16T07:49:54.239Z"
        ],
        [
         "F0028",
         "Delta",
         "South Michaelberg",
         "South Markbury",
         "2025-05-30",
         "2025-07-15T16:41:08.917Z",
         87,
         "2025-07-16T07:31:50.103Z",
         "2025-07-16T07:49:54.239Z"
        ],
        [
         "F0056",
         "Lufthansa",
         "South Natalie",
         "Schaefertown",
         "2025-05-03",
         "2025-07-15T16:41:08.917Z",
         88,
         "2025-07-16T07:31:50.103Z",
         "2025-07-16T07:49:54.239Z"
        ],
        [
         "F0086",
         "Delta",
         "Port Chelsea",
         "Robertchester",
         "2025-05-08",
         "2025-07-15T16:41:08.917Z",
         89,
         "2025-07-16T07:31:50.103Z",
         "2025-07-16T07:49:54.239Z"
        ],
        [
         "F0098",
         "Air Canada",
         "Wallerburgh",
         "Lake Karen",
         "2025-05-01",
         "2025-07-15T16:41:08.917Z",
         90,
         "2025-07-16T07:31:50.103Z",
         "2025-07-16T07:49:54.239Z"
        ],
        [
         "F0008",
         "Lufthansa",
         "Briannachester",
         "Cervantesland",
         "2025-05-26",
         "2025-07-15T16:41:08.917Z",
         91,
         "2025-07-16T07:31:50.103Z",
         "2025-07-16T07:49:54.239Z"
        ],
        [
         "F0009",
         "Delta",
         "Alexandraborough",
         "North Alexishaven",
         "2025-06-10",
         "2025-07-15T16:41:08.917Z",
         92,
         "2025-07-16T07:31:50.103Z",
         "2025-07-16T07:49:54.239Z"
        ],
        [
         "F0011",
         "Lufthansa",
         "Port Joannahaven",
         "North Jasonton",
         "2025-05-30",
         "2025-07-15T16:41:08.917Z",
         93,
         "2025-07-16T07:31:50.103Z",
         "2025-07-16T07:49:54.239Z"
        ],
        [
         "F0025",
         "Qatar Airways",
         "Chelseaberg",
         "North Michaelshire",
         "2025-06-01",
         "2025-07-15T16:41:08.917Z",
         94,
         "2025-07-16T07:31:50.103Z",
         "2025-07-16T07:49:54.239Z"
        ],
        [
         "F0041",
         "Air Canada",
         "Lake Stanleyside",
         "Port Scott",
         "2025-06-14",
         "2025-07-15T16:41:08.917Z",
         95,
         "2025-07-16T07:31:50.103Z",
         "2025-07-16T07:49:54.239Z"
        ],
        [
         "F0054",
         "Air Canada",
         "Seanmouth",
         "North Kathyton",
         "2025-05-09",
         "2025-07-15T16:41:08.917Z",
         96,
         "2025-07-16T07:31:50.103Z",
         "2025-07-16T07:49:54.239Z"
        ],
        [
         "F0065",
         "Emirates",
         "East Paulland",
         "Barnesberg",
         "2025-04-29",
         "2025-07-15T16:41:08.917Z",
         97,
         "2025-07-16T07:31:50.103Z",
         "2025-07-16T07:49:54.239Z"
        ],
        [
         "F0072",
         "Emirates",
         "Heiditown",
         "Port Sabrinaburgh",
         "2025-05-22",
         "2025-07-15T16:41:08.917Z",
         98,
         "2025-07-16T07:31:50.103Z",
         "2025-07-16T07:49:54.239Z"
        ],
        [
         "F0074",
         "Air Canada",
         "Duffyville",
         "Port Vanessa",
         "2025-05-28",
         "2025-07-15T16:41:08.917Z",
         99,
         "2025-07-16T07:31:50.103Z",
         "2025-07-16T07:49:54.239Z"
        ],
        [
         "F0088",
         "Qatar Airways",
         "North Miguel",
         "Lake Allisonfurt",
         "2025-05-28",
         "2025-07-15T16:41:08.917Z",
         100,
         "2025-07-16T07:31:50.103Z",
         "2025-07-16T07:49:54.239Z"
        ],
        [
         "F0107",
         "Air Canada",
         "Mitchelltown",
         "Johnsonbury",
         "2025-07-01",
         "2025-07-15T16:41:08.917Z",
         101,
         "2025-07-16T07:31:50.103Z",
         "2025-07-16T07:49:54.239Z"
        ],
        [
         "F0103",
         "Qatar Airways",
         "Jameschester",
         "Ashleyberg",
         "2025-07-15",
         "2025-07-15T16:41:08.917Z",
         102,
         "2025-07-16T07:31:50.103Z",
         "2025-07-16T07:49:54.239Z"
        ],
        [
         "F0102",
         "Delta",
         "Schroederbury",
         "Sethfort",
         "2025-06-25",
         "2025-07-15T16:41:08.917Z",
         103,
         "2025-07-16T07:31:50.103Z",
         "2025-07-16T07:49:54.239Z"
        ],
        [
         "F0109",
         "Air Canada",
         "Williamsland",
         "South Carolberg",
         "2025-06-14",
         "2025-07-15T16:41:08.917Z",
         104,
         "2025-07-16T07:31:50.103Z",
         "2025-07-16T07:49:54.239Z"
        ],
        [
         "F0108",
         "Lufthansa",
         "New Jennifer",
         "Lake Tracie",
         "2025-06-28",
         "2025-07-15T16:41:08.917Z",
         105,
         "2025-07-16T07:31:50.103Z",
         "2025-07-16T07:49:54.239Z"
        ],
        [
         "F0101",
         "Qatar Airways",
         "Lake Joshuamouth",
         "Johnshire",
         "2025-07-14",
         "2025-07-15T16:41:08.917Z",
         106,
         "2025-07-16T07:31:50.103Z",
         "2025-07-16T07:49:54.239Z"
        ],
        [
         "F0104",
         "Qatar Airways",
         "Huangstad",
         "Catherinehaven",
         "2025-06-29",
         "2025-07-15T16:41:08.917Z",
         107,
         "2025-07-16T07:31:50.103Z",
         "2025-07-16T07:49:54.239Z"
        ],
        [
         "F0105",
         "Air Canada",
         "Aprilton",
         "Victorville",
         "2025-07-05",
         "2025-07-15T16:41:08.917Z",
         108,
         "2025-07-16T07:31:50.103Z",
         "2025-07-16T07:49:54.239Z"
        ],
        [
         "F0106",
         "Lufthansa",
         "East Austinmouth",
         "New Toddburgh",
         "2025-06-22",
         "2025-07-15T16:41:08.917Z",
         109,
         "2025-07-16T07:31:50.103Z",
         "2025-07-16T07:49:54.239Z"
        ],
        [
         "F0110",
         "Emirates",
         "Churchport",
         "Wrightton",
         "2025-07-15",
         "2025-07-15T16:41:08.917Z",
         110,
         "2025-07-16T07:31:50.103Z",
         "2025-07-16T07:49:54.239Z"
        ]
       ],
       "datasetInfos": [
        {
         "name": "_sqldf",
         "schema": {
          "fields": [
           {
            "metadata": {},
            "name": "flight_id",
            "nullable": true,
            "type": "string"
           },
           {
            "metadata": {},
            "name": "airline",
            "nullable": true,
            "type": "string"
           },
           {
            "metadata": {},
            "name": "origin",
            "nullable": true,
            "type": "string"
           },
           {
            "metadata": {},
            "name": "destination",
            "nullable": true,
            "type": "string"
           },
           {
            "metadata": {},
            "name": "flight_date",
            "nullable": true,
            "type": "date"
           },
           {
            "metadata": {},
            "name": "modifiedDate",
            "nullable": true,
            "type": "timestamp"
           },
           {
            "metadata": {},
            "name": "DimFlightsKey",
            "nullable": true,
            "type": "long"
           },
           {
            "metadata": {},
            "name": "create_date",
            "nullable": true,
            "type": "timestamp"
           },
           {
            "metadata": {},
            "name": "update_date",
            "nullable": true,
            "type": "timestamp"
           }
          ],
          "type": "struct"
         },
         "tableIdentifier": null,
         "typeStr": "pyspark.sql.connect.dataframe.DataFrame"
        }
       ],
       "dbfsResultPath": null,
       "isJsonSchema": true,
       "metadata": {
        "createTempViewForImplicitDf": true,
        "dataframeName": "_sqldf",
        "executionCount": 62
       },
       "overflow": false,
       "plotOptions": {
        "customPlotOptions": {},
        "displayType": "table",
        "pivotAggregation": null,
        "pivotColumns": null,
        "xColumns": null,
        "yColumns": null
       },
       "removedWidgets": [],
       "schema": [
        {
         "metadata": "{}",
         "name": "flight_id",
         "type": "\"string\""
        },
        {
         "metadata": "{}",
         "name": "airline",
         "type": "\"string\""
        },
        {
         "metadata": "{}",
         "name": "origin",
         "type": "\"string\""
        },
        {
         "metadata": "{}",
         "name": "destination",
         "type": "\"string\""
        },
        {
         "metadata": "{}",
         "name": "flight_date",
         "type": "\"date\""
        },
        {
         "metadata": "{}",
         "name": "modifiedDate",
         "type": "\"timestamp\""
        },
        {
         "metadata": "{}",
         "name": "DimFlightsKey",
         "type": "\"long\""
        },
        {
         "metadata": "{}",
         "name": "create_date",
         "type": "\"timestamp\""
        },
        {
         "metadata": "{}",
         "name": "update_date",
         "type": "\"timestamp\""
        }
       ],
       "type": "table"
      }
     },
     "output_type": "display_data"
    }
   ],
   "source": [
    "%sql\n",
    "SELECT * FROM workspace.gold.dimflights"
   ]
  },
  {
   "cell_type": "code",
   "execution_count": 0,
   "metadata": {
    "application/vnd.databricks.v1+cell": {
     "cellMetadata": {
      "byteLimit": 2048000,
      "implicitDf": true,
      "rowLimit": 10000
     },
     "inputWidgets": {},
     "nuid": "9fecc09f-14cc-468d-a0b8-7271f90afd0d",
     "showTitle": false,
     "tableResultSettingsMap": {},
     "title": ""
    }
   },
   "outputs": [
    {
     "output_type": "display_data",
     "data": {
      "text/html": [
       "<style scoped>\n",
       "  .table-result-container {\n",
       "    max-height: 300px;\n",
       "    overflow: auto;\n",
       "  }\n",
       "  table, th, td {\n",
       "    border: 1px solid black;\n",
       "    border-collapse: collapse;\n",
       "  }\n",
       "  th, td {\n",
       "    padding: 5px;\n",
       "  }\n",
       "  th {\n",
       "    text-align: left;\n",
       "  }\n",
       "</style><div class='table-result-container'><table class='table-result'><thead style='background-color: white'><tr><th>airport_id</th><th>airport_name</th><th>city</th><th>country</th><th>modifiedDate</th><th>DimAirportsKey</th><th>create_date</th><th>update_date</th></tr></thead><tbody><tr><td>A012</td><td>East Nancy International Airport</td><td>Crosston</td><td>Romania</td><td>2025-07-15T16:41:10.422Z</td><td>1</td><td>2025-07-16T08:03:16.961Z</td><td>2025-07-16T08:03:16.961Z</td></tr><tr><td>A044</td><td>Cordovaview International Airport</td><td>Shannonport</td><td>Gabon</td><td>2025-07-15T16:41:10.422Z</td><td>2</td><td>2025-07-16T08:03:16.961Z</td><td>2025-07-16T08:03:16.961Z</td></tr><tr><td>A047</td><td>New Michaelland International Airport</td><td>Sanchezberg</td><td>Hong Kong</td><td>2025-07-15T16:41:10.422Z</td><td>3</td><td>2025-07-16T08:03:16.961Z</td><td>2025-07-16T08:03:16.961Z</td></tr><tr><td>A050</td><td>Paultown International Airport</td><td>North Richardmouth</td><td>France</td><td>2025-07-15T16:41:10.422Z</td><td>4</td><td>2025-07-16T08:03:16.961Z</td><td>2025-07-16T08:03:16.961Z</td></tr><tr><td>A009</td><td>New Joshuafurt International Airport</td><td>Port Jamiehaven</td><td>Pitcairn Islands</td><td>2025-07-15T16:41:10.422Z</td><td>5</td><td>2025-07-16T08:03:16.961Z</td><td>2025-07-16T08:03:16.961Z</td></tr><tr><td>A023</td><td>Maryfurt International Airport</td><td>Lake Kennethfurt</td><td>Panama</td><td>2025-07-15T16:41:10.422Z</td><td>6</td><td>2025-07-16T08:03:16.961Z</td><td>2025-07-16T08:03:16.961Z</td></tr><tr><td>A043</td><td>Kaylaland International Airport</td><td>Schultzhaven</td><td>Sweden</td><td>2025-07-15T16:41:10.422Z</td><td>7</td><td>2025-07-16T08:03:16.961Z</td><td>2025-07-16T08:03:16.961Z</td></tr><tr><td>A022</td><td>Blankenshipport International Airport</td><td>Sherryville</td><td>Bhutan</td><td>2025-07-15T16:41:10.422Z</td><td>8</td><td>2025-07-16T08:03:16.961Z</td><td>2025-07-16T08:03:16.961Z</td></tr><tr><td>A032</td><td>East Robinmouth International Airport</td><td>Sharonstad</td><td>Poland</td><td>2025-07-15T16:41:10.422Z</td><td>9</td><td>2025-07-16T08:03:16.961Z</td><td>2025-07-16T08:03:16.961Z</td></tr><tr><td>A005</td><td>East Aaron International Airport</td><td>Davishaven</td><td>Monaco</td><td>2025-07-15T16:41:10.422Z</td><td>10</td><td>2025-07-16T08:03:16.961Z</td><td>2025-07-16T08:03:16.961Z</td></tr><tr><td>A014</td><td>Brittanyshire International Airport</td><td>Kylechester</td><td>Mauritius</td><td>2025-07-15T16:41:10.422Z</td><td>11</td><td>2025-07-16T08:03:16.961Z</td><td>2025-07-16T08:03:16.961Z</td></tr><tr><td>A028</td><td>Hamiltonview International Airport</td><td>Isaacland</td><td>Lebanon</td><td>2025-07-15T16:41:10.422Z</td><td>12</td><td>2025-07-16T08:03:16.961Z</td><td>2025-07-16T08:03:16.961Z</td></tr><tr><td>A029</td><td>New Amber International Airport</td><td>Davismouth</td><td>Congo</td><td>2025-07-15T16:41:10.422Z</td><td>13</td><td>2025-07-16T08:03:16.961Z</td><td>2025-07-16T08:03:16.961Z</td></tr><tr><td>A040</td><td>Jillville International Airport</td><td>Wallerchester</td><td>Libyan Arab Jamahiriya</td><td>2025-07-15T16:41:10.422Z</td><td>14</td><td>2025-07-16T08:03:16.961Z</td><td>2025-07-16T08:03:16.961Z</td></tr><tr><td>A003</td><td>Brownland International Airport</td><td>Samuelville</td><td>Costa Rica</td><td>2025-07-15T16:41:10.422Z</td><td>15</td><td>2025-07-16T08:03:16.961Z</td><td>2025-07-16T08:03:16.961Z</td></tr><tr><td>A011</td><td>Alisonville International Airport</td><td>West Annaburgh</td><td>Mexico</td><td>2025-07-15T16:41:10.422Z</td><td>16</td><td>2025-07-16T08:03:16.961Z</td><td>2025-07-16T08:03:16.961Z</td></tr><tr><td>A025</td><td>East Tiffanymouth International Airport</td><td>North Ashley</td><td>Gambia</td><td>2025-07-15T16:41:10.422Z</td><td>17</td><td>2025-07-16T08:03:16.961Z</td><td>2025-07-16T08:03:16.961Z</td></tr><tr><td>A039</td><td>Reneeborough International Airport</td><td>East Amanda</td><td>Germany</td><td>2025-07-15T16:41:10.422Z</td><td>18</td><td>2025-07-16T08:03:16.961Z</td><td>2025-07-16T08:03:16.961Z</td></tr><tr><td>A042</td><td>West Matthew International Airport</td><td>Reedshire</td><td>Lithuania</td><td>2025-07-15T16:41:10.422Z</td><td>19</td><td>2025-07-16T08:03:16.961Z</td><td>2025-07-16T08:03:16.961Z</td></tr><tr><td>A002</td><td>East Kristin International Airport</td><td>North Michaelview</td><td>Bosnia and Herzegovina</td><td>2025-07-15T16:41:10.422Z</td><td>20</td><td>2025-07-16T08:03:16.961Z</td><td>2025-07-16T08:03:16.961Z</td></tr><tr><td>A006</td><td>Michaelburgh International Airport</td><td>East Blake</td><td>Iceland</td><td>2025-07-15T16:41:10.422Z</td><td>21</td><td>2025-07-16T08:03:16.961Z</td><td>2025-07-16T08:03:16.961Z</td></tr><tr><td>A015</td><td>North Erinberg International Airport</td><td>Walshtown</td><td>South Georgia and the South Sandwich Islands</td><td>2025-07-15T16:41:10.422Z</td><td>22</td><td>2025-07-16T08:03:16.961Z</td><td>2025-07-16T08:03:16.961Z</td></tr><tr><td>A026</td><td>New Isaiah International Airport</td><td>Lake Melissaland</td><td>Cote d'Ivoire</td><td>2025-07-15T16:41:10.422Z</td><td>23</td><td>2025-07-16T08:03:16.961Z</td><td>2025-07-16T08:03:16.961Z</td></tr><tr><td>A034</td><td>West Matthew International Airport</td><td>Wigginsmouth</td><td>Czech Republic</td><td>2025-07-15T16:41:10.422Z</td><td>24</td><td>2025-07-16T08:03:16.961Z</td><td>2025-07-16T08:03:16.961Z</td></tr><tr><td>A013</td><td>West Christianstad International Airport</td><td>North Janetton</td><td>Qatar</td><td>2025-07-15T16:41:10.422Z</td><td>25</td><td>2025-07-16T08:03:16.961Z</td><td>2025-07-16T08:03:16.961Z</td></tr><tr><td>A004</td><td>Meghanton International Airport</td><td>Andrewsmouth</td><td>Macedonia</td><td>2025-07-15T16:41:10.422Z</td><td>26</td><td>2025-07-16T08:03:16.961Z</td><td>2025-07-16T08:03:16.961Z</td></tr><tr><td>A041</td><td>Lake Amber International Airport</td><td>Brownstad</td><td>Algeria</td><td>2025-07-15T16:41:10.422Z</td><td>27</td><td>2025-07-16T08:03:16.961Z</td><td>2025-07-16T08:03:16.961Z</td></tr><tr><td>A048</td><td>Sarahmouth International Airport</td><td>Edwardmouth</td><td>Malaysia</td><td>2025-07-15T16:41:10.422Z</td><td>28</td><td>2025-07-16T08:03:16.961Z</td><td>2025-07-16T08:03:16.961Z</td></tr><tr><td>A001</td><td>Gregoryland International Airport</td><td>Kristenmouth</td><td>South Georgia and the South Sandwich Islands</td><td>2025-07-15T16:41:10.422Z</td><td>29</td><td>2025-07-16T08:03:16.961Z</td><td>2025-07-16T08:03:16.961Z</td></tr><tr><td>A007</td><td>West Jennifer International Airport</td><td>Jillianstad</td><td>Libyan Arab Jamahiriya</td><td>2025-07-15T16:41:10.422Z</td><td>30</td><td>2025-07-16T08:03:16.961Z</td><td>2025-07-16T08:03:16.961Z</td></tr><tr><td>A010</td><td>Thompsontown International Airport</td><td>Murraychester</td><td>Ireland</td><td>2025-07-15T16:41:10.422Z</td><td>31</td><td>2025-07-16T08:03:16.961Z</td><td>2025-07-16T08:03:16.961Z</td></tr><tr><td>A037</td><td>Francobury International Airport</td><td>Foleyland</td><td>Denmark</td><td>2025-07-15T16:41:10.422Z</td><td>32</td><td>2025-07-16T08:03:16.961Z</td><td>2025-07-16T08:03:16.961Z</td></tr><tr><td>A016</td><td>Davidhaven International Airport</td><td>South Michael</td><td>Holy See (Vatican City State)</td><td>2025-07-15T16:41:10.422Z</td><td>33</td><td>2025-07-16T08:03:16.961Z</td><td>2025-07-16T08:03:16.961Z</td></tr><tr><td>A017</td><td>West Melissaborough International Airport</td><td>North Robertburgh</td><td>Switzerland</td><td>2025-07-15T16:41:10.422Z</td><td>34</td><td>2025-07-16T08:03:16.961Z</td><td>2025-07-16T08:03:16.961Z</td></tr><tr><td>A018</td><td>Lake Mandyport International Airport</td><td>Englishfort</td><td>Russian Federation</td><td>2025-07-15T16:41:10.422Z</td><td>35</td><td>2025-07-16T08:03:16.961Z</td><td>2025-07-16T08:03:16.961Z</td></tr><tr><td>A020</td><td>Port Lori International Airport</td><td>Nicholaston</td><td>Martinique</td><td>2025-07-15T16:41:10.422Z</td><td>36</td><td>2025-07-16T08:03:16.961Z</td><td>2025-07-16T08:03:16.961Z</td></tr><tr><td>A035</td><td>Chavezchester International Airport</td><td>Port Meganhaven</td><td>Niger</td><td>2025-07-15T16:41:10.422Z</td><td>37</td><td>2025-07-16T08:03:16.961Z</td><td>2025-07-16T08:03:16.961Z</td></tr><tr><td>A033</td><td>Perezbury International Airport</td><td>West Maryville</td><td>Korea</td><td>2025-07-15T16:41:10.422Z</td><td>38</td><td>2025-07-16T08:03:16.961Z</td><td>2025-07-16T08:03:16.961Z</td></tr><tr><td>A045</td><td>Stoneport International Airport</td><td>New Joseph</td><td>Georgia</td><td>2025-07-15T16:41:10.422Z</td><td>39</td><td>2025-07-16T08:03:16.961Z</td><td>2025-07-16T08:03:16.961Z</td></tr><tr><td>A008</td><td>Port Craig International Airport</td><td>New Lisa</td><td>French Southern Territories</td><td>2025-07-15T16:41:10.422Z</td><td>40</td><td>2025-07-16T08:03:16.961Z</td><td>2025-07-16T08:03:16.961Z</td></tr><tr><td>A021</td><td>Phillipsburgh International Airport</td><td>West Ritaland</td><td>Colombia</td><td>2025-07-15T16:41:10.422Z</td><td>41</td><td>2025-07-16T08:03:16.961Z</td><td>2025-07-16T08:03:16.961Z</td></tr><tr><td>A027</td><td>West Patricia International Airport</td><td>Wilsonmouth</td><td>Djibouti</td><td>2025-07-15T16:41:10.422Z</td><td>42</td><td>2025-07-16T08:03:16.961Z</td><td>2025-07-16T08:03:16.961Z</td></tr><tr><td>A049</td><td>North Heather International Airport</td><td>West Andrewview</td><td>Netherlands Antilles</td><td>2025-07-15T16:41:10.422Z</td><td>43</td><td>2025-07-16T08:03:16.961Z</td><td>2025-07-16T08:03:16.961Z</td></tr><tr><td>A019</td><td>East Gregtown International Airport</td><td>Downsborough</td><td>Kazakhstan</td><td>2025-07-15T16:41:10.422Z</td><td>44</td><td>2025-07-16T08:03:16.961Z</td><td>2025-07-16T08:03:16.961Z</td></tr><tr><td>A031</td><td>East Paulahaven International Airport</td><td>New Charlesberg</td><td>Thailand</td><td>2025-07-15T16:41:10.422Z</td><td>45</td><td>2025-07-16T08:03:16.961Z</td><td>2025-07-16T08:03:16.961Z</td></tr><tr><td>A036</td><td>Teresaberg International Airport</td><td>Taylorshire</td><td>Cayman Islands</td><td>2025-07-15T16:41:10.422Z</td><td>46</td><td>2025-07-16T08:03:16.961Z</td><td>2025-07-16T08:03:16.961Z</td></tr><tr><td>A038</td><td>South Caroline International Airport</td><td>Sarahchester</td><td>New Zealand</td><td>2025-07-15T16:41:10.422Z</td><td>47</td><td>2025-07-16T08:03:16.961Z</td><td>2025-07-16T08:03:16.961Z</td></tr><tr><td>A024</td><td>West Barbara International Airport</td><td>Sherribury</td><td>Tokelau</td><td>2025-07-15T16:41:10.422Z</td><td>48</td><td>2025-07-16T08:03:16.961Z</td><td>2025-07-16T08:03:16.961Z</td></tr><tr><td>A030</td><td>Leeport International Airport</td><td>Lake Gary</td><td>Armenia</td><td>2025-07-15T16:41:10.422Z</td><td>49</td><td>2025-07-16T08:03:16.961Z</td><td>2025-07-16T08:03:16.961Z</td></tr><tr><td>A046</td><td>Janetview International Airport</td><td>West Steventon</td><td>Bahamas</td><td>2025-07-15T16:41:10.422Z</td><td>50</td><td>2025-07-16T08:03:16.961Z</td><td>2025-07-16T08:03:16.961Z</td></tr><tr><td>A052</td><td>East Cynthia International Airport</td><td>Gibbsfurt</td><td>Ecuador</td><td>2025-07-15T16:41:10.422Z</td><td>51</td><td>2025-07-16T08:03:16.961Z</td><td>2025-07-16T08:03:16.961Z</td></tr><tr><td>A051</td><td>Amandaport International Airport</td><td>Jamestown</td><td>Micronesia</td><td>2025-07-15T16:41:10.422Z</td><td>52</td><td>2025-07-16T08:03:16.961Z</td><td>2025-07-16T08:03:16.961Z</td></tr><tr><td>A054</td><td>Jonestown International Airport</td><td>Garciaview</td><td>Colombia</td><td>2025-07-15T16:41:10.422Z</td><td>53</td><td>2025-07-16T08:03:16.961Z</td><td>2025-07-16T08:03:16.961Z</td></tr><tr><td>A055</td><td>Port Jamieport International Airport</td><td>Sarahstad</td><td>Netherlands</td><td>2025-07-15T16:41:10.422Z</td><td>54</td><td>2025-07-16T08:03:16.961Z</td><td>2025-07-16T08:03:16.961Z</td></tr><tr><td>A053</td><td>South Corey International Airport</td><td>Johnsonfort</td><td>Switzerland</td><td>2025-07-15T16:41:10.422Z</td><td>55</td><td>2025-07-16T08:03:16.961Z</td><td>2025-07-16T08:03:16.961Z</td></tr></tbody></table></div>"
      ]
     },
     "metadata": {
      "application/vnd.databricks.v1+output": {
       "addedWidgets": {},
       "aggData": [],
       "aggError": "",
       "aggOverflow": false,
       "aggSchema": [],
       "aggSeriesLimitReached": false,
       "aggType": "",
       "arguments": {},
       "columnCustomDisplayInfos": {},
       "data": [
        [
         "A012",
         "East Nancy International Airport",
         "Crosston",
         "Romania",
         "2025-07-15T16:41:10.422Z",
         1,
         "2025-07-16T08:03:16.961Z",
         "2025-07-16T08:03:16.961Z"
        ],
        [
         "A044",
         "Cordovaview International Airport",
         "Shannonport",
         "Gabon",
         "2025-07-15T16:41:10.422Z",
         2,
         "2025-07-16T08:03:16.961Z",
         "2025-07-16T08:03:16.961Z"
        ],
        [
         "A047",
         "New Michaelland International Airport",
         "Sanchezberg",
         "Hong Kong",
         "2025-07-15T16:41:10.422Z",
         3,
         "2025-07-16T08:03:16.961Z",
         "2025-07-16T08:03:16.961Z"
        ],
        [
         "A050",
         "Paultown International Airport",
         "North Richardmouth",
         "France",
         "2025-07-15T16:41:10.422Z",
         4,
         "2025-07-16T08:03:16.961Z",
         "2025-07-16T08:03:16.961Z"
        ],
        [
         "A009",
         "New Joshuafurt International Airport",
         "Port Jamiehaven",
         "Pitcairn Islands",
         "2025-07-15T16:41:10.422Z",
         5,
         "2025-07-16T08:03:16.961Z",
         "2025-07-16T08:03:16.961Z"
        ],
        [
         "A023",
         "Maryfurt International Airport",
         "Lake Kennethfurt",
         "Panama",
         "2025-07-15T16:41:10.422Z",
         6,
         "2025-07-16T08:03:16.961Z",
         "2025-07-16T08:03:16.961Z"
        ],
        [
         "A043",
         "Kaylaland International Airport",
         "Schultzhaven",
         "Sweden",
         "2025-07-15T16:41:10.422Z",
         7,
         "2025-07-16T08:03:16.961Z",
         "2025-07-16T08:03:16.961Z"
        ],
        [
         "A022",
         "Blankenshipport International Airport",
         "Sherryville",
         "Bhutan",
         "2025-07-15T16:41:10.422Z",
         8,
         "2025-07-16T08:03:16.961Z",
         "2025-07-16T08:03:16.961Z"
        ],
        [
         "A032",
         "East Robinmouth International Airport",
         "Sharonstad",
         "Poland",
         "2025-07-15T16:41:10.422Z",
         9,
         "2025-07-16T08:03:16.961Z",
         "2025-07-16T08:03:16.961Z"
        ],
        [
         "A005",
         "East Aaron International Airport",
         "Davishaven",
         "Monaco",
         "2025-07-15T16:41:10.422Z",
         10,
         "2025-07-16T08:03:16.961Z",
         "2025-07-16T08:03:16.961Z"
        ],
        [
         "A014",
         "Brittanyshire International Airport",
         "Kylechester",
         "Mauritius",
         "2025-07-15T16:41:10.422Z",
         11,
         "2025-07-16T08:03:16.961Z",
         "2025-07-16T08:03:16.961Z"
        ],
        [
         "A028",
         "Hamiltonview International Airport",
         "Isaacland",
         "Lebanon",
         "2025-07-15T16:41:10.422Z",
         12,
         "2025-07-16T08:03:16.961Z",
         "2025-07-16T08:03:16.961Z"
        ],
        [
         "A029",
         "New Amber International Airport",
         "Davismouth",
         "Congo",
         "2025-07-15T16:41:10.422Z",
         13,
         "2025-07-16T08:03:16.961Z",
         "2025-07-16T08:03:16.961Z"
        ],
        [
         "A040",
         "Jillville International Airport",
         "Wallerchester",
         "Libyan Arab Jamahiriya",
         "2025-07-15T16:41:10.422Z",
         14,
         "2025-07-16T08:03:16.961Z",
         "2025-07-16T08:03:16.961Z"
        ],
        [
         "A003",
         "Brownland International Airport",
         "Samuelville",
         "Costa Rica",
         "2025-07-15T16:41:10.422Z",
         15,
         "2025-07-16T08:03:16.961Z",
         "2025-07-16T08:03:16.961Z"
        ],
        [
         "A011",
         "Alisonville International Airport",
         "West Annaburgh",
         "Mexico",
         "2025-07-15T16:41:10.422Z",
         16,
         "2025-07-16T08:03:16.961Z",
         "2025-07-16T08:03:16.961Z"
        ],
        [
         "A025",
         "East Tiffanymouth International Airport",
         "North Ashley",
         "Gambia",
         "2025-07-15T16:41:10.422Z",
         17,
         "2025-07-16T08:03:16.961Z",
         "2025-07-16T08:03:16.961Z"
        ],
        [
         "A039",
         "Reneeborough International Airport",
         "East Amanda",
         "Germany",
         "2025-07-15T16:41:10.422Z",
         18,
         "2025-07-16T08:03:16.961Z",
         "2025-07-16T08:03:16.961Z"
        ],
        [
         "A042",
         "West Matthew International Airport",
         "Reedshire",
         "Lithuania",
         "2025-07-15T16:41:10.422Z",
         19,
         "2025-07-16T08:03:16.961Z",
         "2025-07-16T08:03:16.961Z"
        ],
        [
         "A002",
         "East Kristin International Airport",
         "North Michaelview",
         "Bosnia and Herzegovina",
         "2025-07-15T16:41:10.422Z",
         20,
         "2025-07-16T08:03:16.961Z",
         "2025-07-16T08:03:16.961Z"
        ],
        [
         "A006",
         "Michaelburgh International Airport",
         "East Blake",
         "Iceland",
         "2025-07-15T16:41:10.422Z",
         21,
         "2025-07-16T08:03:16.961Z",
         "2025-07-16T08:03:16.961Z"
        ],
        [
         "A015",
         "North Erinberg International Airport",
         "Walshtown",
         "South Georgia and the South Sandwich Islands",
         "2025-07-15T16:41:10.422Z",
         22,
         "2025-07-16T08:03:16.961Z",
         "2025-07-16T08:03:16.961Z"
        ],
        [
         "A026",
         "New Isaiah International Airport",
         "Lake Melissaland",
         "Cote d'Ivoire",
         "2025-07-15T16:41:10.422Z",
         23,
         "2025-07-16T08:03:16.961Z",
         "2025-07-16T08:03:16.961Z"
        ],
        [
         "A034",
         "West Matthew International Airport",
         "Wigginsmouth",
         "Czech Republic",
         "2025-07-15T16:41:10.422Z",
         24,
         "2025-07-16T08:03:16.961Z",
         "2025-07-16T08:03:16.961Z"
        ],
        [
         "A013",
         "West Christianstad International Airport",
         "North Janetton",
         "Qatar",
         "2025-07-15T16:41:10.422Z",
         25,
         "2025-07-16T08:03:16.961Z",
         "2025-07-16T08:03:16.961Z"
        ],
        [
         "A004",
         "Meghanton International Airport",
         "Andrewsmouth",
         "Macedonia",
         "2025-07-15T16:41:10.422Z",
         26,
         "2025-07-16T08:03:16.961Z",
         "2025-07-16T08:03:16.961Z"
        ],
        [
         "A041",
         "Lake Amber International Airport",
         "Brownstad",
         "Algeria",
         "2025-07-15T16:41:10.422Z",
         27,
         "2025-07-16T08:03:16.961Z",
         "2025-07-16T08:03:16.961Z"
        ],
        [
         "A048",
         "Sarahmouth International Airport",
         "Edwardmouth",
         "Malaysia",
         "2025-07-15T16:41:10.422Z",
         28,
         "2025-07-16T08:03:16.961Z",
         "2025-07-16T08:03:16.961Z"
        ],
        [
         "A001",
         "Gregoryland International Airport",
         "Kristenmouth",
         "South Georgia and the South Sandwich Islands",
         "2025-07-15T16:41:10.422Z",
         29,
         "2025-07-16T08:03:16.961Z",
         "2025-07-16T08:03:16.961Z"
        ],
        [
         "A007",
         "West Jennifer International Airport",
         "Jillianstad",
         "Libyan Arab Jamahiriya",
         "2025-07-15T16:41:10.422Z",
         30,
         "2025-07-16T08:03:16.961Z",
         "2025-07-16T08:03:16.961Z"
        ],
        [
         "A010",
         "Thompsontown International Airport",
         "Murraychester",
         "Ireland",
         "2025-07-15T16:41:10.422Z",
         31,
         "2025-07-16T08:03:16.961Z",
         "2025-07-16T08:03:16.961Z"
        ],
        [
         "A037",
         "Francobury International Airport",
         "Foleyland",
         "Denmark",
         "2025-07-15T16:41:10.422Z",
         32,
         "2025-07-16T08:03:16.961Z",
         "2025-07-16T08:03:16.961Z"
        ],
        [
         "A016",
         "Davidhaven International Airport",
         "South Michael",
         "Holy See (Vatican City State)",
         "2025-07-15T16:41:10.422Z",
         33,
         "2025-07-16T08:03:16.961Z",
         "2025-07-16T08:03:16.961Z"
        ],
        [
         "A017",
         "West Melissaborough International Airport",
         "North Robertburgh",
         "Switzerland",
         "2025-07-15T16:41:10.422Z",
         34,
         "2025-07-16T08:03:16.961Z",
         "2025-07-16T08:03:16.961Z"
        ],
        [
         "A018",
         "Lake Mandyport International Airport",
         "Englishfort",
         "Russian Federation",
         "2025-07-15T16:41:10.422Z",
         35,
         "2025-07-16T08:03:16.961Z",
         "2025-07-16T08:03:16.961Z"
        ],
        [
         "A020",
         "Port Lori International Airport",
         "Nicholaston",
         "Martinique",
         "2025-07-15T16:41:10.422Z",
         36,
         "2025-07-16T08:03:16.961Z",
         "2025-07-16T08:03:16.961Z"
        ],
        [
         "A035",
         "Chavezchester International Airport",
         "Port Meganhaven",
         "Niger",
         "2025-07-15T16:41:10.422Z",
         37,
         "2025-07-16T08:03:16.961Z",
         "2025-07-16T08:03:16.961Z"
        ],
        [
         "A033",
         "Perezbury International Airport",
         "West Maryville",
         "Korea",
         "2025-07-15T16:41:10.422Z",
         38,
         "2025-07-16T08:03:16.961Z",
         "2025-07-16T08:03:16.961Z"
        ],
        [
         "A045",
         "Stoneport International Airport",
         "New Joseph",
         "Georgia",
         "2025-07-15T16:41:10.422Z",
         39,
         "2025-07-16T08:03:16.961Z",
         "2025-07-16T08:03:16.961Z"
        ],
        [
         "A008",
         "Port Craig International Airport",
         "New Lisa",
         "French Southern Territories",
         "2025-07-15T16:41:10.422Z",
         40,
         "2025-07-16T08:03:16.961Z",
         "2025-07-16T08:03:16.961Z"
        ],
        [
         "A021",
         "Phillipsburgh International Airport",
         "West Ritaland",
         "Colombia",
         "2025-07-15T16:41:10.422Z",
         41,
         "2025-07-16T08:03:16.961Z",
         "2025-07-16T08:03:16.961Z"
        ],
        [
         "A027",
         "West Patricia International Airport",
         "Wilsonmouth",
         "Djibouti",
         "2025-07-15T16:41:10.422Z",
         42,
         "2025-07-16T08:03:16.961Z",
         "2025-07-16T08:03:16.961Z"
        ],
        [
         "A049",
         "North Heather International Airport",
         "West Andrewview",
         "Netherlands Antilles",
         "2025-07-15T16:41:10.422Z",
         43,
         "2025-07-16T08:03:16.961Z",
         "2025-07-16T08:03:16.961Z"
        ],
        [
         "A019",
         "East Gregtown International Airport",
         "Downsborough",
         "Kazakhstan",
         "2025-07-15T16:41:10.422Z",
         44,
         "2025-07-16T08:03:16.961Z",
         "2025-07-16T08:03:16.961Z"
        ],
        [
         "A031",
         "East Paulahaven International Airport",
         "New Charlesberg",
         "Thailand",
         "2025-07-15T16:41:10.422Z",
         45,
         "2025-07-16T08:03:16.961Z",
         "2025-07-16T08:03:16.961Z"
        ],
        [
         "A036",
         "Teresaberg International Airport",
         "Taylorshire",
         "Cayman Islands",
         "2025-07-15T16:41:10.422Z",
         46,
         "2025-07-16T08:03:16.961Z",
         "2025-07-16T08:03:16.961Z"
        ],
        [
         "A038",
         "South Caroline International Airport",
         "Sarahchester",
         "New Zealand",
         "2025-07-15T16:41:10.422Z",
         47,
         "2025-07-16T08:03:16.961Z",
         "2025-07-16T08:03:16.961Z"
        ],
        [
         "A024",
         "West Barbara International Airport",
         "Sherribury",
         "Tokelau",
         "2025-07-15T16:41:10.422Z",
         48,
         "2025-07-16T08:03:16.961Z",
         "2025-07-16T08:03:16.961Z"
        ],
        [
         "A030",
         "Leeport International Airport",
         "Lake Gary",
         "Armenia",
         "2025-07-15T16:41:10.422Z",
         49,
         "2025-07-16T08:03:16.961Z",
         "2025-07-16T08:03:16.961Z"
        ],
        [
         "A046",
         "Janetview International Airport",
         "West Steventon",
         "Bahamas",
         "2025-07-15T16:41:10.422Z",
         50,
         "2025-07-16T08:03:16.961Z",
         "2025-07-16T08:03:16.961Z"
        ],
        [
         "A052",
         "East Cynthia International Airport",
         "Gibbsfurt",
         "Ecuador",
         "2025-07-15T16:41:10.422Z",
         51,
         "2025-07-16T08:03:16.961Z",
         "2025-07-16T08:03:16.961Z"
        ],
        [
         "A051",
         "Amandaport International Airport",
         "Jamestown",
         "Micronesia",
         "2025-07-15T16:41:10.422Z",
         52,
         "2025-07-16T08:03:16.961Z",
         "2025-07-16T08:03:16.961Z"
        ],
        [
         "A054",
         "Jonestown International Airport",
         "Garciaview",
         "Colombia",
         "2025-07-15T16:41:10.422Z",
         53,
         "2025-07-16T08:03:16.961Z",
         "2025-07-16T08:03:16.961Z"
        ],
        [
         "A055",
         "Port Jamieport International Airport",
         "Sarahstad",
         "Netherlands",
         "2025-07-15T16:41:10.422Z",
         54,
         "2025-07-16T08:03:16.961Z",
         "2025-07-16T08:03:16.961Z"
        ],
        [
         "A053",
         "South Corey International Airport",
         "Johnsonfort",
         "Switzerland",
         "2025-07-15T16:41:10.422Z",
         55,
         "2025-07-16T08:03:16.961Z",
         "2025-07-16T08:03:16.961Z"
        ]
       ],
       "datasetInfos": [
        {
         "name": "_sqldf",
         "schema": {
          "fields": [
           {
            "metadata": {},
            "name": "airport_id",
            "nullable": true,
            "type": "string"
           },
           {
            "metadata": {},
            "name": "airport_name",
            "nullable": true,
            "type": "string"
           },
           {
            "metadata": {},
            "name": "city",
            "nullable": true,
            "type": "string"
           },
           {
            "metadata": {},
            "name": "country",
            "nullable": true,
            "type": "string"
           },
           {
            "metadata": {},
            "name": "modifiedDate",
            "nullable": true,
            "type": "timestamp"
           },
           {
            "metadata": {},
            "name": "DimAirportsKey",
            "nullable": true,
            "type": "long"
           },
           {
            "metadata": {},
            "name": "create_date",
            "nullable": true,
            "type": "timestamp"
           },
           {
            "metadata": {},
            "name": "update_date",
            "nullable": true,
            "type": "timestamp"
           }
          ],
          "type": "struct"
         },
         "tableIdentifier": null,
         "typeStr": "pyspark.sql.connect.dataframe.DataFrame"
        }
       ],
       "dbfsResultPath": null,
       "isJsonSchema": true,
       "metadata": {
        "createTempViewForImplicitDf": true,
        "dataframeName": "_sqldf",
        "executionCount": 63
       },
       "overflow": false,
       "plotOptions": {
        "customPlotOptions": {},
        "displayType": "table",
        "pivotAggregation": null,
        "pivotColumns": null,
        "xColumns": null,
        "yColumns": null
       },
       "removedWidgets": [],
       "schema": [
        {
         "metadata": "{}",
         "name": "airport_id",
         "type": "\"string\""
        },
        {
         "metadata": "{}",
         "name": "airport_name",
         "type": "\"string\""
        },
        {
         "metadata": "{}",
         "name": "city",
         "type": "\"string\""
        },
        {
         "metadata": "{}",
         "name": "country",
         "type": "\"string\""
        },
        {
         "metadata": "{}",
         "name": "modifiedDate",
         "type": "\"timestamp\""
        },
        {
         "metadata": "{}",
         "name": "DimAirportsKey",
         "type": "\"long\""
        },
        {
         "metadata": "{}",
         "name": "create_date",
         "type": "\"timestamp\""
        },
        {
         "metadata": "{}",
         "name": "update_date",
         "type": "\"timestamp\""
        }
       ],
       "type": "table"
      }
     },
     "output_type": "display_data"
    }
   ],
   "source": [
    "%sql\n",
    "SELECT * FROM workspace.gold.dimairports"
   ]
  },
  {
   "cell_type": "code",
   "execution_count": 0,
   "metadata": {
    "application/vnd.databricks.v1+cell": {
     "cellMetadata": {
      "byteLimit": 2048000,
      "implicitDf": true,
      "rowLimit": 10000
     },
     "inputWidgets": {},
     "nuid": "a24fe044-8442-4b66-b42e-4b261783be33",
     "showTitle": false,
     "tableResultSettingsMap": {},
     "title": ""
    }
   },
   "outputs": [
    {
     "output_type": "display_data",
     "data": {
      "text/html": [
       "<style scoped>\n",
       "  .table-result-container {\n",
       "    max-height: 300px;\n",
       "    overflow: auto;\n",
       "  }\n",
       "  table, th, td {\n",
       "    border: 1px solid black;\n",
       "    border-collapse: collapse;\n",
       "  }\n",
       "  th, td {\n",
       "    padding: 5px;\n",
       "  }\n",
       "  th {\n",
       "    text-align: left;\n",
       "  }\n",
       "</style><div class='table-result-container'><table class='table-result'><thead style='background-color: white'><tr><th>passenger_id</th><th>name</th><th>gender</th><th>nationality</th><th>modifiedDate</th><th>DimPassengersKey</th><th>create_date</th><th>update_date</th></tr></thead><tbody><tr><td>P0002</td><td>Kathleen Martinez DVM</td><td>Female</td><td>Burkina Faso</td><td>2025-07-15T16:41:07.773Z</td><td>1</td><td>2025-07-16T08:07:11.208Z</td><td>2025-07-16T08:07:11.208Z</td></tr><tr><td>P0004</td><td>Ryan Ramsey</td><td>Male</td><td>Niger</td><td>2025-07-15T16:41:07.773Z</td><td>2</td><td>2025-07-16T08:07:11.208Z</td><td>2025-07-16T08:07:11.208Z</td></tr><tr><td>P0007</td><td>Sharon Moon</td><td>Male</td><td>Madagascar</td><td>2025-07-15T16:41:07.773Z</td><td>3</td><td>2025-07-16T08:07:11.208Z</td><td>2025-07-16T08:07:11.208Z</td></tr><tr><td>P0014</td><td>Rebecca Sampson</td><td>Male</td><td>Suriname</td><td>2025-07-15T16:41:07.773Z</td><td>4</td><td>2025-07-16T08:07:11.208Z</td><td>2025-07-16T08:07:11.208Z</td></tr><tr><td>P0023</td><td>Wendy Jones</td><td>Female</td><td>Haiti</td><td>2025-07-15T16:41:07.773Z</td><td>5</td><td>2025-07-16T08:07:11.208Z</td><td>2025-07-16T08:07:11.208Z</td></tr><tr><td>P0033</td><td>Sandra Green</td><td>Male</td><td>Switzerland</td><td>2025-07-15T16:41:07.773Z</td><td>6</td><td>2025-07-16T08:07:11.208Z</td><td>2025-07-16T08:07:11.208Z</td></tr><tr><td>P0080</td><td>Brandon Lynch</td><td>Female</td><td>Eritrea</td><td>2025-07-15T16:41:07.773Z</td><td>8</td><td>2025-07-16T08:07:11.208Z</td><td>2025-07-16T08:07:11.208Z</td></tr><tr><td>P0120</td><td>Tiffany Williams</td><td>Female</td><td>New Caledonia</td><td>2025-07-15T16:41:07.773Z</td><td>9</td><td>2025-07-16T08:07:11.208Z</td><td>2025-07-16T08:07:11.208Z</td></tr><tr><td>P0134</td><td>Phyllis Lewis</td><td>Female</td><td>Northern Mariana Islands</td><td>2025-07-15T16:41:07.773Z</td><td>10</td><td>2025-07-16T08:07:11.208Z</td><td>2025-07-16T08:07:11.208Z</td></tr><tr><td>P0151</td><td>Katherine Young</td><td>Male</td><td>Nigeria</td><td>2025-07-15T16:41:07.773Z</td><td>11</td><td>2025-07-16T08:07:11.208Z</td><td>2025-07-16T08:07:11.208Z</td></tr><tr><td>P0186</td><td>Kathryn Foster</td><td>Male</td><td>Bahrain</td><td>2025-07-15T16:41:07.773Z</td><td>12</td><td>2025-07-16T08:07:11.208Z</td><td>2025-07-16T08:07:11.208Z</td></tr><tr><td>P0192</td><td>Dr. Chris Dean</td><td>Female</td><td>Seychelles</td><td>2025-07-15T16:41:07.773Z</td><td>13</td><td>2025-07-16T08:07:11.208Z</td><td>2025-07-16T08:07:11.208Z</td></tr><tr><td>P0022</td><td>Edward Rice</td><td>Female</td><td>Antigua and Barbuda</td><td>2025-07-15T16:41:07.773Z</td><td>14</td><td>2025-07-16T08:07:11.208Z</td><td>2025-07-16T08:07:11.208Z</td></tr><tr><td>P0041</td><td>Amanda Hughes</td><td>Male</td><td>Kenya</td><td>2025-07-15T16:41:07.773Z</td><td>15</td><td>2025-07-16T08:07:11.208Z</td><td>2025-07-16T08:07:11.208Z</td></tr><tr><td>P0051</td><td>Brett Rios</td><td>Female</td><td>Guyana</td><td>2025-07-15T16:41:07.773Z</td><td>16</td><td>2025-07-16T08:07:11.208Z</td><td>2025-07-16T08:07:11.208Z</td></tr><tr><td>P0057</td><td>Alexandra Sanders</td><td>Female</td><td>Australia</td><td>2025-07-15T16:41:07.773Z</td><td>17</td><td>2025-07-16T08:07:11.208Z</td><td>2025-07-16T08:07:11.208Z</td></tr><tr><td>P0097</td><td>Kristen Bailey</td><td>Male</td><td>Bermuda</td><td>2025-07-15T16:41:07.773Z</td><td>18</td><td>2025-07-16T08:07:11.208Z</td><td>2025-07-16T08:07:11.208Z</td></tr><tr><td>P0114</td><td>Charles Stanley</td><td>Female</td><td>Tonga</td><td>2025-07-15T16:41:07.773Z</td><td>19</td><td>2025-07-16T08:07:11.208Z</td><td>2025-07-16T08:07:11.208Z</td></tr><tr><td>P0123</td><td>Stephanie Rush</td><td>Female</td><td>Belgium</td><td>2025-07-15T16:41:07.773Z</td><td>20</td><td>2025-07-16T08:07:11.208Z</td><td>2025-07-16T08:07:11.208Z</td></tr><tr><td>P0130</td><td>Gregory Alexander</td><td>Female</td><td>Slovakia (Slovak Republic)</td><td>2025-07-15T16:41:07.773Z</td><td>21</td><td>2025-07-16T08:07:11.208Z</td><td>2025-07-16T08:07:11.208Z</td></tr><tr><td>P0135</td><td>David Hamilton</td><td>Female</td><td>Sri Lanka</td><td>2025-07-15T16:41:07.773Z</td><td>22</td><td>2025-07-16T08:07:11.208Z</td><td>2025-07-16T08:07:11.208Z</td></tr><tr><td>P0138</td><td>Christopher Wilkinson</td><td>Male</td><td>Canada</td><td>2025-07-15T16:41:07.773Z</td><td>23</td><td>2025-07-16T08:07:11.208Z</td><td>2025-07-16T08:07:11.208Z</td></tr><tr><td>P0142</td><td>Dr. Nancy Jacobs PhD</td><td>Male</td><td>Belgium</td><td>2025-07-15T16:41:07.773Z</td><td>24</td><td>2025-07-16T08:07:11.208Z</td><td>2025-07-16T08:07:11.208Z</td></tr><tr><td>P0146</td><td>Phillip Myers</td><td>Female</td><td>Slovenia</td><td>2025-07-15T16:41:07.773Z</td><td>25</td><td>2025-07-16T08:07:11.208Z</td><td>2025-07-16T08:07:11.208Z</td></tr><tr><td>P0148</td><td>James Camacho</td><td>Male</td><td>Switzerland</td><td>2025-07-15T16:41:07.773Z</td><td>26</td><td>2025-07-16T08:07:11.208Z</td><td>2025-07-16T08:07:11.208Z</td></tr><tr><td>P0159</td><td>Nicholas Williams</td><td>Male</td><td>Austria</td><td>2025-07-15T16:41:07.773Z</td><td>27</td><td>2025-07-16T08:07:11.208Z</td><td>2025-07-16T08:07:11.208Z</td></tr><tr><td>P0171</td><td>Brittany Smith</td><td>Female</td><td>Australia</td><td>2025-07-15T16:41:07.773Z</td><td>28</td><td>2025-07-16T08:07:11.208Z</td><td>2025-07-16T08:07:11.208Z</td></tr><tr><td>P0195</td><td>Lisa Bautista</td><td>Male</td><td>Honduras</td><td>2025-07-15T16:41:07.773Z</td><td>29</td><td>2025-07-16T08:07:11.208Z</td><td>2025-07-16T08:07:11.208Z</td></tr><tr><td>P0005</td><td>Mike Kim</td><td>Male</td><td>Taiwan</td><td>2025-07-15T16:41:07.773Z</td><td>30</td><td>2025-07-16T08:07:11.208Z</td><td>2025-07-16T08:07:11.208Z</td></tr><tr><td>P0040</td><td>Troy Green</td><td>Female</td><td>Macao</td><td>2025-07-15T16:41:07.773Z</td><td>31</td><td>2025-07-16T08:07:11.208Z</td><td>2025-07-16T08:07:11.208Z</td></tr><tr><td>P0077</td><td>Audrey Rodriguez</td><td>Female</td><td>Saint Barthelemy</td><td>2025-07-15T16:41:07.773Z</td><td>32</td><td>2025-07-16T08:07:11.208Z</td><td>2025-07-16T08:07:11.208Z</td></tr><tr><td>P0083</td><td>Natalie Jones</td><td>Male</td><td>Faroe Islands</td><td>2025-07-15T16:41:07.773Z</td><td>33</td><td>2025-07-16T08:07:11.208Z</td><td>2025-07-16T08:07:11.208Z</td></tr><tr><td>P0090</td><td>Ryan Anderson</td><td>Male</td><td>Spain</td><td>2025-07-15T16:41:07.773Z</td><td>34</td><td>2025-07-16T08:07:11.208Z</td><td>2025-07-16T08:07:11.208Z</td></tr><tr><td>P0091</td><td>Kenneth Dean</td><td>Female</td><td>Bhutan</td><td>2025-07-15T16:41:07.773Z</td><td>35</td><td>2025-07-16T08:07:11.208Z</td><td>2025-07-16T08:07:11.208Z</td></tr><tr><td>P0115</td><td>Diana Fisher</td><td>Male</td><td>Netherlands</td><td>2025-07-15T16:41:07.773Z</td><td>37</td><td>2025-07-16T08:07:11.208Z</td><td>2025-07-16T08:07:11.208Z</td></tr><tr><td>P0122</td><td>Joshua White</td><td>Male</td><td>Bouvet Island (Bouvetoya)</td><td>2025-07-15T16:41:07.773Z</td><td>38</td><td>2025-07-16T08:07:11.208Z</td><td>2025-07-16T08:07:11.208Z</td></tr><tr><td>P0133</td><td>Scott Morales</td><td>Male</td><td>Angola</td><td>2025-07-15T16:41:07.773Z</td><td>39</td><td>2025-07-16T08:07:11.208Z</td><td>2025-07-16T08:07:11.208Z</td></tr><tr><td>P0160</td><td>Juan Pineda</td><td>Male</td><td>Burkina Faso</td><td>2025-07-15T16:41:07.773Z</td><td>40</td><td>2025-07-16T08:07:11.208Z</td><td>2025-07-16T08:07:11.208Z</td></tr><tr><td>P0167</td><td>Michael Diaz</td><td>Female</td><td>Kiribati</td><td>2025-07-15T16:41:07.773Z</td><td>41</td><td>2025-07-16T08:07:11.208Z</td><td>2025-07-16T08:07:11.208Z</td></tr><tr><td>P0177</td><td>Eric Tucker</td><td>Female</td><td>Zambia</td><td>2025-07-15T16:41:07.773Z</td><td>42</td><td>2025-07-16T08:07:11.208Z</td><td>2025-07-16T08:07:11.208Z</td></tr><tr><td>P0189</td><td>Joel Gomez</td><td>Female</td><td>Bulgaria</td><td>2025-07-15T16:41:07.773Z</td><td>43</td><td>2025-07-16T08:07:11.208Z</td><td>2025-07-16T08:07:11.208Z</td></tr><tr><td>P0011</td><td>Michael Anderson MD</td><td>Female</td><td>Czech Republic</td><td>2025-07-15T16:41:07.773Z</td><td>44</td><td>2025-07-16T08:07:11.208Z</td><td>2025-07-16T08:07:11.208Z</td></tr><tr><td>P0020</td><td>Xavier Rivera</td><td>Female</td><td>Timor-Leste</td><td>2025-07-15T16:41:07.773Z</td><td>45</td><td>2025-07-16T08:07:11.208Z</td><td>2025-07-16T08:07:11.208Z</td></tr><tr><td>P0045</td><td>Mary Mann</td><td>Female</td><td>Sri Lanka</td><td>2025-07-15T16:41:07.773Z</td><td>47</td><td>2025-07-16T08:07:11.208Z</td><td>2025-07-16T08:07:11.208Z</td></tr><tr><td>P0088</td><td>Austin Murphy</td><td>Female</td><td>Lao People's Democratic Republic</td><td>2025-07-15T16:41:07.773Z</td><td>48</td><td>2025-07-16T08:07:11.208Z</td><td>2025-07-16T08:07:11.208Z</td></tr><tr><td>P0110</td><td>Eric Stephens</td><td>Female</td><td>Guyana</td><td>2025-07-15T16:41:07.773Z</td><td>49</td><td>2025-07-16T08:07:11.208Z</td><td>2025-07-16T08:07:11.208Z</td></tr><tr><td>P0125</td><td>Katherine Aguilar</td><td>Male</td><td>Cambodia</td><td>2025-07-15T16:41:07.773Z</td><td>51</td><td>2025-07-16T08:07:11.208Z</td><td>2025-07-16T08:07:11.208Z</td></tr><tr><td>P0136</td><td>Melinda Smith</td><td>Female</td><td>Swaziland</td><td>2025-07-15T16:41:07.773Z</td><td>52</td><td>2025-07-16T08:07:11.208Z</td><td>2025-07-16T08:07:11.208Z</td></tr><tr><td>P0152</td><td>Kristin Cole</td><td>Male</td><td>Saint Lucia</td><td>2025-07-15T16:41:07.773Z</td><td>54</td><td>2025-07-16T08:07:11.208Z</td><td>2025-07-16T08:07:11.208Z</td></tr><tr><td>P0169</td><td>Jessica Sampson</td><td>Female</td><td>Northern Mariana Islands</td><td>2025-07-15T16:41:07.773Z</td><td>55</td><td>2025-07-16T08:07:11.208Z</td><td>2025-07-16T08:07:11.208Z</td></tr><tr><td>P0034</td><td>Victoria Franklin</td><td>Female</td><td>Spain</td><td>2025-07-15T16:41:07.773Z</td><td>56</td><td>2025-07-16T08:07:11.208Z</td><td>2025-07-16T08:07:11.208Z</td></tr><tr><td>P0036</td><td>Abigail Brown</td><td>Male</td><td>France</td><td>2025-07-15T16:41:07.773Z</td><td>57</td><td>2025-07-16T08:07:11.208Z</td><td>2025-07-16T08:07:11.208Z</td></tr><tr><td>P0082</td><td>Sarah House</td><td>Female</td><td>Cook Islands</td><td>2025-07-15T16:41:07.773Z</td><td>58</td><td>2025-07-16T08:07:11.208Z</td><td>2025-07-16T08:07:11.208Z</td></tr><tr><td>P0084</td><td>Troy White</td><td>Female</td><td>Tokelau</td><td>2025-07-15T16:41:07.773Z</td><td>59</td><td>2025-07-16T08:07:11.208Z</td><td>2025-07-16T08:07:11.208Z</td></tr><tr><td>P0087</td><td>Andrew Carr</td><td>Male</td><td>Andorra</td><td>2025-07-15T16:41:07.773Z</td><td>60</td><td>2025-07-16T08:07:11.208Z</td><td>2025-07-16T08:07:11.208Z</td></tr><tr><td>P0094</td><td>Kristen Pierce</td><td>Male</td><td>Tonga</td><td>2025-07-15T16:41:07.773Z</td><td>61</td><td>2025-07-16T08:07:11.208Z</td><td>2025-07-16T08:07:11.208Z</td></tr><tr><td>P0100</td><td>Benjamin Cowan</td><td>Male</td><td>Namibia</td><td>2025-07-15T16:41:07.773Z</td><td>62</td><td>2025-07-16T08:07:11.208Z</td><td>2025-07-16T08:07:11.208Z</td></tr><tr><td>P0141</td><td>Joshua Richardson</td><td>Female</td><td>Northern Mariana Islands</td><td>2025-07-15T16:41:07.773Z</td><td>63</td><td>2025-07-16T08:07:11.208Z</td><td>2025-07-16T08:07:11.208Z</td></tr><tr><td>P0150</td><td>Charles Wade</td><td>Male</td><td>El Salvador</td><td>2025-07-15T16:41:07.773Z</td><td>64</td><td>2025-07-16T08:07:11.208Z</td><td>2025-07-16T08:07:11.208Z</td></tr><tr><td>P0163</td><td>Benjamin Aguilar</td><td>Female</td><td>Netherlands Antilles</td><td>2025-07-15T16:41:07.773Z</td><td>65</td><td>2025-07-16T08:07:11.208Z</td><td>2025-07-16T08:07:11.208Z</td></tr><tr><td>P0164</td><td>Andrew Snyder</td><td>Male</td><td>Gabon</td><td>2025-07-15T16:41:07.773Z</td><td>66</td><td>2025-07-16T08:07:11.208Z</td><td>2025-07-16T08:07:11.208Z</td></tr><tr><td>P0013</td><td>Christine Young</td><td>Male</td><td>Iran</td><td>2025-07-15T16:41:07.773Z</td><td>67</td><td>2025-07-16T08:07:11.208Z</td><td>2025-07-16T08:07:11.208Z</td></tr><tr><td>P0038</td><td>Heather Garcia</td><td>Male</td><td>Isle of Man</td><td>2025-07-15T16:41:07.773Z</td><td>68</td><td>2025-07-16T08:07:11.208Z</td><td>2025-07-16T08:07:11.208Z</td></tr><tr><td>P0060</td><td>Megan Watts</td><td>Male</td><td>Bahrain</td><td>2025-07-15T16:41:07.773Z</td><td>69</td><td>2025-07-16T08:07:11.208Z</td><td>2025-07-16T08:07:11.208Z</td></tr><tr><td>P0061</td><td>Kelsey Andrews</td><td>Female</td><td>Solomon Islands</td><td>2025-07-15T16:41:07.773Z</td><td>70</td><td>2025-07-16T08:07:11.208Z</td><td>2025-07-16T08:07:11.208Z</td></tr><tr><td>P0107</td><td>Brittany Young</td><td>Female</td><td>Taiwan</td><td>2025-07-15T16:41:07.773Z</td><td>71</td><td>2025-07-16T08:07:11.208Z</td><td>2025-07-16T08:07:11.208Z</td></tr><tr><td>P0111</td><td>Cheyenne Estes</td><td>Male</td><td>Nepal</td><td>2025-07-15T16:41:07.773Z</td><td>72</td><td>2025-07-16T08:07:11.208Z</td><td>2025-07-16T08:07:11.208Z</td></tr><tr><td>P0128</td><td>Nicole Walters</td><td>Male</td><td>Dominica</td><td>2025-07-15T16:41:07.773Z</td><td>73</td><td>2025-07-16T08:07:11.208Z</td><td>2025-07-16T08:07:11.208Z</td></tr><tr><td>P0131</td><td>Dr. Kyle Salazar</td><td>Male</td><td>Brazil</td><td>2025-07-15T16:41:07.773Z</td><td>74</td><td>2025-07-16T08:07:11.208Z</td><td>2025-07-16T08:07:11.208Z</td></tr><tr><td>P0139</td><td>Brent Johnson</td><td>Female</td><td>Bahamas</td><td>2025-07-15T16:41:07.773Z</td><td>75</td><td>2025-07-16T08:07:11.208Z</td><td>2025-07-16T08:07:11.208Z</td></tr><tr><td>P0188</td><td>Yvette Morton</td><td>Female</td><td>Vanuatu</td><td>2025-07-15T16:41:07.773Z</td><td>77</td><td>2025-07-16T08:07:11.208Z</td><td>2025-07-16T08:07:11.208Z</td></tr><tr><td>P0001</td><td>Kevin Ferguson</td><td>Male</td><td>Reunion</td><td>2025-07-15T16:41:07.773Z</td><td>78</td><td>2025-07-16T08:07:11.208Z</td><td>2025-07-16T08:07:11.208Z</td></tr><tr><td>P0026</td><td>Anita Jones</td><td>Female</td><td>Comoros</td><td>2025-07-15T16:41:07.773Z</td><td>79</td><td>2025-07-16T08:07:11.208Z</td><td>2025-07-16T08:07:11.208Z</td></tr><tr><td>P0145</td><td>Michael Simmons</td><td>Female</td><td>Cape Verde</td><td>2025-07-15T16:41:07.773Z</td><td>80</td><td>2025-07-16T08:07:11.208Z</td><td>2025-07-16T08:07:11.208Z</td></tr><tr><td>P0153</td><td>Melissa Patterson</td><td>Female</td><td>Cambodia</td><td>2025-07-15T16:41:07.773Z</td><td>81</td><td>2025-07-16T08:07:11.208Z</td><td>2025-07-16T08:07:11.208Z</td></tr><tr><td>P0170</td><td>Julie Sullivan</td><td>Female</td><td>Ireland</td><td>2025-07-15T16:41:07.773Z</td><td>83</td><td>2025-07-16T08:07:11.208Z</td><td>2025-07-16T08:07:11.208Z</td></tr><tr><td>P0173</td><td>Mary Avila</td><td>Male</td><td>Rwanda</td><td>2025-07-15T16:41:07.773Z</td><td>84</td><td>2025-07-16T08:07:11.208Z</td><td>2025-07-16T08:07:11.208Z</td></tr><tr><td>P0176</td><td>Martin Prince</td><td>Male</td><td>Central African Republic</td><td>2025-07-15T16:41:07.773Z</td><td>85</td><td>2025-07-16T08:07:11.208Z</td><td>2025-07-16T08:07:11.208Z</td></tr><tr><td>P0199</td><td>Marie Gonzales</td><td>Male</td><td>Kazakhstan</td><td>2025-07-15T16:41:07.773Z</td><td>87</td><td>2025-07-16T08:07:11.208Z</td><td>2025-07-16T08:07:11.208Z</td></tr><tr><td>P0044</td><td>Lindsey Robinson</td><td>Male</td><td>Bermuda</td><td>2025-07-15T16:41:07.773Z</td><td>88</td><td>2025-07-16T08:07:11.208Z</td><td>2025-07-16T08:07:11.208Z</td></tr><tr><td>P0046</td><td>Matthew Evans</td><td>Female</td><td>Guadeloupe</td><td>2025-07-15T16:41:07.773Z</td><td>89</td><td>2025-07-16T08:07:11.208Z</td><td>2025-07-16T08:07:11.208Z</td></tr><tr><td>P0064</td><td>Pam Garcia</td><td>Male</td><td>Thailand</td><td>2025-07-15T16:41:07.773Z</td><td>90</td><td>2025-07-16T08:07:11.208Z</td><td>2025-07-16T08:07:11.208Z</td></tr><tr><td>P0074</td><td>Shelley Green</td><td>Male</td><td>Guyana</td><td>2025-07-15T16:41:07.773Z</td><td>91</td><td>2025-07-16T08:07:11.208Z</td><td>2025-07-16T08:07:11.208Z</td></tr><tr><td>P0096</td><td>Erika Hall</td><td>Male</td><td>Kenya</td><td>2025-07-15T16:41:07.773Z</td><td>92</td><td>2025-07-16T08:07:11.208Z</td><td>2025-07-16T08:07:11.208Z</td></tr><tr><td>P0099</td><td>Ryan Curry</td><td>Female</td><td>Qatar</td><td>2025-07-15T16:41:07.773Z</td><td>93</td><td>2025-07-16T08:07:11.208Z</td><td>2025-07-16T08:07:11.208Z</td></tr><tr><td>P0116</td><td>Richard Mayer</td><td>Male</td><td>Cayman Islands</td><td>2025-07-15T16:41:07.773Z</td><td>94</td><td>2025-07-16T08:07:11.208Z</td><td>2025-07-16T08:07:11.208Z</td></tr><tr><td>P0129</td><td>Desiree Gonzales</td><td>Female</td><td>Saint Helena</td><td>2025-07-15T16:41:07.773Z</td><td>95</td><td>2025-07-16T08:07:11.208Z</td><td>2025-07-16T08:07:11.208Z</td></tr><tr><td>P0161</td><td>Edward Morris</td><td>Female</td><td>Syrian Arab Republic</td><td>2025-07-15T16:41:07.773Z</td><td>96</td><td>2025-07-16T08:07:11.208Z</td><td>2025-07-16T08:07:11.208Z</td></tr><tr><td>P0180</td><td>Chelsea Copeland</td><td>Female</td><td>Bolivia</td><td>2025-07-15T16:41:07.773Z</td><td>97</td><td>2025-07-16T08:07:11.208Z</td><td>2025-07-16T08:07:11.208Z</td></tr><tr><td>P0181</td><td>Ryan Jenkins</td><td>Female</td><td>Lao People's Democratic Republic</td><td>2025-07-15T16:41:07.773Z</td><td>98</td><td>2025-07-16T08:07:11.208Z</td><td>2025-07-16T08:07:11.208Z</td></tr><tr><td>P0006</td><td>Diana Adams</td><td>Male</td><td>Mayotte</td><td>2025-07-15T16:41:07.773Z</td><td>99</td><td>2025-07-16T08:07:11.208Z</td><td>2025-07-16T08:07:11.208Z</td></tr><tr><td>P0015</td><td>Brittany Schultz</td><td>Female</td><td>Tokelau</td><td>2025-07-15T16:41:07.773Z</td><td>100</td><td>2025-07-16T08:07:11.208Z</td><td>2025-07-16T08:07:11.208Z</td></tr><tr><td>P0019</td><td>Brittney Morgan</td><td>Female</td><td>Congo</td><td>2025-07-15T16:41:07.773Z</td><td>101</td><td>2025-07-16T08:07:11.208Z</td><td>2025-07-16T08:07:11.208Z</td></tr><tr><td>P0054</td><td>Benjamin Mata</td><td>Male</td><td>Croatia</td><td>2025-07-15T16:41:07.773Z</td><td>102</td><td>2025-07-16T08:07:11.208Z</td><td>2025-07-16T08:07:11.208Z</td></tr><tr><td>P0069</td><td>Taylor Stephenson</td><td>Female</td><td>Spain</td><td>2025-07-15T16:41:07.773Z</td><td>103</td><td>2025-07-16T08:07:11.208Z</td><td>2025-07-16T08:07:11.208Z</td></tr><tr><td>P0075</td><td>Patrick Lyons</td><td>Female</td><td>Mayotte</td><td>2025-07-15T16:41:07.773Z</td><td>104</td><td>2025-07-16T08:07:11.208Z</td><td>2025-07-16T08:07:11.208Z</td></tr><tr><td>P0079</td><td>Tracy Russo</td><td>Male</td><td>Iceland</td><td>2025-07-15T16:41:07.773Z</td><td>105</td><td>2025-07-16T08:07:11.208Z</td><td>2025-07-16T08:07:11.208Z</td></tr><tr><td>P0089</td><td>Daniel Jones</td><td>Female</td><td>Costa Rica</td><td>2025-07-15T16:41:07.773Z</td><td>106</td><td>2025-07-16T08:07:11.208Z</td><td>2025-07-16T08:07:11.208Z</td></tr><tr><td>P0092</td><td>Robert Mason</td><td>Male</td><td>Micronesia</td><td>2025-07-15T16:41:07.773Z</td><td>107</td><td>2025-07-16T08:07:11.208Z</td><td>2025-07-16T08:07:11.208Z</td></tr><tr><td>P0101</td><td>Dale Figueroa</td><td>Female</td><td>Albania</td><td>2025-07-15T16:41:07.773Z</td><td>108</td><td>2025-07-16T08:07:11.208Z</td><td>2025-07-16T08:07:11.208Z</td></tr><tr><td>P0140</td><td>Mark Taylor</td><td>Male</td><td>Kyrgyz Republic</td><td>2025-07-15T16:41:07.773Z</td><td>109</td><td>2025-07-16T08:07:11.208Z</td><td>2025-07-16T08:07:11.208Z</td></tr><tr><td>P0009</td><td>Allen Lowery</td><td>Male</td><td>Rwanda</td><td>2025-07-15T16:41:07.773Z</td><td>111</td><td>2025-07-16T08:07:11.208Z</td><td>2025-07-16T08:07:11.208Z</td></tr><tr><td>P0010</td><td>Maria Medina</td><td>Male</td><td>Denmark</td><td>2025-07-15T16:41:07.773Z</td><td>112</td><td>2025-07-16T08:07:11.208Z</td><td>2025-07-16T08:07:11.208Z</td></tr><tr><td>P0028</td><td>Juan Sweeney</td><td>Female</td><td>Yemen</td><td>2025-07-15T16:41:07.773Z</td><td>113</td><td>2025-07-16T08:07:11.208Z</td><td>2025-07-16T08:07:11.208Z</td></tr><tr><td>P0030</td><td>Daniel Rush</td><td>Male</td><td>Tunisia</td><td>2025-07-15T16:41:07.773Z</td><td>114</td><td>2025-07-16T08:07:11.208Z</td><td>2025-07-16T08:07:11.208Z</td></tr><tr><td>P0042</td><td>Nicholas Garcia</td><td>Female</td><td>Germany</td><td>2025-07-15T16:41:07.773Z</td><td>115</td><td>2025-07-16T08:07:11.208Z</td><td>2025-07-16T08:07:11.208Z</td></tr><tr><td>P0052</td><td>Jill Brennan</td><td>Female</td><td>Togo</td><td>2025-07-15T16:41:07.773Z</td><td>116</td><td>2025-07-16T08:07:11.208Z</td><td>2025-07-16T08:07:11.208Z</td></tr><tr><td>P0093</td><td>Austin Ortega DVM</td><td>Female</td><td>Korea</td><td>2025-07-15T16:41:07.773Z</td><td>117</td><td>2025-07-16T08:07:11.208Z</td><td>2025-07-16T08:07:11.208Z</td></tr><tr><td>P0112</td><td>William Bailey</td><td>Male</td><td>Micronesia</td><td>2025-07-15T16:41:07.773Z</td><td>118</td><td>2025-07-16T08:07:11.208Z</td><td>2025-07-16T08:07:11.208Z</td></tr><tr><td>P0118</td><td>Anita Figueroa</td><td>Male</td><td>Mauritania</td><td>2025-07-15T16:41:07.773Z</td><td>119</td><td>2025-07-16T08:07:11.208Z</td><td>2025-07-16T08:07:11.208Z</td></tr><tr><td>P0132</td><td>Makayla Robbins</td><td>Male</td><td>Kazakhstan</td><td>2025-07-15T16:41:07.773Z</td><td>120</td><td>2025-07-16T08:07:11.208Z</td><td>2025-07-16T08:07:11.208Z</td></tr><tr><td>P0147</td><td>Joshua Mendoza</td><td>Male</td><td>Tokelau</td><td>2025-07-15T16:41:07.773Z</td><td>121</td><td>2025-07-16T08:07:11.208Z</td><td>2025-07-16T08:07:11.208Z</td></tr><tr><td>P0183</td><td>Benjamin Garcia</td><td>Female</td><td>Saint Pierre and Miquelon</td><td>2025-07-15T16:41:07.773Z</td><td>122</td><td>2025-07-16T08:07:11.208Z</td><td>2025-07-16T08:07:11.208Z</td></tr><tr><td>P0185</td><td>Karen Maynard</td><td>Male</td><td>Romania</td><td>2025-07-15T16:41:07.773Z</td><td>123</td><td>2025-07-16T08:07:11.208Z</td><td>2025-07-16T08:07:11.208Z</td></tr><tr><td>P0190</td><td>Joyce Parker</td><td>Male</td><td>Lebanon</td><td>2025-07-15T16:41:07.773Z</td><td>124</td><td>2025-07-16T08:07:11.208Z</td><td>2025-07-16T08:07:11.208Z</td></tr><tr><td>P0008</td><td>Cheryl Glenn</td><td>Male</td><td>Maldives</td><td>2025-07-15T16:41:07.773Z</td><td>125</td><td>2025-07-16T08:07:11.208Z</td><td>2025-07-16T08:07:11.208Z</td></tr><tr><td>P0027</td><td>Spencer Grimes Jr.</td><td>Female</td><td>Portugal</td><td>2025-07-15T16:41:07.773Z</td><td>126</td><td>2025-07-16T08:07:11.208Z</td><td>2025-07-16T08:07:11.208Z</td></tr><tr><td>P0031</td><td>Jesus Clark</td><td>Female</td><td>Namibia</td><td>2025-07-15T16:41:07.773Z</td><td>127</td><td>2025-07-16T08:07:11.208Z</td><td>2025-07-16T08:07:11.208Z</td></tr><tr><td>P0048</td><td>Jonathan Martinez</td><td>Male</td><td>Mayotte</td><td>2025-07-15T16:41:07.773Z</td><td>128</td><td>2025-07-16T08:07:11.208Z</td><td>2025-07-16T08:07:11.208Z</td></tr><tr><td>P0056</td><td>Joseph James</td><td>Male</td><td>Turks and Caicos Islands</td><td>2025-07-15T16:41:07.773Z</td><td>129</td><td>2025-07-16T08:07:11.208Z</td><td>2025-07-16T08:07:11.208Z</td></tr><tr><td>P0062</td><td>Maria Gibbs</td><td>Female</td><td>Taiwan</td><td>2025-07-15T16:41:07.773Z</td><td>130</td><td>2025-07-16T08:07:11.208Z</td><td>2025-07-16T08:07:11.208Z</td></tr><tr><td>P0063</td><td>Mark Martin</td><td>Male</td><td>Saint Helena</td><td>2025-07-15T16:41:07.773Z</td><td>131</td><td>2025-07-16T08:07:11.208Z</td><td>2025-07-16T08:07:11.208Z</td></tr><tr><td>P0065</td><td>Daniel Ray</td><td>Female</td><td>Argentina</td><td>2025-07-15T16:41:07.773Z</td><td>132</td><td>2025-07-16T08:07:11.208Z</td><td>2025-07-16T08:07:11.208Z</td></tr><tr><td>P0078</td><td>Darlene Perez</td><td>Female</td><td>Cyprus</td><td>2025-07-15T16:41:07.773Z</td><td>133</td><td>2025-07-16T08:07:11.208Z</td><td>2025-07-16T08:07:11.208Z</td></tr><tr><td>P0095</td><td>Kelsey Hill</td><td>Male</td><td>Cook Islands</td><td>2025-07-15T16:41:07.773Z</td><td>134</td><td>2025-07-16T08:07:11.208Z</td><td>2025-07-16T08:07:11.208Z</td></tr><tr><td>P0126</td><td>Charles Wilson</td><td>Male</td><td>Palau</td><td>2025-07-15T16:41:07.773Z</td><td>135</td><td>2025-07-16T08:07:11.208Z</td><td>2025-07-16T08:07:11.208Z</td></tr><tr><td>P0162</td><td>Rebecca Hendricks</td><td>Male</td><td>Faroe Islands</td><td>2025-07-15T16:41:07.773Z</td><td>136</td><td>2025-07-16T08:07:11.208Z</td><td>2025-07-16T08:07:11.208Z</td></tr><tr><td>P0017</td><td>Billy Williams</td><td>Male</td><td>Togo</td><td>2025-07-15T16:41:07.773Z</td><td>137</td><td>2025-07-16T08:07:11.208Z</td><td>2025-07-16T08:07:11.208Z</td></tr><tr><td>P0029</td><td>Tony Adams</td><td>Female</td><td>British Virgin Islands</td><td>2025-07-15T16:41:07.773Z</td><td>138</td><td>2025-07-16T08:07:11.208Z</td><td>2025-07-16T08:07:11.208Z</td></tr><tr><td>P0039</td><td>Krystal Mathews</td><td>Male</td><td>Cyprus</td><td>2025-07-15T16:41:07.773Z</td><td>139</td><td>2025-07-16T08:07:11.208Z</td><td>2025-07-16T08:07:11.208Z</td></tr><tr><td>P0059</td><td>Alexander Wells</td><td>Male</td><td>Bosnia and Herzegovina</td><td>2025-07-15T16:41:07.773Z</td><td>140</td><td>2025-07-16T08:07:11.208Z</td><td>2025-07-16T08:07:11.208Z</td></tr><tr><td>P0068</td><td>Timothy Goodwin</td><td>Female</td><td>Kuwait</td><td>2025-07-15T16:41:07.773Z</td><td>141</td><td>2025-07-16T08:07:11.208Z</td><td>2025-07-16T08:07:11.208Z</td></tr><tr><td>P0086</td><td>Gloria Williams</td><td>Male</td><td>Somalia</td><td>2025-07-15T16:41:07.773Z</td><td>142</td><td>2025-07-16T08:07:11.208Z</td><td>2025-07-16T08:07:11.208Z</td></tr><tr><td>P0144</td><td>Jennifer Gutierrez</td><td>Female</td><td>Bulgaria</td><td>2025-07-15T16:41:07.773Z</td><td>143</td><td>2025-07-16T08:07:11.208Z</td><td>2025-07-16T08:07:11.208Z</td></tr><tr><td>P0165</td><td>Jessica Hansen</td><td>Male</td><td>British Indian Ocean Territory (Chagos Archipelago)</td><td>2025-07-15T16:41:07.773Z</td><td>144</td><td>2025-07-16T08:07:11.208Z</td><td>2025-07-16T08:07:11.208Z</td></tr><tr><td>P0168</td><td>Norman Jones</td><td>Female</td><td>Faroe Islands</td><td>2025-07-15T16:41:07.773Z</td><td>145</td><td>2025-07-16T08:07:11.208Z</td><td>2025-07-16T08:07:11.208Z</td></tr><tr><td>P0197</td><td>Alicia Parks</td><td>Male</td><td>Georgia</td><td>2025-07-15T16:41:07.773Z</td><td>146</td><td>2025-07-16T08:07:11.208Z</td><td>2025-07-16T08:07:11.208Z</td></tr><tr><td>P0025</td><td>Christopher Kim</td><td>Male</td><td>Greece</td><td>2025-07-15T16:41:07.773Z</td><td>147</td><td>2025-07-16T08:07:11.208Z</td><td>2025-07-16T08:07:11.208Z</td></tr><tr><td>P0050</td><td>Brandon Smith</td><td>Male</td><td>Senegal</td><td>2025-07-15T16:41:07.773Z</td><td>148</td><td>2025-07-16T08:07:11.208Z</td><td>2025-07-16T08:07:11.208Z</td></tr><tr><td>P0055</td><td>William Tanner</td><td>Female</td><td>Guadeloupe</td><td>2025-07-15T16:41:07.773Z</td><td>149</td><td>2025-07-16T08:07:11.208Z</td><td>2025-07-16T08:07:11.208Z</td></tr><tr><td>P0067</td><td>Jimmy Smith</td><td>Female</td><td>China</td><td>2025-07-15T16:41:07.773Z</td><td>150</td><td>2025-07-16T08:07:11.208Z</td><td>2025-07-16T08:07:11.208Z</td></tr><tr><td>P0070</td><td>Anthony Ingram</td><td>Male</td><td>Papua New Guinea</td><td>2025-07-15T16:41:07.773Z</td><td>151</td><td>2025-07-16T08:07:11.208Z</td><td>2025-07-16T08:07:11.208Z</td></tr><tr><td>P0098</td><td>Andrea Mcknight</td><td>Male</td><td>Samoa</td><td>2025-07-15T16:41:07.773Z</td><td>152</td><td>2025-07-16T08:07:11.208Z</td><td>2025-07-16T08:07:11.208Z</td></tr><tr><td>P0109</td><td>Brian Mosley</td><td>Male</td><td>Brunei Darussalam</td><td>2025-07-15T16:41:07.773Z</td><td>153</td><td>2025-07-16T08:07:11.208Z</td><td>2025-07-16T08:07:11.208Z</td></tr><tr><td>P0127</td><td>Chloe Conway</td><td>Male</td><td>Brunei Darussalam</td><td>2025-07-15T16:41:07.773Z</td><td>154</td><td>2025-07-16T08:07:11.208Z</td><td>2025-07-16T08:07:11.208Z</td></tr><tr><td>P0143</td><td>Vincent Sanchez</td><td>Female</td><td>Tuvalu</td><td>2025-07-15T16:41:07.773Z</td><td>155</td><td>2025-07-16T08:07:11.208Z</td><td>2025-07-16T08:07:11.208Z</td></tr><tr><td>P0175</td><td>Sheri Novak</td><td>Male</td><td>Turks and Caicos Islands</td><td>2025-07-15T16:41:07.773Z</td><td>156</td><td>2025-07-16T08:07:11.208Z</td><td>2025-07-16T08:07:11.208Z</td></tr><tr><td>P0184</td><td>Evan Scott</td><td>Female</td><td>South Africa</td><td>2025-07-15T16:41:07.773Z</td><td>157</td><td>2025-07-16T08:07:11.208Z</td><td>2025-07-16T08:07:11.208Z</td></tr><tr><td>P0187</td><td>Christopher Wade</td><td>Female</td><td>Lesotho</td><td>2025-07-15T16:41:07.773Z</td><td>158</td><td>2025-07-16T08:07:11.208Z</td><td>2025-07-16T08:07:11.208Z</td></tr><tr><td>P0037</td><td>Cheryl Reyes</td><td>Female</td><td>French Guiana</td><td>2025-07-15T16:41:07.773Z</td><td>159</td><td>2025-07-16T08:07:11.208Z</td><td>2025-07-16T08:07:11.208Z</td></tr><tr><td>P0043</td><td>Gloria Hill</td><td>Female</td><td>Guadeloupe</td><td>2025-07-15T16:41:07.773Z</td><td>160</td><td>2025-07-16T08:07:11.208Z</td><td>2025-07-16T08:07:11.208Z</td></tr><tr><td>P0102</td><td>Michael Collins</td><td>Male</td><td>Turkey</td><td>2025-07-15T16:41:07.773Z</td><td>161</td><td>2025-07-16T08:07:11.208Z</td><td>2025-07-16T08:07:11.208Z</td></tr><tr><td>P0105</td><td>James Frederick</td><td>Female</td><td>Cote d'Ivoire</td><td>2025-07-15T16:41:07.773Z</td><td>162</td><td>2025-07-16T08:07:11.208Z</td><td>2025-07-16T08:07:11.208Z</td></tr><tr><td>P0117</td><td>Scott Acosta</td><td>Female</td><td>Hong Kong</td><td>2025-07-15T16:41:07.773Z</td><td>163</td><td>2025-07-16T08:07:11.208Z</td><td>2025-07-16T08:07:11.208Z</td></tr><tr><td>P0121</td><td>Bethany Foley</td><td>Male</td><td>Romania</td><td>2025-07-15T16:41:07.773Z</td><td>164</td><td>2025-07-16T08:07:11.208Z</td><td>2025-07-16T08:07:11.208Z</td></tr><tr><td>P0124</td><td>Alyssa Herrera</td><td>Female</td><td>Martinique</td><td>2025-07-15T16:41:07.773Z</td><td>165</td><td>2025-07-16T08:07:11.208Z</td><td>2025-07-16T08:07:11.208Z</td></tr><tr><td>P0137</td><td>Vanessa Fuller</td><td>Female</td><td>Moldova</td><td>2025-07-15T16:41:07.773Z</td><td>166</td><td>2025-07-16T08:07:11.208Z</td><td>2025-07-16T08:07:11.208Z</td></tr><tr><td>P0156</td><td>Nicole Drake</td><td>Female</td><td>Jordan</td><td>2025-07-15T16:41:07.773Z</td><td>167</td><td>2025-07-16T08:07:11.208Z</td><td>2025-07-16T08:07:11.208Z</td></tr><tr><td>P0157</td><td>Daniel Sawyer</td><td>Male</td><td>Mayotte</td><td>2025-07-15T16:41:07.773Z</td><td>168</td><td>2025-07-16T08:07:11.208Z</td><td>2025-07-16T08:07:11.208Z</td></tr><tr><td>P0179</td><td>Shelby Tucker</td><td>Male</td><td>Malaysia</td><td>2025-07-15T16:41:07.773Z</td><td>169</td><td>2025-07-16T08:07:11.208Z</td><td>2025-07-16T08:07:11.208Z</td></tr><tr><td>P0182</td><td>Eric Martin</td><td>Female</td><td>Mauritius</td><td>2025-07-15T16:41:07.773Z</td><td>170</td><td>2025-07-16T08:07:11.208Z</td><td>2025-07-16T08:07:11.208Z</td></tr><tr><td>P0193</td><td>Dr. Justin Rivera</td><td>Male</td><td>India</td><td>2025-07-15T16:41:07.773Z</td><td>171</td><td>2025-07-16T08:07:11.208Z</td><td>2025-07-16T08:07:11.208Z</td></tr><tr><td>P0200</td><td>Jim Berry</td><td>Female</td><td>Trinidad and Tobago</td><td>2025-07-15T16:41:07.773Z</td><td>172</td><td>2025-07-16T08:07:11.208Z</td><td>2025-07-16T08:07:11.208Z</td></tr><tr><td>P0016</td><td>Michael Terry</td><td>Female</td><td>El Salvador</td><td>2025-07-15T16:41:07.773Z</td><td>173</td><td>2025-07-16T08:07:11.208Z</td><td>2025-07-16T08:07:11.208Z</td></tr><tr><td>P0024</td><td>Jordan Moore</td><td>Female</td><td>Aruba</td><td>2025-07-15T16:41:07.773Z</td><td>174</td><td>2025-07-16T08:07:11.208Z</td><td>2025-07-16T08:07:11.208Z</td></tr><tr><td>P0047</td><td>Virginia Vance</td><td>Female</td><td>British Indian Ocean Territory (Chagos Archipelago)</td><td>2025-07-15T16:41:07.773Z</td><td>175</td><td>2025-07-16T08:07:11.208Z</td><td>2025-07-16T08:07:11.208Z</td></tr><tr><td>P0053</td><td>Glenda Silva</td><td>Female</td><td>Guinea</td><td>2025-07-15T16:41:07.773Z</td><td>176</td><td>2025-07-16T08:07:11.208Z</td><td>2025-07-16T08:07:11.208Z</td></tr><tr><td>P0076</td><td>Edward Nelson</td><td>Male</td><td>Reunion</td><td>2025-07-15T16:41:07.773Z</td><td>177</td><td>2025-07-16T08:07:11.208Z</td><td>2025-07-16T08:07:11.208Z</td></tr><tr><td>P0172</td><td>Noah Herrera</td><td>Female</td><td>Monaco</td><td>2025-07-15T16:41:07.773Z</td><td>178</td><td>2025-07-16T08:07:11.208Z</td><td>2025-07-16T08:07:11.208Z</td></tr><tr><td>P0174</td><td>Michael Johnson</td><td>Female</td><td>Chad</td><td>2025-07-15T16:41:07.773Z</td><td>179</td><td>2025-07-16T08:07:11.208Z</td><td>2025-07-16T08:07:11.208Z</td></tr><tr><td>P0178</td><td>Brenda Dennis</td><td>Male</td><td>Saint Lucia</td><td>2025-07-15T16:41:07.773Z</td><td>180</td><td>2025-07-16T08:07:11.208Z</td><td>2025-07-16T08:07:11.208Z</td></tr><tr><td>P0194</td><td>Tommy Baker</td><td>Male</td><td>Venezuela</td><td>2025-07-15T16:41:07.773Z</td><td>181</td><td>2025-07-16T08:07:11.208Z</td><td>2025-07-16T08:07:11.208Z</td></tr><tr><td>P0198</td><td>Timothy Carroll</td><td>Male</td><td>Korea</td><td>2025-07-15T16:41:07.773Z</td><td>182</td><td>2025-07-16T08:07:11.208Z</td><td>2025-07-16T08:07:11.208Z</td></tr><tr><td>P0003</td><td>Cynthia Frazier</td><td>Male</td><td>Marshall Islands</td><td>2025-07-15T16:41:07.773Z</td><td>183</td><td>2025-07-16T08:07:11.208Z</td><td>2025-07-16T08:07:11.208Z</td></tr><tr><td>P0012</td><td>Samantha Barnes</td><td>Female</td><td>British Virgin Islands</td><td>2025-07-15T16:41:07.773Z</td><td>184</td><td>2025-07-16T08:07:11.208Z</td><td>2025-07-16T08:07:11.208Z</td></tr><tr><td>P0018</td><td>Kyle Carter</td><td>Female</td><td>Lebanon</td><td>2025-07-15T16:41:07.773Z</td><td>185</td><td>2025-07-16T08:07:11.208Z</td><td>2025-07-16T08:07:11.208Z</td></tr><tr><td>P0021</td><td>Nicholas Ritter</td><td>Female</td><td>Korea</td><td>2025-07-15T16:41:07.773Z</td><td>186</td><td>2025-07-16T08:07:11.208Z</td><td>2025-07-16T08:07:11.208Z</td></tr><tr><td>P0035</td><td>Gina Lee</td><td>Male</td><td>Samoa</td><td>2025-07-15T16:41:07.773Z</td><td>187</td><td>2025-07-16T08:07:11.208Z</td><td>2025-07-16T08:07:11.208Z</td></tr><tr><td>P0058</td><td>William Meza</td><td>Male</td><td>Central African Republic</td><td>2025-07-15T16:41:07.773Z</td><td>188</td><td>2025-07-16T08:07:11.208Z</td><td>2025-07-16T08:07:11.208Z</td></tr><tr><td>P0066</td><td>Brandi Maddox</td><td>Male</td><td>Senegal</td><td>2025-07-15T16:41:07.773Z</td><td>189</td><td>2025-07-16T08:07:11.208Z</td><td>2025-07-16T08:07:11.208Z</td></tr><tr><td>P0071</td><td>Jeanette Garrison</td><td>Male</td><td>Andorra</td><td>2025-07-15T16:41:07.773Z</td><td>190</td><td>2025-07-16T08:07:11.208Z</td><td>2025-07-16T08:07:11.208Z</td></tr><tr><td>P0072</td><td>Seth Salazar</td><td>Female</td><td>Japan</td><td>2025-07-15T16:41:07.773Z</td><td>191</td><td>2025-07-16T08:07:11.208Z</td><td>2025-07-16T08:07:11.208Z</td></tr><tr><td>P0073</td><td>Tina Harris</td><td>Male</td><td>Korea</td><td>2025-07-15T16:41:07.773Z</td><td>192</td><td>2025-07-16T08:07:11.208Z</td><td>2025-07-16T08:07:11.208Z</td></tr><tr><td>P0081</td><td>Amy Kim MD</td><td>Female</td><td>New Caledonia</td><td>2025-07-15T16:41:07.773Z</td><td>193</td><td>2025-07-16T08:07:11.208Z</td><td>2025-07-16T08:07:11.208Z</td></tr><tr><td>P0085</td><td>Frederick Robertson</td><td>Female</td><td>Germany</td><td>2025-07-15T16:41:07.773Z</td><td>194</td><td>2025-07-16T08:07:11.208Z</td><td>2025-07-16T08:07:11.208Z</td></tr><tr><td>P0103</td><td>Nicholas Chapman</td><td>Male</td><td>Jersey</td><td>2025-07-15T16:41:07.773Z</td><td>195</td><td>2025-07-16T08:07:11.208Z</td><td>2025-07-16T08:07:11.208Z</td></tr><tr><td>P0104</td><td>Amy Rose</td><td>Female</td><td>British Virgin Islands</td><td>2025-07-15T16:41:07.773Z</td><td>196</td><td>2025-07-16T08:07:11.208Z</td><td>2025-07-16T08:07:11.208Z</td></tr><tr><td>P0119</td><td>Paul Sanchez</td><td>Male</td><td>Bouvet Island (Bouvetoya)</td><td>2025-07-15T16:41:07.773Z</td><td>198</td><td>2025-07-16T08:07:11.208Z</td><td>2025-07-16T08:07:11.208Z</td></tr><tr><td>P0166</td><td>Walter Thompson</td><td>Male</td><td>Malaysia</td><td>2025-07-15T16:41:07.773Z</td><td>199</td><td>2025-07-16T08:07:11.208Z</td><td>2025-07-16T08:07:11.208Z</td></tr><tr><td>P0191</td><td>Linda Moore</td><td>Male</td><td>Norfolk Island</td><td>2025-07-15T16:41:07.773Z</td><td>200</td><td>2025-07-16T08:07:11.208Z</td><td>2025-07-16T08:07:11.208Z</td></tr><tr><td>P0206</td><td>Amy Burns</td><td>Female</td><td>Malta</td><td>2025-07-15T16:41:07.773Z</td><td>201</td><td>2025-07-16T08:07:11.208Z</td><td>2025-07-16T08:07:11.208Z</td></tr><tr><td>P0211</td><td>Gregory Williams</td><td>Female</td><td>Trinidad and Tobago</td><td>2025-07-15T16:41:07.773Z</td><td>202</td><td>2025-07-16T08:07:11.208Z</td><td>2025-07-16T08:07:11.208Z</td></tr><tr><td>P0212</td><td>Suzanne Myers</td><td>Male</td><td>Algeria</td><td>2025-07-15T16:41:07.773Z</td><td>203</td><td>2025-07-16T08:07:11.208Z</td><td>2025-07-16T08:07:11.208Z</td></tr><tr><td>P0216</td><td>Michele Hunter</td><td>Male</td><td>Cambodia</td><td>2025-07-15T16:41:07.773Z</td><td>204</td><td>2025-07-16T08:07:11.208Z</td><td>2025-07-16T08:07:11.208Z</td></tr><tr><td>P0209</td><td>Christine Norman</td><td>Female</td><td>Sudan</td><td>2025-07-15T16:41:07.773Z</td><td>205</td><td>2025-07-16T08:07:11.208Z</td><td>2025-07-16T08:07:11.208Z</td></tr><tr><td>P0220</td><td>Robert Johnson</td><td>Female</td><td>Nigeria</td><td>2025-07-15T16:41:07.773Z</td><td>206</td><td>2025-07-16T08:07:11.208Z</td><td>2025-07-16T08:07:11.208Z</td></tr><tr><td>P0215</td><td>Alexander Smith</td><td>Female</td><td>Mali</td><td>2025-07-15T16:41:07.773Z</td><td>207</td><td>2025-07-16T08:07:11.208Z</td><td>2025-07-16T08:07:11.208Z</td></tr><tr><td>P0219</td><td>Mary Burke</td><td>Female</td><td>Heard Island and McDonald Islands</td><td>2025-07-15T16:41:07.773Z</td><td>208</td><td>2025-07-16T08:07:11.208Z</td><td>2025-07-16T08:07:11.208Z</td></tr><tr><td>P0201</td><td>Michele Perry</td><td>Male</td><td>Czech Republic</td><td>2025-07-15T16:41:07.773Z</td><td>209</td><td>2025-07-16T08:07:11.208Z</td><td>2025-07-16T08:07:11.208Z</td></tr><tr><td>P0207</td><td>Angela Sparks</td><td>Male</td><td>Nicaragua</td><td>2025-07-15T16:41:07.773Z</td><td>210</td><td>2025-07-16T08:07:11.208Z</td><td>2025-07-16T08:07:11.208Z</td></tr><tr><td>P0214</td><td>Vanessa Yang</td><td>Female</td><td>Bhutan</td><td>2025-07-15T16:41:07.773Z</td><td>211</td><td>2025-07-16T08:07:11.208Z</td><td>2025-07-16T08:07:11.208Z</td></tr><tr><td>P0218</td><td>David Rhodes</td><td>Female</td><td>Saint Vincent and the Grenadines</td><td>2025-07-15T16:41:07.773Z</td><td>212</td><td>2025-07-16T08:07:11.208Z</td><td>2025-07-16T08:07:11.208Z</td></tr><tr><td>P0202</td><td>Javier Mccormick</td><td>Male</td><td>Bolivia</td><td>2025-07-15T16:41:07.773Z</td><td>213</td><td>2025-07-16T08:07:11.208Z</td><td>2025-07-16T08:07:11.208Z</td></tr><tr><td>P0205</td><td>James Bender</td><td>Female</td><td>Saint Barthelemy</td><td>2025-07-15T16:41:07.773Z</td><td>214</td><td>2025-07-16T08:07:11.208Z</td><td>2025-07-16T08:07:11.208Z</td></tr><tr><td>P0210</td><td>Robert Davis</td><td>Male</td><td>Puerto Rico</td><td>2025-07-15T16:41:07.773Z</td><td>215</td><td>2025-07-16T08:07:11.208Z</td><td>2025-07-16T08:07:11.208Z</td></tr><tr><td>P0203</td><td>Michelle Alvarado</td><td>Male</td><td>Iraq</td><td>2025-07-15T16:41:07.773Z</td><td>216</td><td>2025-07-16T08:07:11.208Z</td><td>2025-07-16T08:07:11.208Z</td></tr><tr><td>P0213</td><td>Norman Daniel</td><td>Female</td><td>Korea</td><td>2025-07-15T16:41:07.773Z</td><td>217</td><td>2025-07-16T08:07:11.208Z</td><td>2025-07-16T08:07:11.208Z</td></tr><tr><td>P0217</td><td>Emily Buchanan</td><td>Female</td><td>Uganda</td><td>2025-07-15T16:41:07.773Z</td><td>218</td><td>2025-07-16T08:07:11.208Z</td><td>2025-07-16T08:07:11.208Z</td></tr><tr><td>P0208</td><td>Cynthia Salas</td><td>Male</td><td>United States of America</td><td>2025-07-15T16:41:07.773Z</td><td>219</td><td>2025-07-16T08:07:11.208Z</td><td>2025-07-16T08:07:11.208Z</td></tr><tr><td>P0204</td><td>Jamie Harrell</td><td>Female</td><td>Norway</td><td>2025-07-15T16:41:07.773Z</td><td>220</td><td>2025-07-16T08:07:11.208Z</td><td>2025-07-16T08:07:11.208Z</td></tr><tr><td>P0049</td><td>Justin Thomas</td><td>Female</td><td>Tokelau</td><td>2025-07-16T08:26:59.574Z</td><td>7</td><td>2025-07-16T08:07:11.208Z</td><td>2025-07-16T08:33:39.553Z</td></tr><tr><td>P0108</td><td>Brian Anderson</td><td>Female</td><td>Eritrea</td><td>2025-07-16T08:26:59.574Z</td><td>36</td><td>2025-07-16T08:07:11.208Z</td><td>2025-07-16T08:33:39.553Z</td></tr><tr><td>P0032</td><td>Daniel Douglas</td><td>Male</td><td>Singapore</td><td>2025-07-16T08:26:59.574Z</td><td>46</td><td>2025-07-16T08:07:11.208Z</td><td>2025-07-16T08:33:39.553Z</td></tr><tr><td>P0113</td><td>Brian Richardson</td><td>Male</td><td>Dominican Republic</td><td>2025-07-16T08:26:59.574Z</td><td>50</td><td>2025-07-16T08:07:11.208Z</td><td>2025-07-16T08:33:39.553Z</td></tr><tr><td>P0149</td><td>Katherine Bowen DVM</td><td>Male</td><td>Mexico</td><td>2025-07-16T08:26:59.574Z</td><td>53</td><td>2025-07-16T08:07:11.208Z</td><td>2025-07-16T08:33:39.553Z</td></tr><tr><td>P0158</td><td>Jamie Mcneil</td><td>Male</td><td>Burundi</td><td>2025-07-16T08:26:59.574Z</td><td>76</td><td>2025-07-16T08:07:11.208Z</td><td>2025-07-16T08:33:39.553Z</td></tr><tr><td>P0155</td><td>Robert Singleton</td><td>Female</td><td>Northern Mariana Islands</td><td>2025-07-16T08:26:59.574Z</td><td>82</td><td>2025-07-16T08:07:11.208Z</td><td>2025-07-16T08:33:39.553Z</td></tr><tr><td>P0196</td><td>Monica Dillon</td><td>Female</td><td>Belarus</td><td>2025-07-16T08:26:59.574Z</td><td>86</td><td>2025-07-16T08:07:11.208Z</td><td>2025-07-16T08:33:39.553Z</td></tr><tr><td>P0154</td><td>Angel Thompson</td><td>Female</td><td>Gambia</td><td>2025-07-16T08:26:59.574Z</td><td>110</td><td>2025-07-16T08:07:11.208Z</td><td>2025-07-16T08:33:39.553Z</td></tr><tr><td>P0106</td><td>Joshua Shepherd Jr.</td><td>Female</td><td>Netherlands</td><td>2025-07-16T08:26:59.574Z</td><td>197</td><td>2025-07-16T08:07:11.208Z</td><td>2025-07-16T08:33:39.553Z</td></tr><tr><td>P0225</td><td>William Lopez</td><td>Male</td><td>Heard Island and McDonald Islands</td><td>2025-07-16T08:26:59.574Z</td><td>221</td><td>2025-07-16T08:33:39.553Z</td><td>2025-07-16T08:33:39.553Z</td></tr><tr><td>P0224</td><td>Jason Jensen</td><td>Female</td><td>Rwanda</td><td>2025-07-16T08:26:59.574Z</td><td>222</td><td>2025-07-16T08:33:39.553Z</td><td>2025-07-16T08:33:39.553Z</td></tr><tr><td>P0223</td><td>Nicholas Gomez</td><td>Female</td><td>Cook Islands</td><td>2025-07-16T08:26:59.574Z</td><td>223</td><td>2025-07-16T08:33:39.553Z</td><td>2025-07-16T08:33:39.553Z</td></tr><tr><td>P0222</td><td>Maria Taylor</td><td>Male</td><td>Lao People's Democratic Republic</td><td>2025-07-16T08:26:59.574Z</td><td>224</td><td>2025-07-16T08:33:39.553Z</td><td>2025-07-16T08:33:39.553Z</td></tr><tr><td>P0221</td><td>Amy Welch</td><td>Male</td><td>Croatia</td><td>2025-07-16T08:26:59.574Z</td><td>225</td><td>2025-07-16T08:33:39.553Z</td><td>2025-07-16T08:33:39.553Z</td></tr></tbody></table></div>"
      ]
     },
     "metadata": {
      "application/vnd.databricks.v1+output": {
       "addedWidgets": {},
       "aggData": [],
       "aggError": "",
       "aggOverflow": false,
       "aggSchema": [],
       "aggSeriesLimitReached": false,
       "aggType": "",
       "arguments": {},
       "columnCustomDisplayInfos": {},
       "data": [
        [
         "P0002",
         "Kathleen Martinez DVM",
         "Female",
         "Burkina Faso",
         "2025-07-15T16:41:07.773Z",
         1,
         "2025-07-16T08:07:11.208Z",
         "2025-07-16T08:07:11.208Z"
        ],
        [
         "P0004",
         "Ryan Ramsey",
         "Male",
         "Niger",
         "2025-07-15T16:41:07.773Z",
         2,
         "2025-07-16T08:07:11.208Z",
         "2025-07-16T08:07:11.208Z"
        ],
        [
         "P0007",
         "Sharon Moon",
         "Male",
         "Madagascar",
         "2025-07-15T16:41:07.773Z",
         3,
         "2025-07-16T08:07:11.208Z",
         "2025-07-16T08:07:11.208Z"
        ],
        [
         "P0014",
         "Rebecca Sampson",
         "Male",
         "Suriname",
         "2025-07-15T16:41:07.773Z",
         4,
         "2025-07-16T08:07:11.208Z",
         "2025-07-16T08:07:11.208Z"
        ],
        [
         "P0023",
         "Wendy Jones",
         "Female",
         "Haiti",
         "2025-07-15T16:41:07.773Z",
         5,
         "2025-07-16T08:07:11.208Z",
         "2025-07-16T08:07:11.208Z"
        ],
        [
         "P0033",
         "Sandra Green",
         "Male",
         "Switzerland",
         "2025-07-15T16:41:07.773Z",
         6,
         "2025-07-16T08:07:11.208Z",
         "2025-07-16T08:07:11.208Z"
        ],
        [
         "P0080",
         "Brandon Lynch",
         "Female",
         "Eritrea",
         "2025-07-15T16:41:07.773Z",
         8,
         "2025-07-16T08:07:11.208Z",
         "2025-07-16T08:07:11.208Z"
        ],
        [
         "P0120",
         "Tiffany Williams",
         "Female",
         "New Caledonia",
         "2025-07-15T16:41:07.773Z",
         9,
         "2025-07-16T08:07:11.208Z",
         "2025-07-16T08:07:11.208Z"
        ],
        [
         "P0134",
         "Phyllis Lewis",
         "Female",
         "Northern Mariana Islands",
         "2025-07-15T16:41:07.773Z",
         10,
         "2025-07-16T08:07:11.208Z",
         "2025-07-16T08:07:11.208Z"
        ],
        [
         "P0151",
         "Katherine Young",
         "Male",
         "Nigeria",
         "2025-07-15T16:41:07.773Z",
         11,
         "2025-07-16T08:07:11.208Z",
         "2025-07-16T08:07:11.208Z"
        ],
        [
         "P0186",
         "Kathryn Foster",
         "Male",
         "Bahrain",
         "2025-07-15T16:41:07.773Z",
         12,
         "2025-07-16T08:07:11.208Z",
         "2025-07-16T08:07:11.208Z"
        ],
        [
         "P0192",
         "Dr. Chris Dean",
         "Female",
         "Seychelles",
         "2025-07-15T16:41:07.773Z",
         13,
         "2025-07-16T08:07:11.208Z",
         "2025-07-16T08:07:11.208Z"
        ],
        [
         "P0022",
         "Edward Rice",
         "Female",
         "Antigua and Barbuda",
         "2025-07-15T16:41:07.773Z",
         14,
         "2025-07-16T08:07:11.208Z",
         "2025-07-16T08:07:11.208Z"
        ],
        [
         "P0041",
         "Amanda Hughes",
         "Male",
         "Kenya",
         "2025-07-15T16:41:07.773Z",
         15,
         "2025-07-16T08:07:11.208Z",
         "2025-07-16T08:07:11.208Z"
        ],
        [
         "P0051",
         "Brett Rios",
         "Female",
         "Guyana",
         "2025-07-15T16:41:07.773Z",
         16,
         "2025-07-16T08:07:11.208Z",
         "2025-07-16T08:07:11.208Z"
        ],
        [
         "P0057",
         "Alexandra Sanders",
         "Female",
         "Australia",
         "2025-07-15T16:41:07.773Z",
         17,
         "2025-07-16T08:07:11.208Z",
         "2025-07-16T08:07:11.208Z"
        ],
        [
         "P0097",
         "Kristen Bailey",
         "Male",
         "Bermuda",
         "2025-07-15T16:41:07.773Z",
         18,
         "2025-07-16T08:07:11.208Z",
         "2025-07-16T08:07:11.208Z"
        ],
        [
         "P0114",
         "Charles Stanley",
         "Female",
         "Tonga",
         "2025-07-15T16:41:07.773Z",
         19,
         "2025-07-16T08:07:11.208Z",
         "2025-07-16T08:07:11.208Z"
        ],
        [
         "P0123",
         "Stephanie Rush",
         "Female",
         "Belgium",
         "2025-07-15T16:41:07.773Z",
         20,
         "2025-07-16T08:07:11.208Z",
         "2025-07-16T08:07:11.208Z"
        ],
        [
         "P0130",
         "Gregory Alexander",
         "Female",
         "Slovakia (Slovak Republic)",
         "2025-07-15T16:41:07.773Z",
         21,
         "2025-07-16T08:07:11.208Z",
         "2025-07-16T08:07:11.208Z"
        ],
        [
         "P0135",
         "David Hamilton",
         "Female",
         "Sri Lanka",
         "2025-07-15T16:41:07.773Z",
         22,
         "2025-07-16T08:07:11.208Z",
         "2025-07-16T08:07:11.208Z"
        ],
        [
         "P0138",
         "Christopher Wilkinson",
         "Male",
         "Canada",
         "2025-07-15T16:41:07.773Z",
         23,
         "2025-07-16T08:07:11.208Z",
         "2025-07-16T08:07:11.208Z"
        ],
        [
         "P0142",
         "Dr. Nancy Jacobs PhD",
         "Male",
         "Belgium",
         "2025-07-15T16:41:07.773Z",
         24,
         "2025-07-16T08:07:11.208Z",
         "2025-07-16T08:07:11.208Z"
        ],
        [
         "P0146",
         "Phillip Myers",
         "Female",
         "Slovenia",
         "2025-07-15T16:41:07.773Z",
         25,
         "2025-07-16T08:07:11.208Z",
         "2025-07-16T08:07:11.208Z"
        ],
        [
         "P0148",
         "James Camacho",
         "Male",
         "Switzerland",
         "2025-07-15T16:41:07.773Z",
         26,
         "2025-07-16T08:07:11.208Z",
         "2025-07-16T08:07:11.208Z"
        ],
        [
         "P0159",
         "Nicholas Williams",
         "Male",
         "Austria",
         "2025-07-15T16:41:07.773Z",
         27,
         "2025-07-16T08:07:11.208Z",
         "2025-07-16T08:07:11.208Z"
        ],
        [
         "P0171",
         "Brittany Smith",
         "Female",
         "Australia",
         "2025-07-15T16:41:07.773Z",
         28,
         "2025-07-16T08:07:11.208Z",
         "2025-07-16T08:07:11.208Z"
        ],
        [
         "P0195",
         "Lisa Bautista",
         "Male",
         "Honduras",
         "2025-07-15T16:41:07.773Z",
         29,
         "2025-07-16T08:07:11.208Z",
         "2025-07-16T08:07:11.208Z"
        ],
        [
         "P0005",
         "Mike Kim",
         "Male",
         "Taiwan",
         "2025-07-15T16:41:07.773Z",
         30,
         "2025-07-16T08:07:11.208Z",
         "2025-07-16T08:07:11.208Z"
        ],
        [
         "P0040",
         "Troy Green",
         "Female",
         "Macao",
         "2025-07-15T16:41:07.773Z",
         31,
         "2025-07-16T08:07:11.208Z",
         "2025-07-16T08:07:11.208Z"
        ],
        [
         "P0077",
         "Audrey Rodriguez",
         "Female",
         "Saint Barthelemy",
         "2025-07-15T16:41:07.773Z",
         32,
         "2025-07-16T08:07:11.208Z",
         "2025-07-16T08:07:11.208Z"
        ],
        [
         "P0083",
         "Natalie Jones",
         "Male",
         "Faroe Islands",
         "2025-07-15T16:41:07.773Z",
         33,
         "2025-07-16T08:07:11.208Z",
         "2025-07-16T08:07:11.208Z"
        ],
        [
         "P0090",
         "Ryan Anderson",
         "Male",
         "Spain",
         "2025-07-15T16:41:07.773Z",
         34,
         "2025-07-16T08:07:11.208Z",
         "2025-07-16T08:07:11.208Z"
        ],
        [
         "P0091",
         "Kenneth Dean",
         "Female",
         "Bhutan",
         "2025-07-15T16:41:07.773Z",
         35,
         "2025-07-16T08:07:11.208Z",
         "2025-07-16T08:07:11.208Z"
        ],
        [
         "P0115",
         "Diana Fisher",
         "Male",
         "Netherlands",
         "2025-07-15T16:41:07.773Z",
         37,
         "2025-07-16T08:07:11.208Z",
         "2025-07-16T08:07:11.208Z"
        ],
        [
         "P0122",
         "Joshua White",
         "Male",
         "Bouvet Island (Bouvetoya)",
         "2025-07-15T16:41:07.773Z",
         38,
         "2025-07-16T08:07:11.208Z",
         "2025-07-16T08:07:11.208Z"
        ],
        [
         "P0133",
         "Scott Morales",
         "Male",
         "Angola",
         "2025-07-15T16:41:07.773Z",
         39,
         "2025-07-16T08:07:11.208Z",
         "2025-07-16T08:07:11.208Z"
        ],
        [
         "P0160",
         "Juan Pineda",
         "Male",
         "Burkina Faso",
         "2025-07-15T16:41:07.773Z",
         40,
         "2025-07-16T08:07:11.208Z",
         "2025-07-16T08:07:11.208Z"
        ],
        [
         "P0167",
         "Michael Diaz",
         "Female",
         "Kiribati",
         "2025-07-15T16:41:07.773Z",
         41,
         "2025-07-16T08:07:11.208Z",
         "2025-07-16T08:07:11.208Z"
        ],
        [
         "P0177",
         "Eric Tucker",
         "Female",
         "Zambia",
         "2025-07-15T16:41:07.773Z",
         42,
         "2025-07-16T08:07:11.208Z",
         "2025-07-16T08:07:11.208Z"
        ],
        [
         "P0189",
         "Joel Gomez",
         "Female",
         "Bulgaria",
         "2025-07-15T16:41:07.773Z",
         43,
         "2025-07-16T08:07:11.208Z",
         "2025-07-16T08:07:11.208Z"
        ],
        [
         "P0011",
         "Michael Anderson MD",
         "Female",
         "Czech Republic",
         "2025-07-15T16:41:07.773Z",
         44,
         "2025-07-16T08:07:11.208Z",
         "2025-07-16T08:07:11.208Z"
        ],
        [
         "P0020",
         "Xavier Rivera",
         "Female",
         "Timor-Leste",
         "2025-07-15T16:41:07.773Z",
         45,
         "2025-07-16T08:07:11.208Z",
         "2025-07-16T08:07:11.208Z"
        ],
        [
         "P0045",
         "Mary Mann",
         "Female",
         "Sri Lanka",
         "2025-07-15T16:41:07.773Z",
         47,
         "2025-07-16T08:07:11.208Z",
         "2025-07-16T08:07:11.208Z"
        ],
        [
         "P0088",
         "Austin Murphy",
         "Female",
         "Lao People's Democratic Republic",
         "2025-07-15T16:41:07.773Z",
         48,
         "2025-07-16T08:07:11.208Z",
         "2025-07-16T08:07:11.208Z"
        ],
        [
         "P0110",
         "Eric Stephens",
         "Female",
         "Guyana",
         "2025-07-15T16:41:07.773Z",
         49,
         "2025-07-16T08:07:11.208Z",
         "2025-07-16T08:07:11.208Z"
        ],
        [
         "P0125",
         "Katherine Aguilar",
         "Male",
         "Cambodia",
         "2025-07-15T16:41:07.773Z",
         51,
         "2025-07-16T08:07:11.208Z",
         "2025-07-16T08:07:11.208Z"
        ],
        [
         "P0136",
         "Melinda Smith",
         "Female",
         "Swaziland",
         "2025-07-15T16:41:07.773Z",
         52,
         "2025-07-16T08:07:11.208Z",
         "2025-07-16T08:07:11.208Z"
        ],
        [
         "P0152",
         "Kristin Cole",
         "Male",
         "Saint Lucia",
         "2025-07-15T16:41:07.773Z",
         54,
         "2025-07-16T08:07:11.208Z",
         "2025-07-16T08:07:11.208Z"
        ],
        [
         "P0169",
         "Jessica Sampson",
         "Female",
         "Northern Mariana Islands",
         "2025-07-15T16:41:07.773Z",
         55,
         "2025-07-16T08:07:11.208Z",
         "2025-07-16T08:07:11.208Z"
        ],
        [
         "P0034",
         "Victoria Franklin",
         "Female",
         "Spain",
         "2025-07-15T16:41:07.773Z",
         56,
         "2025-07-16T08:07:11.208Z",
         "2025-07-16T08:07:11.208Z"
        ],
        [
         "P0036",
         "Abigail Brown",
         "Male",
         "France",
         "2025-07-15T16:41:07.773Z",
         57,
         "2025-07-16T08:07:11.208Z",
         "2025-07-16T08:07:11.208Z"
        ],
        [
         "P0082",
         "Sarah House",
         "Female",
         "Cook Islands",
         "2025-07-15T16:41:07.773Z",
         58,
         "2025-07-16T08:07:11.208Z",
         "2025-07-16T08:07:11.208Z"
        ],
        [
         "P0084",
         "Troy White",
         "Female",
         "Tokelau",
         "2025-07-15T16:41:07.773Z",
         59,
         "2025-07-16T08:07:11.208Z",
         "2025-07-16T08:07:11.208Z"
        ],
        [
         "P0087",
         "Andrew Carr",
         "Male",
         "Andorra",
         "2025-07-15T16:41:07.773Z",
         60,
         "2025-07-16T08:07:11.208Z",
         "2025-07-16T08:07:11.208Z"
        ],
        [
         "P0094",
         "Kristen Pierce",
         "Male",
         "Tonga",
         "2025-07-15T16:41:07.773Z",
         61,
         "2025-07-16T08:07:11.208Z",
         "2025-07-16T08:07:11.208Z"
        ],
        [
         "P0100",
         "Benjamin Cowan",
         "Male",
         "Namibia",
         "2025-07-15T16:41:07.773Z",
         62,
         "2025-07-16T08:07:11.208Z",
         "2025-07-16T08:07:11.208Z"
        ],
        [
         "P0141",
         "Joshua Richardson",
         "Female",
         "Northern Mariana Islands",
         "2025-07-15T16:41:07.773Z",
         63,
         "2025-07-16T08:07:11.208Z",
         "2025-07-16T08:07:11.208Z"
        ],
        [
         "P0150",
         "Charles Wade",
         "Male",
         "El Salvador",
         "2025-07-15T16:41:07.773Z",
         64,
         "2025-07-16T08:07:11.208Z",
         "2025-07-16T08:07:11.208Z"
        ],
        [
         "P0163",
         "Benjamin Aguilar",
         "Female",
         "Netherlands Antilles",
         "2025-07-15T16:41:07.773Z",
         65,
         "2025-07-16T08:07:11.208Z",
         "2025-07-16T08:07:11.208Z"
        ],
        [
         "P0164",
         "Andrew Snyder",
         "Male",
         "Gabon",
         "2025-07-15T16:41:07.773Z",
         66,
         "2025-07-16T08:07:11.208Z",
         "2025-07-16T08:07:11.208Z"
        ],
        [
         "P0013",
         "Christine Young",
         "Male",
         "Iran",
         "2025-07-15T16:41:07.773Z",
         67,
         "2025-07-16T08:07:11.208Z",
         "2025-07-16T08:07:11.208Z"
        ],
        [
         "P0038",
         "Heather Garcia",
         "Male",
         "Isle of Man",
         "2025-07-15T16:41:07.773Z",
         68,
         "2025-07-16T08:07:11.208Z",
         "2025-07-16T08:07:11.208Z"
        ],
        [
         "P0060",
         "Megan Watts",
         "Male",
         "Bahrain",
         "2025-07-15T16:41:07.773Z",
         69,
         "2025-07-16T08:07:11.208Z",
         "2025-07-16T08:07:11.208Z"
        ],
        [
         "P0061",
         "Kelsey Andrews",
         "Female",
         "Solomon Islands",
         "2025-07-15T16:41:07.773Z",
         70,
         "2025-07-16T08:07:11.208Z",
         "2025-07-16T08:07:11.208Z"
        ],
        [
         "P0107",
         "Brittany Young",
         "Female",
         "Taiwan",
         "2025-07-15T16:41:07.773Z",
         71,
         "2025-07-16T08:07:11.208Z",
         "2025-07-16T08:07:11.208Z"
        ],
        [
         "P0111",
         "Cheyenne Estes",
         "Male",
         "Nepal",
         "2025-07-15T16:41:07.773Z",
         72,
         "2025-07-16T08:07:11.208Z",
         "2025-07-16T08:07:11.208Z"
        ],
        [
         "P0128",
         "Nicole Walters",
         "Male",
         "Dominica",
         "2025-07-15T16:41:07.773Z",
         73,
         "2025-07-16T08:07:11.208Z",
         "2025-07-16T08:07:11.208Z"
        ],
        [
         "P0131",
         "Dr. Kyle Salazar",
         "Male",
         "Brazil",
         "2025-07-15T16:41:07.773Z",
         74,
         "2025-07-16T08:07:11.208Z",
         "2025-07-16T08:07:11.208Z"
        ],
        [
         "P0139",
         "Brent Johnson",
         "Female",
         "Bahamas",
         "2025-07-15T16:41:07.773Z",
         75,
         "2025-07-16T08:07:11.208Z",
         "2025-07-16T08:07:11.208Z"
        ],
        [
         "P0188",
         "Yvette Morton",
         "Female",
         "Vanuatu",
         "2025-07-15T16:41:07.773Z",
         77,
         "2025-07-16T08:07:11.208Z",
         "2025-07-16T08:07:11.208Z"
        ],
        [
         "P0001",
         "Kevin Ferguson",
         "Male",
         "Reunion",
         "2025-07-15T16:41:07.773Z",
         78,
         "2025-07-16T08:07:11.208Z",
         "2025-07-16T08:07:11.208Z"
        ],
        [
         "P0026",
         "Anita Jones",
         "Female",
         "Comoros",
         "2025-07-15T16:41:07.773Z",
         79,
         "2025-07-16T08:07:11.208Z",
         "2025-07-16T08:07:11.208Z"
        ],
        [
         "P0145",
         "Michael Simmons",
         "Female",
         "Cape Verde",
         "2025-07-15T16:41:07.773Z",
         80,
         "2025-07-16T08:07:11.208Z",
         "2025-07-16T08:07:11.208Z"
        ],
        [
         "P0153",
         "Melissa Patterson",
         "Female",
         "Cambodia",
         "2025-07-15T16:41:07.773Z",
         81,
         "2025-07-16T08:07:11.208Z",
         "2025-07-16T08:07:11.208Z"
        ],
        [
         "P0170",
         "Julie Sullivan",
         "Female",
         "Ireland",
         "2025-07-15T16:41:07.773Z",
         83,
         "2025-07-16T08:07:11.208Z",
         "2025-07-16T08:07:11.208Z"
        ],
        [
         "P0173",
         "Mary Avila",
         "Male",
         "Rwanda",
         "2025-07-15T16:41:07.773Z",
         84,
         "2025-07-16T08:07:11.208Z",
         "2025-07-16T08:07:11.208Z"
        ],
        [
         "P0176",
         "Martin Prince",
         "Male",
         "Central African Republic",
         "2025-07-15T16:41:07.773Z",
         85,
         "2025-07-16T08:07:11.208Z",
         "2025-07-16T08:07:11.208Z"
        ],
        [
         "P0199",
         "Marie Gonzales",
         "Male",
         "Kazakhstan",
         "2025-07-15T16:41:07.773Z",
         87,
         "2025-07-16T08:07:11.208Z",
         "2025-07-16T08:07:11.208Z"
        ],
        [
         "P0044",
         "Lindsey Robinson",
         "Male",
         "Bermuda",
         "2025-07-15T16:41:07.773Z",
         88,
         "2025-07-16T08:07:11.208Z",
         "2025-07-16T08:07:11.208Z"
        ],
        [
         "P0046",
         "Matthew Evans",
         "Female",
         "Guadeloupe",
         "2025-07-15T16:41:07.773Z",
         89,
         "2025-07-16T08:07:11.208Z",
         "2025-07-16T08:07:11.208Z"
        ],
        [
         "P0064",
         "Pam Garcia",
         "Male",
         "Thailand",
         "2025-07-15T16:41:07.773Z",
         90,
         "2025-07-16T08:07:11.208Z",
         "2025-07-16T08:07:11.208Z"
        ],
        [
         "P0074",
         "Shelley Green",
         "Male",
         "Guyana",
         "2025-07-15T16:41:07.773Z",
         91,
         "2025-07-16T08:07:11.208Z",
         "2025-07-16T08:07:11.208Z"
        ],
        [
         "P0096",
         "Erika Hall",
         "Male",
         "Kenya",
         "2025-07-15T16:41:07.773Z",
         92,
         "2025-07-16T08:07:11.208Z",
         "2025-07-16T08:07:11.208Z"
        ],
        [
         "P0099",
         "Ryan Curry",
         "Female",
         "Qatar",
         "2025-07-15T16:41:07.773Z",
         93,
         "2025-07-16T08:07:11.208Z",
         "2025-07-16T08:07:11.208Z"
        ],
        [
         "P0116",
         "Richard Mayer",
         "Male",
         "Cayman Islands",
         "2025-07-15T16:41:07.773Z",
         94,
         "2025-07-16T08:07:11.208Z",
         "2025-07-16T08:07:11.208Z"
        ],
        [
         "P0129",
         "Desiree Gonzales",
         "Female",
         "Saint Helena",
         "2025-07-15T16:41:07.773Z",
         95,
         "2025-07-16T08:07:11.208Z",
         "2025-07-16T08:07:11.208Z"
        ],
        [
         "P0161",
         "Edward Morris",
         "Female",
         "Syrian Arab Republic",
         "2025-07-15T16:41:07.773Z",
         96,
         "2025-07-16T08:07:11.208Z",
         "2025-07-16T08:07:11.208Z"
        ],
        [
         "P0180",
         "Chelsea Copeland",
         "Female",
         "Bolivia",
         "2025-07-15T16:41:07.773Z",
         97,
         "2025-07-16T08:07:11.208Z",
         "2025-07-16T08:07:11.208Z"
        ],
        [
         "P0181",
         "Ryan Jenkins",
         "Female",
         "Lao People's Democratic Republic",
         "2025-07-15T16:41:07.773Z",
         98,
         "2025-07-16T08:07:11.208Z",
         "2025-07-16T08:07:11.208Z"
        ],
        [
         "P0006",
         "Diana Adams",
         "Male",
         "Mayotte",
         "2025-07-15T16:41:07.773Z",
         99,
         "2025-07-16T08:07:11.208Z",
         "2025-07-16T08:07:11.208Z"
        ],
        [
         "P0015",
         "Brittany Schultz",
         "Female",
         "Tokelau",
         "2025-07-15T16:41:07.773Z",
         100,
         "2025-07-16T08:07:11.208Z",
         "2025-07-16T08:07:11.208Z"
        ],
        [
         "P0019",
         "Brittney Morgan",
         "Female",
         "Congo",
         "2025-07-15T16:41:07.773Z",
         101,
         "2025-07-16T08:07:11.208Z",
         "2025-07-16T08:07:11.208Z"
        ],
        [
         "P0054",
         "Benjamin Mata",
         "Male",
         "Croatia",
         "2025-07-15T16:41:07.773Z",
         102,
         "2025-07-16T08:07:11.208Z",
         "2025-07-16T08:07:11.208Z"
        ],
        [
         "P0069",
         "Taylor Stephenson",
         "Female",
         "Spain",
         "2025-07-15T16:41:07.773Z",
         103,
         "2025-07-16T08:07:11.208Z",
         "2025-07-16T08:07:11.208Z"
        ],
        [
         "P0075",
         "Patrick Lyons",
         "Female",
         "Mayotte",
         "2025-07-15T16:41:07.773Z",
         104,
         "2025-07-16T08:07:11.208Z",
         "2025-07-16T08:07:11.208Z"
        ],
        [
         "P0079",
         "Tracy Russo",
         "Male",
         "Iceland",
         "2025-07-15T16:41:07.773Z",
         105,
         "2025-07-16T08:07:11.208Z",
         "2025-07-16T08:07:11.208Z"
        ],
        [
         "P0089",
         "Daniel Jones",
         "Female",
         "Costa Rica",
         "2025-07-15T16:41:07.773Z",
         106,
         "2025-07-16T08:07:11.208Z",
         "2025-07-16T08:07:11.208Z"
        ],
        [
         "P0092",
         "Robert Mason",
         "Male",
         "Micronesia",
         "2025-07-15T16:41:07.773Z",
         107,
         "2025-07-16T08:07:11.208Z",
         "2025-07-16T08:07:11.208Z"
        ],
        [
         "P0101",
         "Dale Figueroa",
         "Female",
         "Albania",
         "2025-07-15T16:41:07.773Z",
         108,
         "2025-07-16T08:07:11.208Z",
         "2025-07-16T08:07:11.208Z"
        ],
        [
         "P0140",
         "Mark Taylor",
         "Male",
         "Kyrgyz Republic",
         "2025-07-15T16:41:07.773Z",
         109,
         "2025-07-16T08:07:11.208Z",
         "2025-07-16T08:07:11.208Z"
        ],
        [
         "P0009",
         "Allen Lowery",
         "Male",
         "Rwanda",
         "2025-07-15T16:41:07.773Z",
         111,
         "2025-07-16T08:07:11.208Z",
         "2025-07-16T08:07:11.208Z"
        ],
        [
         "P0010",
         "Maria Medina",
         "Male",
         "Denmark",
         "2025-07-15T16:41:07.773Z",
         112,
         "2025-07-16T08:07:11.208Z",
         "2025-07-16T08:07:11.208Z"
        ],
        [
         "P0028",
         "Juan Sweeney",
         "Female",
         "Yemen",
         "2025-07-15T16:41:07.773Z",
         113,
         "2025-07-16T08:07:11.208Z",
         "2025-07-16T08:07:11.208Z"
        ],
        [
         "P0030",
         "Daniel Rush",
         "Male",
         "Tunisia",
         "2025-07-15T16:41:07.773Z",
         114,
         "2025-07-16T08:07:11.208Z",
         "2025-07-16T08:07:11.208Z"
        ],
        [
         "P0042",
         "Nicholas Garcia",
         "Female",
         "Germany",
         "2025-07-15T16:41:07.773Z",
         115,
         "2025-07-16T08:07:11.208Z",
         "2025-07-16T08:07:11.208Z"
        ],
        [
         "P0052",
         "Jill Brennan",
         "Female",
         "Togo",
         "2025-07-15T16:41:07.773Z",
         116,
         "2025-07-16T08:07:11.208Z",
         "2025-07-16T08:07:11.208Z"
        ],
        [
         "P0093",
         "Austin Ortega DVM",
         "Female",
         "Korea",
         "2025-07-15T16:41:07.773Z",
         117,
         "2025-07-16T08:07:11.208Z",
         "2025-07-16T08:07:11.208Z"
        ],
        [
         "P0112",
         "William Bailey",
         "Male",
         "Micronesia",
         "2025-07-15T16:41:07.773Z",
         118,
         "2025-07-16T08:07:11.208Z",
         "2025-07-16T08:07:11.208Z"
        ],
        [
         "P0118",
         "Anita Figueroa",
         "Male",
         "Mauritania",
         "2025-07-15T16:41:07.773Z",
         119,
         "2025-07-16T08:07:11.208Z",
         "2025-07-16T08:07:11.208Z"
        ],
        [
         "P0132",
         "Makayla Robbins",
         "Male",
         "Kazakhstan",
         "2025-07-15T16:41:07.773Z",
         120,
         "2025-07-16T08:07:11.208Z",
         "2025-07-16T08:07:11.208Z"
        ],
        [
         "P0147",
         "Joshua Mendoza",
         "Male",
         "Tokelau",
         "2025-07-15T16:41:07.773Z",
         121,
         "2025-07-16T08:07:11.208Z",
         "2025-07-16T08:07:11.208Z"
        ],
        [
         "P0183",
         "Benjamin Garcia",
         "Female",
         "Saint Pierre and Miquelon",
         "2025-07-15T16:41:07.773Z",
         122,
         "2025-07-16T08:07:11.208Z",
         "2025-07-16T08:07:11.208Z"
        ],
        [
         "P0185",
         "Karen Maynard",
         "Male",
         "Romania",
         "2025-07-15T16:41:07.773Z",
         123,
         "2025-07-16T08:07:11.208Z",
         "2025-07-16T08:07:11.208Z"
        ],
        [
         "P0190",
         "Joyce Parker",
         "Male",
         "Lebanon",
         "2025-07-15T16:41:07.773Z",
         124,
         "2025-07-16T08:07:11.208Z",
         "2025-07-16T08:07:11.208Z"
        ],
        [
         "P0008",
         "Cheryl Glenn",
         "Male",
         "Maldives",
         "2025-07-15T16:41:07.773Z",
         125,
         "2025-07-16T08:07:11.208Z",
         "2025-07-16T08:07:11.208Z"
        ],
        [
         "P0027",
         "Spencer Grimes Jr.",
         "Female",
         "Portugal",
         "2025-07-15T16:41:07.773Z",
         126,
         "2025-07-16T08:07:11.208Z",
         "2025-07-16T08:07:11.208Z"
        ],
        [
         "P0031",
         "Jesus Clark",
         "Female",
         "Namibia",
         "2025-07-15T16:41:07.773Z",
         127,
         "2025-07-16T08:07:11.208Z",
         "2025-07-16T08:07:11.208Z"
        ],
        [
         "P0048",
         "Jonathan Martinez",
         "Male",
         "Mayotte",
         "2025-07-15T16:41:07.773Z",
         128,
         "2025-07-16T08:07:11.208Z",
         "2025-07-16T08:07:11.208Z"
        ],
        [
         "P0056",
         "Joseph James",
         "Male",
         "Turks and Caicos Islands",
         "2025-07-15T16:41:07.773Z",
         129,
         "2025-07-16T08:07:11.208Z",
         "2025-07-16T08:07:11.208Z"
        ],
        [
         "P0062",
         "Maria Gibbs",
         "Female",
         "Taiwan",
         "2025-07-15T16:41:07.773Z",
         130,
         "2025-07-16T08:07:11.208Z",
         "2025-07-16T08:07:11.208Z"
        ],
        [
         "P0063",
         "Mark Martin",
         "Male",
         "Saint Helena",
         "2025-07-15T16:41:07.773Z",
         131,
         "2025-07-16T08:07:11.208Z",
         "2025-07-16T08:07:11.208Z"
        ],
        [
         "P0065",
         "Daniel Ray",
         "Female",
         "Argentina",
         "2025-07-15T16:41:07.773Z",
         132,
         "2025-07-16T08:07:11.208Z",
         "2025-07-16T08:07:11.208Z"
        ],
        [
         "P0078",
         "Darlene Perez",
         "Female",
         "Cyprus",
         "2025-07-15T16:41:07.773Z",
         133,
         "2025-07-16T08:07:11.208Z",
         "2025-07-16T08:07:11.208Z"
        ],
        [
         "P0095",
         "Kelsey Hill",
         "Male",
         "Cook Islands",
         "2025-07-15T16:41:07.773Z",
         134,
         "2025-07-16T08:07:11.208Z",
         "2025-07-16T08:07:11.208Z"
        ],
        [
         "P0126",
         "Charles Wilson",
         "Male",
         "Palau",
         "2025-07-15T16:41:07.773Z",
         135,
         "2025-07-16T08:07:11.208Z",
         "2025-07-16T08:07:11.208Z"
        ],
        [
         "P0162",
         "Rebecca Hendricks",
         "Male",
         "Faroe Islands",
         "2025-07-15T16:41:07.773Z",
         136,
         "2025-07-16T08:07:11.208Z",
         "2025-07-16T08:07:11.208Z"
        ],
        [
         "P0017",
         "Billy Williams",
         "Male",
         "Togo",
         "2025-07-15T16:41:07.773Z",
         137,
         "2025-07-16T08:07:11.208Z",
         "2025-07-16T08:07:11.208Z"
        ],
        [
         "P0029",
         "Tony Adams",
         "Female",
         "British Virgin Islands",
         "2025-07-15T16:41:07.773Z",
         138,
         "2025-07-16T08:07:11.208Z",
         "2025-07-16T08:07:11.208Z"
        ],
        [
         "P0039",
         "Krystal Mathews",
         "Male",
         "Cyprus",
         "2025-07-15T16:41:07.773Z",
         139,
         "2025-07-16T08:07:11.208Z",
         "2025-07-16T08:07:11.208Z"
        ],
        [
         "P0059",
         "Alexander Wells",
         "Male",
         "Bosnia and Herzegovina",
         "2025-07-15T16:41:07.773Z",
         140,
         "2025-07-16T08:07:11.208Z",
         "2025-07-16T08:07:11.208Z"
        ],
        [
         "P0068",
         "Timothy Goodwin",
         "Female",
         "Kuwait",
         "2025-07-15T16:41:07.773Z",
         141,
         "2025-07-16T08:07:11.208Z",
         "2025-07-16T08:07:11.208Z"
        ],
        [
         "P0086",
         "Gloria Williams",
         "Male",
         "Somalia",
         "2025-07-15T16:41:07.773Z",
         142,
         "2025-07-16T08:07:11.208Z",
         "2025-07-16T08:07:11.208Z"
        ],
        [
         "P0144",
         "Jennifer Gutierrez",
         "Female",
         "Bulgaria",
         "2025-07-15T16:41:07.773Z",
         143,
         "2025-07-16T08:07:11.208Z",
         "2025-07-16T08:07:11.208Z"
        ],
        [
         "P0165",
         "Jessica Hansen",
         "Male",
         "British Indian Ocean Territory (Chagos Archipelago)",
         "2025-07-15T16:41:07.773Z",
         144,
         "2025-07-16T08:07:11.208Z",
         "2025-07-16T08:07:11.208Z"
        ],
        [
         "P0168",
         "Norman Jones",
         "Female",
         "Faroe Islands",
         "2025-07-15T16:41:07.773Z",
         145,
         "2025-07-16T08:07:11.208Z",
         "2025-07-16T08:07:11.208Z"
        ],
        [
         "P0197",
         "Alicia Parks",
         "Male",
         "Georgia",
         "2025-07-15T16:41:07.773Z",
         146,
         "2025-07-16T08:07:11.208Z",
         "2025-07-16T08:07:11.208Z"
        ],
        [
         "P0025",
         "Christopher Kim",
         "Male",
         "Greece",
         "2025-07-15T16:41:07.773Z",
         147,
         "2025-07-16T08:07:11.208Z",
         "2025-07-16T08:07:11.208Z"
        ],
        [
         "P0050",
         "Brandon Smith",
         "Male",
         "Senegal",
         "2025-07-15T16:41:07.773Z",
         148,
         "2025-07-16T08:07:11.208Z",
         "2025-07-16T08:07:11.208Z"
        ],
        [
         "P0055",
         "William Tanner",
         "Female",
         "Guadeloupe",
         "2025-07-15T16:41:07.773Z",
         149,
         "2025-07-16T08:07:11.208Z",
         "2025-07-16T08:07:11.208Z"
        ],
        [
         "P0067",
         "Jimmy Smith",
         "Female",
         "China",
         "2025-07-15T16:41:07.773Z",
         150,
         "2025-07-16T08:07:11.208Z",
         "2025-07-16T08:07:11.208Z"
        ],
        [
         "P0070",
         "Anthony Ingram",
         "Male",
         "Papua New Guinea",
         "2025-07-15T16:41:07.773Z",
         151,
         "2025-07-16T08:07:11.208Z",
         "2025-07-16T08:07:11.208Z"
        ],
        [
         "P0098",
         "Andrea Mcknight",
         "Male",
         "Samoa",
         "2025-07-15T16:41:07.773Z",
         152,
         "2025-07-16T08:07:11.208Z",
         "2025-07-16T08:07:11.208Z"
        ],
        [
         "P0109",
         "Brian Mosley",
         "Male",
         "Brunei Darussalam",
         "2025-07-15T16:41:07.773Z",
         153,
         "2025-07-16T08:07:11.208Z",
         "2025-07-16T08:07:11.208Z"
        ],
        [
         "P0127",
         "Chloe Conway",
         "Male",
         "Brunei Darussalam",
         "2025-07-15T16:41:07.773Z",
         154,
         "2025-07-16T08:07:11.208Z",
         "2025-07-16T08:07:11.208Z"
        ],
        [
         "P0143",
         "Vincent Sanchez",
         "Female",
         "Tuvalu",
         "2025-07-15T16:41:07.773Z",
         155,
         "2025-07-16T08:07:11.208Z",
         "2025-07-16T08:07:11.208Z"
        ],
        [
         "P0175",
         "Sheri Novak",
         "Male",
         "Turks and Caicos Islands",
         "2025-07-15T16:41:07.773Z",
         156,
         "2025-07-16T08:07:11.208Z",
         "2025-07-16T08:07:11.208Z"
        ],
        [
         "P0184",
         "Evan Scott",
         "Female",
         "South Africa",
         "2025-07-15T16:41:07.773Z",
         157,
         "2025-07-16T08:07:11.208Z",
         "2025-07-16T08:07:11.208Z"
        ],
        [
         "P0187",
         "Christopher Wade",
         "Female",
         "Lesotho",
         "2025-07-15T16:41:07.773Z",
         158,
         "2025-07-16T08:07:11.208Z",
         "2025-07-16T08:07:11.208Z"
        ],
        [
         "P0037",
         "Cheryl Reyes",
         "Female",
         "French Guiana",
         "2025-07-15T16:41:07.773Z",
         159,
         "2025-07-16T08:07:11.208Z",
         "2025-07-16T08:07:11.208Z"
        ],
        [
         "P0043",
         "Gloria Hill",
         "Female",
         "Guadeloupe",
         "2025-07-15T16:41:07.773Z",
         160,
         "2025-07-16T08:07:11.208Z",
         "2025-07-16T08:07:11.208Z"
        ],
        [
         "P0102",
         "Michael Collins",
         "Male",
         "Turkey",
         "2025-07-15T16:41:07.773Z",
         161,
         "2025-07-16T08:07:11.208Z",
         "2025-07-16T08:07:11.208Z"
        ],
        [
         "P0105",
         "James Frederick",
         "Female",
         "Cote d'Ivoire",
         "2025-07-15T16:41:07.773Z",
         162,
         "2025-07-16T08:07:11.208Z",
         "2025-07-16T08:07:11.208Z"
        ],
        [
         "P0117",
         "Scott Acosta",
         "Female",
         "Hong Kong",
         "2025-07-15T16:41:07.773Z",
         163,
         "2025-07-16T08:07:11.208Z",
         "2025-07-16T08:07:11.208Z"
        ],
        [
         "P0121",
         "Bethany Foley",
         "Male",
         "Romania",
         "2025-07-15T16:41:07.773Z",
         164,
         "2025-07-16T08:07:11.208Z",
         "2025-07-16T08:07:11.208Z"
        ],
        [
         "P0124",
         "Alyssa Herrera",
         "Female",
         "Martinique",
         "2025-07-15T16:41:07.773Z",
         165,
         "2025-07-16T08:07:11.208Z",
         "2025-07-16T08:07:11.208Z"
        ],
        [
         "P0137",
         "Vanessa Fuller",
         "Female",
         "Moldova",
         "2025-07-15T16:41:07.773Z",
         166,
         "2025-07-16T08:07:11.208Z",
         "2025-07-16T08:07:11.208Z"
        ],
        [
         "P0156",
         "Nicole Drake",
         "Female",
         "Jordan",
         "2025-07-15T16:41:07.773Z",
         167,
         "2025-07-16T08:07:11.208Z",
         "2025-07-16T08:07:11.208Z"
        ],
        [
         "P0157",
         "Daniel Sawyer",
         "Male",
         "Mayotte",
         "2025-07-15T16:41:07.773Z",
         168,
         "2025-07-16T08:07:11.208Z",
         "2025-07-16T08:07:11.208Z"
        ],
        [
         "P0179",
         "Shelby Tucker",
         "Male",
         "Malaysia",
         "2025-07-15T16:41:07.773Z",
         169,
         "2025-07-16T08:07:11.208Z",
         "2025-07-16T08:07:11.208Z"
        ],
        [
         "P0182",
         "Eric Martin",
         "Female",
         "Mauritius",
         "2025-07-15T16:41:07.773Z",
         170,
         "2025-07-16T08:07:11.208Z",
         "2025-07-16T08:07:11.208Z"
        ],
        [
         "P0193",
         "Dr. Justin Rivera",
         "Male",
         "India",
         "2025-07-15T16:41:07.773Z",
         171,
         "2025-07-16T08:07:11.208Z",
         "2025-07-16T08:07:11.208Z"
        ],
        [
         "P0200",
         "Jim Berry",
         "Female",
         "Trinidad and Tobago",
         "2025-07-15T16:41:07.773Z",
         172,
         "2025-07-16T08:07:11.208Z",
         "2025-07-16T08:07:11.208Z"
        ],
        [
         "P0016",
         "Michael Terry",
         "Female",
         "El Salvador",
         "2025-07-15T16:41:07.773Z",
         173,
         "2025-07-16T08:07:11.208Z",
         "2025-07-16T08:07:11.208Z"
        ],
        [
         "P0024",
         "Jordan Moore",
         "Female",
         "Aruba",
         "2025-07-15T16:41:07.773Z",
         174,
         "2025-07-16T08:07:11.208Z",
         "2025-07-16T08:07:11.208Z"
        ],
        [
         "P0047",
         "Virginia Vance",
         "Female",
         "British Indian Ocean Territory (Chagos Archipelago)",
         "2025-07-15T16:41:07.773Z",
         175,
         "2025-07-16T08:07:11.208Z",
         "2025-07-16T08:07:11.208Z"
        ],
        [
         "P0053",
         "Glenda Silva",
         "Female",
         "Guinea",
         "2025-07-15T16:41:07.773Z",
         176,
         "2025-07-16T08:07:11.208Z",
         "2025-07-16T08:07:11.208Z"
        ],
        [
         "P0076",
         "Edward Nelson",
         "Male",
         "Reunion",
         "2025-07-15T16:41:07.773Z",
         177,
         "2025-07-16T08:07:11.208Z",
         "2025-07-16T08:07:11.208Z"
        ],
        [
         "P0172",
         "Noah Herrera",
         "Female",
         "Monaco",
         "2025-07-15T16:41:07.773Z",
         178,
         "2025-07-16T08:07:11.208Z",
         "2025-07-16T08:07:11.208Z"
        ],
        [
         "P0174",
         "Michael Johnson",
         "Female",
         "Chad",
         "2025-07-15T16:41:07.773Z",
         179,
         "2025-07-16T08:07:11.208Z",
         "2025-07-16T08:07:11.208Z"
        ],
        [
         "P0178",
         "Brenda Dennis",
         "Male",
         "Saint Lucia",
         "2025-07-15T16:41:07.773Z",
         180,
         "2025-07-16T08:07:11.208Z",
         "2025-07-16T08:07:11.208Z"
        ],
        [
         "P0194",
         "Tommy Baker",
         "Male",
         "Venezuela",
         "2025-07-15T16:41:07.773Z",
         181,
         "2025-07-16T08:07:11.208Z",
         "2025-07-16T08:07:11.208Z"
        ],
        [
         "P0198",
         "Timothy Carroll",
         "Male",
         "Korea",
         "2025-07-15T16:41:07.773Z",
         182,
         "2025-07-16T08:07:11.208Z",
         "2025-07-16T08:07:11.208Z"
        ],
        [
         "P0003",
         "Cynthia Frazier",
         "Male",
         "Marshall Islands",
         "2025-07-15T16:41:07.773Z",
         183,
         "2025-07-16T08:07:11.208Z",
         "2025-07-16T08:07:11.208Z"
        ],
        [
         "P0012",
         "Samantha Barnes",
         "Female",
         "British Virgin Islands",
         "2025-07-15T16:41:07.773Z",
         184,
         "2025-07-16T08:07:11.208Z",
         "2025-07-16T08:07:11.208Z"
        ],
        [
         "P0018",
         "Kyle Carter",
         "Female",
         "Lebanon",
         "2025-07-15T16:41:07.773Z",
         185,
         "2025-07-16T08:07:11.208Z",
         "2025-07-16T08:07:11.208Z"
        ],
        [
         "P0021",
         "Nicholas Ritter",
         "Female",
         "Korea",
         "2025-07-15T16:41:07.773Z",
         186,
         "2025-07-16T08:07:11.208Z",
         "2025-07-16T08:07:11.208Z"
        ],
        [
         "P0035",
         "Gina Lee",
         "Male",
         "Samoa",
         "2025-07-15T16:41:07.773Z",
         187,
         "2025-07-16T08:07:11.208Z",
         "2025-07-16T08:07:11.208Z"
        ],
        [
         "P0058",
         "William Meza",
         "Male",
         "Central African Republic",
         "2025-07-15T16:41:07.773Z",
         188,
         "2025-07-16T08:07:11.208Z",
         "2025-07-16T08:07:11.208Z"
        ],
        [
         "P0066",
         "Brandi Maddox",
         "Male",
         "Senegal",
         "2025-07-15T16:41:07.773Z",
         189,
         "2025-07-16T08:07:11.208Z",
         "2025-07-16T08:07:11.208Z"
        ],
        [
         "P0071",
         "Jeanette Garrison",
         "Male",
         "Andorra",
         "2025-07-15T16:41:07.773Z",
         190,
         "2025-07-16T08:07:11.208Z",
         "2025-07-16T08:07:11.208Z"
        ],
        [
         "P0072",
         "Seth Salazar",
         "Female",
         "Japan",
         "2025-07-15T16:41:07.773Z",
         191,
         "2025-07-16T08:07:11.208Z",
         "2025-07-16T08:07:11.208Z"
        ],
        [
         "P0073",
         "Tina Harris",
         "Male",
         "Korea",
         "2025-07-15T16:41:07.773Z",
         192,
         "2025-07-16T08:07:11.208Z",
         "2025-07-16T08:07:11.208Z"
        ],
        [
         "P0081",
         "Amy Kim MD",
         "Female",
         "New Caledonia",
         "2025-07-15T16:41:07.773Z",
         193,
         "2025-07-16T08:07:11.208Z",
         "2025-07-16T08:07:11.208Z"
        ],
        [
         "P0085",
         "Frederick Robertson",
         "Female",
         "Germany",
         "2025-07-15T16:41:07.773Z",
         194,
         "2025-07-16T08:07:11.208Z",
         "2025-07-16T08:07:11.208Z"
        ],
        [
         "P0103",
         "Nicholas Chapman",
         "Male",
         "Jersey",
         "2025-07-15T16:41:07.773Z",
         195,
         "2025-07-16T08:07:11.208Z",
         "2025-07-16T08:07:11.208Z"
        ],
        [
         "P0104",
         "Amy Rose",
         "Female",
         "British Virgin Islands",
         "2025-07-15T16:41:07.773Z",
         196,
         "2025-07-16T08:07:11.208Z",
         "2025-07-16T08:07:11.208Z"
        ],
        [
         "P0119",
         "Paul Sanchez",
         "Male",
         "Bouvet Island (Bouvetoya)",
         "2025-07-15T16:41:07.773Z",
         198,
         "2025-07-16T08:07:11.208Z",
         "2025-07-16T08:07:11.208Z"
        ],
        [
         "P0166",
         "Walter Thompson",
         "Male",
         "Malaysia",
         "2025-07-15T16:41:07.773Z",
         199,
         "2025-07-16T08:07:11.208Z",
         "2025-07-16T08:07:11.208Z"
        ],
        [
         "P0191",
         "Linda Moore",
         "Male",
         "Norfolk Island",
         "2025-07-15T16:41:07.773Z",
         200,
         "2025-07-16T08:07:11.208Z",
         "2025-07-16T08:07:11.208Z"
        ],
        [
         "P0206",
         "Amy Burns",
         "Female",
         "Malta",
         "2025-07-15T16:41:07.773Z",
         201,
         "2025-07-16T08:07:11.208Z",
         "2025-07-16T08:07:11.208Z"
        ],
        [
         "P0211",
         "Gregory Williams",
         "Female",
         "Trinidad and Tobago",
         "2025-07-15T16:41:07.773Z",
         202,
         "2025-07-16T08:07:11.208Z",
         "2025-07-16T08:07:11.208Z"
        ],
        [
         "P0212",
         "Suzanne Myers",
         "Male",
         "Algeria",
         "2025-07-15T16:41:07.773Z",
         203,
         "2025-07-16T08:07:11.208Z",
         "2025-07-16T08:07:11.208Z"
        ],
        [
         "P0216",
         "Michele Hunter",
         "Male",
         "Cambodia",
         "2025-07-15T16:41:07.773Z",
         204,
         "2025-07-16T08:07:11.208Z",
         "2025-07-16T08:07:11.208Z"
        ],
        [
         "P0209",
         "Christine Norman",
         "Female",
         "Sudan",
         "2025-07-15T16:41:07.773Z",
         205,
         "2025-07-16T08:07:11.208Z",
         "2025-07-16T08:07:11.208Z"
        ],
        [
         "P0220",
         "Robert Johnson",
         "Female",
         "Nigeria",
         "2025-07-15T16:41:07.773Z",
         206,
         "2025-07-16T08:07:11.208Z",
         "2025-07-16T08:07:11.208Z"
        ],
        [
         "P0215",
         "Alexander Smith",
         "Female",
         "Mali",
         "2025-07-15T16:41:07.773Z",
         207,
         "2025-07-16T08:07:11.208Z",
         "2025-07-16T08:07:11.208Z"
        ],
        [
         "P0219",
         "Mary Burke",
         "Female",
         "Heard Island and McDonald Islands",
         "2025-07-15T16:41:07.773Z",
         208,
         "2025-07-16T08:07:11.208Z",
         "2025-07-16T08:07:11.208Z"
        ],
        [
         "P0201",
         "Michele Perry",
         "Male",
         "Czech Republic",
         "2025-07-15T16:41:07.773Z",
         209,
         "2025-07-16T08:07:11.208Z",
         "2025-07-16T08:07:11.208Z"
        ],
        [
         "P0207",
         "Angela Sparks",
         "Male",
         "Nicaragua",
         "2025-07-15T16:41:07.773Z",
         210,
         "2025-07-16T08:07:11.208Z",
         "2025-07-16T08:07:11.208Z"
        ],
        [
         "P0214",
         "Vanessa Yang",
         "Female",
         "Bhutan",
         "2025-07-15T16:41:07.773Z",
         211,
         "2025-07-16T08:07:11.208Z",
         "2025-07-16T08:07:11.208Z"
        ],
        [
         "P0218",
         "David Rhodes",
         "Female",
         "Saint Vincent and the Grenadines",
         "2025-07-15T16:41:07.773Z",
         212,
         "2025-07-16T08:07:11.208Z",
         "2025-07-16T08:07:11.208Z"
        ],
        [
         "P0202",
         "Javier Mccormick",
         "Male",
         "Bolivia",
         "2025-07-15T16:41:07.773Z",
         213,
         "2025-07-16T08:07:11.208Z",
         "2025-07-16T08:07:11.208Z"
        ],
        [
         "P0205",
         "James Bender",
         "Female",
         "Saint Barthelemy",
         "2025-07-15T16:41:07.773Z",
         214,
         "2025-07-16T08:07:11.208Z",
         "2025-07-16T08:07:11.208Z"
        ],
        [
         "P0210",
         "Robert Davis",
         "Male",
         "Puerto Rico",
         "2025-07-15T16:41:07.773Z",
         215,
         "2025-07-16T08:07:11.208Z",
         "2025-07-16T08:07:11.208Z"
        ],
        [
         "P0203",
         "Michelle Alvarado",
         "Male",
         "Iraq",
         "2025-07-15T16:41:07.773Z",
         216,
         "2025-07-16T08:07:11.208Z",
         "2025-07-16T08:07:11.208Z"
        ],
        [
         "P0213",
         "Norman Daniel",
         "Female",
         "Korea",
         "2025-07-15T16:41:07.773Z",
         217,
         "2025-07-16T08:07:11.208Z",
         "2025-07-16T08:07:11.208Z"
        ],
        [
         "P0217",
         "Emily Buchanan",
         "Female",
         "Uganda",
         "2025-07-15T16:41:07.773Z",
         218,
         "2025-07-16T08:07:11.208Z",
         "2025-07-16T08:07:11.208Z"
        ],
        [
         "P0208",
         "Cynthia Salas",
         "Male",
         "United States of America",
         "2025-07-15T16:41:07.773Z",
         219,
         "2025-07-16T08:07:11.208Z",
         "2025-07-16T08:07:11.208Z"
        ],
        [
         "P0204",
         "Jamie Harrell",
         "Female",
         "Norway",
         "2025-07-15T16:41:07.773Z",
         220,
         "2025-07-16T08:07:11.208Z",
         "2025-07-16T08:07:11.208Z"
        ],
        [
         "P0049",
         "Justin Thomas",
         "Female",
         "Tokelau",
         "2025-07-16T08:26:59.574Z",
         7,
         "2025-07-16T08:07:11.208Z",
         "2025-07-16T08:33:39.553Z"
        ],
        [
         "P0108",
         "Brian Anderson",
         "Female",
         "Eritrea",
         "2025-07-16T08:26:59.574Z",
         36,
         "2025-07-16T08:07:11.208Z",
         "2025-07-16T08:33:39.553Z"
        ],
        [
         "P0032",
         "Daniel Douglas",
         "Male",
         "Singapore",
         "2025-07-16T08:26:59.574Z",
         46,
         "2025-07-16T08:07:11.208Z",
         "2025-07-16T08:33:39.553Z"
        ],
        [
         "P0113",
         "Brian Richardson",
         "Male",
         "Dominican Republic",
         "2025-07-16T08:26:59.574Z",
         50,
         "2025-07-16T08:07:11.208Z",
         "2025-07-16T08:33:39.553Z"
        ],
        [
         "P0149",
         "Katherine Bowen DVM",
         "Male",
         "Mexico",
         "2025-07-16T08:26:59.574Z",
         53,
         "2025-07-16T08:07:11.208Z",
         "2025-07-16T08:33:39.553Z"
        ],
        [
         "P0158",
         "Jamie Mcneil",
         "Male",
         "Burundi",
         "2025-07-16T08:26:59.574Z",
         76,
         "2025-07-16T08:07:11.208Z",
         "2025-07-16T08:33:39.553Z"
        ],
        [
         "P0155",
         "Robert Singleton",
         "Female",
         "Northern Mariana Islands",
         "2025-07-16T08:26:59.574Z",
         82,
         "2025-07-16T08:07:11.208Z",
         "2025-07-16T08:33:39.553Z"
        ],
        [
         "P0196",
         "Monica Dillon",
         "Female",
         "Belarus",
         "2025-07-16T08:26:59.574Z",
         86,
         "2025-07-16T08:07:11.208Z",
         "2025-07-16T08:33:39.553Z"
        ],
        [
         "P0154",
         "Angel Thompson",
         "Female",
         "Gambia",
         "2025-07-16T08:26:59.574Z",
         110,
         "2025-07-16T08:07:11.208Z",
         "2025-07-16T08:33:39.553Z"
        ],
        [
         "P0106",
         "Joshua Shepherd Jr.",
         "Female",
         "Netherlands",
         "2025-07-16T08:26:59.574Z",
         197,
         "2025-07-16T08:07:11.208Z",
         "2025-07-16T08:33:39.553Z"
        ],
        [
         "P0225",
         "William Lopez",
         "Male",
         "Heard Island and McDonald Islands",
         "2025-07-16T08:26:59.574Z",
         221,
         "2025-07-16T08:33:39.553Z",
         "2025-07-16T08:33:39.553Z"
        ],
        [
         "P0224",
         "Jason Jensen",
         "Female",
         "Rwanda",
         "2025-07-16T08:26:59.574Z",
         222,
         "2025-07-16T08:33:39.553Z",
         "2025-07-16T08:33:39.553Z"
        ],
        [
         "P0223",
         "Nicholas Gomez",
         "Female",
         "Cook Islands",
         "2025-07-16T08:26:59.574Z",
         223,
         "2025-07-16T08:33:39.553Z",
         "2025-07-16T08:33:39.553Z"
        ],
        [
         "P0222",
         "Maria Taylor",
         "Male",
         "Lao People's Democratic Republic",
         "2025-07-16T08:26:59.574Z",
         224,
         "2025-07-16T08:33:39.553Z",
         "2025-07-16T08:33:39.553Z"
        ],
        [
         "P0221",
         "Amy Welch",
         "Male",
         "Croatia",
         "2025-07-16T08:26:59.574Z",
         225,
         "2025-07-16T08:33:39.553Z",
         "2025-07-16T08:33:39.553Z"
        ]
       ],
       "datasetInfos": [
        {
         "name": "_sqldf",
         "schema": {
          "fields": [
           {
            "metadata": {},
            "name": "passenger_id",
            "nullable": true,
            "type": "string"
           },
           {
            "metadata": {},
            "name": "name",
            "nullable": true,
            "type": "string"
           },
           {
            "metadata": {},
            "name": "gender",
            "nullable": true,
            "type": "string"
           },
           {
            "metadata": {},
            "name": "nationality",
            "nullable": true,
            "type": "string"
           },
           {
            "metadata": {},
            "name": "modifiedDate",
            "nullable": true,
            "type": "timestamp"
           },
           {
            "metadata": {},
            "name": "DimPassengersKey",
            "nullable": true,
            "type": "long"
           },
           {
            "metadata": {},
            "name": "create_date",
            "nullable": true,
            "type": "timestamp"
           },
           {
            "metadata": {},
            "name": "update_date",
            "nullable": true,
            "type": "timestamp"
           }
          ],
          "type": "struct"
         },
         "tableIdentifier": null,
         "typeStr": "pyspark.sql.connect.dataframe.DataFrame"
        }
       ],
       "dbfsResultPath": null,
       "isJsonSchema": true,
       "metadata": {
        "createTempViewForImplicitDf": true,
        "dataframeName": "_sqldf",
        "executionCount": 64
       },
       "overflow": false,
       "plotOptions": {
        "customPlotOptions": {},
        "displayType": "table",
        "pivotAggregation": null,
        "pivotColumns": null,
        "xColumns": null,
        "yColumns": null
       },
       "removedWidgets": [],
       "schema": [
        {
         "metadata": "{}",
         "name": "passenger_id",
         "type": "\"string\""
        },
        {
         "metadata": "{}",
         "name": "name",
         "type": "\"string\""
        },
        {
         "metadata": "{}",
         "name": "gender",
         "type": "\"string\""
        },
        {
         "metadata": "{}",
         "name": "nationality",
         "type": "\"string\""
        },
        {
         "metadata": "{}",
         "name": "modifiedDate",
         "type": "\"timestamp\""
        },
        {
         "metadata": "{}",
         "name": "DimPassengersKey",
         "type": "\"long\""
        },
        {
         "metadata": "{}",
         "name": "create_date",
         "type": "\"timestamp\""
        },
        {
         "metadata": "{}",
         "name": "update_date",
         "type": "\"timestamp\""
        }
       ],
       "type": "table"
      }
     },
     "output_type": "display_data"
    }
   ],
   "source": [
    "%sql\n",
    "SELECT * FROM workspace.gold.dimpassengers"
   ]
  },
  {
   "cell_type": "code",
   "execution_count": 0,
   "metadata": {
    "application/vnd.databricks.v1+cell": {
     "cellMetadata": {
      "byteLimit": 2048000,
      "implicitDf": true,
      "rowLimit": 10000
     },
     "inputWidgets": {},
     "nuid": "cbb02819-c6d4-45ec-ac67-55f6fd14fbdf",
     "showTitle": false,
     "tableResultSettingsMap": {},
     "title": ""
    }
   },
   "outputs": [
    {
     "output_type": "display_data",
     "data": {
      "text/html": [
       "<style scoped>\n",
       "  .table-result-container {\n",
       "    max-height: 300px;\n",
       "    overflow: auto;\n",
       "  }\n",
       "  table, th, td {\n",
       "    border: 1px solid black;\n",
       "    border-collapse: collapse;\n",
       "  }\n",
       "  th, td {\n",
       "    padding: 5px;\n",
       "  }\n",
       "  th {\n",
       "    text-align: left;\n",
       "  }\n",
       "</style><div class='table-result-container'><table class='table-result'><thead style='background-color: white'><tr><th>booking_id</th><th>passenger_id</th><th>flight_id</th><th>airport_id</th><th>amount</th><th>booking_date</th><th>modifiedDate</th><th>DimBookingsKey</th><th>create_date</th><th>update_date</th></tr></thead><tbody><tr><td>B00001</td><td>P0048</td><td>F0014</td><td>A048</td><td>850.72</td><td>2025-05-29</td><td>2025-07-15T16:41:15.224Z</td><td>1</td><td>2025-07-16T08:13:05.597Z</td><td>2025-07-16T08:13:05.597Z</td></tr><tr><td>B00002</td><td>P0011</td><td>F0052</td><td>A003</td><td>376.63</td><td>2025-06-09</td><td>2025-07-15T16:41:15.224Z</td><td>2</td><td>2025-07-16T08:13:05.597Z</td><td>2025-07-16T08:13:05.597Z</td></tr><tr><td>B00003</td><td>P0079</td><td>F0023</td><td>A012</td><td>534.02</td><td>2025-06-03</td><td>2025-07-15T16:41:15.224Z</td><td>3</td><td>2025-07-16T08:13:05.597Z</td><td>2025-07-16T08:13:05.597Z</td></tr><tr><td>B00004</td><td>P0068</td><td>F0001</td><td>A039</td><td>1333.7</td><td>2025-06-16</td><td>2025-07-15T16:41:15.224Z</td><td>4</td><td>2025-07-16T08:13:05.597Z</td><td>2025-07-16T08:13:05.597Z</td></tr><tr><td>B00005</td><td>P0189</td><td>F0019</td><td>A008</td><td>1334.96</td><td>2025-06-17</td><td>2025-07-15T16:41:15.224Z</td><td>5</td><td>2025-07-16T08:13:05.597Z</td><td>2025-07-16T08:13:05.597Z</td></tr><tr><td>B00006</td><td>P0070</td><td>F0003</td><td>A004</td><td>296.13</td><td>2025-05-18</td><td>2025-07-15T16:41:15.224Z</td><td>6</td><td>2025-07-16T08:13:05.597Z</td><td>2025-07-16T08:13:05.597Z</td></tr><tr><td>B00007</td><td>P0194</td><td>F0068</td><td>A016</td><td>460.14</td><td>2025-04-05</td><td>2025-07-15T16:41:15.224Z</td><td>7</td><td>2025-07-16T08:13:05.597Z</td><td>2025-07-16T08:13:05.597Z</td></tr><tr><td>B00008</td><td>P0181</td><td>F0048</td><td>A017</td><td>1402.02</td><td>2025-06-04</td><td>2025-07-15T16:41:15.224Z</td><td>8</td><td>2025-07-16T08:13:05.597Z</td><td>2025-07-16T08:13:05.597Z</td></tr><tr><td>B00009</td><td>P0096</td><td>F0081</td><td>A016</td><td>1444.51</td><td>2025-05-16</td><td>2025-07-15T16:41:15.224Z</td><td>9</td><td>2025-07-16T08:13:05.597Z</td><td>2025-07-16T08:13:05.597Z</td></tr><tr><td>B00010</td><td>P0131</td><td>F0089</td><td>A034</td><td>292.39</td><td>2025-05-16</td><td>2025-07-15T16:41:15.224Z</td><td>10</td><td>2025-07-16T08:13:05.597Z</td><td>2025-07-16T08:13:05.597Z</td></tr><tr><td>B00011</td><td>P0174</td><td>F0015</td><td>A047</td><td>1039.5</td><td>2025-04-09</td><td>2025-07-15T16:41:15.224Z</td><td>11</td><td>2025-07-16T08:13:05.597Z</td><td>2025-07-16T08:13:05.597Z</td></tr><tr><td>B00012</td><td>P0154</td><td>F0050</td><td>A001</td><td>205.4</td><td>2025-03-27</td><td>2025-07-15T16:41:15.224Z</td><td>12</td><td>2025-07-16T08:13:05.597Z</td><td>2025-07-16T08:13:05.597Z</td></tr><tr><td>B00013</td><td>P0199</td><td>F0061</td><td>A034</td><td>1034.42</td><td>2025-03-29</td><td>2025-07-15T16:41:15.224Z</td><td>13</td><td>2025-07-16T08:13:05.597Z</td><td>2025-07-16T08:13:05.597Z</td></tr><tr><td>B00014</td><td>P0122</td><td>F0021</td><td>A047</td><td>788.63</td><td>2025-05-03</td><td>2025-07-15T16:41:15.224Z</td><td>14</td><td>2025-07-16T08:13:05.597Z</td><td>2025-07-16T08:13:05.597Z</td></tr><tr><td>B00015</td><td>P0104</td><td>F0036</td><td>A043</td><td>1114.27</td><td>2025-04-13</td><td>2025-07-15T16:41:15.224Z</td><td>15</td><td>2025-07-16T08:13:05.597Z</td><td>2025-07-16T08:13:05.597Z</td></tr><tr><td>B00016</td><td>P0006</td><td>F0040</td><td>A004</td><td>1138.92</td><td>2025-06-08</td><td>2025-07-15T16:41:15.224Z</td><td>16</td><td>2025-07-16T08:13:05.597Z</td><td>2025-07-16T08:13:05.597Z</td></tr><tr><td>B00017</td><td>P0122</td><td>F0063</td><td>A013</td><td>753.06</td><td>2025-05-12</td><td>2025-07-15T16:41:15.224Z</td><td>17</td><td>2025-07-16T08:13:05.597Z</td><td>2025-07-16T08:13:05.597Z</td></tr><tr><td>B00018</td><td>P0180</td><td>F0026</td><td>A010</td><td>1380.74</td><td>2025-05-29</td><td>2025-07-15T16:41:15.224Z</td><td>18</td><td>2025-07-16T08:13:05.597Z</td><td>2025-07-16T08:13:05.597Z</td></tr><tr><td>B00019</td><td>P0117</td><td>F0006</td><td>A025</td><td>302.11</td><td>2025-05-23</td><td>2025-07-15T16:41:15.224Z</td><td>19</td><td>2025-07-16T08:13:05.597Z</td><td>2025-07-16T08:13:05.597Z</td></tr><tr><td>B00020</td><td>P0117</td><td>F0039</td><td>A044</td><td>543.47</td><td>2025-04-25</td><td>2025-07-15T16:41:15.224Z</td><td>20</td><td>2025-07-16T08:13:05.597Z</td><td>2025-07-16T08:13:05.597Z</td></tr><tr><td>B00021</td><td>P0167</td><td>F0057</td><td>A023</td><td>508.64</td><td>2025-06-04</td><td>2025-07-15T16:41:15.224Z</td><td>21</td><td>2025-07-16T08:13:05.597Z</td><td>2025-07-16T08:13:05.597Z</td></tr><tr><td>B00022</td><td>P0067</td><td>F0033</td><td>A004</td><td>998.46</td><td>2025-05-24</td><td>2025-07-15T16:41:15.224Z</td><td>22</td><td>2025-07-16T08:13:05.597Z</td><td>2025-07-16T08:13:05.597Z</td></tr><tr><td>B00023</td><td>P0030</td><td>F0094</td><td>A005</td><td>694.81</td><td>2025-06-01</td><td>2025-07-15T16:41:15.224Z</td><td>23</td><td>2025-07-16T08:13:05.597Z</td><td>2025-07-16T08:13:05.597Z</td></tr><tr><td>B00024</td><td>P0120</td><td>F0038</td><td>A015</td><td>578.1</td><td>2025-03-30</td><td>2025-07-15T16:41:15.224Z</td><td>24</td><td>2025-07-16T08:13:05.597Z</td><td>2025-07-16T08:13:05.597Z</td></tr><tr><td>B00025</td><td>P0001</td><td>F0056</td><td>A045</td><td>1146.1</td><td>2025-05-28</td><td>2025-07-15T16:41:15.224Z</td><td>25</td><td>2025-07-16T08:13:05.597Z</td><td>2025-07-16T08:13:05.597Z</td></tr><tr><td>B00026</td><td>P0169</td><td>F0062</td><td>A036</td><td>1236.07</td><td>2025-05-01</td><td>2025-07-15T16:41:15.224Z</td><td>26</td><td>2025-07-16T08:13:05.597Z</td><td>2025-07-16T08:13:05.597Z</td></tr><tr><td>B00027</td><td>P0136</td><td>F0064</td><td>A043</td><td>375.69</td><td>2025-06-02</td><td>2025-07-15T16:41:15.224Z</td><td>27</td><td>2025-07-16T08:13:05.597Z</td><td>2025-07-16T08:13:05.597Z</td></tr><tr><td>B00028</td><td>P0068</td><td>F0006</td><td>A017</td><td>940.95</td><td>2025-04-08</td><td>2025-07-15T16:41:15.224Z</td><td>28</td><td>2025-07-16T08:13:05.597Z</td><td>2025-07-16T08:13:05.597Z</td></tr><tr><td>B00029</td><td>P0150</td><td>F0048</td><td>A048</td><td>1116.88</td><td>2025-05-16</td><td>2025-07-15T16:41:15.224Z</td><td>29</td><td>2025-07-16T08:13:05.597Z</td><td>2025-07-16T08:13:05.597Z</td></tr><tr><td>B00030</td><td>P0023</td><td>F0050</td><td>A050</td><td>1400.35</td><td>2025-04-10</td><td>2025-07-15T16:41:15.224Z</td><td>30</td><td>2025-07-16T08:13:05.597Z</td><td>2025-07-16T08:13:05.597Z</td></tr><tr><td>B00031</td><td>P0037</td><td>F0046</td><td>A003</td><td>1221.82</td><td>2025-03-27</td><td>2025-07-15T16:41:15.224Z</td><td>31</td><td>2025-07-16T08:13:05.597Z</td><td>2025-07-16T08:13:05.597Z</td></tr><tr><td>B00032</td><td>P0129</td><td>F0025</td><td>A001</td><td>782.38</td><td>2025-06-17</td><td>2025-07-15T16:41:15.224Z</td><td>32</td><td>2025-07-16T08:13:05.597Z</td><td>2025-07-16T08:13:05.597Z</td></tr><tr><td>B00033</td><td>P0055</td><td>F0031</td><td>A041</td><td>254.2</td><td>2025-05-08</td><td>2025-07-15T16:41:15.224Z</td><td>33</td><td>2025-07-16T08:13:05.597Z</td><td>2025-07-16T08:13:05.597Z</td></tr><tr><td>B00034</td><td>P0015</td><td>F0046</td><td>A045</td><td>273.6</td><td>2025-04-16</td><td>2025-07-15T16:41:15.224Z</td><td>34</td><td>2025-07-16T08:13:05.597Z</td><td>2025-07-16T08:13:05.597Z</td></tr><tr><td>B00035</td><td>P0111</td><td>F0086</td><td>A015</td><td>348.86</td><td>2025-05-07</td><td>2025-07-15T16:41:15.224Z</td><td>35</td><td>2025-07-16T08:13:05.597Z</td><td>2025-07-16T08:13:05.597Z</td></tr><tr><td>B00036</td><td>P0005</td><td>F0005</td><td>A029</td><td>949.54</td><td>2025-03-28</td><td>2025-07-15T16:41:15.224Z</td><td>36</td><td>2025-07-16T08:13:05.597Z</td><td>2025-07-16T08:13:05.597Z</td></tr><tr><td>B00037</td><td>P0187</td><td>F0043</td><td>A008</td><td>448.11</td><td>2025-04-07</td><td>2025-07-15T16:41:15.224Z</td><td>37</td><td>2025-07-16T08:13:05.597Z</td><td>2025-07-16T08:13:05.597Z</td></tr><tr><td>B00038</td><td>P0169</td><td>F0041</td><td>A023</td><td>949.22</td><td>2025-03-31</td><td>2025-07-15T16:41:15.224Z</td><td>38</td><td>2025-07-16T08:13:05.597Z</td><td>2025-07-16T08:13:05.597Z</td></tr><tr><td>B00039</td><td>P0040</td><td>F0028</td><td>A044</td><td>1484.65</td><td>2025-04-13</td><td>2025-07-15T16:41:15.224Z</td><td>39</td><td>2025-07-16T08:13:05.597Z</td><td>2025-07-16T08:13:05.597Z</td></tr><tr><td>B00040</td><td>P0095</td><td>F0037</td><td>A033</td><td>1211.11</td><td>2025-04-13</td><td>2025-07-15T16:41:15.224Z</td><td>40</td><td>2025-07-16T08:13:05.597Z</td><td>2025-07-16T08:13:05.597Z</td></tr><tr><td>B00041</td><td>P0191</td><td>F0072</td><td>A048</td><td>1102.87</td><td>2025-04-13</td><td>2025-07-15T16:41:15.224Z</td><td>41</td><td>2025-07-16T08:13:05.597Z</td><td>2025-07-16T08:13:05.597Z</td></tr><tr><td>B00042</td><td>P0017</td><td>F0021</td><td>A024</td><td>673.96</td><td>2025-05-13</td><td>2025-07-15T16:41:15.224Z</td><td>42</td><td>2025-07-16T08:13:05.597Z</td><td>2025-07-16T08:13:05.597Z</td></tr><tr><td>B00043</td><td>P0047</td><td>F0021</td><td>A029</td><td>817.3</td><td>2025-06-08</td><td>2025-07-15T16:41:15.224Z</td><td>43</td><td>2025-07-16T08:13:05.597Z</td><td>2025-07-16T08:13:05.597Z</td></tr><tr><td>B00044</td><td>P0181</td><td>F0081</td><td>A002</td><td>772.98</td><td>2025-05-07</td><td>2025-07-15T16:41:15.224Z</td><td>44</td><td>2025-07-16T08:13:05.597Z</td><td>2025-07-16T08:13:05.597Z</td></tr><tr><td>B00045</td><td>P0025</td><td>F0073</td><td>A019</td><td>281.08</td><td>2025-04-13</td><td>2025-07-15T16:41:15.224Z</td><td>45</td><td>2025-07-16T08:13:05.597Z</td><td>2025-07-16T08:13:05.597Z</td></tr><tr><td>B00046</td><td>P0142</td><td>F0093</td><td>A012</td><td>1020.64</td><td>2025-06-01</td><td>2025-07-15T16:41:15.224Z</td><td>46</td><td>2025-07-16T08:13:05.597Z</td><td>2025-07-16T08:13:05.597Z</td></tr><tr><td>B00047</td><td>P0104</td><td>F0090</td><td>A009</td><td>1364.75</td><td>2025-05-19</td><td>2025-07-15T16:41:15.224Z</td><td>47</td><td>2025-07-16T08:13:05.597Z</td><td>2025-07-16T08:13:05.597Z</td></tr><tr><td>B00048</td><td>P0155</td><td>F0008</td><td>A047</td><td>636.16</td><td>2025-05-08</td><td>2025-07-15T16:41:15.224Z</td><td>48</td><td>2025-07-16T08:13:05.597Z</td><td>2025-07-16T08:13:05.597Z</td></tr><tr><td>B00049</td><td>P0178</td><td>F0039</td><td>A035</td><td>259.15</td><td>2025-04-12</td><td>2025-07-15T16:41:15.224Z</td><td>49</td><td>2025-07-16T08:13:05.597Z</td><td>2025-07-16T08:13:05.597Z</td></tr><tr><td>B00050</td><td>P0019</td><td>F0010</td><td>A047</td><td>1086.8</td><td>2025-03-24</td><td>2025-07-15T16:41:15.224Z</td><td>50</td><td>2025-07-16T08:13:05.597Z</td><td>2025-07-16T08:13:05.597Z</td></tr><tr><td>B00051</td><td>P0173</td><td>F0051</td><td>A036</td><td>293.22</td><td>2025-04-12</td><td>2025-07-15T16:41:15.224Z</td><td>51</td><td>2025-07-16T08:13:05.597Z</td><td>2025-07-16T08:13:05.597Z</td></tr><tr><td>B00052</td><td>P0082</td><td>F0051</td><td>A033</td><td>1266.41</td><td>2025-04-27</td><td>2025-07-15T16:41:15.224Z</td><td>52</td><td>2025-07-16T08:13:05.597Z</td><td>2025-07-16T08:13:05.597Z</td></tr><tr><td>B00053</td><td>P0108</td><td>F0092</td><td>A021</td><td>1030.15</td><td>2025-03-28</td><td>2025-07-15T16:41:15.224Z</td><td>53</td><td>2025-07-16T08:13:05.597Z</td><td>2025-07-16T08:13:05.597Z</td></tr><tr><td>B00054</td><td>P0150</td><td>F0010</td><td>A030</td><td>405.2</td><td>2025-04-28</td><td>2025-07-15T16:41:15.224Z</td><td>54</td><td>2025-07-16T08:13:05.597Z</td><td>2025-07-16T08:13:05.597Z</td></tr><tr><td>B00055</td><td>P0099</td><td>F0007</td><td>A044</td><td>1082.53</td><td>2025-03-29</td><td>2025-07-15T16:41:15.224Z</td><td>55</td><td>2025-07-16T08:13:05.597Z</td><td>2025-07-16T08:13:05.597Z</td></tr><tr><td>B00056</td><td>P0041</td><td>F0055</td><td>A015</td><td>586.75</td><td>2025-04-08</td><td>2025-07-15T16:41:15.224Z</td><td>56</td><td>2025-07-16T08:13:05.597Z</td><td>2025-07-16T08:13:05.597Z</td></tr><tr><td>B00057</td><td>P0031</td><td>F0069</td><td>A012</td><td>687.19</td><td>2025-05-12</td><td>2025-07-15T16:41:15.224Z</td><td>57</td><td>2025-07-16T08:13:05.597Z</td><td>2025-07-16T08:13:05.597Z</td></tr><tr><td>B00058</td><td>P0119</td><td>F0089</td><td>A025</td><td>984.3</td><td>2025-05-30</td><td>2025-07-15T16:41:15.224Z</td><td>58</td><td>2025-07-16T08:13:05.597Z</td><td>2025-07-16T08:13:05.597Z</td></tr><tr><td>B00059</td><td>P0143</td><td>F0072</td><td>A002</td><td>1394.39</td><td>2025-03-29</td><td>2025-07-15T16:41:15.224Z</td><td>59</td><td>2025-07-16T08:13:05.597Z</td><td>2025-07-16T08:13:05.597Z</td></tr><tr><td>B00060</td><td>P0102</td><td>F0053</td><td>A014</td><td>205.11</td><td>2025-04-11</td><td>2025-07-15T16:41:15.224Z</td><td>60</td><td>2025-07-16T08:13:05.597Z</td><td>2025-07-16T08:13:05.597Z</td></tr><tr><td>B00061</td><td>P0055</td><td>F0045</td><td>A004</td><td>108.53</td><td>2025-06-09</td><td>2025-07-15T16:41:15.224Z</td><td>61</td><td>2025-07-16T08:13:05.597Z</td><td>2025-07-16T08:13:05.597Z</td></tr><tr><td>B00062</td><td>P0022</td><td>F0080</td><td>A011</td><td>256.27</td><td>2025-04-12</td><td>2025-07-15T16:41:15.224Z</td><td>62</td><td>2025-07-16T08:13:05.597Z</td><td>2025-07-16T08:13:05.597Z</td></tr><tr><td>B00063</td><td>P0139</td><td>F0088</td><td>A041</td><td>134.11</td><td>2025-05-13</td><td>2025-07-15T16:41:15.224Z</td><td>63</td><td>2025-07-16T08:13:05.597Z</td><td>2025-07-16T08:13:05.597Z</td></tr><tr><td>B00064</td><td>P0022</td><td>F0037</td><td>A027</td><td>647.13</td><td>2025-05-30</td><td>2025-07-15T16:41:15.224Z</td><td>64</td><td>2025-07-16T08:13:05.597Z</td><td>2025-07-16T08:13:05.597Z</td></tr><tr><td>B00065</td><td>P0034</td><td>F0046</td><td>A009</td><td>722.96</td><td>2025-05-20</td><td>2025-07-15T16:41:15.224Z</td><td>65</td><td>2025-07-16T08:13:05.597Z</td><td>2025-07-16T08:13:05.597Z</td></tr><tr><td>B00066</td><td>P0106</td><td>F0066</td><td>A017</td><td>377.26</td><td>2025-03-24</td><td>2025-07-15T16:41:15.224Z</td><td>66</td><td>2025-07-16T08:13:05.597Z</td><td>2025-07-16T08:13:05.597Z</td></tr><tr><td>B00067</td><td>P0049</td><td>F0097</td><td>A010</td><td>1153.26</td><td>2025-05-19</td><td>2025-07-15T16:41:15.224Z</td><td>67</td><td>2025-07-16T08:13:05.597Z</td><td>2025-07-16T08:13:05.597Z</td></tr><tr><td>B00068</td><td>P0019</td><td>F0067</td><td>A003</td><td>778.42</td><td>2025-04-30</td><td>2025-07-15T16:41:15.224Z</td><td>68</td><td>2025-07-16T08:13:05.597Z</td><td>2025-07-16T08:13:05.597Z</td></tr><tr><td>B00069</td><td>P0061</td><td>F0091</td><td>A007</td><td>1216.18</td><td>2025-04-26</td><td>2025-07-15T16:41:15.224Z</td><td>69</td><td>2025-07-16T08:13:05.597Z</td><td>2025-07-16T08:13:05.597Z</td></tr><tr><td>B00070</td><td>P0013</td><td>F0057</td><td>A004</td><td>484.43</td><td>2025-06-14</td><td>2025-07-15T16:41:15.224Z</td><td>70</td><td>2025-07-16T08:13:05.597Z</td><td>2025-07-16T08:13:05.597Z</td></tr><tr><td>B00071</td><td>P0082</td><td>F0050</td><td>A027</td><td>177.66</td><td>2025-05-10</td><td>2025-07-15T16:41:15.224Z</td><td>71</td><td>2025-07-16T08:13:05.597Z</td><td>2025-07-16T08:13:05.597Z</td></tr><tr><td>B00072</td><td>P0034</td><td>F0100</td><td>A001</td><td>1306.75</td><td>2025-05-25</td><td>2025-07-15T16:41:15.224Z</td><td>72</td><td>2025-07-16T08:13:05.597Z</td><td>2025-07-16T08:13:05.597Z</td></tr><tr><td>B00073</td><td>P0151</td><td>F0085</td><td>A015</td><td>794.94</td><td>2025-04-10</td><td>2025-07-15T16:41:15.224Z</td><td>73</td><td>2025-07-16T08:13:05.597Z</td><td>2025-07-16T08:13:05.597Z</td></tr><tr><td>B00074</td><td>P0067</td><td>F0037</td><td>A024</td><td>1485.6</td><td>2025-05-11</td><td>2025-07-15T16:41:15.224Z</td><td>74</td><td>2025-07-16T08:13:05.597Z</td><td>2025-07-16T08:13:05.597Z</td></tr><tr><td>B00075</td><td>P0003</td><td>F0059</td><td>A023</td><td>529.54</td><td>2025-04-14</td><td>2025-07-15T16:41:15.224Z</td><td>75</td><td>2025-07-16T08:13:05.597Z</td><td>2025-07-16T08:13:05.597Z</td></tr><tr><td>B00076</td><td>P0117</td><td>F0088</td><td>A019</td><td>654.98</td><td>2025-06-04</td><td>2025-07-15T16:41:15.224Z</td><td>76</td><td>2025-07-16T08:13:05.597Z</td><td>2025-07-16T08:13:05.597Z</td></tr><tr><td>B00077</td><td>P0133</td><td>F0034</td><td>A037</td><td>736.43</td><td>2025-04-21</td><td>2025-07-15T16:41:15.224Z</td><td>77</td><td>2025-07-16T08:13:05.597Z</td><td>2025-07-16T08:13:05.597Z</td></tr><tr><td>B00078</td><td>P0125</td><td>F0053</td><td>A008</td><td>1103.33</td><td>2025-04-11</td><td>2025-07-15T16:41:15.224Z</td><td>78</td><td>2025-07-16T08:13:05.597Z</td><td>2025-07-16T08:13:05.597Z</td></tr><tr><td>B00079</td><td>P0138</td><td>F0011</td><td>A007</td><td>891.13</td><td>2025-04-01</td><td>2025-07-15T16:41:15.224Z</td><td>79</td><td>2025-07-16T08:13:05.597Z</td><td>2025-07-16T08:13:05.597Z</td></tr><tr><td>B00080</td><td>P0116</td><td>F0050</td><td>A048</td><td>1267.71</td><td>2025-05-19</td><td>2025-07-15T16:41:15.224Z</td><td>80</td><td>2025-07-16T08:13:05.597Z</td><td>2025-07-16T08:13:05.597Z</td></tr><tr><td>B00081</td><td>P0093</td><td>F0002</td><td>A038</td><td>792.3</td><td>2025-03-29</td><td>2025-07-15T16:41:15.224Z</td><td>81</td><td>2025-07-16T08:13:05.597Z</td><td>2025-07-16T08:13:05.597Z</td></tr><tr><td>B00082</td><td>P0077</td><td>F0003</td><td>A008</td><td>1356.62</td><td>2025-05-19</td><td>2025-07-15T16:41:15.224Z</td><td>82</td><td>2025-07-16T08:13:05.597Z</td><td>2025-07-16T08:13:05.597Z</td></tr><tr><td>B00083</td><td>P0035</td><td>F0097</td><td>A041</td><td>1120.64</td><td>2025-06-11</td><td>2025-07-15T16:41:15.224Z</td><td>83</td><td>2025-07-16T08:13:05.597Z</td><td>2025-07-16T08:13:05.597Z</td></tr><tr><td>B00084</td><td>P0152</td><td>F0042</td><td>A009</td><td>1378.9</td><td>2025-04-06</td><td>2025-07-15T16:41:15.224Z</td><td>84</td><td>2025-07-16T08:13:05.597Z</td><td>2025-07-16T08:13:05.597Z</td></tr><tr><td>B00085</td><td>P0181</td><td>F0085</td><td>A046</td><td>826.47</td><td>2025-03-24</td><td>2025-07-15T16:41:15.224Z</td><td>85</td><td>2025-07-16T08:13:05.597Z</td><td>2025-07-16T08:13:05.597Z</td></tr><tr><td>B00086</td><td>P0083</td><td>F0004</td><td>A024</td><td>1345.04</td><td>2025-05-26</td><td>2025-07-15T16:41:15.224Z</td><td>86</td><td>2025-07-16T08:13:05.597Z</td><td>2025-07-16T08:13:05.597Z</td></tr><tr><td>B00087</td><td>P0120</td><td>F0050</td><td>A038</td><td>896.66</td><td>2025-03-29</td><td>2025-07-15T16:41:15.224Z</td><td>87</td><td>2025-07-16T08:13:05.597Z</td><td>2025-07-16T08:13:05.597Z</td></tr><tr><td>B00088</td><td>P0074</td><td>F0002</td><td>A003</td><td>828.36</td><td>2025-05-07</td><td>2025-07-15T16:41:15.224Z</td><td>88</td><td>2025-07-16T08:13:05.597Z</td><td>2025-07-16T08:13:05.597Z</td></tr><tr><td>B00089</td><td>P0165</td><td>F0006</td><td>A006</td><td>1192.71</td><td>2025-06-19</td><td>2025-07-15T16:41:15.224Z</td><td>89</td><td>2025-07-16T08:13:05.597Z</td><td>2025-07-16T08:13:05.597Z</td></tr><tr><td>B00090</td><td>P0048</td><td>F0038</td><td>A011</td><td>201.05</td><td>2025-06-21</td><td>2025-07-15T16:41:15.224Z</td><td>90</td><td>2025-07-16T08:13:05.597Z</td><td>2025-07-16T08:13:05.597Z</td></tr><tr><td>B00091</td><td>P0025</td><td>F0024</td><td>A025</td><td>1201.66</td><td>2025-04-27</td><td>2025-07-15T16:41:15.224Z</td><td>91</td><td>2025-07-16T08:13:05.597Z</td><td>2025-07-16T08:13:05.597Z</td></tr><tr><td>B00092</td><td>P0066</td><td>F0092</td><td>A024</td><td>485.91</td><td>2025-03-26</td><td>2025-07-15T16:41:15.224Z</td><td>92</td><td>2025-07-16T08:13:05.597Z</td><td>2025-07-16T08:13:05.597Z</td></tr><tr><td>B00093</td><td>P0063</td><td>F0039</td><td>A001</td><td>716.33</td><td>2025-06-01</td><td>2025-07-15T16:41:15.224Z</td><td>93</td><td>2025-07-16T08:13:05.597Z</td><td>2025-07-16T08:13:05.597Z</td></tr><tr><td>B00094</td><td>P0164</td><td>F0020</td><td>A038</td><td>1284.96</td><td>2025-05-20</td><td>2025-07-15T16:41:15.224Z</td><td>94</td><td>2025-07-16T08:13:05.597Z</td><td>2025-07-16T08:13:05.597Z</td></tr><tr><td>B00095</td><td>P0186</td><td>F0046</td><td>A006</td><td>496.57</td><td>2025-05-02</td><td>2025-07-15T16:41:15.224Z</td><td>95</td><td>2025-07-16T08:13:05.597Z</td><td>2025-07-16T08:13:05.597Z</td></tr><tr><td>B00096</td><td>P0050</td><td>F0047</td><td>A001</td><td>432.5</td><td>2025-05-07</td><td>2025-07-15T16:41:15.224Z</td><td>96</td><td>2025-07-16T08:13:05.597Z</td><td>2025-07-16T08:13:05.597Z</td></tr><tr><td>B00097</td><td>P0141</td><td>F0071</td><td>A011</td><td>165.9</td><td>2025-04-08</td><td>2025-07-15T16:41:15.224Z</td><td>97</td><td>2025-07-16T08:13:05.597Z</td><td>2025-07-16T08:13:05.597Z</td></tr><tr><td>B00098</td><td>P0061</td><td>F0013</td><td>A007</td><td>269.98</td><td>2025-04-01</td><td>2025-07-15T16:41:15.224Z</td><td>98</td><td>2025-07-16T08:13:05.597Z</td><td>2025-07-16T08:13:05.597Z</td></tr><tr><td>B00099</td><td>P0132</td><td>F0002</td><td>A010</td><td>465.46</td><td>2025-03-29</td><td>2025-07-15T16:41:15.224Z</td><td>99</td><td>2025-07-16T08:13:05.597Z</td><td>2025-07-16T08:13:05.597Z</td></tr><tr><td>B00100</td><td>P0040</td><td>F0005</td><td>A040</td><td>483.81</td><td>2025-04-22</td><td>2025-07-15T16:41:15.224Z</td><td>100</td><td>2025-07-16T08:13:05.597Z</td><td>2025-07-16T08:13:05.597Z</td></tr><tr><td>B00101</td><td>P0012</td><td>F0056</td><td>A004</td><td>1471.79</td><td>2025-04-08</td><td>2025-07-15T16:41:15.224Z</td><td>101</td><td>2025-07-16T08:13:05.597Z</td><td>2025-07-16T08:13:05.597Z</td></tr><tr><td>B00102</td><td>P0053</td><td>F0055</td><td>A036</td><td>962.65</td><td>2025-06-17</td><td>2025-07-15T16:41:15.224Z</td><td>102</td><td>2025-07-16T08:13:05.597Z</td><td>2025-07-16T08:13:05.597Z</td></tr><tr><td>B00103</td><td>P0032</td><td>F0073</td><td>A024</td><td>699.12</td><td>2025-06-16</td><td>2025-07-15T16:41:15.224Z</td><td>103</td><td>2025-07-16T08:13:05.597Z</td><td>2025-07-16T08:13:05.597Z</td></tr><tr><td>B00104</td><td>P0013</td><td>F0014</td><td>A031</td><td>441.83</td><td>2025-05-04</td><td>2025-07-15T16:41:15.224Z</td><td>104</td><td>2025-07-16T08:13:05.597Z</td><td>2025-07-16T08:13:05.597Z</td></tr><tr><td>B00105</td><td>P0172</td><td>F0038</td><td>A001</td><td>484.75</td><td>2025-06-14</td><td>2025-07-15T16:41:15.224Z</td><td>105</td><td>2025-07-16T08:13:05.597Z</td><td>2025-07-16T08:13:05.597Z</td></tr><tr><td>B00106</td><td>P0118</td><td>F0052</td><td>A036</td><td>646.42</td><td>2025-04-27</td><td>2025-07-15T16:41:15.224Z</td><td>106</td><td>2025-07-16T08:13:05.597Z</td><td>2025-07-16T08:13:05.597Z</td></tr><tr><td>B00107</td><td>P0152</td><td>F0008</td><td>A036</td><td>1382.88</td><td>2025-05-31</td><td>2025-07-15T16:41:15.224Z</td><td>107</td><td>2025-07-16T08:13:05.597Z</td><td>2025-07-16T08:13:05.597Z</td></tr><tr><td>B00108</td><td>P0093</td><td>F0002</td><td>A026</td><td>689.48</td><td>2025-03-31</td><td>2025-07-15T16:41:15.224Z</td><td>108</td><td>2025-07-16T08:13:05.597Z</td><td>2025-07-16T08:13:05.597Z</td></tr><tr><td>B00109</td><td>P0197</td><td>F0074</td><td>A033</td><td>236.4</td><td>2025-04-23</td><td>2025-07-15T16:41:15.224Z</td><td>109</td><td>2025-07-16T08:13:05.597Z</td><td>2025-07-16T08:13:05.597Z</td></tr><tr><td>B00110</td><td>P0105</td><td>F0086</td><td>A014</td><td>762.79</td><td>2025-05-14</td><td>2025-07-15T16:41:15.224Z</td><td>110</td><td>2025-07-16T08:13:05.597Z</td><td>2025-07-16T08:13:05.597Z</td></tr><tr><td>B00111</td><td>P0121</td><td>F0060</td><td>A031</td><td>1292.74</td><td>2025-06-01</td><td>2025-07-15T16:41:15.224Z</td><td>111</td><td>2025-07-16T08:13:05.597Z</td><td>2025-07-16T08:13:05.597Z</td></tr><tr><td>B00112</td><td>P0114</td><td>F0053</td><td>A040</td><td>102.97</td><td>2025-05-31</td><td>2025-07-15T16:41:15.224Z</td><td>112</td><td>2025-07-16T08:13:05.597Z</td><td>2025-07-16T08:13:05.597Z</td></tr><tr><td>B00113</td><td>P0153</td><td>F0100</td><td>A015</td><td>1441.63</td><td>2025-04-18</td><td>2025-07-15T16:41:15.224Z</td><td>113</td><td>2025-07-16T08:13:05.597Z</td><td>2025-07-16T08:13:05.597Z</td></tr><tr><td>B00114</td><td>P0089</td><td>F0019</td><td>A023</td><td>1397.3</td><td>2025-05-25</td><td>2025-07-15T16:41:15.224Z</td><td>114</td><td>2025-07-16T08:13:05.597Z</td><td>2025-07-16T08:13:05.597Z</td></tr><tr><td>B00115</td><td>P0152</td><td>F0071</td><td>A048</td><td>384.14</td><td>2025-04-23</td><td>2025-07-15T16:41:15.224Z</td><td>115</td><td>2025-07-16T08:13:05.597Z</td><td>2025-07-16T08:13:05.597Z</td></tr><tr><td>B00116</td><td>P0200</td><td>F0100</td><td>A004</td><td>1250.92</td><td>2025-04-11</td><td>2025-07-15T16:41:15.224Z</td><td>116</td><td>2025-07-16T08:13:05.597Z</td><td>2025-07-16T08:13:05.597Z</td></tr><tr><td>B00117</td><td>P0035</td><td>F0053</td><td>A049</td><td>137.06</td><td>2025-05-27</td><td>2025-07-15T16:41:15.224Z</td><td>117</td><td>2025-07-16T08:13:05.597Z</td><td>2025-07-16T08:13:05.597Z</td></tr><tr><td>B00118</td><td>P0018</td><td>F0033</td><td>A012</td><td>401.76</td><td>2025-04-18</td><td>2025-07-15T16:41:15.224Z</td><td>118</td><td>2025-07-16T08:13:05.597Z</td><td>2025-07-16T08:13:05.597Z</td></tr><tr><td>B00119</td><td>P0107</td><td>F0077</td><td>A041</td><td>1490.52</td><td>2025-04-24</td><td>2025-07-15T16:41:15.224Z</td><td>119</td><td>2025-07-16T08:13:05.597Z</td><td>2025-07-16T08:13:05.597Z</td></tr><tr><td>B00120</td><td>P0142</td><td>F0064</td><td>A035</td><td>1117.94</td><td>2025-05-16</td><td>2025-07-15T16:41:15.224Z</td><td>120</td><td>2025-07-16T08:13:05.597Z</td><td>2025-07-16T08:13:05.597Z</td></tr><tr><td>B00121</td><td>P0012</td><td>F0007</td><td>A005</td><td>784.05</td><td>2025-04-17</td><td>2025-07-15T16:41:15.224Z</td><td>121</td><td>2025-07-16T08:13:05.597Z</td><td>2025-07-16T08:13:05.597Z</td></tr><tr><td>B00122</td><td>P0120</td><td>F0074</td><td>A031</td><td>437.9</td><td>2025-04-20</td><td>2025-07-15T16:41:15.224Z</td><td>122</td><td>2025-07-16T08:13:05.597Z</td><td>2025-07-16T08:13:05.597Z</td></tr><tr><td>B00123</td><td>P0016</td><td>F0031</td><td>A032</td><td>1045.6</td><td>2025-05-24</td><td>2025-07-15T16:41:15.224Z</td><td>123</td><td>2025-07-16T08:13:05.597Z</td><td>2025-07-16T08:13:05.597Z</td></tr><tr><td>B00124</td><td>P0115</td><td>F0039</td><td>A041</td><td>1341.38</td><td>2025-05-30</td><td>2025-07-15T16:41:15.224Z</td><td>124</td><td>2025-07-16T08:13:05.597Z</td><td>2025-07-16T08:13:05.597Z</td></tr><tr><td>B00125</td><td>P0003</td><td>F0033</td><td>A020</td><td>917.89</td><td>2025-05-03</td><td>2025-07-15T16:41:15.224Z</td><td>125</td><td>2025-07-16T08:13:05.597Z</td><td>2025-07-16T08:13:05.597Z</td></tr><tr><td>B00126</td><td>P0064</td><td>F0059</td><td>A022</td><td>1362.7</td><td>2025-04-06</td><td>2025-07-15T16:41:15.224Z</td><td>126</td><td>2025-07-16T08:13:05.597Z</td><td>2025-07-16T08:13:05.597Z</td></tr><tr><td>B00127</td><td>P0024</td><td>F0020</td><td>A042</td><td>589.06</td><td>2025-06-06</td><td>2025-07-15T16:41:15.224Z</td><td>127</td><td>2025-07-16T08:13:05.597Z</td><td>2025-07-16T08:13:05.597Z</td></tr><tr><td>B00128</td><td>P0060</td><td>F0088</td><td>A037</td><td>654.72</td><td>2025-06-17</td><td>2025-07-15T16:41:15.224Z</td><td>128</td><td>2025-07-16T08:13:05.597Z</td><td>2025-07-16T08:13:05.597Z</td></tr><tr><td>B00129</td><td>P0063</td><td>F0063</td><td>A023</td><td>940.65</td><td>2025-04-19</td><td>2025-07-15T16:41:15.224Z</td><td>129</td><td>2025-07-16T08:13:05.597Z</td><td>2025-07-16T08:13:05.597Z</td></tr><tr><td>B00130</td><td>P0050</td><td>F0081</td><td>A021</td><td>814.86</td><td>2025-04-04</td><td>2025-07-15T16:41:15.224Z</td><td>130</td><td>2025-07-16T08:13:05.597Z</td><td>2025-07-16T08:13:05.597Z</td></tr><tr><td>B00131</td><td>P0135</td><td>F0027</td><td>A003</td><td>903.5</td><td>2025-04-18</td><td>2025-07-15T16:41:15.224Z</td><td>131</td><td>2025-07-16T08:13:05.597Z</td><td>2025-07-16T08:13:05.597Z</td></tr><tr><td>B00132</td><td>P0164</td><td>F0038</td><td>A044</td><td>857.38</td><td>2025-04-12</td><td>2025-07-15T16:41:15.224Z</td><td>132</td><td>2025-07-16T08:13:05.597Z</td><td>2025-07-16T08:13:05.597Z</td></tr><tr><td>B00133</td><td>P0120</td><td>F0003</td><td>A046</td><td>917.93</td><td>2025-04-17</td><td>2025-07-15T16:41:15.224Z</td><td>133</td><td>2025-07-16T08:13:05.597Z</td><td>2025-07-16T08:13:05.597Z</td></tr><tr><td>B00134</td><td>P0157</td><td>F0017</td><td>A038</td><td>768.43</td><td>2025-04-24</td><td>2025-07-15T16:41:15.224Z</td><td>134</td><td>2025-07-16T08:13:05.597Z</td><td>2025-07-16T08:13:05.597Z</td></tr><tr><td>B00135</td><td>P0180</td><td>F0029</td><td>A028</td><td>697.28</td><td>2025-06-09</td><td>2025-07-15T16:41:15.224Z</td><td>135</td><td>2025-07-16T08:13:05.597Z</td><td>2025-07-16T08:13:05.597Z</td></tr><tr><td>B00136</td><td>P0165</td><td>F0010</td><td>A032</td><td>475.11</td><td>2025-06-06</td><td>2025-07-15T16:41:15.224Z</td><td>136</td><td>2025-07-16T08:13:05.597Z</td><td>2025-07-16T08:13:05.597Z</td></tr><tr><td>B00137</td><td>P0176</td><td>F0065</td><td>A049</td><td>1284.93</td><td>2025-04-11</td><td>2025-07-15T16:41:15.224Z</td><td>137</td><td>2025-07-16T08:13:05.597Z</td><td>2025-07-16T08:13:05.597Z</td></tr><tr><td>B00138</td><td>P0047</td><td>F0009</td><td>A004</td><td>501.11</td><td>2025-04-03</td><td>2025-07-15T16:41:15.224Z</td><td>138</td><td>2025-07-16T08:13:05.597Z</td><td>2025-07-16T08:13:05.597Z</td></tr><tr><td>B00139</td><td>P0110</td><td>F0011</td><td>A024</td><td>903.05</td><td>2025-05-27</td><td>2025-07-15T16:41:15.224Z</td><td>139</td><td>2025-07-16T08:13:05.597Z</td><td>2025-07-16T08:13:05.597Z</td></tr><tr><td>B00140</td><td>P0190</td><td>F0068</td><td>A027</td><td>463.14</td><td>2025-05-01</td><td>2025-07-15T16:41:15.224Z</td><td>140</td><td>2025-07-16T08:13:05.597Z</td><td>2025-07-16T08:13:05.597Z</td></tr><tr><td>B00141</td><td>P0014</td><td>F0017</td><td>A049</td><td>630.21</td><td>2025-04-25</td><td>2025-07-15T16:41:15.224Z</td><td>141</td><td>2025-07-16T08:13:05.597Z</td><td>2025-07-16T08:13:05.597Z</td></tr><tr><td>B00142</td><td>P0101</td><td>F0057</td><td>A037</td><td>1478.85</td><td>2025-06-21</td><td>2025-07-15T16:41:15.224Z</td><td>142</td><td>2025-07-16T08:13:05.597Z</td><td>2025-07-16T08:13:05.597Z</td></tr><tr><td>B00143</td><td>P0111</td><td>F0084</td><td>A042</td><td>173.83</td><td>2025-03-26</td><td>2025-07-15T16:41:15.224Z</td><td>143</td><td>2025-07-16T08:13:05.597Z</td><td>2025-07-16T08:13:05.597Z</td></tr><tr><td>B00144</td><td>P0038</td><td>F0007</td><td>A004</td><td>1193.12</td><td>2025-04-03</td><td>2025-07-15T16:41:15.224Z</td><td>144</td><td>2025-07-16T08:13:05.597Z</td><td>2025-07-16T08:13:05.597Z</td></tr><tr><td>B00145</td><td>P0023</td><td>F0043</td><td>A010</td><td>155.49</td><td>2025-06-18</td><td>2025-07-15T16:41:15.224Z</td><td>145</td><td>2025-07-16T08:13:05.597Z</td><td>2025-07-16T08:13:05.597Z</td></tr><tr><td>B00146</td><td>P0085</td><td>F0083</td><td>A026</td><td>434.14</td><td>2025-04-28</td><td>2025-07-15T16:41:15.224Z</td><td>146</td><td>2025-07-16T08:13:05.597Z</td><td>2025-07-16T08:13:05.597Z</td></tr><tr><td>B00147</td><td>P0120</td><td>F0061</td><td>A023</td><td>1280.01</td><td>2025-04-11</td><td>2025-07-15T16:41:15.224Z</td><td>147</td><td>2025-07-16T08:13:05.597Z</td><td>2025-07-16T08:13:05.597Z</td></tr><tr><td>B00148</td><td>P0031</td><td>F0099</td><td>A046</td><td>303.25</td><td>2025-05-22</td><td>2025-07-15T16:41:15.224Z</td><td>148</td><td>2025-07-16T08:13:05.597Z</td><td>2025-07-16T08:13:05.597Z</td></tr><tr><td>B00149</td><td>P0013</td><td>F0084</td><td>A040</td><td>971.47</td><td>2025-04-14</td><td>2025-07-15T16:41:15.224Z</td><td>149</td><td>2025-07-16T08:13:05.597Z</td><td>2025-07-16T08:13:05.597Z</td></tr><tr><td>B00150</td><td>P0189</td><td>F0082</td><td>A019</td><td>786.57</td><td>2025-06-06</td><td>2025-07-15T16:41:15.224Z</td><td>150</td><td>2025-07-16T08:13:05.597Z</td><td>2025-07-16T08:13:05.597Z</td></tr><tr><td>B00151</td><td>P0180</td><td>F0075</td><td>A046</td><td>1151.15</td><td>2025-05-16</td><td>2025-07-15T16:41:15.224Z</td><td>151</td><td>2025-07-16T08:13:05.597Z</td><td>2025-07-16T08:13:05.597Z</td></tr><tr><td>B00152</td><td>P0134</td><td>F0088</td><td>A043</td><td>1375.39</td><td>2025-04-23</td><td>2025-07-15T16:41:15.224Z</td><td>152</td><td>2025-07-16T08:13:05.597Z</td><td>2025-07-16T08:13:05.597Z</td></tr><tr><td>B00153</td><td>P0105</td><td>F0063</td><td>A044</td><td>1297.04</td><td>2025-04-05</td><td>2025-07-15T16:41:15.224Z</td><td>153</td><td>2025-07-16T08:13:05.597Z</td><td>2025-07-16T08:13:05.597Z</td></tr><tr><td>B00154</td><td>P0160</td><td>F0007</td><td>A015</td><td>1379.91</td><td>2025-05-06</td><td>2025-07-15T16:41:15.224Z</td><td>154</td><td>2025-07-16T08:13:05.597Z</td><td>2025-07-16T08:13:05.597Z</td></tr><tr><td>B00155</td><td>P0176</td><td>F0039</td><td>A001</td><td>784.54</td><td>2025-04-20</td><td>2025-07-15T16:41:15.224Z</td><td>155</td><td>2025-07-16T08:13:05.597Z</td><td>2025-07-16T08:13:05.597Z</td></tr><tr><td>B00156</td><td>P0066</td><td>F0091</td><td>A020</td><td>1045.1</td><td>2025-03-25</td><td>2025-07-15T16:41:15.224Z</td><td>156</td><td>2025-07-16T08:13:05.597Z</td><td>2025-07-16T08:13:05.597Z</td></tr><tr><td>B00157</td><td>P0048</td><td>F0082</td><td>A045</td><td>270.75</td><td>2025-05-25</td><td>2025-07-15T16:41:15.224Z</td><td>157</td><td>2025-07-16T08:13:05.597Z</td><td>2025-07-16T08:13:05.597Z</td></tr><tr><td>B00158</td><td>P0040</td><td>F0052</td><td>A015</td><td>753.46</td><td>2025-06-05</td><td>2025-07-15T16:41:15.224Z</td><td>158</td><td>2025-07-16T08:13:05.597Z</td><td>2025-07-16T08:13:05.597Z</td></tr><tr><td>B00159</td><td>P0120</td><td>F0034</td><td>A025</td><td>737.98</td><td>2025-05-20</td><td>2025-07-15T16:41:15.224Z</td><td>159</td><td>2025-07-16T08:13:05.597Z</td><td>2025-07-16T08:13:05.597Z</td></tr><tr><td>B00160</td><td>P0125</td><td>F0076</td><td>A013</td><td>926.05</td><td>2025-04-10</td><td>2025-07-15T16:41:15.224Z</td><td>160</td><td>2025-07-16T08:13:05.597Z</td><td>2025-07-16T08:13:05.597Z</td></tr><tr><td>B00161</td><td>P0159</td><td>F0082</td><td>A019</td><td>596.61</td><td>2025-06-16</td><td>2025-07-15T16:41:15.224Z</td><td>161</td><td>2025-07-16T08:13:05.597Z</td><td>2025-07-16T08:13:05.597Z</td></tr><tr><td>B00162</td><td>P0062</td><td>F0005</td><td>A004</td><td>979.39</td><td>2025-05-01</td><td>2025-07-15T16:41:15.224Z</td><td>162</td><td>2025-07-16T08:13:05.597Z</td><td>2025-07-16T08:13:05.597Z</td></tr><tr><td>B00163</td><td>P0110</td><td>F0065</td><td>A050</td><td>835.71</td><td>2025-03-26</td><td>2025-07-15T16:41:15.224Z</td><td>163</td><td>2025-07-16T08:13:05.597Z</td><td>2025-07-16T08:13:05.597Z</td></tr><tr><td>B00164</td><td>P0160</td><td>F0022</td><td>A026</td><td>206.58</td><td>2025-06-12</td><td>2025-07-15T16:41:15.224Z</td><td>164</td><td>2025-07-16T08:13:05.597Z</td><td>2025-07-16T08:13:05.597Z</td></tr><tr><td>B00165</td><td>P0021</td><td>F0024</td><td>A050</td><td>885.99</td><td>2025-03-25</td><td>2025-07-15T16:41:15.224Z</td><td>165</td><td>2025-07-16T08:13:05.597Z</td><td>2025-07-16T08:13:05.597Z</td></tr><tr><td>B00166</td><td>P0007</td><td>F0087</td><td>A011</td><td>410.5</td><td>2025-04-09</td><td>2025-07-15T16:41:15.224Z</td><td>166</td><td>2025-07-16T08:13:05.597Z</td><td>2025-07-16T08:13:05.597Z</td></tr><tr><td>B00167</td><td>P0064</td><td>F0022</td><td>A036</td><td>1200.09</td><td>2025-05-23</td><td>2025-07-15T16:41:15.224Z</td><td>167</td><td>2025-07-16T08:13:05.597Z</td><td>2025-07-16T08:13:05.597Z</td></tr><tr><td>B00168</td><td>P0022</td><td>F0045</td><td>A010</td><td>1228.27</td><td>2025-04-24</td><td>2025-07-15T16:41:15.224Z</td><td>168</td><td>2025-07-16T08:13:05.597Z</td><td>2025-07-16T08:13:05.597Z</td></tr><tr><td>B00169</td><td>P0122</td><td>F0051</td><td>A037</td><td>607.74</td><td>2025-06-10</td><td>2025-07-15T16:41:15.224Z</td><td>169</td><td>2025-07-16T08:13:05.597Z</td><td>2025-07-16T08:13:05.597Z</td></tr><tr><td>B00170</td><td>P0139</td><td>F0024</td><td>A013</td><td>1309.81</td><td>2025-03-24</td><td>2025-07-15T16:41:15.224Z</td><td>170</td><td>2025-07-16T08:13:05.597Z</td><td>2025-07-16T08:13:05.597Z</td></tr><tr><td>B00171</td><td>P0188</td><td>F0014</td><td>A050</td><td>1095.94</td><td>2025-06-17</td><td>2025-07-15T16:41:15.224Z</td><td>171</td><td>2025-07-16T08:13:05.597Z</td><td>2025-07-16T08:13:05.597Z</td></tr><tr><td>B00172</td><td>P0124</td><td>F0039</td><td>A015</td><td>118.66</td><td>2025-04-11</td><td>2025-07-15T16:41:15.224Z</td><td>172</td><td>2025-07-16T08:13:05.597Z</td><td>2025-07-16T08:13:05.597Z</td></tr><tr><td>B00173</td><td>P0172</td><td>F0054</td><td>A033</td><td>1005.97</td><td>2025-05-28</td><td>2025-07-15T16:41:15.224Z</td><td>173</td><td>2025-07-16T08:13:05.597Z</td><td>2025-07-16T08:13:05.597Z</td></tr><tr><td>B00174</td><td>P0063</td><td>F0043</td><td>A045</td><td>265.87</td><td>2025-05-17</td><td>2025-07-15T16:41:15.224Z</td><td>174</td><td>2025-07-16T08:13:05.597Z</td><td>2025-07-16T08:13:05.597Z</td></tr><tr><td>B00175</td><td>P0189</td><td>F0100</td><td>A038</td><td>1254.93</td><td>2025-04-06</td><td>2025-07-15T16:41:15.224Z</td><td>175</td><td>2025-07-16T08:13:05.597Z</td><td>2025-07-16T08:13:05.597Z</td></tr><tr><td>B00176</td><td>P0114</td><td>F0050</td><td>A025</td><td>200.2</td><td>2025-05-13</td><td>2025-07-15T16:41:15.224Z</td><td>176</td><td>2025-07-16T08:13:05.597Z</td><td>2025-07-16T08:13:05.597Z</td></tr><tr><td>B00177</td><td>P0138</td><td>F0004</td><td>A013</td><td>227.25</td><td>2025-04-13</td><td>2025-07-15T16:41:15.224Z</td><td>177</td><td>2025-07-16T08:13:05.597Z</td><td>2025-07-16T08:13:05.597Z</td></tr><tr><td>B00178</td><td>P0015</td><td>F0060</td><td>A020</td><td>342.75</td><td>2025-05-17</td><td>2025-07-15T16:41:15.224Z</td><td>178</td><td>2025-07-16T08:13:05.597Z</td><td>2025-07-16T08:13:05.597Z</td></tr><tr><td>B00179</td><td>P0134</td><td>F0064</td><td>A032</td><td>307.52</td><td>2025-05-06</td><td>2025-07-15T16:41:15.224Z</td><td>179</td><td>2025-07-16T08:13:05.597Z</td><td>2025-07-16T08:13:05.597Z</td></tr><tr><td>B00180</td><td>P0046</td><td>F0063</td><td>A046</td><td>574.32</td><td>2025-05-30</td><td>2025-07-15T16:41:15.224Z</td><td>180</td><td>2025-07-16T08:13:05.597Z</td><td>2025-07-16T08:13:05.597Z</td></tr><tr><td>B00181</td><td>P0055</td><td>F0021</td><td>A010</td><td>363.79</td><td>2025-04-01</td><td>2025-07-15T16:41:15.224Z</td><td>181</td><td>2025-07-16T08:13:05.597Z</td><td>2025-07-16T08:13:05.597Z</td></tr><tr><td>B00182</td><td>P0114</td><td>F0038</td><td>A011</td><td>1280.71</td><td>2025-04-08</td><td>2025-07-15T16:41:15.224Z</td><td>182</td><td>2025-07-16T08:13:05.597Z</td><td>2025-07-16T08:13:05.597Z</td></tr><tr><td>B00183</td><td>P0102</td><td>F0024</td><td>A007</td><td>680.72</td><td>2025-04-03</td><td>2025-07-15T16:41:15.224Z</td><td>183</td><td>2025-07-16T08:13:05.597Z</td><td>2025-07-16T08:13:05.597Z</td></tr><tr><td>B00184</td><td>P0034</td><td>F0070</td><td>A010</td><td>1215.21</td><td>2025-04-26</td><td>2025-07-15T16:41:15.224Z</td><td>184</td><td>2025-07-16T08:13:05.597Z</td><td>2025-07-16T08:13:05.597Z</td></tr><tr><td>B00185</td><td>P0138</td><td>F0053</td><td>A021</td><td>583.69</td><td>2025-03-27</td><td>2025-07-15T16:41:15.224Z</td><td>185</td><td>2025-07-16T08:13:05.597Z</td><td>2025-07-16T08:13:05.597Z</td></tr><tr><td>B00186</td><td>P0098</td><td>F0071</td><td>A001</td><td>478.27</td><td>2025-05-16</td><td>2025-07-15T16:41:15.224Z</td><td>186</td><td>2025-07-16T08:13:05.597Z</td><td>2025-07-16T08:13:05.597Z</td></tr><tr><td>B00187</td><td>P0032</td><td>F0054</td><td>A016</td><td>307.17</td><td>2025-04-15</td><td>2025-07-15T16:41:15.224Z</td><td>187</td><td>2025-07-16T08:13:05.597Z</td><td>2025-07-16T08:13:05.597Z</td></tr><tr><td>B00188</td><td>P0158</td><td>F0099</td><td>A034</td><td>768.51</td><td>2025-04-11</td><td>2025-07-15T16:41:15.224Z</td><td>188</td><td>2025-07-16T08:13:05.597Z</td><td>2025-07-16T08:13:05.597Z</td></tr><tr><td>B00189</td><td>P0086</td><td>F0034</td><td>A049</td><td>422.5</td><td>2025-04-07</td><td>2025-07-15T16:41:15.224Z</td><td>189</td><td>2025-07-16T08:13:05.597Z</td><td>2025-07-16T08:13:05.597Z</td></tr><tr><td>B00190</td><td>P0031</td><td>F0052</td><td>A027</td><td>1322.44</td><td>2025-04-08</td><td>2025-07-15T16:41:15.224Z</td><td>190</td><td>2025-07-16T08:13:05.597Z</td><td>2025-07-16T08:13:05.597Z</td></tr><tr><td>B00191</td><td>P0190</td><td>F0093</td><td>A017</td><td>1194.93</td><td>2025-04-07</td><td>2025-07-15T16:41:15.224Z</td><td>191</td><td>2025-07-16T08:13:05.597Z</td><td>2025-07-16T08:13:05.597Z</td></tr><tr><td>B00192</td><td>P0172</td><td>F0007</td><td>A019</td><td>210.29</td><td>2025-05-12</td><td>2025-07-15T16:41:15.224Z</td><td>192</td><td>2025-07-16T08:13:05.597Z</td><td>2025-07-16T08:13:05.597Z</td></tr><tr><td>B00193</td><td>P0019</td><td>F0074</td><td>A042</td><td>1374.09</td><td>2025-05-16</td><td>2025-07-15T16:41:15.224Z</td><td>193</td><td>2025-07-16T08:13:05.597Z</td><td>2025-07-16T08:13:05.597Z</td></tr><tr><td>B00194</td><td>P0156</td><td>F0019</td><td>A007</td><td>1256.33</td><td>2025-05-14</td><td>2025-07-15T16:41:15.224Z</td><td>194</td><td>2025-07-16T08:13:05.597Z</td><td>2025-07-16T08:13:05.597Z</td></tr><tr><td>B00195</td><td>P0022</td><td>F0035</td><td>A040</td><td>896.43</td><td>2025-05-20</td><td>2025-07-15T16:41:15.224Z</td><td>195</td><td>2025-07-16T08:13:05.597Z</td><td>2025-07-16T08:13:05.597Z</td></tr><tr><td>B00196</td><td>P0078</td><td>F0086</td><td>A028</td><td>361.11</td><td>2025-05-14</td><td>2025-07-15T16:41:15.224Z</td><td>196</td><td>2025-07-16T08:13:05.597Z</td><td>2025-07-16T08:13:05.597Z</td></tr><tr><td>B00197</td><td>P0050</td><td>F0057</td><td>A050</td><td>930.52</td><td>2025-06-08</td><td>2025-07-15T16:41:15.224Z</td><td>197</td><td>2025-07-16T08:13:05.597Z</td><td>2025-07-16T08:13:05.597Z</td></tr><tr><td>B00198</td><td>P0122</td><td>F0056</td><td>A025</td><td>781.92</td><td>2025-05-09</td><td>2025-07-15T16:41:15.224Z</td><td>198</td><td>2025-07-16T08:13:05.597Z</td><td>2025-07-16T08:13:05.597Z</td></tr><tr><td>B00199</td><td>P0134</td><td>F0028</td><td>A028</td><td>1412.6</td><td>2025-04-05</td><td>2025-07-15T16:41:15.224Z</td><td>199</td><td>2025-07-16T08:13:05.597Z</td><td>2025-07-16T08:13:05.597Z</td></tr><tr><td>B00200</td><td>P0120</td><td>F0095</td><td>A025</td><td>449.06</td><td>2025-04-03</td><td>2025-07-15T16:41:15.224Z</td><td>200</td><td>2025-07-16T08:13:05.597Z</td><td>2025-07-16T08:13:05.597Z</td></tr><tr><td>B00201</td><td>P0047</td><td>F0004</td><td>A035</td><td>853.65</td><td>2025-04-02</td><td>2025-07-15T16:41:15.224Z</td><td>201</td><td>2025-07-16T08:13:05.597Z</td><td>2025-07-16T08:13:05.597Z</td></tr><tr><td>B00202</td><td>P0083</td><td>F0039</td><td>A019</td><td>467.53</td><td>2025-03-24</td><td>2025-07-15T16:41:15.224Z</td><td>202</td><td>2025-07-16T08:13:05.597Z</td><td>2025-07-16T08:13:05.597Z</td></tr><tr><td>B00203</td><td>P0010</td><td>F0094</td><td>A031</td><td>1429.95</td><td>2025-06-03</td><td>2025-07-15T16:41:15.224Z</td><td>203</td><td>2025-07-16T08:13:05.597Z</td><td>2025-07-16T08:13:05.597Z</td></tr><tr><td>B00204</td><td>P0123</td><td>F0051</td><td>A020</td><td>294.72</td><td>2025-04-22</td><td>2025-07-15T16:41:15.224Z</td><td>204</td><td>2025-07-16T08:13:05.597Z</td><td>2025-07-16T08:13:05.597Z</td></tr><tr><td>B00205</td><td>P0052</td><td>F0066</td><td>A030</td><td>1415.07</td><td>2025-05-24</td><td>2025-07-15T16:41:15.224Z</td><td>205</td><td>2025-07-16T08:13:05.597Z</td><td>2025-07-16T08:13:05.597Z</td></tr><tr><td>B00206</td><td>P0053</td><td>F0096</td><td>A027</td><td>811.14</td><td>2025-04-16</td><td>2025-07-15T16:41:15.224Z</td><td>206</td><td>2025-07-16T08:13:05.597Z</td><td>2025-07-16T08:13:05.597Z</td></tr><tr><td>B00207</td><td>P0106</td><td>F0097</td><td>A020</td><td>537.13</td><td>2025-05-31</td><td>2025-07-15T16:41:15.224Z</td><td>207</td><td>2025-07-16T08:13:05.597Z</td><td>2025-07-16T08:13:05.597Z</td></tr><tr><td>B00208</td><td>P0194</td><td>F0067</td><td>A033</td><td>1438.48</td><td>2025-04-28</td><td>2025-07-15T16:41:15.224Z</td><td>208</td><td>2025-07-16T08:13:05.597Z</td><td>2025-07-16T08:13:05.597Z</td></tr><tr><td>B00209</td><td>P0015</td><td>F0076</td><td>A006</td><td>818.1</td><td>2025-06-05</td><td>2025-07-15T16:41:15.224Z</td><td>209</td><td>2025-07-16T08:13:05.597Z</td><td>2025-07-16T08:13:05.597Z</td></tr><tr><td>B00210</td><td>P0010</td><td>F0016</td><td>A015</td><td>1381.81</td><td>2025-04-12</td><td>2025-07-15T16:41:15.224Z</td><td>210</td><td>2025-07-16T08:13:05.597Z</td><td>2025-07-16T08:13:05.597Z</td></tr><tr><td>B00211</td><td>P0111</td><td>F0075</td><td>A005</td><td>216.98</td><td>2025-06-04</td><td>2025-07-15T16:41:15.224Z</td><td>211</td><td>2025-07-16T08:13:05.597Z</td><td>2025-07-16T08:13:05.597Z</td></tr><tr><td>B00212</td><td>P0092</td><td>F0018</td><td>A012</td><td>1476.39</td><td>2025-06-15</td><td>2025-07-15T16:41:15.224Z</td><td>212</td><td>2025-07-16T08:13:05.597Z</td><td>2025-07-16T08:13:05.597Z</td></tr><tr><td>B00213</td><td>P0151</td><td>F0062</td><td>A027</td><td>790.47</td><td>2025-06-18</td><td>2025-07-15T16:41:15.224Z</td><td>213</td><td>2025-07-16T08:13:05.597Z</td><td>2025-07-16T08:13:05.597Z</td></tr><tr><td>B00214</td><td>P0062</td><td>F0051</td><td>A001</td><td>1245.96</td><td>2025-04-29</td><td>2025-07-15T16:41:15.224Z</td><td>214</td><td>2025-07-16T08:13:05.597Z</td><td>2025-07-16T08:13:05.597Z</td></tr><tr><td>B00215</td><td>P0114</td><td>F0001</td><td>A045</td><td>131.92</td><td>2025-05-24</td><td>2025-07-15T16:41:15.224Z</td><td>215</td><td>2025-07-16T08:13:05.597Z</td><td>2025-07-16T08:13:05.597Z</td></tr><tr><td>B00216</td><td>P0160</td><td>F0003</td><td>A004</td><td>1139.46</td><td>2025-05-18</td><td>2025-07-15T16:41:15.224Z</td><td>216</td><td>2025-07-16T08:13:05.597Z</td><td>2025-07-16T08:13:05.597Z</td></tr><tr><td>B00217</td><td>P0195</td><td>F0043</td><td>A005</td><td>371.68</td><td>2025-06-04</td><td>2025-07-15T16:41:15.224Z</td><td>217</td><td>2025-07-16T08:13:05.597Z</td><td>2025-07-16T08:13:05.597Z</td></tr><tr><td>B00218</td><td>P0009</td><td>F0038</td><td>A050</td><td>743.42</td><td>2025-03-27</td><td>2025-07-15T16:41:15.224Z</td><td>218</td><td>2025-07-16T08:13:05.597Z</td><td>2025-07-16T08:13:05.597Z</td></tr><tr><td>B00219</td><td>P0047</td><td>F0016</td><td>A009</td><td>587.8</td><td>2025-05-22</td><td>2025-07-15T16:41:15.224Z</td><td>219</td><td>2025-07-16T08:13:05.597Z</td><td>2025-07-16T08:13:05.597Z</td></tr><tr><td>B00220</td><td>P0026</td><td>F0012</td><td>A042</td><td>873.98</td><td>2025-06-12</td><td>2025-07-15T16:41:15.224Z</td><td>220</td><td>2025-07-16T08:13:05.597Z</td><td>2025-07-16T08:13:05.597Z</td></tr><tr><td>B00221</td><td>P0199</td><td>F0011</td><td>A029</td><td>553.87</td><td>2025-05-19</td><td>2025-07-15T16:41:15.224Z</td><td>221</td><td>2025-07-16T08:13:05.597Z</td><td>2025-07-16T08:13:05.597Z</td></tr><tr><td>B00222</td><td>P0150</td><td>F0079</td><td>A018</td><td>842.8</td><td>2025-05-11</td><td>2025-07-15T16:41:15.224Z</td><td>222</td><td>2025-07-16T08:13:05.597Z</td><td>2025-07-16T08:13:05.597Z</td></tr><tr><td>B00223</td><td>P0118</td><td>F0062</td><td>A017</td><td>1272.72</td><td>2025-04-30</td><td>2025-07-15T16:41:15.224Z</td><td>223</td><td>2025-07-16T08:13:05.597Z</td><td>2025-07-16T08:13:05.597Z</td></tr><tr><td>B00224</td><td>P0178</td><td>F0066</td><td>A004</td><td>1253.65</td><td>2025-06-14</td><td>2025-07-15T16:41:15.224Z</td><td>224</td><td>2025-07-16T08:13:05.597Z</td><td>2025-07-16T08:13:05.597Z</td></tr><tr><td>B00225</td><td>P0195</td><td>F0025</td><td>A026</td><td>788.67</td><td>2025-04-26</td><td>2025-07-15T16:41:15.224Z</td><td>225</td><td>2025-07-16T08:13:05.597Z</td><td>2025-07-16T08:13:05.597Z</td></tr><tr><td>B00226</td><td>P0181</td><td>F0044</td><td>A031</td><td>137.23</td><td>2025-03-26</td><td>2025-07-15T16:41:15.224Z</td><td>226</td><td>2025-07-16T08:13:05.597Z</td><td>2025-07-16T08:13:05.597Z</td></tr><tr><td>B00227</td><td>P0021</td><td>F0033</td><td>A036</td><td>1189.43</td><td>2025-05-09</td><td>2025-07-15T16:41:15.224Z</td><td>227</td><td>2025-07-16T08:13:05.597Z</td><td>2025-07-16T08:13:05.597Z</td></tr><tr><td>B00228</td><td>P0106</td><td>F0054</td><td>A045</td><td>782.09</td><td>2025-05-31</td><td>2025-07-15T16:41:15.224Z</td><td>228</td><td>2025-07-16T08:13:05.597Z</td><td>2025-07-16T08:13:05.597Z</td></tr><tr><td>B00229</td><td>P0091</td><td>F0071</td><td>A013</td><td>784.45</td><td>2025-05-29</td><td>2025-07-15T16:41:15.224Z</td><td>229</td><td>2025-07-16T08:13:05.597Z</td><td>2025-07-16T08:13:05.597Z</td></tr><tr><td>B00230</td><td>P0105</td><td>F0092</td><td>A032</td><td>912.04</td><td>2025-06-08</td><td>2025-07-15T16:41:15.224Z</td><td>230</td><td>2025-07-16T08:13:05.597Z</td><td>2025-07-16T08:13:05.597Z</td></tr><tr><td>B00231</td><td>P0047</td><td>F0014</td><td>A046</td><td>725.45</td><td>2025-06-11</td><td>2025-07-15T16:41:15.224Z</td><td>231</td><td>2025-07-16T08:13:05.597Z</td><td>2025-07-16T08:13:05.597Z</td></tr><tr><td>B00232</td><td>P0016</td><td>F0008</td><td>A015</td><td>552.76</td><td>2025-04-13</td><td>2025-07-15T16:41:15.224Z</td><td>232</td><td>2025-07-16T08:13:05.597Z</td><td>2025-07-16T08:13:05.597Z</td></tr><tr><td>B00233</td><td>P0163</td><td>F0074</td><td>A011</td><td>632.22</td><td>2025-05-12</td><td>2025-07-15T16:41:15.224Z</td><td>233</td><td>2025-07-16T08:13:05.597Z</td><td>2025-07-16T08:13:05.597Z</td></tr><tr><td>B00234</td><td>P0199</td><td>F0028</td><td>A016</td><td>140.13</td><td>2025-04-28</td><td>2025-07-15T16:41:15.224Z</td><td>234</td><td>2025-07-16T08:13:05.597Z</td><td>2025-07-16T08:13:05.597Z</td></tr><tr><td>B00235</td><td>P0082</td><td>F0056</td><td>A009</td><td>410.52</td><td>2025-04-22</td><td>2025-07-15T16:41:15.224Z</td><td>235</td><td>2025-07-16T08:13:05.597Z</td><td>2025-07-16T08:13:05.597Z</td></tr><tr><td>B00236</td><td>P0175</td><td>F0032</td><td>A023</td><td>1016.0</td><td>2025-05-08</td><td>2025-07-15T16:41:15.224Z</td><td>236</td><td>2025-07-16T08:13:05.597Z</td><td>2025-07-16T08:13:05.597Z</td></tr><tr><td>B00237</td><td>P0082</td><td>F0075</td><td>A049</td><td>1056.94</td><td>2025-05-23</td><td>2025-07-15T16:41:15.224Z</td><td>237</td><td>2025-07-16T08:13:05.597Z</td><td>2025-07-16T08:13:05.597Z</td></tr><tr><td>B00238</td><td>P0109</td><td>F0038</td><td>A028</td><td>626.68</td><td>2025-03-30</td><td>2025-07-15T16:41:15.224Z</td><td>238</td><td>2025-07-16T08:13:05.597Z</td><td>2025-07-16T08:13:05.597Z</td></tr><tr><td>B00239</td><td>P0080</td><td>F0020</td><td>A010</td><td>1343.05</td><td>2025-05-19</td><td>2025-07-15T16:41:15.224Z</td><td>239</td><td>2025-07-16T08:13:05.597Z</td><td>2025-07-16T08:13:05.597Z</td></tr><tr><td>B00240</td><td>P0119</td><td>F0040</td><td>A001</td><td>548.3</td><td>2025-04-18</td><td>2025-07-15T16:41:15.224Z</td><td>240</td><td>2025-07-16T08:13:05.597Z</td><td>2025-07-16T08:13:05.597Z</td></tr><tr><td>B00241</td><td>P0034</td><td>F0044</td><td>A033</td><td>1156.14</td><td>2025-04-27</td><td>2025-07-15T16:41:15.224Z</td><td>241</td><td>2025-07-16T08:13:05.597Z</td><td>2025-07-16T08:13:05.597Z</td></tr><tr><td>B00242</td><td>P0065</td><td>F0065</td><td>A013</td><td>736.16</td><td>2025-05-15</td><td>2025-07-15T16:41:15.224Z</td><td>242</td><td>2025-07-16T08:13:05.597Z</td><td>2025-07-16T08:13:05.597Z</td></tr><tr><td>B00243</td><td>P0127</td><td>F0002</td><td>A036</td><td>860.54</td><td>2025-06-04</td><td>2025-07-15T16:41:15.224Z</td><td>243</td><td>2025-07-16T08:13:05.597Z</td><td>2025-07-16T08:13:05.597Z</td></tr><tr><td>B00244</td><td>P0103</td><td>F0021</td><td>A048</td><td>937.71</td><td>2025-06-03</td><td>2025-07-15T16:41:15.224Z</td><td>244</td><td>2025-07-16T08:13:05.597Z</td><td>2025-07-16T08:13:05.597Z</td></tr><tr><td>B00245</td><td>P0124</td><td>F0034</td><td>A037</td><td>524.96</td><td>2025-05-01</td><td>2025-07-15T16:41:15.224Z</td><td>245</td><td>2025-07-16T08:13:05.597Z</td><td>2025-07-16T08:13:05.597Z</td></tr><tr><td>B00246</td><td>P0091</td><td>F0002</td><td>A041</td><td>1199.62</td><td>2025-05-30</td><td>2025-07-15T16:41:15.224Z</td><td>246</td><td>2025-07-16T08:13:05.597Z</td><td>2025-07-16T08:13:05.597Z</td></tr><tr><td>B00247</td><td>P0112</td><td>F0069</td><td>A006</td><td>677.89</td><td>2025-05-04</td><td>2025-07-15T16:41:15.224Z</td><td>247</td><td>2025-07-16T08:13:05.597Z</td><td>2025-07-16T08:13:05.597Z</td></tr><tr><td>B00248</td><td>P0121</td><td>F0074</td><td>A031</td><td>1418.76</td><td>2025-05-16</td><td>2025-07-15T16:41:15.224Z</td><td>248</td><td>2025-07-16T08:13:05.597Z</td><td>2025-07-16T08:13:05.597Z</td></tr><tr><td>B00249</td><td>P0194</td><td>F0086</td><td>A029</td><td>138.44</td><td>2025-04-03</td><td>2025-07-15T16:41:15.224Z</td><td>249</td><td>2025-07-16T08:13:05.597Z</td><td>2025-07-16T08:13:05.597Z</td></tr><tr><td>B00250</td><td>P0154</td><td>F0041</td><td>A014</td><td>259.17</td><td>2025-03-27</td><td>2025-07-15T16:41:15.224Z</td><td>250</td><td>2025-07-16T08:13:05.597Z</td><td>2025-07-16T08:13:05.597Z</td></tr><tr><td>B00251</td><td>P0033</td><td>F0047</td><td>A019</td><td>189.02</td><td>2025-05-03</td><td>2025-07-15T16:41:15.224Z</td><td>251</td><td>2025-07-16T08:13:05.597Z</td><td>2025-07-16T08:13:05.597Z</td></tr><tr><td>B00252</td><td>P0114</td><td>F0080</td><td>A002</td><td>1499.02</td><td>2025-04-05</td><td>2025-07-15T16:41:15.224Z</td><td>252</td><td>2025-07-16T08:13:05.597Z</td><td>2025-07-16T08:13:05.597Z</td></tr><tr><td>B00253</td><td>P0160</td><td>F0046</td><td>A019</td><td>481.21</td><td>2025-05-29</td><td>2025-07-15T16:41:15.224Z</td><td>253</td><td>2025-07-16T08:13:05.597Z</td><td>2025-07-16T08:13:05.597Z</td></tr><tr><td>B00254</td><td>P0066</td><td>F0007</td><td>A019</td><td>397.77</td><td>2025-06-06</td><td>2025-07-15T16:41:15.224Z</td><td>254</td><td>2025-07-16T08:13:05.597Z</td><td>2025-07-16T08:13:05.597Z</td></tr><tr><td>B00255</td><td>P0190</td><td>F0028</td><td>A002</td><td>518.01</td><td>2025-04-07</td><td>2025-07-15T16:41:15.224Z</td><td>255</td><td>2025-07-16T08:13:05.597Z</td><td>2025-07-16T08:13:05.597Z</td></tr><tr><td>B00256</td><td>P0023</td><td>F0041</td><td>A004</td><td>850.9</td><td>2025-03-27</td><td>2025-07-15T16:41:15.224Z</td><td>256</td><td>2025-07-16T08:13:05.597Z</td><td>2025-07-16T08:13:05.597Z</td></tr><tr><td>B00257</td><td>P0078</td><td>F0079</td><td>A040</td><td>891.35</td><td>2025-06-02</td><td>2025-07-15T16:41:15.224Z</td><td>257</td><td>2025-07-16T08:13:05.597Z</td><td>2025-07-16T08:13:05.597Z</td></tr><tr><td>B00258</td><td>P0049</td><td>F0023</td><td>A046</td><td>1486.77</td><td>2025-05-03</td><td>2025-07-15T16:41:15.224Z</td><td>258</td><td>2025-07-16T08:13:05.597Z</td><td>2025-07-16T08:13:05.597Z</td></tr><tr><td>B00259</td><td>P0124</td><td>F0008</td><td>A043</td><td>519.89</td><td>2025-06-12</td><td>2025-07-15T16:41:15.224Z</td><td>259</td><td>2025-07-16T08:13:05.597Z</td><td>2025-07-16T08:13:05.597Z</td></tr><tr><td>B00260</td><td>P0123</td><td>F0100</td><td>A048</td><td>411.39</td><td>2025-04-15</td><td>2025-07-15T16:41:15.224Z</td><td>260</td><td>2025-07-16T08:13:05.597Z</td><td>2025-07-16T08:13:05.597Z</td></tr><tr><td>B00261</td><td>P0173</td><td>F0057</td><td>A046</td><td>1248.52</td><td>2025-06-18</td><td>2025-07-15T16:41:15.224Z</td><td>261</td><td>2025-07-16T08:13:05.597Z</td><td>2025-07-16T08:13:05.597Z</td></tr><tr><td>B00262</td><td>P0066</td><td>F0001</td><td>A029</td><td>537.08</td><td>2025-04-11</td><td>2025-07-15T16:41:15.224Z</td><td>262</td><td>2025-07-16T08:13:05.597Z</td><td>2025-07-16T08:13:05.597Z</td></tr><tr><td>B00263</td><td>P0145</td><td>F0040</td><td>A025</td><td>677.12</td><td>2025-05-31</td><td>2025-07-15T16:41:15.224Z</td><td>263</td><td>2025-07-16T08:13:05.597Z</td><td>2025-07-16T08:13:05.597Z</td></tr><tr><td>B00264</td><td>P0189</td><td>F0005</td><td>A004</td><td>1355.47</td><td>2025-03-25</td><td>2025-07-15T16:41:15.224Z</td><td>264</td><td>2025-07-16T08:13:05.597Z</td><td>2025-07-16T08:13:05.597Z</td></tr><tr><td>B00265</td><td>P0001</td><td>F0005</td><td>A024</td><td>1458.58</td><td>2025-03-28</td><td>2025-07-15T16:41:15.224Z</td><td>265</td><td>2025-07-16T08:13:05.597Z</td><td>2025-07-16T08:13:05.597Z</td></tr><tr><td>B00266</td><td>P0117</td><td>F0053</td><td>A025</td><td>1440.91</td><td>2025-05-08</td><td>2025-07-15T16:41:15.224Z</td><td>266</td><td>2025-07-16T08:13:05.597Z</td><td>2025-07-16T08:13:05.597Z</td></tr><tr><td>B00267</td><td>P0020</td><td>F0050</td><td>A029</td><td>417.55</td><td>2025-06-05</td><td>2025-07-15T16:41:15.224Z</td><td>267</td><td>2025-07-16T08:13:05.597Z</td><td>2025-07-16T08:13:05.597Z</td></tr><tr><td>B00268</td><td>P0127</td><td>F0034</td><td>A019</td><td>1359.92</td><td>2025-05-18</td><td>2025-07-15T16:41:15.224Z</td><td>268</td><td>2025-07-16T08:13:05.597Z</td><td>2025-07-16T08:13:05.597Z</td></tr><tr><td>B00269</td><td>P0200</td><td>F0062</td><td>A036</td><td>555.91</td><td>2025-04-08</td><td>2025-07-15T16:41:15.224Z</td><td>269</td><td>2025-07-16T08:13:05.597Z</td><td>2025-07-16T08:13:05.597Z</td></tr><tr><td>B00270</td><td>P0046</td><td>F0040</td><td>A039</td><td>933.28</td><td>2025-04-16</td><td>2025-07-15T16:41:15.224Z</td><td>270</td><td>2025-07-16T08:13:05.597Z</td><td>2025-07-16T08:13:05.597Z</td></tr><tr><td>B00271</td><td>P0001</td><td>F0011</td><td>A005</td><td>1484.41</td><td>2025-05-10</td><td>2025-07-15T16:41:15.224Z</td><td>271</td><td>2025-07-16T08:13:05.597Z</td><td>2025-07-16T08:13:05.597Z</td></tr><tr><td>B00272</td><td>P0142</td><td>F0067</td><td>A034</td><td>1348.43</td><td>2025-06-14</td><td>2025-07-15T16:41:15.224Z</td><td>272</td><td>2025-07-16T08:13:05.597Z</td><td>2025-07-16T08:13:05.597Z</td></tr><tr><td>B00273</td><td>P0199</td><td>F0027</td><td>A018</td><td>351.31</td><td>2025-05-22</td><td>2025-07-15T16:41:15.224Z</td><td>273</td><td>2025-07-16T08:13:05.597Z</td><td>2025-07-16T08:13:05.597Z</td></tr><tr><td>B00274</td><td>P0040</td><td>F0073</td><td>A014</td><td>1168.92</td><td>2025-04-06</td><td>2025-07-15T16:41:15.224Z</td><td>274</td><td>2025-07-16T08:13:05.597Z</td><td>2025-07-16T08:13:05.597Z</td></tr><tr><td>B00275</td><td>P0184</td><td>F0056</td><td>A034</td><td>967.99</td><td>2025-05-28</td><td>2025-07-15T16:41:15.224Z</td><td>275</td><td>2025-07-16T08:13:05.597Z</td><td>2025-07-16T08:13:05.597Z</td></tr><tr><td>B00276</td><td>P0192</td><td>F0074</td><td>A043</td><td>368.66</td><td>2025-05-10</td><td>2025-07-15T16:41:15.224Z</td><td>276</td><td>2025-07-16T08:13:05.597Z</td><td>2025-07-16T08:13:05.597Z</td></tr><tr><td>B00277</td><td>P0049</td><td>F0069</td><td>A027</td><td>1146.83</td><td>2025-04-28</td><td>2025-07-15T16:41:15.224Z</td><td>277</td><td>2025-07-16T08:13:05.597Z</td><td>2025-07-16T08:13:05.597Z</td></tr><tr><td>B00278</td><td>P0005</td><td>F0066</td><td>A021</td><td>294.98</td><td>2025-05-05</td><td>2025-07-15T16:41:15.224Z</td><td>278</td><td>2025-07-16T08:13:05.597Z</td><td>2025-07-16T08:13:05.597Z</td></tr><tr><td>B00279</td><td>P0065</td><td>F0069</td><td>A006</td><td>1179.76</td><td>2025-05-30</td><td>2025-07-15T16:41:15.224Z</td><td>279</td><td>2025-07-16T08:13:05.597Z</td><td>2025-07-16T08:13:05.597Z</td></tr><tr><td>B00280</td><td>P0015</td><td>F0081</td><td>A026</td><td>1325.92</td><td>2025-05-27</td><td>2025-07-15T16:41:15.224Z</td><td>280</td><td>2025-07-16T08:13:05.597Z</td><td>2025-07-16T08:13:05.597Z</td></tr><tr><td>B00281</td><td>P0194</td><td>F0087</td><td>A008</td><td>911.92</td><td>2025-04-21</td><td>2025-07-15T16:41:15.224Z</td><td>281</td><td>2025-07-16T08:13:05.597Z</td><td>2025-07-16T08:13:05.597Z</td></tr><tr><td>B00282</td><td>P0122</td><td>F0041</td><td>A007</td><td>866.6</td><td>2025-03-27</td><td>2025-07-15T16:41:15.224Z</td><td>282</td><td>2025-07-16T08:13:05.597Z</td><td>2025-07-16T08:13:05.597Z</td></tr><tr><td>B00283</td><td>P0190</td><td>F0004</td><td>A003</td><td>834.8</td><td>2025-03-30</td><td>2025-07-15T16:41:15.224Z</td><td>283</td><td>2025-07-16T08:13:05.597Z</td><td>2025-07-16T08:13:05.597Z</td></tr><tr><td>B00284</td><td>P0175</td><td>F0046</td><td>A003</td><td>373.41</td><td>2025-06-20</td><td>2025-07-15T16:41:15.224Z</td><td>284</td><td>2025-07-16T08:13:05.597Z</td><td>2025-07-16T08:13:05.597Z</td></tr><tr><td>B00285</td><td>P0034</td><td>F0043</td><td>A040</td><td>901.09</td><td>2025-04-10</td><td>2025-07-15T16:41:15.224Z</td><td>285</td><td>2025-07-16T08:13:05.597Z</td><td>2025-07-16T08:13:05.597Z</td></tr><tr><td>B00286</td><td>P0068</td><td>F0043</td><td>A004</td><td>597.79</td><td>2025-04-29</td><td>2025-07-15T16:41:15.224Z</td><td>286</td><td>2025-07-16T08:13:05.597Z</td><td>2025-07-16T08:13:05.597Z</td></tr><tr><td>B00287</td><td>P0038</td><td>F0078</td><td>A039</td><td>809.51</td><td>2025-04-03</td><td>2025-07-15T16:41:15.224Z</td><td>287</td><td>2025-07-16T08:13:05.597Z</td><td>2025-07-16T08:13:05.597Z</td></tr><tr><td>B00288</td><td>P0090</td><td>F0009</td><td>A009</td><td>299.32</td><td>2025-05-06</td><td>2025-07-15T16:41:15.224Z</td><td>288</td><td>2025-07-16T08:13:05.597Z</td><td>2025-07-16T08:13:05.597Z</td></tr><tr><td>B00289</td><td>P0055</td><td>F0056</td><td>A003</td><td>1218.92</td><td>2025-05-28</td><td>2025-07-15T16:41:15.224Z</td><td>289</td><td>2025-07-16T08:13:05.597Z</td><td>2025-07-16T08:13:05.597Z</td></tr><tr><td>B00290</td><td>P0012</td><td>F0082</td><td>A048</td><td>907.65</td><td>2025-04-23</td><td>2025-07-15T16:41:15.224Z</td><td>290</td><td>2025-07-16T08:13:05.597Z</td><td>2025-07-16T08:13:05.597Z</td></tr><tr><td>B00291</td><td>P0100</td><td>F0062</td><td>A047</td><td>372.89</td><td>2025-06-01</td><td>2025-07-15T16:41:15.224Z</td><td>291</td><td>2025-07-16T08:13:05.597Z</td><td>2025-07-16T08:13:05.597Z</td></tr><tr><td>B00292</td><td>P0114</td><td>F0007</td><td>A050</td><td>728.16</td><td>2025-05-01</td><td>2025-07-15T16:41:15.224Z</td><td>292</td><td>2025-07-16T08:13:05.597Z</td><td>2025-07-16T08:13:05.597Z</td></tr><tr><td>B00293</td><td>P0081</td><td>F0099</td><td>A030</td><td>1236.2</td><td>2025-06-21</td><td>2025-07-15T16:41:15.224Z</td><td>293</td><td>2025-07-16T08:13:05.597Z</td><td>2025-07-16T08:13:05.597Z</td></tr><tr><td>B00294</td><td>P0189</td><td>F0030</td><td>A027</td><td>467.9</td><td>2025-06-05</td><td>2025-07-15T16:41:15.224Z</td><td>294</td><td>2025-07-16T08:13:05.597Z</td><td>2025-07-16T08:13:05.597Z</td></tr><tr><td>B00295</td><td>P0137</td><td>F0004</td><td>A007</td><td>733.92</td><td>2025-05-30</td><td>2025-07-15T16:41:15.224Z</td><td>295</td><td>2025-07-16T08:13:05.597Z</td><td>2025-07-16T08:13:05.597Z</td></tr><tr><td>B00296</td><td>P0055</td><td>F0015</td><td>A020</td><td>1155.93</td><td>2025-05-22</td><td>2025-07-15T16:41:15.224Z</td><td>296</td><td>2025-07-16T08:13:05.597Z</td><td>2025-07-16T08:13:05.597Z</td></tr><tr><td>B00297</td><td>P0177</td><td>F0056</td><td>A029</td><td>1368.6</td><td>2025-06-07</td><td>2025-07-15T16:41:15.224Z</td><td>297</td><td>2025-07-16T08:13:05.597Z</td><td>2025-07-16T08:13:05.597Z</td></tr><tr><td>B00298</td><td>P0188</td><td>F0008</td><td>A022</td><td>326.96</td><td>2025-04-08</td><td>2025-07-15T16:41:15.224Z</td><td>298</td><td>2025-07-16T08:13:05.597Z</td><td>2025-07-16T08:13:05.597Z</td></tr><tr><td>B00299</td><td>P0104</td><td>F0020</td><td>A012</td><td>1317.89</td><td>2025-06-05</td><td>2025-07-15T16:41:15.224Z</td><td>299</td><td>2025-07-16T08:13:05.597Z</td><td>2025-07-16T08:13:05.597Z</td></tr><tr><td>B00300</td><td>P0129</td><td>F0024</td><td>A010</td><td>1201.18</td><td>2025-05-28</td><td>2025-07-15T16:41:15.224Z</td><td>300</td><td>2025-07-16T08:13:05.597Z</td><td>2025-07-16T08:13:05.597Z</td></tr><tr><td>B00301</td><td>P0101</td><td>F0081</td><td>A049</td><td>1220.46</td><td>2025-04-21</td><td>2025-07-15T16:41:15.224Z</td><td>301</td><td>2025-07-16T08:13:05.597Z</td><td>2025-07-16T08:13:05.597Z</td></tr><tr><td>B00302</td><td>P0136</td><td>F0055</td><td>A025</td><td>695.94</td><td>2025-06-08</td><td>2025-07-15T16:41:15.224Z</td><td>302</td><td>2025-07-16T08:13:05.597Z</td><td>2025-07-16T08:13:05.597Z</td></tr><tr><td>B00303</td><td>P0021</td><td>F0009</td><td>A004</td><td>271.9</td><td>2025-04-28</td><td>2025-07-15T16:41:15.224Z</td><td>303</td><td>2025-07-16T08:13:05.597Z</td><td>2025-07-16T08:13:05.597Z</td></tr><tr><td>B00304</td><td>P0012</td><td>F0046</td><td>A020</td><td>1491.56</td><td>2025-03-28</td><td>2025-07-15T16:41:15.224Z</td><td>304</td><td>2025-07-16T08:13:05.597Z</td><td>2025-07-16T08:13:05.597Z</td></tr><tr><td>B00305</td><td>P0182</td><td>F0078</td><td>A013</td><td>1032.68</td><td>2025-06-08</td><td>2025-07-15T16:41:15.224Z</td><td>305</td><td>2025-07-16T08:13:05.597Z</td><td>2025-07-16T08:13:05.597Z</td></tr><tr><td>B00306</td><td>P0154</td><td>F0038</td><td>A018</td><td>420.22</td><td>2025-04-16</td><td>2025-07-15T16:41:15.224Z</td><td>306</td><td>2025-07-16T08:13:05.597Z</td><td>2025-07-16T08:13:05.597Z</td></tr><tr><td>B00307</td><td>P0187</td><td>F0037</td><td>A005</td><td>1445.32</td><td>2025-05-21</td><td>2025-07-15T16:41:15.224Z</td><td>307</td><td>2025-07-16T08:13:05.597Z</td><td>2025-07-16T08:13:05.597Z</td></tr><tr><td>B00308</td><td>P0119</td><td>F0005</td><td>A008</td><td>111.57</td><td>2025-06-01</td><td>2025-07-15T16:41:15.224Z</td><td>308</td><td>2025-07-16T08:13:05.597Z</td><td>2025-07-16T08:13:05.597Z</td></tr><tr><td>B00309</td><td>P0105</td><td>F0016</td><td>A013</td><td>710.4</td><td>2025-05-20</td><td>2025-07-15T16:41:15.224Z</td><td>309</td><td>2025-07-16T08:13:05.597Z</td><td>2025-07-16T08:13:05.597Z</td></tr><tr><td>B00310</td><td>P0031</td><td>F0091</td><td>A038</td><td>656.37</td><td>2025-05-16</td><td>2025-07-15T16:41:15.224Z</td><td>310</td><td>2025-07-16T08:13:05.597Z</td><td>2025-07-16T08:13:05.597Z</td></tr><tr><td>B00311</td><td>P0185</td><td>F0006</td><td>A001</td><td>1069.67</td><td>2025-05-12</td><td>2025-07-15T16:41:15.224Z</td><td>311</td><td>2025-07-16T08:13:05.597Z</td><td>2025-07-16T08:13:05.597Z</td></tr><tr><td>B00312</td><td>P0073</td><td>F0015</td><td>A017</td><td>951.5</td><td>2025-05-14</td><td>2025-07-15T16:41:15.224Z</td><td>312</td><td>2025-07-16T08:13:05.597Z</td><td>2025-07-16T08:13:05.597Z</td></tr><tr><td>B00313</td><td>P0053</td><td>F0027</td><td>A004</td><td>349.97</td><td>2025-03-25</td><td>2025-07-15T16:41:15.224Z</td><td>313</td><td>2025-07-16T08:13:05.597Z</td><td>2025-07-16T08:13:05.597Z</td></tr><tr><td>B00314</td><td>P0143</td><td>F0095</td><td>A033</td><td>1428.66</td><td>2025-05-10</td><td>2025-07-15T16:41:15.224Z</td><td>314</td><td>2025-07-16T08:13:05.597Z</td><td>2025-07-16T08:13:05.597Z</td></tr><tr><td>B00315</td><td>P0183</td><td>F0038</td><td>A020</td><td>547.51</td><td>2025-03-24</td><td>2025-07-15T16:41:15.224Z</td><td>315</td><td>2025-07-16T08:13:05.597Z</td><td>2025-07-16T08:13:05.597Z</td></tr><tr><td>B00316</td><td>P0086</td><td>F0010</td><td>A019</td><td>754.62</td><td>2025-04-13</td><td>2025-07-15T16:41:15.224Z</td><td>316</td><td>2025-07-16T08:13:05.597Z</td><td>2025-07-16T08:13:05.597Z</td></tr><tr><td>B00317</td><td>P0038</td><td>F0034</td><td>A050</td><td>192.3</td><td>2025-04-12</td><td>2025-07-15T16:41:15.224Z</td><td>317</td><td>2025-07-16T08:13:05.597Z</td><td>2025-07-16T08:13:05.597Z</td></tr><tr><td>B00318</td><td>P0108</td><td>F0061</td><td>A030</td><td>932.62</td><td>2025-05-15</td><td>2025-07-15T16:41:15.224Z</td><td>318</td><td>2025-07-16T08:13:05.597Z</td><td>2025-07-16T08:13:05.597Z</td></tr><tr><td>B00319</td><td>P0028</td><td>F0040</td><td>A038</td><td>311.46</td><td>2025-06-01</td><td>2025-07-15T16:41:15.224Z</td><td>319</td><td>2025-07-16T08:13:05.597Z</td><td>2025-07-16T08:13:05.597Z</td></tr><tr><td>B00320</td><td>P0187</td><td>F0070</td><td>A050</td><td>123.4</td><td>2025-06-14</td><td>2025-07-15T16:41:15.224Z</td><td>320</td><td>2025-07-16T08:13:05.597Z</td><td>2025-07-16T08:13:05.597Z</td></tr><tr><td>B00321</td><td>P0085</td><td>F0014</td><td>A036</td><td>1203.72</td><td>2025-05-10</td><td>2025-07-15T16:41:15.224Z</td><td>321</td><td>2025-07-16T08:13:05.597Z</td><td>2025-07-16T08:13:05.597Z</td></tr><tr><td>B00322</td><td>P0134</td><td>F0001</td><td>A049</td><td>1255.15</td><td>2025-06-09</td><td>2025-07-15T16:41:15.224Z</td><td>322</td><td>2025-07-16T08:13:05.597Z</td><td>2025-07-16T08:13:05.597Z</td></tr><tr><td>B00323</td><td>P0099</td><td>F0005</td><td>A001</td><td>622.22</td><td>2025-04-01</td><td>2025-07-15T16:41:15.224Z</td><td>323</td><td>2025-07-16T08:13:05.597Z</td><td>2025-07-16T08:13:05.597Z</td></tr><tr><td>B00324</td><td>P0059</td><td>F0041</td><td>A034</td><td>735.41</td><td>2025-04-29</td><td>2025-07-15T16:41:15.224Z</td><td>324</td><td>2025-07-16T08:13:05.597Z</td><td>2025-07-16T08:13:05.597Z</td></tr><tr><td>B00325</td><td>P0105</td><td>F0002</td><td>A013</td><td>459.37</td><td>2025-04-23</td><td>2025-07-15T16:41:15.224Z</td><td>325</td><td>2025-07-16T08:13:05.597Z</td><td>2025-07-16T08:13:05.597Z</td></tr><tr><td>B00326</td><td>P0082</td><td>F0058</td><td>A041</td><td>497.86</td><td>2025-04-26</td><td>2025-07-15T16:41:15.224Z</td><td>326</td><td>2025-07-16T08:13:05.597Z</td><td>2025-07-16T08:13:05.597Z</td></tr><tr><td>B00327</td><td>P0195</td><td>F0032</td><td>A035</td><td>839.35</td><td>2025-06-03</td><td>2025-07-15T16:41:15.224Z</td><td>327</td><td>2025-07-16T08:13:05.597Z</td><td>2025-07-16T08:13:05.597Z</td></tr><tr><td>B00328</td><td>P0150</td><td>F0090</td><td>A043</td><td>768.15</td><td>2025-04-21</td><td>2025-07-15T16:41:15.224Z</td><td>328</td><td>2025-07-16T08:13:05.597Z</td><td>2025-07-16T08:13:05.597Z</td></tr><tr><td>B00329</td><td>P0070</td><td>F0048</td><td>A008</td><td>1119.93</td><td>2025-06-12</td><td>2025-07-15T16:41:15.224Z</td><td>329</td><td>2025-07-16T08:13:05.597Z</td><td>2025-07-16T08:13:05.597Z</td></tr><tr><td>B00330</td><td>P0192</td><td>F0090</td><td>A011</td><td>675.87</td><td>2025-03-30</td><td>2025-07-15T16:41:15.224Z</td><td>330</td><td>2025-07-16T08:13:05.597Z</td><td>2025-07-16T08:13:05.597Z</td></tr><tr><td>B00331</td><td>P0005</td><td>F0076</td><td>A040</td><td>1370.48</td><td>2025-03-29</td><td>2025-07-15T16:41:15.224Z</td><td>331</td><td>2025-07-16T08:13:05.597Z</td><td>2025-07-16T08:13:05.597Z</td></tr><tr><td>B00332</td><td>P0066</td><td>F0007</td><td>A019</td><td>1472.47</td><td>2025-05-04</td><td>2025-07-15T16:41:15.224Z</td><td>332</td><td>2025-07-16T08:13:05.597Z</td><td>2025-07-16T08:13:05.597Z</td></tr><tr><td>B00333</td><td>P0025</td><td>F0017</td><td>A036</td><td>1372.95</td><td>2025-04-19</td><td>2025-07-15T16:41:15.224Z</td><td>333</td><td>2025-07-16T08:13:05.597Z</td><td>2025-07-16T08:13:05.597Z</td></tr><tr><td>B00334</td><td>P0140</td><td>F0007</td><td>A034</td><td>1171.37</td><td>2025-03-24</td><td>2025-07-15T16:41:15.224Z</td><td>334</td><td>2025-07-16T08:13:05.597Z</td><td>2025-07-16T08:13:05.597Z</td></tr><tr><td>B00335</td><td>P0154</td><td>F0054</td><td>A004</td><td>250.69</td><td>2025-05-23</td><td>2025-07-15T16:41:15.224Z</td><td>335</td><td>2025-07-16T08:13:05.597Z</td><td>2025-07-16T08:13:05.597Z</td></tr><tr><td>B00336</td><td>P0042</td><td>F0085</td><td>A028</td><td>256.64</td><td>2025-05-25</td><td>2025-07-15T16:41:15.224Z</td><td>336</td><td>2025-07-16T08:13:05.597Z</td><td>2025-07-16T08:13:05.597Z</td></tr><tr><td>B00337</td><td>P0089</td><td>F0099</td><td>A004</td><td>106.75</td><td>2025-05-15</td><td>2025-07-15T16:41:15.224Z</td><td>337</td><td>2025-07-16T08:13:05.597Z</td><td>2025-07-16T08:13:05.597Z</td></tr><tr><td>B00338</td><td>P0059</td><td>F0100</td><td>A049</td><td>1078.03</td><td>2025-03-26</td><td>2025-07-15T16:41:15.224Z</td><td>338</td><td>2025-07-16T08:13:05.597Z</td><td>2025-07-16T08:13:05.597Z</td></tr><tr><td>B00339</td><td>P0154</td><td>F0085</td><td>A018</td><td>390.49</td><td>2025-04-26</td><td>2025-07-15T16:41:15.224Z</td><td>339</td><td>2025-07-16T08:13:05.597Z</td><td>2025-07-16T08:13:05.597Z</td></tr><tr><td>B00340</td><td>P0185</td><td>F0043</td><td>A002</td><td>1228.07</td><td>2025-05-04</td><td>2025-07-15T16:41:15.224Z</td><td>340</td><td>2025-07-16T08:13:05.597Z</td><td>2025-07-16T08:13:05.597Z</td></tr><tr><td>B00341</td><td>P0158</td><td>F0018</td><td>A016</td><td>969.41</td><td>2025-04-22</td><td>2025-07-15T16:41:15.224Z</td><td>341</td><td>2025-07-16T08:13:05.597Z</td><td>2025-07-16T08:13:05.597Z</td></tr><tr><td>B00342</td><td>P0014</td><td>F0015</td><td>A030</td><td>1487.16</td><td>2025-05-16</td><td>2025-07-15T16:41:15.224Z</td><td>342</td><td>2025-07-16T08:13:05.597Z</td><td>2025-07-16T08:13:05.597Z</td></tr><tr><td>B00343</td><td>P0030</td><td>F0013</td><td>A043</td><td>1338.79</td><td>2025-05-02</td><td>2025-07-15T16:41:15.224Z</td><td>343</td><td>2025-07-16T08:13:05.597Z</td><td>2025-07-16T08:13:05.597Z</td></tr><tr><td>B00344</td><td>P0054</td><td>F0046</td><td>A033</td><td>455.91</td><td>2025-04-30</td><td>2025-07-15T16:41:15.224Z</td><td>344</td><td>2025-07-16T08:13:05.597Z</td><td>2025-07-16T08:13:05.597Z</td></tr><tr><td>B00345</td><td>P0021</td><td>F0080</td><td>A035</td><td>191.01</td><td>2025-05-23</td><td>2025-07-15T16:41:15.224Z</td><td>345</td><td>2025-07-16T08:13:05.597Z</td><td>2025-07-16T08:13:05.597Z</td></tr><tr><td>B00346</td><td>P0127</td><td>F0088</td><td>A020</td><td>868.82</td><td>2025-05-14</td><td>2025-07-15T16:41:15.224Z</td><td>346</td><td>2025-07-16T08:13:05.597Z</td><td>2025-07-16T08:13:05.597Z</td></tr><tr><td>B00347</td><td>P0042</td><td>F0015</td><td>A015</td><td>1322.82</td><td>2025-04-10</td><td>2025-07-15T16:41:15.224Z</td><td>347</td><td>2025-07-16T08:13:05.597Z</td><td>2025-07-16T08:13:05.597Z</td></tr><tr><td>B00348</td><td>P0037</td><td>F0007</td><td>A014</td><td>615.78</td><td>2025-05-10</td><td>2025-07-15T16:41:15.224Z</td><td>348</td><td>2025-07-16T08:13:05.597Z</td><td>2025-07-16T08:13:05.597Z</td></tr><tr><td>B00349</td><td>P0040</td><td>F0009</td><td>A047</td><td>1246.56</td><td>2025-06-07</td><td>2025-07-15T16:41:15.224Z</td><td>349</td><td>2025-07-16T08:13:05.597Z</td><td>2025-07-16T08:13:05.597Z</td></tr><tr><td>B00350</td><td>P0132</td><td>F0043</td><td>A034</td><td>1446.84</td><td>2025-04-04</td><td>2025-07-15T16:41:15.224Z</td><td>350</td><td>2025-07-16T08:13:05.597Z</td><td>2025-07-16T08:13:05.597Z</td></tr><tr><td>B00351</td><td>P0068</td><td>F0052</td><td>A004</td><td>935.69</td><td>2025-04-14</td><td>2025-07-15T16:41:15.224Z</td><td>351</td><td>2025-07-16T08:13:05.597Z</td><td>2025-07-16T08:13:05.597Z</td></tr><tr><td>B00352</td><td>P0028</td><td>F0056</td><td>A023</td><td>629.59</td><td>2025-06-03</td><td>2025-07-15T16:41:15.224Z</td><td>352</td><td>2025-07-16T08:13:05.597Z</td><td>2025-07-16T08:13:05.597Z</td></tr><tr><td>B00353</td><td>P0073</td><td>F0066</td><td>A032</td><td>577.93</td><td>2025-04-15</td><td>2025-07-15T16:41:15.224Z</td><td>353</td><td>2025-07-16T08:13:05.597Z</td><td>2025-07-16T08:13:05.597Z</td></tr><tr><td>B00354</td><td>P0129</td><td>F0041</td><td>A032</td><td>1166.58</td><td>2025-05-09</td><td>2025-07-15T16:41:15.224Z</td><td>354</td><td>2025-07-16T08:13:05.597Z</td><td>2025-07-16T08:13:05.597Z</td></tr><tr><td>B00355</td><td>P0105</td><td>F0090</td><td>A001</td><td>1009.15</td><td>2025-04-14</td><td>2025-07-15T16:41:15.224Z</td><td>355</td><td>2025-07-16T08:13:05.597Z</td><td>2025-07-16T08:13:05.597Z</td></tr><tr><td>B00356</td><td>P0168</td><td>F0097</td><td>A005</td><td>621.23</td><td>2025-04-20</td><td>2025-07-15T16:41:15.224Z</td><td>356</td><td>2025-07-16T08:13:05.597Z</td><td>2025-07-16T08:13:05.597Z</td></tr><tr><td>B00357</td><td>P0022</td><td>F0044</td><td>A014</td><td>988.86</td><td>2025-05-03</td><td>2025-07-15T16:41:15.224Z</td><td>357</td><td>2025-07-16T08:13:05.597Z</td><td>2025-07-16T08:13:05.597Z</td></tr><tr><td>B00358</td><td>P0116</td><td>F0007</td><td>A004</td><td>582.46</td><td>2025-04-17</td><td>2025-07-15T16:41:15.224Z</td><td>358</td><td>2025-07-16T08:13:05.597Z</td><td>2025-07-16T08:13:05.597Z</td></tr><tr><td>B00359</td><td>P0032</td><td>F0001</td><td>A022</td><td>1050.28</td><td>2025-06-08</td><td>2025-07-15T16:41:15.224Z</td><td>359</td><td>2025-07-16T08:13:05.597Z</td><td>2025-07-16T08:13:05.597Z</td></tr><tr><td>B00360</td><td>P0007</td><td>F0018</td><td>A041</td><td>647.29</td><td>2025-06-17</td><td>2025-07-15T16:41:15.224Z</td><td>360</td><td>2025-07-16T08:13:05.597Z</td><td>2025-07-16T08:13:05.597Z</td></tr><tr><td>B00361</td><td>P0025</td><td>F0099</td><td>A008</td><td>312.25</td><td>2025-05-04</td><td>2025-07-15T16:41:15.224Z</td><td>361</td><td>2025-07-16T08:13:05.597Z</td><td>2025-07-16T08:13:05.597Z</td></tr><tr><td>B00362</td><td>P0193</td><td>F0051</td><td>A006</td><td>804.19</td><td>2025-04-19</td><td>2025-07-15T16:41:15.224Z</td><td>362</td><td>2025-07-16T08:13:05.597Z</td><td>2025-07-16T08:13:05.597Z</td></tr><tr><td>B00363</td><td>P0107</td><td>F0050</td><td>A027</td><td>889.48</td><td>2025-04-15</td><td>2025-07-15T16:41:15.224Z</td><td>363</td><td>2025-07-16T08:13:05.597Z</td><td>2025-07-16T08:13:05.597Z</td></tr><tr><td>B00364</td><td>P0125</td><td>F0087</td><td>A015</td><td>1289.16</td><td>2025-04-21</td><td>2025-07-15T16:41:15.224Z</td><td>364</td><td>2025-07-16T08:13:05.597Z</td><td>2025-07-16T08:13:05.597Z</td></tr><tr><td>B00365</td><td>P0042</td><td>F0076</td><td>A013</td><td>839.69</td><td>2025-05-04</td><td>2025-07-15T16:41:15.224Z</td><td>365</td><td>2025-07-16T08:13:05.597Z</td><td>2025-07-16T08:13:05.597Z</td></tr><tr><td>B00366</td><td>P0091</td><td>F0097</td><td>A047</td><td>217.33</td><td>2025-04-14</td><td>2025-07-15T16:41:15.224Z</td><td>366</td><td>2025-07-16T08:13:05.597Z</td><td>2025-07-16T08:13:05.597Z</td></tr><tr><td>B00367</td><td>P0062</td><td>F0096</td><td>A025</td><td>292.47</td><td>2025-05-23</td><td>2025-07-15T16:41:15.224Z</td><td>367</td><td>2025-07-16T08:13:05.597Z</td><td>2025-07-16T08:13:05.597Z</td></tr><tr><td>B00368</td><td>P0076</td><td>F0100</td><td>A042</td><td>338.15</td><td>2025-05-01</td><td>2025-07-15T16:41:15.224Z</td><td>368</td><td>2025-07-16T08:13:05.597Z</td><td>2025-07-16T08:13:05.597Z</td></tr><tr><td>B00369</td><td>P0150</td><td>F0100</td><td>A004</td><td>932.67</td><td>2025-04-22</td><td>2025-07-15T16:41:15.224Z</td><td>369</td><td>2025-07-16T08:13:05.597Z</td><td>2025-07-16T08:13:05.597Z</td></tr><tr><td>B00370</td><td>P0088</td><td>F0014</td><td>A028</td><td>186.13</td><td>2025-04-27</td><td>2025-07-15T16:41:15.224Z</td><td>370</td><td>2025-07-16T08:13:05.597Z</td><td>2025-07-16T08:13:05.597Z</td></tr><tr><td>B00371</td><td>P0055</td><td>F0085</td><td>A001</td><td>488.66</td><td>2025-04-27</td><td>2025-07-15T16:41:15.224Z</td><td>371</td><td>2025-07-16T08:13:05.597Z</td><td>2025-07-16T08:13:05.597Z</td></tr><tr><td>B00372</td><td>P0112</td><td>F0090</td><td>A017</td><td>461.68</td><td>2025-04-02</td><td>2025-07-15T16:41:15.224Z</td><td>372</td><td>2025-07-16T08:13:05.597Z</td><td>2025-07-16T08:13:05.597Z</td></tr><tr><td>B00373</td><td>P0180</td><td>F0073</td><td>A046</td><td>545.17</td><td>2025-06-13</td><td>2025-07-15T16:41:15.224Z</td><td>373</td><td>2025-07-16T08:13:05.597Z</td><td>2025-07-16T08:13:05.597Z</td></tr><tr><td>B00374</td><td>P0184</td><td>F0023</td><td>A029</td><td>494.59</td><td>2025-03-25</td><td>2025-07-15T16:41:15.224Z</td><td>374</td><td>2025-07-16T08:13:05.597Z</td><td>2025-07-16T08:13:05.597Z</td></tr><tr><td>B00375</td><td>P0082</td><td>F0006</td><td>A014</td><td>1451.75</td><td>2025-03-26</td><td>2025-07-15T16:41:15.224Z</td><td>375</td><td>2025-07-16T08:13:05.597Z</td><td>2025-07-16T08:13:05.597Z</td></tr><tr><td>B00376</td><td>P0015</td><td>F0077</td><td>A039</td><td>1370.58</td><td>2025-05-13</td><td>2025-07-15T16:41:15.224Z</td><td>376</td><td>2025-07-16T08:13:05.597Z</td><td>2025-07-16T08:13:05.597Z</td></tr><tr><td>B00377</td><td>P0195</td><td>F0066</td><td>A026</td><td>1364.53</td><td>2025-06-05</td><td>2025-07-15T16:41:15.224Z</td><td>377</td><td>2025-07-16T08:13:05.597Z</td><td>2025-07-16T08:13:05.597Z</td></tr><tr><td>B00378</td><td>P0010</td><td>F0021</td><td>A023</td><td>456.45</td><td>2025-03-27</td><td>2025-07-15T16:41:15.224Z</td><td>378</td><td>2025-07-16T08:13:05.597Z</td><td>2025-07-16T08:13:05.597Z</td></tr><tr><td>B00379</td><td>P0131</td><td>F0078</td><td>A026</td><td>697.3</td><td>2025-05-27</td><td>2025-07-15T16:41:15.224Z</td><td>379</td><td>2025-07-16T08:13:05.597Z</td><td>2025-07-16T08:13:05.597Z</td></tr><tr><td>B00380</td><td>P0056</td><td>F0041</td><td>A003</td><td>673.98</td><td>2025-04-13</td><td>2025-07-15T16:41:15.224Z</td><td>380</td><td>2025-07-16T08:13:05.597Z</td><td>2025-07-16T08:13:05.597Z</td></tr><tr><td>B00381</td><td>P0117</td><td>F0034</td><td>A035</td><td>247.23</td><td>2025-05-23</td><td>2025-07-15T16:41:15.224Z</td><td>381</td><td>2025-07-16T08:13:05.597Z</td><td>2025-07-16T08:13:05.597Z</td></tr><tr><td>B00382</td><td>P0030</td><td>F0063</td><td>A050</td><td>1034.92</td><td>2025-05-12</td><td>2025-07-15T16:41:15.224Z</td><td>382</td><td>2025-07-16T08:13:05.597Z</td><td>2025-07-16T08:13:05.597Z</td></tr><tr><td>B00383</td><td>P0008</td><td>F0020</td><td>A028</td><td>278.97</td><td>2025-05-21</td><td>2025-07-15T16:41:15.224Z</td><td>383</td><td>2025-07-16T08:13:05.597Z</td><td>2025-07-16T08:13:05.597Z</td></tr><tr><td>B00384</td><td>P0050</td><td>F0002</td><td>A029</td><td>1123.22</td><td>2025-05-01</td><td>2025-07-15T16:41:15.224Z</td><td>384</td><td>2025-07-16T08:13:05.597Z</td><td>2025-07-16T08:13:05.597Z</td></tr><tr><td>B00385</td><td>P0099</td><td>F0022</td><td>A007</td><td>429.0</td><td>2025-04-06</td><td>2025-07-15T16:41:15.224Z</td><td>385</td><td>2025-07-16T08:13:05.597Z</td><td>2025-07-16T08:13:05.597Z</td></tr><tr><td>B00386</td><td>P0076</td><td>F0084</td><td>A036</td><td>509.87</td><td>2025-04-18</td><td>2025-07-15T16:41:15.224Z</td><td>386</td><td>2025-07-16T08:13:05.597Z</td><td>2025-07-16T08:13:05.597Z</td></tr><tr><td>B00387</td><td>P0142</td><td>F0001</td><td>A021</td><td>1325.29</td><td>2025-05-07</td><td>2025-07-15T16:41:15.224Z</td><td>387</td><td>2025-07-16T08:13:05.597Z</td><td>2025-07-16T08:13:05.597Z</td></tr><tr><td>B00388</td><td>P0033</td><td>F0057</td><td>A050</td><td>512.01</td><td>2025-05-23</td><td>2025-07-15T16:41:15.224Z</td><td>388</td><td>2025-07-16T08:13:05.597Z</td><td>2025-07-16T08:13:05.597Z</td></tr><tr><td>B00389</td><td>P0188</td><td>F0054</td><td>A012</td><td>831.9</td><td>2025-06-14</td><td>2025-07-15T16:41:15.224Z</td><td>389</td><td>2025-07-16T08:13:05.597Z</td><td>2025-07-16T08:13:05.597Z</td></tr><tr><td>B00390</td><td>P0022</td><td>F0037</td><td>A024</td><td>1115.91</td><td>2025-05-08</td><td>2025-07-15T16:41:15.224Z</td><td>390</td><td>2025-07-16T08:13:05.597Z</td><td>2025-07-16T08:13:05.597Z</td></tr><tr><td>B00391</td><td>P0139</td><td>F0040</td><td>A040</td><td>1475.69</td><td>2025-03-31</td><td>2025-07-15T16:41:15.224Z</td><td>391</td><td>2025-07-16T08:13:05.597Z</td><td>2025-07-16T08:13:05.597Z</td></tr><tr><td>B00392</td><td>P0046</td><td>F0046</td><td>A014</td><td>1176.34</td><td>2025-06-20</td><td>2025-07-15T16:41:15.224Z</td><td>392</td><td>2025-07-16T08:13:05.597Z</td><td>2025-07-16T08:13:05.597Z</td></tr><tr><td>B00393</td><td>P0107</td><td>F0066</td><td>A032</td><td>835.45</td><td>2025-04-01</td><td>2025-07-15T16:41:15.224Z</td><td>393</td><td>2025-07-16T08:13:05.597Z</td><td>2025-07-16T08:13:05.597Z</td></tr><tr><td>B00394</td><td>P0037</td><td>F0013</td><td>A050</td><td>1088.26</td><td>2025-04-05</td><td>2025-07-15T16:41:15.224Z</td><td>394</td><td>2025-07-16T08:13:05.597Z</td><td>2025-07-16T08:13:05.597Z</td></tr><tr><td>B00395</td><td>P0014</td><td>F0079</td><td>A024</td><td>935.13</td><td>2025-04-10</td><td>2025-07-15T16:41:15.224Z</td><td>395</td><td>2025-07-16T08:13:05.597Z</td><td>2025-07-16T08:13:05.597Z</td></tr><tr><td>B00396</td><td>P0001</td><td>F0067</td><td>A027</td><td>735.79</td><td>2025-06-16</td><td>2025-07-15T16:41:15.224Z</td><td>396</td><td>2025-07-16T08:13:05.597Z</td><td>2025-07-16T08:13:05.597Z</td></tr><tr><td>B00397</td><td>P0097</td><td>F0065</td><td>A034</td><td>194.07</td><td>2025-05-03</td><td>2025-07-15T16:41:15.224Z</td><td>397</td><td>2025-07-16T08:13:05.597Z</td><td>2025-07-16T08:13:05.597Z</td></tr><tr><td>B00398</td><td>P0073</td><td>F0002</td><td>A019</td><td>540.68</td><td>2025-03-27</td><td>2025-07-15T16:41:15.224Z</td><td>398</td><td>2025-07-16T08:13:05.597Z</td><td>2025-07-16T08:13:05.597Z</td></tr><tr><td>B00399</td><td>P0092</td><td>F0011</td><td>A031</td><td>917.69</td><td>2025-06-05</td><td>2025-07-15T16:41:15.224Z</td><td>399</td><td>2025-07-16T08:13:05.597Z</td><td>2025-07-16T08:13:05.597Z</td></tr><tr><td>B00400</td><td>P0107</td><td>F0016</td><td>A047</td><td>1245.21</td><td>2025-05-11</td><td>2025-07-15T16:41:15.224Z</td><td>400</td><td>2025-07-16T08:13:05.597Z</td><td>2025-07-16T08:13:05.597Z</td></tr><tr><td>B00401</td><td>P0062</td><td>F0012</td><td>A019</td><td>1060.52</td><td>2025-06-10</td><td>2025-07-15T16:41:15.224Z</td><td>401</td><td>2025-07-16T08:13:05.597Z</td><td>2025-07-16T08:13:05.597Z</td></tr><tr><td>B00402</td><td>P0105</td><td>F0081</td><td>A034</td><td>1062.36</td><td>2025-05-19</td><td>2025-07-15T16:41:15.224Z</td><td>402</td><td>2025-07-16T08:13:05.597Z</td><td>2025-07-16T08:13:05.597Z</td></tr><tr><td>B00403</td><td>P0072</td><td>F0022</td><td>A046</td><td>515.37</td><td>2025-05-22</td><td>2025-07-15T16:41:15.224Z</td><td>403</td><td>2025-07-16T08:13:05.597Z</td><td>2025-07-16T08:13:05.597Z</td></tr><tr><td>B00404</td><td>P0152</td><td>F0007</td><td>A001</td><td>773.77</td><td>2025-03-31</td><td>2025-07-15T16:41:15.224Z</td><td>404</td><td>2025-07-16T08:13:05.597Z</td><td>2025-07-16T08:13:05.597Z</td></tr><tr><td>B00405</td><td>P0028</td><td>F0004</td><td>A002</td><td>1327.37</td><td>2025-04-23</td><td>2025-07-15T16:41:15.224Z</td><td>405</td><td>2025-07-16T08:13:05.597Z</td><td>2025-07-16T08:13:05.597Z</td></tr><tr><td>B00406</td><td>P0186</td><td>F0018</td><td>A032</td><td>1008.74</td><td>2025-06-01</td><td>2025-07-15T16:41:15.224Z</td><td>406</td><td>2025-07-16T08:13:05.597Z</td><td>2025-07-16T08:13:05.597Z</td></tr><tr><td>B00407</td><td>P0078</td><td>F0083</td><td>A040</td><td>1199.47</td><td>2025-05-07</td><td>2025-07-15T16:41:15.224Z</td><td>407</td><td>2025-07-16T08:13:05.597Z</td><td>2025-07-16T08:13:05.597Z</td></tr><tr><td>B00408</td><td>P0040</td><td>F0068</td><td>A023</td><td>105.16</td><td>2025-06-15</td><td>2025-07-15T16:41:15.224Z</td><td>408</td><td>2025-07-16T08:13:05.597Z</td><td>2025-07-16T08:13:05.597Z</td></tr><tr><td>B00409</td><td>P0100</td><td>F0065</td><td>A050</td><td>1171.53</td><td>2025-05-03</td><td>2025-07-15T16:41:15.224Z</td><td>409</td><td>2025-07-16T08:13:05.597Z</td><td>2025-07-16T08:13:05.597Z</td></tr><tr><td>B00410</td><td>P0149</td><td>F0026</td><td>A002</td><td>953.33</td><td>2025-05-10</td><td>2025-07-15T16:41:15.224Z</td><td>410</td><td>2025-07-16T08:13:05.597Z</td><td>2025-07-16T08:13:05.597Z</td></tr><tr><td>B00411</td><td>P0103</td><td>F0018</td><td>A004</td><td>857.23</td><td>2025-04-15</td><td>2025-07-15T16:41:15.224Z</td><td>411</td><td>2025-07-16T08:13:05.597Z</td><td>2025-07-16T08:13:05.597Z</td></tr><tr><td>B00412</td><td>P0092</td><td>F0033</td><td>A049</td><td>763.11</td><td>2025-04-12</td><td>2025-07-15T16:41:15.224Z</td><td>412</td><td>2025-07-16T08:13:05.597Z</td><td>2025-07-16T08:13:05.597Z</td></tr><tr><td>B00413</td><td>P0188</td><td>F0098</td><td>A026</td><td>708.36</td><td>2025-06-19</td><td>2025-07-15T16:41:15.224Z</td><td>413</td><td>2025-07-16T08:13:05.597Z</td><td>2025-07-16T08:13:05.597Z</td></tr><tr><td>B00414</td><td>P0155</td><td>F0085</td><td>A032</td><td>895.98</td><td>2025-05-04</td><td>2025-07-15T16:41:15.224Z</td><td>414</td><td>2025-07-16T08:13:05.597Z</td><td>2025-07-16T08:13:05.597Z</td></tr><tr><td>B00415</td><td>P0047</td><td>F0003</td><td>A042</td><td>238.82</td><td>2025-05-07</td><td>2025-07-15T16:41:15.224Z</td><td>415</td><td>2025-07-16T08:13:05.597Z</td><td>2025-07-16T08:13:05.597Z</td></tr><tr><td>B00416</td><td>P0059</td><td>F0084</td><td>A016</td><td>521.44</td><td>2025-05-23</td><td>2025-07-15T16:41:15.224Z</td><td>416</td><td>2025-07-16T08:13:05.597Z</td><td>2025-07-16T08:13:05.597Z</td></tr><tr><td>B00417</td><td>P0146</td><td>F0071</td><td>A027</td><td>665.01</td><td>2025-05-12</td><td>2025-07-15T16:41:15.224Z</td><td>417</td><td>2025-07-16T08:13:05.597Z</td><td>2025-07-16T08:13:05.597Z</td></tr><tr><td>B00418</td><td>P0161</td><td>F0053</td><td>A007</td><td>1086.62</td><td>2025-05-05</td><td>2025-07-15T16:41:15.224Z</td><td>418</td><td>2025-07-16T08:13:05.597Z</td><td>2025-07-16T08:13:05.597Z</td></tr><tr><td>B00419</td><td>P0058</td><td>F0054</td><td>A002</td><td>414.99</td><td>2025-04-29</td><td>2025-07-15T16:41:15.224Z</td><td>419</td><td>2025-07-16T08:13:05.597Z</td><td>2025-07-16T08:13:05.597Z</td></tr><tr><td>B00420</td><td>P0095</td><td>F0085</td><td>A042</td><td>556.33</td><td>2025-04-05</td><td>2025-07-15T16:41:15.224Z</td><td>420</td><td>2025-07-16T08:13:05.597Z</td><td>2025-07-16T08:13:05.597Z</td></tr><tr><td>B00421</td><td>P0139</td><td>F0018</td><td>A029</td><td>904.26</td><td>2025-04-17</td><td>2025-07-15T16:41:15.224Z</td><td>421</td><td>2025-07-16T08:13:05.597Z</td><td>2025-07-16T08:13:05.597Z</td></tr><tr><td>B00422</td><td>P0074</td><td>F0065</td><td>A001</td><td>416.88</td><td>2025-05-29</td><td>2025-07-15T16:41:15.224Z</td><td>422</td><td>2025-07-16T08:13:05.597Z</td><td>2025-07-16T08:13:05.597Z</td></tr><tr><td>B00423</td><td>P0173</td><td>F0059</td><td>A046</td><td>1482.68</td><td>2025-05-03</td><td>2025-07-15T16:41:15.224Z</td><td>423</td><td>2025-07-16T08:13:05.597Z</td><td>2025-07-16T08:13:05.597Z</td></tr><tr><td>B00424</td><td>P0004</td><td>F0084</td><td>A036</td><td>1219.45</td><td>2025-03-31</td><td>2025-07-15T16:41:15.224Z</td><td>424</td><td>2025-07-16T08:13:05.597Z</td><td>2025-07-16T08:13:05.597Z</td></tr><tr><td>B00425</td><td>P0109</td><td>F0053</td><td>A049</td><td>636.51</td><td>2025-05-07</td><td>2025-07-15T16:41:15.224Z</td><td>425</td><td>2025-07-16T08:13:05.597Z</td><td>2025-07-16T08:13:05.597Z</td></tr><tr><td>B00426</td><td>P0192</td><td>F0026</td><td>A048</td><td>1075.62</td><td>2025-05-17</td><td>2025-07-15T16:41:15.224Z</td><td>426</td><td>2025-07-16T08:13:05.597Z</td><td>2025-07-16T08:13:05.597Z</td></tr><tr><td>B00427</td><td>P0118</td><td>F0074</td><td>A018</td><td>1336.85</td><td>2025-06-04</td><td>2025-07-15T16:41:15.224Z</td><td>427</td><td>2025-07-16T08:13:05.597Z</td><td>2025-07-16T08:13:05.597Z</td></tr><tr><td>B00428</td><td>P0061</td><td>F0015</td><td>A033</td><td>1114.88</td><td>2025-06-01</td><td>2025-07-15T16:41:15.224Z</td><td>428</td><td>2025-07-16T08:13:05.597Z</td><td>2025-07-16T08:13:05.597Z</td></tr><tr><td>B00429</td><td>P0140</td><td>F0037</td><td>A021</td><td>881.05</td><td>2025-06-10</td><td>2025-07-15T16:41:15.224Z</td><td>429</td><td>2025-07-16T08:13:05.597Z</td><td>2025-07-16T08:13:05.597Z</td></tr><tr><td>B00430</td><td>P0043</td><td>F0036</td><td>A029</td><td>670.13</td><td>2025-04-23</td><td>2025-07-15T16:41:15.224Z</td><td>430</td><td>2025-07-16T08:13:05.597Z</td><td>2025-07-16T08:13:05.597Z</td></tr><tr><td>B00431</td><td>P0163</td><td>F0053</td><td>A030</td><td>628.62</td><td>2025-04-18</td><td>2025-07-15T16:41:15.224Z</td><td>431</td><td>2025-07-16T08:13:05.597Z</td><td>2025-07-16T08:13:05.597Z</td></tr><tr><td>B00432</td><td>P0049</td><td>F0001</td><td>A046</td><td>515.77</td><td>2025-03-29</td><td>2025-07-15T16:41:15.224Z</td><td>432</td><td>2025-07-16T08:13:05.597Z</td><td>2025-07-16T08:13:05.597Z</td></tr><tr><td>B00433</td><td>P0115</td><td>F0002</td><td>A035</td><td>498.02</td><td>2025-06-03</td><td>2025-07-15T16:41:15.224Z</td><td>433</td><td>2025-07-16T08:13:05.597Z</td><td>2025-07-16T08:13:05.597Z</td></tr><tr><td>B00434</td><td>P0012</td><td>F0004</td><td>A009</td><td>621.42</td><td>2025-03-30</td><td>2025-07-15T16:41:15.224Z</td><td>434</td><td>2025-07-16T08:13:05.597Z</td><td>2025-07-16T08:13:05.597Z</td></tr><tr><td>B00435</td><td>P0170</td><td>F0080</td><td>A017</td><td>898.2</td><td>2025-04-09</td><td>2025-07-15T16:41:15.224Z</td><td>435</td><td>2025-07-16T08:13:05.597Z</td><td>2025-07-16T08:13:05.597Z</td></tr><tr><td>B00436</td><td>P0157</td><td>F0083</td><td>A008</td><td>1245.09</td><td>2025-06-15</td><td>2025-07-15T16:41:15.224Z</td><td>436</td><td>2025-07-16T08:13:05.597Z</td><td>2025-07-16T08:13:05.597Z</td></tr><tr><td>B00437</td><td>P0175</td><td>F0060</td><td>A011</td><td>440.98</td><td>2025-04-23</td><td>2025-07-15T16:41:15.224Z</td><td>437</td><td>2025-07-16T08:13:05.597Z</td><td>2025-07-16T08:13:05.597Z</td></tr><tr><td>B00438</td><td>P0149</td><td>F0086</td><td>A031</td><td>1254.2</td><td>2025-03-30</td><td>2025-07-15T16:41:15.224Z</td><td>438</td><td>2025-07-16T08:13:05.597Z</td><td>2025-07-16T08:13:05.597Z</td></tr><tr><td>B00439</td><td>P0126</td><td>F0044</td><td>A034</td><td>623.21</td><td>2025-06-07</td><td>2025-07-15T16:41:15.224Z</td><td>439</td><td>2025-07-16T08:13:05.597Z</td><td>2025-07-16T08:13:05.597Z</td></tr><tr><td>B00440</td><td>P0020</td><td>F0098</td><td>A049</td><td>1248.45</td><td>2025-04-20</td><td>2025-07-15T16:41:15.224Z</td><td>440</td><td>2025-07-16T08:13:05.597Z</td><td>2025-07-16T08:13:05.597Z</td></tr><tr><td>B00441</td><td>P0160</td><td>F0017</td><td>A045</td><td>407.5</td><td>2025-03-27</td><td>2025-07-15T16:41:15.224Z</td><td>441</td><td>2025-07-16T08:13:05.597Z</td><td>2025-07-16T08:13:05.597Z</td></tr><tr><td>B00442</td><td>P0019</td><td>F0016</td><td>A048</td><td>1338.85</td><td>2025-04-20</td><td>2025-07-15T16:41:15.224Z</td><td>442</td><td>2025-07-16T08:13:05.597Z</td><td>2025-07-16T08:13:05.597Z</td></tr><tr><td>B00443</td><td>P0083</td><td>F0097</td><td>A047</td><td>1218.27</td><td>2025-04-27</td><td>2025-07-15T16:41:15.224Z</td><td>443</td><td>2025-07-16T08:13:05.597Z</td><td>2025-07-16T08:13:05.597Z</td></tr><tr><td>B00444</td><td>P0011</td><td>F0089</td><td>A035</td><td>412.29</td><td>2025-06-11</td><td>2025-07-15T16:41:15.224Z</td><td>444</td><td>2025-07-16T08:13:05.597Z</td><td>2025-07-16T08:13:05.597Z</td></tr><tr><td>B00445</td><td>P0052</td><td>F0059</td><td>A042</td><td>287.72</td><td>2025-05-02</td><td>2025-07-15T16:41:15.224Z</td><td>445</td><td>2025-07-16T08:13:05.597Z</td><td>2025-07-16T08:13:05.597Z</td></tr><tr><td>B00446</td><td>P0059</td><td>F0033</td><td>A050</td><td>1099.42</td><td>2025-04-12</td><td>2025-07-15T16:41:15.224Z</td><td>446</td><td>2025-07-16T08:13:05.597Z</td><td>2025-07-16T08:13:05.597Z</td></tr><tr><td>B00447</td><td>P0162</td><td>F0013</td><td>A010</td><td>453.78</td><td>2025-05-31</td><td>2025-07-15T16:41:15.224Z</td><td>447</td><td>2025-07-16T08:13:05.597Z</td><td>2025-07-16T08:13:05.597Z</td></tr><tr><td>B00448</td><td>P0046</td><td>F0091</td><td>A011</td><td>1078.34</td><td>2025-05-13</td><td>2025-07-15T16:41:15.224Z</td><td>448</td><td>2025-07-16T08:13:05.597Z</td><td>2025-07-16T08:13:05.597Z</td></tr><tr><td>B00449</td><td>P0160</td><td>F0004</td><td>A010</td><td>470.33</td><td>2025-04-04</td><td>2025-07-15T16:41:15.224Z</td><td>449</td><td>2025-07-16T08:13:05.597Z</td><td>2025-07-16T08:13:05.597Z</td></tr><tr><td>B00450</td><td>P0081</td><td>F0005</td><td>A033</td><td>815.36</td><td>2025-06-13</td><td>2025-07-15T16:41:15.224Z</td><td>450</td><td>2025-07-16T08:13:05.597Z</td><td>2025-07-16T08:13:05.597Z</td></tr><tr><td>B00451</td><td>P0118</td><td>F0093</td><td>A010</td><td>958.59</td><td>2025-05-23</td><td>2025-07-15T16:41:15.224Z</td><td>451</td><td>2025-07-16T08:13:05.597Z</td><td>2025-07-16T08:13:05.597Z</td></tr><tr><td>B00452</td><td>P0102</td><td>F0045</td><td>A045</td><td>275.63</td><td>2025-05-15</td><td>2025-07-15T16:41:15.224Z</td><td>452</td><td>2025-07-16T08:13:05.597Z</td><td>2025-07-16T08:13:05.597Z</td></tr><tr><td>B00453</td><td>P0144</td><td>F0085</td><td>A008</td><td>274.31</td><td>2025-04-07</td><td>2025-07-15T16:41:15.224Z</td><td>453</td><td>2025-07-16T08:13:05.597Z</td><td>2025-07-16T08:13:05.597Z</td></tr><tr><td>B00454</td><td>P0121</td><td>F0093</td><td>A036</td><td>1004.8</td><td>2025-05-13</td><td>2025-07-15T16:41:15.224Z</td><td>454</td><td>2025-07-16T08:13:05.597Z</td><td>2025-07-16T08:13:05.597Z</td></tr><tr><td>B00455</td><td>P0027</td><td>F0047</td><td>A039</td><td>668.17</td><td>2025-06-01</td><td>2025-07-15T16:41:15.224Z</td><td>455</td><td>2025-07-16T08:13:05.597Z</td><td>2025-07-16T08:13:05.597Z</td></tr><tr><td>B00456</td><td>P0018</td><td>F0002</td><td>A006</td><td>960.82</td><td>2025-04-22</td><td>2025-07-15T16:41:15.224Z</td><td>456</td><td>2025-07-16T08:13:05.597Z</td><td>2025-07-16T08:13:05.597Z</td></tr><tr><td>B00457</td><td>P0190</td><td>F0026</td><td>A028</td><td>597.9</td><td>2025-03-28</td><td>2025-07-15T16:41:15.224Z</td><td>457</td><td>2025-07-16T08:13:05.597Z</td><td>2025-07-16T08:13:05.597Z</td></tr><tr><td>B00458</td><td>P0120</td><td>F0013</td><td>A021</td><td>1155.19</td><td>2025-06-09</td><td>2025-07-15T16:41:15.224Z</td><td>458</td><td>2025-07-16T08:13:05.597Z</td><td>2025-07-16T08:13:05.597Z</td></tr><tr><td>B00459</td><td>P0093</td><td>F0053</td><td>A035</td><td>1072.18</td><td>2025-05-29</td><td>2025-07-15T16:41:15.224Z</td><td>459</td><td>2025-07-16T08:13:05.597Z</td><td>2025-07-16T08:13:05.597Z</td></tr><tr><td>B00460</td><td>P0163</td><td>F0090</td><td>A049</td><td>958.75</td><td>2025-06-17</td><td>2025-07-15T16:41:15.224Z</td><td>460</td><td>2025-07-16T08:13:05.597Z</td><td>2025-07-16T08:13:05.597Z</td></tr><tr><td>B00461</td><td>P0096</td><td>F0003</td><td>A015</td><td>281.57</td><td>2025-03-27</td><td>2025-07-15T16:41:15.224Z</td><td>461</td><td>2025-07-16T08:13:05.597Z</td><td>2025-07-16T08:13:05.597Z</td></tr><tr><td>B00462</td><td>P0179</td><td>F0036</td><td>A046</td><td>612.33</td><td>2025-04-22</td><td>2025-07-15T16:41:15.224Z</td><td>462</td><td>2025-07-16T08:13:05.597Z</td><td>2025-07-16T08:13:05.597Z</td></tr><tr><td>B00463</td><td>P0028</td><td>F0011</td><td>A022</td><td>366.65</td><td>2025-04-23</td><td>2025-07-15T16:41:15.224Z</td><td>463</td><td>2025-07-16T08:13:05.597Z</td><td>2025-07-16T08:13:05.597Z</td></tr><tr><td>B00464</td><td>P0148</td><td>F0031</td><td>A028</td><td>883.62</td><td>2025-04-24</td><td>2025-07-15T16:41:15.224Z</td><td>464</td><td>2025-07-16T08:13:05.597Z</td><td>2025-07-16T08:13:05.597Z</td></tr><tr><td>B00465</td><td>P0045</td><td>F0074</td><td>A046</td><td>481.72</td><td>2025-04-07</td><td>2025-07-15T16:41:15.224Z</td><td>465</td><td>2025-07-16T08:13:05.597Z</td><td>2025-07-16T08:13:05.597Z</td></tr><tr><td>B00466</td><td>P0069</td><td>F0051</td><td>A010</td><td>1290.07</td><td>2025-05-12</td><td>2025-07-15T16:41:15.224Z</td><td>466</td><td>2025-07-16T08:13:05.597Z</td><td>2025-07-16T08:13:05.597Z</td></tr><tr><td>B00467</td><td>P0122</td><td>F0083</td><td>A005</td><td>1292.56</td><td>2025-04-06</td><td>2025-07-15T16:41:15.224Z</td><td>467</td><td>2025-07-16T08:13:05.597Z</td><td>2025-07-16T08:13:05.597Z</td></tr><tr><td>B00468</td><td>P0107</td><td>F0038</td><td>A017</td><td>1276.22</td><td>2025-04-01</td><td>2025-07-15T16:41:15.224Z</td><td>468</td><td>2025-07-16T08:13:05.597Z</td><td>2025-07-16T08:13:05.597Z</td></tr><tr><td>B00469</td><td>P0041</td><td>F0099</td><td>A010</td><td>576.47</td><td>2025-03-27</td><td>2025-07-15T16:41:15.224Z</td><td>469</td><td>2025-07-16T08:13:05.597Z</td><td>2025-07-16T08:13:05.597Z</td></tr><tr><td>B00470</td><td>P0021</td><td>F0018</td><td>A015</td><td>1433.8</td><td>2025-04-04</td><td>2025-07-15T16:41:15.224Z</td><td>470</td><td>2025-07-16T08:13:05.597Z</td><td>2025-07-16T08:13:05.597Z</td></tr><tr><td>B00471</td><td>P0023</td><td>F0014</td><td>A006</td><td>753.34</td><td>2025-05-13</td><td>2025-07-15T16:41:15.224Z</td><td>471</td><td>2025-07-16T08:13:05.597Z</td><td>2025-07-16T08:13:05.597Z</td></tr><tr><td>B00472</td><td>P0095</td><td>F0091</td><td>A015</td><td>670.63</td><td>2025-05-13</td><td>2025-07-15T16:41:15.224Z</td><td>472</td><td>2025-07-16T08:13:05.597Z</td><td>2025-07-16T08:13:05.597Z</td></tr><tr><td>B00473</td><td>P0083</td><td>F0002</td><td>A016</td><td>297.26</td><td>2025-05-30</td><td>2025-07-15T16:41:15.224Z</td><td>473</td><td>2025-07-16T08:13:05.597Z</td><td>2025-07-16T08:13:05.597Z</td></tr><tr><td>B00474</td><td>P0036</td><td>F0027</td><td>A037</td><td>320.66</td><td>2025-05-21</td><td>2025-07-15T16:41:15.224Z</td><td>474</td><td>2025-07-16T08:13:05.597Z</td><td>2025-07-16T08:13:05.597Z</td></tr><tr><td>B00475</td><td>P0100</td><td>F0031</td><td>A046</td><td>457.54</td><td>2025-05-20</td><td>2025-07-15T16:41:15.224Z</td><td>475</td><td>2025-07-16T08:13:05.597Z</td><td>2025-07-16T08:13:05.597Z</td></tr><tr><td>B00476</td><td>P0123</td><td>F0014</td><td>A026</td><td>1130.1</td><td>2025-04-28</td><td>2025-07-15T16:41:15.224Z</td><td>476</td><td>2025-07-16T08:13:05.597Z</td><td>2025-07-16T08:13:05.597Z</td></tr><tr><td>B00477</td><td>P0135</td><td>F0030</td><td>A033</td><td>767.59</td><td>2025-04-29</td><td>2025-07-15T16:41:15.224Z</td><td>477</td><td>2025-07-16T08:13:05.597Z</td><td>2025-07-16T08:13:05.597Z</td></tr><tr><td>B00478</td><td>P0120</td><td>F0055</td><td>A023</td><td>163.75</td><td>2025-04-25</td><td>2025-07-15T16:41:15.224Z</td><td>478</td><td>2025-07-16T08:13:05.597Z</td><td>2025-07-16T08:13:05.597Z</td></tr><tr><td>B00479</td><td>P0103</td><td>F0098</td><td>A026</td><td>1035.48</td><td>2025-06-03</td><td>2025-07-15T16:41:15.224Z</td><td>479</td><td>2025-07-16T08:13:05.597Z</td><td>2025-07-16T08:13:05.597Z</td></tr><tr><td>B00480</td><td>P0172</td><td>F0048</td><td>A037</td><td>722.81</td><td>2025-05-19</td><td>2025-07-15T16:41:15.224Z</td><td>480</td><td>2025-07-16T08:13:05.597Z</td><td>2025-07-16T08:13:05.597Z</td></tr><tr><td>B00481</td><td>P0087</td><td>F0088</td><td>A037</td><td>742.55</td><td>2025-05-30</td><td>2025-07-15T16:41:15.224Z</td><td>481</td><td>2025-07-16T08:13:05.597Z</td><td>2025-07-16T08:13:05.597Z</td></tr><tr><td>B00482</td><td>P0060</td><td>F0013</td><td>A012</td><td>638.96</td><td>2025-05-09</td><td>2025-07-15T16:41:15.224Z</td><td>482</td><td>2025-07-16T08:13:05.597Z</td><td>2025-07-16T08:13:05.597Z</td></tr><tr><td>B00483</td><td>P0195</td><td>F0084</td><td>A029</td><td>1140.74</td><td>2025-03-30</td><td>2025-07-15T16:41:15.224Z</td><td>483</td><td>2025-07-16T08:13:05.597Z</td><td>2025-07-16T08:13:05.597Z</td></tr><tr><td>B00484</td><td>P0150</td><td>F0079</td><td>A012</td><td>919.48</td><td>2025-05-11</td><td>2025-07-15T16:41:15.224Z</td><td>484</td><td>2025-07-16T08:13:05.597Z</td><td>2025-07-16T08:13:05.597Z</td></tr><tr><td>B00485</td><td>P0193</td><td>F0027</td><td>A013</td><td>170.12</td><td>2025-04-18</td><td>2025-07-15T16:41:15.224Z</td><td>485</td><td>2025-07-16T08:13:05.597Z</td><td>2025-07-16T08:13:05.597Z</td></tr><tr><td>B00486</td><td>P0090</td><td>F0015</td><td>A026</td><td>145.4</td><td>2025-03-29</td><td>2025-07-15T16:41:15.224Z</td><td>486</td><td>2025-07-16T08:13:05.597Z</td><td>2025-07-16T08:13:05.597Z</td></tr><tr><td>B00487</td><td>P0058</td><td>F0030</td><td>A013</td><td>234.04</td><td>2025-05-07</td><td>2025-07-15T16:41:15.224Z</td><td>487</td><td>2025-07-16T08:13:05.597Z</td><td>2025-07-16T08:13:05.597Z</td></tr><tr><td>B00488</td><td>P0088</td><td>F0023</td><td>A004</td><td>1310.03</td><td>2025-06-15</td><td>2025-07-15T16:41:15.224Z</td><td>488</td><td>2025-07-16T08:13:05.597Z</td><td>2025-07-16T08:13:05.597Z</td></tr><tr><td>B00489</td><td>P0171</td><td>F0094</td><td>A014</td><td>744.75</td><td>2025-04-25</td><td>2025-07-15T16:41:15.224Z</td><td>489</td><td>2025-07-16T08:13:05.597Z</td><td>2025-07-16T08:13:05.597Z</td></tr><tr><td>B00490</td><td>P0061</td><td>F0093</td><td>A035</td><td>1125.92</td><td>2025-05-06</td><td>2025-07-15T16:41:15.224Z</td><td>490</td><td>2025-07-16T08:13:05.597Z</td><td>2025-07-16T08:13:05.597Z</td></tr><tr><td>B00491</td><td>P0150</td><td>F0078</td><td>A047</td><td>1256.52</td><td>2025-03-25</td><td>2025-07-15T16:41:15.224Z</td><td>491</td><td>2025-07-16T08:13:05.597Z</td><td>2025-07-16T08:13:05.597Z</td></tr><tr><td>B00492</td><td>P0138</td><td>F0062</td><td>A007</td><td>368.63</td><td>2025-04-20</td><td>2025-07-15T16:41:15.224Z</td><td>492</td><td>2025-07-16T08:13:05.597Z</td><td>2025-07-16T08:13:05.597Z</td></tr><tr><td>B00493</td><td>P0200</td><td>F0066</td><td>A043</td><td>1047.45</td><td>2025-04-16</td><td>2025-07-15T16:41:15.224Z</td><td>493</td><td>2025-07-16T08:13:05.597Z</td><td>2025-07-16T08:13:05.597Z</td></tr><tr><td>B00494</td><td>P0101</td><td>F0014</td><td>A037</td><td>877.31</td><td>2025-04-17</td><td>2025-07-15T16:41:15.224Z</td><td>494</td><td>2025-07-16T08:13:05.597Z</td><td>2025-07-16T08:13:05.597Z</td></tr><tr><td>B00495</td><td>P0057</td><td>F0086</td><td>A049</td><td>634.53</td><td>2025-04-06</td><td>2025-07-15T16:41:15.224Z</td><td>495</td><td>2025-07-16T08:13:05.597Z</td><td>2025-07-16T08:13:05.597Z</td></tr><tr><td>B00496</td><td>P0047</td><td>F0005</td><td>A013</td><td>1498.8</td><td>2025-04-30</td><td>2025-07-15T16:41:15.224Z</td><td>496</td><td>2025-07-16T08:13:05.597Z</td><td>2025-07-16T08:13:05.597Z</td></tr><tr><td>B00497</td><td>P0035</td><td>F0092</td><td>A046</td><td>755.31</td><td>2025-04-14</td><td>2025-07-15T16:41:15.224Z</td><td>497</td><td>2025-07-16T08:13:05.597Z</td><td>2025-07-16T08:13:05.597Z</td></tr><tr><td>B00498</td><td>P0196</td><td>F0016</td><td>A022</td><td>214.78</td><td>2025-05-28</td><td>2025-07-15T16:41:15.224Z</td><td>498</td><td>2025-07-16T08:13:05.597Z</td><td>2025-07-16T08:13:05.597Z</td></tr><tr><td>B00499</td><td>P0117</td><td>F0100</td><td>A032</td><td>1136.04</td><td>2025-05-28</td><td>2025-07-15T16:41:15.224Z</td><td>499</td><td>2025-07-16T08:13:05.597Z</td><td>2025-07-16T08:13:05.597Z</td></tr><tr><td>B00500</td><td>P0072</td><td>F0081</td><td>A038</td><td>551.86</td><td>2025-04-02</td><td>2025-07-15T16:41:15.224Z</td><td>500</td><td>2025-07-16T08:13:05.597Z</td><td>2025-07-16T08:13:05.597Z</td></tr><tr><td>B00501</td><td>P0040</td><td>F0024</td><td>A038</td><td>976.4</td><td>2025-05-11</td><td>2025-07-15T16:41:15.224Z</td><td>501</td><td>2025-07-16T08:13:05.597Z</td><td>2025-07-16T08:13:05.597Z</td></tr><tr><td>B00502</td><td>P0121</td><td>F0084</td><td>A007</td><td>849.35</td><td>2025-05-14</td><td>2025-07-15T16:41:15.224Z</td><td>502</td><td>2025-07-16T08:13:05.597Z</td><td>2025-07-16T08:13:05.597Z</td></tr><tr><td>B00503</td><td>P0057</td><td>F0026</td><td>A042</td><td>849.17</td><td>2025-04-20</td><td>2025-07-15T16:41:15.224Z</td><td>503</td><td>2025-07-16T08:13:05.597Z</td><td>2025-07-16T08:13:05.597Z</td></tr><tr><td>B00504</td><td>P0026</td><td>F0003</td><td>A028</td><td>1322.78</td><td>2025-05-28</td><td>2025-07-15T16:41:15.224Z</td><td>504</td><td>2025-07-16T08:13:05.597Z</td><td>2025-07-16T08:13:05.597Z</td></tr><tr><td>B00505</td><td>P0171</td><td>F0090</td><td>A001</td><td>567.55</td><td>2025-04-05</td><td>2025-07-15T16:41:15.224Z</td><td>505</td><td>2025-07-16T08:13:05.597Z</td><td>2025-07-16T08:13:05.597Z</td></tr><tr><td>B00506</td><td>P0045</td><td>F0100</td><td>A033</td><td>651.92</td><td>2025-05-29</td><td>2025-07-15T16:41:15.224Z</td><td>506</td><td>2025-07-16T08:13:05.597Z</td><td>2025-07-16T08:13:05.597Z</td></tr><tr><td>B00507</td><td>P0103</td><td>F0093</td><td>A016</td><td>817.41</td><td>2025-06-02</td><td>2025-07-15T16:41:15.224Z</td><td>507</td><td>2025-07-16T08:13:05.597Z</td><td>2025-07-16T08:13:05.597Z</td></tr><tr><td>B00508</td><td>P0001</td><td>F0087</td><td>A038</td><td>400.66</td><td>2025-06-03</td><td>2025-07-15T16:41:15.224Z</td><td>508</td><td>2025-07-16T08:13:05.597Z</td><td>2025-07-16T08:13:05.597Z</td></tr><tr><td>B00509</td><td>P0093</td><td>F0031</td><td>A011</td><td>1369.93</td><td>2025-05-25</td><td>2025-07-15T16:41:15.224Z</td><td>509</td><td>2025-07-16T08:13:05.597Z</td><td>2025-07-16T08:13:05.597Z</td></tr><tr><td>B00510</td><td>P0046</td><td>F0077</td><td>A008</td><td>1383.39</td><td>2025-04-24</td><td>2025-07-15T16:41:15.224Z</td><td>510</td><td>2025-07-16T08:13:05.597Z</td><td>2025-07-16T08:13:05.597Z</td></tr><tr><td>B00511</td><td>P0066</td><td>F0070</td><td>A014</td><td>408.98</td><td>2025-06-18</td><td>2025-07-15T16:41:15.224Z</td><td>511</td><td>2025-07-16T08:13:05.597Z</td><td>2025-07-16T08:13:05.597Z</td></tr><tr><td>B00512</td><td>P0021</td><td>F0010</td><td>A008</td><td>1278.93</td><td>2025-05-28</td><td>2025-07-15T16:41:15.224Z</td><td>512</td><td>2025-07-16T08:13:05.597Z</td><td>2025-07-16T08:13:05.597Z</td></tr><tr><td>B00513</td><td>P0087</td><td>F0021</td><td>A041</td><td>874.59</td><td>2025-06-06</td><td>2025-07-15T16:41:15.224Z</td><td>513</td><td>2025-07-16T08:13:05.597Z</td><td>2025-07-16T08:13:05.597Z</td></tr><tr><td>B00514</td><td>P0096</td><td>F0023</td><td>A005</td><td>1431.92</td><td>2025-04-17</td><td>2025-07-15T16:41:15.224Z</td><td>514</td><td>2025-07-16T08:13:05.597Z</td><td>2025-07-16T08:13:05.597Z</td></tr><tr><td>B00515</td><td>P0069</td><td>F0064</td><td>A039</td><td>1390.6</td><td>2025-04-12</td><td>2025-07-15T16:41:15.224Z</td><td>515</td><td>2025-07-16T08:13:05.597Z</td><td>2025-07-16T08:13:05.597Z</td></tr><tr><td>B00516</td><td>P0185</td><td>F0047</td><td>A028</td><td>180.94</td><td>2025-04-12</td><td>2025-07-15T16:41:15.224Z</td><td>516</td><td>2025-07-16T08:13:05.597Z</td><td>2025-07-16T08:13:05.597Z</td></tr><tr><td>B00517</td><td>P0008</td><td>F0041</td><td>A012</td><td>1452.39</td><td>2025-04-10</td><td>2025-07-15T16:41:15.224Z</td><td>517</td><td>2025-07-16T08:13:05.597Z</td><td>2025-07-16T08:13:05.597Z</td></tr><tr><td>B00518</td><td>P0181</td><td>F0093</td><td>A044</td><td>620.93</td><td>2025-05-21</td><td>2025-07-15T16:41:15.224Z</td><td>518</td><td>2025-07-16T08:13:05.597Z</td><td>2025-07-16T08:13:05.597Z</td></tr><tr><td>B00519</td><td>P0200</td><td>F0023</td><td>A010</td><td>722.45</td><td>2025-06-10</td><td>2025-07-15T16:41:15.224Z</td><td>519</td><td>2025-07-16T08:13:05.597Z</td><td>2025-07-16T08:13:05.597Z</td></tr><tr><td>B00520</td><td>P0139</td><td>F0004</td><td>A047</td><td>348.71</td><td>2025-04-02</td><td>2025-07-15T16:41:15.224Z</td><td>520</td><td>2025-07-16T08:13:05.597Z</td><td>2025-07-16T08:13:05.597Z</td></tr><tr><td>B00521</td><td>P0153</td><td>F0087</td><td>A009</td><td>582.06</td><td>2025-04-18</td><td>2025-07-15T16:41:15.224Z</td><td>521</td><td>2025-07-16T08:13:05.597Z</td><td>2025-07-16T08:13:05.597Z</td></tr><tr><td>B00522</td><td>P0177</td><td>F0051</td><td>A003</td><td>427.56</td><td>2025-03-28</td><td>2025-07-15T16:41:15.224Z</td><td>522</td><td>2025-07-16T08:13:05.597Z</td><td>2025-07-16T08:13:05.597Z</td></tr><tr><td>B00523</td><td>P0183</td><td>F0027</td><td>A009</td><td>1172.8</td><td>2025-06-07</td><td>2025-07-15T16:41:15.224Z</td><td>523</td><td>2025-07-16T08:13:05.597Z</td><td>2025-07-16T08:13:05.597Z</td></tr><tr><td>B00524</td><td>P0075</td><td>F0068</td><td>A003</td><td>133.61</td><td>2025-03-24</td><td>2025-07-15T16:41:15.224Z</td><td>524</td><td>2025-07-16T08:13:05.597Z</td><td>2025-07-16T08:13:05.597Z</td></tr><tr><td>B00525</td><td>P0135</td><td>F0088</td><td>A046</td><td>1224.95</td><td>2025-05-13</td><td>2025-07-15T16:41:15.224Z</td><td>525</td><td>2025-07-16T08:13:05.597Z</td><td>2025-07-16T08:13:05.597Z</td></tr><tr><td>B00526</td><td>P0034</td><td>F0062</td><td>A045</td><td>1445.34</td><td>2025-04-09</td><td>2025-07-15T16:41:15.224Z</td><td>526</td><td>2025-07-16T08:13:05.597Z</td><td>2025-07-16T08:13:05.597Z</td></tr><tr><td>B00527</td><td>P0056</td><td>F0015</td><td>A026</td><td>438.22</td><td>2025-05-10</td><td>2025-07-15T16:41:15.224Z</td><td>527</td><td>2025-07-16T08:13:05.597Z</td><td>2025-07-16T08:13:05.597Z</td></tr><tr><td>B00528</td><td>P0178</td><td>F0086</td><td>A032</td><td>794.16</td><td>2025-03-25</td><td>2025-07-15T16:41:15.224Z</td><td>528</td><td>2025-07-16T08:13:05.597Z</td><td>2025-07-16T08:13:05.597Z</td></tr><tr><td>B00529</td><td>P0156</td><td>F0095</td><td>A007</td><td>419.12</td><td>2025-04-12</td><td>2025-07-15T16:41:15.224Z</td><td>529</td><td>2025-07-16T08:13:05.597Z</td><td>2025-07-16T08:13:05.597Z</td></tr><tr><td>B00530</td><td>P0034</td><td>F0095</td><td>A034</td><td>459.42</td><td>2025-06-21</td><td>2025-07-15T16:41:15.224Z</td><td>530</td><td>2025-07-16T08:13:05.597Z</td><td>2025-07-16T08:13:05.597Z</td></tr><tr><td>B00531</td><td>P0178</td><td>F0004</td><td>A045</td><td>1081.32</td><td>2025-03-31</td><td>2025-07-15T16:41:15.224Z</td><td>531</td><td>2025-07-16T08:13:05.597Z</td><td>2025-07-16T08:13:05.597Z</td></tr><tr><td>B00532</td><td>P0011</td><td>F0048</td><td>A030</td><td>763.42</td><td>2025-04-04</td><td>2025-07-15T16:41:15.224Z</td><td>532</td><td>2025-07-16T08:13:05.597Z</td><td>2025-07-16T08:13:05.597Z</td></tr><tr><td>B00533</td><td>P0082</td><td>F0048</td><td>A050</td><td>1350.49</td><td>2025-06-03</td><td>2025-07-15T16:41:15.224Z</td><td>533</td><td>2025-07-16T08:13:05.597Z</td><td>2025-07-16T08:13:05.597Z</td></tr><tr><td>B00534</td><td>P0015</td><td>F0041</td><td>A017</td><td>497.13</td><td>2025-05-27</td><td>2025-07-15T16:41:15.224Z</td><td>534</td><td>2025-07-16T08:13:05.597Z</td><td>2025-07-16T08:13:05.597Z</td></tr><tr><td>B00535</td><td>P0142</td><td>F0100</td><td>A012</td><td>561.96</td><td>2025-04-14</td><td>2025-07-15T16:41:15.224Z</td><td>535</td><td>2025-07-16T08:13:05.597Z</td><td>2025-07-16T08:13:05.597Z</td></tr><tr><td>B00536</td><td>P0090</td><td>F0025</td><td>A020</td><td>119.11</td><td>2025-04-15</td><td>2025-07-15T16:41:15.224Z</td><td>536</td><td>2025-07-16T08:13:05.597Z</td><td>2025-07-16T08:13:05.597Z</td></tr><tr><td>B00537</td><td>P0014</td><td>F0014</td><td>A021</td><td>736.44</td><td>2025-06-08</td><td>2025-07-15T16:41:15.224Z</td><td>537</td><td>2025-07-16T08:13:05.597Z</td><td>2025-07-16T08:13:05.597Z</td></tr><tr><td>B00538</td><td>P0011</td><td>F0004</td><td>A029</td><td>1481.97</td><td>2025-03-25</td><td>2025-07-15T16:41:15.224Z</td><td>538</td><td>2025-07-16T08:13:05.597Z</td><td>2025-07-16T08:13:05.597Z</td></tr><tr><td>B00539</td><td>P0095</td><td>F0018</td><td>A009</td><td>1284.47</td><td>2025-06-06</td><td>2025-07-15T16:41:15.224Z</td><td>539</td><td>2025-07-16T08:13:05.597Z</td><td>2025-07-16T08:13:05.597Z</td></tr><tr><td>B00540</td><td>P0054</td><td>F0023</td><td>A012</td><td>798.35</td><td>2025-06-03</td><td>2025-07-15T16:41:15.224Z</td><td>540</td><td>2025-07-16T08:13:05.597Z</td><td>2025-07-16T08:13:05.597Z</td></tr><tr><td>B00541</td><td>P0165</td><td>F0003</td><td>A045</td><td>826.13</td><td>2025-06-06</td><td>2025-07-15T16:41:15.224Z</td><td>541</td><td>2025-07-16T08:13:05.597Z</td><td>2025-07-16T08:13:05.597Z</td></tr><tr><td>B00542</td><td>P0176</td><td>F0018</td><td>A050</td><td>1243.1</td><td>2025-05-22</td><td>2025-07-15T16:41:15.224Z</td><td>542</td><td>2025-07-16T08:13:05.597Z</td><td>2025-07-16T08:13:05.597Z</td></tr><tr><td>B00543</td><td>P0199</td><td>F0085</td><td>A010</td><td>1101.69</td><td>2025-03-27</td><td>2025-07-15T16:41:15.224Z</td><td>543</td><td>2025-07-16T08:13:05.597Z</td><td>2025-07-16T08:13:05.597Z</td></tr><tr><td>B00544</td><td>P0135</td><td>F0080</td><td>A018</td><td>125.88</td><td>2025-04-09</td><td>2025-07-15T16:41:15.224Z</td><td>544</td><td>2025-07-16T08:13:05.597Z</td><td>2025-07-16T08:13:05.597Z</td></tr><tr><td>B00545</td><td>P0063</td><td>F0097</td><td>A042</td><td>835.11</td><td>2025-06-10</td><td>2025-07-15T16:41:15.224Z</td><td>545</td><td>2025-07-16T08:13:05.597Z</td><td>2025-07-16T08:13:05.597Z</td></tr><tr><td>B00546</td><td>P0145</td><td>F0024</td><td>A034</td><td>503.9</td><td>2025-04-23</td><td>2025-07-15T16:41:15.224Z</td><td>546</td><td>2025-07-16T08:13:05.597Z</td><td>2025-07-16T08:13:05.597Z</td></tr><tr><td>B00547</td><td>P0043</td><td>F0035</td><td>A045</td><td>1047.2</td><td>2025-04-24</td><td>2025-07-15T16:41:15.224Z</td><td>547</td><td>2025-07-16T08:13:05.597Z</td><td>2025-07-16T08:13:05.597Z</td></tr><tr><td>B00548</td><td>P0128</td><td>F0010</td><td>A030</td><td>1442.72</td><td>2025-05-06</td><td>2025-07-15T16:41:15.224Z</td><td>548</td><td>2025-07-16T08:13:05.597Z</td><td>2025-07-16T08:13:05.597Z</td></tr><tr><td>B00549</td><td>P0111</td><td>F0013</td><td>A028</td><td>307.41</td><td>2025-06-21</td><td>2025-07-15T16:41:15.224Z</td><td>549</td><td>2025-07-16T08:13:05.597Z</td><td>2025-07-16T08:13:05.597Z</td></tr><tr><td>B00550</td><td>P0129</td><td>F0070</td><td>A005</td><td>226.48</td><td>2025-04-18</td><td>2025-07-15T16:41:15.224Z</td><td>550</td><td>2025-07-16T08:13:05.597Z</td><td>2025-07-16T08:13:05.597Z</td></tr><tr><td>B00551</td><td>P0109</td><td>F0039</td><td>A005</td><td>1159.88</td><td>2025-06-10</td><td>2025-07-15T16:41:15.224Z</td><td>551</td><td>2025-07-16T08:13:05.597Z</td><td>2025-07-16T08:13:05.597Z</td></tr><tr><td>B00552</td><td>P0054</td><td>F0084</td><td>A044</td><td>257.59</td><td>2025-05-30</td><td>2025-07-15T16:41:15.224Z</td><td>552</td><td>2025-07-16T08:13:05.597Z</td><td>2025-07-16T08:13:05.597Z</td></tr><tr><td>B00553</td><td>P0120</td><td>F0083</td><td>A022</td><td>960.8</td><td>2025-06-01</td><td>2025-07-15T16:41:15.224Z</td><td>553</td><td>2025-07-16T08:13:05.597Z</td><td>2025-07-16T08:13:05.597Z</td></tr><tr><td>B00554</td><td>P0084</td><td>F0058</td><td>A006</td><td>590.04</td><td>2025-06-17</td><td>2025-07-15T16:41:15.224Z</td><td>554</td><td>2025-07-16T08:13:05.597Z</td><td>2025-07-16T08:13:05.597Z</td></tr><tr><td>B00555</td><td>P0138</td><td>F0019</td><td>A027</td><td>1248.82</td><td>2025-05-08</td><td>2025-07-15T16:41:15.224Z</td><td>555</td><td>2025-07-16T08:13:05.597Z</td><td>2025-07-16T08:13:05.597Z</td></tr><tr><td>B00556</td><td>P0141</td><td>F0011</td><td>A025</td><td>1461.19</td><td>2025-05-03</td><td>2025-07-15T16:41:15.224Z</td><td>556</td><td>2025-07-16T08:13:05.597Z</td><td>2025-07-16T08:13:05.597Z</td></tr><tr><td>B00557</td><td>P0193</td><td>F0061</td><td>A048</td><td>471.85</td><td>2025-05-02</td><td>2025-07-15T16:41:15.224Z</td><td>557</td><td>2025-07-16T08:13:05.597Z</td><td>2025-07-16T08:13:05.597Z</td></tr><tr><td>B00558</td><td>P0182</td><td>F0052</td><td>A017</td><td>871.86</td><td>2025-04-07</td><td>2025-07-15T16:41:15.224Z</td><td>558</td><td>2025-07-16T08:13:05.597Z</td><td>2025-07-16T08:13:05.597Z</td></tr><tr><td>B00559</td><td>P0123</td><td>F0086</td><td>A026</td><td>347.51</td><td>2025-06-01</td><td>2025-07-15T16:41:15.224Z</td><td>559</td><td>2025-07-16T08:13:05.597Z</td><td>2025-07-16T08:13:05.597Z</td></tr><tr><td>B00560</td><td>P0112</td><td>F0060</td><td>A046</td><td>144.74</td><td>2025-06-19</td><td>2025-07-15T16:41:15.224Z</td><td>560</td><td>2025-07-16T08:13:05.597Z</td><td>2025-07-16T08:13:05.597Z</td></tr><tr><td>B00561</td><td>P0149</td><td>F0080</td><td>A034</td><td>418.23</td><td>2025-04-16</td><td>2025-07-15T16:41:15.224Z</td><td>561</td><td>2025-07-16T08:13:05.597Z</td><td>2025-07-16T08:13:05.597Z</td></tr><tr><td>B00562</td><td>P0160</td><td>F0048</td><td>A012</td><td>264.7</td><td>2025-05-10</td><td>2025-07-15T16:41:15.224Z</td><td>562</td><td>2025-07-16T08:13:05.597Z</td><td>2025-07-16T08:13:05.597Z</td></tr><tr><td>B00563</td><td>P0165</td><td>F0083</td><td>A024</td><td>139.39</td><td>2025-05-29</td><td>2025-07-15T16:41:15.224Z</td><td>563</td><td>2025-07-16T08:13:05.597Z</td><td>2025-07-16T08:13:05.597Z</td></tr><tr><td>B00564</td><td>P0147</td><td>F0012</td><td>A018</td><td>368.13</td><td>2025-04-07</td><td>2025-07-15T16:41:15.224Z</td><td>564</td><td>2025-07-16T08:13:05.597Z</td><td>2025-07-16T08:13:05.597Z</td></tr><tr><td>B00565</td><td>P0040</td><td>F0007</td><td>A020</td><td>604.03</td><td>2025-06-15</td><td>2025-07-15T16:41:15.224Z</td><td>565</td><td>2025-07-16T08:13:05.597Z</td><td>2025-07-16T08:13:05.597Z</td></tr><tr><td>B00566</td><td>P0005</td><td>F0071</td><td>A001</td><td>1249.7</td><td>2025-03-29</td><td>2025-07-15T16:41:15.224Z</td><td>566</td><td>2025-07-16T08:13:05.597Z</td><td>2025-07-16T08:13:05.597Z</td></tr><tr><td>B00567</td><td>P0089</td><td>F0038</td><td>A026</td><td>1189.01</td><td>2025-05-22</td><td>2025-07-15T16:41:15.224Z</td><td>567</td><td>2025-07-16T08:13:05.597Z</td><td>2025-07-16T08:13:05.597Z</td></tr><tr><td>B00568</td><td>P0138</td><td>F0040</td><td>A035</td><td>1392.47</td><td>2025-05-16</td><td>2025-07-15T16:41:15.224Z</td><td>568</td><td>2025-07-16T08:13:05.597Z</td><td>2025-07-16T08:13:05.597Z</td></tr><tr><td>B00569</td><td>P0177</td><td>F0041</td><td>A009</td><td>320.52</td><td>2025-05-05</td><td>2025-07-15T16:41:15.224Z</td><td>569</td><td>2025-07-16T08:13:05.597Z</td><td>2025-07-16T08:13:05.597Z</td></tr><tr><td>B00570</td><td>P0127</td><td>F0013</td><td>A001</td><td>1484.21</td><td>2025-04-13</td><td>2025-07-15T16:41:15.224Z</td><td>570</td><td>2025-07-16T08:13:05.597Z</td><td>2025-07-16T08:13:05.597Z</td></tr><tr><td>B00571</td><td>P0199</td><td>F0070</td><td>A022</td><td>1138.88</td><td>2025-05-22</td><td>2025-07-15T16:41:15.224Z</td><td>571</td><td>2025-07-16T08:13:05.597Z</td><td>2025-07-16T08:13:05.597Z</td></tr><tr><td>B00572</td><td>P0011</td><td>F0004</td><td>A011</td><td>1290.46</td><td>2025-06-07</td><td>2025-07-15T16:41:15.224Z</td><td>572</td><td>2025-07-16T08:13:05.597Z</td><td>2025-07-16T08:13:05.597Z</td></tr><tr><td>B00573</td><td>P0012</td><td>F0074</td><td>A045</td><td>1450.7</td><td>2025-03-31</td><td>2025-07-15T16:41:15.224Z</td><td>573</td><td>2025-07-16T08:13:05.597Z</td><td>2025-07-16T08:13:05.597Z</td></tr><tr><td>B00574</td><td>P0179</td><td>F0009</td><td>A030</td><td>788.97</td><td>2025-05-11</td><td>2025-07-15T16:41:15.224Z</td><td>574</td><td>2025-07-16T08:13:05.597Z</td><td>2025-07-16T08:13:05.597Z</td></tr><tr><td>B00575</td><td>P0054</td><td>F0084</td><td>A032</td><td>678.84</td><td>2025-05-30</td><td>2025-07-15T16:41:15.224Z</td><td>575</td><td>2025-07-16T08:13:05.597Z</td><td>2025-07-16T08:13:05.597Z</td></tr><tr><td>B00576</td><td>P0069</td><td>F0002</td><td>A006</td><td>530.82</td><td>2025-06-07</td><td>2025-07-15T16:41:15.224Z</td><td>576</td><td>2025-07-16T08:13:05.597Z</td><td>2025-07-16T08:13:05.597Z</td></tr><tr><td>B00577</td><td>P0116</td><td>F0071</td><td>A033</td><td>228.81</td><td>2025-06-11</td><td>2025-07-15T16:41:15.224Z</td><td>577</td><td>2025-07-16T08:13:05.597Z</td><td>2025-07-16T08:13:05.597Z</td></tr><tr><td>B00578</td><td>P0132</td><td>F0075</td><td>A015</td><td>254.62</td><td>2025-04-27</td><td>2025-07-15T16:41:15.224Z</td><td>578</td><td>2025-07-16T08:13:05.597Z</td><td>2025-07-16T08:13:05.597Z</td></tr><tr><td>B00579</td><td>P0051</td><td>F0016</td><td>A042</td><td>634.07</td><td>2025-05-01</td><td>2025-07-15T16:41:15.224Z</td><td>579</td><td>2025-07-16T08:13:05.597Z</td><td>2025-07-16T08:13:05.597Z</td></tr><tr><td>B00580</td><td>P0108</td><td>F0065</td><td>A042</td><td>106.19</td><td>2025-05-02</td><td>2025-07-15T16:41:15.224Z</td><td>580</td><td>2025-07-16T08:13:05.597Z</td><td>2025-07-16T08:13:05.597Z</td></tr><tr><td>B00581</td><td>P0062</td><td>F0035</td><td>A047</td><td>363.49</td><td>2025-05-28</td><td>2025-07-15T16:41:15.224Z</td><td>581</td><td>2025-07-16T08:13:05.597Z</td><td>2025-07-16T08:13:05.597Z</td></tr><tr><td>B00582</td><td>P0158</td><td>F0095</td><td>A026</td><td>1319.22</td><td>2025-05-28</td><td>2025-07-15T16:41:15.224Z</td><td>582</td><td>2025-07-16T08:13:05.597Z</td><td>2025-07-16T08:13:05.597Z</td></tr><tr><td>B00583</td><td>P0197</td><td>F0058</td><td>A022</td><td>547.38</td><td>2025-05-13</td><td>2025-07-15T16:41:15.224Z</td><td>583</td><td>2025-07-16T08:13:05.597Z</td><td>2025-07-16T08:13:05.597Z</td></tr><tr><td>B00584</td><td>P0037</td><td>F0040</td><td>A017</td><td>1453.34</td><td>2025-04-29</td><td>2025-07-15T16:41:15.224Z</td><td>584</td><td>2025-07-16T08:13:05.597Z</td><td>2025-07-16T08:13:05.597Z</td></tr><tr><td>B00585</td><td>P0066</td><td>F0094</td><td>A035</td><td>330.02</td><td>2025-06-06</td><td>2025-07-15T16:41:15.224Z</td><td>585</td><td>2025-07-16T08:13:05.597Z</td><td>2025-07-16T08:13:05.597Z</td></tr><tr><td>B00586</td><td>P0063</td><td>F0002</td><td>A041</td><td>910.26</td><td>2025-05-21</td><td>2025-07-15T16:41:15.224Z</td><td>586</td><td>2025-07-16T08:13:05.597Z</td><td>2025-07-16T08:13:05.597Z</td></tr><tr><td>B00587</td><td>P0032</td><td>F0070</td><td>A017</td><td>424.31</td><td>2025-06-03</td><td>2025-07-15T16:41:15.224Z</td><td>587</td><td>2025-07-16T08:13:05.597Z</td><td>2025-07-16T08:13:05.597Z</td></tr><tr><td>B00588</td><td>P0069</td><td>F0083</td><td>A015</td><td>388.03</td><td>2025-05-28</td><td>2025-07-15T16:41:15.224Z</td><td>588</td><td>2025-07-16T08:13:05.597Z</td><td>2025-07-16T08:13:05.597Z</td></tr><tr><td>B00589</td><td>P0001</td><td>F0095</td><td>A045</td><td>563.85</td><td>2025-04-08</td><td>2025-07-15T16:41:15.224Z</td><td>589</td><td>2025-07-16T08:13:05.597Z</td><td>2025-07-16T08:13:05.597Z</td></tr><tr><td>B00590</td><td>P0035</td><td>F0072</td><td>A022</td><td>1251.89</td><td>2025-06-18</td><td>2025-07-15T16:41:15.224Z</td><td>590</td><td>2025-07-16T08:13:05.597Z</td><td>2025-07-16T08:13:05.597Z</td></tr><tr><td>B00591</td><td>P0012</td><td>F0052</td><td>A020</td><td>116.09</td><td>2025-05-25</td><td>2025-07-15T16:41:15.224Z</td><td>591</td><td>2025-07-16T08:13:05.597Z</td><td>2025-07-16T08:13:05.597Z</td></tr><tr><td>B00592</td><td>P0141</td><td>F0089</td><td>A018</td><td>1099.2</td><td>2025-06-15</td><td>2025-07-15T16:41:15.224Z</td><td>592</td><td>2025-07-16T08:13:05.597Z</td><td>2025-07-16T08:13:05.597Z</td></tr><tr><td>B00593</td><td>P0165</td><td>F0035</td><td>A016</td><td>807.12</td><td>2025-05-24</td><td>2025-07-15T16:41:15.224Z</td><td>593</td><td>2025-07-16T08:13:05.597Z</td><td>2025-07-16T08:13:05.597Z</td></tr><tr><td>B00594</td><td>P0010</td><td>F0004</td><td>A038</td><td>904.78</td><td>2025-04-08</td><td>2025-07-15T16:41:15.224Z</td><td>594</td><td>2025-07-16T08:13:05.597Z</td><td>2025-07-16T08:13:05.597Z</td></tr><tr><td>B00595</td><td>P0194</td><td>F0094</td><td>A010</td><td>1018.79</td><td>2025-04-16</td><td>2025-07-15T16:41:15.224Z</td><td>595</td><td>2025-07-16T08:13:05.597Z</td><td>2025-07-16T08:13:05.597Z</td></tr><tr><td>B00596</td><td>P0011</td><td>F0059</td><td>A006</td><td>993.56</td><td>2025-06-11</td><td>2025-07-15T16:41:15.224Z</td><td>596</td><td>2025-07-16T08:13:05.597Z</td><td>2025-07-16T08:13:05.597Z</td></tr><tr><td>B00597</td><td>P0160</td><td>F0068</td><td>A048</td><td>128.05</td><td>2025-06-08</td><td>2025-07-15T16:41:15.224Z</td><td>597</td><td>2025-07-16T08:13:05.597Z</td><td>2025-07-16T08:13:05.597Z</td></tr><tr><td>B00598</td><td>P0189</td><td>F0088</td><td>A007</td><td>273.36</td><td>2025-06-12</td><td>2025-07-15T16:41:15.224Z</td><td>598</td><td>2025-07-16T08:13:05.597Z</td><td>2025-07-16T08:13:05.597Z</td></tr><tr><td>B00599</td><td>P0062</td><td>F0066</td><td>A028</td><td>598.61</td><td>2025-03-30</td><td>2025-07-15T16:41:15.224Z</td><td>599</td><td>2025-07-16T08:13:05.597Z</td><td>2025-07-16T08:13:05.597Z</td></tr><tr><td>B00600</td><td>P0093</td><td>F0080</td><td>A038</td><td>699.69</td><td>2025-04-28</td><td>2025-07-15T16:41:15.224Z</td><td>600</td><td>2025-07-16T08:13:05.597Z</td><td>2025-07-16T08:13:05.597Z</td></tr><tr><td>B00601</td><td>P0053</td><td>F0046</td><td>A008</td><td>1012.7</td><td>2025-04-05</td><td>2025-07-15T16:41:15.224Z</td><td>601</td><td>2025-07-16T08:13:05.597Z</td><td>2025-07-16T08:13:05.597Z</td></tr><tr><td>B00602</td><td>P0141</td><td>F0060</td><td>A026</td><td>484.69</td><td>2025-05-05</td><td>2025-07-15T16:41:15.224Z</td><td>602</td><td>2025-07-16T08:13:05.597Z</td><td>2025-07-16T08:13:05.597Z</td></tr><tr><td>B00603</td><td>P0187</td><td>F0004</td><td>A049</td><td>294.23</td><td>2025-04-22</td><td>2025-07-15T16:41:15.224Z</td><td>603</td><td>2025-07-16T08:13:05.597Z</td><td>2025-07-16T08:13:05.597Z</td></tr><tr><td>B00604</td><td>P0104</td><td>F0055</td><td>A007</td><td>607.44</td><td>2025-04-05</td><td>2025-07-15T16:41:15.224Z</td><td>604</td><td>2025-07-16T08:13:05.597Z</td><td>2025-07-16T08:13:05.597Z</td></tr><tr><td>B00605</td><td>P0141</td><td>F0032</td><td>A004</td><td>1075.75</td><td>2025-06-21</td><td>2025-07-15T16:41:15.224Z</td><td>605</td><td>2025-07-16T08:13:05.597Z</td><td>2025-07-16T08:13:05.597Z</td></tr><tr><td>B00606</td><td>P0190</td><td>F0067</td><td>A025</td><td>357.14</td><td>2025-05-23</td><td>2025-07-15T16:41:15.224Z</td><td>606</td><td>2025-07-16T08:13:05.597Z</td><td>2025-07-16T08:13:05.597Z</td></tr><tr><td>B00607</td><td>P0052</td><td>F0079</td><td>A002</td><td>943.05</td><td>2025-03-27</td><td>2025-07-15T16:41:15.224Z</td><td>607</td><td>2025-07-16T08:13:05.597Z</td><td>2025-07-16T08:13:05.597Z</td></tr><tr><td>B00608</td><td>P0065</td><td>F0041</td><td>A036</td><td>526.82</td><td>2025-05-31</td><td>2025-07-15T16:41:15.224Z</td><td>608</td><td>2025-07-16T08:13:05.597Z</td><td>2025-07-16T08:13:05.597Z</td></tr><tr><td>B00609</td><td>P0140</td><td>F0021</td><td>A015</td><td>1263.6</td><td>2025-04-28</td><td>2025-07-15T16:41:15.224Z</td><td>609</td><td>2025-07-16T08:13:05.597Z</td><td>2025-07-16T08:13:05.597Z</td></tr><tr><td>B00610</td><td>P0189</td><td>F0050</td><td>A003</td><td>916.27</td><td>2025-04-01</td><td>2025-07-15T16:41:15.224Z</td><td>610</td><td>2025-07-16T08:13:05.597Z</td><td>2025-07-16T08:13:05.597Z</td></tr><tr><td>B00611</td><td>P0025</td><td>F0059</td><td>A042</td><td>1174.31</td><td>2025-05-14</td><td>2025-07-15T16:41:15.224Z</td><td>611</td><td>2025-07-16T08:13:05.597Z</td><td>2025-07-16T08:13:05.597Z</td></tr><tr><td>B00612</td><td>P0042</td><td>F0075</td><td>A001</td><td>1326.01</td><td>2025-05-04</td><td>2025-07-15T16:41:15.224Z</td><td>612</td><td>2025-07-16T08:13:05.597Z</td><td>2025-07-16T08:13:05.597Z</td></tr><tr><td>B00613</td><td>P0073</td><td>F0077</td><td>A045</td><td>1401.23</td><td>2025-04-05</td><td>2025-07-15T16:41:15.224Z</td><td>613</td><td>2025-07-16T08:13:05.597Z</td><td>2025-07-16T08:13:05.597Z</td></tr><tr><td>B00614</td><td>P0083</td><td>F0097</td><td>A044</td><td>119.23</td><td>2025-05-02</td><td>2025-07-15T16:41:15.224Z</td><td>614</td><td>2025-07-16T08:13:05.597Z</td><td>2025-07-16T08:13:05.597Z</td></tr><tr><td>B00615</td><td>P0182</td><td>F0011</td><td>A014</td><td>953.82</td><td>2025-03-25</td><td>2025-07-15T16:41:15.224Z</td><td>615</td><td>2025-07-16T08:13:05.597Z</td><td>2025-07-16T08:13:05.597Z</td></tr><tr><td>B00616</td><td>P0193</td><td>F0013</td><td>A007</td><td>1213.6</td><td>2025-04-17</td><td>2025-07-15T16:41:15.224Z</td><td>616</td><td>2025-07-16T08:13:05.597Z</td><td>2025-07-16T08:13:05.597Z</td></tr><tr><td>B00617</td><td>P0172</td><td>F0006</td><td>A028</td><td>1014.07</td><td>2025-04-02</td><td>2025-07-15T16:41:15.224Z</td><td>617</td><td>2025-07-16T08:13:05.597Z</td><td>2025-07-16T08:13:05.597Z</td></tr><tr><td>B00618</td><td>P0065</td><td>F0053</td><td>A031</td><td>1011.04</td><td>2025-04-09</td><td>2025-07-15T16:41:15.224Z</td><td>618</td><td>2025-07-16T08:13:05.597Z</td><td>2025-07-16T08:13:05.597Z</td></tr><tr><td>B00619</td><td>P0005</td><td>F0036</td><td>A011</td><td>112.06</td><td>2025-05-23</td><td>2025-07-15T16:41:15.224Z</td><td>619</td><td>2025-07-16T08:13:05.597Z</td><td>2025-07-16T08:13:05.597Z</td></tr><tr><td>B00620</td><td>P0064</td><td>F0099</td><td>A004</td><td>726.66</td><td>2025-05-12</td><td>2025-07-15T16:41:15.224Z</td><td>620</td><td>2025-07-16T08:13:05.597Z</td><td>2025-07-16T08:13:05.597Z</td></tr><tr><td>B00621</td><td>P0046</td><td>F0001</td><td>A006</td><td>824.69</td><td>2025-06-08</td><td>2025-07-15T16:41:15.224Z</td><td>621</td><td>2025-07-16T08:13:05.597Z</td><td>2025-07-16T08:13:05.597Z</td></tr><tr><td>B00622</td><td>P0084</td><td>F0017</td><td>A038</td><td>122.32</td><td>2025-06-16</td><td>2025-07-15T16:41:15.224Z</td><td>622</td><td>2025-07-16T08:13:05.597Z</td><td>2025-07-16T08:13:05.597Z</td></tr><tr><td>B00623</td><td>P0011</td><td>F0001</td><td>A035</td><td>507.36</td><td>2025-06-09</td><td>2025-07-15T16:41:15.224Z</td><td>623</td><td>2025-07-16T08:13:05.597Z</td><td>2025-07-16T08:13:05.597Z</td></tr><tr><td>B00624</td><td>P0040</td><td>F0066</td><td>A013</td><td>1232.78</td><td>2025-06-02</td><td>2025-07-15T16:41:15.224Z</td><td>624</td><td>2025-07-16T08:13:05.597Z</td><td>2025-07-16T08:13:05.597Z</td></tr><tr><td>B00625</td><td>P0007</td><td>F0065</td><td>A047</td><td>1409.64</td><td>2025-06-20</td><td>2025-07-15T16:41:15.224Z</td><td>625</td><td>2025-07-16T08:13:05.597Z</td><td>2025-07-16T08:13:05.597Z</td></tr><tr><td>B00626</td><td>P0044</td><td>F0047</td><td>A033</td><td>505.89</td><td>2025-04-01</td><td>2025-07-15T16:41:15.224Z</td><td>626</td><td>2025-07-16T08:13:05.597Z</td><td>2025-07-16T08:13:05.597Z</td></tr><tr><td>B00627</td><td>P0095</td><td>F0095</td><td>A020</td><td>106.79</td><td>2025-06-13</td><td>2025-07-15T16:41:15.224Z</td><td>627</td><td>2025-07-16T08:13:05.597Z</td><td>2025-07-16T08:13:05.597Z</td></tr><tr><td>B00628</td><td>P0057</td><td>F0021</td><td>A023</td><td>1116.32</td><td>2025-05-05</td><td>2025-07-15T16:41:15.224Z</td><td>628</td><td>2025-07-16T08:13:05.597Z</td><td>2025-07-16T08:13:05.597Z</td></tr><tr><td>B00629</td><td>P0192</td><td>F0058</td><td>A023</td><td>733.44</td><td>2025-04-22</td><td>2025-07-15T16:41:15.224Z</td><td>629</td><td>2025-07-16T08:13:05.597Z</td><td>2025-07-16T08:13:05.597Z</td></tr><tr><td>B00630</td><td>P0189</td><td>F0019</td><td>A031</td><td>912.97</td><td>2025-05-15</td><td>2025-07-15T16:41:15.224Z</td><td>630</td><td>2025-07-16T08:13:05.597Z</td><td>2025-07-16T08:13:05.597Z</td></tr><tr><td>B00631</td><td>P0144</td><td>F0085</td><td>A026</td><td>1111.75</td><td>2025-04-15</td><td>2025-07-15T16:41:15.224Z</td><td>631</td><td>2025-07-16T08:13:05.597Z</td><td>2025-07-16T08:13:05.597Z</td></tr><tr><td>B00632</td><td>P0005</td><td>F0025</td><td>A010</td><td>1195.99</td><td>2025-04-20</td><td>2025-07-15T16:41:15.224Z</td><td>632</td><td>2025-07-16T08:13:05.597Z</td><td>2025-07-16T08:13:05.597Z</td></tr><tr><td>B00633</td><td>P0080</td><td>F0025</td><td>A022</td><td>1364.4</td><td>2025-04-16</td><td>2025-07-15T16:41:15.224Z</td><td>633</td><td>2025-07-16T08:13:05.597Z</td><td>2025-07-16T08:13:05.597Z</td></tr><tr><td>B00634</td><td>P0010</td><td>F0024</td><td>A038</td><td>403.0</td><td>2025-05-02</td><td>2025-07-15T16:41:15.224Z</td><td>634</td><td>2025-07-16T08:13:05.597Z</td><td>2025-07-16T08:13:05.597Z</td></tr><tr><td>B00635</td><td>P0166</td><td>F0056</td><td>A036</td><td>1453.45</td><td>2025-04-26</td><td>2025-07-15T16:41:15.224Z</td><td>635</td><td>2025-07-16T08:13:05.597Z</td><td>2025-07-16T08:13:05.597Z</td></tr><tr><td>B00636</td><td>P0154</td><td>F0062</td><td>A040</td><td>152.12</td><td>2025-04-26</td><td>2025-07-15T16:41:15.224Z</td><td>636</td><td>2025-07-16T08:13:05.597Z</td><td>2025-07-16T08:13:05.597Z</td></tr><tr><td>B00637</td><td>P0013</td><td>F0056</td><td>A048</td><td>1495.72</td><td>2025-04-30</td><td>2025-07-15T16:41:15.224Z</td><td>637</td><td>2025-07-16T08:13:05.597Z</td><td>2025-07-16T08:13:05.597Z</td></tr><tr><td>B00638</td><td>P0177</td><td>F0094</td><td>A039</td><td>220.26</td><td>2025-06-16</td><td>2025-07-15T16:41:15.224Z</td><td>638</td><td>2025-07-16T08:13:05.597Z</td><td>2025-07-16T08:13:05.597Z</td></tr><tr><td>B00639</td><td>P0013</td><td>F0058</td><td>A043</td><td>833.83</td><td>2025-05-07</td><td>2025-07-15T16:41:15.224Z</td><td>639</td><td>2025-07-16T08:13:05.597Z</td><td>2025-07-16T08:13:05.597Z</td></tr><tr><td>B00640</td><td>P0131</td><td>F0042</td><td>A015</td><td>1072.55</td><td>2025-03-24</td><td>2025-07-15T16:41:15.224Z</td><td>640</td><td>2025-07-16T08:13:05.597Z</td><td>2025-07-16T08:13:05.597Z</td></tr><tr><td>B00641</td><td>P0120</td><td>F0018</td><td>A021</td><td>1465.99</td><td>2025-05-10</td><td>2025-07-15T16:41:15.224Z</td><td>641</td><td>2025-07-16T08:13:05.597Z</td><td>2025-07-16T08:13:05.597Z</td></tr><tr><td>B00642</td><td>P0017</td><td>F0022</td><td>A028</td><td>534.52</td><td>2025-05-02</td><td>2025-07-15T16:41:15.224Z</td><td>642</td><td>2025-07-16T08:13:05.597Z</td><td>2025-07-16T08:13:05.597Z</td></tr><tr><td>B00643</td><td>P0196</td><td>F0047</td><td>A031</td><td>1052.07</td><td>2025-06-19</td><td>2025-07-15T16:41:15.224Z</td><td>643</td><td>2025-07-16T08:13:05.597Z</td><td>2025-07-16T08:13:05.597Z</td></tr><tr><td>B00644</td><td>P0083</td><td>F0060</td><td>A019</td><td>1279.69</td><td>2025-04-13</td><td>2025-07-15T16:41:15.224Z</td><td>644</td><td>2025-07-16T08:13:05.597Z</td><td>2025-07-16T08:13:05.597Z</td></tr><tr><td>B00645</td><td>P0034</td><td>F0057</td><td>A037</td><td>122.26</td><td>2025-06-01</td><td>2025-07-15T16:41:15.224Z</td><td>645</td><td>2025-07-16T08:13:05.597Z</td><td>2025-07-16T08:13:05.597Z</td></tr><tr><td>B00646</td><td>P0011</td><td>F0014</td><td>A009</td><td>222.83</td><td>2025-05-08</td><td>2025-07-15T16:41:15.224Z</td><td>646</td><td>2025-07-16T08:13:05.597Z</td><td>2025-07-16T08:13:05.597Z</td></tr><tr><td>B00647</td><td>P0010</td><td>F0043</td><td>A010</td><td>727.41</td><td>2025-05-25</td><td>2025-07-15T16:41:15.224Z</td><td>647</td><td>2025-07-16T08:13:05.597Z</td><td>2025-07-16T08:13:05.597Z</td></tr><tr><td>B00648</td><td>P0126</td><td>F0059</td><td>A033</td><td>1476.07</td><td>2025-04-09</td><td>2025-07-15T16:41:15.224Z</td><td>648</td><td>2025-07-16T08:13:05.597Z</td><td>2025-07-16T08:13:05.597Z</td></tr><tr><td>B00649</td><td>P0045</td><td>F0053</td><td>A001</td><td>1343.51</td><td>2025-04-21</td><td>2025-07-15T16:41:15.224Z</td><td>649</td><td>2025-07-16T08:13:05.597Z</td><td>2025-07-16T08:13:05.597Z</td></tr><tr><td>B00650</td><td>P0188</td><td>F0061</td><td>A035</td><td>1202.76</td><td>2025-05-04</td><td>2025-07-15T16:41:15.224Z</td><td>650</td><td>2025-07-16T08:13:05.597Z</td><td>2025-07-16T08:13:05.597Z</td></tr><tr><td>B00651</td><td>P0018</td><td>F0059</td><td>A029</td><td>982.68</td><td>2025-03-28</td><td>2025-07-15T16:41:15.224Z</td><td>651</td><td>2025-07-16T08:13:05.597Z</td><td>2025-07-16T08:13:05.597Z</td></tr><tr><td>B00652</td><td>P0190</td><td>F0054</td><td>A002</td><td>1321.99</td><td>2025-04-13</td><td>2025-07-15T16:41:15.224Z</td><td>652</td><td>2025-07-16T08:13:05.597Z</td><td>2025-07-16T08:13:05.597Z</td></tr><tr><td>B00653</td><td>P0010</td><td>F0045</td><td>A031</td><td>519.24</td><td>2025-03-25</td><td>2025-07-15T16:41:15.224Z</td><td>653</td><td>2025-07-16T08:13:05.597Z</td><td>2025-07-16T08:13:05.597Z</td></tr><tr><td>B00654</td><td>P0036</td><td>F0022</td><td>A033</td><td>1205.07</td><td>2025-04-22</td><td>2025-07-15T16:41:15.224Z</td><td>654</td><td>2025-07-16T08:13:05.597Z</td><td>2025-07-16T08:13:05.597Z</td></tr><tr><td>B00655</td><td>P0012</td><td>F0032</td><td>A031</td><td>576.41</td><td>2025-05-01</td><td>2025-07-15T16:41:15.224Z</td><td>655</td><td>2025-07-16T08:13:05.597Z</td><td>2025-07-16T08:13:05.597Z</td></tr><tr><td>B00656</td><td>P0108</td><td>F0100</td><td>A017</td><td>656.73</td><td>2025-04-27</td><td>2025-07-15T16:41:15.224Z</td><td>656</td><td>2025-07-16T08:13:05.597Z</td><td>2025-07-16T08:13:05.597Z</td></tr><tr><td>B00657</td><td>P0114</td><td>F0049</td><td>A037</td><td>143.55</td><td>2025-06-07</td><td>2025-07-15T16:41:15.224Z</td><td>657</td><td>2025-07-16T08:13:05.597Z</td><td>2025-07-16T08:13:05.597Z</td></tr><tr><td>B00658</td><td>P0016</td><td>F0013</td><td>A021</td><td>1258.56</td><td>2025-04-19</td><td>2025-07-15T16:41:15.224Z</td><td>658</td><td>2025-07-16T08:13:05.597Z</td><td>2025-07-16T08:13:05.597Z</td></tr><tr><td>B00659</td><td>P0130</td><td>F0036</td><td>A045</td><td>532.79</td><td>2025-05-31</td><td>2025-07-15T16:41:15.224Z</td><td>659</td><td>2025-07-16T08:13:05.597Z</td><td>2025-07-16T08:13:05.597Z</td></tr><tr><td>B00660</td><td>P0135</td><td>F0071</td><td>A012</td><td>1187.85</td><td>2025-05-13</td><td>2025-07-15T16:41:15.224Z</td><td>660</td><td>2025-07-16T08:13:05.597Z</td><td>2025-07-16T08:13:05.597Z</td></tr><tr><td>B00661</td><td>P0165</td><td>F0010</td><td>A044</td><td>132.4</td><td>2025-04-28</td><td>2025-07-15T16:41:15.224Z</td><td>661</td><td>2025-07-16T08:13:05.597Z</td><td>2025-07-16T08:13:05.597Z</td></tr><tr><td>B00662</td><td>P0095</td><td>F0029</td><td>A038</td><td>1346.25</td><td>2025-03-27</td><td>2025-07-15T16:41:15.224Z</td><td>662</td><td>2025-07-16T08:13:05.597Z</td><td>2025-07-16T08:13:05.597Z</td></tr><tr><td>B00663</td><td>P0039</td><td>F0031</td><td>A018</td><td>1399.31</td><td>2025-06-01</td><td>2025-07-15T16:41:15.224Z</td><td>663</td><td>2025-07-16T08:13:05.597Z</td><td>2025-07-16T08:13:05.597Z</td></tr><tr><td>B00664</td><td>P0093</td><td>F0014</td><td>A032</td><td>906.62</td><td>2025-04-13</td><td>2025-07-15T16:41:15.224Z</td><td>664</td><td>2025-07-16T08:13:05.597Z</td><td>2025-07-16T08:13:05.597Z</td></tr><tr><td>B00665</td><td>P0040</td><td>F0010</td><td>A037</td><td>1180.68</td><td>2025-04-03</td><td>2025-07-15T16:41:15.224Z</td><td>665</td><td>2025-07-16T08:13:05.597Z</td><td>2025-07-16T08:13:05.597Z</td></tr><tr><td>B00666</td><td>P0040</td><td>F0047</td><td>A007</td><td>836.73</td><td>2025-04-16</td><td>2025-07-15T16:41:15.224Z</td><td>666</td><td>2025-07-16T08:13:05.597Z</td><td>2025-07-16T08:13:05.597Z</td></tr><tr><td>B00667</td><td>P0001</td><td>F0086</td><td>A016</td><td>1430.8</td><td>2025-03-30</td><td>2025-07-15T16:41:15.224Z</td><td>667</td><td>2025-07-16T08:13:05.597Z</td><td>2025-07-16T08:13:05.597Z</td></tr><tr><td>B00668</td><td>P0192</td><td>F0019</td><td>A037</td><td>340.13</td><td>2025-06-05</td><td>2025-07-15T16:41:15.224Z</td><td>668</td><td>2025-07-16T08:13:05.597Z</td><td>2025-07-16T08:13:05.597Z</td></tr><tr><td>B00669</td><td>P0026</td><td>F0015</td><td>A012</td><td>1135.7</td><td>2025-04-04</td><td>2025-07-15T16:41:15.224Z</td><td>669</td><td>2025-07-16T08:13:05.597Z</td><td>2025-07-16T08:13:05.597Z</td></tr><tr><td>B00670</td><td>P0093</td><td>F0085</td><td>A005</td><td>585.4</td><td>2025-05-17</td><td>2025-07-15T16:41:15.224Z</td><td>670</td><td>2025-07-16T08:13:05.597Z</td><td>2025-07-16T08:13:05.597Z</td></tr><tr><td>B00671</td><td>P0075</td><td>F0043</td><td>A027</td><td>594.27</td><td>2025-04-07</td><td>2025-07-15T16:41:15.224Z</td><td>671</td><td>2025-07-16T08:13:05.597Z</td><td>2025-07-16T08:13:05.597Z</td></tr><tr><td>B00672</td><td>P0174</td><td>F0002</td><td>A020</td><td>293.3</td><td>2025-04-21</td><td>2025-07-15T16:41:15.224Z</td><td>672</td><td>2025-07-16T08:13:05.597Z</td><td>2025-07-16T08:13:05.597Z</td></tr><tr><td>B00673</td><td>P0075</td><td>F0065</td><td>A007</td><td>978.09</td><td>2025-06-14</td><td>2025-07-15T16:41:15.224Z</td><td>673</td><td>2025-07-16T08:13:05.597Z</td><td>2025-07-16T08:13:05.597Z</td></tr><tr><td>B00674</td><td>P0122</td><td>F0054</td><td>A003</td><td>1388.41</td><td>2025-05-30</td><td>2025-07-15T16:41:15.224Z</td><td>674</td><td>2025-07-16T08:13:05.597Z</td><td>2025-07-16T08:13:05.597Z</td></tr><tr><td>B00675</td><td>P0198</td><td>F0001</td><td>A026</td><td>1438.71</td><td>2025-06-12</td><td>2025-07-15T16:41:15.224Z</td><td>675</td><td>2025-07-16T08:13:05.597Z</td><td>2025-07-16T08:13:05.597Z</td></tr><tr><td>B00676</td><td>P0055</td><td>F0074</td><td>A009</td><td>263.21</td><td>2025-03-28</td><td>2025-07-15T16:41:15.224Z</td><td>676</td><td>2025-07-16T08:13:05.597Z</td><td>2025-07-16T08:13:05.597Z</td></tr><tr><td>B00677</td><td>P0009</td><td>F0026</td><td>A042</td><td>507.07</td><td>2025-05-07</td><td>2025-07-15T16:41:15.224Z</td><td>677</td><td>2025-07-16T08:13:05.597Z</td><td>2025-07-16T08:13:05.597Z</td></tr><tr><td>B00678</td><td>P0167</td><td>F0069</td><td>A027</td><td>156.82</td><td>2025-03-30</td><td>2025-07-15T16:41:15.224Z</td><td>678</td><td>2025-07-16T08:13:05.597Z</td><td>2025-07-16T08:13:05.597Z</td></tr><tr><td>B00679</td><td>P0057</td><td>F0049</td><td>A007</td><td>1206.82</td><td>2025-05-19</td><td>2025-07-15T16:41:15.224Z</td><td>679</td><td>2025-07-16T08:13:05.597Z</td><td>2025-07-16T08:13:05.597Z</td></tr><tr><td>B00680</td><td>P0080</td><td>F0065</td><td>A036</td><td>167.95</td><td>2025-05-15</td><td>2025-07-15T16:41:15.224Z</td><td>680</td><td>2025-07-16T08:13:05.597Z</td><td>2025-07-16T08:13:05.597Z</td></tr><tr><td>B00681</td><td>P0136</td><td>F0010</td><td>A009</td><td>1340.96</td><td>2025-06-15</td><td>2025-07-15T16:41:15.224Z</td><td>681</td><td>2025-07-16T08:13:05.597Z</td><td>2025-07-16T08:13:05.597Z</td></tr><tr><td>B00682</td><td>P0193</td><td>F0078</td><td>A010</td><td>858.91</td><td>2025-03-29</td><td>2025-07-15T16:41:15.224Z</td><td>682</td><td>2025-07-16T08:13:05.597Z</td><td>2025-07-16T08:13:05.597Z</td></tr><tr><td>B00683</td><td>P0018</td><td>F0027</td><td>A020</td><td>1317.5</td><td>2025-06-01</td><td>2025-07-15T16:41:15.224Z</td><td>683</td><td>2025-07-16T08:13:05.597Z</td><td>2025-07-16T08:13:05.597Z</td></tr><tr><td>B00684</td><td>P0139</td><td>F0033</td><td>A041</td><td>504.82</td><td>2025-05-10</td><td>2025-07-15T16:41:15.224Z</td><td>684</td><td>2025-07-16T08:13:05.597Z</td><td>2025-07-16T08:13:05.597Z</td></tr><tr><td>B00685</td><td>P0016</td><td>F0059</td><td>A021</td><td>1254.97</td><td>2025-03-28</td><td>2025-07-15T16:41:15.224Z</td><td>685</td><td>2025-07-16T08:13:05.597Z</td><td>2025-07-16T08:13:05.597Z</td></tr><tr><td>B00686</td><td>P0168</td><td>F0080</td><td>A037</td><td>1267.07</td><td>2025-06-09</td><td>2025-07-15T16:41:15.224Z</td><td>686</td><td>2025-07-16T08:13:05.597Z</td><td>2025-07-16T08:13:05.597Z</td></tr><tr><td>B00687</td><td>P0061</td><td>F0013</td><td>A026</td><td>202.09</td><td>2025-05-01</td><td>2025-07-15T16:41:15.224Z</td><td>687</td><td>2025-07-16T08:13:05.597Z</td><td>2025-07-16T08:13:05.597Z</td></tr><tr><td>B00688</td><td>P0046</td><td>F0064</td><td>A049</td><td>935.88</td><td>2025-05-03</td><td>2025-07-15T16:41:15.224Z</td><td>688</td><td>2025-07-16T08:13:05.597Z</td><td>2025-07-16T08:13:05.597Z</td></tr><tr><td>B00689</td><td>P0001</td><td>F0095</td><td>A038</td><td>1334.67</td><td>2025-05-13</td><td>2025-07-15T16:41:15.224Z</td><td>689</td><td>2025-07-16T08:13:05.597Z</td><td>2025-07-16T08:13:05.597Z</td></tr><tr><td>B00690</td><td>P0036</td><td>F0033</td><td>A043</td><td>1400.55</td><td>2025-05-31</td><td>2025-07-15T16:41:15.224Z</td><td>690</td><td>2025-07-16T08:13:05.597Z</td><td>2025-07-16T08:13:05.597Z</td></tr><tr><td>B00691</td><td>P0033</td><td>F0008</td><td>A037</td><td>525.66</td><td>2025-06-17</td><td>2025-07-15T16:41:15.224Z</td><td>691</td><td>2025-07-16T08:13:05.597Z</td><td>2025-07-16T08:13:05.597Z</td></tr><tr><td>B00692</td><td>P0089</td><td>F0014</td><td>A031</td><td>1099.74</td><td>2025-05-16</td><td>2025-07-15T16:41:15.224Z</td><td>692</td><td>2025-07-16T08:13:05.597Z</td><td>2025-07-16T08:13:05.597Z</td></tr><tr><td>B00693</td><td>P0150</td><td>F0084</td><td>A009</td><td>789.54</td><td>2025-06-15</td><td>2025-07-15T16:41:15.224Z</td><td>693</td><td>2025-07-16T08:13:05.597Z</td><td>2025-07-16T08:13:05.597Z</td></tr><tr><td>B00694</td><td>P0166</td><td>F0090</td><td>A036</td><td>259.81</td><td>2025-05-26</td><td>2025-07-15T16:41:15.224Z</td><td>694</td><td>2025-07-16T08:13:05.597Z</td><td>2025-07-16T08:13:05.597Z</td></tr><tr><td>B00695</td><td>P0122</td><td>F0016</td><td>A029</td><td>462.01</td><td>2025-06-16</td><td>2025-07-15T16:41:15.224Z</td><td>695</td><td>2025-07-16T08:13:05.597Z</td><td>2025-07-16T08:13:05.597Z</td></tr><tr><td>B00696</td><td>P0144</td><td>F0087</td><td>A008</td><td>857.04</td><td>2025-06-07</td><td>2025-07-15T16:41:15.224Z</td><td>696</td><td>2025-07-16T08:13:05.597Z</td><td>2025-07-16T08:13:05.597Z</td></tr><tr><td>B00697</td><td>P0124</td><td>F0008</td><td>A047</td><td>1060.09</td><td>2025-06-15</td><td>2025-07-15T16:41:15.224Z</td><td>697</td><td>2025-07-16T08:13:05.597Z</td><td>2025-07-16T08:13:05.597Z</td></tr><tr><td>B00698</td><td>P0073</td><td>F0066</td><td>A036</td><td>130.56</td><td>2025-05-27</td><td>2025-07-15T16:41:15.224Z</td><td>698</td><td>2025-07-16T08:13:05.597Z</td><td>2025-07-16T08:13:05.597Z</td></tr><tr><td>B00699</td><td>P0200</td><td>F0089</td><td>A011</td><td>283.06</td><td>2025-05-05</td><td>2025-07-15T16:41:15.224Z</td><td>699</td><td>2025-07-16T08:13:05.597Z</td><td>2025-07-16T08:13:05.597Z</td></tr><tr><td>B00700</td><td>P0122</td><td>F0095</td><td>A032</td><td>911.55</td><td>2025-06-02</td><td>2025-07-15T16:41:15.224Z</td><td>700</td><td>2025-07-16T08:13:05.597Z</td><td>2025-07-16T08:13:05.597Z</td></tr><tr><td>B00701</td><td>P0088</td><td>F0004</td><td>A002</td><td>114.15</td><td>2025-06-18</td><td>2025-07-15T16:41:15.224Z</td><td>701</td><td>2025-07-16T08:13:05.597Z</td><td>2025-07-16T08:13:05.597Z</td></tr><tr><td>B00702</td><td>P0174</td><td>F0007</td><td>A038</td><td>1225.72</td><td>2025-05-02</td><td>2025-07-15T16:41:15.224Z</td><td>702</td><td>2025-07-16T08:13:05.597Z</td><td>2025-07-16T08:13:05.597Z</td></tr><tr><td>B00703</td><td>P0048</td><td>F0035</td><td>A015</td><td>237.38</td><td>2025-06-21</td><td>2025-07-15T16:41:15.224Z</td><td>703</td><td>2025-07-16T08:13:05.597Z</td><td>2025-07-16T08:13:05.597Z</td></tr><tr><td>B00704</td><td>P0128</td><td>F0086</td><td>A011</td><td>1304.64</td><td>2025-03-26</td><td>2025-07-15T16:41:15.224Z</td><td>704</td><td>2025-07-16T08:13:05.597Z</td><td>2025-07-16T08:13:05.597Z</td></tr><tr><td>B00705</td><td>P0159</td><td>F0048</td><td>A007</td><td>990.98</td><td>2025-06-15</td><td>2025-07-15T16:41:15.224Z</td><td>705</td><td>2025-07-16T08:13:05.597Z</td><td>2025-07-16T08:13:05.597Z</td></tr><tr><td>B00706</td><td>P0112</td><td>F0004</td><td>A027</td><td>560.32</td><td>2025-06-12</td><td>2025-07-15T16:41:15.224Z</td><td>706</td><td>2025-07-16T08:13:05.597Z</td><td>2025-07-16T08:13:05.597Z</td></tr><tr><td>B00707</td><td>P0173</td><td>F0032</td><td>A032</td><td>1424.78</td><td>2025-05-28</td><td>2025-07-15T16:41:15.224Z</td><td>707</td><td>2025-07-16T08:13:05.597Z</td><td>2025-07-16T08:13:05.597Z</td></tr><tr><td>B00708</td><td>P0130</td><td>F0046</td><td>A044</td><td>1097.72</td><td>2025-04-14</td><td>2025-07-15T16:41:15.224Z</td><td>708</td><td>2025-07-16T08:13:05.597Z</td><td>2025-07-16T08:13:05.597Z</td></tr><tr><td>B00709</td><td>P0188</td><td>F0013</td><td>A031</td><td>697.72</td><td>2025-05-17</td><td>2025-07-15T16:41:15.224Z</td><td>709</td><td>2025-07-16T08:13:05.597Z</td><td>2025-07-16T08:13:05.597Z</td></tr><tr><td>B00710</td><td>P0014</td><td>F0081</td><td>A049</td><td>160.19</td><td>2025-05-16</td><td>2025-07-15T16:41:15.224Z</td><td>710</td><td>2025-07-16T08:13:05.597Z</td><td>2025-07-16T08:13:05.597Z</td></tr><tr><td>B00711</td><td>P0081</td><td>F0063</td><td>A008</td><td>415.15</td><td>2025-05-02</td><td>2025-07-15T16:41:15.224Z</td><td>711</td><td>2025-07-16T08:13:05.597Z</td><td>2025-07-16T08:13:05.597Z</td></tr><tr><td>B00712</td><td>P0073</td><td>F0097</td><td>A002</td><td>654.47</td><td>2025-04-07</td><td>2025-07-15T16:41:15.224Z</td><td>712</td><td>2025-07-16T08:13:05.597Z</td><td>2025-07-16T08:13:05.597Z</td></tr><tr><td>B00713</td><td>P0068</td><td>F0018</td><td>A039</td><td>514.5</td><td>2025-06-15</td><td>2025-07-15T16:41:15.224Z</td><td>713</td><td>2025-07-16T08:13:05.597Z</td><td>2025-07-16T08:13:05.597Z</td></tr><tr><td>B00714</td><td>P0176</td><td>F0094</td><td>A037</td><td>110.8</td><td>2025-05-31</td><td>2025-07-15T16:41:15.224Z</td><td>714</td><td>2025-07-16T08:13:05.597Z</td><td>2025-07-16T08:13:05.597Z</td></tr><tr><td>B00715</td><td>P0090</td><td>F0094</td><td>A017</td><td>1257.31</td><td>2025-05-08</td><td>2025-07-15T16:41:15.224Z</td><td>715</td><td>2025-07-16T08:13:05.597Z</td><td>2025-07-16T08:13:05.597Z</td></tr><tr><td>B00716</td><td>P0189</td><td>F0094</td><td>A038</td><td>619.58</td><td>2025-03-27</td><td>2025-07-15T16:41:15.224Z</td><td>716</td><td>2025-07-16T08:13:05.597Z</td><td>2025-07-16T08:13:05.597Z</td></tr><tr><td>B00717</td><td>P0049</td><td>F0085</td><td>A020</td><td>745.38</td><td>2025-05-20</td><td>2025-07-15T16:41:15.224Z</td><td>717</td><td>2025-07-16T08:13:05.597Z</td><td>2025-07-16T08:13:05.597Z</td></tr><tr><td>B00718</td><td>P0098</td><td>F0091</td><td>A002</td><td>1468.61</td><td>2025-03-30</td><td>2025-07-15T16:41:15.224Z</td><td>718</td><td>2025-07-16T08:13:05.597Z</td><td>2025-07-16T08:13:05.597Z</td></tr><tr><td>B00719</td><td>P0086</td><td>F0095</td><td>A015</td><td>1413.42</td><td>2025-06-20</td><td>2025-07-15T16:41:15.224Z</td><td>719</td><td>2025-07-16T08:13:05.597Z</td><td>2025-07-16T08:13:05.597Z</td></tr><tr><td>B00720</td><td>P0140</td><td>F0010</td><td>A010</td><td>590.1</td><td>2025-04-09</td><td>2025-07-15T16:41:15.224Z</td><td>720</td><td>2025-07-16T08:13:05.597Z</td><td>2025-07-16T08:13:05.597Z</td></tr><tr><td>B00721</td><td>P0006</td><td>F0019</td><td>A006</td><td>152.8</td><td>2025-03-29</td><td>2025-07-15T16:41:15.224Z</td><td>721</td><td>2025-07-16T08:13:05.597Z</td><td>2025-07-16T08:13:05.597Z</td></tr><tr><td>B00722</td><td>P0154</td><td>F0014</td><td>A037</td><td>756.27</td><td>2025-04-24</td><td>2025-07-15T16:41:15.224Z</td><td>722</td><td>2025-07-16T08:13:05.597Z</td><td>2025-07-16T08:13:05.597Z</td></tr><tr><td>B00723</td><td>P0052</td><td>F0072</td><td>A008</td><td>459.54</td><td>2025-05-30</td><td>2025-07-15T16:41:15.224Z</td><td>723</td><td>2025-07-16T08:13:05.597Z</td><td>2025-07-16T08:13:05.597Z</td></tr><tr><td>B00724</td><td>P0065</td><td>F0010</td><td>A008</td><td>1128.73</td><td>2025-05-14</td><td>2025-07-15T16:41:15.224Z</td><td>724</td><td>2025-07-16T08:13:05.597Z</td><td>2025-07-16T08:13:05.597Z</td></tr><tr><td>B00725</td><td>P0130</td><td>F0060</td><td>A028</td><td>1451.2</td><td>2025-04-17</td><td>2025-07-15T16:41:15.224Z</td><td>725</td><td>2025-07-16T08:13:05.597Z</td><td>2025-07-16T08:13:05.597Z</td></tr><tr><td>B00726</td><td>P0200</td><td>F0078</td><td>A045</td><td>455.32</td><td>2025-06-21</td><td>2025-07-15T16:41:15.224Z</td><td>726</td><td>2025-07-16T08:13:05.597Z</td><td>2025-07-16T08:13:05.597Z</td></tr><tr><td>B00727</td><td>P0189</td><td>F0051</td><td>A017</td><td>457.43</td><td>2025-06-14</td><td>2025-07-15T16:41:15.224Z</td><td>727</td><td>2025-07-16T08:13:05.597Z</td><td>2025-07-16T08:13:05.597Z</td></tr><tr><td>B00728</td><td>P0160</td><td>F0066</td><td>A045</td><td>213.66</td><td>2025-03-27</td><td>2025-07-15T16:41:15.224Z</td><td>728</td><td>2025-07-16T08:13:05.597Z</td><td>2025-07-16T08:13:05.597Z</td></tr><tr><td>B00729</td><td>P0115</td><td>F0081</td><td>A022</td><td>1105.67</td><td>2025-05-05</td><td>2025-07-15T16:41:15.224Z</td><td>729</td><td>2025-07-16T08:13:05.597Z</td><td>2025-07-16T08:13:05.597Z</td></tr><tr><td>B00730</td><td>P0081</td><td>F0076</td><td>A014</td><td>1258.63</td><td>2025-04-06</td><td>2025-07-15T16:41:15.224Z</td><td>730</td><td>2025-07-16T08:13:05.597Z</td><td>2025-07-16T08:13:05.597Z</td></tr><tr><td>B00731</td><td>P0159</td><td>F0069</td><td>A029</td><td>1291.83</td><td>2025-06-17</td><td>2025-07-15T16:41:15.224Z</td><td>731</td><td>2025-07-16T08:13:05.597Z</td><td>2025-07-16T08:13:05.597Z</td></tr><tr><td>B00732</td><td>P0068</td><td>F0083</td><td>A037</td><td>132.68</td><td>2025-04-21</td><td>2025-07-15T16:41:15.224Z</td><td>732</td><td>2025-07-16T08:13:05.597Z</td><td>2025-07-16T08:13:05.597Z</td></tr><tr><td>B00733</td><td>P0111</td><td>F0069</td><td>A007</td><td>1042.11</td><td>2025-04-29</td><td>2025-07-15T16:41:15.224Z</td><td>733</td><td>2025-07-16T08:13:05.597Z</td><td>2025-07-16T08:13:05.597Z</td></tr><tr><td>B00734</td><td>P0181</td><td>F0077</td><td>A029</td><td>751.55</td><td>2025-05-16</td><td>2025-07-15T16:41:15.224Z</td><td>734</td><td>2025-07-16T08:13:05.597Z</td><td>2025-07-16T08:13:05.597Z</td></tr><tr><td>B00735</td><td>P0125</td><td>F0013</td><td>A031</td><td>561.39</td><td>2025-05-20</td><td>2025-07-15T16:41:15.224Z</td><td>735</td><td>2025-07-16T08:13:05.597Z</td><td>2025-07-16T08:13:05.597Z</td></tr><tr><td>B00736</td><td>P0163</td><td>F0011</td><td>A031</td><td>913.44</td><td>2025-06-10</td><td>2025-07-15T16:41:15.224Z</td><td>736</td><td>2025-07-16T08:13:05.597Z</td><td>2025-07-16T08:13:05.597Z</td></tr><tr><td>B00737</td><td>P0050</td><td>F0012</td><td>A023</td><td>347.32</td><td>2025-03-27</td><td>2025-07-15T16:41:15.224Z</td><td>737</td><td>2025-07-16T08:13:05.597Z</td><td>2025-07-16T08:13:05.597Z</td></tr><tr><td>B00738</td><td>P0171</td><td>F0015</td><td>A033</td><td>243.03</td><td>2025-05-07</td><td>2025-07-15T16:41:15.224Z</td><td>738</td><td>2025-07-16T08:13:05.597Z</td><td>2025-07-16T08:13:05.597Z</td></tr><tr><td>B00739</td><td>P0140</td><td>F0093</td><td>A037</td><td>111.61</td><td>2025-04-14</td><td>2025-07-15T16:41:15.224Z</td><td>739</td><td>2025-07-16T08:13:05.597Z</td><td>2025-07-16T08:13:05.597Z</td></tr><tr><td>B00740</td><td>P0149</td><td>F0087</td><td>A001</td><td>1181.42</td><td>2025-04-05</td><td>2025-07-15T16:41:15.224Z</td><td>740</td><td>2025-07-16T08:13:05.597Z</td><td>2025-07-16T08:13:05.597Z</td></tr><tr><td>B00741</td><td>P0166</td><td>F0038</td><td>A024</td><td>843.67</td><td>2025-05-03</td><td>2025-07-15T16:41:15.224Z</td><td>741</td><td>2025-07-16T08:13:05.597Z</td><td>2025-07-16T08:13:05.597Z</td></tr><tr><td>B00742</td><td>P0013</td><td>F0046</td><td>A007</td><td>406.21</td><td>2025-04-05</td><td>2025-07-15T16:41:15.224Z</td><td>742</td><td>2025-07-16T08:13:05.597Z</td><td>2025-07-16T08:13:05.597Z</td></tr><tr><td>B00743</td><td>P0056</td><td>F0047</td><td>A024</td><td>489.68</td><td>2025-05-01</td><td>2025-07-15T16:41:15.224Z</td><td>743</td><td>2025-07-16T08:13:05.597Z</td><td>2025-07-16T08:13:05.597Z</td></tr><tr><td>B00744</td><td>P0087</td><td>F0032</td><td>A026</td><td>1430.13</td><td>2025-06-14</td><td>2025-07-15T16:41:15.224Z</td><td>744</td><td>2025-07-16T08:13:05.597Z</td><td>2025-07-16T08:13:05.597Z</td></tr><tr><td>B00745</td><td>P0111</td><td>F0084</td><td>A022</td><td>1472.41</td><td>2025-06-20</td><td>2025-07-15T16:41:15.224Z</td><td>745</td><td>2025-07-16T08:13:05.597Z</td><td>2025-07-16T08:13:05.597Z</td></tr><tr><td>B00746</td><td>P0189</td><td>F0017</td><td>A031</td><td>716.69</td><td>2025-05-02</td><td>2025-07-15T16:41:15.224Z</td><td>746</td><td>2025-07-16T08:13:05.597Z</td><td>2025-07-16T08:13:05.597Z</td></tr><tr><td>B00747</td><td>P0052</td><td>F0062</td><td>A024</td><td>596.62</td><td>2025-05-05</td><td>2025-07-15T16:41:15.224Z</td><td>747</td><td>2025-07-16T08:13:05.597Z</td><td>2025-07-16T08:13:05.597Z</td></tr><tr><td>B00748</td><td>P0029</td><td>F0019</td><td>A007</td><td>945.84</td><td>2025-04-03</td><td>2025-07-15T16:41:15.224Z</td><td>748</td><td>2025-07-16T08:13:05.597Z</td><td>2025-07-16T08:13:05.597Z</td></tr><tr><td>B00749</td><td>P0052</td><td>F0097</td><td>A018</td><td>250.3</td><td>2025-04-23</td><td>2025-07-15T16:41:15.224Z</td><td>749</td><td>2025-07-16T08:13:05.597Z</td><td>2025-07-16T08:13:05.597Z</td></tr><tr><td>B00750</td><td>P0118</td><td>F0014</td><td>A034</td><td>847.03</td><td>2025-04-29</td><td>2025-07-15T16:41:15.224Z</td><td>750</td><td>2025-07-16T08:13:05.597Z</td><td>2025-07-16T08:13:05.597Z</td></tr><tr><td>B00751</td><td>P0099</td><td>F0023</td><td>A041</td><td>500.83</td><td>2025-04-08</td><td>2025-07-15T16:41:15.224Z</td><td>751</td><td>2025-07-16T08:13:05.597Z</td><td>2025-07-16T08:13:05.597Z</td></tr><tr><td>B00752</td><td>P0178</td><td>F0066</td><td>A032</td><td>1116.19</td><td>2025-05-04</td><td>2025-07-15T16:41:15.224Z</td><td>752</td><td>2025-07-16T08:13:05.597Z</td><td>2025-07-16T08:13:05.597Z</td></tr><tr><td>B00753</td><td>P0156</td><td>F0026</td><td>A042</td><td>674.82</td><td>2025-05-16</td><td>2025-07-15T16:41:15.224Z</td><td>753</td><td>2025-07-16T08:13:05.597Z</td><td>2025-07-16T08:13:05.597Z</td></tr><tr><td>B00754</td><td>P0003</td><td>F0064</td><td>A040</td><td>135.19</td><td>2025-06-18</td><td>2025-07-15T16:41:15.224Z</td><td>754</td><td>2025-07-16T08:13:05.597Z</td><td>2025-07-16T08:13:05.597Z</td></tr><tr><td>B00755</td><td>P0163</td><td>F0003</td><td>A022</td><td>119.03</td><td>2025-04-30</td><td>2025-07-15T16:41:15.224Z</td><td>755</td><td>2025-07-16T08:13:05.597Z</td><td>2025-07-16T08:13:05.597Z</td></tr><tr><td>B00756</td><td>P0116</td><td>F0072</td><td>A038</td><td>491.28</td><td>2025-05-25</td><td>2025-07-15T16:41:15.224Z</td><td>756</td><td>2025-07-16T08:13:05.597Z</td><td>2025-07-16T08:13:05.597Z</td></tr><tr><td>B00757</td><td>P0073</td><td>F0074</td><td>A011</td><td>1396.57</td><td>2025-04-23</td><td>2025-07-15T16:41:15.224Z</td><td>757</td><td>2025-07-16T08:13:05.597Z</td><td>2025-07-16T08:13:05.597Z</td></tr><tr><td>B00758</td><td>P0080</td><td>F0022</td><td>A014</td><td>1089.37</td><td>2025-04-15</td><td>2025-07-15T16:41:15.224Z</td><td>758</td><td>2025-07-16T08:13:05.597Z</td><td>2025-07-16T08:13:05.597Z</td></tr><tr><td>B00759</td><td>P0071</td><td>F0064</td><td>A023</td><td>971.04</td><td>2025-04-07</td><td>2025-07-15T16:41:15.224Z</td><td>759</td><td>2025-07-16T08:13:05.597Z</td><td>2025-07-16T08:13:05.597Z</td></tr><tr><td>B00760</td><td>P0120</td><td>F0026</td><td>A007</td><td>907.59</td><td>2025-05-13</td><td>2025-07-15T16:41:15.224Z</td><td>760</td><td>2025-07-16T08:13:05.597Z</td><td>2025-07-16T08:13:05.597Z</td></tr><tr><td>B00761</td><td>P0180</td><td>F0089</td><td>A047</td><td>554.09</td><td>2025-05-30</td><td>2025-07-15T16:41:15.224Z</td><td>761</td><td>2025-07-16T08:13:05.597Z</td><td>2025-07-16T08:13:05.597Z</td></tr><tr><td>B00762</td><td>P0198</td><td>F0097</td><td>A035</td><td>1064.53</td><td>2025-05-06</td><td>2025-07-15T16:41:15.224Z</td><td>762</td><td>2025-07-16T08:13:05.597Z</td><td>2025-07-16T08:13:05.597Z</td></tr><tr><td>B00763</td><td>P0137</td><td>F0014</td><td>A023</td><td>894.93</td><td>2025-05-05</td><td>2025-07-15T16:41:15.224Z</td><td>763</td><td>2025-07-16T08:13:05.597Z</td><td>2025-07-16T08:13:05.597Z</td></tr><tr><td>B00764</td><td>P0174</td><td>F0013</td><td>A031</td><td>1459.94</td><td>2025-04-07</td><td>2025-07-15T16:41:15.224Z</td><td>764</td><td>2025-07-16T08:13:05.597Z</td><td>2025-07-16T08:13:05.597Z</td></tr><tr><td>B00765</td><td>P0114</td><td>F0010</td><td>A036</td><td>280.29</td><td>2025-04-12</td><td>2025-07-15T16:41:15.224Z</td><td>765</td><td>2025-07-16T08:13:05.597Z</td><td>2025-07-16T08:13:05.597Z</td></tr><tr><td>B00766</td><td>P0080</td><td>F0089</td><td>A046</td><td>959.81</td><td>2025-06-21</td><td>2025-07-15T16:41:15.224Z</td><td>766</td><td>2025-07-16T08:13:05.597Z</td><td>2025-07-16T08:13:05.597Z</td></tr><tr><td>B00767</td><td>P0033</td><td>F0049</td><td>A029</td><td>738.09</td><td>2025-04-25</td><td>2025-07-15T16:41:15.224Z</td><td>767</td><td>2025-07-16T08:13:05.597Z</td><td>2025-07-16T08:13:05.597Z</td></tr><tr><td>B00768</td><td>P0098</td><td>F0018</td><td>A027</td><td>514.25</td><td>2025-04-16</td><td>2025-07-15T16:41:15.224Z</td><td>768</td><td>2025-07-16T08:13:05.597Z</td><td>2025-07-16T08:13:05.597Z</td></tr><tr><td>B00769</td><td>P0010</td><td>F0011</td><td>A008</td><td>190.61</td><td>2025-03-25</td><td>2025-07-15T16:41:15.224Z</td><td>769</td><td>2025-07-16T08:13:05.597Z</td><td>2025-07-16T08:13:05.597Z</td></tr><tr><td>B00770</td><td>P0178</td><td>F0058</td><td>A036</td><td>295.81</td><td>2025-04-20</td><td>2025-07-15T16:41:15.224Z</td><td>770</td><td>2025-07-16T08:13:05.597Z</td><td>2025-07-16T08:13:05.597Z</td></tr><tr><td>B00771</td><td>P0143</td><td>F0036</td><td>A047</td><td>1009.37</td><td>2025-05-15</td><td>2025-07-15T16:41:15.224Z</td><td>771</td><td>2025-07-16T08:13:05.597Z</td><td>2025-07-16T08:13:05.597Z</td></tr><tr><td>B00772</td><td>P0011</td><td>F0062</td><td>A002</td><td>618.77</td><td>2025-04-07</td><td>2025-07-15T16:41:15.224Z</td><td>772</td><td>2025-07-16T08:13:05.597Z</td><td>2025-07-16T08:13:05.597Z</td></tr><tr><td>B00773</td><td>P0016</td><td>F0084</td><td>A040</td><td>289.12</td><td>2025-03-31</td><td>2025-07-15T16:41:15.224Z</td><td>773</td><td>2025-07-16T08:13:05.597Z</td><td>2025-07-16T08:13:05.597Z</td></tr><tr><td>B00774</td><td>P0024</td><td>F0062</td><td>A016</td><td>919.16</td><td>2025-06-13</td><td>2025-07-15T16:41:15.224Z</td><td>774</td><td>2025-07-16T08:13:05.597Z</td><td>2025-07-16T08:13:05.597Z</td></tr><tr><td>B00775</td><td>P0133</td><td>F0063</td><td>A017</td><td>979.61</td><td>2025-05-27</td><td>2025-07-15T16:41:15.224Z</td><td>775</td><td>2025-07-16T08:13:05.597Z</td><td>2025-07-16T08:13:05.597Z</td></tr><tr><td>B00776</td><td>P0034</td><td>F0008</td><td>A032</td><td>1215.46</td><td>2025-06-19</td><td>2025-07-15T16:41:15.224Z</td><td>776</td><td>2025-07-16T08:13:05.597Z</td><td>2025-07-16T08:13:05.597Z</td></tr><tr><td>B00777</td><td>P0090</td><td>F0069</td><td>A010</td><td>128.53</td><td>2025-04-22</td><td>2025-07-15T16:41:15.224Z</td><td>777</td><td>2025-07-16T08:13:05.597Z</td><td>2025-07-16T08:13:05.597Z</td></tr><tr><td>B00778</td><td>P0083</td><td>F0087</td><td>A013</td><td>326.49</td><td>2025-04-20</td><td>2025-07-15T16:41:15.224Z</td><td>778</td><td>2025-07-16T08:13:05.597Z</td><td>2025-07-16T08:13:05.597Z</td></tr><tr><td>B00779</td><td>P0146</td><td>F0032</td><td>A016</td><td>314.47</td><td>2025-04-20</td><td>2025-07-15T16:41:15.224Z</td><td>779</td><td>2025-07-16T08:13:05.597Z</td><td>2025-07-16T08:13:05.597Z</td></tr><tr><td>B00780</td><td>P0137</td><td>F0012</td><td>A020</td><td>891.44</td><td>2025-04-11</td><td>2025-07-15T16:41:15.224Z</td><td>780</td><td>2025-07-16T08:13:05.597Z</td><td>2025-07-16T08:13:05.597Z</td></tr><tr><td>B00781</td><td>P0042</td><td>F0030</td><td>A024</td><td>935.39</td><td>2025-05-16</td><td>2025-07-15T16:41:15.224Z</td><td>781</td><td>2025-07-16T08:13:05.597Z</td><td>2025-07-16T08:13:05.597Z</td></tr><tr><td>B00782</td><td>P0121</td><td>F0059</td><td>A036</td><td>523.14</td><td>2025-04-24</td><td>2025-07-15T16:41:15.224Z</td><td>782</td><td>2025-07-16T08:13:05.597Z</td><td>2025-07-16T08:13:05.597Z</td></tr><tr><td>B00783</td><td>P0025</td><td>F0019</td><td>A035</td><td>1267.46</td><td>2025-04-03</td><td>2025-07-15T16:41:15.224Z</td><td>783</td><td>2025-07-16T08:13:05.597Z</td><td>2025-07-16T08:13:05.597Z</td></tr><tr><td>B00784</td><td>P0094</td><td>F0010</td><td>A002</td><td>1419.93</td><td>2025-06-18</td><td>2025-07-15T16:41:15.224Z</td><td>784</td><td>2025-07-16T08:13:05.597Z</td><td>2025-07-16T08:13:05.597Z</td></tr><tr><td>B00785</td><td>P0129</td><td>F0052</td><td>A002</td><td>305.12</td><td>2025-05-01</td><td>2025-07-15T16:41:15.224Z</td><td>785</td><td>2025-07-16T08:13:05.597Z</td><td>2025-07-16T08:13:05.597Z</td></tr><tr><td>B00786</td><td>P0010</td><td>F0018</td><td>A001</td><td>1113.88</td><td>2025-06-03</td><td>2025-07-15T16:41:15.224Z</td><td>786</td><td>2025-07-16T08:13:05.597Z</td><td>2025-07-16T08:13:05.597Z</td></tr><tr><td>B00787</td><td>P0182</td><td>F0001</td><td>A036</td><td>835.3</td><td>2025-06-04</td><td>2025-07-15T16:41:15.224Z</td><td>787</td><td>2025-07-16T08:13:05.597Z</td><td>2025-07-16T08:13:05.597Z</td></tr><tr><td>B00788</td><td>P0100</td><td>F0014</td><td>A008</td><td>1180.16</td><td>2025-05-31</td><td>2025-07-15T16:41:15.224Z</td><td>788</td><td>2025-07-16T08:13:05.597Z</td><td>2025-07-16T08:13:05.597Z</td></tr><tr><td>B00789</td><td>P0155</td><td>F0028</td><td>A041</td><td>929.7</td><td>2025-04-12</td><td>2025-07-15T16:41:15.224Z</td><td>789</td><td>2025-07-16T08:13:05.597Z</td><td>2025-07-16T08:13:05.597Z</td></tr><tr><td>B00790</td><td>P0079</td><td>F0049</td><td>A013</td><td>363.69</td><td>2025-06-18</td><td>2025-07-15T16:41:15.224Z</td><td>790</td><td>2025-07-16T08:13:05.597Z</td><td>2025-07-16T08:13:05.597Z</td></tr><tr><td>B00791</td><td>P0080</td><td>F0035</td><td>A003</td><td>1469.64</td><td>2025-04-07</td><td>2025-07-15T16:41:15.224Z</td><td>791</td><td>2025-07-16T08:13:05.597Z</td><td>2025-07-16T08:13:05.597Z</td></tr><tr><td>B00792</td><td>P0158</td><td>F0079</td><td>A047</td><td>1195.28</td><td>2025-06-07</td><td>2025-07-15T16:41:15.224Z</td><td>792</td><td>2025-07-16T08:13:05.597Z</td><td>2025-07-16T08:13:05.597Z</td></tr><tr><td>B00793</td><td>P0047</td><td>F0079</td><td>A043</td><td>643.93</td><td>2025-06-05</td><td>2025-07-15T16:41:15.224Z</td><td>793</td><td>2025-07-16T08:13:05.597Z</td><td>2025-07-16T08:13:05.597Z</td></tr><tr><td>B00794</td><td>P0128</td><td>F0023</td><td>A011</td><td>127.14</td><td>2025-05-26</td><td>2025-07-15T16:41:15.224Z</td><td>794</td><td>2025-07-16T08:13:05.597Z</td><td>2025-07-16T08:13:05.597Z</td></tr><tr><td>B00795</td><td>P0025</td><td>F0065</td><td>A037</td><td>961.22</td><td>2025-05-10</td><td>2025-07-15T16:41:15.224Z</td><td>795</td><td>2025-07-16T08:13:05.597Z</td><td>2025-07-16T08:13:05.597Z</td></tr><tr><td>B00796</td><td>P0124</td><td>F0022</td><td>A018</td><td>1263.19</td><td>2025-04-22</td><td>2025-07-15T16:41:15.224Z</td><td>796</td><td>2025-07-16T08:13:05.597Z</td><td>2025-07-16T08:13:05.597Z</td></tr><tr><td>B00797</td><td>P0061</td><td>F0096</td><td>A010</td><td>764.25</td><td>2025-04-02</td><td>2025-07-15T16:41:15.224Z</td><td>797</td><td>2025-07-16T08:13:05.597Z</td><td>2025-07-16T08:13:05.597Z</td></tr><tr><td>B00798</td><td>P0042</td><td>F0089</td><td>A013</td><td>898.56</td><td>2025-04-16</td><td>2025-07-15T16:41:15.224Z</td><td>798</td><td>2025-07-16T08:13:05.597Z</td><td>2025-07-16T08:13:05.597Z</td></tr><tr><td>B00799</td><td>P0082</td><td>F0004</td><td>A024</td><td>1173.82</td><td>2025-04-07</td><td>2025-07-15T16:41:15.224Z</td><td>799</td><td>2025-07-16T08:13:05.597Z</td><td>2025-07-16T08:13:05.597Z</td></tr><tr><td>B00800</td><td>P0039</td><td>F0096</td><td>A044</td><td>1179.94</td><td>2025-05-21</td><td>2025-07-15T16:41:15.224Z</td><td>800</td><td>2025-07-16T08:13:05.597Z</td><td>2025-07-16T08:13:05.597Z</td></tr><tr><td>B00801</td><td>P0055</td><td>F0071</td><td>A025</td><td>1407.95</td><td>2025-06-10</td><td>2025-07-15T16:41:15.224Z</td><td>801</td><td>2025-07-16T08:13:05.597Z</td><td>2025-07-16T08:13:05.597Z</td></tr><tr><td>B00802</td><td>P0150</td><td>F0045</td><td>A037</td><td>323.83</td><td>2025-05-28</td><td>2025-07-15T16:41:15.224Z</td><td>802</td><td>2025-07-16T08:13:05.597Z</td><td>2025-07-16T08:13:05.597Z</td></tr><tr><td>B00803</td><td>P0083</td><td>F0100</td><td>A017</td><td>790.44</td><td>2025-05-04</td><td>2025-07-15T16:41:15.224Z</td><td>803</td><td>2025-07-16T08:13:05.597Z</td><td>2025-07-16T08:13:05.597Z</td></tr><tr><td>B00804</td><td>P0078</td><td>F0018</td><td>A041</td><td>1173.59</td><td>2025-04-09</td><td>2025-07-15T16:41:15.224Z</td><td>804</td><td>2025-07-16T08:13:05.597Z</td><td>2025-07-16T08:13:05.597Z</td></tr><tr><td>B00805</td><td>P0016</td><td>F0084</td><td>A013</td><td>1103.43</td><td>2025-05-26</td><td>2025-07-15T16:41:15.224Z</td><td>805</td><td>2025-07-16T08:13:05.597Z</td><td>2025-07-16T08:13:05.597Z</td></tr><tr><td>B00806</td><td>P0127</td><td>F0081</td><td>A008</td><td>393.85</td><td>2025-06-10</td><td>2025-07-15T16:41:15.224Z</td><td>806</td><td>2025-07-16T08:13:05.597Z</td><td>2025-07-16T08:13:05.597Z</td></tr><tr><td>B00807</td><td>P0080</td><td>F0008</td><td>A020</td><td>1483.45</td><td>2025-04-22</td><td>2025-07-15T16:41:15.224Z</td><td>807</td><td>2025-07-16T08:13:05.597Z</td><td>2025-07-16T08:13:05.597Z</td></tr><tr><td>B00808</td><td>P0028</td><td>F0062</td><td>A013</td><td>733.19</td><td>2025-06-17</td><td>2025-07-15T16:41:15.224Z</td><td>808</td><td>2025-07-16T08:13:05.597Z</td><td>2025-07-16T08:13:05.597Z</td></tr><tr><td>B00809</td><td>P0035</td><td>F0053</td><td>A050</td><td>1182.42</td><td>2025-03-25</td><td>2025-07-15T16:41:15.224Z</td><td>809</td><td>2025-07-16T08:13:05.597Z</td><td>2025-07-16T08:13:05.597Z</td></tr><tr><td>B00810</td><td>P0026</td><td>F0086</td><td>A001</td><td>1040.28</td><td>2025-03-25</td><td>2025-07-15T16:41:15.224Z</td><td>810</td><td>2025-07-16T08:13:05.597Z</td><td>2025-07-16T08:13:05.597Z</td></tr><tr><td>B00811</td><td>P0190</td><td>F0100</td><td>A005</td><td>908.23</td><td>2025-04-15</td><td>2025-07-15T16:41:15.224Z</td><td>811</td><td>2025-07-16T08:13:05.597Z</td><td>2025-07-16T08:13:05.597Z</td></tr><tr><td>B00812</td><td>P0033</td><td>F0010</td><td>A025</td><td>606.23</td><td>2025-05-27</td><td>2025-07-15T16:41:15.224Z</td><td>812</td><td>2025-07-16T08:13:05.597Z</td><td>2025-07-16T08:13:05.597Z</td></tr><tr><td>B00813</td><td>P0083</td><td>F0021</td><td>A024</td><td>1146.51</td><td>2025-03-26</td><td>2025-07-15T16:41:15.224Z</td><td>813</td><td>2025-07-16T08:13:05.597Z</td><td>2025-07-16T08:13:05.597Z</td></tr><tr><td>B00814</td><td>P0124</td><td>F0017</td><td>A042</td><td>784.55</td><td>2025-05-26</td><td>2025-07-15T16:41:15.224Z</td><td>814</td><td>2025-07-16T08:13:05.597Z</td><td>2025-07-16T08:13:05.597Z</td></tr><tr><td>B00815</td><td>P0199</td><td>F0067</td><td>A041</td><td>875.77</td><td>2025-05-27</td><td>2025-07-15T16:41:15.224Z</td><td>815</td><td>2025-07-16T08:13:05.597Z</td><td>2025-07-16T08:13:05.597Z</td></tr><tr><td>B00816</td><td>P0155</td><td>F0075</td><td>A039</td><td>1419.67</td><td>2025-03-29</td><td>2025-07-15T16:41:15.224Z</td><td>816</td><td>2025-07-16T08:13:05.597Z</td><td>2025-07-16T08:13:05.597Z</td></tr><tr><td>B00817</td><td>P0146</td><td>F0042</td><td>A034</td><td>1149.22</td><td>2025-04-02</td><td>2025-07-15T16:41:15.224Z</td><td>817</td><td>2025-07-16T08:13:05.597Z</td><td>2025-07-16T08:13:05.597Z</td></tr><tr><td>B00818</td><td>P0098</td><td>F0035</td><td>A047</td><td>1306.73</td><td>2025-05-23</td><td>2025-07-15T16:41:15.224Z</td><td>818</td><td>2025-07-16T08:13:05.597Z</td><td>2025-07-16T08:13:05.597Z</td></tr><tr><td>B00819</td><td>P0040</td><td>F0087</td><td>A009</td><td>639.57</td><td>2025-04-03</td><td>2025-07-15T16:41:15.224Z</td><td>819</td><td>2025-07-16T08:13:05.597Z</td><td>2025-07-16T08:13:05.597Z</td></tr><tr><td>B00820</td><td>P0077</td><td>F0096</td><td>A034</td><td>1491.77</td><td>2025-04-10</td><td>2025-07-15T16:41:15.224Z</td><td>820</td><td>2025-07-16T08:13:05.597Z</td><td>2025-07-16T08:13:05.597Z</td></tr><tr><td>B00821</td><td>P0069</td><td>F0023</td><td>A046</td><td>847.51</td><td>2025-05-10</td><td>2025-07-15T16:41:15.224Z</td><td>821</td><td>2025-07-16T08:13:05.597Z</td><td>2025-07-16T08:13:05.597Z</td></tr><tr><td>B00822</td><td>P0146</td><td>F0019</td><td>A001</td><td>865.32</td><td>2025-04-08</td><td>2025-07-15T16:41:15.224Z</td><td>822</td><td>2025-07-16T08:13:05.597Z</td><td>2025-07-16T08:13:05.597Z</td></tr><tr><td>B00823</td><td>P0120</td><td>F0099</td><td>A003</td><td>657.1</td><td>2025-04-16</td><td>2025-07-15T16:41:15.224Z</td><td>823</td><td>2025-07-16T08:13:05.597Z</td><td>2025-07-16T08:13:05.597Z</td></tr><tr><td>B00824</td><td>P0057</td><td>F0051</td><td>A017</td><td>878.32</td><td>2025-06-07</td><td>2025-07-15T16:41:15.224Z</td><td>824</td><td>2025-07-16T08:13:05.597Z</td><td>2025-07-16T08:13:05.597Z</td></tr><tr><td>B00825</td><td>P0102</td><td>F0021</td><td>A009</td><td>1046.49</td><td>2025-03-24</td><td>2025-07-15T16:41:15.224Z</td><td>825</td><td>2025-07-16T08:13:05.597Z</td><td>2025-07-16T08:13:05.597Z</td></tr><tr><td>B00826</td><td>P0144</td><td>F0092</td><td>A039</td><td>1092.16</td><td>2025-05-13</td><td>2025-07-15T16:41:15.224Z</td><td>826</td><td>2025-07-16T08:13:05.597Z</td><td>2025-07-16T08:13:05.597Z</td></tr><tr><td>B00827</td><td>P0099</td><td>F0017</td><td>A030</td><td>1104.98</td><td>2025-04-22</td><td>2025-07-15T16:41:15.224Z</td><td>827</td><td>2025-07-16T08:13:05.597Z</td><td>2025-07-16T08:13:05.597Z</td></tr><tr><td>B00828</td><td>P0062</td><td>F0001</td><td>A013</td><td>1285.37</td><td>2025-05-16</td><td>2025-07-15T16:41:15.224Z</td><td>828</td><td>2025-07-16T08:13:05.597Z</td><td>2025-07-16T08:13:05.597Z</td></tr><tr><td>B00829</td><td>P0102</td><td>F0073</td><td>A022</td><td>242.96</td><td>2025-03-27</td><td>2025-07-15T16:41:15.224Z</td><td>829</td><td>2025-07-16T08:13:05.597Z</td><td>2025-07-16T08:13:05.597Z</td></tr><tr><td>B00830</td><td>P0090</td><td>F0067</td><td>A001</td><td>712.39</td><td>2025-05-03</td><td>2025-07-15T16:41:15.224Z</td><td>830</td><td>2025-07-16T08:13:05.597Z</td><td>2025-07-16T08:13:05.597Z</td></tr><tr><td>B00831</td><td>P0060</td><td>F0091</td><td>A006</td><td>1119.19</td><td>2025-06-08</td><td>2025-07-15T16:41:15.224Z</td><td>831</td><td>2025-07-16T08:13:05.597Z</td><td>2025-07-16T08:13:05.597Z</td></tr><tr><td>B00832</td><td>P0106</td><td>F0097</td><td>A011</td><td>157.23</td><td>2025-04-09</td><td>2025-07-15T16:41:15.224Z</td><td>832</td><td>2025-07-16T08:13:05.597Z</td><td>2025-07-16T08:13:05.597Z</td></tr><tr><td>B00833</td><td>P0108</td><td>F0100</td><td>A023</td><td>1023.31</td><td>2025-05-24</td><td>2025-07-15T16:41:15.224Z</td><td>833</td><td>2025-07-16T08:13:05.597Z</td><td>2025-07-16T08:13:05.597Z</td></tr><tr><td>B00834</td><td>P0160</td><td>F0033</td><td>A032</td><td>1381.94</td><td>2025-06-21</td><td>2025-07-15T16:41:15.224Z</td><td>834</td><td>2025-07-16T08:13:05.597Z</td><td>2025-07-16T08:13:05.597Z</td></tr><tr><td>B00835</td><td>P0087</td><td>F0085</td><td>A008</td><td>158.02</td><td>2025-04-20</td><td>2025-07-15T16:41:15.224Z</td><td>835</td><td>2025-07-16T08:13:05.597Z</td><td>2025-07-16T08:13:05.597Z</td></tr><tr><td>B00836</td><td>P0078</td><td>F0090</td><td>A022</td><td>589.57</td><td>2025-04-22</td><td>2025-07-15T16:41:15.224Z</td><td>836</td><td>2025-07-16T08:13:05.597Z</td><td>2025-07-16T08:13:05.597Z</td></tr><tr><td>B00837</td><td>P0167</td><td>F0007</td><td>A028</td><td>1258.9</td><td>2025-05-09</td><td>2025-07-15T16:41:15.224Z</td><td>837</td><td>2025-07-16T08:13:05.597Z</td><td>2025-07-16T08:13:05.597Z</td></tr><tr><td>B00838</td><td>P0190</td><td>F0039</td><td>A016</td><td>1157.35</td><td>2025-04-23</td><td>2025-07-15T16:41:15.224Z</td><td>838</td><td>2025-07-16T08:13:05.597Z</td><td>2025-07-16T08:13:05.597Z</td></tr><tr><td>B00839</td><td>P0101</td><td>F0099</td><td>A017</td><td>1033.88</td><td>2025-05-15</td><td>2025-07-15T16:41:15.224Z</td><td>839</td><td>2025-07-16T08:13:05.597Z</td><td>2025-07-16T08:13:05.597Z</td></tr><tr><td>B00840</td><td>P0004</td><td>F0056</td><td>A039</td><td>411.88</td><td>2025-05-20</td><td>2025-07-15T16:41:15.224Z</td><td>840</td><td>2025-07-16T08:13:05.597Z</td><td>2025-07-16T08:13:05.597Z</td></tr><tr><td>B00841</td><td>P0085</td><td>F0035</td><td>A026</td><td>958.8</td><td>2025-05-12</td><td>2025-07-15T16:41:15.224Z</td><td>841</td><td>2025-07-16T08:13:05.597Z</td><td>2025-07-16T08:13:05.597Z</td></tr><tr><td>B00842</td><td>P0134</td><td>F0080</td><td>A050</td><td>1042.27</td><td>2025-06-20</td><td>2025-07-15T16:41:15.224Z</td><td>842</td><td>2025-07-16T08:13:05.597Z</td><td>2025-07-16T08:13:05.597Z</td></tr><tr><td>B00843</td><td>P0097</td><td>F0015</td><td>A045</td><td>434.42</td><td>2025-04-21</td><td>2025-07-15T16:41:15.224Z</td><td>843</td><td>2025-07-16T08:13:05.597Z</td><td>2025-07-16T08:13:05.597Z</td></tr><tr><td>B00844</td><td>P0159</td><td>F0085</td><td>A027</td><td>431.52</td><td>2025-05-28</td><td>2025-07-15T16:41:15.224Z</td><td>844</td><td>2025-07-16T08:13:05.597Z</td><td>2025-07-16T08:13:05.597Z</td></tr><tr><td>B00845</td><td>P0171</td><td>F0076</td><td>A031</td><td>1211.08</td><td>2025-04-08</td><td>2025-07-15T16:41:15.224Z</td><td>845</td><td>2025-07-16T08:13:05.597Z</td><td>2025-07-16T08:13:05.597Z</td></tr><tr><td>B00846</td><td>P0182</td><td>F0087</td><td>A043</td><td>549.66</td><td>2025-04-24</td><td>2025-07-15T16:41:15.224Z</td><td>846</td><td>2025-07-16T08:13:05.597Z</td><td>2025-07-16T08:13:05.597Z</td></tr><tr><td>B00847</td><td>P0042</td><td>F0100</td><td>A042</td><td>230.23</td><td>2025-04-10</td><td>2025-07-15T16:41:15.224Z</td><td>847</td><td>2025-07-16T08:13:05.597Z</td><td>2025-07-16T08:13:05.597Z</td></tr><tr><td>B00848</td><td>P0103</td><td>F0036</td><td>A032</td><td>320.85</td><td>2025-04-08</td><td>2025-07-15T16:41:15.224Z</td><td>848</td><td>2025-07-16T08:13:05.597Z</td><td>2025-07-16T08:13:05.597Z</td></tr><tr><td>B00849</td><td>P0095</td><td>F0063</td><td>A050</td><td>888.01</td><td>2025-05-31</td><td>2025-07-15T16:41:15.224Z</td><td>849</td><td>2025-07-16T08:13:05.597Z</td><td>2025-07-16T08:13:05.597Z</td></tr><tr><td>B00850</td><td>P0199</td><td>F0042</td><td>A020</td><td>471.26</td><td>2025-06-10</td><td>2025-07-15T16:41:15.224Z</td><td>850</td><td>2025-07-16T08:13:05.597Z</td><td>2025-07-16T08:13:05.597Z</td></tr><tr><td>B00851</td><td>P0114</td><td>F0034</td><td>A007</td><td>225.28</td><td>2025-04-23</td><td>2025-07-15T16:41:15.224Z</td><td>851</td><td>2025-07-16T08:13:05.597Z</td><td>2025-07-16T08:13:05.597Z</td></tr><tr><td>B00852</td><td>P0075</td><td>F0100</td><td>A026</td><td>1038.01</td><td>2025-06-10</td><td>2025-07-15T16:41:15.224Z</td><td>852</td><td>2025-07-16T08:13:05.597Z</td><td>2025-07-16T08:13:05.597Z</td></tr><tr><td>B00853</td><td>P0085</td><td>F0100</td><td>A022</td><td>849.77</td><td>2025-03-27</td><td>2025-07-15T16:41:15.224Z</td><td>853</td><td>2025-07-16T08:13:05.597Z</td><td>2025-07-16T08:13:05.597Z</td></tr><tr><td>B00854</td><td>P0057</td><td>F0070</td><td>A048</td><td>255.16</td><td>2025-06-02</td><td>2025-07-15T16:41:15.224Z</td><td>854</td><td>2025-07-16T08:13:05.597Z</td><td>2025-07-16T08:13:05.597Z</td></tr><tr><td>B00855</td><td>P0139</td><td>F0056</td><td>A008</td><td>930.9</td><td>2025-04-05</td><td>2025-07-15T16:41:15.224Z</td><td>855</td><td>2025-07-16T08:13:05.597Z</td><td>2025-07-16T08:13:05.597Z</td></tr><tr><td>B00856</td><td>P0046</td><td>F0011</td><td>A016</td><td>313.29</td><td>2025-04-24</td><td>2025-07-15T16:41:15.224Z</td><td>856</td><td>2025-07-16T08:13:05.597Z</td><td>2025-07-16T08:13:05.597Z</td></tr><tr><td>B00857</td><td>P0100</td><td>F0033</td><td>A018</td><td>767.16</td><td>2025-05-14</td><td>2025-07-15T16:41:15.224Z</td><td>857</td><td>2025-07-16T08:13:05.597Z</td><td>2025-07-16T08:13:05.597Z</td></tr><tr><td>B00858</td><td>P0100</td><td>F0045</td><td>A018</td><td>953.0</td><td>2025-04-12</td><td>2025-07-15T16:41:15.224Z</td><td>858</td><td>2025-07-16T08:13:05.597Z</td><td>2025-07-16T08:13:05.597Z</td></tr><tr><td>B00859</td><td>P0006</td><td>F0033</td><td>A036</td><td>1395.17</td><td>2025-04-14</td><td>2025-07-15T16:41:15.224Z</td><td>859</td><td>2025-07-16T08:13:05.597Z</td><td>2025-07-16T08:13:05.597Z</td></tr><tr><td>B00860</td><td>P0092</td><td>F0037</td><td>A025</td><td>129.46</td><td>2025-04-17</td><td>2025-07-15T16:41:15.224Z</td><td>860</td><td>2025-07-16T08:13:05.597Z</td><td>2025-07-16T08:13:05.597Z</td></tr><tr><td>B00861</td><td>P0029</td><td>F0063</td><td>A004</td><td>654.78</td><td>2025-06-06</td><td>2025-07-15T16:41:15.224Z</td><td>861</td><td>2025-07-16T08:13:05.597Z</td><td>2025-07-16T08:13:05.597Z</td></tr><tr><td>B00862</td><td>P0098</td><td>F0088</td><td>A020</td><td>1426.36</td><td>2025-03-29</td><td>2025-07-15T16:41:15.224Z</td><td>862</td><td>2025-07-16T08:13:05.597Z</td><td>2025-07-16T08:13:05.597Z</td></tr><tr><td>B00863</td><td>P0062</td><td>F0050</td><td>A017</td><td>969.1</td><td>2025-05-06</td><td>2025-07-15T16:41:15.224Z</td><td>863</td><td>2025-07-16T08:13:05.597Z</td><td>2025-07-16T08:13:05.597Z</td></tr><tr><td>B00864</td><td>P0174</td><td>F0063</td><td>A014</td><td>118.5</td><td>2025-05-11</td><td>2025-07-15T16:41:15.224Z</td><td>864</td><td>2025-07-16T08:13:05.597Z</td><td>2025-07-16T08:13:05.597Z</td></tr><tr><td>B00865</td><td>P0187</td><td>F0095</td><td>A014</td><td>1013.31</td><td>2025-05-04</td><td>2025-07-15T16:41:15.224Z</td><td>865</td><td>2025-07-16T08:13:05.597Z</td><td>2025-07-16T08:13:05.597Z</td></tr><tr><td>B00866</td><td>P0150</td><td>F0087</td><td>A008</td><td>1292.15</td><td>2025-06-20</td><td>2025-07-15T16:41:15.224Z</td><td>866</td><td>2025-07-16T08:13:05.597Z</td><td>2025-07-16T08:13:05.597Z</td></tr><tr><td>B00867</td><td>P0093</td><td>F0016</td><td>A020</td><td>903.04</td><td>2025-04-22</td><td>2025-07-15T16:41:15.224Z</td><td>867</td><td>2025-07-16T08:13:05.597Z</td><td>2025-07-16T08:13:05.597Z</td></tr><tr><td>B00868</td><td>P0017</td><td>F0098</td><td>A026</td><td>390.31</td><td>2025-06-05</td><td>2025-07-15T16:41:15.224Z</td><td>868</td><td>2025-07-16T08:13:05.597Z</td><td>2025-07-16T08:13:05.597Z</td></tr><tr><td>B00869</td><td>P0099</td><td>F0091</td><td>A047</td><td>933.97</td><td>2025-06-05</td><td>2025-07-15T16:41:15.224Z</td><td>869</td><td>2025-07-16T08:13:05.597Z</td><td>2025-07-16T08:13:05.597Z</td></tr><tr><td>B00870</td><td>P0030</td><td>F0042</td><td>A044</td><td>985.91</td><td>2025-03-25</td><td>2025-07-15T16:41:15.224Z</td><td>870</td><td>2025-07-16T08:13:05.597Z</td><td>2025-07-16T08:13:05.597Z</td></tr><tr><td>B00871</td><td>P0131</td><td>F0033</td><td>A035</td><td>1260.79</td><td>2025-05-11</td><td>2025-07-15T16:41:15.224Z</td><td>871</td><td>2025-07-16T08:13:05.597Z</td><td>2025-07-16T08:13:05.597Z</td></tr><tr><td>B00872</td><td>P0127</td><td>F0052</td><td>A034</td><td>762.53</td><td>2025-04-16</td><td>2025-07-15T16:41:15.224Z</td><td>872</td><td>2025-07-16T08:13:05.597Z</td><td>2025-07-16T08:13:05.597Z</td></tr><tr><td>B00873</td><td>P0087</td><td>F0081</td><td>A048</td><td>894.74</td><td>2025-05-08</td><td>2025-07-15T16:41:15.224Z</td><td>873</td><td>2025-07-16T08:13:05.597Z</td><td>2025-07-16T08:13:05.597Z</td></tr><tr><td>B00874</td><td>P0127</td><td>F0013</td><td>A003</td><td>336.84</td><td>2025-06-15</td><td>2025-07-15T16:41:15.224Z</td><td>874</td><td>2025-07-16T08:13:05.597Z</td><td>2025-07-16T08:13:05.597Z</td></tr><tr><td>B00875</td><td>P0026</td><td>F0051</td><td>A048</td><td>1148.21</td><td>2025-05-28</td><td>2025-07-15T16:41:15.224Z</td><td>875</td><td>2025-07-16T08:13:05.597Z</td><td>2025-07-16T08:13:05.597Z</td></tr><tr><td>B00876</td><td>P0089</td><td>F0086</td><td>A028</td><td>1080.34</td><td>2025-06-10</td><td>2025-07-15T16:41:15.224Z</td><td>876</td><td>2025-07-16T08:13:05.597Z</td><td>2025-07-16T08:13:05.597Z</td></tr><tr><td>B00877</td><td>P0179</td><td>F0093</td><td>A044</td><td>1090.75</td><td>2025-03-29</td><td>2025-07-15T16:41:15.224Z</td><td>877</td><td>2025-07-16T08:13:05.597Z</td><td>2025-07-16T08:13:05.597Z</td></tr><tr><td>B00878</td><td>P0012</td><td>F0009</td><td>A032</td><td>668.1</td><td>2025-04-19</td><td>2025-07-15T16:41:15.224Z</td><td>878</td><td>2025-07-16T08:13:05.597Z</td><td>2025-07-16T08:13:05.597Z</td></tr><tr><td>B00879</td><td>P0147</td><td>F0045</td><td>A008</td><td>638.16</td><td>2025-04-23</td><td>2025-07-15T16:41:15.224Z</td><td>879</td><td>2025-07-16T08:13:05.597Z</td><td>2025-07-16T08:13:05.597Z</td></tr><tr><td>B00880</td><td>P0134</td><td>F0086</td><td>A028</td><td>718.5</td><td>2025-06-01</td><td>2025-07-15T16:41:15.224Z</td><td>880</td><td>2025-07-16T08:13:05.597Z</td><td>2025-07-16T08:13:05.597Z</td></tr><tr><td>B00881</td><td>P0102</td><td>F0061</td><td>A010</td><td>1226.8</td><td>2025-05-17</td><td>2025-07-15T16:41:15.224Z</td><td>881</td><td>2025-07-16T08:13:05.597Z</td><td>2025-07-16T08:13:05.597Z</td></tr><tr><td>B00882</td><td>P0007</td><td>F0085</td><td>A043</td><td>433.24</td><td>2025-06-08</td><td>2025-07-15T16:41:15.224Z</td><td>882</td><td>2025-07-16T08:13:05.597Z</td><td>2025-07-16T08:13:05.597Z</td></tr><tr><td>B00883</td><td>P0092</td><td>F0055</td><td>A032</td><td>146.54</td><td>2025-06-05</td><td>2025-07-15T16:41:15.224Z</td><td>883</td><td>2025-07-16T08:13:05.597Z</td><td>2025-07-16T08:13:05.597Z</td></tr><tr><td>B00884</td><td>P0072</td><td>F0007</td><td>A045</td><td>1323.97</td><td>2025-05-10</td><td>2025-07-15T16:41:15.224Z</td><td>884</td><td>2025-07-16T08:13:05.597Z</td><td>2025-07-16T08:13:05.597Z</td></tr><tr><td>B00885</td><td>P0116</td><td>F0038</td><td>A024</td><td>210.04</td><td>2025-04-25</td><td>2025-07-15T16:41:15.224Z</td><td>885</td><td>2025-07-16T08:13:05.597Z</td><td>2025-07-16T08:13:05.597Z</td></tr><tr><td>B00886</td><td>P0185</td><td>F0006</td><td>A026</td><td>427.19</td><td>2025-05-06</td><td>2025-07-15T16:41:15.224Z</td><td>886</td><td>2025-07-16T08:13:05.597Z</td><td>2025-07-16T08:13:05.597Z</td></tr><tr><td>B00887</td><td>P0138</td><td>F0095</td><td>A030</td><td>230.32</td><td>2025-06-08</td><td>2025-07-15T16:41:15.224Z</td><td>887</td><td>2025-07-16T08:13:05.597Z</td><td>2025-07-16T08:13:05.597Z</td></tr><tr><td>B00888</td><td>P0013</td><td>F0037</td><td>A002</td><td>355.18</td><td>2025-05-16</td><td>2025-07-15T16:41:15.224Z</td><td>888</td><td>2025-07-16T08:13:05.597Z</td><td>2025-07-16T08:13:05.597Z</td></tr><tr><td>B00889</td><td>P0067</td><td>F0025</td><td>A024</td><td>1045.6</td><td>2025-06-13</td><td>2025-07-15T16:41:15.224Z</td><td>889</td><td>2025-07-16T08:13:05.597Z</td><td>2025-07-16T08:13:05.597Z</td></tr><tr><td>B00890</td><td>P0168</td><td>F0006</td><td>A016</td><td>1280.27</td><td>2025-05-10</td><td>2025-07-15T16:41:15.224Z</td><td>890</td><td>2025-07-16T08:13:05.597Z</td><td>2025-07-16T08:13:05.597Z</td></tr><tr><td>B00891</td><td>P0015</td><td>F0092</td><td>A032</td><td>141.99</td><td>2025-03-29</td><td>2025-07-15T16:41:15.224Z</td><td>891</td><td>2025-07-16T08:13:05.597Z</td><td>2025-07-16T08:13:05.597Z</td></tr><tr><td>B00892</td><td>P0180</td><td>F0023</td><td>A013</td><td>122.99</td><td>2025-06-13</td><td>2025-07-15T16:41:15.224Z</td><td>892</td><td>2025-07-16T08:13:05.597Z</td><td>2025-07-16T08:13:05.597Z</td></tr><tr><td>B00893</td><td>P0048</td><td>F0100</td><td>A050</td><td>1139.83</td><td>2025-05-18</td><td>2025-07-15T16:41:15.224Z</td><td>893</td><td>2025-07-16T08:13:05.597Z</td><td>2025-07-16T08:13:05.597Z</td></tr><tr><td>B00894</td><td>P0026</td><td>F0062</td><td>A010</td><td>817.2</td><td>2025-04-04</td><td>2025-07-15T16:41:15.224Z</td><td>894</td><td>2025-07-16T08:13:05.597Z</td><td>2025-07-16T08:13:05.597Z</td></tr><tr><td>B00895</td><td>P0037</td><td>F0018</td><td>A005</td><td>470.0</td><td>2025-04-05</td><td>2025-07-15T16:41:15.224Z</td><td>895</td><td>2025-07-16T08:13:05.597Z</td><td>2025-07-16T08:13:05.597Z</td></tr><tr><td>B00896</td><td>P0012</td><td>F0067</td><td>A001</td><td>549.35</td><td>2025-03-31</td><td>2025-07-15T16:41:15.224Z</td><td>896</td><td>2025-07-16T08:13:05.597Z</td><td>2025-07-16T08:13:05.597Z</td></tr><tr><td>B00897</td><td>P0056</td><td>F0078</td><td>A037</td><td>554.49</td><td>2025-05-02</td><td>2025-07-15T16:41:15.224Z</td><td>897</td><td>2025-07-16T08:13:05.597Z</td><td>2025-07-16T08:13:05.597Z</td></tr><tr><td>B00898</td><td>P0025</td><td>F0065</td><td>A009</td><td>589.69</td><td>2025-06-15</td><td>2025-07-15T16:41:15.224Z</td><td>898</td><td>2025-07-16T08:13:05.597Z</td><td>2025-07-16T08:13:05.597Z</td></tr><tr><td>B00899</td><td>P0075</td><td>F0050</td><td>A012</td><td>370.17</td><td>2025-04-24</td><td>2025-07-15T16:41:15.224Z</td><td>899</td><td>2025-07-16T08:13:05.597Z</td><td>2025-07-16T08:13:05.597Z</td></tr><tr><td>B00900</td><td>P0070</td><td>F0032</td><td>A043</td><td>1033.58</td><td>2025-05-09</td><td>2025-07-15T16:41:15.224Z</td><td>900</td><td>2025-07-16T08:13:05.597Z</td><td>2025-07-16T08:13:05.597Z</td></tr><tr><td>B00901</td><td>P0131</td><td>F0022</td><td>A032</td><td>1419.87</td><td>2025-05-10</td><td>2025-07-15T16:41:15.224Z</td><td>901</td><td>2025-07-16T08:13:05.597Z</td><td>2025-07-16T08:13:05.597Z</td></tr><tr><td>B00902</td><td>P0182</td><td>F0092</td><td>A023</td><td>895.76</td><td>2025-06-03</td><td>2025-07-15T16:41:15.224Z</td><td>902</td><td>2025-07-16T08:13:05.597Z</td><td>2025-07-16T08:13:05.597Z</td></tr><tr><td>B00903</td><td>P0080</td><td>F0056</td><td>A017</td><td>429.58</td><td>2025-05-06</td><td>2025-07-15T16:41:15.224Z</td><td>903</td><td>2025-07-16T08:13:05.597Z</td><td>2025-07-16T08:13:05.597Z</td></tr><tr><td>B00904</td><td>P0185</td><td>F0087</td><td>A021</td><td>777.75</td><td>2025-05-19</td><td>2025-07-15T16:41:15.224Z</td><td>904</td><td>2025-07-16T08:13:05.597Z</td><td>2025-07-16T08:13:05.597Z</td></tr><tr><td>B00905</td><td>P0179</td><td>F0050</td><td>A001</td><td>638.63</td><td>2025-05-18</td><td>2025-07-15T16:41:15.224Z</td><td>905</td><td>2025-07-16T08:13:05.597Z</td><td>2025-07-16T08:13:05.597Z</td></tr><tr><td>B00906</td><td>P0009</td><td>F0064</td><td>A025</td><td>187.93</td><td>2025-04-20</td><td>2025-07-15T16:41:15.224Z</td><td>906</td><td>2025-07-16T08:13:05.597Z</td><td>2025-07-16T08:13:05.597Z</td></tr><tr><td>B00907</td><td>P0120</td><td>F0013</td><td>A019</td><td>471.88</td><td>2025-06-14</td><td>2025-07-15T16:41:15.224Z</td><td>907</td><td>2025-07-16T08:13:05.597Z</td><td>2025-07-16T08:13:05.597Z</td></tr><tr><td>B00908</td><td>P0007</td><td>F0080</td><td>A006</td><td>248.99</td><td>2025-06-10</td><td>2025-07-15T16:41:15.224Z</td><td>908</td><td>2025-07-16T08:13:05.597Z</td><td>2025-07-16T08:13:05.597Z</td></tr><tr><td>B00909</td><td>P0199</td><td>F0056</td><td>A002</td><td>1239.94</td><td>2025-04-01</td><td>2025-07-15T16:41:15.224Z</td><td>909</td><td>2025-07-16T08:13:05.597Z</td><td>2025-07-16T08:13:05.597Z</td></tr><tr><td>B00910</td><td>P0061</td><td>F0034</td><td>A010</td><td>1030.54</td><td>2025-06-01</td><td>2025-07-15T16:41:15.224Z</td><td>910</td><td>2025-07-16T08:13:05.597Z</td><td>2025-07-16T08:13:05.597Z</td></tr><tr><td>B00911</td><td>P0104</td><td>F0039</td><td>A014</td><td>892.52</td><td>2025-05-21</td><td>2025-07-15T16:41:15.224Z</td><td>911</td><td>2025-07-16T08:13:05.597Z</td><td>2025-07-16T08:13:05.597Z</td></tr><tr><td>B00912</td><td>P0052</td><td>F0080</td><td>A018</td><td>1475.45</td><td>2025-06-10</td><td>2025-07-15T16:41:15.224Z</td><td>912</td><td>2025-07-16T08:13:05.597Z</td><td>2025-07-16T08:13:05.597Z</td></tr><tr><td>B00913</td><td>P0062</td><td>F0024</td><td>A001</td><td>1378.02</td><td>2025-04-08</td><td>2025-07-15T16:41:15.224Z</td><td>913</td><td>2025-07-16T08:13:05.597Z</td><td>2025-07-16T08:13:05.597Z</td></tr><tr><td>B00914</td><td>P0134</td><td>F0062</td><td>A003</td><td>1046.18</td><td>2025-04-17</td><td>2025-07-15T16:41:15.224Z</td><td>914</td><td>2025-07-16T08:13:05.597Z</td><td>2025-07-16T08:13:05.597Z</td></tr><tr><td>B00915</td><td>P0093</td><td>F0011</td><td>A009</td><td>508.33</td><td>2025-05-12</td><td>2025-07-15T16:41:15.224Z</td><td>915</td><td>2025-07-16T08:13:05.597Z</td><td>2025-07-16T08:13:05.597Z</td></tr><tr><td>B00916</td><td>P0097</td><td>F0054</td><td>A012</td><td>841.92</td><td>2025-03-29</td><td>2025-07-15T16:41:15.224Z</td><td>916</td><td>2025-07-16T08:13:05.597Z</td><td>2025-07-16T08:13:05.597Z</td></tr><tr><td>B00917</td><td>P0190</td><td>F0060</td><td>A020</td><td>1081.71</td><td>2025-06-08</td><td>2025-07-15T16:41:15.224Z</td><td>917</td><td>2025-07-16T08:13:05.597Z</td><td>2025-07-16T08:13:05.597Z</td></tr><tr><td>B00918</td><td>P0080</td><td>F0066</td><td>A005</td><td>1361.58</td><td>2025-05-15</td><td>2025-07-15T16:41:15.224Z</td><td>918</td><td>2025-07-16T08:13:05.597Z</td><td>2025-07-16T08:13:05.597Z</td></tr><tr><td>B00919</td><td>P0083</td><td>F0030</td><td>A025</td><td>962.58</td><td>2025-06-15</td><td>2025-07-15T16:41:15.224Z</td><td>919</td><td>2025-07-16T08:13:05.597Z</td><td>2025-07-16T08:13:05.597Z</td></tr><tr><td>B00920</td><td>P0015</td><td>F0064</td><td>A019</td><td>928.51</td><td>2025-03-30</td><td>2025-07-15T16:41:15.224Z</td><td>920</td><td>2025-07-16T08:13:05.597Z</td><td>2025-07-16T08:13:05.597Z</td></tr><tr><td>B00921</td><td>P0056</td><td>F0002</td><td>A033</td><td>1420.54</td><td>2025-06-05</td><td>2025-07-15T16:41:15.224Z</td><td>921</td><td>2025-07-16T08:13:05.597Z</td><td>2025-07-16T08:13:05.597Z</td></tr><tr><td>B00922</td><td>P0094</td><td>F0056</td><td>A034</td><td>1105.47</td><td>2025-04-30</td><td>2025-07-15T16:41:15.224Z</td><td>922</td><td>2025-07-16T08:13:05.597Z</td><td>2025-07-16T08:13:05.597Z</td></tr><tr><td>B00923</td><td>P0111</td><td>F0052</td><td>A043</td><td>1445.81</td><td>2025-04-22</td><td>2025-07-15T16:41:15.224Z</td><td>923</td><td>2025-07-16T08:13:05.597Z</td><td>2025-07-16T08:13:05.597Z</td></tr><tr><td>B00924</td><td>P0002</td><td>F0048</td><td>A011</td><td>262.91</td><td>2025-05-09</td><td>2025-07-15T16:41:15.224Z</td><td>924</td><td>2025-07-16T08:13:05.597Z</td><td>2025-07-16T08:13:05.597Z</td></tr><tr><td>B00925</td><td>P0083</td><td>F0068</td><td>A017</td><td>656.7</td><td>2025-04-07</td><td>2025-07-15T16:41:15.224Z</td><td>925</td><td>2025-07-16T08:13:05.597Z</td><td>2025-07-16T08:13:05.597Z</td></tr><tr><td>B00926</td><td>P0004</td><td>F0051</td><td>A004</td><td>855.4</td><td>2025-05-27</td><td>2025-07-15T16:41:15.224Z</td><td>926</td><td>2025-07-16T08:13:05.597Z</td><td>2025-07-16T08:13:05.597Z</td></tr><tr><td>B00927</td><td>P0191</td><td>F0014</td><td>A032</td><td>934.8</td><td>2025-04-22</td><td>2025-07-15T16:41:15.224Z</td><td>927</td><td>2025-07-16T08:13:05.597Z</td><td>2025-07-16T08:13:05.597Z</td></tr><tr><td>B00928</td><td>P0152</td><td>F0077</td><td>A028</td><td>1225.68</td><td>2025-05-16</td><td>2025-07-15T16:41:15.224Z</td><td>928</td><td>2025-07-16T08:13:05.597Z</td><td>2025-07-16T08:13:05.597Z</td></tr><tr><td>B00929</td><td>P0065</td><td>F0094</td><td>A001</td><td>963.0</td><td>2025-05-13</td><td>2025-07-15T16:41:15.224Z</td><td>929</td><td>2025-07-16T08:13:05.597Z</td><td>2025-07-16T08:13:05.597Z</td></tr><tr><td>B00930</td><td>P0119</td><td>F0040</td><td>A018</td><td>546.21</td><td>2025-05-22</td><td>2025-07-15T16:41:15.224Z</td><td>930</td><td>2025-07-16T08:13:05.597Z</td><td>2025-07-16T08:13:05.597Z</td></tr><tr><td>B00931</td><td>P0182</td><td>F0005</td><td>A047</td><td>1421.83</td><td>2025-05-13</td><td>2025-07-15T16:41:15.224Z</td><td>931</td><td>2025-07-16T08:13:05.597Z</td><td>2025-07-16T08:13:05.597Z</td></tr><tr><td>B00932</td><td>P0187</td><td>F0093</td><td>A032</td><td>159.55</td><td>2025-05-01</td><td>2025-07-15T16:41:15.224Z</td><td>932</td><td>2025-07-16T08:13:05.597Z</td><td>2025-07-16T08:13:05.597Z</td></tr><tr><td>B00933</td><td>P0023</td><td>F0099</td><td>A044</td><td>491.69</td><td>2025-06-11</td><td>2025-07-15T16:41:15.224Z</td><td>933</td><td>2025-07-16T08:13:05.597Z</td><td>2025-07-16T08:13:05.597Z</td></tr><tr><td>B00934</td><td>P0116</td><td>F0076</td><td>A036</td><td>588.49</td><td>2025-04-29</td><td>2025-07-15T16:41:15.224Z</td><td>934</td><td>2025-07-16T08:13:05.597Z</td><td>2025-07-16T08:13:05.597Z</td></tr><tr><td>B00935</td><td>P0193</td><td>F0083</td><td>A035</td><td>326.52</td><td>2025-05-01</td><td>2025-07-15T16:41:15.224Z</td><td>935</td><td>2025-07-16T08:13:05.597Z</td><td>2025-07-16T08:13:05.597Z</td></tr><tr><td>B00936</td><td>P0046</td><td>F0091</td><td>A044</td><td>714.85</td><td>2025-04-30</td><td>2025-07-15T16:41:15.224Z</td><td>936</td><td>2025-07-16T08:13:05.597Z</td><td>2025-07-16T08:13:05.597Z</td></tr><tr><td>B00937</td><td>P0044</td><td>F0033</td><td>A046</td><td>134.47</td><td>2025-06-18</td><td>2025-07-15T16:41:15.224Z</td><td>937</td><td>2025-07-16T08:13:05.597Z</td><td>2025-07-16T08:13:05.597Z</td></tr><tr><td>B00938</td><td>P0083</td><td>F0041</td><td>A026</td><td>1109.79</td><td>2025-05-01</td><td>2025-07-15T16:41:15.224Z</td><td>938</td><td>2025-07-16T08:13:05.597Z</td><td>2025-07-16T08:13:05.597Z</td></tr><tr><td>B00939</td><td>P0051</td><td>F0048</td><td>A018</td><td>1274.8</td><td>2025-04-22</td><td>2025-07-15T16:41:15.224Z</td><td>939</td><td>2025-07-16T08:13:05.597Z</td><td>2025-07-16T08:13:05.597Z</td></tr><tr><td>B00940</td><td>P0082</td><td>F0015</td><td>A013</td><td>523.94</td><td>2025-04-26</td><td>2025-07-15T16:41:15.224Z</td><td>940</td><td>2025-07-16T08:13:05.597Z</td><td>2025-07-16T08:13:05.597Z</td></tr><tr><td>B00941</td><td>P0122</td><td>F0092</td><td>A017</td><td>1489.4</td><td>2025-05-21</td><td>2025-07-15T16:41:15.224Z</td><td>941</td><td>2025-07-16T08:13:05.597Z</td><td>2025-07-16T08:13:05.597Z</td></tr><tr><td>B00942</td><td>P0025</td><td>F0040</td><td>A012</td><td>1133.46</td><td>2025-05-20</td><td>2025-07-15T16:41:15.224Z</td><td>942</td><td>2025-07-16T08:13:05.597Z</td><td>2025-07-16T08:13:05.597Z</td></tr><tr><td>B00943</td><td>P0084</td><td>F0010</td><td>A037</td><td>1446.45</td><td>2025-06-05</td><td>2025-07-15T16:41:15.224Z</td><td>943</td><td>2025-07-16T08:13:05.597Z</td><td>2025-07-16T08:13:05.597Z</td></tr><tr><td>B00944</td><td>P0063</td><td>F0082</td><td>A028</td><td>915.79</td><td>2025-04-01</td><td>2025-07-15T16:41:15.224Z</td><td>944</td><td>2025-07-16T08:13:05.597Z</td><td>2025-07-16T08:13:05.597Z</td></tr><tr><td>B00945</td><td>P0176</td><td>F0077</td><td>A004</td><td>575.76</td><td>2025-05-03</td><td>2025-07-15T16:41:15.224Z</td><td>945</td><td>2025-07-16T08:13:05.597Z</td><td>2025-07-16T08:13:05.597Z</td></tr><tr><td>B00946</td><td>P0088</td><td>F0062</td><td>A046</td><td>356.13</td><td>2025-04-10</td><td>2025-07-15T16:41:15.224Z</td><td>946</td><td>2025-07-16T08:13:05.597Z</td><td>2025-07-16T08:13:05.597Z</td></tr><tr><td>B00947</td><td>P0078</td><td>F0035</td><td>A005</td><td>668.94</td><td>2025-06-14</td><td>2025-07-15T16:41:15.224Z</td><td>947</td><td>2025-07-16T08:13:05.597Z</td><td>2025-07-16T08:13:05.597Z</td></tr><tr><td>B00948</td><td>P0185</td><td>F0030</td><td>A028</td><td>1451.41</td><td>2025-04-28</td><td>2025-07-15T16:41:15.224Z</td><td>948</td><td>2025-07-16T08:13:05.597Z</td><td>2025-07-16T08:13:05.597Z</td></tr><tr><td>B00949</td><td>P0027</td><td>F0073</td><td>A033</td><td>1343.39</td><td>2025-04-13</td><td>2025-07-15T16:41:15.224Z</td><td>949</td><td>2025-07-16T08:13:05.597Z</td><td>2025-07-16T08:13:05.597Z</td></tr><tr><td>B00950</td><td>P0189</td><td>F0094</td><td>A050</td><td>1422.61</td><td>2025-05-28</td><td>2025-07-15T16:41:15.224Z</td><td>950</td><td>2025-07-16T08:13:05.597Z</td><td>2025-07-16T08:13:05.597Z</td></tr><tr><td>B00951</td><td>P0172</td><td>F0075</td><td>A041</td><td>129.87</td><td>2025-06-13</td><td>2025-07-15T16:41:15.224Z</td><td>951</td><td>2025-07-16T08:13:05.597Z</td><td>2025-07-16T08:13:05.597Z</td></tr><tr><td>B00952</td><td>P0092</td><td>F0085</td><td>A002</td><td>108.46</td><td>2025-04-21</td><td>2025-07-15T16:41:15.224Z</td><td>952</td><td>2025-07-16T08:13:05.597Z</td><td>2025-07-16T08:13:05.597Z</td></tr><tr><td>B00953</td><td>P0051</td><td>F0001</td><td>A013</td><td>333.53</td><td>2025-06-04</td><td>2025-07-15T16:41:15.224Z</td><td>953</td><td>2025-07-16T08:13:05.597Z</td><td>2025-07-16T08:13:05.597Z</td></tr><tr><td>B00954</td><td>P0042</td><td>F0017</td><td>A045</td><td>370.9</td><td>2025-04-29</td><td>2025-07-15T16:41:15.224Z</td><td>954</td><td>2025-07-16T08:13:05.597Z</td><td>2025-07-16T08:13:05.597Z</td></tr><tr><td>B00955</td><td>P0046</td><td>F0049</td><td>A040</td><td>432.23</td><td>2025-06-06</td><td>2025-07-15T16:41:15.224Z</td><td>955</td><td>2025-07-16T08:13:05.597Z</td><td>2025-07-16T08:13:05.597Z</td></tr><tr><td>B00956</td><td>P0172</td><td>F0092</td><td>A034</td><td>357.05</td><td>2025-05-17</td><td>2025-07-15T16:41:15.224Z</td><td>956</td><td>2025-07-16T08:13:05.597Z</td><td>2025-07-16T08:13:05.597Z</td></tr><tr><td>B00957</td><td>P0005</td><td>F0045</td><td>A009</td><td>1141.19</td><td>2025-06-16</td><td>2025-07-15T16:41:15.224Z</td><td>957</td><td>2025-07-16T08:13:05.597Z</td><td>2025-07-16T08:13:05.597Z</td></tr><tr><td>B00958</td><td>P0004</td><td>F0026</td><td>A028</td><td>778.27</td><td>2025-06-02</td><td>2025-07-15T16:41:15.224Z</td><td>958</td><td>2025-07-16T08:13:05.597Z</td><td>2025-07-16T08:13:05.597Z</td></tr><tr><td>B00959</td><td>P0140</td><td>F0011</td><td>A040</td><td>489.4</td><td>2025-04-25</td><td>2025-07-15T16:41:15.224Z</td><td>959</td><td>2025-07-16T08:13:05.597Z</td><td>2025-07-16T08:13:05.597Z</td></tr><tr><td>B00960</td><td>P0002</td><td>F0048</td><td>A019</td><td>1405.02</td><td>2025-06-02</td><td>2025-07-15T16:41:15.224Z</td><td>960</td><td>2025-07-16T08:13:05.597Z</td><td>2025-07-16T08:13:05.597Z</td></tr><tr><td>B00961</td><td>P0104</td><td>F0007</td><td>A032</td><td>467.01</td><td>2025-05-07</td><td>2025-07-15T16:41:15.224Z</td><td>961</td><td>2025-07-16T08:13:05.597Z</td><td>2025-07-16T08:13:05.597Z</td></tr><tr><td>B00962</td><td>P0171</td><td>F0069</td><td>A032</td><td>816.41</td><td>2025-04-07</td><td>2025-07-15T16:41:15.224Z</td><td>962</td><td>2025-07-16T08:13:05.597Z</td><td>2025-07-16T08:13:05.597Z</td></tr><tr><td>B00963</td><td>P0189</td><td>F0093</td><td>A022</td><td>1078.62</td><td>2025-05-16</td><td>2025-07-15T16:41:15.224Z</td><td>963</td><td>2025-07-16T08:13:05.597Z</td><td>2025-07-16T08:13:05.597Z</td></tr><tr><td>B00964</td><td>P0194</td><td>F0083</td><td>A029</td><td>783.31</td><td>2025-04-21</td><td>2025-07-15T16:41:15.224Z</td><td>964</td><td>2025-07-16T08:13:05.597Z</td><td>2025-07-16T08:13:05.597Z</td></tr><tr><td>B00965</td><td>P0116</td><td>F0088</td><td>A044</td><td>1396.61</td><td>2025-05-12</td><td>2025-07-15T16:41:15.224Z</td><td>965</td><td>2025-07-16T08:13:05.597Z</td><td>2025-07-16T08:13:05.597Z</td></tr><tr><td>B00966</td><td>P0162</td><td>F0068</td><td>A006</td><td>1487.65</td><td>2025-04-17</td><td>2025-07-15T16:41:15.224Z</td><td>966</td><td>2025-07-16T08:13:05.597Z</td><td>2025-07-16T08:13:05.597Z</td></tr><tr><td>B00967</td><td>P0156</td><td>F0055</td><td>A017</td><td>994.66</td><td>2025-05-28</td><td>2025-07-15T16:41:15.224Z</td><td>967</td><td>2025-07-16T08:13:05.597Z</td><td>2025-07-16T08:13:05.597Z</td></tr><tr><td>B00968</td><td>P0176</td><td>F0035</td><td>A035</td><td>1394.35</td><td>2025-04-18</td><td>2025-07-15T16:41:15.224Z</td><td>968</td><td>2025-07-16T08:13:05.597Z</td><td>2025-07-16T08:13:05.597Z</td></tr><tr><td>B00969</td><td>P0118</td><td>F0021</td><td>A042</td><td>971.86</td><td>2025-05-14</td><td>2025-07-15T16:41:15.224Z</td><td>969</td><td>2025-07-16T08:13:05.597Z</td><td>2025-07-16T08:13:05.597Z</td></tr><tr><td>B00970</td><td>P0091</td><td>F0085</td><td>A017</td><td>1098.93</td><td>2025-04-02</td><td>2025-07-15T16:41:15.224Z</td><td>970</td><td>2025-07-16T08:13:05.597Z</td><td>2025-07-16T08:13:05.597Z</td></tr><tr><td>B00971</td><td>P0069</td><td>F0059</td><td>A040</td><td>844.68</td><td>2025-04-24</td><td>2025-07-15T16:41:15.224Z</td><td>971</td><td>2025-07-16T08:13:05.597Z</td><td>2025-07-16T08:13:05.597Z</td></tr><tr><td>B00972</td><td>P0073</td><td>F0072</td><td>A009</td><td>1233.78</td><td>2025-03-27</td><td>2025-07-15T16:41:15.224Z</td><td>972</td><td>2025-07-16T08:13:05.597Z</td><td>2025-07-16T08:13:05.597Z</td></tr><tr><td>B00973</td><td>P0190</td><td>F0054</td><td>A026</td><td>1222.11</td><td>2025-03-28</td><td>2025-07-15T16:41:15.224Z</td><td>973</td><td>2025-07-16T08:13:05.597Z</td><td>2025-07-16T08:13:05.597Z</td></tr><tr><td>B00974</td><td>P0015</td><td>F0035</td><td>A012</td><td>514.45</td><td>2025-05-19</td><td>2025-07-15T16:41:15.224Z</td><td>974</td><td>2025-07-16T08:13:05.597Z</td><td>2025-07-16T08:13:05.597Z</td></tr><tr><td>B00975</td><td>P0022</td><td>F0075</td><td>A044</td><td>1264.37</td><td>2025-03-26</td><td>2025-07-15T16:41:15.224Z</td><td>975</td><td>2025-07-16T08:13:05.597Z</td><td>2025-07-16T08:13:05.597Z</td></tr><tr><td>B00976</td><td>P0089</td><td>F0007</td><td>A033</td><td>1269.21</td><td>2025-05-10</td><td>2025-07-15T16:41:15.224Z</td><td>976</td><td>2025-07-16T08:13:05.597Z</td><td>2025-07-16T08:13:05.597Z</td></tr><tr><td>B00977</td><td>P0189</td><td>F0079</td><td>A015</td><td>1316.69</td><td>2025-05-10</td><td>2025-07-15T16:41:15.224Z</td><td>977</td><td>2025-07-16T08:13:05.597Z</td><td>2025-07-16T08:13:05.597Z</td></tr><tr><td>B00978</td><td>P0017</td><td>F0001</td><td>A042</td><td>511.95</td><td>2025-06-14</td><td>2025-07-15T16:41:15.224Z</td><td>978</td><td>2025-07-16T08:13:05.597Z</td><td>2025-07-16T08:13:05.597Z</td></tr><tr><td>B00979</td><td>P0170</td><td>F0037</td><td>A017</td><td>855.74</td><td>2025-03-24</td><td>2025-07-15T16:41:15.224Z</td><td>979</td><td>2025-07-16T08:13:05.597Z</td><td>2025-07-16T08:13:05.597Z</td></tr><tr><td>B00980</td><td>P0065</td><td>F0052</td><td>A009</td><td>395.91</td><td>2025-06-19</td><td>2025-07-15T16:41:15.224Z</td><td>980</td><td>2025-07-16T08:13:05.597Z</td><td>2025-07-16T08:13:05.597Z</td></tr><tr><td>B00981</td><td>P0113</td><td>F0092</td><td>A013</td><td>388.78</td><td>2025-04-20</td><td>2025-07-15T16:41:15.224Z</td><td>981</td><td>2025-07-16T08:13:05.597Z</td><td>2025-07-16T08:13:05.597Z</td></tr><tr><td>B00982</td><td>P0199</td><td>F0071</td><td>A048</td><td>125.48</td><td>2025-05-08</td><td>2025-07-15T16:41:15.224Z</td><td>982</td><td>2025-07-16T08:13:05.597Z</td><td>2025-07-16T08:13:05.597Z</td></tr><tr><td>B00983</td><td>P0170</td><td>F0044</td><td>A023</td><td>1055.8</td><td>2025-05-28</td><td>2025-07-15T16:41:15.224Z</td><td>983</td><td>2025-07-16T08:13:05.597Z</td><td>2025-07-16T08:13:05.597Z</td></tr><tr><td>B00984</td><td>P0010</td><td>F0030</td><td>A024</td><td>725.15</td><td>2025-06-16</td><td>2025-07-15T16:41:15.224Z</td><td>984</td><td>2025-07-16T08:13:05.597Z</td><td>2025-07-16T08:13:05.597Z</td></tr><tr><td>B00985</td><td>P0163</td><td>F0044</td><td>A012</td><td>728.55</td><td>2025-04-02</td><td>2025-07-15T16:41:15.224Z</td><td>985</td><td>2025-07-16T08:13:05.597Z</td><td>2025-07-16T08:13:05.597Z</td></tr><tr><td>B00986</td><td>P0115</td><td>F0070</td><td>A003</td><td>291.35</td><td>2025-06-07</td><td>2025-07-15T16:41:15.224Z</td><td>986</td><td>2025-07-16T08:13:05.597Z</td><td>2025-07-16T08:13:05.597Z</td></tr><tr><td>B00987</td><td>P0031</td><td>F0025</td><td>A004</td><td>1402.71</td><td>2025-04-01</td><td>2025-07-15T16:41:15.224Z</td><td>987</td><td>2025-07-16T08:13:05.597Z</td><td>2025-07-16T08:13:05.597Z</td></tr><tr><td>B00988</td><td>P0048</td><td>F0005</td><td>A039</td><td>655.41</td><td>2025-04-08</td><td>2025-07-15T16:41:15.224Z</td><td>988</td><td>2025-07-16T08:13:05.597Z</td><td>2025-07-16T08:13:05.597Z</td></tr><tr><td>B00989</td><td>P0105</td><td>F0040</td><td>A047</td><td>136.68</td><td>2025-04-13</td><td>2025-07-15T16:41:15.224Z</td><td>989</td><td>2025-07-16T08:13:05.597Z</td><td>2025-07-16T08:13:05.597Z</td></tr><tr><td>B00990</td><td>P0007</td><td>F0007</td><td>A020</td><td>696.52</td><td>2025-05-01</td><td>2025-07-15T16:41:15.224Z</td><td>990</td><td>2025-07-16T08:13:05.597Z</td><td>2025-07-16T08:13:05.597Z</td></tr><tr><td>B00991</td><td>P0069</td><td>F0100</td><td>A034</td><td>488.42</td><td>2025-06-02</td><td>2025-07-15T16:41:15.224Z</td><td>991</td><td>2025-07-16T08:13:05.597Z</td><td>2025-07-16T08:13:05.597Z</td></tr><tr><td>B00992</td><td>P0080</td><td>F0095</td><td>A047</td><td>321.61</td><td>2025-05-28</td><td>2025-07-15T16:41:15.224Z</td><td>992</td><td>2025-07-16T08:13:05.597Z</td><td>2025-07-16T08:13:05.597Z</td></tr><tr><td>B00993</td><td>P0109</td><td>F0011</td><td>A007</td><td>388.1</td><td>2025-06-09</td><td>2025-07-15T16:41:15.224Z</td><td>993</td><td>2025-07-16T08:13:05.597Z</td><td>2025-07-16T08:13:05.597Z</td></tr><tr><td>B00994</td><td>P0062</td><td>F0006</td><td>A019</td><td>1003.11</td><td>2025-06-21</td><td>2025-07-15T16:41:15.224Z</td><td>994</td><td>2025-07-16T08:13:05.597Z</td><td>2025-07-16T08:13:05.597Z</td></tr><tr><td>B00995</td><td>P0075</td><td>F0054</td><td>A050</td><td>613.87</td><td>2025-04-28</td><td>2025-07-15T16:41:15.224Z</td><td>995</td><td>2025-07-16T08:13:05.597Z</td><td>2025-07-16T08:13:05.597Z</td></tr><tr><td>B00996</td><td>P0159</td><td>F0097</td><td>A017</td><td>1496.14</td><td>2025-05-17</td><td>2025-07-15T16:41:15.224Z</td><td>996</td><td>2025-07-16T08:13:05.597Z</td><td>2025-07-16T08:13:05.597Z</td></tr><tr><td>B00997</td><td>P0019</td><td>F0013</td><td>A008</td><td>468.47</td><td>2025-04-25</td><td>2025-07-15T16:41:15.224Z</td><td>997</td><td>2025-07-16T08:13:05.597Z</td><td>2025-07-16T08:13:05.597Z</td></tr><tr><td>B00998</td><td>P0178</td><td>F0063</td><td>A002</td><td>984.99</td><td>2025-06-08</td><td>2025-07-15T16:41:15.224Z</td><td>998</td><td>2025-07-16T08:13:05.597Z</td><td>2025-07-16T08:13:05.597Z</td></tr><tr><td>B00999</td><td>P0153</td><td>F0083</td><td>A017</td><td>466.39</td><td>2025-04-21</td><td>2025-07-15T16:41:15.224Z</td><td>999</td><td>2025-07-16T08:13:05.597Z</td><td>2025-07-16T08:13:05.597Z</td></tr><tr><td>B01000</td><td>P0039</td><td>F0037</td><td>A016</td><td>647.76</td><td>2025-06-13</td><td>2025-07-15T16:41:15.224Z</td><td>1000</td><td>2025-07-16T08:13:05.597Z</td><td>2025-07-16T08:13:05.597Z</td></tr><tr><td>B01001</td><td>P0207</td><td>F0047</td><td>A004</td><td>912.64</td><td>2025-07-10</td><td>2025-07-15T16:41:15.224Z</td><td>1001</td><td>2025-07-16T08:13:05.597Z</td><td>2025-07-16T08:13:05.597Z</td></tr><tr><td>B01002</td><td>P0124</td><td>F0088</td><td>A051</td><td>597.04</td><td>2025-07-01</td><td>2025-07-15T16:41:15.224Z</td><td>1002</td><td>2025-07-16T08:13:05.597Z</td><td>2025-07-16T08:13:05.597Z</td></tr><tr><td>B01003</td><td>P0103</td><td>F0096</td><td>A036</td><td>724.88</td><td>2025-07-10</td><td>2025-07-15T16:41:15.224Z</td><td>1003</td><td>2025-07-16T08:13:05.597Z</td><td>2025-07-16T08:13:05.597Z</td></tr><tr><td>B01004</td><td>P0049</td><td>F0069</td><td>A001</td><td>1370.99</td><td>2025-07-12</td><td>2025-07-15T16:41:15.224Z</td><td>1004</td><td>2025-07-16T08:13:05.597Z</td><td>2025-07-16T08:13:05.597Z</td></tr><tr><td>B01005</td><td>P0210</td><td>F0084</td><td>A053</td><td>1476.15</td><td>2025-07-01</td><td>2025-07-15T16:41:15.224Z</td><td>1005</td><td>2025-07-16T08:13:05.597Z</td><td>2025-07-16T08:13:05.597Z</td></tr><tr><td>B01006</td><td>P0126</td><td>F0084</td><td>A042</td><td>800.39</td><td>2025-06-26</td><td>2025-07-15T16:41:15.224Z</td><td>1006</td><td>2025-07-16T08:13:05.597Z</td><td>2025-07-16T08:13:05.597Z</td></tr><tr><td>B01007</td><td>P0077</td><td>F0013</td><td>A055</td><td>1187.22</td><td>2025-06-28</td><td>2025-07-15T16:41:15.224Z</td><td>1007</td><td>2025-07-16T08:13:05.597Z</td><td>2025-07-16T08:13:05.597Z</td></tr><tr><td>B01008</td><td>P0118</td><td>F0005</td><td>A033</td><td>913.43</td><td>2025-07-18</td><td>2025-07-15T16:41:15.224Z</td><td>1008</td><td>2025-07-16T08:13:05.597Z</td><td>2025-07-16T08:13:05.597Z</td></tr><tr><td>B01009</td><td>P0090</td><td>F0102</td><td>A034</td><td>260.75</td><td>2025-07-08</td><td>2025-07-15T16:41:15.224Z</td><td>1009</td><td>2025-07-16T08:13:05.597Z</td><td>2025-07-16T08:13:05.597Z</td></tr><tr><td>B01010</td><td>P0012</td><td>F0080</td><td>A045</td><td>245.61</td><td>2025-07-21</td><td>2025-07-15T16:41:15.224Z</td><td>1010</td><td>2025-07-16T08:13:05.597Z</td><td>2025-07-16T08:13:05.597Z</td></tr><tr><td>B01011</td><td>P0066</td><td>F0008</td><td>A041</td><td>319.73</td><td>2025-07-07</td><td>2025-07-15T16:41:15.224Z</td><td>1011</td><td>2025-07-16T08:13:05.597Z</td><td>2025-07-16T08:13:05.597Z</td></tr><tr><td>B01012</td><td>P0158</td><td>F0037</td><td>A044</td><td>1158.64</td><td>2025-07-03</td><td>2025-07-15T16:41:15.224Z</td><td>1012</td><td>2025-07-16T08:13:05.597Z</td><td>2025-07-16T08:13:05.597Z</td></tr><tr><td>B01013</td><td>P0099</td><td>F0107</td><td>A008</td><td>506.23</td><td>2025-07-17</td><td>2025-07-15T16:41:15.224Z</td><td>1013</td><td>2025-07-16T08:13:05.597Z</td><td>2025-07-16T08:13:05.597Z</td></tr><tr><td>B01014</td><td>P0190</td><td>F0068</td><td>A027</td><td>1397.56</td><td>2025-07-12</td><td>2025-07-15T16:41:15.224Z</td><td>1014</td><td>2025-07-16T08:13:05.597Z</td><td>2025-07-16T08:13:05.597Z</td></tr><tr><td>B01015</td><td>P0046</td><td>F0044</td><td>A043</td><td>462.89</td><td>2025-06-23</td><td>2025-07-15T16:41:15.224Z</td><td>1015</td><td>2025-07-16T08:13:05.597Z</td><td>2025-07-16T08:13:05.597Z</td></tr><tr><td>B01016</td><td>P0098</td><td>F0016</td><td>A026</td><td>1491.59</td><td>2025-06-28</td><td>2025-07-15T16:41:15.224Z</td><td>1016</td><td>2025-07-16T08:13:05.597Z</td><td>2025-07-16T08:13:05.597Z</td></tr><tr><td>B01017</td><td>P0193</td><td>F0097</td><td>A030</td><td>1092.89</td><td>2025-07-05</td><td>2025-07-15T16:41:15.224Z</td><td>1017</td><td>2025-07-16T08:13:05.597Z</td><td>2025-07-16T08:13:05.597Z</td></tr><tr><td>B01018</td><td>P0142</td><td>F0040</td><td>A016</td><td>998.11</td><td>2025-06-25</td><td>2025-07-15T16:41:15.224Z</td><td>1018</td><td>2025-07-16T08:13:05.597Z</td><td>2025-07-16T08:13:05.597Z</td></tr><tr><td>B01019</td><td>P0126</td><td>F0003</td><td>A015</td><td>898.26</td><td>2025-06-29</td><td>2025-07-15T16:41:15.224Z</td><td>1019</td><td>2025-07-16T08:13:05.597Z</td><td>2025-07-16T08:13:05.597Z</td></tr><tr><td>B01020</td><td>P0135</td><td>F0014</td><td>A023</td><td>354.87</td><td>2025-07-20</td><td>2025-07-15T16:41:15.224Z</td><td>1020</td><td>2025-07-16T08:13:05.597Z</td><td>2025-07-16T08:13:05.597Z</td></tr><tr><td>B01021</td><td>P0171</td><td>F0105</td><td>A026</td><td>154.73</td><td>2025-06-23</td><td>2025-07-15T16:41:15.224Z</td><td>1021</td><td>2025-07-16T08:13:05.597Z</td><td>2025-07-16T08:13:05.597Z</td></tr><tr><td>B01022</td><td>P0078</td><td>F0065</td><td>A024</td><td>980.87</td><td>2025-07-10</td><td>2025-07-15T16:41:15.224Z</td><td>1022</td><td>2025-07-16T08:13:05.597Z</td><td>2025-07-16T08:13:05.597Z</td></tr><tr><td>B01023</td><td>P0046</td><td>F0044</td><td>A001</td><td>600.38</td><td>2025-06-25</td><td>2025-07-15T16:41:15.224Z</td><td>1023</td><td>2025-07-16T08:13:05.597Z</td><td>2025-07-16T08:13:05.597Z</td></tr><tr><td>B01024</td><td>P0159</td><td>F0030</td><td>A024</td><td>665.15</td><td>2025-06-29</td><td>2025-07-15T16:41:15.224Z</td><td>1024</td><td>2025-07-16T08:13:05.597Z</td><td>2025-07-16T08:13:05.597Z</td></tr><tr><td>B01025</td><td>P0043</td><td>F0089</td><td>A024</td><td>557.92</td><td>2025-07-07</td><td>2025-07-15T16:41:15.224Z</td><td>1025</td><td>2025-07-16T08:13:05.597Z</td><td>2025-07-16T08:13:05.597Z</td></tr><tr><td>B01026</td><td>P0031</td><td>F0030</td><td>A016</td><td>565.57</td><td>2025-07-05</td><td>2025-07-15T16:41:15.224Z</td><td>1026</td><td>2025-07-16T08:13:05.597Z</td><td>2025-07-16T08:13:05.597Z</td></tr><tr><td>B01027</td><td>P0080</td><td>F0032</td><td>A044</td><td>742.34</td><td>2025-07-04</td><td>2025-07-15T16:41:15.224Z</td><td>1027</td><td>2025-07-16T08:13:05.597Z</td><td>2025-07-16T08:13:05.597Z</td></tr><tr><td>B01028</td><td>P0138</td><td>F0028</td><td>A024</td><td>699.87</td><td>2025-06-24</td><td>2025-07-15T16:41:15.224Z</td><td>1028</td><td>2025-07-16T08:13:05.597Z</td><td>2025-07-16T08:13:05.597Z</td></tr><tr><td>B01029</td><td>P0091</td><td>F0051</td><td>A012</td><td>1383.67</td><td>2025-06-22</td><td>2025-07-15T16:41:15.224Z</td><td>1029</td><td>2025-07-16T08:13:05.597Z</td><td>2025-07-16T08:13:05.597Z</td></tr><tr><td>B01030</td><td>P0029</td><td>F0035</td><td>A029</td><td>864.35</td><td>2025-07-10</td><td>2025-07-15T16:41:15.224Z</td><td>1030</td><td>2025-07-16T08:13:05.597Z</td><td>2025-07-16T08:13:05.597Z</td></tr><tr><td>B01031</td><td>P0023</td><td>F0090</td><td>A006</td><td>1004.81</td><td>2025-07-11</td><td>2025-07-15T16:41:15.224Z</td><td>1031</td><td>2025-07-16T08:13:05.597Z</td><td>2025-07-16T08:13:05.597Z</td></tr><tr><td>B01032</td><td>P0108</td><td>F0070</td><td>A053</td><td>1443.89</td><td>2025-07-10</td><td>2025-07-15T16:41:15.224Z</td><td>1032</td><td>2025-07-16T08:13:05.597Z</td><td>2025-07-16T08:13:05.597Z</td></tr><tr><td>B01033</td><td>P0018</td><td>F0056</td><td>A047</td><td>278.89</td><td>2025-07-11</td><td>2025-07-15T16:41:15.224Z</td><td>1033</td><td>2025-07-16T08:13:05.597Z</td><td>2025-07-16T08:13:05.597Z</td></tr><tr><td>B01034</td><td>P0084</td><td>F0110</td><td>A010</td><td>1077.57</td><td>2025-06-22</td><td>2025-07-15T16:41:15.224Z</td><td>1034</td><td>2025-07-16T08:13:05.597Z</td><td>2025-07-16T08:13:05.597Z</td></tr><tr><td>B01035</td><td>P0048</td><td>F0100</td><td>A015</td><td>245.65</td><td>2025-06-29</td><td>2025-07-15T16:41:15.224Z</td><td>1035</td><td>2025-07-16T08:13:05.597Z</td><td>2025-07-16T08:13:05.597Z</td></tr><tr><td>B01036</td><td>P0062</td><td>F0077</td><td>A021</td><td>914.7</td><td>2025-07-04</td><td>2025-07-15T16:41:15.224Z</td><td>1036</td><td>2025-07-16T08:13:05.597Z</td><td>2025-07-16T08:13:05.597Z</td></tr><tr><td>B01037</td><td>P0040</td><td>F0038</td><td>A029</td><td>517.58</td><td>2025-06-22</td><td>2025-07-15T16:41:15.224Z</td><td>1037</td><td>2025-07-16T08:13:05.597Z</td><td>2025-07-16T08:13:05.597Z</td></tr><tr><td>B01038</td><td>P0159</td><td>F0074</td><td>A039</td><td>646.71</td><td>2025-06-28</td><td>2025-07-15T16:41:15.224Z</td><td>1038</td><td>2025-07-16T08:13:05.597Z</td><td>2025-07-16T08:13:05.597Z</td></tr><tr><td>B01039</td><td>P0110</td><td>F0032</td><td>A014</td><td>1040.3</td><td>2025-06-24</td><td>2025-07-15T16:41:15.224Z</td><td>1039</td><td>2025-07-16T08:13:05.597Z</td><td>2025-07-16T08:13:05.597Z</td></tr><tr><td>B01040</td><td>P0089</td><td>F0100</td><td>A027</td><td>1484.13</td><td>2025-07-20</td><td>2025-07-15T16:41:15.224Z</td><td>1040</td><td>2025-07-16T08:13:05.597Z</td><td>2025-07-16T08:13:05.597Z</td></tr><tr><td>B01041</td><td>P0076</td><td>F0004</td><td>A047</td><td>124.83</td><td>2025-07-05</td><td>2025-07-15T16:41:15.224Z</td><td>1041</td><td>2025-07-16T08:13:05.597Z</td><td>2025-07-16T08:13:05.597Z</td></tr><tr><td>B01042</td><td>P0016</td><td>F0087</td><td>A043</td><td>751.55</td><td>2025-07-20</td><td>2025-07-15T16:41:15.224Z</td><td>1042</td><td>2025-07-16T08:13:05.597Z</td><td>2025-07-16T08:13:05.597Z</td></tr><tr><td>B01043</td><td>P0175</td><td>F0028</td><td>A030</td><td>826.8</td><td>2025-07-06</td><td>2025-07-15T16:41:15.224Z</td><td>1043</td><td>2025-07-16T08:13:05.597Z</td><td>2025-07-16T08:13:05.597Z</td></tr><tr><td>B01044</td><td>P0064</td><td>F0035</td><td>A025</td><td>893.4</td><td>2025-07-13</td><td>2025-07-15T16:41:15.224Z</td><td>1044</td><td>2025-07-16T08:13:05.597Z</td><td>2025-07-16T08:13:05.597Z</td></tr><tr><td>B01045</td><td>P0127</td><td>F0054</td><td>A046</td><td>978.71</td><td>2025-07-08</td><td>2025-07-15T16:41:15.224Z</td><td>1045</td><td>2025-07-16T08:13:05.597Z</td><td>2025-07-16T08:13:05.597Z</td></tr><tr><td>B01046</td><td>P0213</td><td>F0057</td><td>A036</td><td>469.33</td><td>2025-07-21</td><td>2025-07-15T16:41:15.224Z</td><td>1046</td><td>2025-07-16T08:13:05.597Z</td><td>2025-07-16T08:13:05.597Z</td></tr><tr><td>B01047</td><td>P0025</td><td>F0029</td><td>A026</td><td>807.07</td><td>2025-07-01</td><td>2025-07-15T16:41:15.224Z</td><td>1047</td><td>2025-07-16T08:13:05.597Z</td><td>2025-07-16T08:13:05.597Z</td></tr><tr><td>B01048</td><td>P0164</td><td>F0109</td><td>A032</td><td>1054.39</td><td>2025-07-13</td><td>2025-07-15T16:41:15.224Z</td><td>1048</td><td>2025-07-16T08:13:05.597Z</td><td>2025-07-16T08:13:05.597Z</td></tr><tr><td>B01049</td><td>P0213</td><td>F0037</td><td>A023</td><td>881.23</td><td>2025-07-13</td><td>2025-07-15T16:41:15.224Z</td><td>1049</td><td>2025-07-16T08:13:05.597Z</td><td>2025-07-16T08:13:05.597Z</td></tr><tr><td>B01050</td><td>P0098</td><td>F0052</td><td>A007</td><td>465.76</td><td>2025-07-07</td><td>2025-07-15T16:41:15.224Z</td><td>1050</td><td>2025-07-16T08:13:05.597Z</td><td>2025-07-16T08:13:05.597Z</td></tr><tr><td>B01051</td><td>P0068</td><td>F0016</td><td>A016</td><td>1467.07</td><td>2025-07-02</td><td>2025-07-15T16:41:15.224Z</td><td>1051</td><td>2025-07-16T08:13:05.597Z</td><td>2025-07-16T08:13:05.597Z</td></tr><tr><td>B01052</td><td>P0080</td><td>F0098</td><td>A034</td><td>878.65</td><td>2025-07-09</td><td>2025-07-15T16:41:15.224Z</td><td>1052</td><td>2025-07-16T08:13:05.597Z</td><td>2025-07-16T08:13:05.597Z</td></tr><tr><td>B01053</td><td>P0215</td><td>F0073</td><td>A030</td><td>1331.64</td><td>2025-07-21</td><td>2025-07-15T16:41:15.224Z</td><td>1053</td><td>2025-07-16T08:13:05.597Z</td><td>2025-07-16T08:13:05.597Z</td></tr><tr><td>B01054</td><td>P0181</td><td>F0076</td><td>A041</td><td>1290.01</td><td>2025-07-02</td><td>2025-07-15T16:41:15.224Z</td><td>1054</td><td>2025-07-16T08:13:05.597Z</td><td>2025-07-16T08:13:05.597Z</td></tr><tr><td>B01055</td><td>P0146</td><td>F0055</td><td>A052</td><td>573.54</td><td>2025-06-28</td><td>2025-07-15T16:41:15.224Z</td><td>1055</td><td>2025-07-16T08:13:05.597Z</td><td>2025-07-16T08:13:05.597Z</td></tr><tr><td>B01056</td><td>P0182</td><td>F0008</td><td>A051</td><td>1443.33</td><td>2025-07-04</td><td>2025-07-15T16:41:15.224Z</td><td>1056</td><td>2025-07-16T08:13:05.597Z</td><td>2025-07-16T08:13:05.597Z</td></tr><tr><td>B01057</td><td>P0142</td><td>F0010</td><td>A043</td><td>1275.8</td><td>2025-06-25</td><td>2025-07-15T16:41:15.224Z</td><td>1057</td><td>2025-07-16T08:13:05.597Z</td><td>2025-07-16T08:13:05.597Z</td></tr><tr><td>B01058</td><td>P0162</td><td>F0100</td><td>A037</td><td>920.6</td><td>2025-07-09</td><td>2025-07-15T16:41:15.224Z</td><td>1058</td><td>2025-07-16T08:13:05.597Z</td><td>2025-07-16T08:13:05.597Z</td></tr><tr><td>B01059</td><td>P0107</td><td>F0034</td><td>A027</td><td>205.48</td><td>2025-07-09</td><td>2025-07-15T16:41:15.224Z</td><td>1059</td><td>2025-07-16T08:13:05.597Z</td><td>2025-07-16T08:13:05.597Z</td></tr><tr><td>B01060</td><td>P0018</td><td>F0050</td><td>A007</td><td>1275.05</td><td>2025-06-30</td><td>2025-07-15T16:41:15.224Z</td><td>1060</td><td>2025-07-16T08:13:05.597Z</td><td>2025-07-16T08:13:05.597Z</td></tr><tr><td>B01061</td><td>P0124</td><td>F0108</td><td>A055</td><td>1126.46</td><td>2025-07-02</td><td>2025-07-15T16:41:15.224Z</td><td>1061</td><td>2025-07-16T08:13:05.597Z</td><td>2025-07-16T08:13:05.597Z</td></tr><tr><td>B01062</td><td>P0010</td><td>F0079</td><td>A036</td><td>1457.79</td><td>2025-06-29</td><td>2025-07-15T16:41:15.224Z</td><td>1062</td><td>2025-07-16T08:13:05.597Z</td><td>2025-07-16T08:13:05.597Z</td></tr><tr><td>B01063</td><td>P0073</td><td>F0009</td><td>A028</td><td>230.06</td><td>2025-06-30</td><td>2025-07-15T16:41:15.224Z</td><td>1063</td><td>2025-07-16T08:13:05.597Z</td><td>2025-07-16T08:13:05.597Z</td></tr><tr><td>B01064</td><td>P0171</td><td>F0058</td><td>A011</td><td>208.03</td><td>2025-06-26</td><td>2025-07-15T16:41:15.224Z</td><td>1064</td><td>2025-07-16T08:13:05.597Z</td><td>2025-07-16T08:13:05.597Z</td></tr><tr><td>B01065</td><td>P0166</td><td>F0031</td><td>A034</td><td>106.75</td><td>2025-07-19</td><td>2025-07-15T16:41:15.224Z</td><td>1065</td><td>2025-07-16T08:13:05.597Z</td><td>2025-07-16T08:13:05.597Z</td></tr><tr><td>B01066</td><td>P0085</td><td>F0043</td><td>A035</td><td>917.54</td><td>2025-07-01</td><td>2025-07-15T16:41:15.224Z</td><td>1066</td><td>2025-07-16T08:13:05.597Z</td><td>2025-07-16T08:13:05.597Z</td></tr><tr><td>B01067</td><td>P0067</td><td>F0076</td><td>A024</td><td>696.51</td><td>2025-07-12</td><td>2025-07-15T16:41:15.224Z</td><td>1067</td><td>2025-07-16T08:13:05.597Z</td><td>2025-07-16T08:13:05.597Z</td></tr><tr><td>B01068</td><td>P0093</td><td>F0065</td><td>A049</td><td>536.9</td><td>2025-07-16</td><td>2025-07-15T16:41:15.224Z</td><td>1068</td><td>2025-07-16T08:13:05.597Z</td><td>2025-07-16T08:13:05.597Z</td></tr><tr><td>B01069</td><td>P0118</td><td>F0051</td><td>A021</td><td>620.97</td><td>2025-07-10</td><td>2025-07-15T16:41:15.224Z</td><td>1069</td><td>2025-07-16T08:13:05.597Z</td><td>2025-07-16T08:13:05.597Z</td></tr><tr><td>B01070</td><td>P0016</td><td>F0080</td><td>A054</td><td>1228.01</td><td>2025-06-23</td><td>2025-07-15T16:41:15.224Z</td><td>1070</td><td>2025-07-16T08:13:05.597Z</td><td>2025-07-16T08:13:05.597Z</td></tr><tr><td>B01071</td><td>P0108</td><td>F0096</td><td>A015</td><td>229.94</td><td>2025-06-27</td><td>2025-07-15T16:41:15.224Z</td><td>1071</td><td>2025-07-16T08:13:05.597Z</td><td>2025-07-16T08:13:05.597Z</td></tr><tr><td>B01072</td><td>P0157</td><td>F0039</td><td>A024</td><td>826.42</td><td>2025-07-08</td><td>2025-07-15T16:41:15.224Z</td><td>1072</td><td>2025-07-16T08:13:05.597Z</td><td>2025-07-16T08:13:05.597Z</td></tr><tr><td>B01073</td><td>P0071</td><td>F0051</td><td>A044</td><td>532.86</td><td>2025-06-29</td><td>2025-07-15T16:41:15.224Z</td><td>1073</td><td>2025-07-16T08:13:05.597Z</td><td>2025-07-16T08:13:05.597Z</td></tr><tr><td>B01074</td><td>P0210</td><td>F0109</td><td>A055</td><td>760.01</td><td>2025-07-06</td><td>2025-07-15T16:41:15.224Z</td><td>1074</td><td>2025-07-16T08:13:05.597Z</td><td>2025-07-16T08:13:05.597Z</td></tr><tr><td>B01075</td><td>P0151</td><td>F0015</td><td>A013</td><td>361.17</td><td>2025-07-18</td><td>2025-07-15T16:41:15.224Z</td><td>1075</td><td>2025-07-16T08:13:05.597Z</td><td>2025-07-16T08:13:05.597Z</td></tr><tr><td>B01076</td><td>P0125</td><td>F0073</td><td>A015</td><td>1189.45</td><td>2025-07-17</td><td>2025-07-15T16:41:15.224Z</td><td>1076</td><td>2025-07-16T08:13:05.597Z</td><td>2025-07-16T08:13:05.597Z</td></tr><tr><td>B01077</td><td>P0178</td><td>F0013</td><td>A030</td><td>956.62</td><td>2025-06-28</td><td>2025-07-15T16:41:15.224Z</td><td>1077</td><td>2025-07-16T08:13:05.597Z</td><td>2025-07-16T08:13:05.597Z</td></tr><tr><td>B01078</td><td>P0158</td><td>F0045</td><td>A011</td><td>900.66</td><td>2025-07-05</td><td>2025-07-15T16:41:15.224Z</td><td>1078</td><td>2025-07-16T08:13:05.597Z</td><td>2025-07-16T08:13:05.597Z</td></tr><tr><td>B01079</td><td>P0079</td><td>F0046</td><td>A009</td><td>670.15</td><td>2025-06-25</td><td>2025-07-15T16:41:15.224Z</td><td>1079</td><td>2025-07-16T08:13:05.597Z</td><td>2025-07-16T08:13:05.597Z</td></tr><tr><td>B01080</td><td>P0207</td><td>F0021</td><td>A021</td><td>1131.41</td><td>2025-07-08</td><td>2025-07-15T16:41:15.224Z</td><td>1080</td><td>2025-07-16T08:13:05.597Z</td><td>2025-07-16T08:13:05.597Z</td></tr><tr><td>B01081</td><td>P0012</td><td>F0053</td><td>A025</td><td>1220.91</td><td>2025-06-26</td><td>2025-07-15T16:41:15.224Z</td><td>1081</td><td>2025-07-16T08:13:05.597Z</td><td>2025-07-16T08:13:05.597Z</td></tr><tr><td>B01082</td><td>P0142</td><td>F0025</td><td>A051</td><td>222.17</td><td>2025-07-15</td><td>2025-07-15T16:41:15.224Z</td><td>1082</td><td>2025-07-16T08:13:05.597Z</td><td>2025-07-16T08:13:05.597Z</td></tr><tr><td>B01083</td><td>P0194</td><td>F0107</td><td>A037</td><td>730.32</td><td>2025-07-02</td><td>2025-07-15T16:41:15.224Z</td><td>1083</td><td>2025-07-16T08:13:05.597Z</td><td>2025-07-16T08:13:05.597Z</td></tr><tr><td>B01084</td><td>P0189</td><td>F0039</td><td>A031</td><td>238.87</td><td>2025-07-17</td><td>2025-07-15T16:41:15.224Z</td><td>1084</td><td>2025-07-16T08:13:05.597Z</td><td>2025-07-16T08:13:05.597Z</td></tr><tr><td>B01085</td><td>P0043</td><td>F0063</td><td>A040</td><td>1400.62</td><td>2025-07-13</td><td>2025-07-15T16:41:15.224Z</td><td>1085</td><td>2025-07-16T08:13:05.597Z</td><td>2025-07-16T08:13:05.597Z</td></tr><tr><td>B01086</td><td>P0007</td><td>F0095</td><td>A030</td><td>1359.91</td><td>2025-07-10</td><td>2025-07-15T16:41:15.224Z</td><td>1086</td><td>2025-07-16T08:13:05.597Z</td><td>2025-07-16T08:13:05.597Z</td></tr><tr><td>B01087</td><td>P0071</td><td>F0103</td><td>A019</td><td>121.15</td><td>2025-07-09</td><td>2025-07-15T16:41:15.224Z</td><td>1087</td><td>2025-07-16T08:13:05.597Z</td><td>2025-07-16T08:13:05.597Z</td></tr><tr><td>B01088</td><td>P0189</td><td>F0075</td><td>A026</td><td>392.91</td><td>2025-07-13</td><td>2025-07-15T16:41:15.224Z</td><td>1088</td><td>2025-07-16T08:13:05.597Z</td><td>2025-07-16T08:13:05.597Z</td></tr><tr><td>B01089</td><td>P0089</td><td>F0049</td><td>A015</td><td>519.2</td><td>2025-06-24</td><td>2025-07-15T16:41:15.224Z</td><td>1089</td><td>2025-07-16T08:13:05.597Z</td><td>2025-07-16T08:13:05.597Z</td></tr><tr><td>B01090</td><td>P0107</td><td>F0014</td><td>A041</td><td>1346.32</td><td>2025-06-23</td><td>2025-07-15T16:41:15.224Z</td><td>1090</td><td>2025-07-16T08:13:05.597Z</td><td>2025-07-16T08:13:05.597Z</td></tr><tr><td>B01091</td><td>P0106</td><td>F0017</td><td>A042</td><td>1035.02</td><td>2025-07-16</td><td>2025-07-15T16:41:15.224Z</td><td>1091</td><td>2025-07-16T08:13:05.597Z</td><td>2025-07-16T08:13:05.597Z</td></tr><tr><td>B01092</td><td>P0117</td><td>F0041</td><td>A021</td><td>1276.49</td><td>2025-06-22</td><td>2025-07-15T16:41:15.224Z</td><td>1092</td><td>2025-07-16T08:13:05.597Z</td><td>2025-07-16T08:13:05.597Z</td></tr><tr><td>B01093</td><td>P0104</td><td>F0003</td><td>A045</td><td>226.75</td><td>2025-07-06</td><td>2025-07-15T16:41:15.224Z</td><td>1093</td><td>2025-07-16T08:13:05.597Z</td><td>2025-07-16T08:13:05.597Z</td></tr><tr><td>B01094</td><td>P0040</td><td>F0027</td><td>A054</td><td>1497.91</td><td>2025-07-11</td><td>2025-07-15T16:41:15.224Z</td><td>1094</td><td>2025-07-16T08:13:05.597Z</td><td>2025-07-16T08:13:05.597Z</td></tr><tr><td>B01095</td><td>P0048</td><td>F0041</td><td>A029</td><td>249.02</td><td>2025-07-14</td><td>2025-07-15T16:41:15.224Z</td><td>1095</td><td>2025-07-16T08:13:05.597Z</td><td>2025-07-16T08:13:05.597Z</td></tr><tr><td>B01096</td><td>P0030</td><td>F0044</td><td>A022</td><td>1465.69</td><td>2025-07-12</td><td>2025-07-15T16:41:15.224Z</td><td>1096</td><td>2025-07-16T08:13:05.597Z</td><td>2025-07-16T08:13:05.597Z</td></tr><tr><td>B01097</td><td>P0063</td><td>F0010</td><td>A009</td><td>293.92</td><td>2025-07-18</td><td>2025-07-15T16:41:15.224Z</td><td>1097</td><td>2025-07-16T08:13:05.597Z</td><td>2025-07-16T08:13:05.597Z</td></tr><tr><td>B01098</td><td>P0212</td><td>F0040</td><td>A049</td><td>936.89</td><td>2025-07-08</td><td>2025-07-15T16:41:15.224Z</td><td>1098</td><td>2025-07-16T08:13:05.597Z</td><td>2025-07-16T08:13:05.597Z</td></tr><tr><td>B01099</td><td>P0029</td><td>F0093</td><td>A033</td><td>1444.53</td><td>2025-07-11</td><td>2025-07-15T16:41:15.224Z</td><td>1099</td><td>2025-07-16T08:13:05.597Z</td><td>2025-07-16T08:13:05.597Z</td></tr><tr><td>B01100</td><td>P0088</td><td>F0074</td><td>A051</td><td>1446.66</td><td>2025-07-01</td><td>2025-07-15T16:41:15.224Z</td><td>1100</td><td>2025-07-16T08:13:05.597Z</td><td>2025-07-16T08:13:05.597Z</td></tr><tr><td>B01101</td><td>P0046</td><td>F0001</td><td>A039</td><td>1222.87</td><td>2025-06-24</td><td>2025-07-15T16:41:15.224Z</td><td>1101</td><td>2025-07-16T08:13:05.597Z</td><td>2025-07-16T08:13:05.597Z</td></tr><tr><td>B01102</td><td>P0035</td><td>F0053</td><td>A027</td><td>411.87</td><td>2025-07-16</td><td>2025-07-15T16:41:15.224Z</td><td>1102</td><td>2025-07-16T08:13:05.597Z</td><td>2025-07-16T08:13:05.597Z</td></tr><tr><td>B01103</td><td>P0218</td><td>F0089</td><td>A023</td><td>722.6</td><td>2025-07-07</td><td>2025-07-15T16:41:15.224Z</td><td>1103</td><td>2025-07-16T08:13:05.597Z</td><td>2025-07-16T08:13:05.597Z</td></tr><tr><td>B01104</td><td>P0150</td><td>F0044</td><td>A051</td><td>1471.71</td><td>2025-07-20</td><td>2025-07-15T16:41:15.224Z</td><td>1104</td><td>2025-07-16T08:13:05.597Z</td><td>2025-07-16T08:13:05.597Z</td></tr><tr><td>B01105</td><td>P0180</td><td>F0017</td><td>A053</td><td>1132.14</td><td>2025-07-13</td><td>2025-07-15T16:41:15.224Z</td><td>1105</td><td>2025-07-16T08:13:05.597Z</td><td>2025-07-16T08:13:05.597Z</td></tr><tr><td>B01106</td><td>P0041</td><td>F0008</td><td>A028</td><td>1393.96</td><td>2025-06-25</td><td>2025-07-15T16:41:15.224Z</td><td>1106</td><td>2025-07-16T08:13:05.597Z</td><td>2025-07-16T08:13:05.597Z</td></tr><tr><td>B01107</td><td>P0163</td><td>F0006</td><td>A019</td><td>1428.37</td><td>2025-06-28</td><td>2025-07-15T16:41:15.224Z</td><td>1107</td><td>2025-07-16T08:13:05.597Z</td><td>2025-07-16T08:13:05.597Z</td></tr><tr><td>B01108</td><td>P0178</td><td>F0110</td><td>A029</td><td>1114.11</td><td>2025-07-21</td><td>2025-07-15T16:41:15.224Z</td><td>1108</td><td>2025-07-16T08:13:05.597Z</td><td>2025-07-16T08:13:05.597Z</td></tr><tr><td>B01109</td><td>P0008</td><td>F0059</td><td>A036</td><td>449.25</td><td>2025-07-08</td><td>2025-07-15T16:41:15.224Z</td><td>1109</td><td>2025-07-16T08:13:05.597Z</td><td>2025-07-16T08:13:05.597Z</td></tr><tr><td>B01110</td><td>P0175</td><td>F0069</td><td>A043</td><td>1422.48</td><td>2025-06-24</td><td>2025-07-15T16:41:15.224Z</td><td>1110</td><td>2025-07-16T08:13:05.597Z</td><td>2025-07-16T08:13:05.597Z</td></tr><tr><td>B01111</td><td>P0071</td><td>F0108</td><td>A054</td><td>1495.37</td><td>2025-07-17</td><td>2025-07-15T16:41:15.224Z</td><td>1111</td><td>2025-07-16T08:13:05.597Z</td><td>2025-07-16T08:13:05.597Z</td></tr><tr><td>B01112</td><td>P0219</td><td>F0106</td><td>A007</td><td>1014.92</td><td>2025-07-10</td><td>2025-07-15T16:41:15.224Z</td><td>1112</td><td>2025-07-16T08:13:05.597Z</td><td>2025-07-16T08:13:05.597Z</td></tr><tr><td>B01113</td><td>P0057</td><td>F0066</td><td>A019</td><td>1394.96</td><td>2025-07-06</td><td>2025-07-15T16:41:15.224Z</td><td>1113</td><td>2025-07-16T08:13:05.597Z</td><td>2025-07-16T08:13:05.597Z</td></tr><tr><td>B01114</td><td>P0218</td><td>F0070</td><td>A025</td><td>762.53</td><td>2025-06-26</td><td>2025-07-15T16:41:15.224Z</td><td>1114</td><td>2025-07-16T08:13:05.597Z</td><td>2025-07-16T08:13:05.597Z</td></tr><tr><td>B01115</td><td>P0183</td><td>F0017</td><td>A041</td><td>157.89</td><td>2025-07-20</td><td>2025-07-15T16:41:15.224Z</td><td>1115</td><td>2025-07-16T08:13:05.597Z</td><td>2025-07-16T08:13:05.597Z</td></tr><tr><td>B01116</td><td>P0074</td><td>F0005</td><td>A036</td><td>1379.18</td><td>2025-06-25</td><td>2025-07-15T16:41:15.224Z</td><td>1116</td><td>2025-07-16T08:13:05.597Z</td><td>2025-07-16T08:13:05.597Z</td></tr><tr><td>B01117</td><td>P0076</td><td>F0035</td><td>A034</td><td>825.6</td><td>2025-06-23</td><td>2025-07-15T16:41:15.224Z</td><td>1117</td><td>2025-07-16T08:13:05.597Z</td><td>2025-07-16T08:13:05.597Z</td></tr><tr><td>B01118</td><td>P0149</td><td>F0052</td><td>A026</td><td>1244.42</td><td>2025-07-11</td><td>2025-07-15T16:41:15.224Z</td><td>1118</td><td>2025-07-16T08:13:05.597Z</td><td>2025-07-16T08:13:05.597Z</td></tr><tr><td>B01119</td><td>P0105</td><td>F0080</td><td>A017</td><td>490.22</td><td>2025-07-19</td><td>2025-07-15T16:41:15.224Z</td><td>1119</td><td>2025-07-16T08:13:05.597Z</td><td>2025-07-16T08:13:05.597Z</td></tr><tr><td>B01120</td><td>P0168</td><td>F0071</td><td>A052</td><td>175.84</td><td>2025-07-01</td><td>2025-07-15T16:41:15.224Z</td><td>1120</td><td>2025-07-16T08:13:05.597Z</td><td>2025-07-16T08:13:05.597Z</td></tr><tr><td>B01121</td><td>P0050</td><td>F0071</td><td>A007</td><td>421.03</td><td>2025-06-22</td><td>2025-07-15T16:41:15.224Z</td><td>1121</td><td>2025-07-16T08:13:05.597Z</td><td>2025-07-16T08:13:05.597Z</td></tr><tr><td>B01122</td><td>P0055</td><td>F0067</td><td>A011</td><td>698.87</td><td>2025-06-22</td><td>2025-07-15T16:41:15.224Z</td><td>1122</td><td>2025-07-16T08:13:05.597Z</td><td>2025-07-16T08:13:05.597Z</td></tr><tr><td>B01123</td><td>P0102</td><td>F0080</td><td>A046</td><td>1158.64</td><td>2025-06-28</td><td>2025-07-15T16:41:15.224Z</td><td>1123</td><td>2025-07-16T08:13:05.597Z</td><td>2025-07-16T08:13:05.597Z</td></tr><tr><td>B01124</td><td>P0087</td><td>F0028</td><td>A025</td><td>926.94</td><td>2025-07-04</td><td>2025-07-15T16:41:15.224Z</td><td>1124</td><td>2025-07-16T08:13:05.597Z</td><td>2025-07-16T08:13:05.597Z</td></tr><tr><td>B01125</td><td>P0002</td><td>F0057</td><td>A053</td><td>144.35</td><td>2025-07-21</td><td>2025-07-15T16:41:15.224Z</td><td>1125</td><td>2025-07-16T08:13:05.597Z</td><td>2025-07-16T08:13:05.597Z</td></tr><tr><td>B01126</td><td>P0018</td><td>F0054</td><td>A047</td><td>841.49</td><td>2025-06-30</td><td>2025-07-15T16:41:15.224Z</td><td>1126</td><td>2025-07-16T08:13:05.597Z</td><td>2025-07-16T08:13:05.597Z</td></tr><tr><td>B01127</td><td>P0191</td><td>F0019</td><td>A020</td><td>1374.11</td><td>2025-07-05</td><td>2025-07-15T16:41:15.224Z</td><td>1127</td><td>2025-07-16T08:13:05.597Z</td><td>2025-07-16T08:13:05.597Z</td></tr><tr><td>B01128</td><td>P0105</td><td>F0103</td><td>A032</td><td>303.72</td><td>2025-06-25</td><td>2025-07-15T16:41:15.224Z</td><td>1128</td><td>2025-07-16T08:13:05.597Z</td><td>2025-07-16T08:13:05.597Z</td></tr><tr><td>B01129</td><td>P0219</td><td>F0060</td><td>A014</td><td>515.43</td><td>2025-06-24</td><td>2025-07-15T16:41:15.224Z</td><td>1129</td><td>2025-07-16T08:13:05.597Z</td><td>2025-07-16T08:13:05.597Z</td></tr><tr><td>B01130</td><td>P0168</td><td>F0073</td><td>A024</td><td>294.62</td><td>2025-07-13</td><td>2025-07-15T16:41:15.224Z</td><td>1130</td><td>2025-07-16T08:13:05.597Z</td><td>2025-07-16T08:13:05.597Z</td></tr><tr><td>B01131</td><td>P0090</td><td>F0075</td><td>A020</td><td>251.3</td><td>2025-07-05</td><td>2025-07-15T16:41:15.224Z</td><td>1131</td><td>2025-07-16T08:13:05.597Z</td><td>2025-07-16T08:13:05.597Z</td></tr><tr><td>B01132</td><td>P0169</td><td>F0028</td><td>A031</td><td>684.29</td><td>2025-07-06</td><td>2025-07-15T16:41:15.224Z</td><td>1132</td><td>2025-07-16T08:13:05.597Z</td><td>2025-07-16T08:13:05.597Z</td></tr><tr><td>B01133</td><td>P0133</td><td>F0048</td><td>A003</td><td>403.93</td><td>2025-07-15</td><td>2025-07-15T16:41:15.224Z</td><td>1133</td><td>2025-07-16T08:13:05.597Z</td><td>2025-07-16T08:13:05.597Z</td></tr><tr><td>B01134</td><td>P0154</td><td>F0099</td><td>A036</td><td>665.65</td><td>2025-07-07</td><td>2025-07-15T16:41:15.224Z</td><td>1134</td><td>2025-07-16T08:13:05.597Z</td><td>2025-07-16T08:13:05.597Z</td></tr><tr><td>B01135</td><td>P0121</td><td>F0094</td><td>A023</td><td>1167.0</td><td>2025-07-19</td><td>2025-07-15T16:41:15.224Z</td><td>1135</td><td>2025-07-16T08:13:05.597Z</td><td>2025-07-16T08:13:05.597Z</td></tr><tr><td>B01136</td><td>P0190</td><td>F0084</td><td>A041</td><td>181.28</td><td>2025-07-11</td><td>2025-07-15T16:41:15.224Z</td><td>1136</td><td>2025-07-16T08:13:05.597Z</td><td>2025-07-16T08:13:05.597Z</td></tr><tr><td>B01137</td><td>P0130</td><td>F0076</td><td>A055</td><td>459.3</td><td>2025-07-11</td><td>2025-07-15T16:41:15.224Z</td><td>1137</td><td>2025-07-16T08:13:05.597Z</td><td>2025-07-16T08:13:05.597Z</td></tr><tr><td>B01138</td><td>P0077</td><td>F0060</td><td>A043</td><td>1207.12</td><td>2025-07-12</td><td>2025-07-15T16:41:15.224Z</td><td>1138</td><td>2025-07-16T08:13:05.597Z</td><td>2025-07-16T08:13:05.597Z</td></tr><tr><td>B01139</td><td>P0196</td><td>F0028</td><td>A048</td><td>160.94</td><td>2025-07-20</td><td>2025-07-15T16:41:15.224Z</td><td>1139</td><td>2025-07-16T08:13:05.597Z</td><td>2025-07-16T08:13:05.597Z</td></tr><tr><td>B01140</td><td>P0018</td><td>F0024</td><td>A035</td><td>838.91</td><td>2025-07-12</td><td>2025-07-15T16:41:15.224Z</td><td>1140</td><td>2025-07-16T08:13:05.597Z</td><td>2025-07-16T08:13:05.597Z</td></tr><tr><td>B01141</td><td>P0213</td><td>F0067</td><td>A048</td><td>873.77</td><td>2025-06-24</td><td>2025-07-15T16:41:15.224Z</td><td>1141</td><td>2025-07-16T08:13:05.597Z</td><td>2025-07-16T08:13:05.597Z</td></tr><tr><td>B01142</td><td>P0210</td><td>F0073</td><td>A002</td><td>177.3</td><td>2025-06-23</td><td>2025-07-15T16:41:15.224Z</td><td>1142</td><td>2025-07-16T08:13:05.597Z</td><td>2025-07-16T08:13:05.597Z</td></tr><tr><td>B01143</td><td>P0030</td><td>F0027</td><td>A018</td><td>1185.15</td><td>2025-06-27</td><td>2025-07-15T16:41:15.224Z</td><td>1143</td><td>2025-07-16T08:13:05.597Z</td><td>2025-07-16T08:13:05.597Z</td></tr><tr><td>B01144</td><td>P0144</td><td>F0029</td><td>A010</td><td>111.52</td><td>2025-06-24</td><td>2025-07-15T16:41:15.224Z</td><td>1144</td><td>2025-07-16T08:13:05.597Z</td><td>2025-07-16T08:13:05.597Z</td></tr><tr><td>B01145</td><td>P0162</td><td>F0079</td><td>A024</td><td>623.35</td><td>2025-07-02</td><td>2025-07-15T16:41:15.224Z</td><td>1145</td><td>2025-07-16T08:13:05.597Z</td><td>2025-07-16T08:13:05.597Z</td></tr><tr><td>B01146</td><td>P0131</td><td>F0011</td><td>A047</td><td>449.56</td><td>2025-07-20</td><td>2025-07-15T16:41:15.224Z</td><td>1146</td><td>2025-07-16T08:13:05.597Z</td><td>2025-07-16T08:13:05.597Z</td></tr><tr><td>B01147</td><td>P0056</td><td>F0094</td><td>A028</td><td>575.93</td><td>2025-07-07</td><td>2025-07-15T16:41:15.224Z</td><td>1147</td><td>2025-07-16T08:13:05.597Z</td><td>2025-07-16T08:13:05.597Z</td></tr><tr><td>B01148</td><td>P0039</td><td>F0051</td><td>A008</td><td>1426.38</td><td>2025-07-13</td><td>2025-07-15T16:41:15.224Z</td><td>1148</td><td>2025-07-16T08:13:05.597Z</td><td>2025-07-16T08:13:05.597Z</td></tr><tr><td>B01149</td><td>P0123</td><td>F0104</td><td>A001</td><td>1122.35</td><td>2025-07-13</td><td>2025-07-15T16:41:15.224Z</td><td>1149</td><td>2025-07-16T08:13:05.597Z</td><td>2025-07-16T08:13:05.597Z</td></tr><tr><td>B01150</td><td>P0063</td><td>F0011</td><td>A026</td><td>687.89</td><td>2025-07-11</td><td>2025-07-15T16:41:15.224Z</td><td>1150</td><td>2025-07-16T08:13:05.597Z</td><td>2025-07-16T08:13:05.597Z</td></tr><tr><td>B01151</td><td>P0080</td><td>F0108</td><td>A015</td><td>803.84</td><td>2025-06-30</td><td>2025-07-15T16:41:15.224Z</td><td>1151</td><td>2025-07-16T08:13:05.597Z</td><td>2025-07-16T08:13:05.597Z</td></tr><tr><td>B01152</td><td>P0034</td><td>F0109</td><td>A010</td><td>528.95</td><td>2025-07-07</td><td>2025-07-15T16:41:15.224Z</td><td>1152</td><td>2025-07-16T08:13:05.597Z</td><td>2025-07-16T08:13:05.597Z</td></tr><tr><td>B01153</td><td>P0216</td><td>F0072</td><td>A006</td><td>1242.63</td><td>2025-06-30</td><td>2025-07-15T16:41:15.224Z</td><td>1153</td><td>2025-07-16T08:13:05.597Z</td><td>2025-07-16T08:13:05.597Z</td></tr><tr><td>B01154</td><td>P0040</td><td>F0006</td><td>A046</td><td>918.22</td><td>2025-06-25</td><td>2025-07-15T16:41:15.224Z</td><td>1154</td><td>2025-07-16T08:13:05.597Z</td><td>2025-07-16T08:13:05.597Z</td></tr><tr><td>B01155</td><td>P0003</td><td>F0027</td><td>A047</td><td>716.11</td><td>2025-06-26</td><td>2025-07-15T16:41:15.224Z</td><td>1155</td><td>2025-07-16T08:13:05.597Z</td><td>2025-07-16T08:13:05.597Z</td></tr><tr><td>B01156</td><td>P0217</td><td>F0053</td><td>A029</td><td>1180.93</td><td>2025-06-30</td><td>2025-07-15T16:41:15.224Z</td><td>1156</td><td>2025-07-16T08:13:05.597Z</td><td>2025-07-16T08:13:05.597Z</td></tr><tr><td>B01157</td><td>P0008</td><td>F0068</td><td>A019</td><td>388.65</td><td>2025-07-18</td><td>2025-07-15T16:41:15.224Z</td><td>1157</td><td>2025-07-16T08:13:05.597Z</td><td>2025-07-16T08:13:05.597Z</td></tr><tr><td>B01158</td><td>P0140</td><td>F0009</td><td>A055</td><td>1054.47</td><td>2025-07-04</td><td>2025-07-15T16:41:15.224Z</td><td>1158</td><td>2025-07-16T08:13:05.597Z</td><td>2025-07-16T08:13:05.597Z</td></tr><tr><td>B01159</td><td>P0072</td><td>F0040</td><td>A023</td><td>335.06</td><td>2025-06-29</td><td>2025-07-15T16:41:15.224Z</td><td>1159</td><td>2025-07-16T08:13:05.597Z</td><td>2025-07-16T08:13:05.597Z</td></tr><tr><td>B01160</td><td>P0075</td><td>F0098</td><td>A005</td><td>948.14</td><td>2025-07-03</td><td>2025-07-15T16:41:15.224Z</td><td>1160</td><td>2025-07-16T08:13:05.597Z</td><td>2025-07-16T08:13:05.597Z</td></tr><tr><td>B01161</td><td>P0122</td><td>F0085</td><td>A041</td><td>1079.93</td><td>2025-06-27</td><td>2025-07-15T16:41:15.224Z</td><td>1161</td><td>2025-07-16T08:13:05.597Z</td><td>2025-07-16T08:13:05.597Z</td></tr><tr><td>B01162</td><td>P0060</td><td>F0103</td><td>A018</td><td>1328.0</td><td>2025-07-21</td><td>2025-07-15T16:41:15.224Z</td><td>1162</td><td>2025-07-16T08:13:05.597Z</td><td>2025-07-16T08:13:05.597Z</td></tr><tr><td>B01163</td><td>P0154</td><td>F0037</td><td>A043</td><td>694.44</td><td>2025-06-28</td><td>2025-07-15T16:41:15.224Z</td><td>1163</td><td>2025-07-16T08:13:05.597Z</td><td>2025-07-16T08:13:05.597Z</td></tr><tr><td>B01164</td><td>P0042</td><td>F0089</td><td>A014</td><td>1474.92</td><td>2025-07-10</td><td>2025-07-15T16:41:15.224Z</td><td>1164</td><td>2025-07-16T08:13:05.597Z</td><td>2025-07-16T08:13:05.597Z</td></tr><tr><td>B01165</td><td>P0209</td><td>F0093</td><td>A015</td><td>505.38</td><td>2025-07-21</td><td>2025-07-15T16:41:15.224Z</td><td>1165</td><td>2025-07-16T08:13:05.597Z</td><td>2025-07-16T08:13:05.597Z</td></tr><tr><td>B01166</td><td>P0178</td><td>F0103</td><td>A026</td><td>662.84</td><td>2025-06-25</td><td>2025-07-15T16:41:15.224Z</td><td>1166</td><td>2025-07-16T08:13:05.597Z</td><td>2025-07-16T08:13:05.597Z</td></tr><tr><td>B01167</td><td>P0201</td><td>F0085</td><td>A035</td><td>344.8</td><td>2025-06-24</td><td>2025-07-15T16:41:15.224Z</td><td>1167</td><td>2025-07-16T08:13:05.597Z</td><td>2025-07-16T08:13:05.597Z</td></tr><tr><td>B01168</td><td>P0220</td><td>F0005</td><td>A037</td><td>683.45</td><td>2025-07-15</td><td>2025-07-15T16:41:15.224Z</td><td>1168</td><td>2025-07-16T08:13:05.597Z</td><td>2025-07-16T08:13:05.597Z</td></tr><tr><td>B01169</td><td>P0092</td><td>F0083</td><td>A022</td><td>1487.77</td><td>2025-06-22</td><td>2025-07-15T16:41:15.224Z</td><td>1169</td><td>2025-07-16T08:13:05.597Z</td><td>2025-07-16T08:13:05.597Z</td></tr><tr><td>B01170</td><td>P0005</td><td>F0078</td><td>A006</td><td>897.7</td><td>2025-07-02</td><td>2025-07-15T16:41:15.224Z</td><td>1170</td><td>2025-07-16T08:13:05.597Z</td><td>2025-07-16T08:13:05.597Z</td></tr><tr><td>B01171</td><td>P0190</td><td>F0087</td><td>A051</td><td>1304.33</td><td>2025-07-03</td><td>2025-07-15T16:41:15.224Z</td><td>1171</td><td>2025-07-16T08:13:05.597Z</td><td>2025-07-16T08:13:05.597Z</td></tr><tr><td>B01172</td><td>P0073</td><td>F0058</td><td>A026</td><td>880.74</td><td>2025-07-10</td><td>2025-07-15T16:41:15.224Z</td><td>1172</td><td>2025-07-16T08:13:05.597Z</td><td>2025-07-16T08:13:05.597Z</td></tr><tr><td>B01173</td><td>P0090</td><td>F0105</td><td>A041</td><td>509.25</td><td>2025-07-08</td><td>2025-07-15T16:41:15.224Z</td><td>1173</td><td>2025-07-16T08:13:05.597Z</td><td>2025-07-16T08:13:05.597Z</td></tr><tr><td>B01174</td><td>P0017</td><td>F0069</td><td>A016</td><td>382.95</td><td>2025-06-22</td><td>2025-07-15T16:41:15.224Z</td><td>1174</td><td>2025-07-16T08:13:05.597Z</td><td>2025-07-16T08:13:05.597Z</td></tr><tr><td>B01175</td><td>P0189</td><td>F0061</td><td>A013</td><td>1462.27</td><td>2025-07-17</td><td>2025-07-15T16:41:15.224Z</td><td>1175</td><td>2025-07-16T08:13:05.597Z</td><td>2025-07-16T08:13:05.597Z</td></tr><tr><td>B01176</td><td>P0041</td><td>F0009</td><td>A016</td><td>1015.86</td><td>2025-07-04</td><td>2025-07-15T16:41:15.224Z</td><td>1176</td><td>2025-07-16T08:13:05.597Z</td><td>2025-07-16T08:13:05.597Z</td></tr><tr><td>B01177</td><td>P0026</td><td>F0073</td><td>A036</td><td>910.95</td><td>2025-07-19</td><td>2025-07-15T16:41:15.224Z</td><td>1177</td><td>2025-07-16T08:13:05.597Z</td><td>2025-07-16T08:13:05.597Z</td></tr><tr><td>B01178</td><td>P0117</td><td>F0094</td><td>A023</td><td>1247.42</td><td>2025-07-19</td><td>2025-07-15T16:41:15.224Z</td><td>1178</td><td>2025-07-16T08:13:05.597Z</td><td>2025-07-16T08:13:05.597Z</td></tr><tr><td>B01179</td><td>P0115</td><td>F0052</td><td>A017</td><td>1462.57</td><td>2025-07-04</td><td>2025-07-15T16:41:15.224Z</td><td>1179</td><td>2025-07-16T08:13:05.597Z</td><td>2025-07-16T08:13:05.597Z</td></tr><tr><td>B01180</td><td>P0081</td><td>F0087</td><td>A020</td><td>524.82</td><td>2025-07-06</td><td>2025-07-15T16:41:15.224Z</td><td>1180</td><td>2025-07-16T08:13:05.597Z</td><td>2025-07-16T08:13:05.597Z</td></tr><tr><td>B01181</td><td>P0188</td><td>F0075</td><td>A003</td><td>1493.14</td><td>2025-06-23</td><td>2025-07-15T16:41:15.224Z</td><td>1181</td><td>2025-07-16T08:13:05.597Z</td><td>2025-07-16T08:13:05.597Z</td></tr><tr><td>B01182</td><td>P0212</td><td>F0017</td><td>A012</td><td>1338.87</td><td>2025-07-04</td><td>2025-07-15T16:41:15.224Z</td><td>1182</td><td>2025-07-16T08:13:05.597Z</td><td>2025-07-16T08:13:05.597Z</td></tr><tr><td>B01183</td><td>P0174</td><td>F0105</td><td>A024</td><td>1193.63</td><td>2025-07-03</td><td>2025-07-15T16:41:15.224Z</td><td>1183</td><td>2025-07-16T08:13:05.597Z</td><td>2025-07-16T08:13:05.597Z</td></tr><tr><td>B01184</td><td>P0033</td><td>F0035</td><td>A043</td><td>184.15</td><td>2025-07-08</td><td>2025-07-15T16:41:15.224Z</td><td>1184</td><td>2025-07-16T08:13:05.597Z</td><td>2025-07-16T08:13:05.597Z</td></tr><tr><td>B01185</td><td>P0210</td><td>F0089</td><td>A033</td><td>1246.14</td><td>2025-07-18</td><td>2025-07-15T16:41:15.224Z</td><td>1185</td><td>2025-07-16T08:13:05.597Z</td><td>2025-07-16T08:13:05.597Z</td></tr><tr><td>B01186</td><td>P0073</td><td>F0044</td><td>A028</td><td>608.11</td><td>2025-07-04</td><td>2025-07-15T16:41:15.224Z</td><td>1186</td><td>2025-07-16T08:13:05.597Z</td><td>2025-07-16T08:13:05.597Z</td></tr><tr><td>B01187</td><td>P0180</td><td>F0022</td><td>A024</td><td>211.04</td><td>2025-07-19</td><td>2025-07-15T16:41:15.224Z</td><td>1187</td><td>2025-07-16T08:13:05.597Z</td><td>2025-07-16T08:13:05.597Z</td></tr><tr><td>B01188</td><td>P0041</td><td>F0100</td><td>A037</td><td>476.65</td><td>2025-07-20</td><td>2025-07-15T16:41:15.224Z</td><td>1188</td><td>2025-07-16T08:13:05.597Z</td><td>2025-07-16T08:13:05.597Z</td></tr><tr><td>B01189</td><td>P0135</td><td>F0100</td><td>A025</td><td>1390.23</td><td>2025-06-26</td><td>2025-07-15T16:41:15.224Z</td><td>1189</td><td>2025-07-16T08:13:05.597Z</td><td>2025-07-16T08:13:05.597Z</td></tr><tr><td>B01190</td><td>P0199</td><td>F0089</td><td>A005</td><td>1423.59</td><td>2025-06-24</td><td>2025-07-15T16:41:15.224Z</td><td>1190</td><td>2025-07-16T08:13:05.597Z</td><td>2025-07-16T08:13:05.597Z</td></tr><tr><td>B01191</td><td>P0019</td><td>F0107</td><td>A014</td><td>453.85</td><td>2025-06-27</td><td>2025-07-15T16:41:15.224Z</td><td>1191</td><td>2025-07-16T08:13:05.597Z</td><td>2025-07-16T08:13:05.597Z</td></tr><tr><td>B01192</td><td>P0071</td><td>F0067</td><td>A049</td><td>467.84</td><td>2025-07-15</td><td>2025-07-15T16:41:15.224Z</td><td>1192</td><td>2025-07-16T08:13:05.597Z</td><td>2025-07-16T08:13:05.597Z</td></tr><tr><td>B01193</td><td>P0036</td><td>F0099</td><td>A022</td><td>432.68</td><td>2025-06-29</td><td>2025-07-15T16:41:15.224Z</td><td>1193</td><td>2025-07-16T08:13:05.597Z</td><td>2025-07-16T08:13:05.597Z</td></tr><tr><td>B01194</td><td>P0009</td><td>F0018</td><td>A017</td><td>191.37</td><td>2025-06-30</td><td>2025-07-15T16:41:15.224Z</td><td>1194</td><td>2025-07-16T08:13:05.597Z</td><td>2025-07-16T08:13:05.597Z</td></tr><tr><td>B01195</td><td>P0150</td><td>F0099</td><td>A039</td><td>578.43</td><td>2025-06-26</td><td>2025-07-15T16:41:15.224Z</td><td>1195</td><td>2025-07-16T08:13:05.597Z</td><td>2025-07-16T08:13:05.597Z</td></tr><tr><td>B01196</td><td>P0119</td><td>F0045</td><td>A050</td><td>1316.14</td><td>2025-07-07</td><td>2025-07-15T16:41:15.224Z</td><td>1196</td><td>2025-07-16T08:13:05.597Z</td><td>2025-07-16T08:13:05.597Z</td></tr><tr><td>B01197</td><td>P0070</td><td>F0098</td><td>A015</td><td>551.21</td><td>2025-07-05</td><td>2025-07-15T16:41:15.224Z</td><td>1197</td><td>2025-07-16T08:13:05.597Z</td><td>2025-07-16T08:13:05.597Z</td></tr><tr><td>B01198</td><td>P0061</td><td>F0015</td><td>A054</td><td>265.09</td><td>2025-07-08</td><td>2025-07-15T16:41:15.224Z</td><td>1198</td><td>2025-07-16T08:13:05.597Z</td><td>2025-07-16T08:13:05.597Z</td></tr><tr><td>B01199</td><td>P0034</td><td>F0001</td><td>A014</td><td>562.54</td><td>2025-07-07</td><td>2025-07-15T16:41:15.224Z</td><td>1199</td><td>2025-07-16T08:13:05.597Z</td><td>2025-07-16T08:13:05.597Z</td></tr><tr><td>B01200</td><td>P0056</td><td>F0039</td><td>A001</td><td>702.13</td><td>2025-07-11</td><td>2025-07-15T16:41:15.224Z</td><td>1200</td><td>2025-07-16T08:13:05.597Z</td><td>2025-07-16T08:13:05.597Z</td></tr><tr><td>B01201</td><td>P0170</td><td>F0087</td><td>A002</td><td>503.96</td><td>2025-06-27</td><td>2025-07-15T16:41:15.224Z</td><td>1201</td><td>2025-07-16T08:13:05.597Z</td><td>2025-07-16T08:13:05.597Z</td></tr><tr><td>B01202</td><td>P0172</td><td>F0075</td><td>A024</td><td>1460.54</td><td>2025-06-22</td><td>2025-07-15T16:41:15.224Z</td><td>1202</td><td>2025-07-16T08:13:05.597Z</td><td>2025-07-16T08:13:05.597Z</td></tr><tr><td>B01203</td><td>P0116</td><td>F0048</td><td>A009</td><td>286.8</td><td>2025-07-13</td><td>2025-07-15T16:41:15.224Z</td><td>1203</td><td>2025-07-16T08:13:05.597Z</td><td>2025-07-16T08:13:05.597Z</td></tr><tr><td>B01204</td><td>P0083</td><td>F0064</td><td>A044</td><td>309.67</td><td>2025-07-12</td><td>2025-07-15T16:41:15.224Z</td><td>1204</td><td>2025-07-16T08:13:05.597Z</td><td>2025-07-16T08:13:05.597Z</td></tr><tr><td>B01205</td><td>P0172</td><td>F0055</td><td>A006</td><td>1402.53</td><td>2025-06-23</td><td>2025-07-15T16:41:15.224Z</td><td>1205</td><td>2025-07-16T08:13:05.597Z</td><td>2025-07-16T08:13:05.597Z</td></tr><tr><td>B01206</td><td>P0017</td><td>F0077</td><td>A012</td><td>917.53</td><td>2025-06-24</td><td>2025-07-15T16:41:15.224Z</td><td>1206</td><td>2025-07-16T08:13:05.597Z</td><td>2025-07-16T08:13:05.597Z</td></tr><tr><td>B01207</td><td>P0019</td><td>F0029</td><td>A017</td><td>1394.04</td><td>2025-07-03</td><td>2025-07-15T16:41:15.224Z</td><td>1207</td><td>2025-07-16T08:13:05.597Z</td><td>2025-07-16T08:13:05.597Z</td></tr><tr><td>B01208</td><td>P0142</td><td>F0103</td><td>A005</td><td>859.05</td><td>2025-07-20</td><td>2025-07-15T16:41:15.224Z</td><td>1208</td><td>2025-07-16T08:13:05.597Z</td><td>2025-07-16T08:13:05.597Z</td></tr><tr><td>B01209</td><td>P0140</td><td>F0004</td><td>A003</td><td>1109.52</td><td>2025-06-30</td><td>2025-07-15T16:41:15.224Z</td><td>1209</td><td>2025-07-16T08:13:05.597Z</td><td>2025-07-16T08:13:05.597Z</td></tr><tr><td>B01210</td><td>P0101</td><td>F0034</td><td>A006</td><td>152.97</td><td>2025-07-09</td><td>2025-07-15T16:41:15.224Z</td><td>1210</td><td>2025-07-16T08:13:05.597Z</td><td>2025-07-16T08:13:05.597Z</td></tr><tr><td>B01211</td><td>P0124</td><td>F0004</td><td>A033</td><td>657.75</td><td>2025-06-27</td><td>2025-07-15T16:41:15.224Z</td><td>1211</td><td>2025-07-16T08:13:05.597Z</td><td>2025-07-16T08:13:05.597Z</td></tr><tr><td>B01212</td><td>P0112</td><td>F0070</td><td>A017</td><td>571.68</td><td>2025-06-23</td><td>2025-07-15T16:41:15.224Z</td><td>1212</td><td>2025-07-16T08:13:05.597Z</td><td>2025-07-16T08:13:05.597Z</td></tr><tr><td>B01213</td><td>P0155</td><td>F0069</td><td>A018</td><td>168.5</td><td>2025-07-13</td><td>2025-07-15T16:41:15.224Z</td><td>1213</td><td>2025-07-16T08:13:05.597Z</td><td>2025-07-16T08:13:05.597Z</td></tr><tr><td>B01214</td><td>P0163</td><td>F0083</td><td>A049</td><td>477.59</td><td>2025-07-06</td><td>2025-07-15T16:41:15.224Z</td><td>1214</td><td>2025-07-16T08:13:05.597Z</td><td>2025-07-16T08:13:05.597Z</td></tr><tr><td>B01215</td><td>P0091</td><td>F0011</td><td>A054</td><td>1219.62</td><td>2025-06-23</td><td>2025-07-15T16:41:15.224Z</td><td>1215</td><td>2025-07-16T08:13:05.597Z</td><td>2025-07-16T08:13:05.597Z</td></tr><tr><td>B01216</td><td>P0168</td><td>F0004</td><td>A033</td><td>122.98</td><td>2025-07-17</td><td>2025-07-15T16:41:15.224Z</td><td>1216</td><td>2025-07-16T08:13:05.597Z</td><td>2025-07-16T08:13:05.597Z</td></tr><tr><td>B01217</td><td>P0114</td><td>F0099</td><td>A021</td><td>120.75</td><td>2025-07-18</td><td>2025-07-15T16:41:15.224Z</td><td>1217</td><td>2025-07-16T08:13:05.597Z</td><td>2025-07-16T08:13:05.597Z</td></tr><tr><td>B01218</td><td>P0096</td><td>F0098</td><td>A052</td><td>1473.27</td><td>2025-07-09</td><td>2025-07-15T16:41:15.224Z</td><td>1218</td><td>2025-07-16T08:13:05.597Z</td><td>2025-07-16T08:13:05.597Z</td></tr><tr><td>B01219</td><td>P0021</td><td>F0053</td><td>A019</td><td>1232.0</td><td>2025-07-05</td><td>2025-07-15T16:41:15.224Z</td><td>1219</td><td>2025-07-16T08:13:05.597Z</td><td>2025-07-16T08:13:05.597Z</td></tr><tr><td>B01220</td><td>P0074</td><td>F0009</td><td>A038</td><td>1178.98</td><td>2025-07-17</td><td>2025-07-15T16:41:15.224Z</td><td>1220</td><td>2025-07-16T08:13:05.597Z</td><td>2025-07-16T08:13:05.597Z</td></tr><tr><td>B01221</td><td>P0070</td><td>F0014</td><td>A041</td><td>1195.08</td><td>2025-06-24</td><td>2025-07-15T16:41:15.224Z</td><td>1221</td><td>2025-07-16T08:13:05.597Z</td><td>2025-07-16T08:13:05.597Z</td></tr><tr><td>B01222</td><td>P0174</td><td>F0063</td><td>A027</td><td>1363.82</td><td>2025-07-20</td><td>2025-07-15T16:41:15.224Z</td><td>1222</td><td>2025-07-16T08:13:05.597Z</td><td>2025-07-16T08:13:05.597Z</td></tr><tr><td>B01223</td><td>P0118</td><td>F0034</td><td>A009</td><td>117.14</td><td>2025-06-29</td><td>2025-07-15T16:41:15.224Z</td><td>1223</td><td>2025-07-16T08:13:05.597Z</td><td>2025-07-16T08:13:05.597Z</td></tr><tr><td>B01224</td><td>P0192</td><td>F0064</td><td>A016</td><td>148.06</td><td>2025-07-01</td><td>2025-07-15T16:41:15.224Z</td><td>1224</td><td>2025-07-16T08:13:05.597Z</td><td>2025-07-16T08:13:05.597Z</td></tr><tr><td>B01225</td><td>P0186</td><td>F0059</td><td>A026</td><td>829.52</td><td>2025-06-28</td><td>2025-07-15T16:41:15.224Z</td><td>1225</td><td>2025-07-16T08:13:05.597Z</td><td>2025-07-16T08:13:05.597Z</td></tr><tr><td>B01226</td><td>P0112</td><td>F0089</td><td>A035</td><td>1222.38</td><td>2025-07-09</td><td>2025-07-15T16:41:15.224Z</td><td>1226</td><td>2025-07-16T08:13:05.597Z</td><td>2025-07-16T08:13:05.597Z</td></tr><tr><td>B01227</td><td>P0196</td><td>F0068</td><td>A002</td><td>928.8</td><td>2025-07-20</td><td>2025-07-15T16:41:15.224Z</td><td>1227</td><td>2025-07-16T08:13:05.597Z</td><td>2025-07-16T08:13:05.597Z</td></tr><tr><td>B01228</td><td>P0129</td><td>F0018</td><td>A031</td><td>924.47</td><td>2025-07-14</td><td>2025-07-15T16:41:15.224Z</td><td>1228</td><td>2025-07-16T08:13:05.597Z</td><td>2025-07-16T08:13:05.597Z</td></tr><tr><td>B01229</td><td>P0106</td><td>F0097</td><td>A040</td><td>1160.44</td><td>2025-07-12</td><td>2025-07-15T16:41:15.224Z</td><td>1229</td><td>2025-07-16T08:13:05.597Z</td><td>2025-07-16T08:13:05.597Z</td></tr><tr><td>B01230</td><td>P0116</td><td>F0014</td><td>A036</td><td>263.74</td><td>2025-07-03</td><td>2025-07-15T16:41:15.224Z</td><td>1230</td><td>2025-07-16T08:13:05.597Z</td><td>2025-07-16T08:13:05.597Z</td></tr><tr><td>B01231</td><td>P0083</td><td>F0090</td><td>A054</td><td>170.34</td><td>2025-06-27</td><td>2025-07-15T16:41:15.224Z</td><td>1231</td><td>2025-07-16T08:13:05.597Z</td><td>2025-07-16T08:13:05.597Z</td></tr><tr><td>B01232</td><td>P0125</td><td>F0043</td><td>A006</td><td>1008.87</td><td>2025-07-18</td><td>2025-07-15T16:41:15.224Z</td><td>1232</td><td>2025-07-16T08:13:05.597Z</td><td>2025-07-16T08:13:05.597Z</td></tr><tr><td>B01233</td><td>P0109</td><td>F0079</td><td>A015</td><td>1239.88</td><td>2025-07-20</td><td>2025-07-15T16:41:15.224Z</td><td>1233</td><td>2025-07-16T08:13:05.597Z</td><td>2025-07-16T08:13:05.597Z</td></tr><tr><td>B01234</td><td>P0187</td><td>F0047</td><td>A039</td><td>1141.68</td><td>2025-06-26</td><td>2025-07-15T16:41:15.224Z</td><td>1234</td><td>2025-07-16T08:13:05.597Z</td><td>2025-07-16T08:13:05.597Z</td></tr><tr><td>B01235</td><td>P0140</td><td>F0033</td><td>A044</td><td>451.76</td><td>2025-07-15</td><td>2025-07-15T16:41:15.224Z</td><td>1235</td><td>2025-07-16T08:13:05.597Z</td><td>2025-07-16T08:13:05.597Z</td></tr><tr><td>B01236</td><td>P0097</td><td>F0087</td><td>A037</td><td>307.88</td><td>2025-07-18</td><td>2025-07-15T16:41:15.224Z</td><td>1236</td><td>2025-07-16T08:13:05.597Z</td><td>2025-07-16T08:13:05.597Z</td></tr><tr><td>B01237</td><td>P0106</td><td>F0008</td><td>A002</td><td>1118.78</td><td>2025-07-11</td><td>2025-07-15T16:41:15.224Z</td><td>1237</td><td>2025-07-16T08:13:05.597Z</td><td>2025-07-16T08:13:05.597Z</td></tr><tr><td>B01238</td><td>P0134</td><td>F0014</td><td>A043</td><td>792.97</td><td>2025-07-21</td><td>2025-07-15T16:41:15.224Z</td><td>1238</td><td>2025-07-16T08:13:05.597Z</td><td>2025-07-16T08:13:05.597Z</td></tr><tr><td>B01239</td><td>P0143</td><td>F0034</td><td>A055</td><td>1019.03</td><td>2025-06-26</td><td>2025-07-15T16:41:15.224Z</td><td>1239</td><td>2025-07-16T08:13:05.597Z</td><td>2025-07-16T08:13:05.597Z</td></tr><tr><td>B01240</td><td>P0101</td><td>F0061</td><td>A005</td><td>1131.47</td><td>2025-07-18</td><td>2025-07-15T16:41:15.224Z</td><td>1240</td><td>2025-07-16T08:13:05.597Z</td><td>2025-07-16T08:13:05.597Z</td></tr><tr><td>B01241</td><td>P0099</td><td>F0006</td><td>A014</td><td>1209.0</td><td>2025-06-26</td><td>2025-07-15T16:41:15.224Z</td><td>1241</td><td>2025-07-16T08:13:05.597Z</td><td>2025-07-16T08:13:05.597Z</td></tr><tr><td>B01242</td><td>P0091</td><td>F0038</td><td>A002</td><td>202.93</td><td>2025-06-27</td><td>2025-07-15T16:41:15.224Z</td><td>1242</td><td>2025-07-16T08:13:05.597Z</td><td>2025-07-16T08:13:05.597Z</td></tr><tr><td>B01243</td><td>P0049</td><td>F0043</td><td>A041</td><td>1454.44</td><td>2025-07-17</td><td>2025-07-15T16:41:15.224Z</td><td>1243</td><td>2025-07-16T08:13:05.597Z</td><td>2025-07-16T08:13:05.597Z</td></tr><tr><td>B01244</td><td>P0167</td><td>F0071</td><td>A018</td><td>1044.51</td><td>2025-07-20</td><td>2025-07-15T16:41:15.224Z</td><td>1244</td><td>2025-07-16T08:13:05.597Z</td><td>2025-07-16T08:13:05.597Z</td></tr><tr><td>B01245</td><td>P0130</td><td>F0078</td><td>A050</td><td>336.97</td><td>2025-06-29</td><td>2025-07-15T16:41:15.224Z</td><td>1245</td><td>2025-07-16T08:13:05.597Z</td><td>2025-07-16T08:13:05.597Z</td></tr><tr><td>B01246</td><td>P0091</td><td>F0077</td><td>A050</td><td>371.42</td><td>2025-07-17</td><td>2025-07-15T16:41:15.224Z</td><td>1246</td><td>2025-07-16T08:13:05.597Z</td><td>2025-07-16T08:13:05.597Z</td></tr><tr><td>B01247</td><td>P0127</td><td>F0042</td><td>A051</td><td>1163.09</td><td>2025-07-09</td><td>2025-07-15T16:41:15.224Z</td><td>1247</td><td>2025-07-16T08:13:05.597Z</td><td>2025-07-16T08:13:05.597Z</td></tr><tr><td>B01248</td><td>P0215</td><td>F0005</td><td>A041</td><td>918.32</td><td>2025-06-23</td><td>2025-07-15T16:41:15.224Z</td><td>1248</td><td>2025-07-16T08:13:05.597Z</td><td>2025-07-16T08:13:05.597Z</td></tr><tr><td>B01249</td><td>P0125</td><td>F0019</td><td>A033</td><td>1360.6</td><td>2025-07-19</td><td>2025-07-15T16:41:15.224Z</td><td>1249</td><td>2025-07-16T08:13:05.597Z</td><td>2025-07-16T08:13:05.597Z</td></tr><tr><td>B01250</td><td>P0178</td><td>F0059</td><td>A036</td><td>845.06</td><td>2025-06-23</td><td>2025-07-15T16:41:15.224Z</td><td>1250</td><td>2025-07-16T08:13:05.597Z</td><td>2025-07-16T08:13:05.597Z</td></tr><tr><td>B01251</td><td>P0217</td><td>F0036</td><td>A016</td><td>642.96</td><td>2025-07-07</td><td>2025-07-15T16:41:15.224Z</td><td>1251</td><td>2025-07-16T08:13:05.597Z</td><td>2025-07-16T08:13:05.597Z</td></tr><tr><td>B01252</td><td>P0053</td><td>F0102</td><td>A022</td><td>289.89</td><td>2025-07-10</td><td>2025-07-15T16:41:15.224Z</td><td>1252</td><td>2025-07-16T08:13:05.597Z</td><td>2025-07-16T08:13:05.597Z</td></tr><tr><td>B01253</td><td>P0098</td><td>F0015</td><td>A034</td><td>1195.35</td><td>2025-06-26</td><td>2025-07-15T16:41:15.224Z</td><td>1253</td><td>2025-07-16T08:13:05.597Z</td><td>2025-07-16T08:13:05.597Z</td></tr><tr><td>B01254</td><td>P0066</td><td>F0063</td><td>A047</td><td>911.24</td><td>2025-07-04</td><td>2025-07-15T16:41:15.224Z</td><td>1254</td><td>2025-07-16T08:13:05.597Z</td><td>2025-07-16T08:13:05.597Z</td></tr><tr><td>B01255</td><td>P0011</td><td>F0077</td><td>A052</td><td>725.24</td><td>2025-07-14</td><td>2025-07-15T16:41:15.224Z</td><td>1255</td><td>2025-07-16T08:13:05.597Z</td><td>2025-07-16T08:13:05.597Z</td></tr><tr><td>B01256</td><td>P0100</td><td>F0016</td><td>A013</td><td>367.23</td><td>2025-06-29</td><td>2025-07-15T16:41:15.224Z</td><td>1256</td><td>2025-07-16T08:13:05.597Z</td><td>2025-07-16T08:13:05.597Z</td></tr><tr><td>B01257</td><td>P0085</td><td>F0046</td><td>A052</td><td>1129.17</td><td>2025-06-27</td><td>2025-07-15T16:41:15.224Z</td><td>1257</td><td>2025-07-16T08:13:05.597Z</td><td>2025-07-16T08:13:05.597Z</td></tr><tr><td>B01258</td><td>P0024</td><td>F0027</td><td>A014</td><td>160.7</td><td>2025-07-02</td><td>2025-07-15T16:41:15.224Z</td><td>1258</td><td>2025-07-16T08:13:05.597Z</td><td>2025-07-16T08:13:05.597Z</td></tr><tr><td>B01259</td><td>P0217</td><td>F0079</td><td>A054</td><td>342.57</td><td>2025-07-08</td><td>2025-07-15T16:41:15.224Z</td><td>1259</td><td>2025-07-16T08:13:05.597Z</td><td>2025-07-16T08:13:05.597Z</td></tr><tr><td>B01260</td><td>P0012</td><td>F0062</td><td>A005</td><td>770.85</td><td>2025-06-23</td><td>2025-07-15T16:41:15.224Z</td><td>1260</td><td>2025-07-16T08:13:05.597Z</td><td>2025-07-16T08:13:05.597Z</td></tr><tr><td>B01261</td><td>P0115</td><td>F0078</td><td>A017</td><td>1324.56</td><td>2025-07-02</td><td>2025-07-15T16:41:15.224Z</td><td>1261</td><td>2025-07-16T08:13:05.597Z</td><td>2025-07-16T08:13:05.597Z</td></tr><tr><td>B01262</td><td>P0078</td><td>F0100</td><td>A025</td><td>777.64</td><td>2025-07-14</td><td>2025-07-15T16:41:15.224Z</td><td>1262</td><td>2025-07-16T08:13:05.597Z</td><td>2025-07-16T08:13:05.597Z</td></tr><tr><td>B01263</td><td>P0087</td><td>F0003</td><td>A049</td><td>423.25</td><td>2025-07-11</td><td>2025-07-15T16:41:15.224Z</td><td>1263</td><td>2025-07-16T08:13:05.597Z</td><td>2025-07-16T08:13:05.597Z</td></tr><tr><td>B01264</td><td>P0052</td><td>F0018</td><td>A045</td><td>1392.68</td><td>2025-07-16</td><td>2025-07-15T16:41:15.224Z</td><td>1264</td><td>2025-07-16T08:13:05.597Z</td><td>2025-07-16T08:13:05.597Z</td></tr><tr><td>B01265</td><td>P0170</td><td>F0017</td><td>A040</td><td>909.64</td><td>2025-07-02</td><td>2025-07-15T16:41:15.224Z</td><td>1265</td><td>2025-07-16T08:13:05.597Z</td><td>2025-07-16T08:13:05.597Z</td></tr><tr><td>B01266</td><td>P0218</td><td>F0056</td><td>A027</td><td>890.52</td><td>2025-07-06</td><td>2025-07-15T16:41:15.224Z</td><td>1266</td><td>2025-07-16T08:13:05.597Z</td><td>2025-07-16T08:13:05.597Z</td></tr><tr><td>B01267</td><td>P0168</td><td>F0106</td><td>A042</td><td>635.28</td><td>2025-06-27</td><td>2025-07-15T16:41:15.224Z</td><td>1267</td><td>2025-07-16T08:13:05.597Z</td><td>2025-07-16T08:13:05.597Z</td></tr><tr><td>B01268</td><td>P0089</td><td>F0097</td><td>A004</td><td>707.13</td><td>2025-06-24</td><td>2025-07-15T16:41:15.224Z</td><td>1268</td><td>2025-07-16T08:13:05.597Z</td><td>2025-07-16T08:13:05.597Z</td></tr><tr><td>B01269</td><td>P0022</td><td>F0070</td><td>A048</td><td>1362.51</td><td>2025-07-21</td><td>2025-07-15T16:41:15.224Z</td><td>1269</td><td>2025-07-16T08:13:05.597Z</td><td>2025-07-16T08:13:05.597Z</td></tr><tr><td>B01270</td><td>P0064</td><td>F0043</td><td>A030</td><td>968.7</td><td>2025-07-05</td><td>2025-07-15T16:41:15.224Z</td><td>1270</td><td>2025-07-16T08:13:05.597Z</td><td>2025-07-16T08:13:05.597Z</td></tr><tr><td>B01271</td><td>P0184</td><td>F0048</td><td>A001</td><td>1082.21</td><td>2025-07-18</td><td>2025-07-15T16:41:15.224Z</td><td>1271</td><td>2025-07-16T08:13:05.597Z</td><td>2025-07-16T08:13:05.597Z</td></tr><tr><td>B01272</td><td>P0219</td><td>F0090</td><td>A051</td><td>1195.83</td><td>2025-07-16</td><td>2025-07-15T16:41:15.224Z</td><td>1272</td><td>2025-07-16T08:13:05.597Z</td><td>2025-07-16T08:13:05.597Z</td></tr><tr><td>B01273</td><td>P0102</td><td>F0069</td><td>A030</td><td>1440.81</td><td>2025-07-20</td><td>2025-07-15T16:41:15.224Z</td><td>1273</td><td>2025-07-16T08:13:05.597Z</td><td>2025-07-16T08:13:05.597Z</td></tr><tr><td>B01274</td><td>P0014</td><td>F0040</td><td>A049</td><td>1355.32</td><td>2025-06-23</td><td>2025-07-15T16:41:15.224Z</td><td>1274</td><td>2025-07-16T08:13:05.597Z</td><td>2025-07-16T08:13:05.597Z</td></tr><tr><td>B01275</td><td>P0210</td><td>F0037</td><td>A047</td><td>756.19</td><td>2025-06-24</td><td>2025-07-15T16:41:15.224Z</td><td>1275</td><td>2025-07-16T08:13:05.597Z</td><td>2025-07-16T08:13:05.597Z</td></tr><tr><td>B01276</td><td>P0107</td><td>F0041</td><td>A009</td><td>803.6</td><td>2025-07-03</td><td>2025-07-15T16:41:15.224Z</td><td>1276</td><td>2025-07-16T08:13:05.597Z</td><td>2025-07-16T08:13:05.597Z</td></tr><tr><td>B01277</td><td>P0109</td><td>F0024</td><td>A050</td><td>621.95</td><td>2025-06-26</td><td>2025-07-15T16:41:15.224Z</td><td>1277</td><td>2025-07-16T08:13:05.597Z</td><td>2025-07-16T08:13:05.597Z</td></tr><tr><td>B01278</td><td>P0142</td><td>F0058</td><td>A040</td><td>640.27</td><td>2025-07-19</td><td>2025-07-15T16:41:15.224Z</td><td>1278</td><td>2025-07-16T08:13:05.597Z</td><td>2025-07-16T08:13:05.597Z</td></tr><tr><td>B01279</td><td>P0025</td><td>F0104</td><td>A036</td><td>1314.94</td><td>2025-06-26</td><td>2025-07-15T16:41:15.224Z</td><td>1279</td><td>2025-07-16T08:13:05.597Z</td><td>2025-07-16T08:13:05.597Z</td></tr><tr><td>B01280</td><td>P0091</td><td>F0056</td><td>A027</td><td>101.07</td><td>2025-07-03</td><td>2025-07-15T16:41:15.224Z</td><td>1280</td><td>2025-07-16T08:13:05.597Z</td><td>2025-07-16T08:13:05.597Z</td></tr><tr><td>B01281</td><td>P0068</td><td>F0031</td><td>A047</td><td>229.58</td><td>2025-07-05</td><td>2025-07-15T16:41:15.224Z</td><td>1281</td><td>2025-07-16T08:13:05.597Z</td><td>2025-07-16T08:13:05.597Z</td></tr><tr><td>B01282</td><td>P0212</td><td>F0095</td><td>A042</td><td>1269.94</td><td>2025-07-04</td><td>2025-07-15T16:41:15.224Z</td><td>1282</td><td>2025-07-16T08:13:05.597Z</td><td>2025-07-16T08:13:05.597Z</td></tr><tr><td>B01283</td><td>P0110</td><td>F0077</td><td>A038</td><td>123.76</td><td>2025-06-26</td><td>2025-07-15T16:41:15.224Z</td><td>1283</td><td>2025-07-16T08:13:05.597Z</td><td>2025-07-16T08:13:05.597Z</td></tr><tr><td>B01284</td><td>P0039</td><td>F0106</td><td>A044</td><td>1309.32</td><td>2025-07-04</td><td>2025-07-15T16:41:15.224Z</td><td>1284</td><td>2025-07-16T08:13:05.597Z</td><td>2025-07-16T08:13:05.597Z</td></tr><tr><td>B01285</td><td>P0028</td><td>F0034</td><td>A031</td><td>943.69</td><td>2025-06-28</td><td>2025-07-15T16:41:15.224Z</td><td>1285</td><td>2025-07-16T08:13:05.597Z</td><td>2025-07-16T08:13:05.597Z</td></tr><tr><td>B01286</td><td>P0056</td><td>F0077</td><td>A024</td><td>395.62</td><td>2025-07-06</td><td>2025-07-15T16:41:15.224Z</td><td>1286</td><td>2025-07-16T08:13:05.597Z</td><td>2025-07-16T08:13:05.597Z</td></tr><tr><td>B01287</td><td>P0044</td><td>F0010</td><td>A007</td><td>325.9</td><td>2025-06-25</td><td>2025-07-15T16:41:15.224Z</td><td>1287</td><td>2025-07-16T08:13:05.597Z</td><td>2025-07-16T08:13:05.597Z</td></tr><tr><td>B01288</td><td>P0164</td><td>F0053</td><td>A002</td><td>432.21</td><td>2025-07-02</td><td>2025-07-15T16:41:15.224Z</td><td>1288</td><td>2025-07-16T08:13:05.597Z</td><td>2025-07-16T08:13:05.597Z</td></tr><tr><td>B01289</td><td>P0076</td><td>F0047</td><td>A035</td><td>840.83</td><td>2025-07-07</td><td>2025-07-15T16:41:15.224Z</td><td>1289</td><td>2025-07-16T08:13:05.597Z</td><td>2025-07-16T08:13:05.597Z</td></tr><tr><td>B01290</td><td>P0018</td><td>F0049</td><td>A012</td><td>562.36</td><td>2025-07-10</td><td>2025-07-15T16:41:15.224Z</td><td>1290</td><td>2025-07-16T08:13:05.597Z</td><td>2025-07-16T08:13:05.597Z</td></tr><tr><td>B01291</td><td>P0134</td><td>F0109</td><td>A046</td><td>836.51</td><td>2025-06-30</td><td>2025-07-15T16:41:15.224Z</td><td>1291</td><td>2025-07-16T08:13:05.597Z</td><td>2025-07-16T08:13:05.597Z</td></tr><tr><td>B01292</td><td>P0185</td><td>F0060</td><td>A053</td><td>1175.36</td><td>2025-07-06</td><td>2025-07-15T16:41:15.224Z</td><td>1292</td><td>2025-07-16T08:13:05.597Z</td><td>2025-07-16T08:13:05.597Z</td></tr><tr><td>B01293</td><td>P0142</td><td>F0099</td><td>A029</td><td>992.76</td><td>2025-07-11</td><td>2025-07-15T16:41:15.224Z</td><td>1293</td><td>2025-07-16T08:13:05.597Z</td><td>2025-07-16T08:13:05.597Z</td></tr><tr><td>B01294</td><td>P0143</td><td>F0016</td><td>A009</td><td>1308.75</td><td>2025-07-09</td><td>2025-07-15T16:41:15.224Z</td><td>1294</td><td>2025-07-16T08:13:05.597Z</td><td>2025-07-16T08:13:05.597Z</td></tr><tr><td>B01295</td><td>P0171</td><td>F0058</td><td>A028</td><td>661.93</td><td>2025-06-24</td><td>2025-07-15T16:41:15.224Z</td><td>1295</td><td>2025-07-16T08:13:05.597Z</td><td>2025-07-16T08:13:05.597Z</td></tr><tr><td>B01296</td><td>P0117</td><td>F0091</td><td>A047</td><td>939.21</td><td>2025-07-13</td><td>2025-07-15T16:41:15.224Z</td><td>1296</td><td>2025-07-16T08:13:05.597Z</td><td>2025-07-16T08:13:05.597Z</td></tr><tr><td>B01297</td><td>P0172</td><td>F0052</td><td>A033</td><td>104.56</td><td>2025-07-08</td><td>2025-07-15T16:41:15.224Z</td><td>1297</td><td>2025-07-16T08:13:05.597Z</td><td>2025-07-16T08:13:05.597Z</td></tr><tr><td>B01298</td><td>P0123</td><td>F0051</td><td>A003</td><td>1062.01</td><td>2025-07-12</td><td>2025-07-15T16:41:15.224Z</td><td>1298</td><td>2025-07-16T08:13:05.597Z</td><td>2025-07-16T08:13:05.597Z</td></tr><tr><td>B01299</td><td>P0150</td><td>F0005</td><td>A046</td><td>118.13</td><td>2025-07-19</td><td>2025-07-15T16:41:15.224Z</td><td>1299</td><td>2025-07-16T08:13:05.597Z</td><td>2025-07-16T08:13:05.597Z</td></tr><tr><td>B01300</td><td>P0148</td><td>F0031</td><td>A002</td><td>318.47</td><td>2025-06-27</td><td>2025-07-15T16:41:15.224Z</td><td>1300</td><td>2025-07-16T08:13:05.597Z</td><td>2025-07-16T08:13:05.597Z</td></tr></tbody></table></div>"
      ]
     },
     "metadata": {
      "application/vnd.databricks.v1+output": {
       "addedWidgets": {},
       "aggData": [],
       "aggError": "",
       "aggOverflow": false,
       "aggSchema": [],
       "aggSeriesLimitReached": false,
       "aggType": "",
       "arguments": {},
       "columnCustomDisplayInfos": {},
       "data": [
        [
         "B00001",
         "P0048",
         "F0014",
         "A048",
         850.72,
         "2025-05-29",
         "2025-07-15T16:41:15.224Z",
         1,
         "2025-07-16T08:13:05.597Z",
         "2025-07-16T08:13:05.597Z"
        ],
        [
         "B00002",
         "P0011",
         "F0052",
         "A003",
         376.63,
         "2025-06-09",
         "2025-07-15T16:41:15.224Z",
         2,
         "2025-07-16T08:13:05.597Z",
         "2025-07-16T08:13:05.597Z"
        ],
        [
         "B00003",
         "P0079",
         "F0023",
         "A012",
         534.02,
         "2025-06-03",
         "2025-07-15T16:41:15.224Z",
         3,
         "2025-07-16T08:13:05.597Z",
         "2025-07-16T08:13:05.597Z"
        ],
        [
         "B00004",
         "P0068",
         "F0001",
         "A039",
         1333.7,
         "2025-06-16",
         "2025-07-15T16:41:15.224Z",
         4,
         "2025-07-16T08:13:05.597Z",
         "2025-07-16T08:13:05.597Z"
        ],
        [
         "B00005",
         "P0189",
         "F0019",
         "A008",
         1334.96,
         "2025-06-17",
         "2025-07-15T16:41:15.224Z",
         5,
         "2025-07-16T08:13:05.597Z",
         "2025-07-16T08:13:05.597Z"
        ],
        [
         "B00006",
         "P0070",
         "F0003",
         "A004",
         296.13,
         "2025-05-18",
         "2025-07-15T16:41:15.224Z",
         6,
         "2025-07-16T08:13:05.597Z",
         "2025-07-16T08:13:05.597Z"
        ],
        [
         "B00007",
         "P0194",
         "F0068",
         "A016",
         460.14,
         "2025-04-05",
         "2025-07-15T16:41:15.224Z",
         7,
         "2025-07-16T08:13:05.597Z",
         "2025-07-16T08:13:05.597Z"
        ],
        [
         "B00008",
         "P0181",
         "F0048",
         "A017",
         1402.02,
         "2025-06-04",
         "2025-07-15T16:41:15.224Z",
         8,
         "2025-07-16T08:13:05.597Z",
         "2025-07-16T08:13:05.597Z"
        ],
        [
         "B00009",
         "P0096",
         "F0081",
         "A016",
         1444.51,
         "2025-05-16",
         "2025-07-15T16:41:15.224Z",
         9,
         "2025-07-16T08:13:05.597Z",
         "2025-07-16T08:13:05.597Z"
        ],
        [
         "B00010",
         "P0131",
         "F0089",
         "A034",
         292.39,
         "2025-05-16",
         "2025-07-15T16:41:15.224Z",
         10,
         "2025-07-16T08:13:05.597Z",
         "2025-07-16T08:13:05.597Z"
        ],
        [
         "B00011",
         "P0174",
         "F0015",
         "A047",
         1039.5,
         "2025-04-09",
         "2025-07-15T16:41:15.224Z",
         11,
         "2025-07-16T08:13:05.597Z",
         "2025-07-16T08:13:05.597Z"
        ],
        [
         "B00012",
         "P0154",
         "F0050",
         "A001",
         205.4,
         "2025-03-27",
         "2025-07-15T16:41:15.224Z",
         12,
         "2025-07-16T08:13:05.597Z",
         "2025-07-16T08:13:05.597Z"
        ],
        [
         "B00013",
         "P0199",
         "F0061",
         "A034",
         1034.42,
         "2025-03-29",
         "2025-07-15T16:41:15.224Z",
         13,
         "2025-07-16T08:13:05.597Z",
         "2025-07-16T08:13:05.597Z"
        ],
        [
         "B00014",
         "P0122",
         "F0021",
         "A047",
         788.63,
         "2025-05-03",
         "2025-07-15T16:41:15.224Z",
         14,
         "2025-07-16T08:13:05.597Z",
         "2025-07-16T08:13:05.597Z"
        ],
        [
         "B00015",
         "P0104",
         "F0036",
         "A043",
         1114.27,
         "2025-04-13",
         "2025-07-15T16:41:15.224Z",
         15,
         "2025-07-16T08:13:05.597Z",
         "2025-07-16T08:13:05.597Z"
        ],
        [
         "B00016",
         "P0006",
         "F0040",
         "A004",
         1138.92,
         "2025-06-08",
         "2025-07-15T16:41:15.224Z",
         16,
         "2025-07-16T08:13:05.597Z",
         "2025-07-16T08:13:05.597Z"
        ],
        [
         "B00017",
         "P0122",
         "F0063",
         "A013",
         753.06,
         "2025-05-12",
         "2025-07-15T16:41:15.224Z",
         17,
         "2025-07-16T08:13:05.597Z",
         "2025-07-16T08:13:05.597Z"
        ],
        [
         "B00018",
         "P0180",
         "F0026",
         "A010",
         1380.74,
         "2025-05-29",
         "2025-07-15T16:41:15.224Z",
         18,
         "2025-07-16T08:13:05.597Z",
         "2025-07-16T08:13:05.597Z"
        ],
        [
         "B00019",
         "P0117",
         "F0006",
         "A025",
         302.11,
         "2025-05-23",
         "2025-07-15T16:41:15.224Z",
         19,
         "2025-07-16T08:13:05.597Z",
         "2025-07-16T08:13:05.597Z"
        ],
        [
         "B00020",
         "P0117",
         "F0039",
         "A044",
         543.47,
         "2025-04-25",
         "2025-07-15T16:41:15.224Z",
         20,
         "2025-07-16T08:13:05.597Z",
         "2025-07-16T08:13:05.597Z"
        ],
        [
         "B00021",
         "P0167",
         "F0057",
         "A023",
         508.64,
         "2025-06-04",
         "2025-07-15T16:41:15.224Z",
         21,
         "2025-07-16T08:13:05.597Z",
         "2025-07-16T08:13:05.597Z"
        ],
        [
         "B00022",
         "P0067",
         "F0033",
         "A004",
         998.46,
         "2025-05-24",
         "2025-07-15T16:41:15.224Z",
         22,
         "2025-07-16T08:13:05.597Z",
         "2025-07-16T08:13:05.597Z"
        ],
        [
         "B00023",
         "P0030",
         "F0094",
         "A005",
         694.81,
         "2025-06-01",
         "2025-07-15T16:41:15.224Z",
         23,
         "2025-07-16T08:13:05.597Z",
         "2025-07-16T08:13:05.597Z"
        ],
        [
         "B00024",
         "P0120",
         "F0038",
         "A015",
         578.1,
         "2025-03-30",
         "2025-07-15T16:41:15.224Z",
         24,
         "2025-07-16T08:13:05.597Z",
         "2025-07-16T08:13:05.597Z"
        ],
        [
         "B00025",
         "P0001",
         "F0056",
         "A045",
         1146.1,
         "2025-05-28",
         "2025-07-15T16:41:15.224Z",
         25,
         "2025-07-16T08:13:05.597Z",
         "2025-07-16T08:13:05.597Z"
        ],
        [
         "B00026",
         "P0169",
         "F0062",
         "A036",
         1236.07,
         "2025-05-01",
         "2025-07-15T16:41:15.224Z",
         26,
         "2025-07-16T08:13:05.597Z",
         "2025-07-16T08:13:05.597Z"
        ],
        [
         "B00027",
         "P0136",
         "F0064",
         "A043",
         375.69,
         "2025-06-02",
         "2025-07-15T16:41:15.224Z",
         27,
         "2025-07-16T08:13:05.597Z",
         "2025-07-16T08:13:05.597Z"
        ],
        [
         "B00028",
         "P0068",
         "F0006",
         "A017",
         940.95,
         "2025-04-08",
         "2025-07-15T16:41:15.224Z",
         28,
         "2025-07-16T08:13:05.597Z",
         "2025-07-16T08:13:05.597Z"
        ],
        [
         "B00029",
         "P0150",
         "F0048",
         "A048",
         1116.88,
         "2025-05-16",
         "2025-07-15T16:41:15.224Z",
         29,
         "2025-07-16T08:13:05.597Z",
         "2025-07-16T08:13:05.597Z"
        ],
        [
         "B00030",
         "P0023",
         "F0050",
         "A050",
         1400.35,
         "2025-04-10",
         "2025-07-15T16:41:15.224Z",
         30,
         "2025-07-16T08:13:05.597Z",
         "2025-07-16T08:13:05.597Z"
        ],
        [
         "B00031",
         "P0037",
         "F0046",
         "A003",
         1221.82,
         "2025-03-27",
         "2025-07-15T16:41:15.224Z",
         31,
         "2025-07-16T08:13:05.597Z",
         "2025-07-16T08:13:05.597Z"
        ],
        [
         "B00032",
         "P0129",
         "F0025",
         "A001",
         782.38,
         "2025-06-17",
         "2025-07-15T16:41:15.224Z",
         32,
         "2025-07-16T08:13:05.597Z",
         "2025-07-16T08:13:05.597Z"
        ],
        [
         "B00033",
         "P0055",
         "F0031",
         "A041",
         254.2,
         "2025-05-08",
         "2025-07-15T16:41:15.224Z",
         33,
         "2025-07-16T08:13:05.597Z",
         "2025-07-16T08:13:05.597Z"
        ],
        [
         "B00034",
         "P0015",
         "F0046",
         "A045",
         273.6,
         "2025-04-16",
         "2025-07-15T16:41:15.224Z",
         34,
         "2025-07-16T08:13:05.597Z",
         "2025-07-16T08:13:05.597Z"
        ],
        [
         "B00035",
         "P0111",
         "F0086",
         "A015",
         348.86,
         "2025-05-07",
         "2025-07-15T16:41:15.224Z",
         35,
         "2025-07-16T08:13:05.597Z",
         "2025-07-16T08:13:05.597Z"
        ],
        [
         "B00036",
         "P0005",
         "F0005",
         "A029",
         949.54,
         "2025-03-28",
         "2025-07-15T16:41:15.224Z",
         36,
         "2025-07-16T08:13:05.597Z",
         "2025-07-16T08:13:05.597Z"
        ],
        [
         "B00037",
         "P0187",
         "F0043",
         "A008",
         448.11,
         "2025-04-07",
         "2025-07-15T16:41:15.224Z",
         37,
         "2025-07-16T08:13:05.597Z",
         "2025-07-16T08:13:05.597Z"
        ],
        [
         "B00038",
         "P0169",
         "F0041",
         "A023",
         949.22,
         "2025-03-31",
         "2025-07-15T16:41:15.224Z",
         38,
         "2025-07-16T08:13:05.597Z",
         "2025-07-16T08:13:05.597Z"
        ],
        [
         "B00039",
         "P0040",
         "F0028",
         "A044",
         1484.65,
         "2025-04-13",
         "2025-07-15T16:41:15.224Z",
         39,
         "2025-07-16T08:13:05.597Z",
         "2025-07-16T08:13:05.597Z"
        ],
        [
         "B00040",
         "P0095",
         "F0037",
         "A033",
         1211.11,
         "2025-04-13",
         "2025-07-15T16:41:15.224Z",
         40,
         "2025-07-16T08:13:05.597Z",
         "2025-07-16T08:13:05.597Z"
        ],
        [
         "B00041",
         "P0191",
         "F0072",
         "A048",
         1102.87,
         "2025-04-13",
         "2025-07-15T16:41:15.224Z",
         41,
         "2025-07-16T08:13:05.597Z",
         "2025-07-16T08:13:05.597Z"
        ],
        [
         "B00042",
         "P0017",
         "F0021",
         "A024",
         673.96,
         "2025-05-13",
         "2025-07-15T16:41:15.224Z",
         42,
         "2025-07-16T08:13:05.597Z",
         "2025-07-16T08:13:05.597Z"
        ],
        [
         "B00043",
         "P0047",
         "F0021",
         "A029",
         817.3,
         "2025-06-08",
         "2025-07-15T16:41:15.224Z",
         43,
         "2025-07-16T08:13:05.597Z",
         "2025-07-16T08:13:05.597Z"
        ],
        [
         "B00044",
         "P0181",
         "F0081",
         "A002",
         772.98,
         "2025-05-07",
         "2025-07-15T16:41:15.224Z",
         44,
         "2025-07-16T08:13:05.597Z",
         "2025-07-16T08:13:05.597Z"
        ],
        [
         "B00045",
         "P0025",
         "F0073",
         "A019",
         281.08,
         "2025-04-13",
         "2025-07-15T16:41:15.224Z",
         45,
         "2025-07-16T08:13:05.597Z",
         "2025-07-16T08:13:05.597Z"
        ],
        [
         "B00046",
         "P0142",
         "F0093",
         "A012",
         1020.64,
         "2025-06-01",
         "2025-07-15T16:41:15.224Z",
         46,
         "2025-07-16T08:13:05.597Z",
         "2025-07-16T08:13:05.597Z"
        ],
        [
         "B00047",
         "P0104",
         "F0090",
         "A009",
         1364.75,
         "2025-05-19",
         "2025-07-15T16:41:15.224Z",
         47,
         "2025-07-16T08:13:05.597Z",
         "2025-07-16T08:13:05.597Z"
        ],
        [
         "B00048",
         "P0155",
         "F0008",
         "A047",
         636.16,
         "2025-05-08",
         "2025-07-15T16:41:15.224Z",
         48,
         "2025-07-16T08:13:05.597Z",
         "2025-07-16T08:13:05.597Z"
        ],
        [
         "B00049",
         "P0178",
         "F0039",
         "A035",
         259.15,
         "2025-04-12",
         "2025-07-15T16:41:15.224Z",
         49,
         "2025-07-16T08:13:05.597Z",
         "2025-07-16T08:13:05.597Z"
        ],
        [
         "B00050",
         "P0019",
         "F0010",
         "A047",
         1086.8,
         "2025-03-24",
         "2025-07-15T16:41:15.224Z",
         50,
         "2025-07-16T08:13:05.597Z",
         "2025-07-16T08:13:05.597Z"
        ],
        [
         "B00051",
         "P0173",
         "F0051",
         "A036",
         293.22,
         "2025-04-12",
         "2025-07-15T16:41:15.224Z",
         51,
         "2025-07-16T08:13:05.597Z",
         "2025-07-16T08:13:05.597Z"
        ],
        [
         "B00052",
         "P0082",
         "F0051",
         "A033",
         1266.41,
         "2025-04-27",
         "2025-07-15T16:41:15.224Z",
         52,
         "2025-07-16T08:13:05.597Z",
         "2025-07-16T08:13:05.597Z"
        ],
        [
         "B00053",
         "P0108",
         "F0092",
         "A021",
         1030.15,
         "2025-03-28",
         "2025-07-15T16:41:15.224Z",
         53,
         "2025-07-16T08:13:05.597Z",
         "2025-07-16T08:13:05.597Z"
        ],
        [
         "B00054",
         "P0150",
         "F0010",
         "A030",
         405.2,
         "2025-04-28",
         "2025-07-15T16:41:15.224Z",
         54,
         "2025-07-16T08:13:05.597Z",
         "2025-07-16T08:13:05.597Z"
        ],
        [
         "B00055",
         "P0099",
         "F0007",
         "A044",
         1082.53,
         "2025-03-29",
         "2025-07-15T16:41:15.224Z",
         55,
         "2025-07-16T08:13:05.597Z",
         "2025-07-16T08:13:05.597Z"
        ],
        [
         "B00056",
         "P0041",
         "F0055",
         "A015",
         586.75,
         "2025-04-08",
         "2025-07-15T16:41:15.224Z",
         56,
         "2025-07-16T08:13:05.597Z",
         "2025-07-16T08:13:05.597Z"
        ],
        [
         "B00057",
         "P0031",
         "F0069",
         "A012",
         687.19,
         "2025-05-12",
         "2025-07-15T16:41:15.224Z",
         57,
         "2025-07-16T08:13:05.597Z",
         "2025-07-16T08:13:05.597Z"
        ],
        [
         "B00058",
         "P0119",
         "F0089",
         "A025",
         984.3,
         "2025-05-30",
         "2025-07-15T16:41:15.224Z",
         58,
         "2025-07-16T08:13:05.597Z",
         "2025-07-16T08:13:05.597Z"
        ],
        [
         "B00059",
         "P0143",
         "F0072",
         "A002",
         1394.39,
         "2025-03-29",
         "2025-07-15T16:41:15.224Z",
         59,
         "2025-07-16T08:13:05.597Z",
         "2025-07-16T08:13:05.597Z"
        ],
        [
         "B00060",
         "P0102",
         "F0053",
         "A014",
         205.11,
         "2025-04-11",
         "2025-07-15T16:41:15.224Z",
         60,
         "2025-07-16T08:13:05.597Z",
         "2025-07-16T08:13:05.597Z"
        ],
        [
         "B00061",
         "P0055",
         "F0045",
         "A004",
         108.53,
         "2025-06-09",
         "2025-07-15T16:41:15.224Z",
         61,
         "2025-07-16T08:13:05.597Z",
         "2025-07-16T08:13:05.597Z"
        ],
        [
         "B00062",
         "P0022",
         "F0080",
         "A011",
         256.27,
         "2025-04-12",
         "2025-07-15T16:41:15.224Z",
         62,
         "2025-07-16T08:13:05.597Z",
         "2025-07-16T08:13:05.597Z"
        ],
        [
         "B00063",
         "P0139",
         "F0088",
         "A041",
         134.11,
         "2025-05-13",
         "2025-07-15T16:41:15.224Z",
         63,
         "2025-07-16T08:13:05.597Z",
         "2025-07-16T08:13:05.597Z"
        ],
        [
         "B00064",
         "P0022",
         "F0037",
         "A027",
         647.13,
         "2025-05-30",
         "2025-07-15T16:41:15.224Z",
         64,
         "2025-07-16T08:13:05.597Z",
         "2025-07-16T08:13:05.597Z"
        ],
        [
         "B00065",
         "P0034",
         "F0046",
         "A009",
         722.96,
         "2025-05-20",
         "2025-07-15T16:41:15.224Z",
         65,
         "2025-07-16T08:13:05.597Z",
         "2025-07-16T08:13:05.597Z"
        ],
        [
         "B00066",
         "P0106",
         "F0066",
         "A017",
         377.26,
         "2025-03-24",
         "2025-07-15T16:41:15.224Z",
         66,
         "2025-07-16T08:13:05.597Z",
         "2025-07-16T08:13:05.597Z"
        ],
        [
         "B00067",
         "P0049",
         "F0097",
         "A010",
         1153.26,
         "2025-05-19",
         "2025-07-15T16:41:15.224Z",
         67,
         "2025-07-16T08:13:05.597Z",
         "2025-07-16T08:13:05.597Z"
        ],
        [
         "B00068",
         "P0019",
         "F0067",
         "A003",
         778.42,
         "2025-04-30",
         "2025-07-15T16:41:15.224Z",
         68,
         "2025-07-16T08:13:05.597Z",
         "2025-07-16T08:13:05.597Z"
        ],
        [
         "B00069",
         "P0061",
         "F0091",
         "A007",
         1216.18,
         "2025-04-26",
         "2025-07-15T16:41:15.224Z",
         69,
         "2025-07-16T08:13:05.597Z",
         "2025-07-16T08:13:05.597Z"
        ],
        [
         "B00070",
         "P0013",
         "F0057",
         "A004",
         484.43,
         "2025-06-14",
         "2025-07-15T16:41:15.224Z",
         70,
         "2025-07-16T08:13:05.597Z",
         "2025-07-16T08:13:05.597Z"
        ],
        [
         "B00071",
         "P0082",
         "F0050",
         "A027",
         177.66,
         "2025-05-10",
         "2025-07-15T16:41:15.224Z",
         71,
         "2025-07-16T08:13:05.597Z",
         "2025-07-16T08:13:05.597Z"
        ],
        [
         "B00072",
         "P0034",
         "F0100",
         "A001",
         1306.75,
         "2025-05-25",
         "2025-07-15T16:41:15.224Z",
         72,
         "2025-07-16T08:13:05.597Z",
         "2025-07-16T08:13:05.597Z"
        ],
        [
         "B00073",
         "P0151",
         "F0085",
         "A015",
         794.94,
         "2025-04-10",
         "2025-07-15T16:41:15.224Z",
         73,
         "2025-07-16T08:13:05.597Z",
         "2025-07-16T08:13:05.597Z"
        ],
        [
         "B00074",
         "P0067",
         "F0037",
         "A024",
         1485.6,
         "2025-05-11",
         "2025-07-15T16:41:15.224Z",
         74,
         "2025-07-16T08:13:05.597Z",
         "2025-07-16T08:13:05.597Z"
        ],
        [
         "B00075",
         "P0003",
         "F0059",
         "A023",
         529.54,
         "2025-04-14",
         "2025-07-15T16:41:15.224Z",
         75,
         "2025-07-16T08:13:05.597Z",
         "2025-07-16T08:13:05.597Z"
        ],
        [
         "B00076",
         "P0117",
         "F0088",
         "A019",
         654.98,
         "2025-06-04",
         "2025-07-15T16:41:15.224Z",
         76,
         "2025-07-16T08:13:05.597Z",
         "2025-07-16T08:13:05.597Z"
        ],
        [
         "B00077",
         "P0133",
         "F0034",
         "A037",
         736.43,
         "2025-04-21",
         "2025-07-15T16:41:15.224Z",
         77,
         "2025-07-16T08:13:05.597Z",
         "2025-07-16T08:13:05.597Z"
        ],
        [
         "B00078",
         "P0125",
         "F0053",
         "A008",
         1103.33,
         "2025-04-11",
         "2025-07-15T16:41:15.224Z",
         78,
         "2025-07-16T08:13:05.597Z",
         "2025-07-16T08:13:05.597Z"
        ],
        [
         "B00079",
         "P0138",
         "F0011",
         "A007",
         891.13,
         "2025-04-01",
         "2025-07-15T16:41:15.224Z",
         79,
         "2025-07-16T08:13:05.597Z",
         "2025-07-16T08:13:05.597Z"
        ],
        [
         "B00080",
         "P0116",
         "F0050",
         "A048",
         1267.71,
         "2025-05-19",
         "2025-07-15T16:41:15.224Z",
         80,
         "2025-07-16T08:13:05.597Z",
         "2025-07-16T08:13:05.597Z"
        ],
        [
         "B00081",
         "P0093",
         "F0002",
         "A038",
         792.3,
         "2025-03-29",
         "2025-07-15T16:41:15.224Z",
         81,
         "2025-07-16T08:13:05.597Z",
         "2025-07-16T08:13:05.597Z"
        ],
        [
         "B00082",
         "P0077",
         "F0003",
         "A008",
         1356.62,
         "2025-05-19",
         "2025-07-15T16:41:15.224Z",
         82,
         "2025-07-16T08:13:05.597Z",
         "2025-07-16T08:13:05.597Z"
        ],
        [
         "B00083",
         "P0035",
         "F0097",
         "A041",
         1120.64,
         "2025-06-11",
         "2025-07-15T16:41:15.224Z",
         83,
         "2025-07-16T08:13:05.597Z",
         "2025-07-16T08:13:05.597Z"
        ],
        [
         "B00084",
         "P0152",
         "F0042",
         "A009",
         1378.9,
         "2025-04-06",
         "2025-07-15T16:41:15.224Z",
         84,
         "2025-07-16T08:13:05.597Z",
         "2025-07-16T08:13:05.597Z"
        ],
        [
         "B00085",
         "P0181",
         "F0085",
         "A046",
         826.47,
         "2025-03-24",
         "2025-07-15T16:41:15.224Z",
         85,
         "2025-07-16T08:13:05.597Z",
         "2025-07-16T08:13:05.597Z"
        ],
        [
         "B00086",
         "P0083",
         "F0004",
         "A024",
         1345.04,
         "2025-05-26",
         "2025-07-15T16:41:15.224Z",
         86,
         "2025-07-16T08:13:05.597Z",
         "2025-07-16T08:13:05.597Z"
        ],
        [
         "B00087",
         "P0120",
         "F0050",
         "A038",
         896.66,
         "2025-03-29",
         "2025-07-15T16:41:15.224Z",
         87,
         "2025-07-16T08:13:05.597Z",
         "2025-07-16T08:13:05.597Z"
        ],
        [
         "B00088",
         "P0074",
         "F0002",
         "A003",
         828.36,
         "2025-05-07",
         "2025-07-15T16:41:15.224Z",
         88,
         "2025-07-16T08:13:05.597Z",
         "2025-07-16T08:13:05.597Z"
        ],
        [
         "B00089",
         "P0165",
         "F0006",
         "A006",
         1192.71,
         "2025-06-19",
         "2025-07-15T16:41:15.224Z",
         89,
         "2025-07-16T08:13:05.597Z",
         "2025-07-16T08:13:05.597Z"
        ],
        [
         "B00090",
         "P0048",
         "F0038",
         "A011",
         201.05,
         "2025-06-21",
         "2025-07-15T16:41:15.224Z",
         90,
         "2025-07-16T08:13:05.597Z",
         "2025-07-16T08:13:05.597Z"
        ],
        [
         "B00091",
         "P0025",
         "F0024",
         "A025",
         1201.66,
         "2025-04-27",
         "2025-07-15T16:41:15.224Z",
         91,
         "2025-07-16T08:13:05.597Z",
         "2025-07-16T08:13:05.597Z"
        ],
        [
         "B00092",
         "P0066",
         "F0092",
         "A024",
         485.91,
         "2025-03-26",
         "2025-07-15T16:41:15.224Z",
         92,
         "2025-07-16T08:13:05.597Z",
         "2025-07-16T08:13:05.597Z"
        ],
        [
         "B00093",
         "P0063",
         "F0039",
         "A001",
         716.33,
         "2025-06-01",
         "2025-07-15T16:41:15.224Z",
         93,
         "2025-07-16T08:13:05.597Z",
         "2025-07-16T08:13:05.597Z"
        ],
        [
         "B00094",
         "P0164",
         "F0020",
         "A038",
         1284.96,
         "2025-05-20",
         "2025-07-15T16:41:15.224Z",
         94,
         "2025-07-16T08:13:05.597Z",
         "2025-07-16T08:13:05.597Z"
        ],
        [
         "B00095",
         "P0186",
         "F0046",
         "A006",
         496.57,
         "2025-05-02",
         "2025-07-15T16:41:15.224Z",
         95,
         "2025-07-16T08:13:05.597Z",
         "2025-07-16T08:13:05.597Z"
        ],
        [
         "B00096",
         "P0050",
         "F0047",
         "A001",
         432.5,
         "2025-05-07",
         "2025-07-15T16:41:15.224Z",
         96,
         "2025-07-16T08:13:05.597Z",
         "2025-07-16T08:13:05.597Z"
        ],
        [
         "B00097",
         "P0141",
         "F0071",
         "A011",
         165.9,
         "2025-04-08",
         "2025-07-15T16:41:15.224Z",
         97,
         "2025-07-16T08:13:05.597Z",
         "2025-07-16T08:13:05.597Z"
        ],
        [
         "B00098",
         "P0061",
         "F0013",
         "A007",
         269.98,
         "2025-04-01",
         "2025-07-15T16:41:15.224Z",
         98,
         "2025-07-16T08:13:05.597Z",
         "2025-07-16T08:13:05.597Z"
        ],
        [
         "B00099",
         "P0132",
         "F0002",
         "A010",
         465.46,
         "2025-03-29",
         "2025-07-15T16:41:15.224Z",
         99,
         "2025-07-16T08:13:05.597Z",
         "2025-07-16T08:13:05.597Z"
        ],
        [
         "B00100",
         "P0040",
         "F0005",
         "A040",
         483.81,
         "2025-04-22",
         "2025-07-15T16:41:15.224Z",
         100,
         "2025-07-16T08:13:05.597Z",
         "2025-07-16T08:13:05.597Z"
        ],
        [
         "B00101",
         "P0012",
         "F0056",
         "A004",
         1471.79,
         "2025-04-08",
         "2025-07-15T16:41:15.224Z",
         101,
         "2025-07-16T08:13:05.597Z",
         "2025-07-16T08:13:05.597Z"
        ],
        [
         "B00102",
         "P0053",
         "F0055",
         "A036",
         962.65,
         "2025-06-17",
         "2025-07-15T16:41:15.224Z",
         102,
         "2025-07-16T08:13:05.597Z",
         "2025-07-16T08:13:05.597Z"
        ],
        [
         "B00103",
         "P0032",
         "F0073",
         "A024",
         699.12,
         "2025-06-16",
         "2025-07-15T16:41:15.224Z",
         103,
         "2025-07-16T08:13:05.597Z",
         "2025-07-16T08:13:05.597Z"
        ],
        [
         "B00104",
         "P0013",
         "F0014",
         "A031",
         441.83,
         "2025-05-04",
         "2025-07-15T16:41:15.224Z",
         104,
         "2025-07-16T08:13:05.597Z",
         "2025-07-16T08:13:05.597Z"
        ],
        [
         "B00105",
         "P0172",
         "F0038",
         "A001",
         484.75,
         "2025-06-14",
         "2025-07-15T16:41:15.224Z",
         105,
         "2025-07-16T08:13:05.597Z",
         "2025-07-16T08:13:05.597Z"
        ],
        [
         "B00106",
         "P0118",
         "F0052",
         "A036",
         646.42,
         "2025-04-27",
         "2025-07-15T16:41:15.224Z",
         106,
         "2025-07-16T08:13:05.597Z",
         "2025-07-16T08:13:05.597Z"
        ],
        [
         "B00107",
         "P0152",
         "F0008",
         "A036",
         1382.88,
         "2025-05-31",
         "2025-07-15T16:41:15.224Z",
         107,
         "2025-07-16T08:13:05.597Z",
         "2025-07-16T08:13:05.597Z"
        ],
        [
         "B00108",
         "P0093",
         "F0002",
         "A026",
         689.48,
         "2025-03-31",
         "2025-07-15T16:41:15.224Z",
         108,
         "2025-07-16T08:13:05.597Z",
         "2025-07-16T08:13:05.597Z"
        ],
        [
         "B00109",
         "P0197",
         "F0074",
         "A033",
         236.4,
         "2025-04-23",
         "2025-07-15T16:41:15.224Z",
         109,
         "2025-07-16T08:13:05.597Z",
         "2025-07-16T08:13:05.597Z"
        ],
        [
         "B00110",
         "P0105",
         "F0086",
         "A014",
         762.79,
         "2025-05-14",
         "2025-07-15T16:41:15.224Z",
         110,
         "2025-07-16T08:13:05.597Z",
         "2025-07-16T08:13:05.597Z"
        ],
        [
         "B00111",
         "P0121",
         "F0060",
         "A031",
         1292.74,
         "2025-06-01",
         "2025-07-15T16:41:15.224Z",
         111,
         "2025-07-16T08:13:05.597Z",
         "2025-07-16T08:13:05.597Z"
        ],
        [
         "B00112",
         "P0114",
         "F0053",
         "A040",
         102.97,
         "2025-05-31",
         "2025-07-15T16:41:15.224Z",
         112,
         "2025-07-16T08:13:05.597Z",
         "2025-07-16T08:13:05.597Z"
        ],
        [
         "B00113",
         "P0153",
         "F0100",
         "A015",
         1441.63,
         "2025-04-18",
         "2025-07-15T16:41:15.224Z",
         113,
         "2025-07-16T08:13:05.597Z",
         "2025-07-16T08:13:05.597Z"
        ],
        [
         "B00114",
         "P0089",
         "F0019",
         "A023",
         1397.3,
         "2025-05-25",
         "2025-07-15T16:41:15.224Z",
         114,
         "2025-07-16T08:13:05.597Z",
         "2025-07-16T08:13:05.597Z"
        ],
        [
         "B00115",
         "P0152",
         "F0071",
         "A048",
         384.14,
         "2025-04-23",
         "2025-07-15T16:41:15.224Z",
         115,
         "2025-07-16T08:13:05.597Z",
         "2025-07-16T08:13:05.597Z"
        ],
        [
         "B00116",
         "P0200",
         "F0100",
         "A004",
         1250.92,
         "2025-04-11",
         "2025-07-15T16:41:15.224Z",
         116,
         "2025-07-16T08:13:05.597Z",
         "2025-07-16T08:13:05.597Z"
        ],
        [
         "B00117",
         "P0035",
         "F0053",
         "A049",
         137.06,
         "2025-05-27",
         "2025-07-15T16:41:15.224Z",
         117,
         "2025-07-16T08:13:05.597Z",
         "2025-07-16T08:13:05.597Z"
        ],
        [
         "B00118",
         "P0018",
         "F0033",
         "A012",
         401.76,
         "2025-04-18",
         "2025-07-15T16:41:15.224Z",
         118,
         "2025-07-16T08:13:05.597Z",
         "2025-07-16T08:13:05.597Z"
        ],
        [
         "B00119",
         "P0107",
         "F0077",
         "A041",
         1490.52,
         "2025-04-24",
         "2025-07-15T16:41:15.224Z",
         119,
         "2025-07-16T08:13:05.597Z",
         "2025-07-16T08:13:05.597Z"
        ],
        [
         "B00120",
         "P0142",
         "F0064",
         "A035",
         1117.94,
         "2025-05-16",
         "2025-07-15T16:41:15.224Z",
         120,
         "2025-07-16T08:13:05.597Z",
         "2025-07-16T08:13:05.597Z"
        ],
        [
         "B00121",
         "P0012",
         "F0007",
         "A005",
         784.05,
         "2025-04-17",
         "2025-07-15T16:41:15.224Z",
         121,
         "2025-07-16T08:13:05.597Z",
         "2025-07-16T08:13:05.597Z"
        ],
        [
         "B00122",
         "P0120",
         "F0074",
         "A031",
         437.9,
         "2025-04-20",
         "2025-07-15T16:41:15.224Z",
         122,
         "2025-07-16T08:13:05.597Z",
         "2025-07-16T08:13:05.597Z"
        ],
        [
         "B00123",
         "P0016",
         "F0031",
         "A032",
         1045.6,
         "2025-05-24",
         "2025-07-15T16:41:15.224Z",
         123,
         "2025-07-16T08:13:05.597Z",
         "2025-07-16T08:13:05.597Z"
        ],
        [
         "B00124",
         "P0115",
         "F0039",
         "A041",
         1341.38,
         "2025-05-30",
         "2025-07-15T16:41:15.224Z",
         124,
         "2025-07-16T08:13:05.597Z",
         "2025-07-16T08:13:05.597Z"
        ],
        [
         "B00125",
         "P0003",
         "F0033",
         "A020",
         917.89,
         "2025-05-03",
         "2025-07-15T16:41:15.224Z",
         125,
         "2025-07-16T08:13:05.597Z",
         "2025-07-16T08:13:05.597Z"
        ],
        [
         "B00126",
         "P0064",
         "F0059",
         "A022",
         1362.7,
         "2025-04-06",
         "2025-07-15T16:41:15.224Z",
         126,
         "2025-07-16T08:13:05.597Z",
         "2025-07-16T08:13:05.597Z"
        ],
        [
         "B00127",
         "P0024",
         "F0020",
         "A042",
         589.06,
         "2025-06-06",
         "2025-07-15T16:41:15.224Z",
         127,
         "2025-07-16T08:13:05.597Z",
         "2025-07-16T08:13:05.597Z"
        ],
        [
         "B00128",
         "P0060",
         "F0088",
         "A037",
         654.72,
         "2025-06-17",
         "2025-07-15T16:41:15.224Z",
         128,
         "2025-07-16T08:13:05.597Z",
         "2025-07-16T08:13:05.597Z"
        ],
        [
         "B00129",
         "P0063",
         "F0063",
         "A023",
         940.65,
         "2025-04-19",
         "2025-07-15T16:41:15.224Z",
         129,
         "2025-07-16T08:13:05.597Z",
         "2025-07-16T08:13:05.597Z"
        ],
        [
         "B00130",
         "P0050",
         "F0081",
         "A021",
         814.86,
         "2025-04-04",
         "2025-07-15T16:41:15.224Z",
         130,
         "2025-07-16T08:13:05.597Z",
         "2025-07-16T08:13:05.597Z"
        ],
        [
         "B00131",
         "P0135",
         "F0027",
         "A003",
         903.5,
         "2025-04-18",
         "2025-07-15T16:41:15.224Z",
         131,
         "2025-07-16T08:13:05.597Z",
         "2025-07-16T08:13:05.597Z"
        ],
        [
         "B00132",
         "P0164",
         "F0038",
         "A044",
         857.38,
         "2025-04-12",
         "2025-07-15T16:41:15.224Z",
         132,
         "2025-07-16T08:13:05.597Z",
         "2025-07-16T08:13:05.597Z"
        ],
        [
         "B00133",
         "P0120",
         "F0003",
         "A046",
         917.93,
         "2025-04-17",
         "2025-07-15T16:41:15.224Z",
         133,
         "2025-07-16T08:13:05.597Z",
         "2025-07-16T08:13:05.597Z"
        ],
        [
         "B00134",
         "P0157",
         "F0017",
         "A038",
         768.43,
         "2025-04-24",
         "2025-07-15T16:41:15.224Z",
         134,
         "2025-07-16T08:13:05.597Z",
         "2025-07-16T08:13:05.597Z"
        ],
        [
         "B00135",
         "P0180",
         "F0029",
         "A028",
         697.28,
         "2025-06-09",
         "2025-07-15T16:41:15.224Z",
         135,
         "2025-07-16T08:13:05.597Z",
         "2025-07-16T08:13:05.597Z"
        ],
        [
         "B00136",
         "P0165",
         "F0010",
         "A032",
         475.11,
         "2025-06-06",
         "2025-07-15T16:41:15.224Z",
         136,
         "2025-07-16T08:13:05.597Z",
         "2025-07-16T08:13:05.597Z"
        ],
        [
         "B00137",
         "P0176",
         "F0065",
         "A049",
         1284.93,
         "2025-04-11",
         "2025-07-15T16:41:15.224Z",
         137,
         "2025-07-16T08:13:05.597Z",
         "2025-07-16T08:13:05.597Z"
        ],
        [
         "B00138",
         "P0047",
         "F0009",
         "A004",
         501.11,
         "2025-04-03",
         "2025-07-15T16:41:15.224Z",
         138,
         "2025-07-16T08:13:05.597Z",
         "2025-07-16T08:13:05.597Z"
        ],
        [
         "B00139",
         "P0110",
         "F0011",
         "A024",
         903.05,
         "2025-05-27",
         "2025-07-15T16:41:15.224Z",
         139,
         "2025-07-16T08:13:05.597Z",
         "2025-07-16T08:13:05.597Z"
        ],
        [
         "B00140",
         "P0190",
         "F0068",
         "A027",
         463.14,
         "2025-05-01",
         "2025-07-15T16:41:15.224Z",
         140,
         "2025-07-16T08:13:05.597Z",
         "2025-07-16T08:13:05.597Z"
        ],
        [
         "B00141",
         "P0014",
         "F0017",
         "A049",
         630.21,
         "2025-04-25",
         "2025-07-15T16:41:15.224Z",
         141,
         "2025-07-16T08:13:05.597Z",
         "2025-07-16T08:13:05.597Z"
        ],
        [
         "B00142",
         "P0101",
         "F0057",
         "A037",
         1478.85,
         "2025-06-21",
         "2025-07-15T16:41:15.224Z",
         142,
         "2025-07-16T08:13:05.597Z",
         "2025-07-16T08:13:05.597Z"
        ],
        [
         "B00143",
         "P0111",
         "F0084",
         "A042",
         173.83,
         "2025-03-26",
         "2025-07-15T16:41:15.224Z",
         143,
         "2025-07-16T08:13:05.597Z",
         "2025-07-16T08:13:05.597Z"
        ],
        [
         "B00144",
         "P0038",
         "F0007",
         "A004",
         1193.12,
         "2025-04-03",
         "2025-07-15T16:41:15.224Z",
         144,
         "2025-07-16T08:13:05.597Z",
         "2025-07-16T08:13:05.597Z"
        ],
        [
         "B00145",
         "P0023",
         "F0043",
         "A010",
         155.49,
         "2025-06-18",
         "2025-07-15T16:41:15.224Z",
         145,
         "2025-07-16T08:13:05.597Z",
         "2025-07-16T08:13:05.597Z"
        ],
        [
         "B00146",
         "P0085",
         "F0083",
         "A026",
         434.14,
         "2025-04-28",
         "2025-07-15T16:41:15.224Z",
         146,
         "2025-07-16T08:13:05.597Z",
         "2025-07-16T08:13:05.597Z"
        ],
        [
         "B00147",
         "P0120",
         "F0061",
         "A023",
         1280.01,
         "2025-04-11",
         "2025-07-15T16:41:15.224Z",
         147,
         "2025-07-16T08:13:05.597Z",
         "2025-07-16T08:13:05.597Z"
        ],
        [
         "B00148",
         "P0031",
         "F0099",
         "A046",
         303.25,
         "2025-05-22",
         "2025-07-15T16:41:15.224Z",
         148,
         "2025-07-16T08:13:05.597Z",
         "2025-07-16T08:13:05.597Z"
        ],
        [
         "B00149",
         "P0013",
         "F0084",
         "A040",
         971.47,
         "2025-04-14",
         "2025-07-15T16:41:15.224Z",
         149,
         "2025-07-16T08:13:05.597Z",
         "2025-07-16T08:13:05.597Z"
        ],
        [
         "B00150",
         "P0189",
         "F0082",
         "A019",
         786.57,
         "2025-06-06",
         "2025-07-15T16:41:15.224Z",
         150,
         "2025-07-16T08:13:05.597Z",
         "2025-07-16T08:13:05.597Z"
        ],
        [
         "B00151",
         "P0180",
         "F0075",
         "A046",
         1151.15,
         "2025-05-16",
         "2025-07-15T16:41:15.224Z",
         151,
         "2025-07-16T08:13:05.597Z",
         "2025-07-16T08:13:05.597Z"
        ],
        [
         "B00152",
         "P0134",
         "F0088",
         "A043",
         1375.39,
         "2025-04-23",
         "2025-07-15T16:41:15.224Z",
         152,
         "2025-07-16T08:13:05.597Z",
         "2025-07-16T08:13:05.597Z"
        ],
        [
         "B00153",
         "P0105",
         "F0063",
         "A044",
         1297.04,
         "2025-04-05",
         "2025-07-15T16:41:15.224Z",
         153,
         "2025-07-16T08:13:05.597Z",
         "2025-07-16T08:13:05.597Z"
        ],
        [
         "B00154",
         "P0160",
         "F0007",
         "A015",
         1379.91,
         "2025-05-06",
         "2025-07-15T16:41:15.224Z",
         154,
         "2025-07-16T08:13:05.597Z",
         "2025-07-16T08:13:05.597Z"
        ],
        [
         "B00155",
         "P0176",
         "F0039",
         "A001",
         784.54,
         "2025-04-20",
         "2025-07-15T16:41:15.224Z",
         155,
         "2025-07-16T08:13:05.597Z",
         "2025-07-16T08:13:05.597Z"
        ],
        [
         "B00156",
         "P0066",
         "F0091",
         "A020",
         1045.1,
         "2025-03-25",
         "2025-07-15T16:41:15.224Z",
         156,
         "2025-07-16T08:13:05.597Z",
         "2025-07-16T08:13:05.597Z"
        ],
        [
         "B00157",
         "P0048",
         "F0082",
         "A045",
         270.75,
         "2025-05-25",
         "2025-07-15T16:41:15.224Z",
         157,
         "2025-07-16T08:13:05.597Z",
         "2025-07-16T08:13:05.597Z"
        ],
        [
         "B00158",
         "P0040",
         "F0052",
         "A015",
         753.46,
         "2025-06-05",
         "2025-07-15T16:41:15.224Z",
         158,
         "2025-07-16T08:13:05.597Z",
         "2025-07-16T08:13:05.597Z"
        ],
        [
         "B00159",
         "P0120",
         "F0034",
         "A025",
         737.98,
         "2025-05-20",
         "2025-07-15T16:41:15.224Z",
         159,
         "2025-07-16T08:13:05.597Z",
         "2025-07-16T08:13:05.597Z"
        ],
        [
         "B00160",
         "P0125",
         "F0076",
         "A013",
         926.05,
         "2025-04-10",
         "2025-07-15T16:41:15.224Z",
         160,
         "2025-07-16T08:13:05.597Z",
         "2025-07-16T08:13:05.597Z"
        ],
        [
         "B00161",
         "P0159",
         "F0082",
         "A019",
         596.61,
         "2025-06-16",
         "2025-07-15T16:41:15.224Z",
         161,
         "2025-07-16T08:13:05.597Z",
         "2025-07-16T08:13:05.597Z"
        ],
        [
         "B00162",
         "P0062",
         "F0005",
         "A004",
         979.39,
         "2025-05-01",
         "2025-07-15T16:41:15.224Z",
         162,
         "2025-07-16T08:13:05.597Z",
         "2025-07-16T08:13:05.597Z"
        ],
        [
         "B00163",
         "P0110",
         "F0065",
         "A050",
         835.71,
         "2025-03-26",
         "2025-07-15T16:41:15.224Z",
         163,
         "2025-07-16T08:13:05.597Z",
         "2025-07-16T08:13:05.597Z"
        ],
        [
         "B00164",
         "P0160",
         "F0022",
         "A026",
         206.58,
         "2025-06-12",
         "2025-07-15T16:41:15.224Z",
         164,
         "2025-07-16T08:13:05.597Z",
         "2025-07-16T08:13:05.597Z"
        ],
        [
         "B00165",
         "P0021",
         "F0024",
         "A050",
         885.99,
         "2025-03-25",
         "2025-07-15T16:41:15.224Z",
         165,
         "2025-07-16T08:13:05.597Z",
         "2025-07-16T08:13:05.597Z"
        ],
        [
         "B00166",
         "P0007",
         "F0087",
         "A011",
         410.5,
         "2025-04-09",
         "2025-07-15T16:41:15.224Z",
         166,
         "2025-07-16T08:13:05.597Z",
         "2025-07-16T08:13:05.597Z"
        ],
        [
         "B00167",
         "P0064",
         "F0022",
         "A036",
         1200.09,
         "2025-05-23",
         "2025-07-15T16:41:15.224Z",
         167,
         "2025-07-16T08:13:05.597Z",
         "2025-07-16T08:13:05.597Z"
        ],
        [
         "B00168",
         "P0022",
         "F0045",
         "A010",
         1228.27,
         "2025-04-24",
         "2025-07-15T16:41:15.224Z",
         168,
         "2025-07-16T08:13:05.597Z",
         "2025-07-16T08:13:05.597Z"
        ],
        [
         "B00169",
         "P0122",
         "F0051",
         "A037",
         607.74,
         "2025-06-10",
         "2025-07-15T16:41:15.224Z",
         169,
         "2025-07-16T08:13:05.597Z",
         "2025-07-16T08:13:05.597Z"
        ],
        [
         "B00170",
         "P0139",
         "F0024",
         "A013",
         1309.81,
         "2025-03-24",
         "2025-07-15T16:41:15.224Z",
         170,
         "2025-07-16T08:13:05.597Z",
         "2025-07-16T08:13:05.597Z"
        ],
        [
         "B00171",
         "P0188",
         "F0014",
         "A050",
         1095.94,
         "2025-06-17",
         "2025-07-15T16:41:15.224Z",
         171,
         "2025-07-16T08:13:05.597Z",
         "2025-07-16T08:13:05.597Z"
        ],
        [
         "B00172",
         "P0124",
         "F0039",
         "A015",
         118.66,
         "2025-04-11",
         "2025-07-15T16:41:15.224Z",
         172,
         "2025-07-16T08:13:05.597Z",
         "2025-07-16T08:13:05.597Z"
        ],
        [
         "B00173",
         "P0172",
         "F0054",
         "A033",
         1005.97,
         "2025-05-28",
         "2025-07-15T16:41:15.224Z",
         173,
         "2025-07-16T08:13:05.597Z",
         "2025-07-16T08:13:05.597Z"
        ],
        [
         "B00174",
         "P0063",
         "F0043",
         "A045",
         265.87,
         "2025-05-17",
         "2025-07-15T16:41:15.224Z",
         174,
         "2025-07-16T08:13:05.597Z",
         "2025-07-16T08:13:05.597Z"
        ],
        [
         "B00175",
         "P0189",
         "F0100",
         "A038",
         1254.93,
         "2025-04-06",
         "2025-07-15T16:41:15.224Z",
         175,
         "2025-07-16T08:13:05.597Z",
         "2025-07-16T08:13:05.597Z"
        ],
        [
         "B00176",
         "P0114",
         "F0050",
         "A025",
         200.2,
         "2025-05-13",
         "2025-07-15T16:41:15.224Z",
         176,
         "2025-07-16T08:13:05.597Z",
         "2025-07-16T08:13:05.597Z"
        ],
        [
         "B00177",
         "P0138",
         "F0004",
         "A013",
         227.25,
         "2025-04-13",
         "2025-07-15T16:41:15.224Z",
         177,
         "2025-07-16T08:13:05.597Z",
         "2025-07-16T08:13:05.597Z"
        ],
        [
         "B00178",
         "P0015",
         "F0060",
         "A020",
         342.75,
         "2025-05-17",
         "2025-07-15T16:41:15.224Z",
         178,
         "2025-07-16T08:13:05.597Z",
         "2025-07-16T08:13:05.597Z"
        ],
        [
         "B00179",
         "P0134",
         "F0064",
         "A032",
         307.52,
         "2025-05-06",
         "2025-07-15T16:41:15.224Z",
         179,
         "2025-07-16T08:13:05.597Z",
         "2025-07-16T08:13:05.597Z"
        ],
        [
         "B00180",
         "P0046",
         "F0063",
         "A046",
         574.32,
         "2025-05-30",
         "2025-07-15T16:41:15.224Z",
         180,
         "2025-07-16T08:13:05.597Z",
         "2025-07-16T08:13:05.597Z"
        ],
        [
         "B00181",
         "P0055",
         "F0021",
         "A010",
         363.79,
         "2025-04-01",
         "2025-07-15T16:41:15.224Z",
         181,
         "2025-07-16T08:13:05.597Z",
         "2025-07-16T08:13:05.597Z"
        ],
        [
         "B00182",
         "P0114",
         "F0038",
         "A011",
         1280.71,
         "2025-04-08",
         "2025-07-15T16:41:15.224Z",
         182,
         "2025-07-16T08:13:05.597Z",
         "2025-07-16T08:13:05.597Z"
        ],
        [
         "B00183",
         "P0102",
         "F0024",
         "A007",
         680.72,
         "2025-04-03",
         "2025-07-15T16:41:15.224Z",
         183,
         "2025-07-16T08:13:05.597Z",
         "2025-07-16T08:13:05.597Z"
        ],
        [
         "B00184",
         "P0034",
         "F0070",
         "A010",
         1215.21,
         "2025-04-26",
         "2025-07-15T16:41:15.224Z",
         184,
         "2025-07-16T08:13:05.597Z",
         "2025-07-16T08:13:05.597Z"
        ],
        [
         "B00185",
         "P0138",
         "F0053",
         "A021",
         583.69,
         "2025-03-27",
         "2025-07-15T16:41:15.224Z",
         185,
         "2025-07-16T08:13:05.597Z",
         "2025-07-16T08:13:05.597Z"
        ],
        [
         "B00186",
         "P0098",
         "F0071",
         "A001",
         478.27,
         "2025-05-16",
         "2025-07-15T16:41:15.224Z",
         186,
         "2025-07-16T08:13:05.597Z",
         "2025-07-16T08:13:05.597Z"
        ],
        [
         "B00187",
         "P0032",
         "F0054",
         "A016",
         307.17,
         "2025-04-15",
         "2025-07-15T16:41:15.224Z",
         187,
         "2025-07-16T08:13:05.597Z",
         "2025-07-16T08:13:05.597Z"
        ],
        [
         "B00188",
         "P0158",
         "F0099",
         "A034",
         768.51,
         "2025-04-11",
         "2025-07-15T16:41:15.224Z",
         188,
         "2025-07-16T08:13:05.597Z",
         "2025-07-16T08:13:05.597Z"
        ],
        [
         "B00189",
         "P0086",
         "F0034",
         "A049",
         422.5,
         "2025-04-07",
         "2025-07-15T16:41:15.224Z",
         189,
         "2025-07-16T08:13:05.597Z",
         "2025-07-16T08:13:05.597Z"
        ],
        [
         "B00190",
         "P0031",
         "F0052",
         "A027",
         1322.44,
         "2025-04-08",
         "2025-07-15T16:41:15.224Z",
         190,
         "2025-07-16T08:13:05.597Z",
         "2025-07-16T08:13:05.597Z"
        ],
        [
         "B00191",
         "P0190",
         "F0093",
         "A017",
         1194.93,
         "2025-04-07",
         "2025-07-15T16:41:15.224Z",
         191,
         "2025-07-16T08:13:05.597Z",
         "2025-07-16T08:13:05.597Z"
        ],
        [
         "B00192",
         "P0172",
         "F0007",
         "A019",
         210.29,
         "2025-05-12",
         "2025-07-15T16:41:15.224Z",
         192,
         "2025-07-16T08:13:05.597Z",
         "2025-07-16T08:13:05.597Z"
        ],
        [
         "B00193",
         "P0019",
         "F0074",
         "A042",
         1374.09,
         "2025-05-16",
         "2025-07-15T16:41:15.224Z",
         193,
         "2025-07-16T08:13:05.597Z",
         "2025-07-16T08:13:05.597Z"
        ],
        [
         "B00194",
         "P0156",
         "F0019",
         "A007",
         1256.33,
         "2025-05-14",
         "2025-07-15T16:41:15.224Z",
         194,
         "2025-07-16T08:13:05.597Z",
         "2025-07-16T08:13:05.597Z"
        ],
        [
         "B00195",
         "P0022",
         "F0035",
         "A040",
         896.43,
         "2025-05-20",
         "2025-07-15T16:41:15.224Z",
         195,
         "2025-07-16T08:13:05.597Z",
         "2025-07-16T08:13:05.597Z"
        ],
        [
         "B00196",
         "P0078",
         "F0086",
         "A028",
         361.11,
         "2025-05-14",
         "2025-07-15T16:41:15.224Z",
         196,
         "2025-07-16T08:13:05.597Z",
         "2025-07-16T08:13:05.597Z"
        ],
        [
         "B00197",
         "P0050",
         "F0057",
         "A050",
         930.52,
         "2025-06-08",
         "2025-07-15T16:41:15.224Z",
         197,
         "2025-07-16T08:13:05.597Z",
         "2025-07-16T08:13:05.597Z"
        ],
        [
         "B00198",
         "P0122",
         "F0056",
         "A025",
         781.92,
         "2025-05-09",
         "2025-07-15T16:41:15.224Z",
         198,
         "2025-07-16T08:13:05.597Z",
         "2025-07-16T08:13:05.597Z"
        ],
        [
         "B00199",
         "P0134",
         "F0028",
         "A028",
         1412.6,
         "2025-04-05",
         "2025-07-15T16:41:15.224Z",
         199,
         "2025-07-16T08:13:05.597Z",
         "2025-07-16T08:13:05.597Z"
        ],
        [
         "B00200",
         "P0120",
         "F0095",
         "A025",
         449.06,
         "2025-04-03",
         "2025-07-15T16:41:15.224Z",
         200,
         "2025-07-16T08:13:05.597Z",
         "2025-07-16T08:13:05.597Z"
        ],
        [
         "B00201",
         "P0047",
         "F0004",
         "A035",
         853.65,
         "2025-04-02",
         "2025-07-15T16:41:15.224Z",
         201,
         "2025-07-16T08:13:05.597Z",
         "2025-07-16T08:13:05.597Z"
        ],
        [
         "B00202",
         "P0083",
         "F0039",
         "A019",
         467.53,
         "2025-03-24",
         "2025-07-15T16:41:15.224Z",
         202,
         "2025-07-16T08:13:05.597Z",
         "2025-07-16T08:13:05.597Z"
        ],
        [
         "B00203",
         "P0010",
         "F0094",
         "A031",
         1429.95,
         "2025-06-03",
         "2025-07-15T16:41:15.224Z",
         203,
         "2025-07-16T08:13:05.597Z",
         "2025-07-16T08:13:05.597Z"
        ],
        [
         "B00204",
         "P0123",
         "F0051",
         "A020",
         294.72,
         "2025-04-22",
         "2025-07-15T16:41:15.224Z",
         204,
         "2025-07-16T08:13:05.597Z",
         "2025-07-16T08:13:05.597Z"
        ],
        [
         "B00205",
         "P0052",
         "F0066",
         "A030",
         1415.07,
         "2025-05-24",
         "2025-07-15T16:41:15.224Z",
         205,
         "2025-07-16T08:13:05.597Z",
         "2025-07-16T08:13:05.597Z"
        ],
        [
         "B00206",
         "P0053",
         "F0096",
         "A027",
         811.14,
         "2025-04-16",
         "2025-07-15T16:41:15.224Z",
         206,
         "2025-07-16T08:13:05.597Z",
         "2025-07-16T08:13:05.597Z"
        ],
        [
         "B00207",
         "P0106",
         "F0097",
         "A020",
         537.13,
         "2025-05-31",
         "2025-07-15T16:41:15.224Z",
         207,
         "2025-07-16T08:13:05.597Z",
         "2025-07-16T08:13:05.597Z"
        ],
        [
         "B00208",
         "P0194",
         "F0067",
         "A033",
         1438.48,
         "2025-04-28",
         "2025-07-15T16:41:15.224Z",
         208,
         "2025-07-16T08:13:05.597Z",
         "2025-07-16T08:13:05.597Z"
        ],
        [
         "B00209",
         "P0015",
         "F0076",
         "A006",
         818.1,
         "2025-06-05",
         "2025-07-15T16:41:15.224Z",
         209,
         "2025-07-16T08:13:05.597Z",
         "2025-07-16T08:13:05.597Z"
        ],
        [
         "B00210",
         "P0010",
         "F0016",
         "A015",
         1381.81,
         "2025-04-12",
         "2025-07-15T16:41:15.224Z",
         210,
         "2025-07-16T08:13:05.597Z",
         "2025-07-16T08:13:05.597Z"
        ],
        [
         "B00211",
         "P0111",
         "F0075",
         "A005",
         216.98,
         "2025-06-04",
         "2025-07-15T16:41:15.224Z",
         211,
         "2025-07-16T08:13:05.597Z",
         "2025-07-16T08:13:05.597Z"
        ],
        [
         "B00212",
         "P0092",
         "F0018",
         "A012",
         1476.39,
         "2025-06-15",
         "2025-07-15T16:41:15.224Z",
         212,
         "2025-07-16T08:13:05.597Z",
         "2025-07-16T08:13:05.597Z"
        ],
        [
         "B00213",
         "P0151",
         "F0062",
         "A027",
         790.47,
         "2025-06-18",
         "2025-07-15T16:41:15.224Z",
         213,
         "2025-07-16T08:13:05.597Z",
         "2025-07-16T08:13:05.597Z"
        ],
        [
         "B00214",
         "P0062",
         "F0051",
         "A001",
         1245.96,
         "2025-04-29",
         "2025-07-15T16:41:15.224Z",
         214,
         "2025-07-16T08:13:05.597Z",
         "2025-07-16T08:13:05.597Z"
        ],
        [
         "B00215",
         "P0114",
         "F0001",
         "A045",
         131.92,
         "2025-05-24",
         "2025-07-15T16:41:15.224Z",
         215,
         "2025-07-16T08:13:05.597Z",
         "2025-07-16T08:13:05.597Z"
        ],
        [
         "B00216",
         "P0160",
         "F0003",
         "A004",
         1139.46,
         "2025-05-18",
         "2025-07-15T16:41:15.224Z",
         216,
         "2025-07-16T08:13:05.597Z",
         "2025-07-16T08:13:05.597Z"
        ],
        [
         "B00217",
         "P0195",
         "F0043",
         "A005",
         371.68,
         "2025-06-04",
         "2025-07-15T16:41:15.224Z",
         217,
         "2025-07-16T08:13:05.597Z",
         "2025-07-16T08:13:05.597Z"
        ],
        [
         "B00218",
         "P0009",
         "F0038",
         "A050",
         743.42,
         "2025-03-27",
         "2025-07-15T16:41:15.224Z",
         218,
         "2025-07-16T08:13:05.597Z",
         "2025-07-16T08:13:05.597Z"
        ],
        [
         "B00219",
         "P0047",
         "F0016",
         "A009",
         587.8,
         "2025-05-22",
         "2025-07-15T16:41:15.224Z",
         219,
         "2025-07-16T08:13:05.597Z",
         "2025-07-16T08:13:05.597Z"
        ],
        [
         "B00220",
         "P0026",
         "F0012",
         "A042",
         873.98,
         "2025-06-12",
         "2025-07-15T16:41:15.224Z",
         220,
         "2025-07-16T08:13:05.597Z",
         "2025-07-16T08:13:05.597Z"
        ],
        [
         "B00221",
         "P0199",
         "F0011",
         "A029",
         553.87,
         "2025-05-19",
         "2025-07-15T16:41:15.224Z",
         221,
         "2025-07-16T08:13:05.597Z",
         "2025-07-16T08:13:05.597Z"
        ],
        [
         "B00222",
         "P0150",
         "F0079",
         "A018",
         842.8,
         "2025-05-11",
         "2025-07-15T16:41:15.224Z",
         222,
         "2025-07-16T08:13:05.597Z",
         "2025-07-16T08:13:05.597Z"
        ],
        [
         "B00223",
         "P0118",
         "F0062",
         "A017",
         1272.72,
         "2025-04-30",
         "2025-07-15T16:41:15.224Z",
         223,
         "2025-07-16T08:13:05.597Z",
         "2025-07-16T08:13:05.597Z"
        ],
        [
         "B00224",
         "P0178",
         "F0066",
         "A004",
         1253.65,
         "2025-06-14",
         "2025-07-15T16:41:15.224Z",
         224,
         "2025-07-16T08:13:05.597Z",
         "2025-07-16T08:13:05.597Z"
        ],
        [
         "B00225",
         "P0195",
         "F0025",
         "A026",
         788.67,
         "2025-04-26",
         "2025-07-15T16:41:15.224Z",
         225,
         "2025-07-16T08:13:05.597Z",
         "2025-07-16T08:13:05.597Z"
        ],
        [
         "B00226",
         "P0181",
         "F0044",
         "A031",
         137.23,
         "2025-03-26",
         "2025-07-15T16:41:15.224Z",
         226,
         "2025-07-16T08:13:05.597Z",
         "2025-07-16T08:13:05.597Z"
        ],
        [
         "B00227",
         "P0021",
         "F0033",
         "A036",
         1189.43,
         "2025-05-09",
         "2025-07-15T16:41:15.224Z",
         227,
         "2025-07-16T08:13:05.597Z",
         "2025-07-16T08:13:05.597Z"
        ],
        [
         "B00228",
         "P0106",
         "F0054",
         "A045",
         782.09,
         "2025-05-31",
         "2025-07-15T16:41:15.224Z",
         228,
         "2025-07-16T08:13:05.597Z",
         "2025-07-16T08:13:05.597Z"
        ],
        [
         "B00229",
         "P0091",
         "F0071",
         "A013",
         784.45,
         "2025-05-29",
         "2025-07-15T16:41:15.224Z",
         229,
         "2025-07-16T08:13:05.597Z",
         "2025-07-16T08:13:05.597Z"
        ],
        [
         "B00230",
         "P0105",
         "F0092",
         "A032",
         912.04,
         "2025-06-08",
         "2025-07-15T16:41:15.224Z",
         230,
         "2025-07-16T08:13:05.597Z",
         "2025-07-16T08:13:05.597Z"
        ],
        [
         "B00231",
         "P0047",
         "F0014",
         "A046",
         725.45,
         "2025-06-11",
         "2025-07-15T16:41:15.224Z",
         231,
         "2025-07-16T08:13:05.597Z",
         "2025-07-16T08:13:05.597Z"
        ],
        [
         "B00232",
         "P0016",
         "F0008",
         "A015",
         552.76,
         "2025-04-13",
         "2025-07-15T16:41:15.224Z",
         232,
         "2025-07-16T08:13:05.597Z",
         "2025-07-16T08:13:05.597Z"
        ],
        [
         "B00233",
         "P0163",
         "F0074",
         "A011",
         632.22,
         "2025-05-12",
         "2025-07-15T16:41:15.224Z",
         233,
         "2025-07-16T08:13:05.597Z",
         "2025-07-16T08:13:05.597Z"
        ],
        [
         "B00234",
         "P0199",
         "F0028",
         "A016",
         140.13,
         "2025-04-28",
         "2025-07-15T16:41:15.224Z",
         234,
         "2025-07-16T08:13:05.597Z",
         "2025-07-16T08:13:05.597Z"
        ],
        [
         "B00235",
         "P0082",
         "F0056",
         "A009",
         410.52,
         "2025-04-22",
         "2025-07-15T16:41:15.224Z",
         235,
         "2025-07-16T08:13:05.597Z",
         "2025-07-16T08:13:05.597Z"
        ],
        [
         "B00236",
         "P0175",
         "F0032",
         "A023",
         1016.0,
         "2025-05-08",
         "2025-07-15T16:41:15.224Z",
         236,
         "2025-07-16T08:13:05.597Z",
         "2025-07-16T08:13:05.597Z"
        ],
        [
         "B00237",
         "P0082",
         "F0075",
         "A049",
         1056.94,
         "2025-05-23",
         "2025-07-15T16:41:15.224Z",
         237,
         "2025-07-16T08:13:05.597Z",
         "2025-07-16T08:13:05.597Z"
        ],
        [
         "B00238",
         "P0109",
         "F0038",
         "A028",
         626.68,
         "2025-03-30",
         "2025-07-15T16:41:15.224Z",
         238,
         "2025-07-16T08:13:05.597Z",
         "2025-07-16T08:13:05.597Z"
        ],
        [
         "B00239",
         "P0080",
         "F0020",
         "A010",
         1343.05,
         "2025-05-19",
         "2025-07-15T16:41:15.224Z",
         239,
         "2025-07-16T08:13:05.597Z",
         "2025-07-16T08:13:05.597Z"
        ],
        [
         "B00240",
         "P0119",
         "F0040",
         "A001",
         548.3,
         "2025-04-18",
         "2025-07-15T16:41:15.224Z",
         240,
         "2025-07-16T08:13:05.597Z",
         "2025-07-16T08:13:05.597Z"
        ],
        [
         "B00241",
         "P0034",
         "F0044",
         "A033",
         1156.14,
         "2025-04-27",
         "2025-07-15T16:41:15.224Z",
         241,
         "2025-07-16T08:13:05.597Z",
         "2025-07-16T08:13:05.597Z"
        ],
        [
         "B00242",
         "P0065",
         "F0065",
         "A013",
         736.16,
         "2025-05-15",
         "2025-07-15T16:41:15.224Z",
         242,
         "2025-07-16T08:13:05.597Z",
         "2025-07-16T08:13:05.597Z"
        ],
        [
         "B00243",
         "P0127",
         "F0002",
         "A036",
         860.54,
         "2025-06-04",
         "2025-07-15T16:41:15.224Z",
         243,
         "2025-07-16T08:13:05.597Z",
         "2025-07-16T08:13:05.597Z"
        ],
        [
         "B00244",
         "P0103",
         "F0021",
         "A048",
         937.71,
         "2025-06-03",
         "2025-07-15T16:41:15.224Z",
         244,
         "2025-07-16T08:13:05.597Z",
         "2025-07-16T08:13:05.597Z"
        ],
        [
         "B00245",
         "P0124",
         "F0034",
         "A037",
         524.96,
         "2025-05-01",
         "2025-07-15T16:41:15.224Z",
         245,
         "2025-07-16T08:13:05.597Z",
         "2025-07-16T08:13:05.597Z"
        ],
        [
         "B00246",
         "P0091",
         "F0002",
         "A041",
         1199.62,
         "2025-05-30",
         "2025-07-15T16:41:15.224Z",
         246,
         "2025-07-16T08:13:05.597Z",
         "2025-07-16T08:13:05.597Z"
        ],
        [
         "B00247",
         "P0112",
         "F0069",
         "A006",
         677.89,
         "2025-05-04",
         "2025-07-15T16:41:15.224Z",
         247,
         "2025-07-16T08:13:05.597Z",
         "2025-07-16T08:13:05.597Z"
        ],
        [
         "B00248",
         "P0121",
         "F0074",
         "A031",
         1418.76,
         "2025-05-16",
         "2025-07-15T16:41:15.224Z",
         248,
         "2025-07-16T08:13:05.597Z",
         "2025-07-16T08:13:05.597Z"
        ],
        [
         "B00249",
         "P0194",
         "F0086",
         "A029",
         138.44,
         "2025-04-03",
         "2025-07-15T16:41:15.224Z",
         249,
         "2025-07-16T08:13:05.597Z",
         "2025-07-16T08:13:05.597Z"
        ],
        [
         "B00250",
         "P0154",
         "F0041",
         "A014",
         259.17,
         "2025-03-27",
         "2025-07-15T16:41:15.224Z",
         250,
         "2025-07-16T08:13:05.597Z",
         "2025-07-16T08:13:05.597Z"
        ],
        [
         "B00251",
         "P0033",
         "F0047",
         "A019",
         189.02,
         "2025-05-03",
         "2025-07-15T16:41:15.224Z",
         251,
         "2025-07-16T08:13:05.597Z",
         "2025-07-16T08:13:05.597Z"
        ],
        [
         "B00252",
         "P0114",
         "F0080",
         "A002",
         1499.02,
         "2025-04-05",
         "2025-07-15T16:41:15.224Z",
         252,
         "2025-07-16T08:13:05.597Z",
         "2025-07-16T08:13:05.597Z"
        ],
        [
         "B00253",
         "P0160",
         "F0046",
         "A019",
         481.21,
         "2025-05-29",
         "2025-07-15T16:41:15.224Z",
         253,
         "2025-07-16T08:13:05.597Z",
         "2025-07-16T08:13:05.597Z"
        ],
        [
         "B00254",
         "P0066",
         "F0007",
         "A019",
         397.77,
         "2025-06-06",
         "2025-07-15T16:41:15.224Z",
         254,
         "2025-07-16T08:13:05.597Z",
         "2025-07-16T08:13:05.597Z"
        ],
        [
         "B00255",
         "P0190",
         "F0028",
         "A002",
         518.01,
         "2025-04-07",
         "2025-07-15T16:41:15.224Z",
         255,
         "2025-07-16T08:13:05.597Z",
         "2025-07-16T08:13:05.597Z"
        ],
        [
         "B00256",
         "P0023",
         "F0041",
         "A004",
         850.9,
         "2025-03-27",
         "2025-07-15T16:41:15.224Z",
         256,
         "2025-07-16T08:13:05.597Z",
         "2025-07-16T08:13:05.597Z"
        ],
        [
         "B00257",
         "P0078",
         "F0079",
         "A040",
         891.35,
         "2025-06-02",
         "2025-07-15T16:41:15.224Z",
         257,
         "2025-07-16T08:13:05.597Z",
         "2025-07-16T08:13:05.597Z"
        ],
        [
         "B00258",
         "P0049",
         "F0023",
         "A046",
         1486.77,
         "2025-05-03",
         "2025-07-15T16:41:15.224Z",
         258,
         "2025-07-16T08:13:05.597Z",
         "2025-07-16T08:13:05.597Z"
        ],
        [
         "B00259",
         "P0124",
         "F0008",
         "A043",
         519.89,
         "2025-06-12",
         "2025-07-15T16:41:15.224Z",
         259,
         "2025-07-16T08:13:05.597Z",
         "2025-07-16T08:13:05.597Z"
        ],
        [
         "B00260",
         "P0123",
         "F0100",
         "A048",
         411.39,
         "2025-04-15",
         "2025-07-15T16:41:15.224Z",
         260,
         "2025-07-16T08:13:05.597Z",
         "2025-07-16T08:13:05.597Z"
        ],
        [
         "B00261",
         "P0173",
         "F0057",
         "A046",
         1248.52,
         "2025-06-18",
         "2025-07-15T16:41:15.224Z",
         261,
         "2025-07-16T08:13:05.597Z",
         "2025-07-16T08:13:05.597Z"
        ],
        [
         "B00262",
         "P0066",
         "F0001",
         "A029",
         537.08,
         "2025-04-11",
         "2025-07-15T16:41:15.224Z",
         262,
         "2025-07-16T08:13:05.597Z",
         "2025-07-16T08:13:05.597Z"
        ],
        [
         "B00263",
         "P0145",
         "F0040",
         "A025",
         677.12,
         "2025-05-31",
         "2025-07-15T16:41:15.224Z",
         263,
         "2025-07-16T08:13:05.597Z",
         "2025-07-16T08:13:05.597Z"
        ],
        [
         "B00264",
         "P0189",
         "F0005",
         "A004",
         1355.47,
         "2025-03-25",
         "2025-07-15T16:41:15.224Z",
         264,
         "2025-07-16T08:13:05.597Z",
         "2025-07-16T08:13:05.597Z"
        ],
        [
         "B00265",
         "P0001",
         "F0005",
         "A024",
         1458.58,
         "2025-03-28",
         "2025-07-15T16:41:15.224Z",
         265,
         "2025-07-16T08:13:05.597Z",
         "2025-07-16T08:13:05.597Z"
        ],
        [
         "B00266",
         "P0117",
         "F0053",
         "A025",
         1440.91,
         "2025-05-08",
         "2025-07-15T16:41:15.224Z",
         266,
         "2025-07-16T08:13:05.597Z",
         "2025-07-16T08:13:05.597Z"
        ],
        [
         "B00267",
         "P0020",
         "F0050",
         "A029",
         417.55,
         "2025-06-05",
         "2025-07-15T16:41:15.224Z",
         267,
         "2025-07-16T08:13:05.597Z",
         "2025-07-16T08:13:05.597Z"
        ],
        [
         "B00268",
         "P0127",
         "F0034",
         "A019",
         1359.92,
         "2025-05-18",
         "2025-07-15T16:41:15.224Z",
         268,
         "2025-07-16T08:13:05.597Z",
         "2025-07-16T08:13:05.597Z"
        ],
        [
         "B00269",
         "P0200",
         "F0062",
         "A036",
         555.91,
         "2025-04-08",
         "2025-07-15T16:41:15.224Z",
         269,
         "2025-07-16T08:13:05.597Z",
         "2025-07-16T08:13:05.597Z"
        ],
        [
         "B00270",
         "P0046",
         "F0040",
         "A039",
         933.28,
         "2025-04-16",
         "2025-07-15T16:41:15.224Z",
         270,
         "2025-07-16T08:13:05.597Z",
         "2025-07-16T08:13:05.597Z"
        ],
        [
         "B00271",
         "P0001",
         "F0011",
         "A005",
         1484.41,
         "2025-05-10",
         "2025-07-15T16:41:15.224Z",
         271,
         "2025-07-16T08:13:05.597Z",
         "2025-07-16T08:13:05.597Z"
        ],
        [
         "B00272",
         "P0142",
         "F0067",
         "A034",
         1348.43,
         "2025-06-14",
         "2025-07-15T16:41:15.224Z",
         272,
         "2025-07-16T08:13:05.597Z",
         "2025-07-16T08:13:05.597Z"
        ],
        [
         "B00273",
         "P0199",
         "F0027",
         "A018",
         351.31,
         "2025-05-22",
         "2025-07-15T16:41:15.224Z",
         273,
         "2025-07-16T08:13:05.597Z",
         "2025-07-16T08:13:05.597Z"
        ],
        [
         "B00274",
         "P0040",
         "F0073",
         "A014",
         1168.92,
         "2025-04-06",
         "2025-07-15T16:41:15.224Z",
         274,
         "2025-07-16T08:13:05.597Z",
         "2025-07-16T08:13:05.597Z"
        ],
        [
         "B00275",
         "P0184",
         "F0056",
         "A034",
         967.99,
         "2025-05-28",
         "2025-07-15T16:41:15.224Z",
         275,
         "2025-07-16T08:13:05.597Z",
         "2025-07-16T08:13:05.597Z"
        ],
        [
         "B00276",
         "P0192",
         "F0074",
         "A043",
         368.66,
         "2025-05-10",
         "2025-07-15T16:41:15.224Z",
         276,
         "2025-07-16T08:13:05.597Z",
         "2025-07-16T08:13:05.597Z"
        ],
        [
         "B00277",
         "P0049",
         "F0069",
         "A027",
         1146.83,
         "2025-04-28",
         "2025-07-15T16:41:15.224Z",
         277,
         "2025-07-16T08:13:05.597Z",
         "2025-07-16T08:13:05.597Z"
        ],
        [
         "B00278",
         "P0005",
         "F0066",
         "A021",
         294.98,
         "2025-05-05",
         "2025-07-15T16:41:15.224Z",
         278,
         "2025-07-16T08:13:05.597Z",
         "2025-07-16T08:13:05.597Z"
        ],
        [
         "B00279",
         "P0065",
         "F0069",
         "A006",
         1179.76,
         "2025-05-30",
         "2025-07-15T16:41:15.224Z",
         279,
         "2025-07-16T08:13:05.597Z",
         "2025-07-16T08:13:05.597Z"
        ],
        [
         "B00280",
         "P0015",
         "F0081",
         "A026",
         1325.92,
         "2025-05-27",
         "2025-07-15T16:41:15.224Z",
         280,
         "2025-07-16T08:13:05.597Z",
         "2025-07-16T08:13:05.597Z"
        ],
        [
         "B00281",
         "P0194",
         "F0087",
         "A008",
         911.92,
         "2025-04-21",
         "2025-07-15T16:41:15.224Z",
         281,
         "2025-07-16T08:13:05.597Z",
         "2025-07-16T08:13:05.597Z"
        ],
        [
         "B00282",
         "P0122",
         "F0041",
         "A007",
         866.6,
         "2025-03-27",
         "2025-07-15T16:41:15.224Z",
         282,
         "2025-07-16T08:13:05.597Z",
         "2025-07-16T08:13:05.597Z"
        ],
        [
         "B00283",
         "P0190",
         "F0004",
         "A003",
         834.8,
         "2025-03-30",
         "2025-07-15T16:41:15.224Z",
         283,
         "2025-07-16T08:13:05.597Z",
         "2025-07-16T08:13:05.597Z"
        ],
        [
         "B00284",
         "P0175",
         "F0046",
         "A003",
         373.41,
         "2025-06-20",
         "2025-07-15T16:41:15.224Z",
         284,
         "2025-07-16T08:13:05.597Z",
         "2025-07-16T08:13:05.597Z"
        ],
        [
         "B00285",
         "P0034",
         "F0043",
         "A040",
         901.09,
         "2025-04-10",
         "2025-07-15T16:41:15.224Z",
         285,
         "2025-07-16T08:13:05.597Z",
         "2025-07-16T08:13:05.597Z"
        ],
        [
         "B00286",
         "P0068",
         "F0043",
         "A004",
         597.79,
         "2025-04-29",
         "2025-07-15T16:41:15.224Z",
         286,
         "2025-07-16T08:13:05.597Z",
         "2025-07-16T08:13:05.597Z"
        ],
        [
         "B00287",
         "P0038",
         "F0078",
         "A039",
         809.51,
         "2025-04-03",
         "2025-07-15T16:41:15.224Z",
         287,
         "2025-07-16T08:13:05.597Z",
         "2025-07-16T08:13:05.597Z"
        ],
        [
         "B00288",
         "P0090",
         "F0009",
         "A009",
         299.32,
         "2025-05-06",
         "2025-07-15T16:41:15.224Z",
         288,
         "2025-07-16T08:13:05.597Z",
         "2025-07-16T08:13:05.597Z"
        ],
        [
         "B00289",
         "P0055",
         "F0056",
         "A003",
         1218.92,
         "2025-05-28",
         "2025-07-15T16:41:15.224Z",
         289,
         "2025-07-16T08:13:05.597Z",
         "2025-07-16T08:13:05.597Z"
        ],
        [
         "B00290",
         "P0012",
         "F0082",
         "A048",
         907.65,
         "2025-04-23",
         "2025-07-15T16:41:15.224Z",
         290,
         "2025-07-16T08:13:05.597Z",
         "2025-07-16T08:13:05.597Z"
        ],
        [
         "B00291",
         "P0100",
         "F0062",
         "A047",
         372.89,
         "2025-06-01",
         "2025-07-15T16:41:15.224Z",
         291,
         "2025-07-16T08:13:05.597Z",
         "2025-07-16T08:13:05.597Z"
        ],
        [
         "B00292",
         "P0114",
         "F0007",
         "A050",
         728.16,
         "2025-05-01",
         "2025-07-15T16:41:15.224Z",
         292,
         "2025-07-16T08:13:05.597Z",
         "2025-07-16T08:13:05.597Z"
        ],
        [
         "B00293",
         "P0081",
         "F0099",
         "A030",
         1236.2,
         "2025-06-21",
         "2025-07-15T16:41:15.224Z",
         293,
         "2025-07-16T08:13:05.597Z",
         "2025-07-16T08:13:05.597Z"
        ],
        [
         "B00294",
         "P0189",
         "F0030",
         "A027",
         467.9,
         "2025-06-05",
         "2025-07-15T16:41:15.224Z",
         294,
         "2025-07-16T08:13:05.597Z",
         "2025-07-16T08:13:05.597Z"
        ],
        [
         "B00295",
         "P0137",
         "F0004",
         "A007",
         733.92,
         "2025-05-30",
         "2025-07-15T16:41:15.224Z",
         295,
         "2025-07-16T08:13:05.597Z",
         "2025-07-16T08:13:05.597Z"
        ],
        [
         "B00296",
         "P0055",
         "F0015",
         "A020",
         1155.93,
         "2025-05-22",
         "2025-07-15T16:41:15.224Z",
         296,
         "2025-07-16T08:13:05.597Z",
         "2025-07-16T08:13:05.597Z"
        ],
        [
         "B00297",
         "P0177",
         "F0056",
         "A029",
         1368.6,
         "2025-06-07",
         "2025-07-15T16:41:15.224Z",
         297,
         "2025-07-16T08:13:05.597Z",
         "2025-07-16T08:13:05.597Z"
        ],
        [
         "B00298",
         "P0188",
         "F0008",
         "A022",
         326.96,
         "2025-04-08",
         "2025-07-15T16:41:15.224Z",
         298,
         "2025-07-16T08:13:05.597Z",
         "2025-07-16T08:13:05.597Z"
        ],
        [
         "B00299",
         "P0104",
         "F0020",
         "A012",
         1317.89,
         "2025-06-05",
         "2025-07-15T16:41:15.224Z",
         299,
         "2025-07-16T08:13:05.597Z",
         "2025-07-16T08:13:05.597Z"
        ],
        [
         "B00300",
         "P0129",
         "F0024",
         "A010",
         1201.18,
         "2025-05-28",
         "2025-07-15T16:41:15.224Z",
         300,
         "2025-07-16T08:13:05.597Z",
         "2025-07-16T08:13:05.597Z"
        ],
        [
         "B00301",
         "P0101",
         "F0081",
         "A049",
         1220.46,
         "2025-04-21",
         "2025-07-15T16:41:15.224Z",
         301,
         "2025-07-16T08:13:05.597Z",
         "2025-07-16T08:13:05.597Z"
        ],
        [
         "B00302",
         "P0136",
         "F0055",
         "A025",
         695.94,
         "2025-06-08",
         "2025-07-15T16:41:15.224Z",
         302,
         "2025-07-16T08:13:05.597Z",
         "2025-07-16T08:13:05.597Z"
        ],
        [
         "B00303",
         "P0021",
         "F0009",
         "A004",
         271.9,
         "2025-04-28",
         "2025-07-15T16:41:15.224Z",
         303,
         "2025-07-16T08:13:05.597Z",
         "2025-07-16T08:13:05.597Z"
        ],
        [
         "B00304",
         "P0012",
         "F0046",
         "A020",
         1491.56,
         "2025-03-28",
         "2025-07-15T16:41:15.224Z",
         304,
         "2025-07-16T08:13:05.597Z",
         "2025-07-16T08:13:05.597Z"
        ],
        [
         "B00305",
         "P0182",
         "F0078",
         "A013",
         1032.68,
         "2025-06-08",
         "2025-07-15T16:41:15.224Z",
         305,
         "2025-07-16T08:13:05.597Z",
         "2025-07-16T08:13:05.597Z"
        ],
        [
         "B00306",
         "P0154",
         "F0038",
         "A018",
         420.22,
         "2025-04-16",
         "2025-07-15T16:41:15.224Z",
         306,
         "2025-07-16T08:13:05.597Z",
         "2025-07-16T08:13:05.597Z"
        ],
        [
         "B00307",
         "P0187",
         "F0037",
         "A005",
         1445.32,
         "2025-05-21",
         "2025-07-15T16:41:15.224Z",
         307,
         "2025-07-16T08:13:05.597Z",
         "2025-07-16T08:13:05.597Z"
        ],
        [
         "B00308",
         "P0119",
         "F0005",
         "A008",
         111.57,
         "2025-06-01",
         "2025-07-15T16:41:15.224Z",
         308,
         "2025-07-16T08:13:05.597Z",
         "2025-07-16T08:13:05.597Z"
        ],
        [
         "B00309",
         "P0105",
         "F0016",
         "A013",
         710.4,
         "2025-05-20",
         "2025-07-15T16:41:15.224Z",
         309,
         "2025-07-16T08:13:05.597Z",
         "2025-07-16T08:13:05.597Z"
        ],
        [
         "B00310",
         "P0031",
         "F0091",
         "A038",
         656.37,
         "2025-05-16",
         "2025-07-15T16:41:15.224Z",
         310,
         "2025-07-16T08:13:05.597Z",
         "2025-07-16T08:13:05.597Z"
        ],
        [
         "B00311",
         "P0185",
         "F0006",
         "A001",
         1069.67,
         "2025-05-12",
         "2025-07-15T16:41:15.224Z",
         311,
         "2025-07-16T08:13:05.597Z",
         "2025-07-16T08:13:05.597Z"
        ],
        [
         "B00312",
         "P0073",
         "F0015",
         "A017",
         951.5,
         "2025-05-14",
         "2025-07-15T16:41:15.224Z",
         312,
         "2025-07-16T08:13:05.597Z",
         "2025-07-16T08:13:05.597Z"
        ],
        [
         "B00313",
         "P0053",
         "F0027",
         "A004",
         349.97,
         "2025-03-25",
         "2025-07-15T16:41:15.224Z",
         313,
         "2025-07-16T08:13:05.597Z",
         "2025-07-16T08:13:05.597Z"
        ],
        [
         "B00314",
         "P0143",
         "F0095",
         "A033",
         1428.66,
         "2025-05-10",
         "2025-07-15T16:41:15.224Z",
         314,
         "2025-07-16T08:13:05.597Z",
         "2025-07-16T08:13:05.597Z"
        ],
        [
         "B00315",
         "P0183",
         "F0038",
         "A020",
         547.51,
         "2025-03-24",
         "2025-07-15T16:41:15.224Z",
         315,
         "2025-07-16T08:13:05.597Z",
         "2025-07-16T08:13:05.597Z"
        ],
        [
         "B00316",
         "P0086",
         "F0010",
         "A019",
         754.62,
         "2025-04-13",
         "2025-07-15T16:41:15.224Z",
         316,
         "2025-07-16T08:13:05.597Z",
         "2025-07-16T08:13:05.597Z"
        ],
        [
         "B00317",
         "P0038",
         "F0034",
         "A050",
         192.3,
         "2025-04-12",
         "2025-07-15T16:41:15.224Z",
         317,
         "2025-07-16T08:13:05.597Z",
         "2025-07-16T08:13:05.597Z"
        ],
        [
         "B00318",
         "P0108",
         "F0061",
         "A030",
         932.62,
         "2025-05-15",
         "2025-07-15T16:41:15.224Z",
         318,
         "2025-07-16T08:13:05.597Z",
         "2025-07-16T08:13:05.597Z"
        ],
        [
         "B00319",
         "P0028",
         "F0040",
         "A038",
         311.46,
         "2025-06-01",
         "2025-07-15T16:41:15.224Z",
         319,
         "2025-07-16T08:13:05.597Z",
         "2025-07-16T08:13:05.597Z"
        ],
        [
         "B00320",
         "P0187",
         "F0070",
         "A050",
         123.4,
         "2025-06-14",
         "2025-07-15T16:41:15.224Z",
         320,
         "2025-07-16T08:13:05.597Z",
         "2025-07-16T08:13:05.597Z"
        ],
        [
         "B00321",
         "P0085",
         "F0014",
         "A036",
         1203.72,
         "2025-05-10",
         "2025-07-15T16:41:15.224Z",
         321,
         "2025-07-16T08:13:05.597Z",
         "2025-07-16T08:13:05.597Z"
        ],
        [
         "B00322",
         "P0134",
         "F0001",
         "A049",
         1255.15,
         "2025-06-09",
         "2025-07-15T16:41:15.224Z",
         322,
         "2025-07-16T08:13:05.597Z",
         "2025-07-16T08:13:05.597Z"
        ],
        [
         "B00323",
         "P0099",
         "F0005",
         "A001",
         622.22,
         "2025-04-01",
         "2025-07-15T16:41:15.224Z",
         323,
         "2025-07-16T08:13:05.597Z",
         "2025-07-16T08:13:05.597Z"
        ],
        [
         "B00324",
         "P0059",
         "F0041",
         "A034",
         735.41,
         "2025-04-29",
         "2025-07-15T16:41:15.224Z",
         324,
         "2025-07-16T08:13:05.597Z",
         "2025-07-16T08:13:05.597Z"
        ],
        [
         "B00325",
         "P0105",
         "F0002",
         "A013",
         459.37,
         "2025-04-23",
         "2025-07-15T16:41:15.224Z",
         325,
         "2025-07-16T08:13:05.597Z",
         "2025-07-16T08:13:05.597Z"
        ],
        [
         "B00326",
         "P0082",
         "F0058",
         "A041",
         497.86,
         "2025-04-26",
         "2025-07-15T16:41:15.224Z",
         326,
         "2025-07-16T08:13:05.597Z",
         "2025-07-16T08:13:05.597Z"
        ],
        [
         "B00327",
         "P0195",
         "F0032",
         "A035",
         839.35,
         "2025-06-03",
         "2025-07-15T16:41:15.224Z",
         327,
         "2025-07-16T08:13:05.597Z",
         "2025-07-16T08:13:05.597Z"
        ],
        [
         "B00328",
         "P0150",
         "F0090",
         "A043",
         768.15,
         "2025-04-21",
         "2025-07-15T16:41:15.224Z",
         328,
         "2025-07-16T08:13:05.597Z",
         "2025-07-16T08:13:05.597Z"
        ],
        [
         "B00329",
         "P0070",
         "F0048",
         "A008",
         1119.93,
         "2025-06-12",
         "2025-07-15T16:41:15.224Z",
         329,
         "2025-07-16T08:13:05.597Z",
         "2025-07-16T08:13:05.597Z"
        ],
        [
         "B00330",
         "P0192",
         "F0090",
         "A011",
         675.87,
         "2025-03-30",
         "2025-07-15T16:41:15.224Z",
         330,
         "2025-07-16T08:13:05.597Z",
         "2025-07-16T08:13:05.597Z"
        ],
        [
         "B00331",
         "P0005",
         "F0076",
         "A040",
         1370.48,
         "2025-03-29",
         "2025-07-15T16:41:15.224Z",
         331,
         "2025-07-16T08:13:05.597Z",
         "2025-07-16T08:13:05.597Z"
        ],
        [
         "B00332",
         "P0066",
         "F0007",
         "A019",
         1472.47,
         "2025-05-04",
         "2025-07-15T16:41:15.224Z",
         332,
         "2025-07-16T08:13:05.597Z",
         "2025-07-16T08:13:05.597Z"
        ],
        [
         "B00333",
         "P0025",
         "F0017",
         "A036",
         1372.95,
         "2025-04-19",
         "2025-07-15T16:41:15.224Z",
         333,
         "2025-07-16T08:13:05.597Z",
         "2025-07-16T08:13:05.597Z"
        ],
        [
         "B00334",
         "P0140",
         "F0007",
         "A034",
         1171.37,
         "2025-03-24",
         "2025-07-15T16:41:15.224Z",
         334,
         "2025-07-16T08:13:05.597Z",
         "2025-07-16T08:13:05.597Z"
        ],
        [
         "B00335",
         "P0154",
         "F0054",
         "A004",
         250.69,
         "2025-05-23",
         "2025-07-15T16:41:15.224Z",
         335,
         "2025-07-16T08:13:05.597Z",
         "2025-07-16T08:13:05.597Z"
        ],
        [
         "B00336",
         "P0042",
         "F0085",
         "A028",
         256.64,
         "2025-05-25",
         "2025-07-15T16:41:15.224Z",
         336,
         "2025-07-16T08:13:05.597Z",
         "2025-07-16T08:13:05.597Z"
        ],
        [
         "B00337",
         "P0089",
         "F0099",
         "A004",
         106.75,
         "2025-05-15",
         "2025-07-15T16:41:15.224Z",
         337,
         "2025-07-16T08:13:05.597Z",
         "2025-07-16T08:13:05.597Z"
        ],
        [
         "B00338",
         "P0059",
         "F0100",
         "A049",
         1078.03,
         "2025-03-26",
         "2025-07-15T16:41:15.224Z",
         338,
         "2025-07-16T08:13:05.597Z",
         "2025-07-16T08:13:05.597Z"
        ],
        [
         "B00339",
         "P0154",
         "F0085",
         "A018",
         390.49,
         "2025-04-26",
         "2025-07-15T16:41:15.224Z",
         339,
         "2025-07-16T08:13:05.597Z",
         "2025-07-16T08:13:05.597Z"
        ],
        [
         "B00340",
         "P0185",
         "F0043",
         "A002",
         1228.07,
         "2025-05-04",
         "2025-07-15T16:41:15.224Z",
         340,
         "2025-07-16T08:13:05.597Z",
         "2025-07-16T08:13:05.597Z"
        ],
        [
         "B00341",
         "P0158",
         "F0018",
         "A016",
         969.41,
         "2025-04-22",
         "2025-07-15T16:41:15.224Z",
         341,
         "2025-07-16T08:13:05.597Z",
         "2025-07-16T08:13:05.597Z"
        ],
        [
         "B00342",
         "P0014",
         "F0015",
         "A030",
         1487.16,
         "2025-05-16",
         "2025-07-15T16:41:15.224Z",
         342,
         "2025-07-16T08:13:05.597Z",
         "2025-07-16T08:13:05.597Z"
        ],
        [
         "B00343",
         "P0030",
         "F0013",
         "A043",
         1338.79,
         "2025-05-02",
         "2025-07-15T16:41:15.224Z",
         343,
         "2025-07-16T08:13:05.597Z",
         "2025-07-16T08:13:05.597Z"
        ],
        [
         "B00344",
         "P0054",
         "F0046",
         "A033",
         455.91,
         "2025-04-30",
         "2025-07-15T16:41:15.224Z",
         344,
         "2025-07-16T08:13:05.597Z",
         "2025-07-16T08:13:05.597Z"
        ],
        [
         "B00345",
         "P0021",
         "F0080",
         "A035",
         191.01,
         "2025-05-23",
         "2025-07-15T16:41:15.224Z",
         345,
         "2025-07-16T08:13:05.597Z",
         "2025-07-16T08:13:05.597Z"
        ],
        [
         "B00346",
         "P0127",
         "F0088",
         "A020",
         868.82,
         "2025-05-14",
         "2025-07-15T16:41:15.224Z",
         346,
         "2025-07-16T08:13:05.597Z",
         "2025-07-16T08:13:05.597Z"
        ],
        [
         "B00347",
         "P0042",
         "F0015",
         "A015",
         1322.82,
         "2025-04-10",
         "2025-07-15T16:41:15.224Z",
         347,
         "2025-07-16T08:13:05.597Z",
         "2025-07-16T08:13:05.597Z"
        ],
        [
         "B00348",
         "P0037",
         "F0007",
         "A014",
         615.78,
         "2025-05-10",
         "2025-07-15T16:41:15.224Z",
         348,
         "2025-07-16T08:13:05.597Z",
         "2025-07-16T08:13:05.597Z"
        ],
        [
         "B00349",
         "P0040",
         "F0009",
         "A047",
         1246.56,
         "2025-06-07",
         "2025-07-15T16:41:15.224Z",
         349,
         "2025-07-16T08:13:05.597Z",
         "2025-07-16T08:13:05.597Z"
        ],
        [
         "B00350",
         "P0132",
         "F0043",
         "A034",
         1446.84,
         "2025-04-04",
         "2025-07-15T16:41:15.224Z",
         350,
         "2025-07-16T08:13:05.597Z",
         "2025-07-16T08:13:05.597Z"
        ],
        [
         "B00351",
         "P0068",
         "F0052",
         "A004",
         935.69,
         "2025-04-14",
         "2025-07-15T16:41:15.224Z",
         351,
         "2025-07-16T08:13:05.597Z",
         "2025-07-16T08:13:05.597Z"
        ],
        [
         "B00352",
         "P0028",
         "F0056",
         "A023",
         629.59,
         "2025-06-03",
         "2025-07-15T16:41:15.224Z",
         352,
         "2025-07-16T08:13:05.597Z",
         "2025-07-16T08:13:05.597Z"
        ],
        [
         "B00353",
         "P0073",
         "F0066",
         "A032",
         577.93,
         "2025-04-15",
         "2025-07-15T16:41:15.224Z",
         353,
         "2025-07-16T08:13:05.597Z",
         "2025-07-16T08:13:05.597Z"
        ],
        [
         "B00354",
         "P0129",
         "F0041",
         "A032",
         1166.58,
         "2025-05-09",
         "2025-07-15T16:41:15.224Z",
         354,
         "2025-07-16T08:13:05.597Z",
         "2025-07-16T08:13:05.597Z"
        ],
        [
         "B00355",
         "P0105",
         "F0090",
         "A001",
         1009.15,
         "2025-04-14",
         "2025-07-15T16:41:15.224Z",
         355,
         "2025-07-16T08:13:05.597Z",
         "2025-07-16T08:13:05.597Z"
        ],
        [
         "B00356",
         "P0168",
         "F0097",
         "A005",
         621.23,
         "2025-04-20",
         "2025-07-15T16:41:15.224Z",
         356,
         "2025-07-16T08:13:05.597Z",
         "2025-07-16T08:13:05.597Z"
        ],
        [
         "B00357",
         "P0022",
         "F0044",
         "A014",
         988.86,
         "2025-05-03",
         "2025-07-15T16:41:15.224Z",
         357,
         "2025-07-16T08:13:05.597Z",
         "2025-07-16T08:13:05.597Z"
        ],
        [
         "B00358",
         "P0116",
         "F0007",
         "A004",
         582.46,
         "2025-04-17",
         "2025-07-15T16:41:15.224Z",
         358,
         "2025-07-16T08:13:05.597Z",
         "2025-07-16T08:13:05.597Z"
        ],
        [
         "B00359",
         "P0032",
         "F0001",
         "A022",
         1050.28,
         "2025-06-08",
         "2025-07-15T16:41:15.224Z",
         359,
         "2025-07-16T08:13:05.597Z",
         "2025-07-16T08:13:05.597Z"
        ],
        [
         "B00360",
         "P0007",
         "F0018",
         "A041",
         647.29,
         "2025-06-17",
         "2025-07-15T16:41:15.224Z",
         360,
         "2025-07-16T08:13:05.597Z",
         "2025-07-16T08:13:05.597Z"
        ],
        [
         "B00361",
         "P0025",
         "F0099",
         "A008",
         312.25,
         "2025-05-04",
         "2025-07-15T16:41:15.224Z",
         361,
         "2025-07-16T08:13:05.597Z",
         "2025-07-16T08:13:05.597Z"
        ],
        [
         "B00362",
         "P0193",
         "F0051",
         "A006",
         804.19,
         "2025-04-19",
         "2025-07-15T16:41:15.224Z",
         362,
         "2025-07-16T08:13:05.597Z",
         "2025-07-16T08:13:05.597Z"
        ],
        [
         "B00363",
         "P0107",
         "F0050",
         "A027",
         889.48,
         "2025-04-15",
         "2025-07-15T16:41:15.224Z",
         363,
         "2025-07-16T08:13:05.597Z",
         "2025-07-16T08:13:05.597Z"
        ],
        [
         "B00364",
         "P0125",
         "F0087",
         "A015",
         1289.16,
         "2025-04-21",
         "2025-07-15T16:41:15.224Z",
         364,
         "2025-07-16T08:13:05.597Z",
         "2025-07-16T08:13:05.597Z"
        ],
        [
         "B00365",
         "P0042",
         "F0076",
         "A013",
         839.69,
         "2025-05-04",
         "2025-07-15T16:41:15.224Z",
         365,
         "2025-07-16T08:13:05.597Z",
         "2025-07-16T08:13:05.597Z"
        ],
        [
         "B00366",
         "P0091",
         "F0097",
         "A047",
         217.33,
         "2025-04-14",
         "2025-07-15T16:41:15.224Z",
         366,
         "2025-07-16T08:13:05.597Z",
         "2025-07-16T08:13:05.597Z"
        ],
        [
         "B00367",
         "P0062",
         "F0096",
         "A025",
         292.47,
         "2025-05-23",
         "2025-07-15T16:41:15.224Z",
         367,
         "2025-07-16T08:13:05.597Z",
         "2025-07-16T08:13:05.597Z"
        ],
        [
         "B00368",
         "P0076",
         "F0100",
         "A042",
         338.15,
         "2025-05-01",
         "2025-07-15T16:41:15.224Z",
         368,
         "2025-07-16T08:13:05.597Z",
         "2025-07-16T08:13:05.597Z"
        ],
        [
         "B00369",
         "P0150",
         "F0100",
         "A004",
         932.67,
         "2025-04-22",
         "2025-07-15T16:41:15.224Z",
         369,
         "2025-07-16T08:13:05.597Z",
         "2025-07-16T08:13:05.597Z"
        ],
        [
         "B00370",
         "P0088",
         "F0014",
         "A028",
         186.13,
         "2025-04-27",
         "2025-07-15T16:41:15.224Z",
         370,
         "2025-07-16T08:13:05.597Z",
         "2025-07-16T08:13:05.597Z"
        ],
        [
         "B00371",
         "P0055",
         "F0085",
         "A001",
         488.66,
         "2025-04-27",
         "2025-07-15T16:41:15.224Z",
         371,
         "2025-07-16T08:13:05.597Z",
         "2025-07-16T08:13:05.597Z"
        ],
        [
         "B00372",
         "P0112",
         "F0090",
         "A017",
         461.68,
         "2025-04-02",
         "2025-07-15T16:41:15.224Z",
         372,
         "2025-07-16T08:13:05.597Z",
         "2025-07-16T08:13:05.597Z"
        ],
        [
         "B00373",
         "P0180",
         "F0073",
         "A046",
         545.17,
         "2025-06-13",
         "2025-07-15T16:41:15.224Z",
         373,
         "2025-07-16T08:13:05.597Z",
         "2025-07-16T08:13:05.597Z"
        ],
        [
         "B00374",
         "P0184",
         "F0023",
         "A029",
         494.59,
         "2025-03-25",
         "2025-07-15T16:41:15.224Z",
         374,
         "2025-07-16T08:13:05.597Z",
         "2025-07-16T08:13:05.597Z"
        ],
        [
         "B00375",
         "P0082",
         "F0006",
         "A014",
         1451.75,
         "2025-03-26",
         "2025-07-15T16:41:15.224Z",
         375,
         "2025-07-16T08:13:05.597Z",
         "2025-07-16T08:13:05.597Z"
        ],
        [
         "B00376",
         "P0015",
         "F0077",
         "A039",
         1370.58,
         "2025-05-13",
         "2025-07-15T16:41:15.224Z",
         376,
         "2025-07-16T08:13:05.597Z",
         "2025-07-16T08:13:05.597Z"
        ],
        [
         "B00377",
         "P0195",
         "F0066",
         "A026",
         1364.53,
         "2025-06-05",
         "2025-07-15T16:41:15.224Z",
         377,
         "2025-07-16T08:13:05.597Z",
         "2025-07-16T08:13:05.597Z"
        ],
        [
         "B00378",
         "P0010",
         "F0021",
         "A023",
         456.45,
         "2025-03-27",
         "2025-07-15T16:41:15.224Z",
         378,
         "2025-07-16T08:13:05.597Z",
         "2025-07-16T08:13:05.597Z"
        ],
        [
         "B00379",
         "P0131",
         "F0078",
         "A026",
         697.3,
         "2025-05-27",
         "2025-07-15T16:41:15.224Z",
         379,
         "2025-07-16T08:13:05.597Z",
         "2025-07-16T08:13:05.597Z"
        ],
        [
         "B00380",
         "P0056",
         "F0041",
         "A003",
         673.98,
         "2025-04-13",
         "2025-07-15T16:41:15.224Z",
         380,
         "2025-07-16T08:13:05.597Z",
         "2025-07-16T08:13:05.597Z"
        ],
        [
         "B00381",
         "P0117",
         "F0034",
         "A035",
         247.23,
         "2025-05-23",
         "2025-07-15T16:41:15.224Z",
         381,
         "2025-07-16T08:13:05.597Z",
         "2025-07-16T08:13:05.597Z"
        ],
        [
         "B00382",
         "P0030",
         "F0063",
         "A050",
         1034.92,
         "2025-05-12",
         "2025-07-15T16:41:15.224Z",
         382,
         "2025-07-16T08:13:05.597Z",
         "2025-07-16T08:13:05.597Z"
        ],
        [
         "B00383",
         "P0008",
         "F0020",
         "A028",
         278.97,
         "2025-05-21",
         "2025-07-15T16:41:15.224Z",
         383,
         "2025-07-16T08:13:05.597Z",
         "2025-07-16T08:13:05.597Z"
        ],
        [
         "B00384",
         "P0050",
         "F0002",
         "A029",
         1123.22,
         "2025-05-01",
         "2025-07-15T16:41:15.224Z",
         384,
         "2025-07-16T08:13:05.597Z",
         "2025-07-16T08:13:05.597Z"
        ],
        [
         "B00385",
         "P0099",
         "F0022",
         "A007",
         429.0,
         "2025-04-06",
         "2025-07-15T16:41:15.224Z",
         385,
         "2025-07-16T08:13:05.597Z",
         "2025-07-16T08:13:05.597Z"
        ],
        [
         "B00386",
         "P0076",
         "F0084",
         "A036",
         509.87,
         "2025-04-18",
         "2025-07-15T16:41:15.224Z",
         386,
         "2025-07-16T08:13:05.597Z",
         "2025-07-16T08:13:05.597Z"
        ],
        [
         "B00387",
         "P0142",
         "F0001",
         "A021",
         1325.29,
         "2025-05-07",
         "2025-07-15T16:41:15.224Z",
         387,
         "2025-07-16T08:13:05.597Z",
         "2025-07-16T08:13:05.597Z"
        ],
        [
         "B00388",
         "P0033",
         "F0057",
         "A050",
         512.01,
         "2025-05-23",
         "2025-07-15T16:41:15.224Z",
         388,
         "2025-07-16T08:13:05.597Z",
         "2025-07-16T08:13:05.597Z"
        ],
        [
         "B00389",
         "P0188",
         "F0054",
         "A012",
         831.9,
         "2025-06-14",
         "2025-07-15T16:41:15.224Z",
         389,
         "2025-07-16T08:13:05.597Z",
         "2025-07-16T08:13:05.597Z"
        ],
        [
         "B00390",
         "P0022",
         "F0037",
         "A024",
         1115.91,
         "2025-05-08",
         "2025-07-15T16:41:15.224Z",
         390,
         "2025-07-16T08:13:05.597Z",
         "2025-07-16T08:13:05.597Z"
        ],
        [
         "B00391",
         "P0139",
         "F0040",
         "A040",
         1475.69,
         "2025-03-31",
         "2025-07-15T16:41:15.224Z",
         391,
         "2025-07-16T08:13:05.597Z",
         "2025-07-16T08:13:05.597Z"
        ],
        [
         "B00392",
         "P0046",
         "F0046",
         "A014",
         1176.34,
         "2025-06-20",
         "2025-07-15T16:41:15.224Z",
         392,
         "2025-07-16T08:13:05.597Z",
         "2025-07-16T08:13:05.597Z"
        ],
        [
         "B00393",
         "P0107",
         "F0066",
         "A032",
         835.45,
         "2025-04-01",
         "2025-07-15T16:41:15.224Z",
         393,
         "2025-07-16T08:13:05.597Z",
         "2025-07-16T08:13:05.597Z"
        ],
        [
         "B00394",
         "P0037",
         "F0013",
         "A050",
         1088.26,
         "2025-04-05",
         "2025-07-15T16:41:15.224Z",
         394,
         "2025-07-16T08:13:05.597Z",
         "2025-07-16T08:13:05.597Z"
        ],
        [
         "B00395",
         "P0014",
         "F0079",
         "A024",
         935.13,
         "2025-04-10",
         "2025-07-15T16:41:15.224Z",
         395,
         "2025-07-16T08:13:05.597Z",
         "2025-07-16T08:13:05.597Z"
        ],
        [
         "B00396",
         "P0001",
         "F0067",
         "A027",
         735.79,
         "2025-06-16",
         "2025-07-15T16:41:15.224Z",
         396,
         "2025-07-16T08:13:05.597Z",
         "2025-07-16T08:13:05.597Z"
        ],
        [
         "B00397",
         "P0097",
         "F0065",
         "A034",
         194.07,
         "2025-05-03",
         "2025-07-15T16:41:15.224Z",
         397,
         "2025-07-16T08:13:05.597Z",
         "2025-07-16T08:13:05.597Z"
        ],
        [
         "B00398",
         "P0073",
         "F0002",
         "A019",
         540.68,
         "2025-03-27",
         "2025-07-15T16:41:15.224Z",
         398,
         "2025-07-16T08:13:05.597Z",
         "2025-07-16T08:13:05.597Z"
        ],
        [
         "B00399",
         "P0092",
         "F0011",
         "A031",
         917.69,
         "2025-06-05",
         "2025-07-15T16:41:15.224Z",
         399,
         "2025-07-16T08:13:05.597Z",
         "2025-07-16T08:13:05.597Z"
        ],
        [
         "B00400",
         "P0107",
         "F0016",
         "A047",
         1245.21,
         "2025-05-11",
         "2025-07-15T16:41:15.224Z",
         400,
         "2025-07-16T08:13:05.597Z",
         "2025-07-16T08:13:05.597Z"
        ],
        [
         "B00401",
         "P0062",
         "F0012",
         "A019",
         1060.52,
         "2025-06-10",
         "2025-07-15T16:41:15.224Z",
         401,
         "2025-07-16T08:13:05.597Z",
         "2025-07-16T08:13:05.597Z"
        ],
        [
         "B00402",
         "P0105",
         "F0081",
         "A034",
         1062.36,
         "2025-05-19",
         "2025-07-15T16:41:15.224Z",
         402,
         "2025-07-16T08:13:05.597Z",
         "2025-07-16T08:13:05.597Z"
        ],
        [
         "B00403",
         "P0072",
         "F0022",
         "A046",
         515.37,
         "2025-05-22",
         "2025-07-15T16:41:15.224Z",
         403,
         "2025-07-16T08:13:05.597Z",
         "2025-07-16T08:13:05.597Z"
        ],
        [
         "B00404",
         "P0152",
         "F0007",
         "A001",
         773.77,
         "2025-03-31",
         "2025-07-15T16:41:15.224Z",
         404,
         "2025-07-16T08:13:05.597Z",
         "2025-07-16T08:13:05.597Z"
        ],
        [
         "B00405",
         "P0028",
         "F0004",
         "A002",
         1327.37,
         "2025-04-23",
         "2025-07-15T16:41:15.224Z",
         405,
         "2025-07-16T08:13:05.597Z",
         "2025-07-16T08:13:05.597Z"
        ],
        [
         "B00406",
         "P0186",
         "F0018",
         "A032",
         1008.74,
         "2025-06-01",
         "2025-07-15T16:41:15.224Z",
         406,
         "2025-07-16T08:13:05.597Z",
         "2025-07-16T08:13:05.597Z"
        ],
        [
         "B00407",
         "P0078",
         "F0083",
         "A040",
         1199.47,
         "2025-05-07",
         "2025-07-15T16:41:15.224Z",
         407,
         "2025-07-16T08:13:05.597Z",
         "2025-07-16T08:13:05.597Z"
        ],
        [
         "B00408",
         "P0040",
         "F0068",
         "A023",
         105.16,
         "2025-06-15",
         "2025-07-15T16:41:15.224Z",
         408,
         "2025-07-16T08:13:05.597Z",
         "2025-07-16T08:13:05.597Z"
        ],
        [
         "B00409",
         "P0100",
         "F0065",
         "A050",
         1171.53,
         "2025-05-03",
         "2025-07-15T16:41:15.224Z",
         409,
         "2025-07-16T08:13:05.597Z",
         "2025-07-16T08:13:05.597Z"
        ],
        [
         "B00410",
         "P0149",
         "F0026",
         "A002",
         953.33,
         "2025-05-10",
         "2025-07-15T16:41:15.224Z",
         410,
         "2025-07-16T08:13:05.597Z",
         "2025-07-16T08:13:05.597Z"
        ],
        [
         "B00411",
         "P0103",
         "F0018",
         "A004",
         857.23,
         "2025-04-15",
         "2025-07-15T16:41:15.224Z",
         411,
         "2025-07-16T08:13:05.597Z",
         "2025-07-16T08:13:05.597Z"
        ],
        [
         "B00412",
         "P0092",
         "F0033",
         "A049",
         763.11,
         "2025-04-12",
         "2025-07-15T16:41:15.224Z",
         412,
         "2025-07-16T08:13:05.597Z",
         "2025-07-16T08:13:05.597Z"
        ],
        [
         "B00413",
         "P0188",
         "F0098",
         "A026",
         708.36,
         "2025-06-19",
         "2025-07-15T16:41:15.224Z",
         413,
         "2025-07-16T08:13:05.597Z",
         "2025-07-16T08:13:05.597Z"
        ],
        [
         "B00414",
         "P0155",
         "F0085",
         "A032",
         895.98,
         "2025-05-04",
         "2025-07-15T16:41:15.224Z",
         414,
         "2025-07-16T08:13:05.597Z",
         "2025-07-16T08:13:05.597Z"
        ],
        [
         "B00415",
         "P0047",
         "F0003",
         "A042",
         238.82,
         "2025-05-07",
         "2025-07-15T16:41:15.224Z",
         415,
         "2025-07-16T08:13:05.597Z",
         "2025-07-16T08:13:05.597Z"
        ],
        [
         "B00416",
         "P0059",
         "F0084",
         "A016",
         521.44,
         "2025-05-23",
         "2025-07-15T16:41:15.224Z",
         416,
         "2025-07-16T08:13:05.597Z",
         "2025-07-16T08:13:05.597Z"
        ],
        [
         "B00417",
         "P0146",
         "F0071",
         "A027",
         665.01,
         "2025-05-12",
         "2025-07-15T16:41:15.224Z",
         417,
         "2025-07-16T08:13:05.597Z",
         "2025-07-16T08:13:05.597Z"
        ],
        [
         "B00418",
         "P0161",
         "F0053",
         "A007",
         1086.62,
         "2025-05-05",
         "2025-07-15T16:41:15.224Z",
         418,
         "2025-07-16T08:13:05.597Z",
         "2025-07-16T08:13:05.597Z"
        ],
        [
         "B00419",
         "P0058",
         "F0054",
         "A002",
         414.99,
         "2025-04-29",
         "2025-07-15T16:41:15.224Z",
         419,
         "2025-07-16T08:13:05.597Z",
         "2025-07-16T08:13:05.597Z"
        ],
        [
         "B00420",
         "P0095",
         "F0085",
         "A042",
         556.33,
         "2025-04-05",
         "2025-07-15T16:41:15.224Z",
         420,
         "2025-07-16T08:13:05.597Z",
         "2025-07-16T08:13:05.597Z"
        ],
        [
         "B00421",
         "P0139",
         "F0018",
         "A029",
         904.26,
         "2025-04-17",
         "2025-07-15T16:41:15.224Z",
         421,
         "2025-07-16T08:13:05.597Z",
         "2025-07-16T08:13:05.597Z"
        ],
        [
         "B00422",
         "P0074",
         "F0065",
         "A001",
         416.88,
         "2025-05-29",
         "2025-07-15T16:41:15.224Z",
         422,
         "2025-07-16T08:13:05.597Z",
         "2025-07-16T08:13:05.597Z"
        ],
        [
         "B00423",
         "P0173",
         "F0059",
         "A046",
         1482.68,
         "2025-05-03",
         "2025-07-15T16:41:15.224Z",
         423,
         "2025-07-16T08:13:05.597Z",
         "2025-07-16T08:13:05.597Z"
        ],
        [
         "B00424",
         "P0004",
         "F0084",
         "A036",
         1219.45,
         "2025-03-31",
         "2025-07-15T16:41:15.224Z",
         424,
         "2025-07-16T08:13:05.597Z",
         "2025-07-16T08:13:05.597Z"
        ],
        [
         "B00425",
         "P0109",
         "F0053",
         "A049",
         636.51,
         "2025-05-07",
         "2025-07-15T16:41:15.224Z",
         425,
         "2025-07-16T08:13:05.597Z",
         "2025-07-16T08:13:05.597Z"
        ],
        [
         "B00426",
         "P0192",
         "F0026",
         "A048",
         1075.62,
         "2025-05-17",
         "2025-07-15T16:41:15.224Z",
         426,
         "2025-07-16T08:13:05.597Z",
         "2025-07-16T08:13:05.597Z"
        ],
        [
         "B00427",
         "P0118",
         "F0074",
         "A018",
         1336.85,
         "2025-06-04",
         "2025-07-15T16:41:15.224Z",
         427,
         "2025-07-16T08:13:05.597Z",
         "2025-07-16T08:13:05.597Z"
        ],
        [
         "B00428",
         "P0061",
         "F0015",
         "A033",
         1114.88,
         "2025-06-01",
         "2025-07-15T16:41:15.224Z",
         428,
         "2025-07-16T08:13:05.597Z",
         "2025-07-16T08:13:05.597Z"
        ],
        [
         "B00429",
         "P0140",
         "F0037",
         "A021",
         881.05,
         "2025-06-10",
         "2025-07-15T16:41:15.224Z",
         429,
         "2025-07-16T08:13:05.597Z",
         "2025-07-16T08:13:05.597Z"
        ],
        [
         "B00430",
         "P0043",
         "F0036",
         "A029",
         670.13,
         "2025-04-23",
         "2025-07-15T16:41:15.224Z",
         430,
         "2025-07-16T08:13:05.597Z",
         "2025-07-16T08:13:05.597Z"
        ],
        [
         "B00431",
         "P0163",
         "F0053",
         "A030",
         628.62,
         "2025-04-18",
         "2025-07-15T16:41:15.224Z",
         431,
         "2025-07-16T08:13:05.597Z",
         "2025-07-16T08:13:05.597Z"
        ],
        [
         "B00432",
         "P0049",
         "F0001",
         "A046",
         515.77,
         "2025-03-29",
         "2025-07-15T16:41:15.224Z",
         432,
         "2025-07-16T08:13:05.597Z",
         "2025-07-16T08:13:05.597Z"
        ],
        [
         "B00433",
         "P0115",
         "F0002",
         "A035",
         498.02,
         "2025-06-03",
         "2025-07-15T16:41:15.224Z",
         433,
         "2025-07-16T08:13:05.597Z",
         "2025-07-16T08:13:05.597Z"
        ],
        [
         "B00434",
         "P0012",
         "F0004",
         "A009",
         621.42,
         "2025-03-30",
         "2025-07-15T16:41:15.224Z",
         434,
         "2025-07-16T08:13:05.597Z",
         "2025-07-16T08:13:05.597Z"
        ],
        [
         "B00435",
         "P0170",
         "F0080",
         "A017",
         898.2,
         "2025-04-09",
         "2025-07-15T16:41:15.224Z",
         435,
         "2025-07-16T08:13:05.597Z",
         "2025-07-16T08:13:05.597Z"
        ],
        [
         "B00436",
         "P0157",
         "F0083",
         "A008",
         1245.09,
         "2025-06-15",
         "2025-07-15T16:41:15.224Z",
         436,
         "2025-07-16T08:13:05.597Z",
         "2025-07-16T08:13:05.597Z"
        ],
        [
         "B00437",
         "P0175",
         "F0060",
         "A011",
         440.98,
         "2025-04-23",
         "2025-07-15T16:41:15.224Z",
         437,
         "2025-07-16T08:13:05.597Z",
         "2025-07-16T08:13:05.597Z"
        ],
        [
         "B00438",
         "P0149",
         "F0086",
         "A031",
         1254.2,
         "2025-03-30",
         "2025-07-15T16:41:15.224Z",
         438,
         "2025-07-16T08:13:05.597Z",
         "2025-07-16T08:13:05.597Z"
        ],
        [
         "B00439",
         "P0126",
         "F0044",
         "A034",
         623.21,
         "2025-06-07",
         "2025-07-15T16:41:15.224Z",
         439,
         "2025-07-16T08:13:05.597Z",
         "2025-07-16T08:13:05.597Z"
        ],
        [
         "B00440",
         "P0020",
         "F0098",
         "A049",
         1248.45,
         "2025-04-20",
         "2025-07-15T16:41:15.224Z",
         440,
         "2025-07-16T08:13:05.597Z",
         "2025-07-16T08:13:05.597Z"
        ],
        [
         "B00441",
         "P0160",
         "F0017",
         "A045",
         407.5,
         "2025-03-27",
         "2025-07-15T16:41:15.224Z",
         441,
         "2025-07-16T08:13:05.597Z",
         "2025-07-16T08:13:05.597Z"
        ],
        [
         "B00442",
         "P0019",
         "F0016",
         "A048",
         1338.85,
         "2025-04-20",
         "2025-07-15T16:41:15.224Z",
         442,
         "2025-07-16T08:13:05.597Z",
         "2025-07-16T08:13:05.597Z"
        ],
        [
         "B00443",
         "P0083",
         "F0097",
         "A047",
         1218.27,
         "2025-04-27",
         "2025-07-15T16:41:15.224Z",
         443,
         "2025-07-16T08:13:05.597Z",
         "2025-07-16T08:13:05.597Z"
        ],
        [
         "B00444",
         "P0011",
         "F0089",
         "A035",
         412.29,
         "2025-06-11",
         "2025-07-15T16:41:15.224Z",
         444,
         "2025-07-16T08:13:05.597Z",
         "2025-07-16T08:13:05.597Z"
        ],
        [
         "B00445",
         "P0052",
         "F0059",
         "A042",
         287.72,
         "2025-05-02",
         "2025-07-15T16:41:15.224Z",
         445,
         "2025-07-16T08:13:05.597Z",
         "2025-07-16T08:13:05.597Z"
        ],
        [
         "B00446",
         "P0059",
         "F0033",
         "A050",
         1099.42,
         "2025-04-12",
         "2025-07-15T16:41:15.224Z",
         446,
         "2025-07-16T08:13:05.597Z",
         "2025-07-16T08:13:05.597Z"
        ],
        [
         "B00447",
         "P0162",
         "F0013",
         "A010",
         453.78,
         "2025-05-31",
         "2025-07-15T16:41:15.224Z",
         447,
         "2025-07-16T08:13:05.597Z",
         "2025-07-16T08:13:05.597Z"
        ],
        [
         "B00448",
         "P0046",
         "F0091",
         "A011",
         1078.34,
         "2025-05-13",
         "2025-07-15T16:41:15.224Z",
         448,
         "2025-07-16T08:13:05.597Z",
         "2025-07-16T08:13:05.597Z"
        ],
        [
         "B00449",
         "P0160",
         "F0004",
         "A010",
         470.33,
         "2025-04-04",
         "2025-07-15T16:41:15.224Z",
         449,
         "2025-07-16T08:13:05.597Z",
         "2025-07-16T08:13:05.597Z"
        ],
        [
         "B00450",
         "P0081",
         "F0005",
         "A033",
         815.36,
         "2025-06-13",
         "2025-07-15T16:41:15.224Z",
         450,
         "2025-07-16T08:13:05.597Z",
         "2025-07-16T08:13:05.597Z"
        ],
        [
         "B00451",
         "P0118",
         "F0093",
         "A010",
         958.59,
         "2025-05-23",
         "2025-07-15T16:41:15.224Z",
         451,
         "2025-07-16T08:13:05.597Z",
         "2025-07-16T08:13:05.597Z"
        ],
        [
         "B00452",
         "P0102",
         "F0045",
         "A045",
         275.63,
         "2025-05-15",
         "2025-07-15T16:41:15.224Z",
         452,
         "2025-07-16T08:13:05.597Z",
         "2025-07-16T08:13:05.597Z"
        ],
        [
         "B00453",
         "P0144",
         "F0085",
         "A008",
         274.31,
         "2025-04-07",
         "2025-07-15T16:41:15.224Z",
         453,
         "2025-07-16T08:13:05.597Z",
         "2025-07-16T08:13:05.597Z"
        ],
        [
         "B00454",
         "P0121",
         "F0093",
         "A036",
         1004.8,
         "2025-05-13",
         "2025-07-15T16:41:15.224Z",
         454,
         "2025-07-16T08:13:05.597Z",
         "2025-07-16T08:13:05.597Z"
        ],
        [
         "B00455",
         "P0027",
         "F0047",
         "A039",
         668.17,
         "2025-06-01",
         "2025-07-15T16:41:15.224Z",
         455,
         "2025-07-16T08:13:05.597Z",
         "2025-07-16T08:13:05.597Z"
        ],
        [
         "B00456",
         "P0018",
         "F0002",
         "A006",
         960.82,
         "2025-04-22",
         "2025-07-15T16:41:15.224Z",
         456,
         "2025-07-16T08:13:05.597Z",
         "2025-07-16T08:13:05.597Z"
        ],
        [
         "B00457",
         "P0190",
         "F0026",
         "A028",
         597.9,
         "2025-03-28",
         "2025-07-15T16:41:15.224Z",
         457,
         "2025-07-16T08:13:05.597Z",
         "2025-07-16T08:13:05.597Z"
        ],
        [
         "B00458",
         "P0120",
         "F0013",
         "A021",
         1155.19,
         "2025-06-09",
         "2025-07-15T16:41:15.224Z",
         458,
         "2025-07-16T08:13:05.597Z",
         "2025-07-16T08:13:05.597Z"
        ],
        [
         "B00459",
         "P0093",
         "F0053",
         "A035",
         1072.18,
         "2025-05-29",
         "2025-07-15T16:41:15.224Z",
         459,
         "2025-07-16T08:13:05.597Z",
         "2025-07-16T08:13:05.597Z"
        ],
        [
         "B00460",
         "P0163",
         "F0090",
         "A049",
         958.75,
         "2025-06-17",
         "2025-07-15T16:41:15.224Z",
         460,
         "2025-07-16T08:13:05.597Z",
         "2025-07-16T08:13:05.597Z"
        ],
        [
         "B00461",
         "P0096",
         "F0003",
         "A015",
         281.57,
         "2025-03-27",
         "2025-07-15T16:41:15.224Z",
         461,
         "2025-07-16T08:13:05.597Z",
         "2025-07-16T08:13:05.597Z"
        ],
        [
         "B00462",
         "P0179",
         "F0036",
         "A046",
         612.33,
         "2025-04-22",
         "2025-07-15T16:41:15.224Z",
         462,
         "2025-07-16T08:13:05.597Z",
         "2025-07-16T08:13:05.597Z"
        ],
        [
         "B00463",
         "P0028",
         "F0011",
         "A022",
         366.65,
         "2025-04-23",
         "2025-07-15T16:41:15.224Z",
         463,
         "2025-07-16T08:13:05.597Z",
         "2025-07-16T08:13:05.597Z"
        ],
        [
         "B00464",
         "P0148",
         "F0031",
         "A028",
         883.62,
         "2025-04-24",
         "2025-07-15T16:41:15.224Z",
         464,
         "2025-07-16T08:13:05.597Z",
         "2025-07-16T08:13:05.597Z"
        ],
        [
         "B00465",
         "P0045",
         "F0074",
         "A046",
         481.72,
         "2025-04-07",
         "2025-07-15T16:41:15.224Z",
         465,
         "2025-07-16T08:13:05.597Z",
         "2025-07-16T08:13:05.597Z"
        ],
        [
         "B00466",
         "P0069",
         "F0051",
         "A010",
         1290.07,
         "2025-05-12",
         "2025-07-15T16:41:15.224Z",
         466,
         "2025-07-16T08:13:05.597Z",
         "2025-07-16T08:13:05.597Z"
        ],
        [
         "B00467",
         "P0122",
         "F0083",
         "A005",
         1292.56,
         "2025-04-06",
         "2025-07-15T16:41:15.224Z",
         467,
         "2025-07-16T08:13:05.597Z",
         "2025-07-16T08:13:05.597Z"
        ],
        [
         "B00468",
         "P0107",
         "F0038",
         "A017",
         1276.22,
         "2025-04-01",
         "2025-07-15T16:41:15.224Z",
         468,
         "2025-07-16T08:13:05.597Z",
         "2025-07-16T08:13:05.597Z"
        ],
        [
         "B00469",
         "P0041",
         "F0099",
         "A010",
         576.47,
         "2025-03-27",
         "2025-07-15T16:41:15.224Z",
         469,
         "2025-07-16T08:13:05.597Z",
         "2025-07-16T08:13:05.597Z"
        ],
        [
         "B00470",
         "P0021",
         "F0018",
         "A015",
         1433.8,
         "2025-04-04",
         "2025-07-15T16:41:15.224Z",
         470,
         "2025-07-16T08:13:05.597Z",
         "2025-07-16T08:13:05.597Z"
        ],
        [
         "B00471",
         "P0023",
         "F0014",
         "A006",
         753.34,
         "2025-05-13",
         "2025-07-15T16:41:15.224Z",
         471,
         "2025-07-16T08:13:05.597Z",
         "2025-07-16T08:13:05.597Z"
        ],
        [
         "B00472",
         "P0095",
         "F0091",
         "A015",
         670.63,
         "2025-05-13",
         "2025-07-15T16:41:15.224Z",
         472,
         "2025-07-16T08:13:05.597Z",
         "2025-07-16T08:13:05.597Z"
        ],
        [
         "B00473",
         "P0083",
         "F0002",
         "A016",
         297.26,
         "2025-05-30",
         "2025-07-15T16:41:15.224Z",
         473,
         "2025-07-16T08:13:05.597Z",
         "2025-07-16T08:13:05.597Z"
        ],
        [
         "B00474",
         "P0036",
         "F0027",
         "A037",
         320.66,
         "2025-05-21",
         "2025-07-15T16:41:15.224Z",
         474,
         "2025-07-16T08:13:05.597Z",
         "2025-07-16T08:13:05.597Z"
        ],
        [
         "B00475",
         "P0100",
         "F0031",
         "A046",
         457.54,
         "2025-05-20",
         "2025-07-15T16:41:15.224Z",
         475,
         "2025-07-16T08:13:05.597Z",
         "2025-07-16T08:13:05.597Z"
        ],
        [
         "B00476",
         "P0123",
         "F0014",
         "A026",
         1130.1,
         "2025-04-28",
         "2025-07-15T16:41:15.224Z",
         476,
         "2025-07-16T08:13:05.597Z",
         "2025-07-16T08:13:05.597Z"
        ],
        [
         "B00477",
         "P0135",
         "F0030",
         "A033",
         767.59,
         "2025-04-29",
         "2025-07-15T16:41:15.224Z",
         477,
         "2025-07-16T08:13:05.597Z",
         "2025-07-16T08:13:05.597Z"
        ],
        [
         "B00478",
         "P0120",
         "F0055",
         "A023",
         163.75,
         "2025-04-25",
         "2025-07-15T16:41:15.224Z",
         478,
         "2025-07-16T08:13:05.597Z",
         "2025-07-16T08:13:05.597Z"
        ],
        [
         "B00479",
         "P0103",
         "F0098",
         "A026",
         1035.48,
         "2025-06-03",
         "2025-07-15T16:41:15.224Z",
         479,
         "2025-07-16T08:13:05.597Z",
         "2025-07-16T08:13:05.597Z"
        ],
        [
         "B00480",
         "P0172",
         "F0048",
         "A037",
         722.81,
         "2025-05-19",
         "2025-07-15T16:41:15.224Z",
         480,
         "2025-07-16T08:13:05.597Z",
         "2025-07-16T08:13:05.597Z"
        ],
        [
         "B00481",
         "P0087",
         "F0088",
         "A037",
         742.55,
         "2025-05-30",
         "2025-07-15T16:41:15.224Z",
         481,
         "2025-07-16T08:13:05.597Z",
         "2025-07-16T08:13:05.597Z"
        ],
        [
         "B00482",
         "P0060",
         "F0013",
         "A012",
         638.96,
         "2025-05-09",
         "2025-07-15T16:41:15.224Z",
         482,
         "2025-07-16T08:13:05.597Z",
         "2025-07-16T08:13:05.597Z"
        ],
        [
         "B00483",
         "P0195",
         "F0084",
         "A029",
         1140.74,
         "2025-03-30",
         "2025-07-15T16:41:15.224Z",
         483,
         "2025-07-16T08:13:05.597Z",
         "2025-07-16T08:13:05.597Z"
        ],
        [
         "B00484",
         "P0150",
         "F0079",
         "A012",
         919.48,
         "2025-05-11",
         "2025-07-15T16:41:15.224Z",
         484,
         "2025-07-16T08:13:05.597Z",
         "2025-07-16T08:13:05.597Z"
        ],
        [
         "B00485",
         "P0193",
         "F0027",
         "A013",
         170.12,
         "2025-04-18",
         "2025-07-15T16:41:15.224Z",
         485,
         "2025-07-16T08:13:05.597Z",
         "2025-07-16T08:13:05.597Z"
        ],
        [
         "B00486",
         "P0090",
         "F0015",
         "A026",
         145.4,
         "2025-03-29",
         "2025-07-15T16:41:15.224Z",
         486,
         "2025-07-16T08:13:05.597Z",
         "2025-07-16T08:13:05.597Z"
        ],
        [
         "B00487",
         "P0058",
         "F0030",
         "A013",
         234.04,
         "2025-05-07",
         "2025-07-15T16:41:15.224Z",
         487,
         "2025-07-16T08:13:05.597Z",
         "2025-07-16T08:13:05.597Z"
        ],
        [
         "B00488",
         "P0088",
         "F0023",
         "A004",
         1310.03,
         "2025-06-15",
         "2025-07-15T16:41:15.224Z",
         488,
         "2025-07-16T08:13:05.597Z",
         "2025-07-16T08:13:05.597Z"
        ],
        [
         "B00489",
         "P0171",
         "F0094",
         "A014",
         744.75,
         "2025-04-25",
         "2025-07-15T16:41:15.224Z",
         489,
         "2025-07-16T08:13:05.597Z",
         "2025-07-16T08:13:05.597Z"
        ],
        [
         "B00490",
         "P0061",
         "F0093",
         "A035",
         1125.92,
         "2025-05-06",
         "2025-07-15T16:41:15.224Z",
         490,
         "2025-07-16T08:13:05.597Z",
         "2025-07-16T08:13:05.597Z"
        ],
        [
         "B00491",
         "P0150",
         "F0078",
         "A047",
         1256.52,
         "2025-03-25",
         "2025-07-15T16:41:15.224Z",
         491,
         "2025-07-16T08:13:05.597Z",
         "2025-07-16T08:13:05.597Z"
        ],
        [
         "B00492",
         "P0138",
         "F0062",
         "A007",
         368.63,
         "2025-04-20",
         "2025-07-15T16:41:15.224Z",
         492,
         "2025-07-16T08:13:05.597Z",
         "2025-07-16T08:13:05.597Z"
        ],
        [
         "B00493",
         "P0200",
         "F0066",
         "A043",
         1047.45,
         "2025-04-16",
         "2025-07-15T16:41:15.224Z",
         493,
         "2025-07-16T08:13:05.597Z",
         "2025-07-16T08:13:05.597Z"
        ],
        [
         "B00494",
         "P0101",
         "F0014",
         "A037",
         877.31,
         "2025-04-17",
         "2025-07-15T16:41:15.224Z",
         494,
         "2025-07-16T08:13:05.597Z",
         "2025-07-16T08:13:05.597Z"
        ],
        [
         "B00495",
         "P0057",
         "F0086",
         "A049",
         634.53,
         "2025-04-06",
         "2025-07-15T16:41:15.224Z",
         495,
         "2025-07-16T08:13:05.597Z",
         "2025-07-16T08:13:05.597Z"
        ],
        [
         "B00496",
         "P0047",
         "F0005",
         "A013",
         1498.8,
         "2025-04-30",
         "2025-07-15T16:41:15.224Z",
         496,
         "2025-07-16T08:13:05.597Z",
         "2025-07-16T08:13:05.597Z"
        ],
        [
         "B00497",
         "P0035",
         "F0092",
         "A046",
         755.31,
         "2025-04-14",
         "2025-07-15T16:41:15.224Z",
         497,
         "2025-07-16T08:13:05.597Z",
         "2025-07-16T08:13:05.597Z"
        ],
        [
         "B00498",
         "P0196",
         "F0016",
         "A022",
         214.78,
         "2025-05-28",
         "2025-07-15T16:41:15.224Z",
         498,
         "2025-07-16T08:13:05.597Z",
         "2025-07-16T08:13:05.597Z"
        ],
        [
         "B00499",
         "P0117",
         "F0100",
         "A032",
         1136.04,
         "2025-05-28",
         "2025-07-15T16:41:15.224Z",
         499,
         "2025-07-16T08:13:05.597Z",
         "2025-07-16T08:13:05.597Z"
        ],
        [
         "B00500",
         "P0072",
         "F0081",
         "A038",
         551.86,
         "2025-04-02",
         "2025-07-15T16:41:15.224Z",
         500,
         "2025-07-16T08:13:05.597Z",
         "2025-07-16T08:13:05.597Z"
        ],
        [
         "B00501",
         "P0040",
         "F0024",
         "A038",
         976.4,
         "2025-05-11",
         "2025-07-15T16:41:15.224Z",
         501,
         "2025-07-16T08:13:05.597Z",
         "2025-07-16T08:13:05.597Z"
        ],
        [
         "B00502",
         "P0121",
         "F0084",
         "A007",
         849.35,
         "2025-05-14",
         "2025-07-15T16:41:15.224Z",
         502,
         "2025-07-16T08:13:05.597Z",
         "2025-07-16T08:13:05.597Z"
        ],
        [
         "B00503",
         "P0057",
         "F0026",
         "A042",
         849.17,
         "2025-04-20",
         "2025-07-15T16:41:15.224Z",
         503,
         "2025-07-16T08:13:05.597Z",
         "2025-07-16T08:13:05.597Z"
        ],
        [
         "B00504",
         "P0026",
         "F0003",
         "A028",
         1322.78,
         "2025-05-28",
         "2025-07-15T16:41:15.224Z",
         504,
         "2025-07-16T08:13:05.597Z",
         "2025-07-16T08:13:05.597Z"
        ],
        [
         "B00505",
         "P0171",
         "F0090",
         "A001",
         567.55,
         "2025-04-05",
         "2025-07-15T16:41:15.224Z",
         505,
         "2025-07-16T08:13:05.597Z",
         "2025-07-16T08:13:05.597Z"
        ],
        [
         "B00506",
         "P0045",
         "F0100",
         "A033",
         651.92,
         "2025-05-29",
         "2025-07-15T16:41:15.224Z",
         506,
         "2025-07-16T08:13:05.597Z",
         "2025-07-16T08:13:05.597Z"
        ],
        [
         "B00507",
         "P0103",
         "F0093",
         "A016",
         817.41,
         "2025-06-02",
         "2025-07-15T16:41:15.224Z",
         507,
         "2025-07-16T08:13:05.597Z",
         "2025-07-16T08:13:05.597Z"
        ],
        [
         "B00508",
         "P0001",
         "F0087",
         "A038",
         400.66,
         "2025-06-03",
         "2025-07-15T16:41:15.224Z",
         508,
         "2025-07-16T08:13:05.597Z",
         "2025-07-16T08:13:05.597Z"
        ],
        [
         "B00509",
         "P0093",
         "F0031",
         "A011",
         1369.93,
         "2025-05-25",
         "2025-07-15T16:41:15.224Z",
         509,
         "2025-07-16T08:13:05.597Z",
         "2025-07-16T08:13:05.597Z"
        ],
        [
         "B00510",
         "P0046",
         "F0077",
         "A008",
         1383.39,
         "2025-04-24",
         "2025-07-15T16:41:15.224Z",
         510,
         "2025-07-16T08:13:05.597Z",
         "2025-07-16T08:13:05.597Z"
        ],
        [
         "B00511",
         "P0066",
         "F0070",
         "A014",
         408.98,
         "2025-06-18",
         "2025-07-15T16:41:15.224Z",
         511,
         "2025-07-16T08:13:05.597Z",
         "2025-07-16T08:13:05.597Z"
        ],
        [
         "B00512",
         "P0021",
         "F0010",
         "A008",
         1278.93,
         "2025-05-28",
         "2025-07-15T16:41:15.224Z",
         512,
         "2025-07-16T08:13:05.597Z",
         "2025-07-16T08:13:05.597Z"
        ],
        [
         "B00513",
         "P0087",
         "F0021",
         "A041",
         874.59,
         "2025-06-06",
         "2025-07-15T16:41:15.224Z",
         513,
         "2025-07-16T08:13:05.597Z",
         "2025-07-16T08:13:05.597Z"
        ],
        [
         "B00514",
         "P0096",
         "F0023",
         "A005",
         1431.92,
         "2025-04-17",
         "2025-07-15T16:41:15.224Z",
         514,
         "2025-07-16T08:13:05.597Z",
         "2025-07-16T08:13:05.597Z"
        ],
        [
         "B00515",
         "P0069",
         "F0064",
         "A039",
         1390.6,
         "2025-04-12",
         "2025-07-15T16:41:15.224Z",
         515,
         "2025-07-16T08:13:05.597Z",
         "2025-07-16T08:13:05.597Z"
        ],
        [
         "B00516",
         "P0185",
         "F0047",
         "A028",
         180.94,
         "2025-04-12",
         "2025-07-15T16:41:15.224Z",
         516,
         "2025-07-16T08:13:05.597Z",
         "2025-07-16T08:13:05.597Z"
        ],
        [
         "B00517",
         "P0008",
         "F0041",
         "A012",
         1452.39,
         "2025-04-10",
         "2025-07-15T16:41:15.224Z",
         517,
         "2025-07-16T08:13:05.597Z",
         "2025-07-16T08:13:05.597Z"
        ],
        [
         "B00518",
         "P0181",
         "F0093",
         "A044",
         620.93,
         "2025-05-21",
         "2025-07-15T16:41:15.224Z",
         518,
         "2025-07-16T08:13:05.597Z",
         "2025-07-16T08:13:05.597Z"
        ],
        [
         "B00519",
         "P0200",
         "F0023",
         "A010",
         722.45,
         "2025-06-10",
         "2025-07-15T16:41:15.224Z",
         519,
         "2025-07-16T08:13:05.597Z",
         "2025-07-16T08:13:05.597Z"
        ],
        [
         "B00520",
         "P0139",
         "F0004",
         "A047",
         348.71,
         "2025-04-02",
         "2025-07-15T16:41:15.224Z",
         520,
         "2025-07-16T08:13:05.597Z",
         "2025-07-16T08:13:05.597Z"
        ],
        [
         "B00521",
         "P0153",
         "F0087",
         "A009",
         582.06,
         "2025-04-18",
         "2025-07-15T16:41:15.224Z",
         521,
         "2025-07-16T08:13:05.597Z",
         "2025-07-16T08:13:05.597Z"
        ],
        [
         "B00522",
         "P0177",
         "F0051",
         "A003",
         427.56,
         "2025-03-28",
         "2025-07-15T16:41:15.224Z",
         522,
         "2025-07-16T08:13:05.597Z",
         "2025-07-16T08:13:05.597Z"
        ],
        [
         "B00523",
         "P0183",
         "F0027",
         "A009",
         1172.8,
         "2025-06-07",
         "2025-07-15T16:41:15.224Z",
         523,
         "2025-07-16T08:13:05.597Z",
         "2025-07-16T08:13:05.597Z"
        ],
        [
         "B00524",
         "P0075",
         "F0068",
         "A003",
         133.61,
         "2025-03-24",
         "2025-07-15T16:41:15.224Z",
         524,
         "2025-07-16T08:13:05.597Z",
         "2025-07-16T08:13:05.597Z"
        ],
        [
         "B00525",
         "P0135",
         "F0088",
         "A046",
         1224.95,
         "2025-05-13",
         "2025-07-15T16:41:15.224Z",
         525,
         "2025-07-16T08:13:05.597Z",
         "2025-07-16T08:13:05.597Z"
        ],
        [
         "B00526",
         "P0034",
         "F0062",
         "A045",
         1445.34,
         "2025-04-09",
         "2025-07-15T16:41:15.224Z",
         526,
         "2025-07-16T08:13:05.597Z",
         "2025-07-16T08:13:05.597Z"
        ],
        [
         "B00527",
         "P0056",
         "F0015",
         "A026",
         438.22,
         "2025-05-10",
         "2025-07-15T16:41:15.224Z",
         527,
         "2025-07-16T08:13:05.597Z",
         "2025-07-16T08:13:05.597Z"
        ],
        [
         "B00528",
         "P0178",
         "F0086",
         "A032",
         794.16,
         "2025-03-25",
         "2025-07-15T16:41:15.224Z",
         528,
         "2025-07-16T08:13:05.597Z",
         "2025-07-16T08:13:05.597Z"
        ],
        [
         "B00529",
         "P0156",
         "F0095",
         "A007",
         419.12,
         "2025-04-12",
         "2025-07-15T16:41:15.224Z",
         529,
         "2025-07-16T08:13:05.597Z",
         "2025-07-16T08:13:05.597Z"
        ],
        [
         "B00530",
         "P0034",
         "F0095",
         "A034",
         459.42,
         "2025-06-21",
         "2025-07-15T16:41:15.224Z",
         530,
         "2025-07-16T08:13:05.597Z",
         "2025-07-16T08:13:05.597Z"
        ],
        [
         "B00531",
         "P0178",
         "F0004",
         "A045",
         1081.32,
         "2025-03-31",
         "2025-07-15T16:41:15.224Z",
         531,
         "2025-07-16T08:13:05.597Z",
         "2025-07-16T08:13:05.597Z"
        ],
        [
         "B00532",
         "P0011",
         "F0048",
         "A030",
         763.42,
         "2025-04-04",
         "2025-07-15T16:41:15.224Z",
         532,
         "2025-07-16T08:13:05.597Z",
         "2025-07-16T08:13:05.597Z"
        ],
        [
         "B00533",
         "P0082",
         "F0048",
         "A050",
         1350.49,
         "2025-06-03",
         "2025-07-15T16:41:15.224Z",
         533,
         "2025-07-16T08:13:05.597Z",
         "2025-07-16T08:13:05.597Z"
        ],
        [
         "B00534",
         "P0015",
         "F0041",
         "A017",
         497.13,
         "2025-05-27",
         "2025-07-15T16:41:15.224Z",
         534,
         "2025-07-16T08:13:05.597Z",
         "2025-07-16T08:13:05.597Z"
        ],
        [
         "B00535",
         "P0142",
         "F0100",
         "A012",
         561.96,
         "2025-04-14",
         "2025-07-15T16:41:15.224Z",
         535,
         "2025-07-16T08:13:05.597Z",
         "2025-07-16T08:13:05.597Z"
        ],
        [
         "B00536",
         "P0090",
         "F0025",
         "A020",
         119.11,
         "2025-04-15",
         "2025-07-15T16:41:15.224Z",
         536,
         "2025-07-16T08:13:05.597Z",
         "2025-07-16T08:13:05.597Z"
        ],
        [
         "B00537",
         "P0014",
         "F0014",
         "A021",
         736.44,
         "2025-06-08",
         "2025-07-15T16:41:15.224Z",
         537,
         "2025-07-16T08:13:05.597Z",
         "2025-07-16T08:13:05.597Z"
        ],
        [
         "B00538",
         "P0011",
         "F0004",
         "A029",
         1481.97,
         "2025-03-25",
         "2025-07-15T16:41:15.224Z",
         538,
         "2025-07-16T08:13:05.597Z",
         "2025-07-16T08:13:05.597Z"
        ],
        [
         "B00539",
         "P0095",
         "F0018",
         "A009",
         1284.47,
         "2025-06-06",
         "2025-07-15T16:41:15.224Z",
         539,
         "2025-07-16T08:13:05.597Z",
         "2025-07-16T08:13:05.597Z"
        ],
        [
         "B00540",
         "P0054",
         "F0023",
         "A012",
         798.35,
         "2025-06-03",
         "2025-07-15T16:41:15.224Z",
         540,
         "2025-07-16T08:13:05.597Z",
         "2025-07-16T08:13:05.597Z"
        ],
        [
         "B00541",
         "P0165",
         "F0003",
         "A045",
         826.13,
         "2025-06-06",
         "2025-07-15T16:41:15.224Z",
         541,
         "2025-07-16T08:13:05.597Z",
         "2025-07-16T08:13:05.597Z"
        ],
        [
         "B00542",
         "P0176",
         "F0018",
         "A050",
         1243.1,
         "2025-05-22",
         "2025-07-15T16:41:15.224Z",
         542,
         "2025-07-16T08:13:05.597Z",
         "2025-07-16T08:13:05.597Z"
        ],
        [
         "B00543",
         "P0199",
         "F0085",
         "A010",
         1101.69,
         "2025-03-27",
         "2025-07-15T16:41:15.224Z",
         543,
         "2025-07-16T08:13:05.597Z",
         "2025-07-16T08:13:05.597Z"
        ],
        [
         "B00544",
         "P0135",
         "F0080",
         "A018",
         125.88,
         "2025-04-09",
         "2025-07-15T16:41:15.224Z",
         544,
         "2025-07-16T08:13:05.597Z",
         "2025-07-16T08:13:05.597Z"
        ],
        [
         "B00545",
         "P0063",
         "F0097",
         "A042",
         835.11,
         "2025-06-10",
         "2025-07-15T16:41:15.224Z",
         545,
         "2025-07-16T08:13:05.597Z",
         "2025-07-16T08:13:05.597Z"
        ],
        [
         "B00546",
         "P0145",
         "F0024",
         "A034",
         503.9,
         "2025-04-23",
         "2025-07-15T16:41:15.224Z",
         546,
         "2025-07-16T08:13:05.597Z",
         "2025-07-16T08:13:05.597Z"
        ],
        [
         "B00547",
         "P0043",
         "F0035",
         "A045",
         1047.2,
         "2025-04-24",
         "2025-07-15T16:41:15.224Z",
         547,
         "2025-07-16T08:13:05.597Z",
         "2025-07-16T08:13:05.597Z"
        ],
        [
         "B00548",
         "P0128",
         "F0010",
         "A030",
         1442.72,
         "2025-05-06",
         "2025-07-15T16:41:15.224Z",
         548,
         "2025-07-16T08:13:05.597Z",
         "2025-07-16T08:13:05.597Z"
        ],
        [
         "B00549",
         "P0111",
         "F0013",
         "A028",
         307.41,
         "2025-06-21",
         "2025-07-15T16:41:15.224Z",
         549,
         "2025-07-16T08:13:05.597Z",
         "2025-07-16T08:13:05.597Z"
        ],
        [
         "B00550",
         "P0129",
         "F0070",
         "A005",
         226.48,
         "2025-04-18",
         "2025-07-15T16:41:15.224Z",
         550,
         "2025-07-16T08:13:05.597Z",
         "2025-07-16T08:13:05.597Z"
        ],
        [
         "B00551",
         "P0109",
         "F0039",
         "A005",
         1159.88,
         "2025-06-10",
         "2025-07-15T16:41:15.224Z",
         551,
         "2025-07-16T08:13:05.597Z",
         "2025-07-16T08:13:05.597Z"
        ],
        [
         "B00552",
         "P0054",
         "F0084",
         "A044",
         257.59,
         "2025-05-30",
         "2025-07-15T16:41:15.224Z",
         552,
         "2025-07-16T08:13:05.597Z",
         "2025-07-16T08:13:05.597Z"
        ],
        [
         "B00553",
         "P0120",
         "F0083",
         "A022",
         960.8,
         "2025-06-01",
         "2025-07-15T16:41:15.224Z",
         553,
         "2025-07-16T08:13:05.597Z",
         "2025-07-16T08:13:05.597Z"
        ],
        [
         "B00554",
         "P0084",
         "F0058",
         "A006",
         590.04,
         "2025-06-17",
         "2025-07-15T16:41:15.224Z",
         554,
         "2025-07-16T08:13:05.597Z",
         "2025-07-16T08:13:05.597Z"
        ],
        [
         "B00555",
         "P0138",
         "F0019",
         "A027",
         1248.82,
         "2025-05-08",
         "2025-07-15T16:41:15.224Z",
         555,
         "2025-07-16T08:13:05.597Z",
         "2025-07-16T08:13:05.597Z"
        ],
        [
         "B00556",
         "P0141",
         "F0011",
         "A025",
         1461.19,
         "2025-05-03",
         "2025-07-15T16:41:15.224Z",
         556,
         "2025-07-16T08:13:05.597Z",
         "2025-07-16T08:13:05.597Z"
        ],
        [
         "B00557",
         "P0193",
         "F0061",
         "A048",
         471.85,
         "2025-05-02",
         "2025-07-15T16:41:15.224Z",
         557,
         "2025-07-16T08:13:05.597Z",
         "2025-07-16T08:13:05.597Z"
        ],
        [
         "B00558",
         "P0182",
         "F0052",
         "A017",
         871.86,
         "2025-04-07",
         "2025-07-15T16:41:15.224Z",
         558,
         "2025-07-16T08:13:05.597Z",
         "2025-07-16T08:13:05.597Z"
        ],
        [
         "B00559",
         "P0123",
         "F0086",
         "A026",
         347.51,
         "2025-06-01",
         "2025-07-15T16:41:15.224Z",
         559,
         "2025-07-16T08:13:05.597Z",
         "2025-07-16T08:13:05.597Z"
        ],
        [
         "B00560",
         "P0112",
         "F0060",
         "A046",
         144.74,
         "2025-06-19",
         "2025-07-15T16:41:15.224Z",
         560,
         "2025-07-16T08:13:05.597Z",
         "2025-07-16T08:13:05.597Z"
        ],
        [
         "B00561",
         "P0149",
         "F0080",
         "A034",
         418.23,
         "2025-04-16",
         "2025-07-15T16:41:15.224Z",
         561,
         "2025-07-16T08:13:05.597Z",
         "2025-07-16T08:13:05.597Z"
        ],
        [
         "B00562",
         "P0160",
         "F0048",
         "A012",
         264.7,
         "2025-05-10",
         "2025-07-15T16:41:15.224Z",
         562,
         "2025-07-16T08:13:05.597Z",
         "2025-07-16T08:13:05.597Z"
        ],
        [
         "B00563",
         "P0165",
         "F0083",
         "A024",
         139.39,
         "2025-05-29",
         "2025-07-15T16:41:15.224Z",
         563,
         "2025-07-16T08:13:05.597Z",
         "2025-07-16T08:13:05.597Z"
        ],
        [
         "B00564",
         "P0147",
         "F0012",
         "A018",
         368.13,
         "2025-04-07",
         "2025-07-15T16:41:15.224Z",
         564,
         "2025-07-16T08:13:05.597Z",
         "2025-07-16T08:13:05.597Z"
        ],
        [
         "B00565",
         "P0040",
         "F0007",
         "A020",
         604.03,
         "2025-06-15",
         "2025-07-15T16:41:15.224Z",
         565,
         "2025-07-16T08:13:05.597Z",
         "2025-07-16T08:13:05.597Z"
        ],
        [
         "B00566",
         "P0005",
         "F0071",
         "A001",
         1249.7,
         "2025-03-29",
         "2025-07-15T16:41:15.224Z",
         566,
         "2025-07-16T08:13:05.597Z",
         "2025-07-16T08:13:05.597Z"
        ],
        [
         "B00567",
         "P0089",
         "F0038",
         "A026",
         1189.01,
         "2025-05-22",
         "2025-07-15T16:41:15.224Z",
         567,
         "2025-07-16T08:13:05.597Z",
         "2025-07-16T08:13:05.597Z"
        ],
        [
         "B00568",
         "P0138",
         "F0040",
         "A035",
         1392.47,
         "2025-05-16",
         "2025-07-15T16:41:15.224Z",
         568,
         "2025-07-16T08:13:05.597Z",
         "2025-07-16T08:13:05.597Z"
        ],
        [
         "B00569",
         "P0177",
         "F0041",
         "A009",
         320.52,
         "2025-05-05",
         "2025-07-15T16:41:15.224Z",
         569,
         "2025-07-16T08:13:05.597Z",
         "2025-07-16T08:13:05.597Z"
        ],
        [
         "B00570",
         "P0127",
         "F0013",
         "A001",
         1484.21,
         "2025-04-13",
         "2025-07-15T16:41:15.224Z",
         570,
         "2025-07-16T08:13:05.597Z",
         "2025-07-16T08:13:05.597Z"
        ],
        [
         "B00571",
         "P0199",
         "F0070",
         "A022",
         1138.88,
         "2025-05-22",
         "2025-07-15T16:41:15.224Z",
         571,
         "2025-07-16T08:13:05.597Z",
         "2025-07-16T08:13:05.597Z"
        ],
        [
         "B00572",
         "P0011",
         "F0004",
         "A011",
         1290.46,
         "2025-06-07",
         "2025-07-15T16:41:15.224Z",
         572,
         "2025-07-16T08:13:05.597Z",
         "2025-07-16T08:13:05.597Z"
        ],
        [
         "B00573",
         "P0012",
         "F0074",
         "A045",
         1450.7,
         "2025-03-31",
         "2025-07-15T16:41:15.224Z",
         573,
         "2025-07-16T08:13:05.597Z",
         "2025-07-16T08:13:05.597Z"
        ],
        [
         "B00574",
         "P0179",
         "F0009",
         "A030",
         788.97,
         "2025-05-11",
         "2025-07-15T16:41:15.224Z",
         574,
         "2025-07-16T08:13:05.597Z",
         "2025-07-16T08:13:05.597Z"
        ],
        [
         "B00575",
         "P0054",
         "F0084",
         "A032",
         678.84,
         "2025-05-30",
         "2025-07-15T16:41:15.224Z",
         575,
         "2025-07-16T08:13:05.597Z",
         "2025-07-16T08:13:05.597Z"
        ],
        [
         "B00576",
         "P0069",
         "F0002",
         "A006",
         530.82,
         "2025-06-07",
         "2025-07-15T16:41:15.224Z",
         576,
         "2025-07-16T08:13:05.597Z",
         "2025-07-16T08:13:05.597Z"
        ],
        [
         "B00577",
         "P0116",
         "F0071",
         "A033",
         228.81,
         "2025-06-11",
         "2025-07-15T16:41:15.224Z",
         577,
         "2025-07-16T08:13:05.597Z",
         "2025-07-16T08:13:05.597Z"
        ],
        [
         "B00578",
         "P0132",
         "F0075",
         "A015",
         254.62,
         "2025-04-27",
         "2025-07-15T16:41:15.224Z",
         578,
         "2025-07-16T08:13:05.597Z",
         "2025-07-16T08:13:05.597Z"
        ],
        [
         "B00579",
         "P0051",
         "F0016",
         "A042",
         634.07,
         "2025-05-01",
         "2025-07-15T16:41:15.224Z",
         579,
         "2025-07-16T08:13:05.597Z",
         "2025-07-16T08:13:05.597Z"
        ],
        [
         "B00580",
         "P0108",
         "F0065",
         "A042",
         106.19,
         "2025-05-02",
         "2025-07-15T16:41:15.224Z",
         580,
         "2025-07-16T08:13:05.597Z",
         "2025-07-16T08:13:05.597Z"
        ],
        [
         "B00581",
         "P0062",
         "F0035",
         "A047",
         363.49,
         "2025-05-28",
         "2025-07-15T16:41:15.224Z",
         581,
         "2025-07-16T08:13:05.597Z",
         "2025-07-16T08:13:05.597Z"
        ],
        [
         "B00582",
         "P0158",
         "F0095",
         "A026",
         1319.22,
         "2025-05-28",
         "2025-07-15T16:41:15.224Z",
         582,
         "2025-07-16T08:13:05.597Z",
         "2025-07-16T08:13:05.597Z"
        ],
        [
         "B00583",
         "P0197",
         "F0058",
         "A022",
         547.38,
         "2025-05-13",
         "2025-07-15T16:41:15.224Z",
         583,
         "2025-07-16T08:13:05.597Z",
         "2025-07-16T08:13:05.597Z"
        ],
        [
         "B00584",
         "P0037",
         "F0040",
         "A017",
         1453.34,
         "2025-04-29",
         "2025-07-15T16:41:15.224Z",
         584,
         "2025-07-16T08:13:05.597Z",
         "2025-07-16T08:13:05.597Z"
        ],
        [
         "B00585",
         "P0066",
         "F0094",
         "A035",
         330.02,
         "2025-06-06",
         "2025-07-15T16:41:15.224Z",
         585,
         "2025-07-16T08:13:05.597Z",
         "2025-07-16T08:13:05.597Z"
        ],
        [
         "B00586",
         "P0063",
         "F0002",
         "A041",
         910.26,
         "2025-05-21",
         "2025-07-15T16:41:15.224Z",
         586,
         "2025-07-16T08:13:05.597Z",
         "2025-07-16T08:13:05.597Z"
        ],
        [
         "B00587",
         "P0032",
         "F0070",
         "A017",
         424.31,
         "2025-06-03",
         "2025-07-15T16:41:15.224Z",
         587,
         "2025-07-16T08:13:05.597Z",
         "2025-07-16T08:13:05.597Z"
        ],
        [
         "B00588",
         "P0069",
         "F0083",
         "A015",
         388.03,
         "2025-05-28",
         "2025-07-15T16:41:15.224Z",
         588,
         "2025-07-16T08:13:05.597Z",
         "2025-07-16T08:13:05.597Z"
        ],
        [
         "B00589",
         "P0001",
         "F0095",
         "A045",
         563.85,
         "2025-04-08",
         "2025-07-15T16:41:15.224Z",
         589,
         "2025-07-16T08:13:05.597Z",
         "2025-07-16T08:13:05.597Z"
        ],
        [
         "B00590",
         "P0035",
         "F0072",
         "A022",
         1251.89,
         "2025-06-18",
         "2025-07-15T16:41:15.224Z",
         590,
         "2025-07-16T08:13:05.597Z",
         "2025-07-16T08:13:05.597Z"
        ],
        [
         "B00591",
         "P0012",
         "F0052",
         "A020",
         116.09,
         "2025-05-25",
         "2025-07-15T16:41:15.224Z",
         591,
         "2025-07-16T08:13:05.597Z",
         "2025-07-16T08:13:05.597Z"
        ],
        [
         "B00592",
         "P0141",
         "F0089",
         "A018",
         1099.2,
         "2025-06-15",
         "2025-07-15T16:41:15.224Z",
         592,
         "2025-07-16T08:13:05.597Z",
         "2025-07-16T08:13:05.597Z"
        ],
        [
         "B00593",
         "P0165",
         "F0035",
         "A016",
         807.12,
         "2025-05-24",
         "2025-07-15T16:41:15.224Z",
         593,
         "2025-07-16T08:13:05.597Z",
         "2025-07-16T08:13:05.597Z"
        ],
        [
         "B00594",
         "P0010",
         "F0004",
         "A038",
         904.78,
         "2025-04-08",
         "2025-07-15T16:41:15.224Z",
         594,
         "2025-07-16T08:13:05.597Z",
         "2025-07-16T08:13:05.597Z"
        ],
        [
         "B00595",
         "P0194",
         "F0094",
         "A010",
         1018.79,
         "2025-04-16",
         "2025-07-15T16:41:15.224Z",
         595,
         "2025-07-16T08:13:05.597Z",
         "2025-07-16T08:13:05.597Z"
        ],
        [
         "B00596",
         "P0011",
         "F0059",
         "A006",
         993.56,
         "2025-06-11",
         "2025-07-15T16:41:15.224Z",
         596,
         "2025-07-16T08:13:05.597Z",
         "2025-07-16T08:13:05.597Z"
        ],
        [
         "B00597",
         "P0160",
         "F0068",
         "A048",
         128.05,
         "2025-06-08",
         "2025-07-15T16:41:15.224Z",
         597,
         "2025-07-16T08:13:05.597Z",
         "2025-07-16T08:13:05.597Z"
        ],
        [
         "B00598",
         "P0189",
         "F0088",
         "A007",
         273.36,
         "2025-06-12",
         "2025-07-15T16:41:15.224Z",
         598,
         "2025-07-16T08:13:05.597Z",
         "2025-07-16T08:13:05.597Z"
        ],
        [
         "B00599",
         "P0062",
         "F0066",
         "A028",
         598.61,
         "2025-03-30",
         "2025-07-15T16:41:15.224Z",
         599,
         "2025-07-16T08:13:05.597Z",
         "2025-07-16T08:13:05.597Z"
        ],
        [
         "B00600",
         "P0093",
         "F0080",
         "A038",
         699.69,
         "2025-04-28",
         "2025-07-15T16:41:15.224Z",
         600,
         "2025-07-16T08:13:05.597Z",
         "2025-07-16T08:13:05.597Z"
        ],
        [
         "B00601",
         "P0053",
         "F0046",
         "A008",
         1012.7,
         "2025-04-05",
         "2025-07-15T16:41:15.224Z",
         601,
         "2025-07-16T08:13:05.597Z",
         "2025-07-16T08:13:05.597Z"
        ],
        [
         "B00602",
         "P0141",
         "F0060",
         "A026",
         484.69,
         "2025-05-05",
         "2025-07-15T16:41:15.224Z",
         602,
         "2025-07-16T08:13:05.597Z",
         "2025-07-16T08:13:05.597Z"
        ],
        [
         "B00603",
         "P0187",
         "F0004",
         "A049",
         294.23,
         "2025-04-22",
         "2025-07-15T16:41:15.224Z",
         603,
         "2025-07-16T08:13:05.597Z",
         "2025-07-16T08:13:05.597Z"
        ],
        [
         "B00604",
         "P0104",
         "F0055",
         "A007",
         607.44,
         "2025-04-05",
         "2025-07-15T16:41:15.224Z",
         604,
         "2025-07-16T08:13:05.597Z",
         "2025-07-16T08:13:05.597Z"
        ],
        [
         "B00605",
         "P0141",
         "F0032",
         "A004",
         1075.75,
         "2025-06-21",
         "2025-07-15T16:41:15.224Z",
         605,
         "2025-07-16T08:13:05.597Z",
         "2025-07-16T08:13:05.597Z"
        ],
        [
         "B00606",
         "P0190",
         "F0067",
         "A025",
         357.14,
         "2025-05-23",
         "2025-07-15T16:41:15.224Z",
         606,
         "2025-07-16T08:13:05.597Z",
         "2025-07-16T08:13:05.597Z"
        ],
        [
         "B00607",
         "P0052",
         "F0079",
         "A002",
         943.05,
         "2025-03-27",
         "2025-07-15T16:41:15.224Z",
         607,
         "2025-07-16T08:13:05.597Z",
         "2025-07-16T08:13:05.597Z"
        ],
        [
         "B00608",
         "P0065",
         "F0041",
         "A036",
         526.82,
         "2025-05-31",
         "2025-07-15T16:41:15.224Z",
         608,
         "2025-07-16T08:13:05.597Z",
         "2025-07-16T08:13:05.597Z"
        ],
        [
         "B00609",
         "P0140",
         "F0021",
         "A015",
         1263.6,
         "2025-04-28",
         "2025-07-15T16:41:15.224Z",
         609,
         "2025-07-16T08:13:05.597Z",
         "2025-07-16T08:13:05.597Z"
        ],
        [
         "B00610",
         "P0189",
         "F0050",
         "A003",
         916.27,
         "2025-04-01",
         "2025-07-15T16:41:15.224Z",
         610,
         "2025-07-16T08:13:05.597Z",
         "2025-07-16T08:13:05.597Z"
        ],
        [
         "B00611",
         "P0025",
         "F0059",
         "A042",
         1174.31,
         "2025-05-14",
         "2025-07-15T16:41:15.224Z",
         611,
         "2025-07-16T08:13:05.597Z",
         "2025-07-16T08:13:05.597Z"
        ],
        [
         "B00612",
         "P0042",
         "F0075",
         "A001",
         1326.01,
         "2025-05-04",
         "2025-07-15T16:41:15.224Z",
         612,
         "2025-07-16T08:13:05.597Z",
         "2025-07-16T08:13:05.597Z"
        ],
        [
         "B00613",
         "P0073",
         "F0077",
         "A045",
         1401.23,
         "2025-04-05",
         "2025-07-15T16:41:15.224Z",
         613,
         "2025-07-16T08:13:05.597Z",
         "2025-07-16T08:13:05.597Z"
        ],
        [
         "B00614",
         "P0083",
         "F0097",
         "A044",
         119.23,
         "2025-05-02",
         "2025-07-15T16:41:15.224Z",
         614,
         "2025-07-16T08:13:05.597Z",
         "2025-07-16T08:13:05.597Z"
        ],
        [
         "B00615",
         "P0182",
         "F0011",
         "A014",
         953.82,
         "2025-03-25",
         "2025-07-15T16:41:15.224Z",
         615,
         "2025-07-16T08:13:05.597Z",
         "2025-07-16T08:13:05.597Z"
        ],
        [
         "B00616",
         "P0193",
         "F0013",
         "A007",
         1213.6,
         "2025-04-17",
         "2025-07-15T16:41:15.224Z",
         616,
         "2025-07-16T08:13:05.597Z",
         "2025-07-16T08:13:05.597Z"
        ],
        [
         "B00617",
         "P0172",
         "F0006",
         "A028",
         1014.07,
         "2025-04-02",
         "2025-07-15T16:41:15.224Z",
         617,
         "2025-07-16T08:13:05.597Z",
         "2025-07-16T08:13:05.597Z"
        ],
        [
         "B00618",
         "P0065",
         "F0053",
         "A031",
         1011.04,
         "2025-04-09",
         "2025-07-15T16:41:15.224Z",
         618,
         "2025-07-16T08:13:05.597Z",
         "2025-07-16T08:13:05.597Z"
        ],
        [
         "B00619",
         "P0005",
         "F0036",
         "A011",
         112.06,
         "2025-05-23",
         "2025-07-15T16:41:15.224Z",
         619,
         "2025-07-16T08:13:05.597Z",
         "2025-07-16T08:13:05.597Z"
        ],
        [
         "B00620",
         "P0064",
         "F0099",
         "A004",
         726.66,
         "2025-05-12",
         "2025-07-15T16:41:15.224Z",
         620,
         "2025-07-16T08:13:05.597Z",
         "2025-07-16T08:13:05.597Z"
        ],
        [
         "B00621",
         "P0046",
         "F0001",
         "A006",
         824.69,
         "2025-06-08",
         "2025-07-15T16:41:15.224Z",
         621,
         "2025-07-16T08:13:05.597Z",
         "2025-07-16T08:13:05.597Z"
        ],
        [
         "B00622",
         "P0084",
         "F0017",
         "A038",
         122.32,
         "2025-06-16",
         "2025-07-15T16:41:15.224Z",
         622,
         "2025-07-16T08:13:05.597Z",
         "2025-07-16T08:13:05.597Z"
        ],
        [
         "B00623",
         "P0011",
         "F0001",
         "A035",
         507.36,
         "2025-06-09",
         "2025-07-15T16:41:15.224Z",
         623,
         "2025-07-16T08:13:05.597Z",
         "2025-07-16T08:13:05.597Z"
        ],
        [
         "B00624",
         "P0040",
         "F0066",
         "A013",
         1232.78,
         "2025-06-02",
         "2025-07-15T16:41:15.224Z",
         624,
         "2025-07-16T08:13:05.597Z",
         "2025-07-16T08:13:05.597Z"
        ],
        [
         "B00625",
         "P0007",
         "F0065",
         "A047",
         1409.64,
         "2025-06-20",
         "2025-07-15T16:41:15.224Z",
         625,
         "2025-07-16T08:13:05.597Z",
         "2025-07-16T08:13:05.597Z"
        ],
        [
         "B00626",
         "P0044",
         "F0047",
         "A033",
         505.89,
         "2025-04-01",
         "2025-07-15T16:41:15.224Z",
         626,
         "2025-07-16T08:13:05.597Z",
         "2025-07-16T08:13:05.597Z"
        ],
        [
         "B00627",
         "P0095",
         "F0095",
         "A020",
         106.79,
         "2025-06-13",
         "2025-07-15T16:41:15.224Z",
         627,
         "2025-07-16T08:13:05.597Z",
         "2025-07-16T08:13:05.597Z"
        ],
        [
         "B00628",
         "P0057",
         "F0021",
         "A023",
         1116.32,
         "2025-05-05",
         "2025-07-15T16:41:15.224Z",
         628,
         "2025-07-16T08:13:05.597Z",
         "2025-07-16T08:13:05.597Z"
        ],
        [
         "B00629",
         "P0192",
         "F0058",
         "A023",
         733.44,
         "2025-04-22",
         "2025-07-15T16:41:15.224Z",
         629,
         "2025-07-16T08:13:05.597Z",
         "2025-07-16T08:13:05.597Z"
        ],
        [
         "B00630",
         "P0189",
         "F0019",
         "A031",
         912.97,
         "2025-05-15",
         "2025-07-15T16:41:15.224Z",
         630,
         "2025-07-16T08:13:05.597Z",
         "2025-07-16T08:13:05.597Z"
        ],
        [
         "B00631",
         "P0144",
         "F0085",
         "A026",
         1111.75,
         "2025-04-15",
         "2025-07-15T16:41:15.224Z",
         631,
         "2025-07-16T08:13:05.597Z",
         "2025-07-16T08:13:05.597Z"
        ],
        [
         "B00632",
         "P0005",
         "F0025",
         "A010",
         1195.99,
         "2025-04-20",
         "2025-07-15T16:41:15.224Z",
         632,
         "2025-07-16T08:13:05.597Z",
         "2025-07-16T08:13:05.597Z"
        ],
        [
         "B00633",
         "P0080",
         "F0025",
         "A022",
         1364.4,
         "2025-04-16",
         "2025-07-15T16:41:15.224Z",
         633,
         "2025-07-16T08:13:05.597Z",
         "2025-07-16T08:13:05.597Z"
        ],
        [
         "B00634",
         "P0010",
         "F0024",
         "A038",
         403.0,
         "2025-05-02",
         "2025-07-15T16:41:15.224Z",
         634,
         "2025-07-16T08:13:05.597Z",
         "2025-07-16T08:13:05.597Z"
        ],
        [
         "B00635",
         "P0166",
         "F0056",
         "A036",
         1453.45,
         "2025-04-26",
         "2025-07-15T16:41:15.224Z",
         635,
         "2025-07-16T08:13:05.597Z",
         "2025-07-16T08:13:05.597Z"
        ],
        [
         "B00636",
         "P0154",
         "F0062",
         "A040",
         152.12,
         "2025-04-26",
         "2025-07-15T16:41:15.224Z",
         636,
         "2025-07-16T08:13:05.597Z",
         "2025-07-16T08:13:05.597Z"
        ],
        [
         "B00637",
         "P0013",
         "F0056",
         "A048",
         1495.72,
         "2025-04-30",
         "2025-07-15T16:41:15.224Z",
         637,
         "2025-07-16T08:13:05.597Z",
         "2025-07-16T08:13:05.597Z"
        ],
        [
         "B00638",
         "P0177",
         "F0094",
         "A039",
         220.26,
         "2025-06-16",
         "2025-07-15T16:41:15.224Z",
         638,
         "2025-07-16T08:13:05.597Z",
         "2025-07-16T08:13:05.597Z"
        ],
        [
         "B00639",
         "P0013",
         "F0058",
         "A043",
         833.83,
         "2025-05-07",
         "2025-07-15T16:41:15.224Z",
         639,
         "2025-07-16T08:13:05.597Z",
         "2025-07-16T08:13:05.597Z"
        ],
        [
         "B00640",
         "P0131",
         "F0042",
         "A015",
         1072.55,
         "2025-03-24",
         "2025-07-15T16:41:15.224Z",
         640,
         "2025-07-16T08:13:05.597Z",
         "2025-07-16T08:13:05.597Z"
        ],
        [
         "B00641",
         "P0120",
         "F0018",
         "A021",
         1465.99,
         "2025-05-10",
         "2025-07-15T16:41:15.224Z",
         641,
         "2025-07-16T08:13:05.597Z",
         "2025-07-16T08:13:05.597Z"
        ],
        [
         "B00642",
         "P0017",
         "F0022",
         "A028",
         534.52,
         "2025-05-02",
         "2025-07-15T16:41:15.224Z",
         642,
         "2025-07-16T08:13:05.597Z",
         "2025-07-16T08:13:05.597Z"
        ],
        [
         "B00643",
         "P0196",
         "F0047",
         "A031",
         1052.07,
         "2025-06-19",
         "2025-07-15T16:41:15.224Z",
         643,
         "2025-07-16T08:13:05.597Z",
         "2025-07-16T08:13:05.597Z"
        ],
        [
         "B00644",
         "P0083",
         "F0060",
         "A019",
         1279.69,
         "2025-04-13",
         "2025-07-15T16:41:15.224Z",
         644,
         "2025-07-16T08:13:05.597Z",
         "2025-07-16T08:13:05.597Z"
        ],
        [
         "B00645",
         "P0034",
         "F0057",
         "A037",
         122.26,
         "2025-06-01",
         "2025-07-15T16:41:15.224Z",
         645,
         "2025-07-16T08:13:05.597Z",
         "2025-07-16T08:13:05.597Z"
        ],
        [
         "B00646",
         "P0011",
         "F0014",
         "A009",
         222.83,
         "2025-05-08",
         "2025-07-15T16:41:15.224Z",
         646,
         "2025-07-16T08:13:05.597Z",
         "2025-07-16T08:13:05.597Z"
        ],
        [
         "B00647",
         "P0010",
         "F0043",
         "A010",
         727.41,
         "2025-05-25",
         "2025-07-15T16:41:15.224Z",
         647,
         "2025-07-16T08:13:05.597Z",
         "2025-07-16T08:13:05.597Z"
        ],
        [
         "B00648",
         "P0126",
         "F0059",
         "A033",
         1476.07,
         "2025-04-09",
         "2025-07-15T16:41:15.224Z",
         648,
         "2025-07-16T08:13:05.597Z",
         "2025-07-16T08:13:05.597Z"
        ],
        [
         "B00649",
         "P0045",
         "F0053",
         "A001",
         1343.51,
         "2025-04-21",
         "2025-07-15T16:41:15.224Z",
         649,
         "2025-07-16T08:13:05.597Z",
         "2025-07-16T08:13:05.597Z"
        ],
        [
         "B00650",
         "P0188",
         "F0061",
         "A035",
         1202.76,
         "2025-05-04",
         "2025-07-15T16:41:15.224Z",
         650,
         "2025-07-16T08:13:05.597Z",
         "2025-07-16T08:13:05.597Z"
        ],
        [
         "B00651",
         "P0018",
         "F0059",
         "A029",
         982.68,
         "2025-03-28",
         "2025-07-15T16:41:15.224Z",
         651,
         "2025-07-16T08:13:05.597Z",
         "2025-07-16T08:13:05.597Z"
        ],
        [
         "B00652",
         "P0190",
         "F0054",
         "A002",
         1321.99,
         "2025-04-13",
         "2025-07-15T16:41:15.224Z",
         652,
         "2025-07-16T08:13:05.597Z",
         "2025-07-16T08:13:05.597Z"
        ],
        [
         "B00653",
         "P0010",
         "F0045",
         "A031",
         519.24,
         "2025-03-25",
         "2025-07-15T16:41:15.224Z",
         653,
         "2025-07-16T08:13:05.597Z",
         "2025-07-16T08:13:05.597Z"
        ],
        [
         "B00654",
         "P0036",
         "F0022",
         "A033",
         1205.07,
         "2025-04-22",
         "2025-07-15T16:41:15.224Z",
         654,
         "2025-07-16T08:13:05.597Z",
         "2025-07-16T08:13:05.597Z"
        ],
        [
         "B00655",
         "P0012",
         "F0032",
         "A031",
         576.41,
         "2025-05-01",
         "2025-07-15T16:41:15.224Z",
         655,
         "2025-07-16T08:13:05.597Z",
         "2025-07-16T08:13:05.597Z"
        ],
        [
         "B00656",
         "P0108",
         "F0100",
         "A017",
         656.73,
         "2025-04-27",
         "2025-07-15T16:41:15.224Z",
         656,
         "2025-07-16T08:13:05.597Z",
         "2025-07-16T08:13:05.597Z"
        ],
        [
         "B00657",
         "P0114",
         "F0049",
         "A037",
         143.55,
         "2025-06-07",
         "2025-07-15T16:41:15.224Z",
         657,
         "2025-07-16T08:13:05.597Z",
         "2025-07-16T08:13:05.597Z"
        ],
        [
         "B00658",
         "P0016",
         "F0013",
         "A021",
         1258.56,
         "2025-04-19",
         "2025-07-15T16:41:15.224Z",
         658,
         "2025-07-16T08:13:05.597Z",
         "2025-07-16T08:13:05.597Z"
        ],
        [
         "B00659",
         "P0130",
         "F0036",
         "A045",
         532.79,
         "2025-05-31",
         "2025-07-15T16:41:15.224Z",
         659,
         "2025-07-16T08:13:05.597Z",
         "2025-07-16T08:13:05.597Z"
        ],
        [
         "B00660",
         "P0135",
         "F0071",
         "A012",
         1187.85,
         "2025-05-13",
         "2025-07-15T16:41:15.224Z",
         660,
         "2025-07-16T08:13:05.597Z",
         "2025-07-16T08:13:05.597Z"
        ],
        [
         "B00661",
         "P0165",
         "F0010",
         "A044",
         132.4,
         "2025-04-28",
         "2025-07-15T16:41:15.224Z",
         661,
         "2025-07-16T08:13:05.597Z",
         "2025-07-16T08:13:05.597Z"
        ],
        [
         "B00662",
         "P0095",
         "F0029",
         "A038",
         1346.25,
         "2025-03-27",
         "2025-07-15T16:41:15.224Z",
         662,
         "2025-07-16T08:13:05.597Z",
         "2025-07-16T08:13:05.597Z"
        ],
        [
         "B00663",
         "P0039",
         "F0031",
         "A018",
         1399.31,
         "2025-06-01",
         "2025-07-15T16:41:15.224Z",
         663,
         "2025-07-16T08:13:05.597Z",
         "2025-07-16T08:13:05.597Z"
        ],
        [
         "B00664",
         "P0093",
         "F0014",
         "A032",
         906.62,
         "2025-04-13",
         "2025-07-15T16:41:15.224Z",
         664,
         "2025-07-16T08:13:05.597Z",
         "2025-07-16T08:13:05.597Z"
        ],
        [
         "B00665",
         "P0040",
         "F0010",
         "A037",
         1180.68,
         "2025-04-03",
         "2025-07-15T16:41:15.224Z",
         665,
         "2025-07-16T08:13:05.597Z",
         "2025-07-16T08:13:05.597Z"
        ],
        [
         "B00666",
         "P0040",
         "F0047",
         "A007",
         836.73,
         "2025-04-16",
         "2025-07-15T16:41:15.224Z",
         666,
         "2025-07-16T08:13:05.597Z",
         "2025-07-16T08:13:05.597Z"
        ],
        [
         "B00667",
         "P0001",
         "F0086",
         "A016",
         1430.8,
         "2025-03-30",
         "2025-07-15T16:41:15.224Z",
         667,
         "2025-07-16T08:13:05.597Z",
         "2025-07-16T08:13:05.597Z"
        ],
        [
         "B00668",
         "P0192",
         "F0019",
         "A037",
         340.13,
         "2025-06-05",
         "2025-07-15T16:41:15.224Z",
         668,
         "2025-07-16T08:13:05.597Z",
         "2025-07-16T08:13:05.597Z"
        ],
        [
         "B00669",
         "P0026",
         "F0015",
         "A012",
         1135.7,
         "2025-04-04",
         "2025-07-15T16:41:15.224Z",
         669,
         "2025-07-16T08:13:05.597Z",
         "2025-07-16T08:13:05.597Z"
        ],
        [
         "B00670",
         "P0093",
         "F0085",
         "A005",
         585.4,
         "2025-05-17",
         "2025-07-15T16:41:15.224Z",
         670,
         "2025-07-16T08:13:05.597Z",
         "2025-07-16T08:13:05.597Z"
        ],
        [
         "B00671",
         "P0075",
         "F0043",
         "A027",
         594.27,
         "2025-04-07",
         "2025-07-15T16:41:15.224Z",
         671,
         "2025-07-16T08:13:05.597Z",
         "2025-07-16T08:13:05.597Z"
        ],
        [
         "B00672",
         "P0174",
         "F0002",
         "A020",
         293.3,
         "2025-04-21",
         "2025-07-15T16:41:15.224Z",
         672,
         "2025-07-16T08:13:05.597Z",
         "2025-07-16T08:13:05.597Z"
        ],
        [
         "B00673",
         "P0075",
         "F0065",
         "A007",
         978.09,
         "2025-06-14",
         "2025-07-15T16:41:15.224Z",
         673,
         "2025-07-16T08:13:05.597Z",
         "2025-07-16T08:13:05.597Z"
        ],
        [
         "B00674",
         "P0122",
         "F0054",
         "A003",
         1388.41,
         "2025-05-30",
         "2025-07-15T16:41:15.224Z",
         674,
         "2025-07-16T08:13:05.597Z",
         "2025-07-16T08:13:05.597Z"
        ],
        [
         "B00675",
         "P0198",
         "F0001",
         "A026",
         1438.71,
         "2025-06-12",
         "2025-07-15T16:41:15.224Z",
         675,
         "2025-07-16T08:13:05.597Z",
         "2025-07-16T08:13:05.597Z"
        ],
        [
         "B00676",
         "P0055",
         "F0074",
         "A009",
         263.21,
         "2025-03-28",
         "2025-07-15T16:41:15.224Z",
         676,
         "2025-07-16T08:13:05.597Z",
         "2025-07-16T08:13:05.597Z"
        ],
        [
         "B00677",
         "P0009",
         "F0026",
         "A042",
         507.07,
         "2025-05-07",
         "2025-07-15T16:41:15.224Z",
         677,
         "2025-07-16T08:13:05.597Z",
         "2025-07-16T08:13:05.597Z"
        ],
        [
         "B00678",
         "P0167",
         "F0069",
         "A027",
         156.82,
         "2025-03-30",
         "2025-07-15T16:41:15.224Z",
         678,
         "2025-07-16T08:13:05.597Z",
         "2025-07-16T08:13:05.597Z"
        ],
        [
         "B00679",
         "P0057",
         "F0049",
         "A007",
         1206.82,
         "2025-05-19",
         "2025-07-15T16:41:15.224Z",
         679,
         "2025-07-16T08:13:05.597Z",
         "2025-07-16T08:13:05.597Z"
        ],
        [
         "B00680",
         "P0080",
         "F0065",
         "A036",
         167.95,
         "2025-05-15",
         "2025-07-15T16:41:15.224Z",
         680,
         "2025-07-16T08:13:05.597Z",
         "2025-07-16T08:13:05.597Z"
        ],
        [
         "B00681",
         "P0136",
         "F0010",
         "A009",
         1340.96,
         "2025-06-15",
         "2025-07-15T16:41:15.224Z",
         681,
         "2025-07-16T08:13:05.597Z",
         "2025-07-16T08:13:05.597Z"
        ],
        [
         "B00682",
         "P0193",
         "F0078",
         "A010",
         858.91,
         "2025-03-29",
         "2025-07-15T16:41:15.224Z",
         682,
         "2025-07-16T08:13:05.597Z",
         "2025-07-16T08:13:05.597Z"
        ],
        [
         "B00683",
         "P0018",
         "F0027",
         "A020",
         1317.5,
         "2025-06-01",
         "2025-07-15T16:41:15.224Z",
         683,
         "2025-07-16T08:13:05.597Z",
         "2025-07-16T08:13:05.597Z"
        ],
        [
         "B00684",
         "P0139",
         "F0033",
         "A041",
         504.82,
         "2025-05-10",
         "2025-07-15T16:41:15.224Z",
         684,
         "2025-07-16T08:13:05.597Z",
         "2025-07-16T08:13:05.597Z"
        ],
        [
         "B00685",
         "P0016",
         "F0059",
         "A021",
         1254.97,
         "2025-03-28",
         "2025-07-15T16:41:15.224Z",
         685,
         "2025-07-16T08:13:05.597Z",
         "2025-07-16T08:13:05.597Z"
        ],
        [
         "B00686",
         "P0168",
         "F0080",
         "A037",
         1267.07,
         "2025-06-09",
         "2025-07-15T16:41:15.224Z",
         686,
         "2025-07-16T08:13:05.597Z",
         "2025-07-16T08:13:05.597Z"
        ],
        [
         "B00687",
         "P0061",
         "F0013",
         "A026",
         202.09,
         "2025-05-01",
         "2025-07-15T16:41:15.224Z",
         687,
         "2025-07-16T08:13:05.597Z",
         "2025-07-16T08:13:05.597Z"
        ],
        [
         "B00688",
         "P0046",
         "F0064",
         "A049",
         935.88,
         "2025-05-03",
         "2025-07-15T16:41:15.224Z",
         688,
         "2025-07-16T08:13:05.597Z",
         "2025-07-16T08:13:05.597Z"
        ],
        [
         "B00689",
         "P0001",
         "F0095",
         "A038",
         1334.67,
         "2025-05-13",
         "2025-07-15T16:41:15.224Z",
         689,
         "2025-07-16T08:13:05.597Z",
         "2025-07-16T08:13:05.597Z"
        ],
        [
         "B00690",
         "P0036",
         "F0033",
         "A043",
         1400.55,
         "2025-05-31",
         "2025-07-15T16:41:15.224Z",
         690,
         "2025-07-16T08:13:05.597Z",
         "2025-07-16T08:13:05.597Z"
        ],
        [
         "B00691",
         "P0033",
         "F0008",
         "A037",
         525.66,
         "2025-06-17",
         "2025-07-15T16:41:15.224Z",
         691,
         "2025-07-16T08:13:05.597Z",
         "2025-07-16T08:13:05.597Z"
        ],
        [
         "B00692",
         "P0089",
         "F0014",
         "A031",
         1099.74,
         "2025-05-16",
         "2025-07-15T16:41:15.224Z",
         692,
         "2025-07-16T08:13:05.597Z",
         "2025-07-16T08:13:05.597Z"
        ],
        [
         "B00693",
         "P0150",
         "F0084",
         "A009",
         789.54,
         "2025-06-15",
         "2025-07-15T16:41:15.224Z",
         693,
         "2025-07-16T08:13:05.597Z",
         "2025-07-16T08:13:05.597Z"
        ],
        [
         "B00694",
         "P0166",
         "F0090",
         "A036",
         259.81,
         "2025-05-26",
         "2025-07-15T16:41:15.224Z",
         694,
         "2025-07-16T08:13:05.597Z",
         "2025-07-16T08:13:05.597Z"
        ],
        [
         "B00695",
         "P0122",
         "F0016",
         "A029",
         462.01,
         "2025-06-16",
         "2025-07-15T16:41:15.224Z",
         695,
         "2025-07-16T08:13:05.597Z",
         "2025-07-16T08:13:05.597Z"
        ],
        [
         "B00696",
         "P0144",
         "F0087",
         "A008",
         857.04,
         "2025-06-07",
         "2025-07-15T16:41:15.224Z",
         696,
         "2025-07-16T08:13:05.597Z",
         "2025-07-16T08:13:05.597Z"
        ],
        [
         "B00697",
         "P0124",
         "F0008",
         "A047",
         1060.09,
         "2025-06-15",
         "2025-07-15T16:41:15.224Z",
         697,
         "2025-07-16T08:13:05.597Z",
         "2025-07-16T08:13:05.597Z"
        ],
        [
         "B00698",
         "P0073",
         "F0066",
         "A036",
         130.56,
         "2025-05-27",
         "2025-07-15T16:41:15.224Z",
         698,
         "2025-07-16T08:13:05.597Z",
         "2025-07-16T08:13:05.597Z"
        ],
        [
         "B00699",
         "P0200",
         "F0089",
         "A011",
         283.06,
         "2025-05-05",
         "2025-07-15T16:41:15.224Z",
         699,
         "2025-07-16T08:13:05.597Z",
         "2025-07-16T08:13:05.597Z"
        ],
        [
         "B00700",
         "P0122",
         "F0095",
         "A032",
         911.55,
         "2025-06-02",
         "2025-07-15T16:41:15.224Z",
         700,
         "2025-07-16T08:13:05.597Z",
         "2025-07-16T08:13:05.597Z"
        ],
        [
         "B00701",
         "P0088",
         "F0004",
         "A002",
         114.15,
         "2025-06-18",
         "2025-07-15T16:41:15.224Z",
         701,
         "2025-07-16T08:13:05.597Z",
         "2025-07-16T08:13:05.597Z"
        ],
        [
         "B00702",
         "P0174",
         "F0007",
         "A038",
         1225.72,
         "2025-05-02",
         "2025-07-15T16:41:15.224Z",
         702,
         "2025-07-16T08:13:05.597Z",
         "2025-07-16T08:13:05.597Z"
        ],
        [
         "B00703",
         "P0048",
         "F0035",
         "A015",
         237.38,
         "2025-06-21",
         "2025-07-15T16:41:15.224Z",
         703,
         "2025-07-16T08:13:05.597Z",
         "2025-07-16T08:13:05.597Z"
        ],
        [
         "B00704",
         "P0128",
         "F0086",
         "A011",
         1304.64,
         "2025-03-26",
         "2025-07-15T16:41:15.224Z",
         704,
         "2025-07-16T08:13:05.597Z",
         "2025-07-16T08:13:05.597Z"
        ],
        [
         "B00705",
         "P0159",
         "F0048",
         "A007",
         990.98,
         "2025-06-15",
         "2025-07-15T16:41:15.224Z",
         705,
         "2025-07-16T08:13:05.597Z",
         "2025-07-16T08:13:05.597Z"
        ],
        [
         "B00706",
         "P0112",
         "F0004",
         "A027",
         560.32,
         "2025-06-12",
         "2025-07-15T16:41:15.224Z",
         706,
         "2025-07-16T08:13:05.597Z",
         "2025-07-16T08:13:05.597Z"
        ],
        [
         "B00707",
         "P0173",
         "F0032",
         "A032",
         1424.78,
         "2025-05-28",
         "2025-07-15T16:41:15.224Z",
         707,
         "2025-07-16T08:13:05.597Z",
         "2025-07-16T08:13:05.597Z"
        ],
        [
         "B00708",
         "P0130",
         "F0046",
         "A044",
         1097.72,
         "2025-04-14",
         "2025-07-15T16:41:15.224Z",
         708,
         "2025-07-16T08:13:05.597Z",
         "2025-07-16T08:13:05.597Z"
        ],
        [
         "B00709",
         "P0188",
         "F0013",
         "A031",
         697.72,
         "2025-05-17",
         "2025-07-15T16:41:15.224Z",
         709,
         "2025-07-16T08:13:05.597Z",
         "2025-07-16T08:13:05.597Z"
        ],
        [
         "B00710",
         "P0014",
         "F0081",
         "A049",
         160.19,
         "2025-05-16",
         "2025-07-15T16:41:15.224Z",
         710,
         "2025-07-16T08:13:05.597Z",
         "2025-07-16T08:13:05.597Z"
        ],
        [
         "B00711",
         "P0081",
         "F0063",
         "A008",
         415.15,
         "2025-05-02",
         "2025-07-15T16:41:15.224Z",
         711,
         "2025-07-16T08:13:05.597Z",
         "2025-07-16T08:13:05.597Z"
        ],
        [
         "B00712",
         "P0073",
         "F0097",
         "A002",
         654.47,
         "2025-04-07",
         "2025-07-15T16:41:15.224Z",
         712,
         "2025-07-16T08:13:05.597Z",
         "2025-07-16T08:13:05.597Z"
        ],
        [
         "B00713",
         "P0068",
         "F0018",
         "A039",
         514.5,
         "2025-06-15",
         "2025-07-15T16:41:15.224Z",
         713,
         "2025-07-16T08:13:05.597Z",
         "2025-07-16T08:13:05.597Z"
        ],
        [
         "B00714",
         "P0176",
         "F0094",
         "A037",
         110.8,
         "2025-05-31",
         "2025-07-15T16:41:15.224Z",
         714,
         "2025-07-16T08:13:05.597Z",
         "2025-07-16T08:13:05.597Z"
        ],
        [
         "B00715",
         "P0090",
         "F0094",
         "A017",
         1257.31,
         "2025-05-08",
         "2025-07-15T16:41:15.224Z",
         715,
         "2025-07-16T08:13:05.597Z",
         "2025-07-16T08:13:05.597Z"
        ],
        [
         "B00716",
         "P0189",
         "F0094",
         "A038",
         619.58,
         "2025-03-27",
         "2025-07-15T16:41:15.224Z",
         716,
         "2025-07-16T08:13:05.597Z",
         "2025-07-16T08:13:05.597Z"
        ],
        [
         "B00717",
         "P0049",
         "F0085",
         "A020",
         745.38,
         "2025-05-20",
         "2025-07-15T16:41:15.224Z",
         717,
         "2025-07-16T08:13:05.597Z",
         "2025-07-16T08:13:05.597Z"
        ],
        [
         "B00718",
         "P0098",
         "F0091",
         "A002",
         1468.61,
         "2025-03-30",
         "2025-07-15T16:41:15.224Z",
         718,
         "2025-07-16T08:13:05.597Z",
         "2025-07-16T08:13:05.597Z"
        ],
        [
         "B00719",
         "P0086",
         "F0095",
         "A015",
         1413.42,
         "2025-06-20",
         "2025-07-15T16:41:15.224Z",
         719,
         "2025-07-16T08:13:05.597Z",
         "2025-07-16T08:13:05.597Z"
        ],
        [
         "B00720",
         "P0140",
         "F0010",
         "A010",
         590.1,
         "2025-04-09",
         "2025-07-15T16:41:15.224Z",
         720,
         "2025-07-16T08:13:05.597Z",
         "2025-07-16T08:13:05.597Z"
        ],
        [
         "B00721",
         "P0006",
         "F0019",
         "A006",
         152.8,
         "2025-03-29",
         "2025-07-15T16:41:15.224Z",
         721,
         "2025-07-16T08:13:05.597Z",
         "2025-07-16T08:13:05.597Z"
        ],
        [
         "B00722",
         "P0154",
         "F0014",
         "A037",
         756.27,
         "2025-04-24",
         "2025-07-15T16:41:15.224Z",
         722,
         "2025-07-16T08:13:05.597Z",
         "2025-07-16T08:13:05.597Z"
        ],
        [
         "B00723",
         "P0052",
         "F0072",
         "A008",
         459.54,
         "2025-05-30",
         "2025-07-15T16:41:15.224Z",
         723,
         "2025-07-16T08:13:05.597Z",
         "2025-07-16T08:13:05.597Z"
        ],
        [
         "B00724",
         "P0065",
         "F0010",
         "A008",
         1128.73,
         "2025-05-14",
         "2025-07-15T16:41:15.224Z",
         724,
         "2025-07-16T08:13:05.597Z",
         "2025-07-16T08:13:05.597Z"
        ],
        [
         "B00725",
         "P0130",
         "F0060",
         "A028",
         1451.2,
         "2025-04-17",
         "2025-07-15T16:41:15.224Z",
         725,
         "2025-07-16T08:13:05.597Z",
         "2025-07-16T08:13:05.597Z"
        ],
        [
         "B00726",
         "P0200",
         "F0078",
         "A045",
         455.32,
         "2025-06-21",
         "2025-07-15T16:41:15.224Z",
         726,
         "2025-07-16T08:13:05.597Z",
         "2025-07-16T08:13:05.597Z"
        ],
        [
         "B00727",
         "P0189",
         "F0051",
         "A017",
         457.43,
         "2025-06-14",
         "2025-07-15T16:41:15.224Z",
         727,
         "2025-07-16T08:13:05.597Z",
         "2025-07-16T08:13:05.597Z"
        ],
        [
         "B00728",
         "P0160",
         "F0066",
         "A045",
         213.66,
         "2025-03-27",
         "2025-07-15T16:41:15.224Z",
         728,
         "2025-07-16T08:13:05.597Z",
         "2025-07-16T08:13:05.597Z"
        ],
        [
         "B00729",
         "P0115",
         "F0081",
         "A022",
         1105.67,
         "2025-05-05",
         "2025-07-15T16:41:15.224Z",
         729,
         "2025-07-16T08:13:05.597Z",
         "2025-07-16T08:13:05.597Z"
        ],
        [
         "B00730",
         "P0081",
         "F0076",
         "A014",
         1258.63,
         "2025-04-06",
         "2025-07-15T16:41:15.224Z",
         730,
         "2025-07-16T08:13:05.597Z",
         "2025-07-16T08:13:05.597Z"
        ],
        [
         "B00731",
         "P0159",
         "F0069",
         "A029",
         1291.83,
         "2025-06-17",
         "2025-07-15T16:41:15.224Z",
         731,
         "2025-07-16T08:13:05.597Z",
         "2025-07-16T08:13:05.597Z"
        ],
        [
         "B00732",
         "P0068",
         "F0083",
         "A037",
         132.68,
         "2025-04-21",
         "2025-07-15T16:41:15.224Z",
         732,
         "2025-07-16T08:13:05.597Z",
         "2025-07-16T08:13:05.597Z"
        ],
        [
         "B00733",
         "P0111",
         "F0069",
         "A007",
         1042.11,
         "2025-04-29",
         "2025-07-15T16:41:15.224Z",
         733,
         "2025-07-16T08:13:05.597Z",
         "2025-07-16T08:13:05.597Z"
        ],
        [
         "B00734",
         "P0181",
         "F0077",
         "A029",
         751.55,
         "2025-05-16",
         "2025-07-15T16:41:15.224Z",
         734,
         "2025-07-16T08:13:05.597Z",
         "2025-07-16T08:13:05.597Z"
        ],
        [
         "B00735",
         "P0125",
         "F0013",
         "A031",
         561.39,
         "2025-05-20",
         "2025-07-15T16:41:15.224Z",
         735,
         "2025-07-16T08:13:05.597Z",
         "2025-07-16T08:13:05.597Z"
        ],
        [
         "B00736",
         "P0163",
         "F0011",
         "A031",
         913.44,
         "2025-06-10",
         "2025-07-15T16:41:15.224Z",
         736,
         "2025-07-16T08:13:05.597Z",
         "2025-07-16T08:13:05.597Z"
        ],
        [
         "B00737",
         "P0050",
         "F0012",
         "A023",
         347.32,
         "2025-03-27",
         "2025-07-15T16:41:15.224Z",
         737,
         "2025-07-16T08:13:05.597Z",
         "2025-07-16T08:13:05.597Z"
        ],
        [
         "B00738",
         "P0171",
         "F0015",
         "A033",
         243.03,
         "2025-05-07",
         "2025-07-15T16:41:15.224Z",
         738,
         "2025-07-16T08:13:05.597Z",
         "2025-07-16T08:13:05.597Z"
        ],
        [
         "B00739",
         "P0140",
         "F0093",
         "A037",
         111.61,
         "2025-04-14",
         "2025-07-15T16:41:15.224Z",
         739,
         "2025-07-16T08:13:05.597Z",
         "2025-07-16T08:13:05.597Z"
        ],
        [
         "B00740",
         "P0149",
         "F0087",
         "A001",
         1181.42,
         "2025-04-05",
         "2025-07-15T16:41:15.224Z",
         740,
         "2025-07-16T08:13:05.597Z",
         "2025-07-16T08:13:05.597Z"
        ],
        [
         "B00741",
         "P0166",
         "F0038",
         "A024",
         843.67,
         "2025-05-03",
         "2025-07-15T16:41:15.224Z",
         741,
         "2025-07-16T08:13:05.597Z",
         "2025-07-16T08:13:05.597Z"
        ],
        [
         "B00742",
         "P0013",
         "F0046",
         "A007",
         406.21,
         "2025-04-05",
         "2025-07-15T16:41:15.224Z",
         742,
         "2025-07-16T08:13:05.597Z",
         "2025-07-16T08:13:05.597Z"
        ],
        [
         "B00743",
         "P0056",
         "F0047",
         "A024",
         489.68,
         "2025-05-01",
         "2025-07-15T16:41:15.224Z",
         743,
         "2025-07-16T08:13:05.597Z",
         "2025-07-16T08:13:05.597Z"
        ],
        [
         "B00744",
         "P0087",
         "F0032",
         "A026",
         1430.13,
         "2025-06-14",
         "2025-07-15T16:41:15.224Z",
         744,
         "2025-07-16T08:13:05.597Z",
         "2025-07-16T08:13:05.597Z"
        ],
        [
         "B00745",
         "P0111",
         "F0084",
         "A022",
         1472.41,
         "2025-06-20",
         "2025-07-15T16:41:15.224Z",
         745,
         "2025-07-16T08:13:05.597Z",
         "2025-07-16T08:13:05.597Z"
        ],
        [
         "B00746",
         "P0189",
         "F0017",
         "A031",
         716.69,
         "2025-05-02",
         "2025-07-15T16:41:15.224Z",
         746,
         "2025-07-16T08:13:05.597Z",
         "2025-07-16T08:13:05.597Z"
        ],
        [
         "B00747",
         "P0052",
         "F0062",
         "A024",
         596.62,
         "2025-05-05",
         "2025-07-15T16:41:15.224Z",
         747,
         "2025-07-16T08:13:05.597Z",
         "2025-07-16T08:13:05.597Z"
        ],
        [
         "B00748",
         "P0029",
         "F0019",
         "A007",
         945.84,
         "2025-04-03",
         "2025-07-15T16:41:15.224Z",
         748,
         "2025-07-16T08:13:05.597Z",
         "2025-07-16T08:13:05.597Z"
        ],
        [
         "B00749",
         "P0052",
         "F0097",
         "A018",
         250.3,
         "2025-04-23",
         "2025-07-15T16:41:15.224Z",
         749,
         "2025-07-16T08:13:05.597Z",
         "2025-07-16T08:13:05.597Z"
        ],
        [
         "B00750",
         "P0118",
         "F0014",
         "A034",
         847.03,
         "2025-04-29",
         "2025-07-15T16:41:15.224Z",
         750,
         "2025-07-16T08:13:05.597Z",
         "2025-07-16T08:13:05.597Z"
        ],
        [
         "B00751",
         "P0099",
         "F0023",
         "A041",
         500.83,
         "2025-04-08",
         "2025-07-15T16:41:15.224Z",
         751,
         "2025-07-16T08:13:05.597Z",
         "2025-07-16T08:13:05.597Z"
        ],
        [
         "B00752",
         "P0178",
         "F0066",
         "A032",
         1116.19,
         "2025-05-04",
         "2025-07-15T16:41:15.224Z",
         752,
         "2025-07-16T08:13:05.597Z",
         "2025-07-16T08:13:05.597Z"
        ],
        [
         "B00753",
         "P0156",
         "F0026",
         "A042",
         674.82,
         "2025-05-16",
         "2025-07-15T16:41:15.224Z",
         753,
         "2025-07-16T08:13:05.597Z",
         "2025-07-16T08:13:05.597Z"
        ],
        [
         "B00754",
         "P0003",
         "F0064",
         "A040",
         135.19,
         "2025-06-18",
         "2025-07-15T16:41:15.224Z",
         754,
         "2025-07-16T08:13:05.597Z",
         "2025-07-16T08:13:05.597Z"
        ],
        [
         "B00755",
         "P0163",
         "F0003",
         "A022",
         119.03,
         "2025-04-30",
         "2025-07-15T16:41:15.224Z",
         755,
         "2025-07-16T08:13:05.597Z",
         "2025-07-16T08:13:05.597Z"
        ],
        [
         "B00756",
         "P0116",
         "F0072",
         "A038",
         491.28,
         "2025-05-25",
         "2025-07-15T16:41:15.224Z",
         756,
         "2025-07-16T08:13:05.597Z",
         "2025-07-16T08:13:05.597Z"
        ],
        [
         "B00757",
         "P0073",
         "F0074",
         "A011",
         1396.57,
         "2025-04-23",
         "2025-07-15T16:41:15.224Z",
         757,
         "2025-07-16T08:13:05.597Z",
         "2025-07-16T08:13:05.597Z"
        ],
        [
         "B00758",
         "P0080",
         "F0022",
         "A014",
         1089.37,
         "2025-04-15",
         "2025-07-15T16:41:15.224Z",
         758,
         "2025-07-16T08:13:05.597Z",
         "2025-07-16T08:13:05.597Z"
        ],
        [
         "B00759",
         "P0071",
         "F0064",
         "A023",
         971.04,
         "2025-04-07",
         "2025-07-15T16:41:15.224Z",
         759,
         "2025-07-16T08:13:05.597Z",
         "2025-07-16T08:13:05.597Z"
        ],
        [
         "B00760",
         "P0120",
         "F0026",
         "A007",
         907.59,
         "2025-05-13",
         "2025-07-15T16:41:15.224Z",
         760,
         "2025-07-16T08:13:05.597Z",
         "2025-07-16T08:13:05.597Z"
        ],
        [
         "B00761",
         "P0180",
         "F0089",
         "A047",
         554.09,
         "2025-05-30",
         "2025-07-15T16:41:15.224Z",
         761,
         "2025-07-16T08:13:05.597Z",
         "2025-07-16T08:13:05.597Z"
        ],
        [
         "B00762",
         "P0198",
         "F0097",
         "A035",
         1064.53,
         "2025-05-06",
         "2025-07-15T16:41:15.224Z",
         762,
         "2025-07-16T08:13:05.597Z",
         "2025-07-16T08:13:05.597Z"
        ],
        [
         "B00763",
         "P0137",
         "F0014",
         "A023",
         894.93,
         "2025-05-05",
         "2025-07-15T16:41:15.224Z",
         763,
         "2025-07-16T08:13:05.597Z",
         "2025-07-16T08:13:05.597Z"
        ],
        [
         "B00764",
         "P0174",
         "F0013",
         "A031",
         1459.94,
         "2025-04-07",
         "2025-07-15T16:41:15.224Z",
         764,
         "2025-07-16T08:13:05.597Z",
         "2025-07-16T08:13:05.597Z"
        ],
        [
         "B00765",
         "P0114",
         "F0010",
         "A036",
         280.29,
         "2025-04-12",
         "2025-07-15T16:41:15.224Z",
         765,
         "2025-07-16T08:13:05.597Z",
         "2025-07-16T08:13:05.597Z"
        ],
        [
         "B00766",
         "P0080",
         "F0089",
         "A046",
         959.81,
         "2025-06-21",
         "2025-07-15T16:41:15.224Z",
         766,
         "2025-07-16T08:13:05.597Z",
         "2025-07-16T08:13:05.597Z"
        ],
        [
         "B00767",
         "P0033",
         "F0049",
         "A029",
         738.09,
         "2025-04-25",
         "2025-07-15T16:41:15.224Z",
         767,
         "2025-07-16T08:13:05.597Z",
         "2025-07-16T08:13:05.597Z"
        ],
        [
         "B00768",
         "P0098",
         "F0018",
         "A027",
         514.25,
         "2025-04-16",
         "2025-07-15T16:41:15.224Z",
         768,
         "2025-07-16T08:13:05.597Z",
         "2025-07-16T08:13:05.597Z"
        ],
        [
         "B00769",
         "P0010",
         "F0011",
         "A008",
         190.61,
         "2025-03-25",
         "2025-07-15T16:41:15.224Z",
         769,
         "2025-07-16T08:13:05.597Z",
         "2025-07-16T08:13:05.597Z"
        ],
        [
         "B00770",
         "P0178",
         "F0058",
         "A036",
         295.81,
         "2025-04-20",
         "2025-07-15T16:41:15.224Z",
         770,
         "2025-07-16T08:13:05.597Z",
         "2025-07-16T08:13:05.597Z"
        ],
        [
         "B00771",
         "P0143",
         "F0036",
         "A047",
         1009.37,
         "2025-05-15",
         "2025-07-15T16:41:15.224Z",
         771,
         "2025-07-16T08:13:05.597Z",
         "2025-07-16T08:13:05.597Z"
        ],
        [
         "B00772",
         "P0011",
         "F0062",
         "A002",
         618.77,
         "2025-04-07",
         "2025-07-15T16:41:15.224Z",
         772,
         "2025-07-16T08:13:05.597Z",
         "2025-07-16T08:13:05.597Z"
        ],
        [
         "B00773",
         "P0016",
         "F0084",
         "A040",
         289.12,
         "2025-03-31",
         "2025-07-15T16:41:15.224Z",
         773,
         "2025-07-16T08:13:05.597Z",
         "2025-07-16T08:13:05.597Z"
        ],
        [
         "B00774",
         "P0024",
         "F0062",
         "A016",
         919.16,
         "2025-06-13",
         "2025-07-15T16:41:15.224Z",
         774,
         "2025-07-16T08:13:05.597Z",
         "2025-07-16T08:13:05.597Z"
        ],
        [
         "B00775",
         "P0133",
         "F0063",
         "A017",
         979.61,
         "2025-05-27",
         "2025-07-15T16:41:15.224Z",
         775,
         "2025-07-16T08:13:05.597Z",
         "2025-07-16T08:13:05.597Z"
        ],
        [
         "B00776",
         "P0034",
         "F0008",
         "A032",
         1215.46,
         "2025-06-19",
         "2025-07-15T16:41:15.224Z",
         776,
         "2025-07-16T08:13:05.597Z",
         "2025-07-16T08:13:05.597Z"
        ],
        [
         "B00777",
         "P0090",
         "F0069",
         "A010",
         128.53,
         "2025-04-22",
         "2025-07-15T16:41:15.224Z",
         777,
         "2025-07-16T08:13:05.597Z",
         "2025-07-16T08:13:05.597Z"
        ],
        [
         "B00778",
         "P0083",
         "F0087",
         "A013",
         326.49,
         "2025-04-20",
         "2025-07-15T16:41:15.224Z",
         778,
         "2025-07-16T08:13:05.597Z",
         "2025-07-16T08:13:05.597Z"
        ],
        [
         "B00779",
         "P0146",
         "F0032",
         "A016",
         314.47,
         "2025-04-20",
         "2025-07-15T16:41:15.224Z",
         779,
         "2025-07-16T08:13:05.597Z",
         "2025-07-16T08:13:05.597Z"
        ],
        [
         "B00780",
         "P0137",
         "F0012",
         "A020",
         891.44,
         "2025-04-11",
         "2025-07-15T16:41:15.224Z",
         780,
         "2025-07-16T08:13:05.597Z",
         "2025-07-16T08:13:05.597Z"
        ],
        [
         "B00781",
         "P0042",
         "F0030",
         "A024",
         935.39,
         "2025-05-16",
         "2025-07-15T16:41:15.224Z",
         781,
         "2025-07-16T08:13:05.597Z",
         "2025-07-16T08:13:05.597Z"
        ],
        [
         "B00782",
         "P0121",
         "F0059",
         "A036",
         523.14,
         "2025-04-24",
         "2025-07-15T16:41:15.224Z",
         782,
         "2025-07-16T08:13:05.597Z",
         "2025-07-16T08:13:05.597Z"
        ],
        [
         "B00783",
         "P0025",
         "F0019",
         "A035",
         1267.46,
         "2025-04-03",
         "2025-07-15T16:41:15.224Z",
         783,
         "2025-07-16T08:13:05.597Z",
         "2025-07-16T08:13:05.597Z"
        ],
        [
         "B00784",
         "P0094",
         "F0010",
         "A002",
         1419.93,
         "2025-06-18",
         "2025-07-15T16:41:15.224Z",
         784,
         "2025-07-16T08:13:05.597Z",
         "2025-07-16T08:13:05.597Z"
        ],
        [
         "B00785",
         "P0129",
         "F0052",
         "A002",
         305.12,
         "2025-05-01",
         "2025-07-15T16:41:15.224Z",
         785,
         "2025-07-16T08:13:05.597Z",
         "2025-07-16T08:13:05.597Z"
        ],
        [
         "B00786",
         "P0010",
         "F0018",
         "A001",
         1113.88,
         "2025-06-03",
         "2025-07-15T16:41:15.224Z",
         786,
         "2025-07-16T08:13:05.597Z",
         "2025-07-16T08:13:05.597Z"
        ],
        [
         "B00787",
         "P0182",
         "F0001",
         "A036",
         835.3,
         "2025-06-04",
         "2025-07-15T16:41:15.224Z",
         787,
         "2025-07-16T08:13:05.597Z",
         "2025-07-16T08:13:05.597Z"
        ],
        [
         "B00788",
         "P0100",
         "F0014",
         "A008",
         1180.16,
         "2025-05-31",
         "2025-07-15T16:41:15.224Z",
         788,
         "2025-07-16T08:13:05.597Z",
         "2025-07-16T08:13:05.597Z"
        ],
        [
         "B00789",
         "P0155",
         "F0028",
         "A041",
         929.7,
         "2025-04-12",
         "2025-07-15T16:41:15.224Z",
         789,
         "2025-07-16T08:13:05.597Z",
         "2025-07-16T08:13:05.597Z"
        ],
        [
         "B00790",
         "P0079",
         "F0049",
         "A013",
         363.69,
         "2025-06-18",
         "2025-07-15T16:41:15.224Z",
         790,
         "2025-07-16T08:13:05.597Z",
         "2025-07-16T08:13:05.597Z"
        ],
        [
         "B00791",
         "P0080",
         "F0035",
         "A003",
         1469.64,
         "2025-04-07",
         "2025-07-15T16:41:15.224Z",
         791,
         "2025-07-16T08:13:05.597Z",
         "2025-07-16T08:13:05.597Z"
        ],
        [
         "B00792",
         "P0158",
         "F0079",
         "A047",
         1195.28,
         "2025-06-07",
         "2025-07-15T16:41:15.224Z",
         792,
         "2025-07-16T08:13:05.597Z",
         "2025-07-16T08:13:05.597Z"
        ],
        [
         "B00793",
         "P0047",
         "F0079",
         "A043",
         643.93,
         "2025-06-05",
         "2025-07-15T16:41:15.224Z",
         793,
         "2025-07-16T08:13:05.597Z",
         "2025-07-16T08:13:05.597Z"
        ],
        [
         "B00794",
         "P0128",
         "F0023",
         "A011",
         127.14,
         "2025-05-26",
         "2025-07-15T16:41:15.224Z",
         794,
         "2025-07-16T08:13:05.597Z",
         "2025-07-16T08:13:05.597Z"
        ],
        [
         "B00795",
         "P0025",
         "F0065",
         "A037",
         961.22,
         "2025-05-10",
         "2025-07-15T16:41:15.224Z",
         795,
         "2025-07-16T08:13:05.597Z",
         "2025-07-16T08:13:05.597Z"
        ],
        [
         "B00796",
         "P0124",
         "F0022",
         "A018",
         1263.19,
         "2025-04-22",
         "2025-07-15T16:41:15.224Z",
         796,
         "2025-07-16T08:13:05.597Z",
         "2025-07-16T08:13:05.597Z"
        ],
        [
         "B00797",
         "P0061",
         "F0096",
         "A010",
         764.25,
         "2025-04-02",
         "2025-07-15T16:41:15.224Z",
         797,
         "2025-07-16T08:13:05.597Z",
         "2025-07-16T08:13:05.597Z"
        ],
        [
         "B00798",
         "P0042",
         "F0089",
         "A013",
         898.56,
         "2025-04-16",
         "2025-07-15T16:41:15.224Z",
         798,
         "2025-07-16T08:13:05.597Z",
         "2025-07-16T08:13:05.597Z"
        ],
        [
         "B00799",
         "P0082",
         "F0004",
         "A024",
         1173.82,
         "2025-04-07",
         "2025-07-15T16:41:15.224Z",
         799,
         "2025-07-16T08:13:05.597Z",
         "2025-07-16T08:13:05.597Z"
        ],
        [
         "B00800",
         "P0039",
         "F0096",
         "A044",
         1179.94,
         "2025-05-21",
         "2025-07-15T16:41:15.224Z",
         800,
         "2025-07-16T08:13:05.597Z",
         "2025-07-16T08:13:05.597Z"
        ],
        [
         "B00801",
         "P0055",
         "F0071",
         "A025",
         1407.95,
         "2025-06-10",
         "2025-07-15T16:41:15.224Z",
         801,
         "2025-07-16T08:13:05.597Z",
         "2025-07-16T08:13:05.597Z"
        ],
        [
         "B00802",
         "P0150",
         "F0045",
         "A037",
         323.83,
         "2025-05-28",
         "2025-07-15T16:41:15.224Z",
         802,
         "2025-07-16T08:13:05.597Z",
         "2025-07-16T08:13:05.597Z"
        ],
        [
         "B00803",
         "P0083",
         "F0100",
         "A017",
         790.44,
         "2025-05-04",
         "2025-07-15T16:41:15.224Z",
         803,
         "2025-07-16T08:13:05.597Z",
         "2025-07-16T08:13:05.597Z"
        ],
        [
         "B00804",
         "P0078",
         "F0018",
         "A041",
         1173.59,
         "2025-04-09",
         "2025-07-15T16:41:15.224Z",
         804,
         "2025-07-16T08:13:05.597Z",
         "2025-07-16T08:13:05.597Z"
        ],
        [
         "B00805",
         "P0016",
         "F0084",
         "A013",
         1103.43,
         "2025-05-26",
         "2025-07-15T16:41:15.224Z",
         805,
         "2025-07-16T08:13:05.597Z",
         "2025-07-16T08:13:05.597Z"
        ],
        [
         "B00806",
         "P0127",
         "F0081",
         "A008",
         393.85,
         "2025-06-10",
         "2025-07-15T16:41:15.224Z",
         806,
         "2025-07-16T08:13:05.597Z",
         "2025-07-16T08:13:05.597Z"
        ],
        [
         "B00807",
         "P0080",
         "F0008",
         "A020",
         1483.45,
         "2025-04-22",
         "2025-07-15T16:41:15.224Z",
         807,
         "2025-07-16T08:13:05.597Z",
         "2025-07-16T08:13:05.597Z"
        ],
        [
         "B00808",
         "P0028",
         "F0062",
         "A013",
         733.19,
         "2025-06-17",
         "2025-07-15T16:41:15.224Z",
         808,
         "2025-07-16T08:13:05.597Z",
         "2025-07-16T08:13:05.597Z"
        ],
        [
         "B00809",
         "P0035",
         "F0053",
         "A050",
         1182.42,
         "2025-03-25",
         "2025-07-15T16:41:15.224Z",
         809,
         "2025-07-16T08:13:05.597Z",
         "2025-07-16T08:13:05.597Z"
        ],
        [
         "B00810",
         "P0026",
         "F0086",
         "A001",
         1040.28,
         "2025-03-25",
         "2025-07-15T16:41:15.224Z",
         810,
         "2025-07-16T08:13:05.597Z",
         "2025-07-16T08:13:05.597Z"
        ],
        [
         "B00811",
         "P0190",
         "F0100",
         "A005",
         908.23,
         "2025-04-15",
         "2025-07-15T16:41:15.224Z",
         811,
         "2025-07-16T08:13:05.597Z",
         "2025-07-16T08:13:05.597Z"
        ],
        [
         "B00812",
         "P0033",
         "F0010",
         "A025",
         606.23,
         "2025-05-27",
         "2025-07-15T16:41:15.224Z",
         812,
         "2025-07-16T08:13:05.597Z",
         "2025-07-16T08:13:05.597Z"
        ],
        [
         "B00813",
         "P0083",
         "F0021",
         "A024",
         1146.51,
         "2025-03-26",
         "2025-07-15T16:41:15.224Z",
         813,
         "2025-07-16T08:13:05.597Z",
         "2025-07-16T08:13:05.597Z"
        ],
        [
         "B00814",
         "P0124",
         "F0017",
         "A042",
         784.55,
         "2025-05-26",
         "2025-07-15T16:41:15.224Z",
         814,
         "2025-07-16T08:13:05.597Z",
         "2025-07-16T08:13:05.597Z"
        ],
        [
         "B00815",
         "P0199",
         "F0067",
         "A041",
         875.77,
         "2025-05-27",
         "2025-07-15T16:41:15.224Z",
         815,
         "2025-07-16T08:13:05.597Z",
         "2025-07-16T08:13:05.597Z"
        ],
        [
         "B00816",
         "P0155",
         "F0075",
         "A039",
         1419.67,
         "2025-03-29",
         "2025-07-15T16:41:15.224Z",
         816,
         "2025-07-16T08:13:05.597Z",
         "2025-07-16T08:13:05.597Z"
        ],
        [
         "B00817",
         "P0146",
         "F0042",
         "A034",
         1149.22,
         "2025-04-02",
         "2025-07-15T16:41:15.224Z",
         817,
         "2025-07-16T08:13:05.597Z",
         "2025-07-16T08:13:05.597Z"
        ],
        [
         "B00818",
         "P0098",
         "F0035",
         "A047",
         1306.73,
         "2025-05-23",
         "2025-07-15T16:41:15.224Z",
         818,
         "2025-07-16T08:13:05.597Z",
         "2025-07-16T08:13:05.597Z"
        ],
        [
         "B00819",
         "P0040",
         "F0087",
         "A009",
         639.57,
         "2025-04-03",
         "2025-07-15T16:41:15.224Z",
         819,
         "2025-07-16T08:13:05.597Z",
         "2025-07-16T08:13:05.597Z"
        ],
        [
         "B00820",
         "P0077",
         "F0096",
         "A034",
         1491.77,
         "2025-04-10",
         "2025-07-15T16:41:15.224Z",
         820,
         "2025-07-16T08:13:05.597Z",
         "2025-07-16T08:13:05.597Z"
        ],
        [
         "B00821",
         "P0069",
         "F0023",
         "A046",
         847.51,
         "2025-05-10",
         "2025-07-15T16:41:15.224Z",
         821,
         "2025-07-16T08:13:05.597Z",
         "2025-07-16T08:13:05.597Z"
        ],
        [
         "B00822",
         "P0146",
         "F0019",
         "A001",
         865.32,
         "2025-04-08",
         "2025-07-15T16:41:15.224Z",
         822,
         "2025-07-16T08:13:05.597Z",
         "2025-07-16T08:13:05.597Z"
        ],
        [
         "B00823",
         "P0120",
         "F0099",
         "A003",
         657.1,
         "2025-04-16",
         "2025-07-15T16:41:15.224Z",
         823,
         "2025-07-16T08:13:05.597Z",
         "2025-07-16T08:13:05.597Z"
        ],
        [
         "B00824",
         "P0057",
         "F0051",
         "A017",
         878.32,
         "2025-06-07",
         "2025-07-15T16:41:15.224Z",
         824,
         "2025-07-16T08:13:05.597Z",
         "2025-07-16T08:13:05.597Z"
        ],
        [
         "B00825",
         "P0102",
         "F0021",
         "A009",
         1046.49,
         "2025-03-24",
         "2025-07-15T16:41:15.224Z",
         825,
         "2025-07-16T08:13:05.597Z",
         "2025-07-16T08:13:05.597Z"
        ],
        [
         "B00826",
         "P0144",
         "F0092",
         "A039",
         1092.16,
         "2025-05-13",
         "2025-07-15T16:41:15.224Z",
         826,
         "2025-07-16T08:13:05.597Z",
         "2025-07-16T08:13:05.597Z"
        ],
        [
         "B00827",
         "P0099",
         "F0017",
         "A030",
         1104.98,
         "2025-04-22",
         "2025-07-15T16:41:15.224Z",
         827,
         "2025-07-16T08:13:05.597Z",
         "2025-07-16T08:13:05.597Z"
        ],
        [
         "B00828",
         "P0062",
         "F0001",
         "A013",
         1285.37,
         "2025-05-16",
         "2025-07-15T16:41:15.224Z",
         828,
         "2025-07-16T08:13:05.597Z",
         "2025-07-16T08:13:05.597Z"
        ],
        [
         "B00829",
         "P0102",
         "F0073",
         "A022",
         242.96,
         "2025-03-27",
         "2025-07-15T16:41:15.224Z",
         829,
         "2025-07-16T08:13:05.597Z",
         "2025-07-16T08:13:05.597Z"
        ],
        [
         "B00830",
         "P0090",
         "F0067",
         "A001",
         712.39,
         "2025-05-03",
         "2025-07-15T16:41:15.224Z",
         830,
         "2025-07-16T08:13:05.597Z",
         "2025-07-16T08:13:05.597Z"
        ],
        [
         "B00831",
         "P0060",
         "F0091",
         "A006",
         1119.19,
         "2025-06-08",
         "2025-07-15T16:41:15.224Z",
         831,
         "2025-07-16T08:13:05.597Z",
         "2025-07-16T08:13:05.597Z"
        ],
        [
         "B00832",
         "P0106",
         "F0097",
         "A011",
         157.23,
         "2025-04-09",
         "2025-07-15T16:41:15.224Z",
         832,
         "2025-07-16T08:13:05.597Z",
         "2025-07-16T08:13:05.597Z"
        ],
        [
         "B00833",
         "P0108",
         "F0100",
         "A023",
         1023.31,
         "2025-05-24",
         "2025-07-15T16:41:15.224Z",
         833,
         "2025-07-16T08:13:05.597Z",
         "2025-07-16T08:13:05.597Z"
        ],
        [
         "B00834",
         "P0160",
         "F0033",
         "A032",
         1381.94,
         "2025-06-21",
         "2025-07-15T16:41:15.224Z",
         834,
         "2025-07-16T08:13:05.597Z",
         "2025-07-16T08:13:05.597Z"
        ],
        [
         "B00835",
         "P0087",
         "F0085",
         "A008",
         158.02,
         "2025-04-20",
         "2025-07-15T16:41:15.224Z",
         835,
         "2025-07-16T08:13:05.597Z",
         "2025-07-16T08:13:05.597Z"
        ],
        [
         "B00836",
         "P0078",
         "F0090",
         "A022",
         589.57,
         "2025-04-22",
         "2025-07-15T16:41:15.224Z",
         836,
         "2025-07-16T08:13:05.597Z",
         "2025-07-16T08:13:05.597Z"
        ],
        [
         "B00837",
         "P0167",
         "F0007",
         "A028",
         1258.9,
         "2025-05-09",
         "2025-07-15T16:41:15.224Z",
         837,
         "2025-07-16T08:13:05.597Z",
         "2025-07-16T08:13:05.597Z"
        ],
        [
         "B00838",
         "P0190",
         "F0039",
         "A016",
         1157.35,
         "2025-04-23",
         "2025-07-15T16:41:15.224Z",
         838,
         "2025-07-16T08:13:05.597Z",
         "2025-07-16T08:13:05.597Z"
        ],
        [
         "B00839",
         "P0101",
         "F0099",
         "A017",
         1033.88,
         "2025-05-15",
         "2025-07-15T16:41:15.224Z",
         839,
         "2025-07-16T08:13:05.597Z",
         "2025-07-16T08:13:05.597Z"
        ],
        [
         "B00840",
         "P0004",
         "F0056",
         "A039",
         411.88,
         "2025-05-20",
         "2025-07-15T16:41:15.224Z",
         840,
         "2025-07-16T08:13:05.597Z",
         "2025-07-16T08:13:05.597Z"
        ],
        [
         "B00841",
         "P0085",
         "F0035",
         "A026",
         958.8,
         "2025-05-12",
         "2025-07-15T16:41:15.224Z",
         841,
         "2025-07-16T08:13:05.597Z",
         "2025-07-16T08:13:05.597Z"
        ],
        [
         "B00842",
         "P0134",
         "F0080",
         "A050",
         1042.27,
         "2025-06-20",
         "2025-07-15T16:41:15.224Z",
         842,
         "2025-07-16T08:13:05.597Z",
         "2025-07-16T08:13:05.597Z"
        ],
        [
         "B00843",
         "P0097",
         "F0015",
         "A045",
         434.42,
         "2025-04-21",
         "2025-07-15T16:41:15.224Z",
         843,
         "2025-07-16T08:13:05.597Z",
         "2025-07-16T08:13:05.597Z"
        ],
        [
         "B00844",
         "P0159",
         "F0085",
         "A027",
         431.52,
         "2025-05-28",
         "2025-07-15T16:41:15.224Z",
         844,
         "2025-07-16T08:13:05.597Z",
         "2025-07-16T08:13:05.597Z"
        ],
        [
         "B00845",
         "P0171",
         "F0076",
         "A031",
         1211.08,
         "2025-04-08",
         "2025-07-15T16:41:15.224Z",
         845,
         "2025-07-16T08:13:05.597Z",
         "2025-07-16T08:13:05.597Z"
        ],
        [
         "B00846",
         "P0182",
         "F0087",
         "A043",
         549.66,
         "2025-04-24",
         "2025-07-15T16:41:15.224Z",
         846,
         "2025-07-16T08:13:05.597Z",
         "2025-07-16T08:13:05.597Z"
        ],
        [
         "B00847",
         "P0042",
         "F0100",
         "A042",
         230.23,
         "2025-04-10",
         "2025-07-15T16:41:15.224Z",
         847,
         "2025-07-16T08:13:05.597Z",
         "2025-07-16T08:13:05.597Z"
        ],
        [
         "B00848",
         "P0103",
         "F0036",
         "A032",
         320.85,
         "2025-04-08",
         "2025-07-15T16:41:15.224Z",
         848,
         "2025-07-16T08:13:05.597Z",
         "2025-07-16T08:13:05.597Z"
        ],
        [
         "B00849",
         "P0095",
         "F0063",
         "A050",
         888.01,
         "2025-05-31",
         "2025-07-15T16:41:15.224Z",
         849,
         "2025-07-16T08:13:05.597Z",
         "2025-07-16T08:13:05.597Z"
        ],
        [
         "B00850",
         "P0199",
         "F0042",
         "A020",
         471.26,
         "2025-06-10",
         "2025-07-15T16:41:15.224Z",
         850,
         "2025-07-16T08:13:05.597Z",
         "2025-07-16T08:13:05.597Z"
        ],
        [
         "B00851",
         "P0114",
         "F0034",
         "A007",
         225.28,
         "2025-04-23",
         "2025-07-15T16:41:15.224Z",
         851,
         "2025-07-16T08:13:05.597Z",
         "2025-07-16T08:13:05.597Z"
        ],
        [
         "B00852",
         "P0075",
         "F0100",
         "A026",
         1038.01,
         "2025-06-10",
         "2025-07-15T16:41:15.224Z",
         852,
         "2025-07-16T08:13:05.597Z",
         "2025-07-16T08:13:05.597Z"
        ],
        [
         "B00853",
         "P0085",
         "F0100",
         "A022",
         849.77,
         "2025-03-27",
         "2025-07-15T16:41:15.224Z",
         853,
         "2025-07-16T08:13:05.597Z",
         "2025-07-16T08:13:05.597Z"
        ],
        [
         "B00854",
         "P0057",
         "F0070",
         "A048",
         255.16,
         "2025-06-02",
         "2025-07-15T16:41:15.224Z",
         854,
         "2025-07-16T08:13:05.597Z",
         "2025-07-16T08:13:05.597Z"
        ],
        [
         "B00855",
         "P0139",
         "F0056",
         "A008",
         930.9,
         "2025-04-05",
         "2025-07-15T16:41:15.224Z",
         855,
         "2025-07-16T08:13:05.597Z",
         "2025-07-16T08:13:05.597Z"
        ],
        [
         "B00856",
         "P0046",
         "F0011",
         "A016",
         313.29,
         "2025-04-24",
         "2025-07-15T16:41:15.224Z",
         856,
         "2025-07-16T08:13:05.597Z",
         "2025-07-16T08:13:05.597Z"
        ],
        [
         "B00857",
         "P0100",
         "F0033",
         "A018",
         767.16,
         "2025-05-14",
         "2025-07-15T16:41:15.224Z",
         857,
         "2025-07-16T08:13:05.597Z",
         "2025-07-16T08:13:05.597Z"
        ],
        [
         "B00858",
         "P0100",
         "F0045",
         "A018",
         953.0,
         "2025-04-12",
         "2025-07-15T16:41:15.224Z",
         858,
         "2025-07-16T08:13:05.597Z",
         "2025-07-16T08:13:05.597Z"
        ],
        [
         "B00859",
         "P0006",
         "F0033",
         "A036",
         1395.17,
         "2025-04-14",
         "2025-07-15T16:41:15.224Z",
         859,
         "2025-07-16T08:13:05.597Z",
         "2025-07-16T08:13:05.597Z"
        ],
        [
         "B00860",
         "P0092",
         "F0037",
         "A025",
         129.46,
         "2025-04-17",
         "2025-07-15T16:41:15.224Z",
         860,
         "2025-07-16T08:13:05.597Z",
         "2025-07-16T08:13:05.597Z"
        ],
        [
         "B00861",
         "P0029",
         "F0063",
         "A004",
         654.78,
         "2025-06-06",
         "2025-07-15T16:41:15.224Z",
         861,
         "2025-07-16T08:13:05.597Z",
         "2025-07-16T08:13:05.597Z"
        ],
        [
         "B00862",
         "P0098",
         "F0088",
         "A020",
         1426.36,
         "2025-03-29",
         "2025-07-15T16:41:15.224Z",
         862,
         "2025-07-16T08:13:05.597Z",
         "2025-07-16T08:13:05.597Z"
        ],
        [
         "B00863",
         "P0062",
         "F0050",
         "A017",
         969.1,
         "2025-05-06",
         "2025-07-15T16:41:15.224Z",
         863,
         "2025-07-16T08:13:05.597Z",
         "2025-07-16T08:13:05.597Z"
        ],
        [
         "B00864",
         "P0174",
         "F0063",
         "A014",
         118.5,
         "2025-05-11",
         "2025-07-15T16:41:15.224Z",
         864,
         "2025-07-16T08:13:05.597Z",
         "2025-07-16T08:13:05.597Z"
        ],
        [
         "B00865",
         "P0187",
         "F0095",
         "A014",
         1013.31,
         "2025-05-04",
         "2025-07-15T16:41:15.224Z",
         865,
         "2025-07-16T08:13:05.597Z",
         "2025-07-16T08:13:05.597Z"
        ],
        [
         "B00866",
         "P0150",
         "F0087",
         "A008",
         1292.15,
         "2025-06-20",
         "2025-07-15T16:41:15.224Z",
         866,
         "2025-07-16T08:13:05.597Z",
         "2025-07-16T08:13:05.597Z"
        ],
        [
         "B00867",
         "P0093",
         "F0016",
         "A020",
         903.04,
         "2025-04-22",
         "2025-07-15T16:41:15.224Z",
         867,
         "2025-07-16T08:13:05.597Z",
         "2025-07-16T08:13:05.597Z"
        ],
        [
         "B00868",
         "P0017",
         "F0098",
         "A026",
         390.31,
         "2025-06-05",
         "2025-07-15T16:41:15.224Z",
         868,
         "2025-07-16T08:13:05.597Z",
         "2025-07-16T08:13:05.597Z"
        ],
        [
         "B00869",
         "P0099",
         "F0091",
         "A047",
         933.97,
         "2025-06-05",
         "2025-07-15T16:41:15.224Z",
         869,
         "2025-07-16T08:13:05.597Z",
         "2025-07-16T08:13:05.597Z"
        ],
        [
         "B00870",
         "P0030",
         "F0042",
         "A044",
         985.91,
         "2025-03-25",
         "2025-07-15T16:41:15.224Z",
         870,
         "2025-07-16T08:13:05.597Z",
         "2025-07-16T08:13:05.597Z"
        ],
        [
         "B00871",
         "P0131",
         "F0033",
         "A035",
         1260.79,
         "2025-05-11",
         "2025-07-15T16:41:15.224Z",
         871,
         "2025-07-16T08:13:05.597Z",
         "2025-07-16T08:13:05.597Z"
        ],
        [
         "B00872",
         "P0127",
         "F0052",
         "A034",
         762.53,
         "2025-04-16",
         "2025-07-15T16:41:15.224Z",
         872,
         "2025-07-16T08:13:05.597Z",
         "2025-07-16T08:13:05.597Z"
        ],
        [
         "B00873",
         "P0087",
         "F0081",
         "A048",
         894.74,
         "2025-05-08",
         "2025-07-15T16:41:15.224Z",
         873,
         "2025-07-16T08:13:05.597Z",
         "2025-07-16T08:13:05.597Z"
        ],
        [
         "B00874",
         "P0127",
         "F0013",
         "A003",
         336.84,
         "2025-06-15",
         "2025-07-15T16:41:15.224Z",
         874,
         "2025-07-16T08:13:05.597Z",
         "2025-07-16T08:13:05.597Z"
        ],
        [
         "B00875",
         "P0026",
         "F0051",
         "A048",
         1148.21,
         "2025-05-28",
         "2025-07-15T16:41:15.224Z",
         875,
         "2025-07-16T08:13:05.597Z",
         "2025-07-16T08:13:05.597Z"
        ],
        [
         "B00876",
         "P0089",
         "F0086",
         "A028",
         1080.34,
         "2025-06-10",
         "2025-07-15T16:41:15.224Z",
         876,
         "2025-07-16T08:13:05.597Z",
         "2025-07-16T08:13:05.597Z"
        ],
        [
         "B00877",
         "P0179",
         "F0093",
         "A044",
         1090.75,
         "2025-03-29",
         "2025-07-15T16:41:15.224Z",
         877,
         "2025-07-16T08:13:05.597Z",
         "2025-07-16T08:13:05.597Z"
        ],
        [
         "B00878",
         "P0012",
         "F0009",
         "A032",
         668.1,
         "2025-04-19",
         "2025-07-15T16:41:15.224Z",
         878,
         "2025-07-16T08:13:05.597Z",
         "2025-07-16T08:13:05.597Z"
        ],
        [
         "B00879",
         "P0147",
         "F0045",
         "A008",
         638.16,
         "2025-04-23",
         "2025-07-15T16:41:15.224Z",
         879,
         "2025-07-16T08:13:05.597Z",
         "2025-07-16T08:13:05.597Z"
        ],
        [
         "B00880",
         "P0134",
         "F0086",
         "A028",
         718.5,
         "2025-06-01",
         "2025-07-15T16:41:15.224Z",
         880,
         "2025-07-16T08:13:05.597Z",
         "2025-07-16T08:13:05.597Z"
        ],
        [
         "B00881",
         "P0102",
         "F0061",
         "A010",
         1226.8,
         "2025-05-17",
         "2025-07-15T16:41:15.224Z",
         881,
         "2025-07-16T08:13:05.597Z",
         "2025-07-16T08:13:05.597Z"
        ],
        [
         "B00882",
         "P0007",
         "F0085",
         "A043",
         433.24,
         "2025-06-08",
         "2025-07-15T16:41:15.224Z",
         882,
         "2025-07-16T08:13:05.597Z",
         "2025-07-16T08:13:05.597Z"
        ],
        [
         "B00883",
         "P0092",
         "F0055",
         "A032",
         146.54,
         "2025-06-05",
         "2025-07-15T16:41:15.224Z",
         883,
         "2025-07-16T08:13:05.597Z",
         "2025-07-16T08:13:05.597Z"
        ],
        [
         "B00884",
         "P0072",
         "F0007",
         "A045",
         1323.97,
         "2025-05-10",
         "2025-07-15T16:41:15.224Z",
         884,
         "2025-07-16T08:13:05.597Z",
         "2025-07-16T08:13:05.597Z"
        ],
        [
         "B00885",
         "P0116",
         "F0038",
         "A024",
         210.04,
         "2025-04-25",
         "2025-07-15T16:41:15.224Z",
         885,
         "2025-07-16T08:13:05.597Z",
         "2025-07-16T08:13:05.597Z"
        ],
        [
         "B00886",
         "P0185",
         "F0006",
         "A026",
         427.19,
         "2025-05-06",
         "2025-07-15T16:41:15.224Z",
         886,
         "2025-07-16T08:13:05.597Z",
         "2025-07-16T08:13:05.597Z"
        ],
        [
         "B00887",
         "P0138",
         "F0095",
         "A030",
         230.32,
         "2025-06-08",
         "2025-07-15T16:41:15.224Z",
         887,
         "2025-07-16T08:13:05.597Z",
         "2025-07-16T08:13:05.597Z"
        ],
        [
         "B00888",
         "P0013",
         "F0037",
         "A002",
         355.18,
         "2025-05-16",
         "2025-07-15T16:41:15.224Z",
         888,
         "2025-07-16T08:13:05.597Z",
         "2025-07-16T08:13:05.597Z"
        ],
        [
         "B00889",
         "P0067",
         "F0025",
         "A024",
         1045.6,
         "2025-06-13",
         "2025-07-15T16:41:15.224Z",
         889,
         "2025-07-16T08:13:05.597Z",
         "2025-07-16T08:13:05.597Z"
        ],
        [
         "B00890",
         "P0168",
         "F0006",
         "A016",
         1280.27,
         "2025-05-10",
         "2025-07-15T16:41:15.224Z",
         890,
         "2025-07-16T08:13:05.597Z",
         "2025-07-16T08:13:05.597Z"
        ],
        [
         "B00891",
         "P0015",
         "F0092",
         "A032",
         141.99,
         "2025-03-29",
         "2025-07-15T16:41:15.224Z",
         891,
         "2025-07-16T08:13:05.597Z",
         "2025-07-16T08:13:05.597Z"
        ],
        [
         "B00892",
         "P0180",
         "F0023",
         "A013",
         122.99,
         "2025-06-13",
         "2025-07-15T16:41:15.224Z",
         892,
         "2025-07-16T08:13:05.597Z",
         "2025-07-16T08:13:05.597Z"
        ],
        [
         "B00893",
         "P0048",
         "F0100",
         "A050",
         1139.83,
         "2025-05-18",
         "2025-07-15T16:41:15.224Z",
         893,
         "2025-07-16T08:13:05.597Z",
         "2025-07-16T08:13:05.597Z"
        ],
        [
         "B00894",
         "P0026",
         "F0062",
         "A010",
         817.2,
         "2025-04-04",
         "2025-07-15T16:41:15.224Z",
         894,
         "2025-07-16T08:13:05.597Z",
         "2025-07-16T08:13:05.597Z"
        ],
        [
         "B00895",
         "P0037",
         "F0018",
         "A005",
         470.0,
         "2025-04-05",
         "2025-07-15T16:41:15.224Z",
         895,
         "2025-07-16T08:13:05.597Z",
         "2025-07-16T08:13:05.597Z"
        ],
        [
         "B00896",
         "P0012",
         "F0067",
         "A001",
         549.35,
         "2025-03-31",
         "2025-07-15T16:41:15.224Z",
         896,
         "2025-07-16T08:13:05.597Z",
         "2025-07-16T08:13:05.597Z"
        ],
        [
         "B00897",
         "P0056",
         "F0078",
         "A037",
         554.49,
         "2025-05-02",
         "2025-07-15T16:41:15.224Z",
         897,
         "2025-07-16T08:13:05.597Z",
         "2025-07-16T08:13:05.597Z"
        ],
        [
         "B00898",
         "P0025",
         "F0065",
         "A009",
         589.69,
         "2025-06-15",
         "2025-07-15T16:41:15.224Z",
         898,
         "2025-07-16T08:13:05.597Z",
         "2025-07-16T08:13:05.597Z"
        ],
        [
         "B00899",
         "P0075",
         "F0050",
         "A012",
         370.17,
         "2025-04-24",
         "2025-07-15T16:41:15.224Z",
         899,
         "2025-07-16T08:13:05.597Z",
         "2025-07-16T08:13:05.597Z"
        ],
        [
         "B00900",
         "P0070",
         "F0032",
         "A043",
         1033.58,
         "2025-05-09",
         "2025-07-15T16:41:15.224Z",
         900,
         "2025-07-16T08:13:05.597Z",
         "2025-07-16T08:13:05.597Z"
        ],
        [
         "B00901",
         "P0131",
         "F0022",
         "A032",
         1419.87,
         "2025-05-10",
         "2025-07-15T16:41:15.224Z",
         901,
         "2025-07-16T08:13:05.597Z",
         "2025-07-16T08:13:05.597Z"
        ],
        [
         "B00902",
         "P0182",
         "F0092",
         "A023",
         895.76,
         "2025-06-03",
         "2025-07-15T16:41:15.224Z",
         902,
         "2025-07-16T08:13:05.597Z",
         "2025-07-16T08:13:05.597Z"
        ],
        [
         "B00903",
         "P0080",
         "F0056",
         "A017",
         429.58,
         "2025-05-06",
         "2025-07-15T16:41:15.224Z",
         903,
         "2025-07-16T08:13:05.597Z",
         "2025-07-16T08:13:05.597Z"
        ],
        [
         "B00904",
         "P0185",
         "F0087",
         "A021",
         777.75,
         "2025-05-19",
         "2025-07-15T16:41:15.224Z",
         904,
         "2025-07-16T08:13:05.597Z",
         "2025-07-16T08:13:05.597Z"
        ],
        [
         "B00905",
         "P0179",
         "F0050",
         "A001",
         638.63,
         "2025-05-18",
         "2025-07-15T16:41:15.224Z",
         905,
         "2025-07-16T08:13:05.597Z",
         "2025-07-16T08:13:05.597Z"
        ],
        [
         "B00906",
         "P0009",
         "F0064",
         "A025",
         187.93,
         "2025-04-20",
         "2025-07-15T16:41:15.224Z",
         906,
         "2025-07-16T08:13:05.597Z",
         "2025-07-16T08:13:05.597Z"
        ],
        [
         "B00907",
         "P0120",
         "F0013",
         "A019",
         471.88,
         "2025-06-14",
         "2025-07-15T16:41:15.224Z",
         907,
         "2025-07-16T08:13:05.597Z",
         "2025-07-16T08:13:05.597Z"
        ],
        [
         "B00908",
         "P0007",
         "F0080",
         "A006",
         248.99,
         "2025-06-10",
         "2025-07-15T16:41:15.224Z",
         908,
         "2025-07-16T08:13:05.597Z",
         "2025-07-16T08:13:05.597Z"
        ],
        [
         "B00909",
         "P0199",
         "F0056",
         "A002",
         1239.94,
         "2025-04-01",
         "2025-07-15T16:41:15.224Z",
         909,
         "2025-07-16T08:13:05.597Z",
         "2025-07-16T08:13:05.597Z"
        ],
        [
         "B00910",
         "P0061",
         "F0034",
         "A010",
         1030.54,
         "2025-06-01",
         "2025-07-15T16:41:15.224Z",
         910,
         "2025-07-16T08:13:05.597Z",
         "2025-07-16T08:13:05.597Z"
        ],
        [
         "B00911",
         "P0104",
         "F0039",
         "A014",
         892.52,
         "2025-05-21",
         "2025-07-15T16:41:15.224Z",
         911,
         "2025-07-16T08:13:05.597Z",
         "2025-07-16T08:13:05.597Z"
        ],
        [
         "B00912",
         "P0052",
         "F0080",
         "A018",
         1475.45,
         "2025-06-10",
         "2025-07-15T16:41:15.224Z",
         912,
         "2025-07-16T08:13:05.597Z",
         "2025-07-16T08:13:05.597Z"
        ],
        [
         "B00913",
         "P0062",
         "F0024",
         "A001",
         1378.02,
         "2025-04-08",
         "2025-07-15T16:41:15.224Z",
         913,
         "2025-07-16T08:13:05.597Z",
         "2025-07-16T08:13:05.597Z"
        ],
        [
         "B00914",
         "P0134",
         "F0062",
         "A003",
         1046.18,
         "2025-04-17",
         "2025-07-15T16:41:15.224Z",
         914,
         "2025-07-16T08:13:05.597Z",
         "2025-07-16T08:13:05.597Z"
        ],
        [
         "B00915",
         "P0093",
         "F0011",
         "A009",
         508.33,
         "2025-05-12",
         "2025-07-15T16:41:15.224Z",
         915,
         "2025-07-16T08:13:05.597Z",
         "2025-07-16T08:13:05.597Z"
        ],
        [
         "B00916",
         "P0097",
         "F0054",
         "A012",
         841.92,
         "2025-03-29",
         "2025-07-15T16:41:15.224Z",
         916,
         "2025-07-16T08:13:05.597Z",
         "2025-07-16T08:13:05.597Z"
        ],
        [
         "B00917",
         "P0190",
         "F0060",
         "A020",
         1081.71,
         "2025-06-08",
         "2025-07-15T16:41:15.224Z",
         917,
         "2025-07-16T08:13:05.597Z",
         "2025-07-16T08:13:05.597Z"
        ],
        [
         "B00918",
         "P0080",
         "F0066",
         "A005",
         1361.58,
         "2025-05-15",
         "2025-07-15T16:41:15.224Z",
         918,
         "2025-07-16T08:13:05.597Z",
         "2025-07-16T08:13:05.597Z"
        ],
        [
         "B00919",
         "P0083",
         "F0030",
         "A025",
         962.58,
         "2025-06-15",
         "2025-07-15T16:41:15.224Z",
         919,
         "2025-07-16T08:13:05.597Z",
         "2025-07-16T08:13:05.597Z"
        ],
        [
         "B00920",
         "P0015",
         "F0064",
         "A019",
         928.51,
         "2025-03-30",
         "2025-07-15T16:41:15.224Z",
         920,
         "2025-07-16T08:13:05.597Z",
         "2025-07-16T08:13:05.597Z"
        ],
        [
         "B00921",
         "P0056",
         "F0002",
         "A033",
         1420.54,
         "2025-06-05",
         "2025-07-15T16:41:15.224Z",
         921,
         "2025-07-16T08:13:05.597Z",
         "2025-07-16T08:13:05.597Z"
        ],
        [
         "B00922",
         "P0094",
         "F0056",
         "A034",
         1105.47,
         "2025-04-30",
         "2025-07-15T16:41:15.224Z",
         922,
         "2025-07-16T08:13:05.597Z",
         "2025-07-16T08:13:05.597Z"
        ],
        [
         "B00923",
         "P0111",
         "F0052",
         "A043",
         1445.81,
         "2025-04-22",
         "2025-07-15T16:41:15.224Z",
         923,
         "2025-07-16T08:13:05.597Z",
         "2025-07-16T08:13:05.597Z"
        ],
        [
         "B00924",
         "P0002",
         "F0048",
         "A011",
         262.91,
         "2025-05-09",
         "2025-07-15T16:41:15.224Z",
         924,
         "2025-07-16T08:13:05.597Z",
         "2025-07-16T08:13:05.597Z"
        ],
        [
         "B00925",
         "P0083",
         "F0068",
         "A017",
         656.7,
         "2025-04-07",
         "2025-07-15T16:41:15.224Z",
         925,
         "2025-07-16T08:13:05.597Z",
         "2025-07-16T08:13:05.597Z"
        ],
        [
         "B00926",
         "P0004",
         "F0051",
         "A004",
         855.4,
         "2025-05-27",
         "2025-07-15T16:41:15.224Z",
         926,
         "2025-07-16T08:13:05.597Z",
         "2025-07-16T08:13:05.597Z"
        ],
        [
         "B00927",
         "P0191",
         "F0014",
         "A032",
         934.8,
         "2025-04-22",
         "2025-07-15T16:41:15.224Z",
         927,
         "2025-07-16T08:13:05.597Z",
         "2025-07-16T08:13:05.597Z"
        ],
        [
         "B00928",
         "P0152",
         "F0077",
         "A028",
         1225.68,
         "2025-05-16",
         "2025-07-15T16:41:15.224Z",
         928,
         "2025-07-16T08:13:05.597Z",
         "2025-07-16T08:13:05.597Z"
        ],
        [
         "B00929",
         "P0065",
         "F0094",
         "A001",
         963.0,
         "2025-05-13",
         "2025-07-15T16:41:15.224Z",
         929,
         "2025-07-16T08:13:05.597Z",
         "2025-07-16T08:13:05.597Z"
        ],
        [
         "B00930",
         "P0119",
         "F0040",
         "A018",
         546.21,
         "2025-05-22",
         "2025-07-15T16:41:15.224Z",
         930,
         "2025-07-16T08:13:05.597Z",
         "2025-07-16T08:13:05.597Z"
        ],
        [
         "B00931",
         "P0182",
         "F0005",
         "A047",
         1421.83,
         "2025-05-13",
         "2025-07-15T16:41:15.224Z",
         931,
         "2025-07-16T08:13:05.597Z",
         "2025-07-16T08:13:05.597Z"
        ],
        [
         "B00932",
         "P0187",
         "F0093",
         "A032",
         159.55,
         "2025-05-01",
         "2025-07-15T16:41:15.224Z",
         932,
         "2025-07-16T08:13:05.597Z",
         "2025-07-16T08:13:05.597Z"
        ],
        [
         "B00933",
         "P0023",
         "F0099",
         "A044",
         491.69,
         "2025-06-11",
         "2025-07-15T16:41:15.224Z",
         933,
         "2025-07-16T08:13:05.597Z",
         "2025-07-16T08:13:05.597Z"
        ],
        [
         "B00934",
         "P0116",
         "F0076",
         "A036",
         588.49,
         "2025-04-29",
         "2025-07-15T16:41:15.224Z",
         934,
         "2025-07-16T08:13:05.597Z",
         "2025-07-16T08:13:05.597Z"
        ],
        [
         "B00935",
         "P0193",
         "F0083",
         "A035",
         326.52,
         "2025-05-01",
         "2025-07-15T16:41:15.224Z",
         935,
         "2025-07-16T08:13:05.597Z",
         "2025-07-16T08:13:05.597Z"
        ],
        [
         "B00936",
         "P0046",
         "F0091",
         "A044",
         714.85,
         "2025-04-30",
         "2025-07-15T16:41:15.224Z",
         936,
         "2025-07-16T08:13:05.597Z",
         "2025-07-16T08:13:05.597Z"
        ],
        [
         "B00937",
         "P0044",
         "F0033",
         "A046",
         134.47,
         "2025-06-18",
         "2025-07-15T16:41:15.224Z",
         937,
         "2025-07-16T08:13:05.597Z",
         "2025-07-16T08:13:05.597Z"
        ],
        [
         "B00938",
         "P0083",
         "F0041",
         "A026",
         1109.79,
         "2025-05-01",
         "2025-07-15T16:41:15.224Z",
         938,
         "2025-07-16T08:13:05.597Z",
         "2025-07-16T08:13:05.597Z"
        ],
        [
         "B00939",
         "P0051",
         "F0048",
         "A018",
         1274.8,
         "2025-04-22",
         "2025-07-15T16:41:15.224Z",
         939,
         "2025-07-16T08:13:05.597Z",
         "2025-07-16T08:13:05.597Z"
        ],
        [
         "B00940",
         "P0082",
         "F0015",
         "A013",
         523.94,
         "2025-04-26",
         "2025-07-15T16:41:15.224Z",
         940,
         "2025-07-16T08:13:05.597Z",
         "2025-07-16T08:13:05.597Z"
        ],
        [
         "B00941",
         "P0122",
         "F0092",
         "A017",
         1489.4,
         "2025-05-21",
         "2025-07-15T16:41:15.224Z",
         941,
         "2025-07-16T08:13:05.597Z",
         "2025-07-16T08:13:05.597Z"
        ],
        [
         "B00942",
         "P0025",
         "F0040",
         "A012",
         1133.46,
         "2025-05-20",
         "2025-07-15T16:41:15.224Z",
         942,
         "2025-07-16T08:13:05.597Z",
         "2025-07-16T08:13:05.597Z"
        ],
        [
         "B00943",
         "P0084",
         "F0010",
         "A037",
         1446.45,
         "2025-06-05",
         "2025-07-15T16:41:15.224Z",
         943,
         "2025-07-16T08:13:05.597Z",
         "2025-07-16T08:13:05.597Z"
        ],
        [
         "B00944",
         "P0063",
         "F0082",
         "A028",
         915.79,
         "2025-04-01",
         "2025-07-15T16:41:15.224Z",
         944,
         "2025-07-16T08:13:05.597Z",
         "2025-07-16T08:13:05.597Z"
        ],
        [
         "B00945",
         "P0176",
         "F0077",
         "A004",
         575.76,
         "2025-05-03",
         "2025-07-15T16:41:15.224Z",
         945,
         "2025-07-16T08:13:05.597Z",
         "2025-07-16T08:13:05.597Z"
        ],
        [
         "B00946",
         "P0088",
         "F0062",
         "A046",
         356.13,
         "2025-04-10",
         "2025-07-15T16:41:15.224Z",
         946,
         "2025-07-16T08:13:05.597Z",
         "2025-07-16T08:13:05.597Z"
        ],
        [
         "B00947",
         "P0078",
         "F0035",
         "A005",
         668.94,
         "2025-06-14",
         "2025-07-15T16:41:15.224Z",
         947,
         "2025-07-16T08:13:05.597Z",
         "2025-07-16T08:13:05.597Z"
        ],
        [
         "B00948",
         "P0185",
         "F0030",
         "A028",
         1451.41,
         "2025-04-28",
         "2025-07-15T16:41:15.224Z",
         948,
         "2025-07-16T08:13:05.597Z",
         "2025-07-16T08:13:05.597Z"
        ],
        [
         "B00949",
         "P0027",
         "F0073",
         "A033",
         1343.39,
         "2025-04-13",
         "2025-07-15T16:41:15.224Z",
         949,
         "2025-07-16T08:13:05.597Z",
         "2025-07-16T08:13:05.597Z"
        ],
        [
         "B00950",
         "P0189",
         "F0094",
         "A050",
         1422.61,
         "2025-05-28",
         "2025-07-15T16:41:15.224Z",
         950,
         "2025-07-16T08:13:05.597Z",
         "2025-07-16T08:13:05.597Z"
        ],
        [
         "B00951",
         "P0172",
         "F0075",
         "A041",
         129.87,
         "2025-06-13",
         "2025-07-15T16:41:15.224Z",
         951,
         "2025-07-16T08:13:05.597Z",
         "2025-07-16T08:13:05.597Z"
        ],
        [
         "B00952",
         "P0092",
         "F0085",
         "A002",
         108.46,
         "2025-04-21",
         "2025-07-15T16:41:15.224Z",
         952,
         "2025-07-16T08:13:05.597Z",
         "2025-07-16T08:13:05.597Z"
        ],
        [
         "B00953",
         "P0051",
         "F0001",
         "A013",
         333.53,
         "2025-06-04",
         "2025-07-15T16:41:15.224Z",
         953,
         "2025-07-16T08:13:05.597Z",
         "2025-07-16T08:13:05.597Z"
        ],
        [
         "B00954",
         "P0042",
         "F0017",
         "A045",
         370.9,
         "2025-04-29",
         "2025-07-15T16:41:15.224Z",
         954,
         "2025-07-16T08:13:05.597Z",
         "2025-07-16T08:13:05.597Z"
        ],
        [
         "B00955",
         "P0046",
         "F0049",
         "A040",
         432.23,
         "2025-06-06",
         "2025-07-15T16:41:15.224Z",
         955,
         "2025-07-16T08:13:05.597Z",
         "2025-07-16T08:13:05.597Z"
        ],
        [
         "B00956",
         "P0172",
         "F0092",
         "A034",
         357.05,
         "2025-05-17",
         "2025-07-15T16:41:15.224Z",
         956,
         "2025-07-16T08:13:05.597Z",
         "2025-07-16T08:13:05.597Z"
        ],
        [
         "B00957",
         "P0005",
         "F0045",
         "A009",
         1141.19,
         "2025-06-16",
         "2025-07-15T16:41:15.224Z",
         957,
         "2025-07-16T08:13:05.597Z",
         "2025-07-16T08:13:05.597Z"
        ],
        [
         "B00958",
         "P0004",
         "F0026",
         "A028",
         778.27,
         "2025-06-02",
         "2025-07-15T16:41:15.224Z",
         958,
         "2025-07-16T08:13:05.597Z",
         "2025-07-16T08:13:05.597Z"
        ],
        [
         "B00959",
         "P0140",
         "F0011",
         "A040",
         489.4,
         "2025-04-25",
         "2025-07-15T16:41:15.224Z",
         959,
         "2025-07-16T08:13:05.597Z",
         "2025-07-16T08:13:05.597Z"
        ],
        [
         "B00960",
         "P0002",
         "F0048",
         "A019",
         1405.02,
         "2025-06-02",
         "2025-07-15T16:41:15.224Z",
         960,
         "2025-07-16T08:13:05.597Z",
         "2025-07-16T08:13:05.597Z"
        ],
        [
         "B00961",
         "P0104",
         "F0007",
         "A032",
         467.01,
         "2025-05-07",
         "2025-07-15T16:41:15.224Z",
         961,
         "2025-07-16T08:13:05.597Z",
         "2025-07-16T08:13:05.597Z"
        ],
        [
         "B00962",
         "P0171",
         "F0069",
         "A032",
         816.41,
         "2025-04-07",
         "2025-07-15T16:41:15.224Z",
         962,
         "2025-07-16T08:13:05.597Z",
         "2025-07-16T08:13:05.597Z"
        ],
        [
         "B00963",
         "P0189",
         "F0093",
         "A022",
         1078.62,
         "2025-05-16",
         "2025-07-15T16:41:15.224Z",
         963,
         "2025-07-16T08:13:05.597Z",
         "2025-07-16T08:13:05.597Z"
        ],
        [
         "B00964",
         "P0194",
         "F0083",
         "A029",
         783.31,
         "2025-04-21",
         "2025-07-15T16:41:15.224Z",
         964,
         "2025-07-16T08:13:05.597Z",
         "2025-07-16T08:13:05.597Z"
        ],
        [
         "B00965",
         "P0116",
         "F0088",
         "A044",
         1396.61,
         "2025-05-12",
         "2025-07-15T16:41:15.224Z",
         965,
         "2025-07-16T08:13:05.597Z",
         "2025-07-16T08:13:05.597Z"
        ],
        [
         "B00966",
         "P0162",
         "F0068",
         "A006",
         1487.65,
         "2025-04-17",
         "2025-07-15T16:41:15.224Z",
         966,
         "2025-07-16T08:13:05.597Z",
         "2025-07-16T08:13:05.597Z"
        ],
        [
         "B00967",
         "P0156",
         "F0055",
         "A017",
         994.66,
         "2025-05-28",
         "2025-07-15T16:41:15.224Z",
         967,
         "2025-07-16T08:13:05.597Z",
         "2025-07-16T08:13:05.597Z"
        ],
        [
         "B00968",
         "P0176",
         "F0035",
         "A035",
         1394.35,
         "2025-04-18",
         "2025-07-15T16:41:15.224Z",
         968,
         "2025-07-16T08:13:05.597Z",
         "2025-07-16T08:13:05.597Z"
        ],
        [
         "B00969",
         "P0118",
         "F0021",
         "A042",
         971.86,
         "2025-05-14",
         "2025-07-15T16:41:15.224Z",
         969,
         "2025-07-16T08:13:05.597Z",
         "2025-07-16T08:13:05.597Z"
        ],
        [
         "B00970",
         "P0091",
         "F0085",
         "A017",
         1098.93,
         "2025-04-02",
         "2025-07-15T16:41:15.224Z",
         970,
         "2025-07-16T08:13:05.597Z",
         "2025-07-16T08:13:05.597Z"
        ],
        [
         "B00971",
         "P0069",
         "F0059",
         "A040",
         844.68,
         "2025-04-24",
         "2025-07-15T16:41:15.224Z",
         971,
         "2025-07-16T08:13:05.597Z",
         "2025-07-16T08:13:05.597Z"
        ],
        [
         "B00972",
         "P0073",
         "F0072",
         "A009",
         1233.78,
         "2025-03-27",
         "2025-07-15T16:41:15.224Z",
         972,
         "2025-07-16T08:13:05.597Z",
         "2025-07-16T08:13:05.597Z"
        ],
        [
         "B00973",
         "P0190",
         "F0054",
         "A026",
         1222.11,
         "2025-03-28",
         "2025-07-15T16:41:15.224Z",
         973,
         "2025-07-16T08:13:05.597Z",
         "2025-07-16T08:13:05.597Z"
        ],
        [
         "B00974",
         "P0015",
         "F0035",
         "A012",
         514.45,
         "2025-05-19",
         "2025-07-15T16:41:15.224Z",
         974,
         "2025-07-16T08:13:05.597Z",
         "2025-07-16T08:13:05.597Z"
        ],
        [
         "B00975",
         "P0022",
         "F0075",
         "A044",
         1264.37,
         "2025-03-26",
         "2025-07-15T16:41:15.224Z",
         975,
         "2025-07-16T08:13:05.597Z",
         "2025-07-16T08:13:05.597Z"
        ],
        [
         "B00976",
         "P0089",
         "F0007",
         "A033",
         1269.21,
         "2025-05-10",
         "2025-07-15T16:41:15.224Z",
         976,
         "2025-07-16T08:13:05.597Z",
         "2025-07-16T08:13:05.597Z"
        ],
        [
         "B00977",
         "P0189",
         "F0079",
         "A015",
         1316.69,
         "2025-05-10",
         "2025-07-15T16:41:15.224Z",
         977,
         "2025-07-16T08:13:05.597Z",
         "2025-07-16T08:13:05.597Z"
        ],
        [
         "B00978",
         "P0017",
         "F0001",
         "A042",
         511.95,
         "2025-06-14",
         "2025-07-15T16:41:15.224Z",
         978,
         "2025-07-16T08:13:05.597Z",
         "2025-07-16T08:13:05.597Z"
        ],
        [
         "B00979",
         "P0170",
         "F0037",
         "A017",
         855.74,
         "2025-03-24",
         "2025-07-15T16:41:15.224Z",
         979,
         "2025-07-16T08:13:05.597Z",
         "2025-07-16T08:13:05.597Z"
        ],
        [
         "B00980",
         "P0065",
         "F0052",
         "A009",
         395.91,
         "2025-06-19",
         "2025-07-15T16:41:15.224Z",
         980,
         "2025-07-16T08:13:05.597Z",
         "2025-07-16T08:13:05.597Z"
        ],
        [
         "B00981",
         "P0113",
         "F0092",
         "A013",
         388.78,
         "2025-04-20",
         "2025-07-15T16:41:15.224Z",
         981,
         "2025-07-16T08:13:05.597Z",
         "2025-07-16T08:13:05.597Z"
        ],
        [
         "B00982",
         "P0199",
         "F0071",
         "A048",
         125.48,
         "2025-05-08",
         "2025-07-15T16:41:15.224Z",
         982,
         "2025-07-16T08:13:05.597Z",
         "2025-07-16T08:13:05.597Z"
        ],
        [
         "B00983",
         "P0170",
         "F0044",
         "A023",
         1055.8,
         "2025-05-28",
         "2025-07-15T16:41:15.224Z",
         983,
         "2025-07-16T08:13:05.597Z",
         "2025-07-16T08:13:05.597Z"
        ],
        [
         "B00984",
         "P0010",
         "F0030",
         "A024",
         725.15,
         "2025-06-16",
         "2025-07-15T16:41:15.224Z",
         984,
         "2025-07-16T08:13:05.597Z",
         "2025-07-16T08:13:05.597Z"
        ],
        [
         "B00985",
         "P0163",
         "F0044",
         "A012",
         728.55,
         "2025-04-02",
         "2025-07-15T16:41:15.224Z",
         985,
         "2025-07-16T08:13:05.597Z",
         "2025-07-16T08:13:05.597Z"
        ],
        [
         "B00986",
         "P0115",
         "F0070",
         "A003",
         291.35,
         "2025-06-07",
         "2025-07-15T16:41:15.224Z",
         986,
         "2025-07-16T08:13:05.597Z",
         "2025-07-16T08:13:05.597Z"
        ],
        [
         "B00987",
         "P0031",
         "F0025",
         "A004",
         1402.71,
         "2025-04-01",
         "2025-07-15T16:41:15.224Z",
         987,
         "2025-07-16T08:13:05.597Z",
         "2025-07-16T08:13:05.597Z"
        ],
        [
         "B00988",
         "P0048",
         "F0005",
         "A039",
         655.41,
         "2025-04-08",
         "2025-07-15T16:41:15.224Z",
         988,
         "2025-07-16T08:13:05.597Z",
         "2025-07-16T08:13:05.597Z"
        ],
        [
         "B00989",
         "P0105",
         "F0040",
         "A047",
         136.68,
         "2025-04-13",
         "2025-07-15T16:41:15.224Z",
         989,
         "2025-07-16T08:13:05.597Z",
         "2025-07-16T08:13:05.597Z"
        ],
        [
         "B00990",
         "P0007",
         "F0007",
         "A020",
         696.52,
         "2025-05-01",
         "2025-07-15T16:41:15.224Z",
         990,
         "2025-07-16T08:13:05.597Z",
         "2025-07-16T08:13:05.597Z"
        ],
        [
         "B00991",
         "P0069",
         "F0100",
         "A034",
         488.42,
         "2025-06-02",
         "2025-07-15T16:41:15.224Z",
         991,
         "2025-07-16T08:13:05.597Z",
         "2025-07-16T08:13:05.597Z"
        ],
        [
         "B00992",
         "P0080",
         "F0095",
         "A047",
         321.61,
         "2025-05-28",
         "2025-07-15T16:41:15.224Z",
         992,
         "2025-07-16T08:13:05.597Z",
         "2025-07-16T08:13:05.597Z"
        ],
        [
         "B00993",
         "P0109",
         "F0011",
         "A007",
         388.1,
         "2025-06-09",
         "2025-07-15T16:41:15.224Z",
         993,
         "2025-07-16T08:13:05.597Z",
         "2025-07-16T08:13:05.597Z"
        ],
        [
         "B00994",
         "P0062",
         "F0006",
         "A019",
         1003.11,
         "2025-06-21",
         "2025-07-15T16:41:15.224Z",
         994,
         "2025-07-16T08:13:05.597Z",
         "2025-07-16T08:13:05.597Z"
        ],
        [
         "B00995",
         "P0075",
         "F0054",
         "A050",
         613.87,
         "2025-04-28",
         "2025-07-15T16:41:15.224Z",
         995,
         "2025-07-16T08:13:05.597Z",
         "2025-07-16T08:13:05.597Z"
        ],
        [
         "B00996",
         "P0159",
         "F0097",
         "A017",
         1496.14,
         "2025-05-17",
         "2025-07-15T16:41:15.224Z",
         996,
         "2025-07-16T08:13:05.597Z",
         "2025-07-16T08:13:05.597Z"
        ],
        [
         "B00997",
         "P0019",
         "F0013",
         "A008",
         468.47,
         "2025-04-25",
         "2025-07-15T16:41:15.224Z",
         997,
         "2025-07-16T08:13:05.597Z",
         "2025-07-16T08:13:05.597Z"
        ],
        [
         "B00998",
         "P0178",
         "F0063",
         "A002",
         984.99,
         "2025-06-08",
         "2025-07-15T16:41:15.224Z",
         998,
         "2025-07-16T08:13:05.597Z",
         "2025-07-16T08:13:05.597Z"
        ],
        [
         "B00999",
         "P0153",
         "F0083",
         "A017",
         466.39,
         "2025-04-21",
         "2025-07-15T16:41:15.224Z",
         999,
         "2025-07-16T08:13:05.597Z",
         "2025-07-16T08:13:05.597Z"
        ],
        [
         "B01000",
         "P0039",
         "F0037",
         "A016",
         647.76,
         "2025-06-13",
         "2025-07-15T16:41:15.224Z",
         1000,
         "2025-07-16T08:13:05.597Z",
         "2025-07-16T08:13:05.597Z"
        ],
        [
         "B01001",
         "P0207",
         "F0047",
         "A004",
         912.64,
         "2025-07-10",
         "2025-07-15T16:41:15.224Z",
         1001,
         "2025-07-16T08:13:05.597Z",
         "2025-07-16T08:13:05.597Z"
        ],
        [
         "B01002",
         "P0124",
         "F0088",
         "A051",
         597.04,
         "2025-07-01",
         "2025-07-15T16:41:15.224Z",
         1002,
         "2025-07-16T08:13:05.597Z",
         "2025-07-16T08:13:05.597Z"
        ],
        [
         "B01003",
         "P0103",
         "F0096",
         "A036",
         724.88,
         "2025-07-10",
         "2025-07-15T16:41:15.224Z",
         1003,
         "2025-07-16T08:13:05.597Z",
         "2025-07-16T08:13:05.597Z"
        ],
        [
         "B01004",
         "P0049",
         "F0069",
         "A001",
         1370.99,
         "2025-07-12",
         "2025-07-15T16:41:15.224Z",
         1004,
         "2025-07-16T08:13:05.597Z",
         "2025-07-16T08:13:05.597Z"
        ],
        [
         "B01005",
         "P0210",
         "F0084",
         "A053",
         1476.15,
         "2025-07-01",
         "2025-07-15T16:41:15.224Z",
         1005,
         "2025-07-16T08:13:05.597Z",
         "2025-07-16T08:13:05.597Z"
        ],
        [
         "B01006",
         "P0126",
         "F0084",
         "A042",
         800.39,
         "2025-06-26",
         "2025-07-15T16:41:15.224Z",
         1006,
         "2025-07-16T08:13:05.597Z",
         "2025-07-16T08:13:05.597Z"
        ],
        [
         "B01007",
         "P0077",
         "F0013",
         "A055",
         1187.22,
         "2025-06-28",
         "2025-07-15T16:41:15.224Z",
         1007,
         "2025-07-16T08:13:05.597Z",
         "2025-07-16T08:13:05.597Z"
        ],
        [
         "B01008",
         "P0118",
         "F0005",
         "A033",
         913.43,
         "2025-07-18",
         "2025-07-15T16:41:15.224Z",
         1008,
         "2025-07-16T08:13:05.597Z",
         "2025-07-16T08:13:05.597Z"
        ],
        [
         "B01009",
         "P0090",
         "F0102",
         "A034",
         260.75,
         "2025-07-08",
         "2025-07-15T16:41:15.224Z",
         1009,
         "2025-07-16T08:13:05.597Z",
         "2025-07-16T08:13:05.597Z"
        ],
        [
         "B01010",
         "P0012",
         "F0080",
         "A045",
         245.61,
         "2025-07-21",
         "2025-07-15T16:41:15.224Z",
         1010,
         "2025-07-16T08:13:05.597Z",
         "2025-07-16T08:13:05.597Z"
        ],
        [
         "B01011",
         "P0066",
         "F0008",
         "A041",
         319.73,
         "2025-07-07",
         "2025-07-15T16:41:15.224Z",
         1011,
         "2025-07-16T08:13:05.597Z",
         "2025-07-16T08:13:05.597Z"
        ],
        [
         "B01012",
         "P0158",
         "F0037",
         "A044",
         1158.64,
         "2025-07-03",
         "2025-07-15T16:41:15.224Z",
         1012,
         "2025-07-16T08:13:05.597Z",
         "2025-07-16T08:13:05.597Z"
        ],
        [
         "B01013",
         "P0099",
         "F0107",
         "A008",
         506.23,
         "2025-07-17",
         "2025-07-15T16:41:15.224Z",
         1013,
         "2025-07-16T08:13:05.597Z",
         "2025-07-16T08:13:05.597Z"
        ],
        [
         "B01014",
         "P0190",
         "F0068",
         "A027",
         1397.56,
         "2025-07-12",
         "2025-07-15T16:41:15.224Z",
         1014,
         "2025-07-16T08:13:05.597Z",
         "2025-07-16T08:13:05.597Z"
        ],
        [
         "B01015",
         "P0046",
         "F0044",
         "A043",
         462.89,
         "2025-06-23",
         "2025-07-15T16:41:15.224Z",
         1015,
         "2025-07-16T08:13:05.597Z",
         "2025-07-16T08:13:05.597Z"
        ],
        [
         "B01016",
         "P0098",
         "F0016",
         "A026",
         1491.59,
         "2025-06-28",
         "2025-07-15T16:41:15.224Z",
         1016,
         "2025-07-16T08:13:05.597Z",
         "2025-07-16T08:13:05.597Z"
        ],
        [
         "B01017",
         "P0193",
         "F0097",
         "A030",
         1092.89,
         "2025-07-05",
         "2025-07-15T16:41:15.224Z",
         1017,
         "2025-07-16T08:13:05.597Z",
         "2025-07-16T08:13:05.597Z"
        ],
        [
         "B01018",
         "P0142",
         "F0040",
         "A016",
         998.11,
         "2025-06-25",
         "2025-07-15T16:41:15.224Z",
         1018,
         "2025-07-16T08:13:05.597Z",
         "2025-07-16T08:13:05.597Z"
        ],
        [
         "B01019",
         "P0126",
         "F0003",
         "A015",
         898.26,
         "2025-06-29",
         "2025-07-15T16:41:15.224Z",
         1019,
         "2025-07-16T08:13:05.597Z",
         "2025-07-16T08:13:05.597Z"
        ],
        [
         "B01020",
         "P0135",
         "F0014",
         "A023",
         354.87,
         "2025-07-20",
         "2025-07-15T16:41:15.224Z",
         1020,
         "2025-07-16T08:13:05.597Z",
         "2025-07-16T08:13:05.597Z"
        ],
        [
         "B01021",
         "P0171",
         "F0105",
         "A026",
         154.73,
         "2025-06-23",
         "2025-07-15T16:41:15.224Z",
         1021,
         "2025-07-16T08:13:05.597Z",
         "2025-07-16T08:13:05.597Z"
        ],
        [
         "B01022",
         "P0078",
         "F0065",
         "A024",
         980.87,
         "2025-07-10",
         "2025-07-15T16:41:15.224Z",
         1022,
         "2025-07-16T08:13:05.597Z",
         "2025-07-16T08:13:05.597Z"
        ],
        [
         "B01023",
         "P0046",
         "F0044",
         "A001",
         600.38,
         "2025-06-25",
         "2025-07-15T16:41:15.224Z",
         1023,
         "2025-07-16T08:13:05.597Z",
         "2025-07-16T08:13:05.597Z"
        ],
        [
         "B01024",
         "P0159",
         "F0030",
         "A024",
         665.15,
         "2025-06-29",
         "2025-07-15T16:41:15.224Z",
         1024,
         "2025-07-16T08:13:05.597Z",
         "2025-07-16T08:13:05.597Z"
        ],
        [
         "B01025",
         "P0043",
         "F0089",
         "A024",
         557.92,
         "2025-07-07",
         "2025-07-15T16:41:15.224Z",
         1025,
         "2025-07-16T08:13:05.597Z",
         "2025-07-16T08:13:05.597Z"
        ],
        [
         "B01026",
         "P0031",
         "F0030",
         "A016",
         565.57,
         "2025-07-05",
         "2025-07-15T16:41:15.224Z",
         1026,
         "2025-07-16T08:13:05.597Z",
         "2025-07-16T08:13:05.597Z"
        ],
        [
         "B01027",
         "P0080",
         "F0032",
         "A044",
         742.34,
         "2025-07-04",
         "2025-07-15T16:41:15.224Z",
         1027,
         "2025-07-16T08:13:05.597Z",
         "2025-07-16T08:13:05.597Z"
        ],
        [
         "B01028",
         "P0138",
         "F0028",
         "A024",
         699.87,
         "2025-06-24",
         "2025-07-15T16:41:15.224Z",
         1028,
         "2025-07-16T08:13:05.597Z",
         "2025-07-16T08:13:05.597Z"
        ],
        [
         "B01029",
         "P0091",
         "F0051",
         "A012",
         1383.67,
         "2025-06-22",
         "2025-07-15T16:41:15.224Z",
         1029,
         "2025-07-16T08:13:05.597Z",
         "2025-07-16T08:13:05.597Z"
        ],
        [
         "B01030",
         "P0029",
         "F0035",
         "A029",
         864.35,
         "2025-07-10",
         "2025-07-15T16:41:15.224Z",
         1030,
         "2025-07-16T08:13:05.597Z",
         "2025-07-16T08:13:05.597Z"
        ],
        [
         "B01031",
         "P0023",
         "F0090",
         "A006",
         1004.81,
         "2025-07-11",
         "2025-07-15T16:41:15.224Z",
         1031,
         "2025-07-16T08:13:05.597Z",
         "2025-07-16T08:13:05.597Z"
        ],
        [
         "B01032",
         "P0108",
         "F0070",
         "A053",
         1443.89,
         "2025-07-10",
         "2025-07-15T16:41:15.224Z",
         1032,
         "2025-07-16T08:13:05.597Z",
         "2025-07-16T08:13:05.597Z"
        ],
        [
         "B01033",
         "P0018",
         "F0056",
         "A047",
         278.89,
         "2025-07-11",
         "2025-07-15T16:41:15.224Z",
         1033,
         "2025-07-16T08:13:05.597Z",
         "2025-07-16T08:13:05.597Z"
        ],
        [
         "B01034",
         "P0084",
         "F0110",
         "A010",
         1077.57,
         "2025-06-22",
         "2025-07-15T16:41:15.224Z",
         1034,
         "2025-07-16T08:13:05.597Z",
         "2025-07-16T08:13:05.597Z"
        ],
        [
         "B01035",
         "P0048",
         "F0100",
         "A015",
         245.65,
         "2025-06-29",
         "2025-07-15T16:41:15.224Z",
         1035,
         "2025-07-16T08:13:05.597Z",
         "2025-07-16T08:13:05.597Z"
        ],
        [
         "B01036",
         "P0062",
         "F0077",
         "A021",
         914.7,
         "2025-07-04",
         "2025-07-15T16:41:15.224Z",
         1036,
         "2025-07-16T08:13:05.597Z",
         "2025-07-16T08:13:05.597Z"
        ],
        [
         "B01037",
         "P0040",
         "F0038",
         "A029",
         517.58,
         "2025-06-22",
         "2025-07-15T16:41:15.224Z",
         1037,
         "2025-07-16T08:13:05.597Z",
         "2025-07-16T08:13:05.597Z"
        ],
        [
         "B01038",
         "P0159",
         "F0074",
         "A039",
         646.71,
         "2025-06-28",
         "2025-07-15T16:41:15.224Z",
         1038,
         "2025-07-16T08:13:05.597Z",
         "2025-07-16T08:13:05.597Z"
        ],
        [
         "B01039",
         "P0110",
         "F0032",
         "A014",
         1040.3,
         "2025-06-24",
         "2025-07-15T16:41:15.224Z",
         1039,
         "2025-07-16T08:13:05.597Z",
         "2025-07-16T08:13:05.597Z"
        ],
        [
         "B01040",
         "P0089",
         "F0100",
         "A027",
         1484.13,
         "2025-07-20",
         "2025-07-15T16:41:15.224Z",
         1040,
         "2025-07-16T08:13:05.597Z",
         "2025-07-16T08:13:05.597Z"
        ],
        [
         "B01041",
         "P0076",
         "F0004",
         "A047",
         124.83,
         "2025-07-05",
         "2025-07-15T16:41:15.224Z",
         1041,
         "2025-07-16T08:13:05.597Z",
         "2025-07-16T08:13:05.597Z"
        ],
        [
         "B01042",
         "P0016",
         "F0087",
         "A043",
         751.55,
         "2025-07-20",
         "2025-07-15T16:41:15.224Z",
         1042,
         "2025-07-16T08:13:05.597Z",
         "2025-07-16T08:13:05.597Z"
        ],
        [
         "B01043",
         "P0175",
         "F0028",
         "A030",
         826.8,
         "2025-07-06",
         "2025-07-15T16:41:15.224Z",
         1043,
         "2025-07-16T08:13:05.597Z",
         "2025-07-16T08:13:05.597Z"
        ],
        [
         "B01044",
         "P0064",
         "F0035",
         "A025",
         893.4,
         "2025-07-13",
         "2025-07-15T16:41:15.224Z",
         1044,
         "2025-07-16T08:13:05.597Z",
         "2025-07-16T08:13:05.597Z"
        ],
        [
         "B01045",
         "P0127",
         "F0054",
         "A046",
         978.71,
         "2025-07-08",
         "2025-07-15T16:41:15.224Z",
         1045,
         "2025-07-16T08:13:05.597Z",
         "2025-07-16T08:13:05.597Z"
        ],
        [
         "B01046",
         "P0213",
         "F0057",
         "A036",
         469.33,
         "2025-07-21",
         "2025-07-15T16:41:15.224Z",
         1046,
         "2025-07-16T08:13:05.597Z",
         "2025-07-16T08:13:05.597Z"
        ],
        [
         "B01047",
         "P0025",
         "F0029",
         "A026",
         807.07,
         "2025-07-01",
         "2025-07-15T16:41:15.224Z",
         1047,
         "2025-07-16T08:13:05.597Z",
         "2025-07-16T08:13:05.597Z"
        ],
        [
         "B01048",
         "P0164",
         "F0109",
         "A032",
         1054.39,
         "2025-07-13",
         "2025-07-15T16:41:15.224Z",
         1048,
         "2025-07-16T08:13:05.597Z",
         "2025-07-16T08:13:05.597Z"
        ],
        [
         "B01049",
         "P0213",
         "F0037",
         "A023",
         881.23,
         "2025-07-13",
         "2025-07-15T16:41:15.224Z",
         1049,
         "2025-07-16T08:13:05.597Z",
         "2025-07-16T08:13:05.597Z"
        ],
        [
         "B01050",
         "P0098",
         "F0052",
         "A007",
         465.76,
         "2025-07-07",
         "2025-07-15T16:41:15.224Z",
         1050,
         "2025-07-16T08:13:05.597Z",
         "2025-07-16T08:13:05.597Z"
        ],
        [
         "B01051",
         "P0068",
         "F0016",
         "A016",
         1467.07,
         "2025-07-02",
         "2025-07-15T16:41:15.224Z",
         1051,
         "2025-07-16T08:13:05.597Z",
         "2025-07-16T08:13:05.597Z"
        ],
        [
         "B01052",
         "P0080",
         "F0098",
         "A034",
         878.65,
         "2025-07-09",
         "2025-07-15T16:41:15.224Z",
         1052,
         "2025-07-16T08:13:05.597Z",
         "2025-07-16T08:13:05.597Z"
        ],
        [
         "B01053",
         "P0215",
         "F0073",
         "A030",
         1331.64,
         "2025-07-21",
         "2025-07-15T16:41:15.224Z",
         1053,
         "2025-07-16T08:13:05.597Z",
         "2025-07-16T08:13:05.597Z"
        ],
        [
         "B01054",
         "P0181",
         "F0076",
         "A041",
         1290.01,
         "2025-07-02",
         "2025-07-15T16:41:15.224Z",
         1054,
         "2025-07-16T08:13:05.597Z",
         "2025-07-16T08:13:05.597Z"
        ],
        [
         "B01055",
         "P0146",
         "F0055",
         "A052",
         573.54,
         "2025-06-28",
         "2025-07-15T16:41:15.224Z",
         1055,
         "2025-07-16T08:13:05.597Z",
         "2025-07-16T08:13:05.597Z"
        ],
        [
         "B01056",
         "P0182",
         "F0008",
         "A051",
         1443.33,
         "2025-07-04",
         "2025-07-15T16:41:15.224Z",
         1056,
         "2025-07-16T08:13:05.597Z",
         "2025-07-16T08:13:05.597Z"
        ],
        [
         "B01057",
         "P0142",
         "F0010",
         "A043",
         1275.8,
         "2025-06-25",
         "2025-07-15T16:41:15.224Z",
         1057,
         "2025-07-16T08:13:05.597Z",
         "2025-07-16T08:13:05.597Z"
        ],
        [
         "B01058",
         "P0162",
         "F0100",
         "A037",
         920.6,
         "2025-07-09",
         "2025-07-15T16:41:15.224Z",
         1058,
         "2025-07-16T08:13:05.597Z",
         "2025-07-16T08:13:05.597Z"
        ],
        [
         "B01059",
         "P0107",
         "F0034",
         "A027",
         205.48,
         "2025-07-09",
         "2025-07-15T16:41:15.224Z",
         1059,
         "2025-07-16T08:13:05.597Z",
         "2025-07-16T08:13:05.597Z"
        ],
        [
         "B01060",
         "P0018",
         "F0050",
         "A007",
         1275.05,
         "2025-06-30",
         "2025-07-15T16:41:15.224Z",
         1060,
         "2025-07-16T08:13:05.597Z",
         "2025-07-16T08:13:05.597Z"
        ],
        [
         "B01061",
         "P0124",
         "F0108",
         "A055",
         1126.46,
         "2025-07-02",
         "2025-07-15T16:41:15.224Z",
         1061,
         "2025-07-16T08:13:05.597Z",
         "2025-07-16T08:13:05.597Z"
        ],
        [
         "B01062",
         "P0010",
         "F0079",
         "A036",
         1457.79,
         "2025-06-29",
         "2025-07-15T16:41:15.224Z",
         1062,
         "2025-07-16T08:13:05.597Z",
         "2025-07-16T08:13:05.597Z"
        ],
        [
         "B01063",
         "P0073",
         "F0009",
         "A028",
         230.06,
         "2025-06-30",
         "2025-07-15T16:41:15.224Z",
         1063,
         "2025-07-16T08:13:05.597Z",
         "2025-07-16T08:13:05.597Z"
        ],
        [
         "B01064",
         "P0171",
         "F0058",
         "A011",
         208.03,
         "2025-06-26",
         "2025-07-15T16:41:15.224Z",
         1064,
         "2025-07-16T08:13:05.597Z",
         "2025-07-16T08:13:05.597Z"
        ],
        [
         "B01065",
         "P0166",
         "F0031",
         "A034",
         106.75,
         "2025-07-19",
         "2025-07-15T16:41:15.224Z",
         1065,
         "2025-07-16T08:13:05.597Z",
         "2025-07-16T08:13:05.597Z"
        ],
        [
         "B01066",
         "P0085",
         "F0043",
         "A035",
         917.54,
         "2025-07-01",
         "2025-07-15T16:41:15.224Z",
         1066,
         "2025-07-16T08:13:05.597Z",
         "2025-07-16T08:13:05.597Z"
        ],
        [
         "B01067",
         "P0067",
         "F0076",
         "A024",
         696.51,
         "2025-07-12",
         "2025-07-15T16:41:15.224Z",
         1067,
         "2025-07-16T08:13:05.597Z",
         "2025-07-16T08:13:05.597Z"
        ],
        [
         "B01068",
         "P0093",
         "F0065",
         "A049",
         536.9,
         "2025-07-16",
         "2025-07-15T16:41:15.224Z",
         1068,
         "2025-07-16T08:13:05.597Z",
         "2025-07-16T08:13:05.597Z"
        ],
        [
         "B01069",
         "P0118",
         "F0051",
         "A021",
         620.97,
         "2025-07-10",
         "2025-07-15T16:41:15.224Z",
         1069,
         "2025-07-16T08:13:05.597Z",
         "2025-07-16T08:13:05.597Z"
        ],
        [
         "B01070",
         "P0016",
         "F0080",
         "A054",
         1228.01,
         "2025-06-23",
         "2025-07-15T16:41:15.224Z",
         1070,
         "2025-07-16T08:13:05.597Z",
         "2025-07-16T08:13:05.597Z"
        ],
        [
         "B01071",
         "P0108",
         "F0096",
         "A015",
         229.94,
         "2025-06-27",
         "2025-07-15T16:41:15.224Z",
         1071,
         "2025-07-16T08:13:05.597Z",
         "2025-07-16T08:13:05.597Z"
        ],
        [
         "B01072",
         "P0157",
         "F0039",
         "A024",
         826.42,
         "2025-07-08",
         "2025-07-15T16:41:15.224Z",
         1072,
         "2025-07-16T08:13:05.597Z",
         "2025-07-16T08:13:05.597Z"
        ],
        [
         "B01073",
         "P0071",
         "F0051",
         "A044",
         532.86,
         "2025-06-29",
         "2025-07-15T16:41:15.224Z",
         1073,
         "2025-07-16T08:13:05.597Z",
         "2025-07-16T08:13:05.597Z"
        ],
        [
         "B01074",
         "P0210",
         "F0109",
         "A055",
         760.01,
         "2025-07-06",
         "2025-07-15T16:41:15.224Z",
         1074,
         "2025-07-16T08:13:05.597Z",
         "2025-07-16T08:13:05.597Z"
        ],
        [
         "B01075",
         "P0151",
         "F0015",
         "A013",
         361.17,
         "2025-07-18",
         "2025-07-15T16:41:15.224Z",
         1075,
         "2025-07-16T08:13:05.597Z",
         "2025-07-16T08:13:05.597Z"
        ],
        [
         "B01076",
         "P0125",
         "F0073",
         "A015",
         1189.45,
         "2025-07-17",
         "2025-07-15T16:41:15.224Z",
         1076,
         "2025-07-16T08:13:05.597Z",
         "2025-07-16T08:13:05.597Z"
        ],
        [
         "B01077",
         "P0178",
         "F0013",
         "A030",
         956.62,
         "2025-06-28",
         "2025-07-15T16:41:15.224Z",
         1077,
         "2025-07-16T08:13:05.597Z",
         "2025-07-16T08:13:05.597Z"
        ],
        [
         "B01078",
         "P0158",
         "F0045",
         "A011",
         900.66,
         "2025-07-05",
         "2025-07-15T16:41:15.224Z",
         1078,
         "2025-07-16T08:13:05.597Z",
         "2025-07-16T08:13:05.597Z"
        ],
        [
         "B01079",
         "P0079",
         "F0046",
         "A009",
         670.15,
         "2025-06-25",
         "2025-07-15T16:41:15.224Z",
         1079,
         "2025-07-16T08:13:05.597Z",
         "2025-07-16T08:13:05.597Z"
        ],
        [
         "B01080",
         "P0207",
         "F0021",
         "A021",
         1131.41,
         "2025-07-08",
         "2025-07-15T16:41:15.224Z",
         1080,
         "2025-07-16T08:13:05.597Z",
         "2025-07-16T08:13:05.597Z"
        ],
        [
         "B01081",
         "P0012",
         "F0053",
         "A025",
         1220.91,
         "2025-06-26",
         "2025-07-15T16:41:15.224Z",
         1081,
         "2025-07-16T08:13:05.597Z",
         "2025-07-16T08:13:05.597Z"
        ],
        [
         "B01082",
         "P0142",
         "F0025",
         "A051",
         222.17,
         "2025-07-15",
         "2025-07-15T16:41:15.224Z",
         1082,
         "2025-07-16T08:13:05.597Z",
         "2025-07-16T08:13:05.597Z"
        ],
        [
         "B01083",
         "P0194",
         "F0107",
         "A037",
         730.32,
         "2025-07-02",
         "2025-07-15T16:41:15.224Z",
         1083,
         "2025-07-16T08:13:05.597Z",
         "2025-07-16T08:13:05.597Z"
        ],
        [
         "B01084",
         "P0189",
         "F0039",
         "A031",
         238.87,
         "2025-07-17",
         "2025-07-15T16:41:15.224Z",
         1084,
         "2025-07-16T08:13:05.597Z",
         "2025-07-16T08:13:05.597Z"
        ],
        [
         "B01085",
         "P0043",
         "F0063",
         "A040",
         1400.62,
         "2025-07-13",
         "2025-07-15T16:41:15.224Z",
         1085,
         "2025-07-16T08:13:05.597Z",
         "2025-07-16T08:13:05.597Z"
        ],
        [
         "B01086",
         "P0007",
         "F0095",
         "A030",
         1359.91,
         "2025-07-10",
         "2025-07-15T16:41:15.224Z",
         1086,
         "2025-07-16T08:13:05.597Z",
         "2025-07-16T08:13:05.597Z"
        ],
        [
         "B01087",
         "P0071",
         "F0103",
         "A019",
         121.15,
         "2025-07-09",
         "2025-07-15T16:41:15.224Z",
         1087,
         "2025-07-16T08:13:05.597Z",
         "2025-07-16T08:13:05.597Z"
        ],
        [
         "B01088",
         "P0189",
         "F0075",
         "A026",
         392.91,
         "2025-07-13",
         "2025-07-15T16:41:15.224Z",
         1088,
         "2025-07-16T08:13:05.597Z",
         "2025-07-16T08:13:05.597Z"
        ],
        [
         "B01089",
         "P0089",
         "F0049",
         "A015",
         519.2,
         "2025-06-24",
         "2025-07-15T16:41:15.224Z",
         1089,
         "2025-07-16T08:13:05.597Z",
         "2025-07-16T08:13:05.597Z"
        ],
        [
         "B01090",
         "P0107",
         "F0014",
         "A041",
         1346.32,
         "2025-06-23",
         "2025-07-15T16:41:15.224Z",
         1090,
         "2025-07-16T08:13:05.597Z",
         "2025-07-16T08:13:05.597Z"
        ],
        [
         "B01091",
         "P0106",
         "F0017",
         "A042",
         1035.02,
         "2025-07-16",
         "2025-07-15T16:41:15.224Z",
         1091,
         "2025-07-16T08:13:05.597Z",
         "2025-07-16T08:13:05.597Z"
        ],
        [
         "B01092",
         "P0117",
         "F0041",
         "A021",
         1276.49,
         "2025-06-22",
         "2025-07-15T16:41:15.224Z",
         1092,
         "2025-07-16T08:13:05.597Z",
         "2025-07-16T08:13:05.597Z"
        ],
        [
         "B01093",
         "P0104",
         "F0003",
         "A045",
         226.75,
         "2025-07-06",
         "2025-07-15T16:41:15.224Z",
         1093,
         "2025-07-16T08:13:05.597Z",
         "2025-07-16T08:13:05.597Z"
        ],
        [
         "B01094",
         "P0040",
         "F0027",
         "A054",
         1497.91,
         "2025-07-11",
         "2025-07-15T16:41:15.224Z",
         1094,
         "2025-07-16T08:13:05.597Z",
         "2025-07-16T08:13:05.597Z"
        ],
        [
         "B01095",
         "P0048",
         "F0041",
         "A029",
         249.02,
         "2025-07-14",
         "2025-07-15T16:41:15.224Z",
         1095,
         "2025-07-16T08:13:05.597Z",
         "2025-07-16T08:13:05.597Z"
        ],
        [
         "B01096",
         "P0030",
         "F0044",
         "A022",
         1465.69,
         "2025-07-12",
         "2025-07-15T16:41:15.224Z",
         1096,
         "2025-07-16T08:13:05.597Z",
         "2025-07-16T08:13:05.597Z"
        ],
        [
         "B01097",
         "P0063",
         "F0010",
         "A009",
         293.92,
         "2025-07-18",
         "2025-07-15T16:41:15.224Z",
         1097,
         "2025-07-16T08:13:05.597Z",
         "2025-07-16T08:13:05.597Z"
        ],
        [
         "B01098",
         "P0212",
         "F0040",
         "A049",
         936.89,
         "2025-07-08",
         "2025-07-15T16:41:15.224Z",
         1098,
         "2025-07-16T08:13:05.597Z",
         "2025-07-16T08:13:05.597Z"
        ],
        [
         "B01099",
         "P0029",
         "F0093",
         "A033",
         1444.53,
         "2025-07-11",
         "2025-07-15T16:41:15.224Z",
         1099,
         "2025-07-16T08:13:05.597Z",
         "2025-07-16T08:13:05.597Z"
        ],
        [
         "B01100",
         "P0088",
         "F0074",
         "A051",
         1446.66,
         "2025-07-01",
         "2025-07-15T16:41:15.224Z",
         1100,
         "2025-07-16T08:13:05.597Z",
         "2025-07-16T08:13:05.597Z"
        ],
        [
         "B01101",
         "P0046",
         "F0001",
         "A039",
         1222.87,
         "2025-06-24",
         "2025-07-15T16:41:15.224Z",
         1101,
         "2025-07-16T08:13:05.597Z",
         "2025-07-16T08:13:05.597Z"
        ],
        [
         "B01102",
         "P0035",
         "F0053",
         "A027",
         411.87,
         "2025-07-16",
         "2025-07-15T16:41:15.224Z",
         1102,
         "2025-07-16T08:13:05.597Z",
         "2025-07-16T08:13:05.597Z"
        ],
        [
         "B01103",
         "P0218",
         "F0089",
         "A023",
         722.6,
         "2025-07-07",
         "2025-07-15T16:41:15.224Z",
         1103,
         "2025-07-16T08:13:05.597Z",
         "2025-07-16T08:13:05.597Z"
        ],
        [
         "B01104",
         "P0150",
         "F0044",
         "A051",
         1471.71,
         "2025-07-20",
         "2025-07-15T16:41:15.224Z",
         1104,
         "2025-07-16T08:13:05.597Z",
         "2025-07-16T08:13:05.597Z"
        ],
        [
         "B01105",
         "P0180",
         "F0017",
         "A053",
         1132.14,
         "2025-07-13",
         "2025-07-15T16:41:15.224Z",
         1105,
         "2025-07-16T08:13:05.597Z",
         "2025-07-16T08:13:05.597Z"
        ],
        [
         "B01106",
         "P0041",
         "F0008",
         "A028",
         1393.96,
         "2025-06-25",
         "2025-07-15T16:41:15.224Z",
         1106,
         "2025-07-16T08:13:05.597Z",
         "2025-07-16T08:13:05.597Z"
        ],
        [
         "B01107",
         "P0163",
         "F0006",
         "A019",
         1428.37,
         "2025-06-28",
         "2025-07-15T16:41:15.224Z",
         1107,
         "2025-07-16T08:13:05.597Z",
         "2025-07-16T08:13:05.597Z"
        ],
        [
         "B01108",
         "P0178",
         "F0110",
         "A029",
         1114.11,
         "2025-07-21",
         "2025-07-15T16:41:15.224Z",
         1108,
         "2025-07-16T08:13:05.597Z",
         "2025-07-16T08:13:05.597Z"
        ],
        [
         "B01109",
         "P0008",
         "F0059",
         "A036",
         449.25,
         "2025-07-08",
         "2025-07-15T16:41:15.224Z",
         1109,
         "2025-07-16T08:13:05.597Z",
         "2025-07-16T08:13:05.597Z"
        ],
        [
         "B01110",
         "P0175",
         "F0069",
         "A043",
         1422.48,
         "2025-06-24",
         "2025-07-15T16:41:15.224Z",
         1110,
         "2025-07-16T08:13:05.597Z",
         "2025-07-16T08:13:05.597Z"
        ],
        [
         "B01111",
         "P0071",
         "F0108",
         "A054",
         1495.37,
         "2025-07-17",
         "2025-07-15T16:41:15.224Z",
         1111,
         "2025-07-16T08:13:05.597Z",
         "2025-07-16T08:13:05.597Z"
        ],
        [
         "B01112",
         "P0219",
         "F0106",
         "A007",
         1014.92,
         "2025-07-10",
         "2025-07-15T16:41:15.224Z",
         1112,
         "2025-07-16T08:13:05.597Z",
         "2025-07-16T08:13:05.597Z"
        ],
        [
         "B01113",
         "P0057",
         "F0066",
         "A019",
         1394.96,
         "2025-07-06",
         "2025-07-15T16:41:15.224Z",
         1113,
         "2025-07-16T08:13:05.597Z",
         "2025-07-16T08:13:05.597Z"
        ],
        [
         "B01114",
         "P0218",
         "F0070",
         "A025",
         762.53,
         "2025-06-26",
         "2025-07-15T16:41:15.224Z",
         1114,
         "2025-07-16T08:13:05.597Z",
         "2025-07-16T08:13:05.597Z"
        ],
        [
         "B01115",
         "P0183",
         "F0017",
         "A041",
         157.89,
         "2025-07-20",
         "2025-07-15T16:41:15.224Z",
         1115,
         "2025-07-16T08:13:05.597Z",
         "2025-07-16T08:13:05.597Z"
        ],
        [
         "B01116",
         "P0074",
         "F0005",
         "A036",
         1379.18,
         "2025-06-25",
         "2025-07-15T16:41:15.224Z",
         1116,
         "2025-07-16T08:13:05.597Z",
         "2025-07-16T08:13:05.597Z"
        ],
        [
         "B01117",
         "P0076",
         "F0035",
         "A034",
         825.6,
         "2025-06-23",
         "2025-07-15T16:41:15.224Z",
         1117,
         "2025-07-16T08:13:05.597Z",
         "2025-07-16T08:13:05.597Z"
        ],
        [
         "B01118",
         "P0149",
         "F0052",
         "A026",
         1244.42,
         "2025-07-11",
         "2025-07-15T16:41:15.224Z",
         1118,
         "2025-07-16T08:13:05.597Z",
         "2025-07-16T08:13:05.597Z"
        ],
        [
         "B01119",
         "P0105",
         "F0080",
         "A017",
         490.22,
         "2025-07-19",
         "2025-07-15T16:41:15.224Z",
         1119,
         "2025-07-16T08:13:05.597Z",
         "2025-07-16T08:13:05.597Z"
        ],
        [
         "B01120",
         "P0168",
         "F0071",
         "A052",
         175.84,
         "2025-07-01",
         "2025-07-15T16:41:15.224Z",
         1120,
         "2025-07-16T08:13:05.597Z",
         "2025-07-16T08:13:05.597Z"
        ],
        [
         "B01121",
         "P0050",
         "F0071",
         "A007",
         421.03,
         "2025-06-22",
         "2025-07-15T16:41:15.224Z",
         1121,
         "2025-07-16T08:13:05.597Z",
         "2025-07-16T08:13:05.597Z"
        ],
        [
         "B01122",
         "P0055",
         "F0067",
         "A011",
         698.87,
         "2025-06-22",
         "2025-07-15T16:41:15.224Z",
         1122,
         "2025-07-16T08:13:05.597Z",
         "2025-07-16T08:13:05.597Z"
        ],
        [
         "B01123",
         "P0102",
         "F0080",
         "A046",
         1158.64,
         "2025-06-28",
         "2025-07-15T16:41:15.224Z",
         1123,
         "2025-07-16T08:13:05.597Z",
         "2025-07-16T08:13:05.597Z"
        ],
        [
         "B01124",
         "P0087",
         "F0028",
         "A025",
         926.94,
         "2025-07-04",
         "2025-07-15T16:41:15.224Z",
         1124,
         "2025-07-16T08:13:05.597Z",
         "2025-07-16T08:13:05.597Z"
        ],
        [
         "B01125",
         "P0002",
         "F0057",
         "A053",
         144.35,
         "2025-07-21",
         "2025-07-15T16:41:15.224Z",
         1125,
         "2025-07-16T08:13:05.597Z",
         "2025-07-16T08:13:05.597Z"
        ],
        [
         "B01126",
         "P0018",
         "F0054",
         "A047",
         841.49,
         "2025-06-30",
         "2025-07-15T16:41:15.224Z",
         1126,
         "2025-07-16T08:13:05.597Z",
         "2025-07-16T08:13:05.597Z"
        ],
        [
         "B01127",
         "P0191",
         "F0019",
         "A020",
         1374.11,
         "2025-07-05",
         "2025-07-15T16:41:15.224Z",
         1127,
         "2025-07-16T08:13:05.597Z",
         "2025-07-16T08:13:05.597Z"
        ],
        [
         "B01128",
         "P0105",
         "F0103",
         "A032",
         303.72,
         "2025-06-25",
         "2025-07-15T16:41:15.224Z",
         1128,
         "2025-07-16T08:13:05.597Z",
         "2025-07-16T08:13:05.597Z"
        ],
        [
         "B01129",
         "P0219",
         "F0060",
         "A014",
         515.43,
         "2025-06-24",
         "2025-07-15T16:41:15.224Z",
         1129,
         "2025-07-16T08:13:05.597Z",
         "2025-07-16T08:13:05.597Z"
        ],
        [
         "B01130",
         "P0168",
         "F0073",
         "A024",
         294.62,
         "2025-07-13",
         "2025-07-15T16:41:15.224Z",
         1130,
         "2025-07-16T08:13:05.597Z",
         "2025-07-16T08:13:05.597Z"
        ],
        [
         "B01131",
         "P0090",
         "F0075",
         "A020",
         251.3,
         "2025-07-05",
         "2025-07-15T16:41:15.224Z",
         1131,
         "2025-07-16T08:13:05.597Z",
         "2025-07-16T08:13:05.597Z"
        ],
        [
         "B01132",
         "P0169",
         "F0028",
         "A031",
         684.29,
         "2025-07-06",
         "2025-07-15T16:41:15.224Z",
         1132,
         "2025-07-16T08:13:05.597Z",
         "2025-07-16T08:13:05.597Z"
        ],
        [
         "B01133",
         "P0133",
         "F0048",
         "A003",
         403.93,
         "2025-07-15",
         "2025-07-15T16:41:15.224Z",
         1133,
         "2025-07-16T08:13:05.597Z",
         "2025-07-16T08:13:05.597Z"
        ],
        [
         "B01134",
         "P0154",
         "F0099",
         "A036",
         665.65,
         "2025-07-07",
         "2025-07-15T16:41:15.224Z",
         1134,
         "2025-07-16T08:13:05.597Z",
         "2025-07-16T08:13:05.597Z"
        ],
        [
         "B01135",
         "P0121",
         "F0094",
         "A023",
         1167.0,
         "2025-07-19",
         "2025-07-15T16:41:15.224Z",
         1135,
         "2025-07-16T08:13:05.597Z",
         "2025-07-16T08:13:05.597Z"
        ],
        [
         "B01136",
         "P0190",
         "F0084",
         "A041",
         181.28,
         "2025-07-11",
         "2025-07-15T16:41:15.224Z",
         1136,
         "2025-07-16T08:13:05.597Z",
         "2025-07-16T08:13:05.597Z"
        ],
        [
         "B01137",
         "P0130",
         "F0076",
         "A055",
         459.3,
         "2025-07-11",
         "2025-07-15T16:41:15.224Z",
         1137,
         "2025-07-16T08:13:05.597Z",
         "2025-07-16T08:13:05.597Z"
        ],
        [
         "B01138",
         "P0077",
         "F0060",
         "A043",
         1207.12,
         "2025-07-12",
         "2025-07-15T16:41:15.224Z",
         1138,
         "2025-07-16T08:13:05.597Z",
         "2025-07-16T08:13:05.597Z"
        ],
        [
         "B01139",
         "P0196",
         "F0028",
         "A048",
         160.94,
         "2025-07-20",
         "2025-07-15T16:41:15.224Z",
         1139,
         "2025-07-16T08:13:05.597Z",
         "2025-07-16T08:13:05.597Z"
        ],
        [
         "B01140",
         "P0018",
         "F0024",
         "A035",
         838.91,
         "2025-07-12",
         "2025-07-15T16:41:15.224Z",
         1140,
         "2025-07-16T08:13:05.597Z",
         "2025-07-16T08:13:05.597Z"
        ],
        [
         "B01141",
         "P0213",
         "F0067",
         "A048",
         873.77,
         "2025-06-24",
         "2025-07-15T16:41:15.224Z",
         1141,
         "2025-07-16T08:13:05.597Z",
         "2025-07-16T08:13:05.597Z"
        ],
        [
         "B01142",
         "P0210",
         "F0073",
         "A002",
         177.3,
         "2025-06-23",
         "2025-07-15T16:41:15.224Z",
         1142,
         "2025-07-16T08:13:05.597Z",
         "2025-07-16T08:13:05.597Z"
        ],
        [
         "B01143",
         "P0030",
         "F0027",
         "A018",
         1185.15,
         "2025-06-27",
         "2025-07-15T16:41:15.224Z",
         1143,
         "2025-07-16T08:13:05.597Z",
         "2025-07-16T08:13:05.597Z"
        ],
        [
         "B01144",
         "P0144",
         "F0029",
         "A010",
         111.52,
         "2025-06-24",
         "2025-07-15T16:41:15.224Z",
         1144,
         "2025-07-16T08:13:05.597Z",
         "2025-07-16T08:13:05.597Z"
        ],
        [
         "B01145",
         "P0162",
         "F0079",
         "A024",
         623.35,
         "2025-07-02",
         "2025-07-15T16:41:15.224Z",
         1145,
         "2025-07-16T08:13:05.597Z",
         "2025-07-16T08:13:05.597Z"
        ],
        [
         "B01146",
         "P0131",
         "F0011",
         "A047",
         449.56,
         "2025-07-20",
         "2025-07-15T16:41:15.224Z",
         1146,
         "2025-07-16T08:13:05.597Z",
         "2025-07-16T08:13:05.597Z"
        ],
        [
         "B01147",
         "P0056",
         "F0094",
         "A028",
         575.93,
         "2025-07-07",
         "2025-07-15T16:41:15.224Z",
         1147,
         "2025-07-16T08:13:05.597Z",
         "2025-07-16T08:13:05.597Z"
        ],
        [
         "B01148",
         "P0039",
         "F0051",
         "A008",
         1426.38,
         "2025-07-13",
         "2025-07-15T16:41:15.224Z",
         1148,
         "2025-07-16T08:13:05.597Z",
         "2025-07-16T08:13:05.597Z"
        ],
        [
         "B01149",
         "P0123",
         "F0104",
         "A001",
         1122.35,
         "2025-07-13",
         "2025-07-15T16:41:15.224Z",
         1149,
         "2025-07-16T08:13:05.597Z",
         "2025-07-16T08:13:05.597Z"
        ],
        [
         "B01150",
         "P0063",
         "F0011",
         "A026",
         687.89,
         "2025-07-11",
         "2025-07-15T16:41:15.224Z",
         1150,
         "2025-07-16T08:13:05.597Z",
         "2025-07-16T08:13:05.597Z"
        ],
        [
         "B01151",
         "P0080",
         "F0108",
         "A015",
         803.84,
         "2025-06-30",
         "2025-07-15T16:41:15.224Z",
         1151,
         "2025-07-16T08:13:05.597Z",
         "2025-07-16T08:13:05.597Z"
        ],
        [
         "B01152",
         "P0034",
         "F0109",
         "A010",
         528.95,
         "2025-07-07",
         "2025-07-15T16:41:15.224Z",
         1152,
         "2025-07-16T08:13:05.597Z",
         "2025-07-16T08:13:05.597Z"
        ],
        [
         "B01153",
         "P0216",
         "F0072",
         "A006",
         1242.63,
         "2025-06-30",
         "2025-07-15T16:41:15.224Z",
         1153,
         "2025-07-16T08:13:05.597Z",
         "2025-07-16T08:13:05.597Z"
        ],
        [
         "B01154",
         "P0040",
         "F0006",
         "A046",
         918.22,
         "2025-06-25",
         "2025-07-15T16:41:15.224Z",
         1154,
         "2025-07-16T08:13:05.597Z",
         "2025-07-16T08:13:05.597Z"
        ],
        [
         "B01155",
         "P0003",
         "F0027",
         "A047",
         716.11,
         "2025-06-26",
         "2025-07-15T16:41:15.224Z",
         1155,
         "2025-07-16T08:13:05.597Z",
         "2025-07-16T08:13:05.597Z"
        ],
        [
         "B01156",
         "P0217",
         "F0053",
         "A029",
         1180.93,
         "2025-06-30",
         "2025-07-15T16:41:15.224Z",
         1156,
         "2025-07-16T08:13:05.597Z",
         "2025-07-16T08:13:05.597Z"
        ],
        [
         "B01157",
         "P0008",
         "F0068",
         "A019",
         388.65,
         "2025-07-18",
         "2025-07-15T16:41:15.224Z",
         1157,
         "2025-07-16T08:13:05.597Z",
         "2025-07-16T08:13:05.597Z"
        ],
        [
         "B01158",
         "P0140",
         "F0009",
         "A055",
         1054.47,
         "2025-07-04",
         "2025-07-15T16:41:15.224Z",
         1158,
         "2025-07-16T08:13:05.597Z",
         "2025-07-16T08:13:05.597Z"
        ],
        [
         "B01159",
         "P0072",
         "F0040",
         "A023",
         335.06,
         "2025-06-29",
         "2025-07-15T16:41:15.224Z",
         1159,
         "2025-07-16T08:13:05.597Z",
         "2025-07-16T08:13:05.597Z"
        ],
        [
         "B01160",
         "P0075",
         "F0098",
         "A005",
         948.14,
         "2025-07-03",
         "2025-07-15T16:41:15.224Z",
         1160,
         "2025-07-16T08:13:05.597Z",
         "2025-07-16T08:13:05.597Z"
        ],
        [
         "B01161",
         "P0122",
         "F0085",
         "A041",
         1079.93,
         "2025-06-27",
         "2025-07-15T16:41:15.224Z",
         1161,
         "2025-07-16T08:13:05.597Z",
         "2025-07-16T08:13:05.597Z"
        ],
        [
         "B01162",
         "P0060",
         "F0103",
         "A018",
         1328.0,
         "2025-07-21",
         "2025-07-15T16:41:15.224Z",
         1162,
         "2025-07-16T08:13:05.597Z",
         "2025-07-16T08:13:05.597Z"
        ],
        [
         "B01163",
         "P0154",
         "F0037",
         "A043",
         694.44,
         "2025-06-28",
         "2025-07-15T16:41:15.224Z",
         1163,
         "2025-07-16T08:13:05.597Z",
         "2025-07-16T08:13:05.597Z"
        ],
        [
         "B01164",
         "P0042",
         "F0089",
         "A014",
         1474.92,
         "2025-07-10",
         "2025-07-15T16:41:15.224Z",
         1164,
         "2025-07-16T08:13:05.597Z",
         "2025-07-16T08:13:05.597Z"
        ],
        [
         "B01165",
         "P0209",
         "F0093",
         "A015",
         505.38,
         "2025-07-21",
         "2025-07-15T16:41:15.224Z",
         1165,
         "2025-07-16T08:13:05.597Z",
         "2025-07-16T08:13:05.597Z"
        ],
        [
         "B01166",
         "P0178",
         "F0103",
         "A026",
         662.84,
         "2025-06-25",
         "2025-07-15T16:41:15.224Z",
         1166,
         "2025-07-16T08:13:05.597Z",
         "2025-07-16T08:13:05.597Z"
        ],
        [
         "B01167",
         "P0201",
         "F0085",
         "A035",
         344.8,
         "2025-06-24",
         "2025-07-15T16:41:15.224Z",
         1167,
         "2025-07-16T08:13:05.597Z",
         "2025-07-16T08:13:05.597Z"
        ],
        [
         "B01168",
         "P0220",
         "F0005",
         "A037",
         683.45,
         "2025-07-15",
         "2025-07-15T16:41:15.224Z",
         1168,
         "2025-07-16T08:13:05.597Z",
         "2025-07-16T08:13:05.597Z"
        ],
        [
         "B01169",
         "P0092",
         "F0083",
         "A022",
         1487.77,
         "2025-06-22",
         "2025-07-15T16:41:15.224Z",
         1169,
         "2025-07-16T08:13:05.597Z",
         "2025-07-16T08:13:05.597Z"
        ],
        [
         "B01170",
         "P0005",
         "F0078",
         "A006",
         897.7,
         "2025-07-02",
         "2025-07-15T16:41:15.224Z",
         1170,
         "2025-07-16T08:13:05.597Z",
         "2025-07-16T08:13:05.597Z"
        ],
        [
         "B01171",
         "P0190",
         "F0087",
         "A051",
         1304.33,
         "2025-07-03",
         "2025-07-15T16:41:15.224Z",
         1171,
         "2025-07-16T08:13:05.597Z",
         "2025-07-16T08:13:05.597Z"
        ],
        [
         "B01172",
         "P0073",
         "F0058",
         "A026",
         880.74,
         "2025-07-10",
         "2025-07-15T16:41:15.224Z",
         1172,
         "2025-07-16T08:13:05.597Z",
         "2025-07-16T08:13:05.597Z"
        ],
        [
         "B01173",
         "P0090",
         "F0105",
         "A041",
         509.25,
         "2025-07-08",
         "2025-07-15T16:41:15.224Z",
         1173,
         "2025-07-16T08:13:05.597Z",
         "2025-07-16T08:13:05.597Z"
        ],
        [
         "B01174",
         "P0017",
         "F0069",
         "A016",
         382.95,
         "2025-06-22",
         "2025-07-15T16:41:15.224Z",
         1174,
         "2025-07-16T08:13:05.597Z",
         "2025-07-16T08:13:05.597Z"
        ],
        [
         "B01175",
         "P0189",
         "F0061",
         "A013",
         1462.27,
         "2025-07-17",
         "2025-07-15T16:41:15.224Z",
         1175,
         "2025-07-16T08:13:05.597Z",
         "2025-07-16T08:13:05.597Z"
        ],
        [
         "B01176",
         "P0041",
         "F0009",
         "A016",
         1015.86,
         "2025-07-04",
         "2025-07-15T16:41:15.224Z",
         1176,
         "2025-07-16T08:13:05.597Z",
         "2025-07-16T08:13:05.597Z"
        ],
        [
         "B01177",
         "P0026",
         "F0073",
         "A036",
         910.95,
         "2025-07-19",
         "2025-07-15T16:41:15.224Z",
         1177,
         "2025-07-16T08:13:05.597Z",
         "2025-07-16T08:13:05.597Z"
        ],
        [
         "B01178",
         "P0117",
         "F0094",
         "A023",
         1247.42,
         "2025-07-19",
         "2025-07-15T16:41:15.224Z",
         1178,
         "2025-07-16T08:13:05.597Z",
         "2025-07-16T08:13:05.597Z"
        ],
        [
         "B01179",
         "P0115",
         "F0052",
         "A017",
         1462.57,
         "2025-07-04",
         "2025-07-15T16:41:15.224Z",
         1179,
         "2025-07-16T08:13:05.597Z",
         "2025-07-16T08:13:05.597Z"
        ],
        [
         "B01180",
         "P0081",
         "F0087",
         "A020",
         524.82,
         "2025-07-06",
         "2025-07-15T16:41:15.224Z",
         1180,
         "2025-07-16T08:13:05.597Z",
         "2025-07-16T08:13:05.597Z"
        ],
        [
         "B01181",
         "P0188",
         "F0075",
         "A003",
         1493.14,
         "2025-06-23",
         "2025-07-15T16:41:15.224Z",
         1181,
         "2025-07-16T08:13:05.597Z",
         "2025-07-16T08:13:05.597Z"
        ],
        [
         "B01182",
         "P0212",
         "F0017",
         "A012",
         1338.87,
         "2025-07-04",
         "2025-07-15T16:41:15.224Z",
         1182,
         "2025-07-16T08:13:05.597Z",
         "2025-07-16T08:13:05.597Z"
        ],
        [
         "B01183",
         "P0174",
         "F0105",
         "A024",
         1193.63,
         "2025-07-03",
         "2025-07-15T16:41:15.224Z",
         1183,
         "2025-07-16T08:13:05.597Z",
         "2025-07-16T08:13:05.597Z"
        ],
        [
         "B01184",
         "P0033",
         "F0035",
         "A043",
         184.15,
         "2025-07-08",
         "2025-07-15T16:41:15.224Z",
         1184,
         "2025-07-16T08:13:05.597Z",
         "2025-07-16T08:13:05.597Z"
        ],
        [
         "B01185",
         "P0210",
         "F0089",
         "A033",
         1246.14,
         "2025-07-18",
         "2025-07-15T16:41:15.224Z",
         1185,
         "2025-07-16T08:13:05.597Z",
         "2025-07-16T08:13:05.597Z"
        ],
        [
         "B01186",
         "P0073",
         "F0044",
         "A028",
         608.11,
         "2025-07-04",
         "2025-07-15T16:41:15.224Z",
         1186,
         "2025-07-16T08:13:05.597Z",
         "2025-07-16T08:13:05.597Z"
        ],
        [
         "B01187",
         "P0180",
         "F0022",
         "A024",
         211.04,
         "2025-07-19",
         "2025-07-15T16:41:15.224Z",
         1187,
         "2025-07-16T08:13:05.597Z",
         "2025-07-16T08:13:05.597Z"
        ],
        [
         "B01188",
         "P0041",
         "F0100",
         "A037",
         476.65,
         "2025-07-20",
         "2025-07-15T16:41:15.224Z",
         1188,
         "2025-07-16T08:13:05.597Z",
         "2025-07-16T08:13:05.597Z"
        ],
        [
         "B01189",
         "P0135",
         "F0100",
         "A025",
         1390.23,
         "2025-06-26",
         "2025-07-15T16:41:15.224Z",
         1189,
         "2025-07-16T08:13:05.597Z",
         "2025-07-16T08:13:05.597Z"
        ],
        [
         "B01190",
         "P0199",
         "F0089",
         "A005",
         1423.59,
         "2025-06-24",
         "2025-07-15T16:41:15.224Z",
         1190,
         "2025-07-16T08:13:05.597Z",
         "2025-07-16T08:13:05.597Z"
        ],
        [
         "B01191",
         "P0019",
         "F0107",
         "A014",
         453.85,
         "2025-06-27",
         "2025-07-15T16:41:15.224Z",
         1191,
         "2025-07-16T08:13:05.597Z",
         "2025-07-16T08:13:05.597Z"
        ],
        [
         "B01192",
         "P0071",
         "F0067",
         "A049",
         467.84,
         "2025-07-15",
         "2025-07-15T16:41:15.224Z",
         1192,
         "2025-07-16T08:13:05.597Z",
         "2025-07-16T08:13:05.597Z"
        ],
        [
         "B01193",
         "P0036",
         "F0099",
         "A022",
         432.68,
         "2025-06-29",
         "2025-07-15T16:41:15.224Z",
         1193,
         "2025-07-16T08:13:05.597Z",
         "2025-07-16T08:13:05.597Z"
        ],
        [
         "B01194",
         "P0009",
         "F0018",
         "A017",
         191.37,
         "2025-06-30",
         "2025-07-15T16:41:15.224Z",
         1194,
         "2025-07-16T08:13:05.597Z",
         "2025-07-16T08:13:05.597Z"
        ],
        [
         "B01195",
         "P0150",
         "F0099",
         "A039",
         578.43,
         "2025-06-26",
         "2025-07-15T16:41:15.224Z",
         1195,
         "2025-07-16T08:13:05.597Z",
         "2025-07-16T08:13:05.597Z"
        ],
        [
         "B01196",
         "P0119",
         "F0045",
         "A050",
         1316.14,
         "2025-07-07",
         "2025-07-15T16:41:15.224Z",
         1196,
         "2025-07-16T08:13:05.597Z",
         "2025-07-16T08:13:05.597Z"
        ],
        [
         "B01197",
         "P0070",
         "F0098",
         "A015",
         551.21,
         "2025-07-05",
         "2025-07-15T16:41:15.224Z",
         1197,
         "2025-07-16T08:13:05.597Z",
         "2025-07-16T08:13:05.597Z"
        ],
        [
         "B01198",
         "P0061",
         "F0015",
         "A054",
         265.09,
         "2025-07-08",
         "2025-07-15T16:41:15.224Z",
         1198,
         "2025-07-16T08:13:05.597Z",
         "2025-07-16T08:13:05.597Z"
        ],
        [
         "B01199",
         "P0034",
         "F0001",
         "A014",
         562.54,
         "2025-07-07",
         "2025-07-15T16:41:15.224Z",
         1199,
         "2025-07-16T08:13:05.597Z",
         "2025-07-16T08:13:05.597Z"
        ],
        [
         "B01200",
         "P0056",
         "F0039",
         "A001",
         702.13,
         "2025-07-11",
         "2025-07-15T16:41:15.224Z",
         1200,
         "2025-07-16T08:13:05.597Z",
         "2025-07-16T08:13:05.597Z"
        ],
        [
         "B01201",
         "P0170",
         "F0087",
         "A002",
         503.96,
         "2025-06-27",
         "2025-07-15T16:41:15.224Z",
         1201,
         "2025-07-16T08:13:05.597Z",
         "2025-07-16T08:13:05.597Z"
        ],
        [
         "B01202",
         "P0172",
         "F0075",
         "A024",
         1460.54,
         "2025-06-22",
         "2025-07-15T16:41:15.224Z",
         1202,
         "2025-07-16T08:13:05.597Z",
         "2025-07-16T08:13:05.597Z"
        ],
        [
         "B01203",
         "P0116",
         "F0048",
         "A009",
         286.8,
         "2025-07-13",
         "2025-07-15T16:41:15.224Z",
         1203,
         "2025-07-16T08:13:05.597Z",
         "2025-07-16T08:13:05.597Z"
        ],
        [
         "B01204",
         "P0083",
         "F0064",
         "A044",
         309.67,
         "2025-07-12",
         "2025-07-15T16:41:15.224Z",
         1204,
         "2025-07-16T08:13:05.597Z",
         "2025-07-16T08:13:05.597Z"
        ],
        [
         "B01205",
         "P0172",
         "F0055",
         "A006",
         1402.53,
         "2025-06-23",
         "2025-07-15T16:41:15.224Z",
         1205,
         "2025-07-16T08:13:05.597Z",
         "2025-07-16T08:13:05.597Z"
        ],
        [
         "B01206",
         "P0017",
         "F0077",
         "A012",
         917.53,
         "2025-06-24",
         "2025-07-15T16:41:15.224Z",
         1206,
         "2025-07-16T08:13:05.597Z",
         "2025-07-16T08:13:05.597Z"
        ],
        [
         "B01207",
         "P0019",
         "F0029",
         "A017",
         1394.04,
         "2025-07-03",
         "2025-07-15T16:41:15.224Z",
         1207,
         "2025-07-16T08:13:05.597Z",
         "2025-07-16T08:13:05.597Z"
        ],
        [
         "B01208",
         "P0142",
         "F0103",
         "A005",
         859.05,
         "2025-07-20",
         "2025-07-15T16:41:15.224Z",
         1208,
         "2025-07-16T08:13:05.597Z",
         "2025-07-16T08:13:05.597Z"
        ],
        [
         "B01209",
         "P0140",
         "F0004",
         "A003",
         1109.52,
         "2025-06-30",
         "2025-07-15T16:41:15.224Z",
         1209,
         "2025-07-16T08:13:05.597Z",
         "2025-07-16T08:13:05.597Z"
        ],
        [
         "B01210",
         "P0101",
         "F0034",
         "A006",
         152.97,
         "2025-07-09",
         "2025-07-15T16:41:15.224Z",
         1210,
         "2025-07-16T08:13:05.597Z",
         "2025-07-16T08:13:05.597Z"
        ],
        [
         "B01211",
         "P0124",
         "F0004",
         "A033",
         657.75,
         "2025-06-27",
         "2025-07-15T16:41:15.224Z",
         1211,
         "2025-07-16T08:13:05.597Z",
         "2025-07-16T08:13:05.597Z"
        ],
        [
         "B01212",
         "P0112",
         "F0070",
         "A017",
         571.68,
         "2025-06-23",
         "2025-07-15T16:41:15.224Z",
         1212,
         "2025-07-16T08:13:05.597Z",
         "2025-07-16T08:13:05.597Z"
        ],
        [
         "B01213",
         "P0155",
         "F0069",
         "A018",
         168.5,
         "2025-07-13",
         "2025-07-15T16:41:15.224Z",
         1213,
         "2025-07-16T08:13:05.597Z",
         "2025-07-16T08:13:05.597Z"
        ],
        [
         "B01214",
         "P0163",
         "F0083",
         "A049",
         477.59,
         "2025-07-06",
         "2025-07-15T16:41:15.224Z",
         1214,
         "2025-07-16T08:13:05.597Z",
         "2025-07-16T08:13:05.597Z"
        ],
        [
         "B01215",
         "P0091",
         "F0011",
         "A054",
         1219.62,
         "2025-06-23",
         "2025-07-15T16:41:15.224Z",
         1215,
         "2025-07-16T08:13:05.597Z",
         "2025-07-16T08:13:05.597Z"
        ],
        [
         "B01216",
         "P0168",
         "F0004",
         "A033",
         122.98,
         "2025-07-17",
         "2025-07-15T16:41:15.224Z",
         1216,
         "2025-07-16T08:13:05.597Z",
         "2025-07-16T08:13:05.597Z"
        ],
        [
         "B01217",
         "P0114",
         "F0099",
         "A021",
         120.75,
         "2025-07-18",
         "2025-07-15T16:41:15.224Z",
         1217,
         "2025-07-16T08:13:05.597Z",
         "2025-07-16T08:13:05.597Z"
        ],
        [
         "B01218",
         "P0096",
         "F0098",
         "A052",
         1473.27,
         "2025-07-09",
         "2025-07-15T16:41:15.224Z",
         1218,
         "2025-07-16T08:13:05.597Z",
         "2025-07-16T08:13:05.597Z"
        ],
        [
         "B01219",
         "P0021",
         "F0053",
         "A019",
         1232.0,
         "2025-07-05",
         "2025-07-15T16:41:15.224Z",
         1219,
         "2025-07-16T08:13:05.597Z",
         "2025-07-16T08:13:05.597Z"
        ],
        [
         "B01220",
         "P0074",
         "F0009",
         "A038",
         1178.98,
         "2025-07-17",
         "2025-07-15T16:41:15.224Z",
         1220,
         "2025-07-16T08:13:05.597Z",
         "2025-07-16T08:13:05.597Z"
        ],
        [
         "B01221",
         "P0070",
         "F0014",
         "A041",
         1195.08,
         "2025-06-24",
         "2025-07-15T16:41:15.224Z",
         1221,
         "2025-07-16T08:13:05.597Z",
         "2025-07-16T08:13:05.597Z"
        ],
        [
         "B01222",
         "P0174",
         "F0063",
         "A027",
         1363.82,
         "2025-07-20",
         "2025-07-15T16:41:15.224Z",
         1222,
         "2025-07-16T08:13:05.597Z",
         "2025-07-16T08:13:05.597Z"
        ],
        [
         "B01223",
         "P0118",
         "F0034",
         "A009",
         117.14,
         "2025-06-29",
         "2025-07-15T16:41:15.224Z",
         1223,
         "2025-07-16T08:13:05.597Z",
         "2025-07-16T08:13:05.597Z"
        ],
        [
         "B01224",
         "P0192",
         "F0064",
         "A016",
         148.06,
         "2025-07-01",
         "2025-07-15T16:41:15.224Z",
         1224,
         "2025-07-16T08:13:05.597Z",
         "2025-07-16T08:13:05.597Z"
        ],
        [
         "B01225",
         "P0186",
         "F0059",
         "A026",
         829.52,
         "2025-06-28",
         "2025-07-15T16:41:15.224Z",
         1225,
         "2025-07-16T08:13:05.597Z",
         "2025-07-16T08:13:05.597Z"
        ],
        [
         "B01226",
         "P0112",
         "F0089",
         "A035",
         1222.38,
         "2025-07-09",
         "2025-07-15T16:41:15.224Z",
         1226,
         "2025-07-16T08:13:05.597Z",
         "2025-07-16T08:13:05.597Z"
        ],
        [
         "B01227",
         "P0196",
         "F0068",
         "A002",
         928.8,
         "2025-07-20",
         "2025-07-15T16:41:15.224Z",
         1227,
         "2025-07-16T08:13:05.597Z",
         "2025-07-16T08:13:05.597Z"
        ],
        [
         "B01228",
         "P0129",
         "F0018",
         "A031",
         924.47,
         "2025-07-14",
         "2025-07-15T16:41:15.224Z",
         1228,
         "2025-07-16T08:13:05.597Z",
         "2025-07-16T08:13:05.597Z"
        ],
        [
         "B01229",
         "P0106",
         "F0097",
         "A040",
         1160.44,
         "2025-07-12",
         "2025-07-15T16:41:15.224Z",
         1229,
         "2025-07-16T08:13:05.597Z",
         "2025-07-16T08:13:05.597Z"
        ],
        [
         "B01230",
         "P0116",
         "F0014",
         "A036",
         263.74,
         "2025-07-03",
         "2025-07-15T16:41:15.224Z",
         1230,
         "2025-07-16T08:13:05.597Z",
         "2025-07-16T08:13:05.597Z"
        ],
        [
         "B01231",
         "P0083",
         "F0090",
         "A054",
         170.34,
         "2025-06-27",
         "2025-07-15T16:41:15.224Z",
         1231,
         "2025-07-16T08:13:05.597Z",
         "2025-07-16T08:13:05.597Z"
        ],
        [
         "B01232",
         "P0125",
         "F0043",
         "A006",
         1008.87,
         "2025-07-18",
         "2025-07-15T16:41:15.224Z",
         1232,
         "2025-07-16T08:13:05.597Z",
         "2025-07-16T08:13:05.597Z"
        ],
        [
         "B01233",
         "P0109",
         "F0079",
         "A015",
         1239.88,
         "2025-07-20",
         "2025-07-15T16:41:15.224Z",
         1233,
         "2025-07-16T08:13:05.597Z",
         "2025-07-16T08:13:05.597Z"
        ],
        [
         "B01234",
         "P0187",
         "F0047",
         "A039",
         1141.68,
         "2025-06-26",
         "2025-07-15T16:41:15.224Z",
         1234,
         "2025-07-16T08:13:05.597Z",
         "2025-07-16T08:13:05.597Z"
        ],
        [
         "B01235",
         "P0140",
         "F0033",
         "A044",
         451.76,
         "2025-07-15",
         "2025-07-15T16:41:15.224Z",
         1235,
         "2025-07-16T08:13:05.597Z",
         "2025-07-16T08:13:05.597Z"
        ],
        [
         "B01236",
         "P0097",
         "F0087",
         "A037",
         307.88,
         "2025-07-18",
         "2025-07-15T16:41:15.224Z",
         1236,
         "2025-07-16T08:13:05.597Z",
         "2025-07-16T08:13:05.597Z"
        ],
        [
         "B01237",
         "P0106",
         "F0008",
         "A002",
         1118.78,
         "2025-07-11",
         "2025-07-15T16:41:15.224Z",
         1237,
         "2025-07-16T08:13:05.597Z",
         "2025-07-16T08:13:05.597Z"
        ],
        [
         "B01238",
         "P0134",
         "F0014",
         "A043",
         792.97,
         "2025-07-21",
         "2025-07-15T16:41:15.224Z",
         1238,
         "2025-07-16T08:13:05.597Z",
         "2025-07-16T08:13:05.597Z"
        ],
        [
         "B01239",
         "P0143",
         "F0034",
         "A055",
         1019.03,
         "2025-06-26",
         "2025-07-15T16:41:15.224Z",
         1239,
         "2025-07-16T08:13:05.597Z",
         "2025-07-16T08:13:05.597Z"
        ],
        [
         "B01240",
         "P0101",
         "F0061",
         "A005",
         1131.47,
         "2025-07-18",
         "2025-07-15T16:41:15.224Z",
         1240,
         "2025-07-16T08:13:05.597Z",
         "2025-07-16T08:13:05.597Z"
        ],
        [
         "B01241",
         "P0099",
         "F0006",
         "A014",
         1209.0,
         "2025-06-26",
         "2025-07-15T16:41:15.224Z",
         1241,
         "2025-07-16T08:13:05.597Z",
         "2025-07-16T08:13:05.597Z"
        ],
        [
         "B01242",
         "P0091",
         "F0038",
         "A002",
         202.93,
         "2025-06-27",
         "2025-07-15T16:41:15.224Z",
         1242,
         "2025-07-16T08:13:05.597Z",
         "2025-07-16T08:13:05.597Z"
        ],
        [
         "B01243",
         "P0049",
         "F0043",
         "A041",
         1454.44,
         "2025-07-17",
         "2025-07-15T16:41:15.224Z",
         1243,
         "2025-07-16T08:13:05.597Z",
         "2025-07-16T08:13:05.597Z"
        ],
        [
         "B01244",
         "P0167",
         "F0071",
         "A018",
         1044.51,
         "2025-07-20",
         "2025-07-15T16:41:15.224Z",
         1244,
         "2025-07-16T08:13:05.597Z",
         "2025-07-16T08:13:05.597Z"
        ],
        [
         "B01245",
         "P0130",
         "F0078",
         "A050",
         336.97,
         "2025-06-29",
         "2025-07-15T16:41:15.224Z",
         1245,
         "2025-07-16T08:13:05.597Z",
         "2025-07-16T08:13:05.597Z"
        ],
        [
         "B01246",
         "P0091",
         "F0077",
         "A050",
         371.42,
         "2025-07-17",
         "2025-07-15T16:41:15.224Z",
         1246,
         "2025-07-16T08:13:05.597Z",
         "2025-07-16T08:13:05.597Z"
        ],
        [
         "B01247",
         "P0127",
         "F0042",
         "A051",
         1163.09,
         "2025-07-09",
         "2025-07-15T16:41:15.224Z",
         1247,
         "2025-07-16T08:13:05.597Z",
         "2025-07-16T08:13:05.597Z"
        ],
        [
         "B01248",
         "P0215",
         "F0005",
         "A041",
         918.32,
         "2025-06-23",
         "2025-07-15T16:41:15.224Z",
         1248,
         "2025-07-16T08:13:05.597Z",
         "2025-07-16T08:13:05.597Z"
        ],
        [
         "B01249",
         "P0125",
         "F0019",
         "A033",
         1360.6,
         "2025-07-19",
         "2025-07-15T16:41:15.224Z",
         1249,
         "2025-07-16T08:13:05.597Z",
         "2025-07-16T08:13:05.597Z"
        ],
        [
         "B01250",
         "P0178",
         "F0059",
         "A036",
         845.06,
         "2025-06-23",
         "2025-07-15T16:41:15.224Z",
         1250,
         "2025-07-16T08:13:05.597Z",
         "2025-07-16T08:13:05.597Z"
        ],
        [
         "B01251",
         "P0217",
         "F0036",
         "A016",
         642.96,
         "2025-07-07",
         "2025-07-15T16:41:15.224Z",
         1251,
         "2025-07-16T08:13:05.597Z",
         "2025-07-16T08:13:05.597Z"
        ],
        [
         "B01252",
         "P0053",
         "F0102",
         "A022",
         289.89,
         "2025-07-10",
         "2025-07-15T16:41:15.224Z",
         1252,
         "2025-07-16T08:13:05.597Z",
         "2025-07-16T08:13:05.597Z"
        ],
        [
         "B01253",
         "P0098",
         "F0015",
         "A034",
         1195.35,
         "2025-06-26",
         "2025-07-15T16:41:15.224Z",
         1253,
         "2025-07-16T08:13:05.597Z",
         "2025-07-16T08:13:05.597Z"
        ],
        [
         "B01254",
         "P0066",
         "F0063",
         "A047",
         911.24,
         "2025-07-04",
         "2025-07-15T16:41:15.224Z",
         1254,
         "2025-07-16T08:13:05.597Z",
         "2025-07-16T08:13:05.597Z"
        ],
        [
         "B01255",
         "P0011",
         "F0077",
         "A052",
         725.24,
         "2025-07-14",
         "2025-07-15T16:41:15.224Z",
         1255,
         "2025-07-16T08:13:05.597Z",
         "2025-07-16T08:13:05.597Z"
        ],
        [
         "B01256",
         "P0100",
         "F0016",
         "A013",
         367.23,
         "2025-06-29",
         "2025-07-15T16:41:15.224Z",
         1256,
         "2025-07-16T08:13:05.597Z",
         "2025-07-16T08:13:05.597Z"
        ],
        [
         "B01257",
         "P0085",
         "F0046",
         "A052",
         1129.17,
         "2025-06-27",
         "2025-07-15T16:41:15.224Z",
         1257,
         "2025-07-16T08:13:05.597Z",
         "2025-07-16T08:13:05.597Z"
        ],
        [
         "B01258",
         "P0024",
         "F0027",
         "A014",
         160.7,
         "2025-07-02",
         "2025-07-15T16:41:15.224Z",
         1258,
         "2025-07-16T08:13:05.597Z",
         "2025-07-16T08:13:05.597Z"
        ],
        [
         "B01259",
         "P0217",
         "F0079",
         "A054",
         342.57,
         "2025-07-08",
         "2025-07-15T16:41:15.224Z",
         1259,
         "2025-07-16T08:13:05.597Z",
         "2025-07-16T08:13:05.597Z"
        ],
        [
         "B01260",
         "P0012",
         "F0062",
         "A005",
         770.85,
         "2025-06-23",
         "2025-07-15T16:41:15.224Z",
         1260,
         "2025-07-16T08:13:05.597Z",
         "2025-07-16T08:13:05.597Z"
        ],
        [
         "B01261",
         "P0115",
         "F0078",
         "A017",
         1324.56,
         "2025-07-02",
         "2025-07-15T16:41:15.224Z",
         1261,
         "2025-07-16T08:13:05.597Z",
         "2025-07-16T08:13:05.597Z"
        ],
        [
         "B01262",
         "P0078",
         "F0100",
         "A025",
         777.64,
         "2025-07-14",
         "2025-07-15T16:41:15.224Z",
         1262,
         "2025-07-16T08:13:05.597Z",
         "2025-07-16T08:13:05.597Z"
        ],
        [
         "B01263",
         "P0087",
         "F0003",
         "A049",
         423.25,
         "2025-07-11",
         "2025-07-15T16:41:15.224Z",
         1263,
         "2025-07-16T08:13:05.597Z",
         "2025-07-16T08:13:05.597Z"
        ],
        [
         "B01264",
         "P0052",
         "F0018",
         "A045",
         1392.68,
         "2025-07-16",
         "2025-07-15T16:41:15.224Z",
         1264,
         "2025-07-16T08:13:05.597Z",
         "2025-07-16T08:13:05.597Z"
        ],
        [
         "B01265",
         "P0170",
         "F0017",
         "A040",
         909.64,
         "2025-07-02",
         "2025-07-15T16:41:15.224Z",
         1265,
         "2025-07-16T08:13:05.597Z",
         "2025-07-16T08:13:05.597Z"
        ],
        [
         "B01266",
         "P0218",
         "F0056",
         "A027",
         890.52,
         "2025-07-06",
         "2025-07-15T16:41:15.224Z",
         1266,
         "2025-07-16T08:13:05.597Z",
         "2025-07-16T08:13:05.597Z"
        ],
        [
         "B01267",
         "P0168",
         "F0106",
         "A042",
         635.28,
         "2025-06-27",
         "2025-07-15T16:41:15.224Z",
         1267,
         "2025-07-16T08:13:05.597Z",
         "2025-07-16T08:13:05.597Z"
        ],
        [
         "B01268",
         "P0089",
         "F0097",
         "A004",
         707.13,
         "2025-06-24",
         "2025-07-15T16:41:15.224Z",
         1268,
         "2025-07-16T08:13:05.597Z",
         "2025-07-16T08:13:05.597Z"
        ],
        [
         "B01269",
         "P0022",
         "F0070",
         "A048",
         1362.51,
         "2025-07-21",
         "2025-07-15T16:41:15.224Z",
         1269,
         "2025-07-16T08:13:05.597Z",
         "2025-07-16T08:13:05.597Z"
        ],
        [
         "B01270",
         "P0064",
         "F0043",
         "A030",
         968.7,
         "2025-07-05",
         "2025-07-15T16:41:15.224Z",
         1270,
         "2025-07-16T08:13:05.597Z",
         "2025-07-16T08:13:05.597Z"
        ],
        [
         "B01271",
         "P0184",
         "F0048",
         "A001",
         1082.21,
         "2025-07-18",
         "2025-07-15T16:41:15.224Z",
         1271,
         "2025-07-16T08:13:05.597Z",
         "2025-07-16T08:13:05.597Z"
        ],
        [
         "B01272",
         "P0219",
         "F0090",
         "A051",
         1195.83,
         "2025-07-16",
         "2025-07-15T16:41:15.224Z",
         1272,
         "2025-07-16T08:13:05.597Z",
         "2025-07-16T08:13:05.597Z"
        ],
        [
         "B01273",
         "P0102",
         "F0069",
         "A030",
         1440.81,
         "2025-07-20",
         "2025-07-15T16:41:15.224Z",
         1273,
         "2025-07-16T08:13:05.597Z",
         "2025-07-16T08:13:05.597Z"
        ],
        [
         "B01274",
         "P0014",
         "F0040",
         "A049",
         1355.32,
         "2025-06-23",
         "2025-07-15T16:41:15.224Z",
         1274,
         "2025-07-16T08:13:05.597Z",
         "2025-07-16T08:13:05.597Z"
        ],
        [
         "B01275",
         "P0210",
         "F0037",
         "A047",
         756.19,
         "2025-06-24",
         "2025-07-15T16:41:15.224Z",
         1275,
         "2025-07-16T08:13:05.597Z",
         "2025-07-16T08:13:05.597Z"
        ],
        [
         "B01276",
         "P0107",
         "F0041",
         "A009",
         803.6,
         "2025-07-03",
         "2025-07-15T16:41:15.224Z",
         1276,
         "2025-07-16T08:13:05.597Z",
         "2025-07-16T08:13:05.597Z"
        ],
        [
         "B01277",
         "P0109",
         "F0024",
         "A050",
         621.95,
         "2025-06-26",
         "2025-07-15T16:41:15.224Z",
         1277,
         "2025-07-16T08:13:05.597Z",
         "2025-07-16T08:13:05.597Z"
        ],
        [
         "B01278",
         "P0142",
         "F0058",
         "A040",
         640.27,
         "2025-07-19",
         "2025-07-15T16:41:15.224Z",
         1278,
         "2025-07-16T08:13:05.597Z",
         "2025-07-16T08:13:05.597Z"
        ],
        [
         "B01279",
         "P0025",
         "F0104",
         "A036",
         1314.94,
         "2025-06-26",
         "2025-07-15T16:41:15.224Z",
         1279,
         "2025-07-16T08:13:05.597Z",
         "2025-07-16T08:13:05.597Z"
        ],
        [
         "B01280",
         "P0091",
         "F0056",
         "A027",
         101.07,
         "2025-07-03",
         "2025-07-15T16:41:15.224Z",
         1280,
         "2025-07-16T08:13:05.597Z",
         "2025-07-16T08:13:05.597Z"
        ],
        [
         "B01281",
         "P0068",
         "F0031",
         "A047",
         229.58,
         "2025-07-05",
         "2025-07-15T16:41:15.224Z",
         1281,
         "2025-07-16T08:13:05.597Z",
         "2025-07-16T08:13:05.597Z"
        ],
        [
         "B01282",
         "P0212",
         "F0095",
         "A042",
         1269.94,
         "2025-07-04",
         "2025-07-15T16:41:15.224Z",
         1282,
         "2025-07-16T08:13:05.597Z",
         "2025-07-16T08:13:05.597Z"
        ],
        [
         "B01283",
         "P0110",
         "F0077",
         "A038",
         123.76,
         "2025-06-26",
         "2025-07-15T16:41:15.224Z",
         1283,
         "2025-07-16T08:13:05.597Z",
         "2025-07-16T08:13:05.597Z"
        ],
        [
         "B01284",
         "P0039",
         "F0106",
         "A044",
         1309.32,
         "2025-07-04",
         "2025-07-15T16:41:15.224Z",
         1284,
         "2025-07-16T08:13:05.597Z",
         "2025-07-16T08:13:05.597Z"
        ],
        [
         "B01285",
         "P0028",
         "F0034",
         "A031",
         943.69,
         "2025-06-28",
         "2025-07-15T16:41:15.224Z",
         1285,
         "2025-07-16T08:13:05.597Z",
         "2025-07-16T08:13:05.597Z"
        ],
        [
         "B01286",
         "P0056",
         "F0077",
         "A024",
         395.62,
         "2025-07-06",
         "2025-07-15T16:41:15.224Z",
         1286,
         "2025-07-16T08:13:05.597Z",
         "2025-07-16T08:13:05.597Z"
        ],
        [
         "B01287",
         "P0044",
         "F0010",
         "A007",
         325.9,
         "2025-06-25",
         "2025-07-15T16:41:15.224Z",
         1287,
         "2025-07-16T08:13:05.597Z",
         "2025-07-16T08:13:05.597Z"
        ],
        [
         "B01288",
         "P0164",
         "F0053",
         "A002",
         432.21,
         "2025-07-02",
         "2025-07-15T16:41:15.224Z",
         1288,
         "2025-07-16T08:13:05.597Z",
         "2025-07-16T08:13:05.597Z"
        ],
        [
         "B01289",
         "P0076",
         "F0047",
         "A035",
         840.83,
         "2025-07-07",
         "2025-07-15T16:41:15.224Z",
         1289,
         "2025-07-16T08:13:05.597Z",
         "2025-07-16T08:13:05.597Z"
        ],
        [
         "B01290",
         "P0018",
         "F0049",
         "A012",
         562.36,
         "2025-07-10",
         "2025-07-15T16:41:15.224Z",
         1290,
         "2025-07-16T08:13:05.597Z",
         "2025-07-16T08:13:05.597Z"
        ],
        [
         "B01291",
         "P0134",
         "F0109",
         "A046",
         836.51,
         "2025-06-30",
         "2025-07-15T16:41:15.224Z",
         1291,
         "2025-07-16T08:13:05.597Z",
         "2025-07-16T08:13:05.597Z"
        ],
        [
         "B01292",
         "P0185",
         "F0060",
         "A053",
         1175.36,
         "2025-07-06",
         "2025-07-15T16:41:15.224Z",
         1292,
         "2025-07-16T08:13:05.597Z",
         "2025-07-16T08:13:05.597Z"
        ],
        [
         "B01293",
         "P0142",
         "F0099",
         "A029",
         992.76,
         "2025-07-11",
         "2025-07-15T16:41:15.224Z",
         1293,
         "2025-07-16T08:13:05.597Z",
         "2025-07-16T08:13:05.597Z"
        ],
        [
         "B01294",
         "P0143",
         "F0016",
         "A009",
         1308.75,
         "2025-07-09",
         "2025-07-15T16:41:15.224Z",
         1294,
         "2025-07-16T08:13:05.597Z",
         "2025-07-16T08:13:05.597Z"
        ],
        [
         "B01295",
         "P0171",
         "F0058",
         "A028",
         661.93,
         "2025-06-24",
         "2025-07-15T16:41:15.224Z",
         1295,
         "2025-07-16T08:13:05.597Z",
         "2025-07-16T08:13:05.597Z"
        ],
        [
         "B01296",
         "P0117",
         "F0091",
         "A047",
         939.21,
         "2025-07-13",
         "2025-07-15T16:41:15.224Z",
         1296,
         "2025-07-16T08:13:05.597Z",
         "2025-07-16T08:13:05.597Z"
        ],
        [
         "B01297",
         "P0172",
         "F0052",
         "A033",
         104.56,
         "2025-07-08",
         "2025-07-15T16:41:15.224Z",
         1297,
         "2025-07-16T08:13:05.597Z",
         "2025-07-16T08:13:05.597Z"
        ],
        [
         "B01298",
         "P0123",
         "F0051",
         "A003",
         1062.01,
         "2025-07-12",
         "2025-07-15T16:41:15.224Z",
         1298,
         "2025-07-16T08:13:05.597Z",
         "2025-07-16T08:13:05.597Z"
        ],
        [
         "B01299",
         "P0150",
         "F0005",
         "A046",
         118.13,
         "2025-07-19",
         "2025-07-15T16:41:15.224Z",
         1299,
         "2025-07-16T08:13:05.597Z",
         "2025-07-16T08:13:05.597Z"
        ],
        [
         "B01300",
         "P0148",
         "F0031",
         "A002",
         318.47,
         "2025-06-27",
         "2025-07-15T16:41:15.224Z",
         1300,
         "2025-07-16T08:13:05.597Z",
         "2025-07-16T08:13:05.597Z"
        ]
       ],
       "datasetInfos": [
        {
         "name": "_sqldf",
         "schema": {
          "fields": [
           {
            "metadata": {},
            "name": "booking_id",
            "nullable": true,
            "type": "string"
           },
           {
            "metadata": {},
            "name": "passenger_id",
            "nullable": true,
            "type": "string"
           },
           {
            "metadata": {},
            "name": "flight_id",
            "nullable": true,
            "type": "string"
           },
           {
            "metadata": {},
            "name": "airport_id",
            "nullable": true,
            "type": "string"
           },
           {
            "metadata": {},
            "name": "amount",
            "nullable": true,
            "type": "double"
           },
           {
            "metadata": {},
            "name": "booking_date",
            "nullable": true,
            "type": "date"
           },
           {
            "metadata": {},
            "name": "modifiedDate",
            "nullable": true,
            "type": "timestamp"
           },
           {
            "metadata": {},
            "name": "DimBookingsKey",
            "nullable": true,
            "type": "long"
           },
           {
            "metadata": {},
            "name": "create_date",
            "nullable": true,
            "type": "timestamp"
           },
           {
            "metadata": {},
            "name": "update_date",
            "nullable": true,
            "type": "timestamp"
           }
          ],
          "type": "struct"
         },
         "tableIdentifier": null,
         "typeStr": "pyspark.sql.connect.dataframe.DataFrame"
        }
       ],
       "dbfsResultPath": null,
       "isJsonSchema": true,
       "metadata": {
        "createTempViewForImplicitDf": true,
        "dataframeName": "_sqldf",
        "executionCount": 65
       },
       "overflow": false,
       "plotOptions": {
        "customPlotOptions": {},
        "displayType": "table",
        "pivotAggregation": null,
        "pivotColumns": null,
        "xColumns": null,
        "yColumns": null
       },
       "removedWidgets": [],
       "schema": [
        {
         "metadata": "{}",
         "name": "booking_id",
         "type": "\"string\""
        },
        {
         "metadata": "{}",
         "name": "passenger_id",
         "type": "\"string\""
        },
        {
         "metadata": "{}",
         "name": "flight_id",
         "type": "\"string\""
        },
        {
         "metadata": "{}",
         "name": "airport_id",
         "type": "\"string\""
        },
        {
         "metadata": "{}",
         "name": "amount",
         "type": "\"double\""
        },
        {
         "metadata": "{}",
         "name": "booking_date",
         "type": "\"date\""
        },
        {
         "metadata": "{}",
         "name": "modifiedDate",
         "type": "\"timestamp\""
        },
        {
         "metadata": "{}",
         "name": "DimBookingsKey",
         "type": "\"long\""
        },
        {
         "metadata": "{}",
         "name": "create_date",
         "type": "\"timestamp\""
        },
        {
         "metadata": "{}",
         "name": "update_date",
         "type": "\"timestamp\""
        }
       ],
       "type": "table"
      }
     },
     "output_type": "display_data"
    }
   ],
   "source": [
    "%sql\n",
    "SELECT * FROM workspace.gold.dimbookings"
   ]
  },
  {
   "cell_type": "code",
   "execution_count": 0,
   "metadata": {
    "application/vnd.databricks.v1+cell": {
     "cellMetadata": {
      "byteLimit": 2048000,
      "implicitDf": true,
      "rowLimit": 10000
     },
     "inputWidgets": {},
     "nuid": "0685c50f-9983-4a60-bcdc-0680781d3caa",
     "showTitle": false,
     "tableResultSettingsMap": {},
     "title": ""
    }
   },
   "outputs": [
    {
     "output_type": "display_data",
     "data": {
      "text/html": [
       "<style scoped>\n",
       "  .table-result-container {\n",
       "    max-height: 300px;\n",
       "    overflow: auto;\n",
       "  }\n",
       "  table, th, td {\n",
       "    border: 1px solid black;\n",
       "    border-collapse: collapse;\n",
       "  }\n",
       "  th, td {\n",
       "    padding: 5px;\n",
       "  }\n",
       "  th {\n",
       "    text-align: left;\n",
       "  }\n",
       "</style><div class='table-result-container'><table class='table-result'><thead style='background-color: white'><tr><th>passenger_id</th><th>name</th><th>gender</th><th>nationality</th><th>modifiedDate</th><th>DimPassengersKey</th><th>create_date</th><th>update_date</th></tr></thead><tbody><tr><td>P0049</td><td>Justin Thomas</td><td>Female</td><td>Tokelau</td><td>2025-07-16T08:26:59.574Z</td><td>7</td><td>2025-07-16T08:07:11.208Z</td><td>2025-07-16T08:33:39.553Z</td></tr></tbody></table></div>"
      ]
     },
     "metadata": {
      "application/vnd.databricks.v1+output": {
       "addedWidgets": {},
       "aggData": [],
       "aggError": "",
       "aggOverflow": false,
       "aggSchema": [],
       "aggSeriesLimitReached": false,
       "aggType": "",
       "arguments": {},
       "columnCustomDisplayInfos": {},
       "data": [
        [
         "P0049",
         "Justin Thomas",
         "Female",
         "Tokelau",
         "2025-07-16T08:26:59.574Z",
         7,
         "2025-07-16T08:07:11.208Z",
         "2025-07-16T08:33:39.553Z"
        ]
       ],
       "datasetInfos": [
        {
         "name": "_sqldf",
         "schema": {
          "fields": [
           {
            "metadata": {},
            "name": "passenger_id",
            "nullable": true,
            "type": "string"
           },
           {
            "metadata": {},
            "name": "name",
            "nullable": true,
            "type": "string"
           },
           {
            "metadata": {},
            "name": "gender",
            "nullable": true,
            "type": "string"
           },
           {
            "metadata": {},
            "name": "nationality",
            "nullable": true,
            "type": "string"
           },
           {
            "metadata": {},
            "name": "modifiedDate",
            "nullable": true,
            "type": "timestamp"
           },
           {
            "metadata": {},
            "name": "DimPassengersKey",
            "nullable": true,
            "type": "long"
           },
           {
            "metadata": {},
            "name": "create_date",
            "nullable": true,
            "type": "timestamp"
           },
           {
            "metadata": {},
            "name": "update_date",
            "nullable": true,
            "type": "timestamp"
           }
          ],
          "type": "struct"
         },
         "tableIdentifier": null,
         "typeStr": "pyspark.sql.connect.dataframe.DataFrame"
        }
       ],
       "dbfsResultPath": null,
       "isJsonSchema": true,
       "metadata": {
        "createTempViewForImplicitDf": true,
        "dataframeName": "_sqldf",
        "executionCount": 66
       },
       "overflow": false,
       "plotOptions": {
        "customPlotOptions": {},
        "displayType": "table",
        "pivotAggregation": null,
        "pivotColumns": null,
        "xColumns": null,
        "yColumns": null
       },
       "removedWidgets": [],
       "schema": [
        {
         "metadata": "{}",
         "name": "passenger_id",
         "type": "\"string\""
        },
        {
         "metadata": "{}",
         "name": "name",
         "type": "\"string\""
        },
        {
         "metadata": "{}",
         "name": "gender",
         "type": "\"string\""
        },
        {
         "metadata": "{}",
         "name": "nationality",
         "type": "\"string\""
        },
        {
         "metadata": "{}",
         "name": "modifiedDate",
         "type": "\"timestamp\""
        },
        {
         "metadata": "{}",
         "name": "DimPassengersKey",
         "type": "\"long\""
        },
        {
         "metadata": "{}",
         "name": "create_date",
         "type": "\"timestamp\""
        },
        {
         "metadata": "{}",
         "name": "update_date",
         "type": "\"timestamp\""
        }
       ],
       "type": "table"
      }
     },
     "output_type": "display_data"
    }
   ],
   "source": [
    "%sql\n",
    "SELECT * FROM workspace.gold.dimpassengers where passenger_id = 'P0049'"
   ]
  },
  {
   "cell_type": "markdown",
   "metadata": {
    "application/vnd.databricks.v1+cell": {
     "cellMetadata": {},
     "inputWidgets": {},
     "nuid": "a436504b-464e-46ad-bcd8-cfdc8bcb310c",
     "showTitle": false,
     "tableResultSettingsMap": {},
     "title": ""
    }
   },
   "source": [
    "---"
   ]
  }
 ],
 "metadata": {
  "application/vnd.databricks.v1+notebook": {
   "computePreferences": null,
   "dashboards": [],
   "environmentMetadata": {
    "base_environment": "",
    "environment_version": "2"
   },
   "inputWidgetPreferences": null,
   "language": "python",
   "notebookMetadata": {
    "mostRecentlyExecutedCommandWithImplicitDF": {
     "commandId": 4803925343301567,
     "dataframes": [
      "_sqldf"
     ]
    },
    "pythonIndentUnit": 4
   },
   "notebookName": "GOLD_DIMS",
   "widgets": {
    "backdated_refresh": {
     "currentValue": "",
     "nuid": "76f1c2b3-80ea-4af2-9980-ec2e903264bc",
     "typedWidgetInfo": {
      "autoCreated": false,
      "defaultValue": "",
      "label": null,
      "name": "backdated_refresh",
      "options": {
       "widgetDisplayType": "Text",
       "validationRegex": null
      },
      "parameterDataType": "String"
     },
     "widgetInfo": {
      "widgetType": "text",
      "defaultValue": "",
      "label": null,
      "name": "backdated_refresh",
      "options": {
       "widgetType": "text",
       "autoCreated": null,
       "validationRegex": null
      }
     }
    },
    "cdccol": {
     "currentValue": "",
     "nuid": "cd9142fd-acd2-4e1a-bdb8-6109b0c21465",
     "typedWidgetInfo": {
      "autoCreated": false,
      "defaultValue": "",
      "label": null,
      "name": "cdccol",
      "options": {
       "widgetDisplayType": "Text",
       "validationRegex": null
      },
      "parameterDataType": "String"
     },
     "widgetInfo": {
      "widgetType": "text",
      "defaultValue": "",
      "label": null,
      "name": "cdccol",
      "options": {
       "widgetType": "text",
       "autoCreated": null,
       "validationRegex": null
      }
     }
    },
    "keycols": {
     "currentValue": "[\"flight_id\"]",
     "nuid": "ce7f53e0-4eed-493a-a39d-2250f17090c0",
     "typedWidgetInfo": {
      "autoCreated": false,
      "defaultValue": "",
      "label": null,
      "name": "keycols",
      "options": {
       "widgetDisplayType": "Text",
       "validationRegex": null
      },
      "parameterDataType": "String"
     },
     "widgetInfo": {
      "widgetType": "text",
      "defaultValue": "",
      "label": null,
      "name": "keycols",
      "options": {
       "widgetType": "text",
       "autoCreated": null,
       "validationRegex": null
      }
     }
    },
    "soucer_schema": {
     "currentValue": "",
     "nuid": "80aa26d4-f543-4896-b441-8619775d7e82",
     "typedWidgetInfo": {
      "autoCreated": false,
      "defaultValue": "",
      "label": null,
      "name": "soucer_schema",
      "options": {
       "widgetDisplayType": "Text",
       "validationRegex": null
      },
      "parameterDataType": "String"
     },
     "widgetInfo": {
      "widgetType": "text",
      "defaultValue": "",
      "label": null,
      "name": "soucer_schema",
      "options": {
       "widgetType": "text",
       "autoCreated": false,
       "validationRegex": null
      }
     }
    }
   }
  },
  "language_info": {
   "name": "python"
  }
 },
 "nbformat": 4,
 "nbformat_minor": 0
}